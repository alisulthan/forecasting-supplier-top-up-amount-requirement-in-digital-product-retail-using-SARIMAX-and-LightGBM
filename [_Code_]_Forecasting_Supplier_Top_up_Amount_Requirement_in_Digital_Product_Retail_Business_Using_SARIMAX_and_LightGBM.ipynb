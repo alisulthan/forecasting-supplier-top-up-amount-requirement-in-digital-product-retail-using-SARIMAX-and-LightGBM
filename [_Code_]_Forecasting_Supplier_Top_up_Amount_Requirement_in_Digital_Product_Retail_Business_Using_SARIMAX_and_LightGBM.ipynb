{
  "nbformat": 4,
  "nbformat_minor": 0,
  "metadata": {
    "colab": {
      "provenance": [],
      "collapsed_sections": [
        "bX-365CzO5Yt"
      ]
    },
    "kernelspec": {
      "name": "python3",
      "display_name": "Python 3"
    },
    "language_info": {
      "name": "python"
    }
  },
  "cells": [
    {
      "cell_type": "markdown",
      "source": [
        "# 1) Install & Import"
      ],
      "metadata": {
        "id": "5iZXKmVM4Ce_"
      }
    },
    {
      "cell_type": "code",
      "execution_count": 1,
      "metadata": {
        "id": "TU1hEloW3s04",
        "colab": {
          "base_uri": "https://localhost:8080/"
        },
        "outputId": "24d8b22b-74ef-4133-eb4c-7391545c3c79"
      },
      "outputs": [
        {
          "output_type": "stream",
          "name": "stdout",
          "text": [
            "Requirement already satisfied: utilsforecast in c:\\users\\alisu\\anaconda3\\lib\\site-packages (0.0.19)\n",
            "Requirement already satisfied: window_ops in c:\\users\\alisu\\anaconda3\\lib\\site-packages (0.0.14)\n",
            "Requirement already satisfied: sktime in c:\\users\\alisu\\anaconda3\\lib\\site-packages (0.24.1)\n",
            "Requirement already satisfied: numpy in c:\\users\\alisu\\anaconda3\\lib\\site-packages (from utilsforecast) (1.24.3)\n",
            "Requirement already satisfied: packaging in c:\\users\\alisu\\anaconda3\\lib\\site-packages (from utilsforecast) (23.1)\n",
            "Requirement already satisfied: pandas>=1.1.1 in c:\\users\\alisu\\anaconda3\\lib\\site-packages (from utilsforecast) (2.0.3)\n",
            "Requirement already satisfied: numba in c:\\users\\alisu\\anaconda3\\lib\\site-packages (from window_ops) (0.57.1)\n",
            "Requirement already satisfied: scikit-base<0.7.0 in c:\\users\\alisu\\anaconda3\\lib\\site-packages (from sktime) (0.6.1)\n",
            "Requirement already satisfied: scikit-learn<1.4.0,>=0.24 in c:\\users\\alisu\\anaconda3\\lib\\site-packages (from sktime) (1.3.0)\n",
            "Requirement already satisfied: scipy<2.0.0,>=1.2 in c:\\users\\alisu\\anaconda3\\lib\\site-packages (from sktime) (1.11.1)\n",
            "Requirement already satisfied: python-dateutil>=2.8.2 in c:\\users\\alisu\\anaconda3\\lib\\site-packages (from pandas>=1.1.1->utilsforecast) (2.8.2)\n",
            "Requirement already satisfied: pytz>=2020.1 in c:\\users\\alisu\\anaconda3\\lib\\site-packages (from pandas>=1.1.1->utilsforecast) (2023.3.post1)\n",
            "Requirement already satisfied: tzdata>=2022.1 in c:\\users\\alisu\\anaconda3\\lib\\site-packages (from pandas>=1.1.1->utilsforecast) (2023.3)\n",
            "Requirement already satisfied: joblib>=1.1.1 in c:\\users\\alisu\\anaconda3\\lib\\site-packages (from scikit-learn<1.4.0,>=0.24->sktime) (1.2.0)\n",
            "Requirement already satisfied: threadpoolctl>=2.0.0 in c:\\users\\alisu\\anaconda3\\lib\\site-packages (from scikit-learn<1.4.0,>=0.24->sktime) (2.2.0)\n",
            "Requirement already satisfied: llvmlite<0.41,>=0.40.0dev0 in c:\\users\\alisu\\anaconda3\\lib\\site-packages (from numba->window_ops) (0.40.0)\n",
            "Requirement already satisfied: six>=1.5 in c:\\users\\alisu\\anaconda3\\lib\\site-packages (from python-dateutil>=2.8.2->pandas>=1.1.1->utilsforecast) (1.16.0)\n"
          ]
        }
      ],
      "source": [
        "# General\n",
        "# --------------------------------\n",
        "import pandas as pd\n",
        "import numpy as np\n",
        "import matplotlib.pyplot as plt\n",
        "%matplotlib inline\n",
        "import plotly\n",
        "import plotly.graph_objects as go\n",
        "from time import time\n",
        "\n",
        "# Time Series\n",
        "# --------------------------------\n",
        "!pip install utilsforecast window_ops sktime\n",
        "\n",
        "# window ops is time series statistics alternative to pandas/numpy with numba jitted wrapper for faster speed\n",
        "from window_ops.rolling import rolling_mean, rolling_std, seasonal_rolling_mean, seasonal_rolling_std\n",
        "from window_ops.ewm import ewm_mean\n",
        "\n",
        "# utilsforecast is Nixtla forecast library to support various forecasting activity\n",
        "from utilsforecast.plotting import plot_series\n",
        "from utilsforecast.losses import mae, rmse, mape\n",
        "from utilsforecast.evaluation import evaluate\n",
        "from utilsforecast.preprocessing import fill_gaps\n",
        "\n",
        "# for encoding seasonal day of month dummy\n",
        "from sklearn.preprocessing import OneHotEncoder\n",
        "\n"
      ]
    },
    {
      "cell_type": "markdown",
      "source": [
        "# 2) Data Load & Cleaning"
      ],
      "metadata": {
        "id": "ZBW897zs4qK0"
      }
    },
    {
      "cell_type": "markdown",
      "source": [
        "## a. Load Data"
      ],
      "metadata": {
        "id": "F3HERJcba1XQ"
      }
    },
    {
      "cell_type": "code",
      "source": [
        "#Load the train  & test data\n",
        "\n",
        "train = pd.read_excel(\"Train_Masked.xlsx\")\n",
        "train['ds'] = pd.to_datetime(train['ds'])\n",
        "\n",
        "test = pd.read_excel(\"Test_Masked.xlsx\")\n",
        "test['ds'] = pd.to_datetime(test['ds'])\n",
        "\n",
        "print(train.shape)\n",
        "print(train.tail(2))\n",
        "print(test.shape)\n",
        "print(test.tail(2))"
      ],
      "metadata": {
        "id": "oUlaBbJp665P",
        "colab": {
          "base_uri": "https://localhost:8080/"
        },
        "outputId": "071276bd-6d3c-4d7e-d199-776173624a08"
      },
      "execution_count": 2,
      "outputs": [
        {
          "output_type": "stream",
          "name": "stdout",
          "text": [
            "(7561, 3)\n",
            "     unique_id         ds             y\n",
            "7559         w 2023-11-01  1.371468e+08\n",
            "7560         x 2023-11-01  5.859256e+09\n",
            "(168, 3)\n",
            "    unique_id         ds             y\n",
            "166         g 2023-11-21  4.849416e+08\n",
            "167         g 2023-11-20  7.802561e+08\n"
          ]
        }
      ]
    },
    {
      "cell_type": "code",
      "source": [
        "#check type\n",
        "\n",
        "print(train.dtypes)\n",
        "print(test.dtypes)"
      ],
      "metadata": {
        "colab": {
          "base_uri": "https://localhost:8080/"
        },
        "id": "-KsBl2uGVaBz",
        "outputId": "1ef83f0f-3216-47fc-f6fd-7b8b0fd0e5cd"
      },
      "execution_count": null,
      "outputs": [
        {
          "output_type": "stream",
          "name": "stdout",
          "text": [
            "unique_id            object\n",
            "ds           datetime64[ns]\n",
            "y                     int64\n",
            "dtype: object\n",
            "unique_id            object\n",
            "ds           datetime64[ns]\n",
            "y                     int64\n",
            "dtype: object\n"
          ]
        }
      ]
    },
    {
      "cell_type": "markdown",
      "source": [
        "Sort Data by each unique_id & ds"
      ],
      "metadata": {
        "id": "cwnFda0ehRcK"
      }
    },
    {
      "cell_type": "code",
      "source": [
        "# Sort data by each unique_id & ds\n",
        "\n",
        "train = train.sort_values(['unique_id', 'ds']).reset_index(drop=True)\n",
        "print(train.head(2))\n",
        "\n",
        "test = test.sort_values(['unique_id', 'ds']).reset_index(drop=True)\n",
        "print(test.head(2))"
      ],
      "metadata": {
        "id": "nKvnopNR850p",
        "colab": {
          "base_uri": "https://localhost:8080/"
        },
        "outputId": "de3836b1-ab90-48bd-e2d2-9304641621e5"
      },
      "execution_count": 3,
      "outputs": [
        {
          "output_type": "stream",
          "name": "stdout",
          "text": [
            "  unique_id         ds             y\n",
            "0         a 2023-02-15  1.648533e+07\n",
            "1         a 2023-02-16  1.373972e+07\n",
            "  unique_id         ds             y\n",
            "0         a 2023-11-20  2.374394e+07\n",
            "1         a 2023-11-21  2.482359e+07\n"
          ]
        }
      ]
    },
    {
      "cell_type": "markdown",
      "source": [
        "## b. Fill Missing Data"
      ],
      "metadata": {
        "id": "gGxQEvoAa-pz"
      }
    },
    {
      "cell_type": "markdown",
      "source": [
        "### i. Fill gabs each unique_id using global start & end"
      ],
      "metadata": {
        "id": "zDrMs6yBhdtM"
      }
    },
    {
      "cell_type": "code",
      "source": [
        "# both train & test don't have missing data\n",
        "\n",
        "print(train.isna().sum().sum())\n",
        "print(test.isna().sum().sum())"
      ],
      "metadata": {
        "colab": {
          "base_uri": "https://localhost:8080/"
        },
        "id": "syVDNpEBhFdZ",
        "outputId": "afa27df3-d1f8-4f49-c1cf-261b47f96433"
      },
      "execution_count": 4,
      "outputs": [
        {
          "output_type": "stream",
          "name": "stdout",
          "text": [
            "0\n",
            "0\n"
          ]
        }
      ]
    },
    {
      "cell_type": "code",
      "source": [
        "# instead each unique_id has different start and end ds\n",
        "# test data already has the same start and end ds\n",
        "\n",
        "train.groupby('unique_id')['y'].nunique()"
      ],
      "metadata": {
        "id": "zAWxGku_iaMs",
        "colab": {
          "base_uri": "https://localhost:8080/"
        },
        "outputId": "0a09b343-92b3-4d6d-9370-8fe3247c6d69"
      },
      "execution_count": 5,
      "outputs": [
        {
          "output_type": "execute_result",
          "data": {
            "text/plain": [
              "unique_id\n",
              "a    278\n",
              "b    285\n",
              "c    323\n",
              "d    323\n",
              "e    323\n",
              "f    323\n",
              "g    303\n",
              "h    322\n",
              "i    323\n",
              "j    323\n",
              "k    323\n",
              "l    322\n",
              "m    322\n",
              "n    319\n",
              "o    257\n",
              "p    323\n",
              "q    323\n",
              "r    318\n",
              "s    318\n",
              "t    323\n",
              "u    310\n",
              "v    317\n",
              "w    323\n",
              "x    323\n",
              "Name: y, dtype: int64"
            ]
          },
          "metadata": {},
          "execution_count": 5
        }
      ]
    },
    {
      "cell_type": "code",
      "source": [
        "# make all unique_id has the same start and end ds\n",
        "# same end ds only is also possible\n",
        "\n",
        "train_ds_adjusted = fill_gaps(\n",
        "                      train,\n",
        "                      freq='D',\n",
        "                      start='global', # set per_serie as alternative\n",
        "                      end='global'\n",
        ")"
      ],
      "metadata": {
        "id": "4oVRi3e0hgwv"
      },
      "execution_count": 6,
      "outputs": []
    },
    {
      "cell_type": "code",
      "source": [
        "# now train data has missing value\n",
        "\n",
        "train_ds_adjusted.isna().sum()"
      ],
      "metadata": {
        "id": "uol8P2jwh1tL",
        "colab": {
          "base_uri": "https://localhost:8080/"
        },
        "outputId": "f5bf4fd7-1cb3-4245-8c81-d146f6b56f4a"
      },
      "execution_count": 7,
      "outputs": [
        {
          "output_type": "execute_result",
          "data": {
            "text/plain": [
              "unique_id      0\n",
              "ds             0\n",
              "y            191\n",
              "dtype: int64"
            ]
          },
          "metadata": {},
          "execution_count": 7
        }
      ]
    },
    {
      "cell_type": "markdown",
      "source": [
        "### ii. Fill missing data with linear interpolation & backward fill"
      ],
      "metadata": {
        "id": "-0RTsCVEjh6g"
      }
    },
    {
      "cell_type": "markdown",
      "source": [
        "**`Important note:`**\n",
        "\n",
        "\n",
        "---\n",
        "\n",
        "\n",
        "Outlier removal won't be applied in this experiment. Since many suppliers have meaningfull outlier such as:\n",
        "1. k, g, q, j, & x every 20th\n",
        "2. c every end of month 29th-31st\n",
        "3. p, r, t every payday 25th\n",
        "4. etc..."
      ],
      "metadata": {
        "id": "TEIaPO7Rm8Bo"
      }
    },
    {
      "cell_type": "code",
      "source": [
        "# pivot each unique_id to column since imputing data is done for each unique_id\n",
        "\n",
        "pivot_train = train_ds_adjusted.pivot(index='ds', columns='unique_id', values='y').reset_index()\n",
        "pivot_train.head()"
      ],
      "metadata": {
        "id": "S2dJBhum5Z7C",
        "colab": {
          "base_uri": "https://localhost:8080/",
          "height": 342
        },
        "outputId": "473be928-843c-431b-bc53-e1eacdb5fb82"
      },
      "execution_count": 8,
      "outputs": [
        {
          "output_type": "execute_result",
          "data": {
            "text/plain": [
              "unique_id         ds   a   b             c             d             e  \\\n",
              "0         2023-01-01 NaN NaN  5.231384e+07  2.044831e+08  4.404235e+07   \n",
              "1         2023-01-02 NaN NaN  5.116290e+07  1.981253e+08  5.324734e+07   \n",
              "2         2023-01-03 NaN NaN  5.334606e+07  1.857693e+08  1.327295e+07   \n",
              "3         2023-01-04 NaN NaN  7.601435e+07  1.334978e+08  1.646031e+07   \n",
              "4         2023-01-05 NaN NaN  1.080719e+08  1.424359e+08  2.160851e+07   \n",
              "\n",
              "unique_id             f             g             h             i  ...   o  \\\n",
              "0          3.191533e+06  7.718303e+06  4.870798e+07  1.748822e+06  ... NaN   \n",
              "1          3.851228e+06  1.007228e+08  1.073309e+08  1.724640e+06  ... NaN   \n",
              "2          3.637375e+06  3.443108e+07  1.220318e+08  2.656570e+06  ... NaN   \n",
              "3          3.900159e+06  6.075249e+06  1.398422e+08  1.732746e+06  ... NaN   \n",
              "4          3.334608e+06  1.175494e+07  2.404745e+08  1.515165e+06  ... NaN   \n",
              "\n",
              "unique_id             p             q             r   s             t  \\\n",
              "0          9.651130e+07  7.411590e+06  5.443212e+08 NaN  2.992602e+07   \n",
              "1          2.525272e+08  2.210810e+07  5.906870e+08 NaN  3.634868e+07   \n",
              "2          1.945267e+08  2.070964e+07  4.988815e+08 NaN  3.719193e+07   \n",
              "3          1.485548e+08  1.673417e+07  5.071721e+08 NaN  2.567895e+07   \n",
              "4          1.510916e+08  1.762962e+07  5.303884e+08 NaN  2.519460e+07   \n",
              "\n",
              "unique_id              u              v             w             x  \n",
              "0           63861.666667  755433.333333  1.258351e+08  3.451310e+09  \n",
              "1          172400.000000  313466.666667  1.397711e+08  3.731446e+09  \n",
              "2           88686.666667  424633.333333  1.258863e+08  3.519401e+09  \n",
              "3           53703.333333   80333.333333  1.251337e+08  3.580602e+09  \n",
              "4           79166.666667  243133.333333  1.269201e+08  3.674095e+09  \n",
              "\n",
              "[5 rows x 25 columns]"
            ],
            "text/html": [
              "<div>\n",
              "<style scoped>\n",
              "    .dataframe tbody tr th:only-of-type {\n",
              "        vertical-align: middle;\n",
              "    }\n",
              "\n",
              "    .dataframe tbody tr th {\n",
              "        vertical-align: top;\n",
              "    }\n",
              "\n",
              "    .dataframe thead th {\n",
              "        text-align: right;\n",
              "    }\n",
              "</style>\n",
              "<table border=\"1\" class=\"dataframe\">\n",
              "  <thead>\n",
              "    <tr style=\"text-align: right;\">\n",
              "      <th>unique_id</th>\n",
              "      <th>ds</th>\n",
              "      <th>a</th>\n",
              "      <th>b</th>\n",
              "      <th>c</th>\n",
              "      <th>d</th>\n",
              "      <th>e</th>\n",
              "      <th>f</th>\n",
              "      <th>g</th>\n",
              "      <th>h</th>\n",
              "      <th>i</th>\n",
              "      <th>...</th>\n",
              "      <th>o</th>\n",
              "      <th>p</th>\n",
              "      <th>q</th>\n",
              "      <th>r</th>\n",
              "      <th>s</th>\n",
              "      <th>t</th>\n",
              "      <th>u</th>\n",
              "      <th>v</th>\n",
              "      <th>w</th>\n",
              "      <th>x</th>\n",
              "    </tr>\n",
              "  </thead>\n",
              "  <tbody>\n",
              "    <tr>\n",
              "      <th>0</th>\n",
              "      <td>2023-01-01</td>\n",
              "      <td>NaN</td>\n",
              "      <td>NaN</td>\n",
              "      <td>5.231384e+07</td>\n",
              "      <td>2.044831e+08</td>\n",
              "      <td>4.404235e+07</td>\n",
              "      <td>3.191533e+06</td>\n",
              "      <td>7.718303e+06</td>\n",
              "      <td>4.870798e+07</td>\n",
              "      <td>1.748822e+06</td>\n",
              "      <td>...</td>\n",
              "      <td>NaN</td>\n",
              "      <td>9.651130e+07</td>\n",
              "      <td>7.411590e+06</td>\n",
              "      <td>5.443212e+08</td>\n",
              "      <td>NaN</td>\n",
              "      <td>2.992602e+07</td>\n",
              "      <td>63861.666667</td>\n",
              "      <td>755433.333333</td>\n",
              "      <td>1.258351e+08</td>\n",
              "      <td>3.451310e+09</td>\n",
              "    </tr>\n",
              "    <tr>\n",
              "      <th>1</th>\n",
              "      <td>2023-01-02</td>\n",
              "      <td>NaN</td>\n",
              "      <td>NaN</td>\n",
              "      <td>5.116290e+07</td>\n",
              "      <td>1.981253e+08</td>\n",
              "      <td>5.324734e+07</td>\n",
              "      <td>3.851228e+06</td>\n",
              "      <td>1.007228e+08</td>\n",
              "      <td>1.073309e+08</td>\n",
              "      <td>1.724640e+06</td>\n",
              "      <td>...</td>\n",
              "      <td>NaN</td>\n",
              "      <td>2.525272e+08</td>\n",
              "      <td>2.210810e+07</td>\n",
              "      <td>5.906870e+08</td>\n",
              "      <td>NaN</td>\n",
              "      <td>3.634868e+07</td>\n",
              "      <td>172400.000000</td>\n",
              "      <td>313466.666667</td>\n",
              "      <td>1.397711e+08</td>\n",
              "      <td>3.731446e+09</td>\n",
              "    </tr>\n",
              "    <tr>\n",
              "      <th>2</th>\n",
              "      <td>2023-01-03</td>\n",
              "      <td>NaN</td>\n",
              "      <td>NaN</td>\n",
              "      <td>5.334606e+07</td>\n",
              "      <td>1.857693e+08</td>\n",
              "      <td>1.327295e+07</td>\n",
              "      <td>3.637375e+06</td>\n",
              "      <td>3.443108e+07</td>\n",
              "      <td>1.220318e+08</td>\n",
              "      <td>2.656570e+06</td>\n",
              "      <td>...</td>\n",
              "      <td>NaN</td>\n",
              "      <td>1.945267e+08</td>\n",
              "      <td>2.070964e+07</td>\n",
              "      <td>4.988815e+08</td>\n",
              "      <td>NaN</td>\n",
              "      <td>3.719193e+07</td>\n",
              "      <td>88686.666667</td>\n",
              "      <td>424633.333333</td>\n",
              "      <td>1.258863e+08</td>\n",
              "      <td>3.519401e+09</td>\n",
              "    </tr>\n",
              "    <tr>\n",
              "      <th>3</th>\n",
              "      <td>2023-01-04</td>\n",
              "      <td>NaN</td>\n",
              "      <td>NaN</td>\n",
              "      <td>7.601435e+07</td>\n",
              "      <td>1.334978e+08</td>\n",
              "      <td>1.646031e+07</td>\n",
              "      <td>3.900159e+06</td>\n",
              "      <td>6.075249e+06</td>\n",
              "      <td>1.398422e+08</td>\n",
              "      <td>1.732746e+06</td>\n",
              "      <td>...</td>\n",
              "      <td>NaN</td>\n",
              "      <td>1.485548e+08</td>\n",
              "      <td>1.673417e+07</td>\n",
              "      <td>5.071721e+08</td>\n",
              "      <td>NaN</td>\n",
              "      <td>2.567895e+07</td>\n",
              "      <td>53703.333333</td>\n",
              "      <td>80333.333333</td>\n",
              "      <td>1.251337e+08</td>\n",
              "      <td>3.580602e+09</td>\n",
              "    </tr>\n",
              "    <tr>\n",
              "      <th>4</th>\n",
              "      <td>2023-01-05</td>\n",
              "      <td>NaN</td>\n",
              "      <td>NaN</td>\n",
              "      <td>1.080719e+08</td>\n",
              "      <td>1.424359e+08</td>\n",
              "      <td>2.160851e+07</td>\n",
              "      <td>3.334608e+06</td>\n",
              "      <td>1.175494e+07</td>\n",
              "      <td>2.404745e+08</td>\n",
              "      <td>1.515165e+06</td>\n",
              "      <td>...</td>\n",
              "      <td>NaN</td>\n",
              "      <td>1.510916e+08</td>\n",
              "      <td>1.762962e+07</td>\n",
              "      <td>5.303884e+08</td>\n",
              "      <td>NaN</td>\n",
              "      <td>2.519460e+07</td>\n",
              "      <td>79166.666667</td>\n",
              "      <td>243133.333333</td>\n",
              "      <td>1.269201e+08</td>\n",
              "      <td>3.674095e+09</td>\n",
              "    </tr>\n",
              "  </tbody>\n",
              "</table>\n",
              "<p>5 rows × 25 columns</p>\n",
              "</div>"
            ]
          },
          "metadata": {},
          "execution_count": 8
        }
      ]
    },
    {
      "cell_type": "code",
      "source": [
        "# show which unqiue_id has missing value\n",
        "\n",
        "pivot_train.isna().sum()"
      ],
      "metadata": {
        "id": "Hyb_4Wyg50ws",
        "colab": {
          "base_uri": "https://localhost:8080/"
        },
        "outputId": "8d2e89e8-d550-4d90-fdb6-716042de1947"
      },
      "execution_count": 9,
      "outputs": [
        {
          "output_type": "execute_result",
          "data": {
            "text/plain": [
              "unique_id\n",
              "ds     0\n",
              "a     45\n",
              "b     38\n",
              "c      0\n",
              "d      0\n",
              "e      0\n",
              "f      0\n",
              "g     20\n",
              "h      1\n",
              "i      0\n",
              "j      0\n",
              "k      0\n",
              "l      1\n",
              "m      0\n",
              "n      4\n",
              "o     65\n",
              "p      0\n",
              "q      0\n",
              "r      5\n",
              "s      5\n",
              "t      0\n",
              "u      7\n",
              "v      0\n",
              "w      0\n",
              "x      0\n",
              "dtype: int64"
            ]
          },
          "metadata": {},
          "execution_count": 9
        }
      ]
    },
    {
      "cell_type": "code",
      "source": [
        "# first, linearly interpolate is applied for every missing value from start to end ds\n",
        "# second, all missing value before start ds is filled by backward fill\n",
        "\n",
        "for unique_id in pivot_train.drop(\"ds\",axis=1).columns:\n",
        "    pivot_train[unique_id] = pivot_train[unique_id].interpolate(method=\"linear\")\n",
        "    pivot_train[unique_id] = pivot_train[unique_id].fillna(method=\"bfill\")"
      ],
      "metadata": {
        "id": "WmK9Q9Sk7H7V"
      },
      "execution_count": 10,
      "outputs": []
    },
    {
      "cell_type": "code",
      "source": [
        "# no more missing value\n",
        "\n",
        "pivot_train.isna().sum().sum()"
      ],
      "metadata": {
        "id": "pqdAkSQ97oib",
        "colab": {
          "base_uri": "https://localhost:8080/"
        },
        "outputId": "a4a7c22e-4843-458f-8a15-bd9e9d7bf959"
      },
      "execution_count": 11,
      "outputs": [
        {
          "output_type": "execute_result",
          "data": {
            "text/plain": [
              "0"
            ]
          },
          "metadata": {},
          "execution_count": 11
        }
      ]
    },
    {
      "cell_type": "code",
      "source": [
        "# convert back into long data\n",
        "\n",
        "unpivoted_train = pd.melt(pivot_train, id_vars=['ds'], var_name='unique_id', value_name='y')\n",
        "unpivoted_train.head()"
      ],
      "metadata": {
        "id": "I9wzqAu19jPp",
        "colab": {
          "base_uri": "https://localhost:8080/",
          "height": 206
        },
        "outputId": "983ea581-523b-4927-ea3b-3b35c61fe62e"
      },
      "execution_count": 12,
      "outputs": [
        {
          "output_type": "execute_result",
          "data": {
            "text/plain": [
              "          ds unique_id             y\n",
              "0 2023-01-01         a  1.648533e+07\n",
              "1 2023-01-02         a  1.648533e+07\n",
              "2 2023-01-03         a  1.648533e+07\n",
              "3 2023-01-04         a  1.648533e+07\n",
              "4 2023-01-05         a  1.648533e+07"
            ],
            "text/html": [
              "<div>\n",
              "<style scoped>\n",
              "    .dataframe tbody tr th:only-of-type {\n",
              "        vertical-align: middle;\n",
              "    }\n",
              "\n",
              "    .dataframe tbody tr th {\n",
              "        vertical-align: top;\n",
              "    }\n",
              "\n",
              "    .dataframe thead th {\n",
              "        text-align: right;\n",
              "    }\n",
              "</style>\n",
              "<table border=\"1\" class=\"dataframe\">\n",
              "  <thead>\n",
              "    <tr style=\"text-align: right;\">\n",
              "      <th></th>\n",
              "      <th>ds</th>\n",
              "      <th>unique_id</th>\n",
              "      <th>y</th>\n",
              "    </tr>\n",
              "  </thead>\n",
              "  <tbody>\n",
              "    <tr>\n",
              "      <th>0</th>\n",
              "      <td>2023-01-01</td>\n",
              "      <td>a</td>\n",
              "      <td>1.648533e+07</td>\n",
              "    </tr>\n",
              "    <tr>\n",
              "      <th>1</th>\n",
              "      <td>2023-01-02</td>\n",
              "      <td>a</td>\n",
              "      <td>1.648533e+07</td>\n",
              "    </tr>\n",
              "    <tr>\n",
              "      <th>2</th>\n",
              "      <td>2023-01-03</td>\n",
              "      <td>a</td>\n",
              "      <td>1.648533e+07</td>\n",
              "    </tr>\n",
              "    <tr>\n",
              "      <th>3</th>\n",
              "      <td>2023-01-04</td>\n",
              "      <td>a</td>\n",
              "      <td>1.648533e+07</td>\n",
              "    </tr>\n",
              "    <tr>\n",
              "      <th>4</th>\n",
              "      <td>2023-01-05</td>\n",
              "      <td>a</td>\n",
              "      <td>1.648533e+07</td>\n",
              "    </tr>\n",
              "  </tbody>\n",
              "</table>\n",
              "</div>"
            ]
          },
          "metadata": {},
          "execution_count": 12
        }
      ]
    },
    {
      "cell_type": "code",
      "source": [
        "# compare the shape between orginal and preprocessed train\n",
        "\n",
        "print(train.shape)\n",
        "print(unpivoted_train.shape)"
      ],
      "metadata": {
        "id": "pZ7Fbwoj-mNK",
        "colab": {
          "base_uri": "https://localhost:8080/"
        },
        "outputId": "7ec3b7ed-2b1b-4291-a45f-3a358a3ca2bd"
      },
      "execution_count": 13,
      "outputs": [
        {
          "output_type": "stream",
          "name": "stdout",
          "text": [
            "(7561, 3)\n",
            "(7752, 3)\n"
          ]
        }
      ]
    },
    {
      "cell_type": "code",
      "source": [
        "# copy preprocessed data to train\n",
        "\n",
        "train = unpivoted_train.copy()\n",
        "train = train[['unique_id','ds','y']]\n",
        "train.head()"
      ],
      "metadata": {
        "colab": {
          "base_uri": "https://localhost:8080/",
          "height": 206
        },
        "id": "KcF5WvZs-vxV",
        "outputId": "f28410d5-cd64-43ee-ac21-4ee9499a5d7b"
      },
      "execution_count": 14,
      "outputs": [
        {
          "output_type": "execute_result",
          "data": {
            "text/plain": [
              "  unique_id         ds             y\n",
              "0         a 2023-01-01  1.648533e+07\n",
              "1         a 2023-01-02  1.648533e+07\n",
              "2         a 2023-01-03  1.648533e+07\n",
              "3         a 2023-01-04  1.648533e+07\n",
              "4         a 2023-01-05  1.648533e+07"
            ],
            "text/html": [
              "<div>\n",
              "<style scoped>\n",
              "    .dataframe tbody tr th:only-of-type {\n",
              "        vertical-align: middle;\n",
              "    }\n",
              "\n",
              "    .dataframe tbody tr th {\n",
              "        vertical-align: top;\n",
              "    }\n",
              "\n",
              "    .dataframe thead th {\n",
              "        text-align: right;\n",
              "    }\n",
              "</style>\n",
              "<table border=\"1\" class=\"dataframe\">\n",
              "  <thead>\n",
              "    <tr style=\"text-align: right;\">\n",
              "      <th></th>\n",
              "      <th>unique_id</th>\n",
              "      <th>ds</th>\n",
              "      <th>y</th>\n",
              "    </tr>\n",
              "  </thead>\n",
              "  <tbody>\n",
              "    <tr>\n",
              "      <th>0</th>\n",
              "      <td>a</td>\n",
              "      <td>2023-01-01</td>\n",
              "      <td>1.648533e+07</td>\n",
              "    </tr>\n",
              "    <tr>\n",
              "      <th>1</th>\n",
              "      <td>a</td>\n",
              "      <td>2023-01-02</td>\n",
              "      <td>1.648533e+07</td>\n",
              "    </tr>\n",
              "    <tr>\n",
              "      <th>2</th>\n",
              "      <td>a</td>\n",
              "      <td>2023-01-03</td>\n",
              "      <td>1.648533e+07</td>\n",
              "    </tr>\n",
              "    <tr>\n",
              "      <th>3</th>\n",
              "      <td>a</td>\n",
              "      <td>2023-01-04</td>\n",
              "      <td>1.648533e+07</td>\n",
              "    </tr>\n",
              "    <tr>\n",
              "      <th>4</th>\n",
              "      <td>a</td>\n",
              "      <td>2023-01-05</td>\n",
              "      <td>1.648533e+07</td>\n",
              "    </tr>\n",
              "  </tbody>\n",
              "</table>\n",
              "</div>"
            ]
          },
          "metadata": {},
          "execution_count": 14
        }
      ]
    },
    {
      "cell_type": "markdown",
      "source": [
        "### iii. Add seasonal dummy"
      ],
      "metadata": {
        "id": "4mlcZebIoTdF"
      }
    },
    {
      "cell_type": "code",
      "source": [
        "# extract day of month\n",
        "trainX = train.copy()\n",
        "trainX['day_of_month'] = trainX['ds'].dt.day\n",
        "print(trainX.head(2))\n",
        "\n",
        "testX = test.copy()\n",
        "testX['day_of_month'] = testX['ds'].dt.day\n",
        "print(testX.head(2))"
      ],
      "metadata": {
        "colab": {
          "base_uri": "https://localhost:8080/"
        },
        "id": "5slUrUx9oonX",
        "outputId": "2e804e4f-6b61-4ec0-b1e7-31b86d73d490"
      },
      "execution_count": 15,
      "outputs": [
        {
          "output_type": "stream",
          "name": "stdout",
          "text": [
            "  unique_id         ds             y  day_of_month\n",
            "0         a 2023-01-01  1.648533e+07             1\n",
            "1         a 2023-01-02  1.648533e+07             2\n",
            "  unique_id         ds             y  day_of_month\n",
            "0         a 2023-11-20  2.374394e+07            20\n",
            "1         a 2023-11-21  2.482359e+07            21\n"
          ]
        }
      ]
    },
    {
      "cell_type": "code",
      "source": [
        "# trainX------------------------------------------------------\n",
        "\n",
        "categories = [trainX['day_of_month'].unique()]\n",
        "\n",
        "encoder = OneHotEncoder(sparse_output=False,\n",
        "                            drop=\"first\",\n",
        "                            categories=categories,\n",
        "                            )\n",
        "\n",
        "encoded_cols = encoder.fit_transform(trainX[['day_of_month']])\n",
        "encoded_df = pd.DataFrame(encoded_cols, columns=encoder.get_feature_names_out(['day_of_month']))\n",
        "\n",
        "# Concatenate the encoded columns with the original data\n",
        "trainX = pd.concat([trainX[['unique_id', 'ds','y']],encoded_df], axis=1)\n",
        "\n",
        "print(trainX.shape)\n",
        "trainX.head()"
      ],
      "metadata": {
        "colab": {
          "base_uri": "https://localhost:8080/",
          "height": 359
        },
        "id": "8P5qj5_ctwz0",
        "outputId": "7768557c-42ce-497b-aa91-b71bd0a8d36e"
      },
      "execution_count": 16,
      "outputs": [
        {
          "output_type": "stream",
          "name": "stdout",
          "text": [
            "(7752, 33)\n"
          ]
        },
        {
          "output_type": "execute_result",
          "data": {
            "text/plain": [
              "  unique_id         ds             y  day_of_month_2  day_of_month_3  \\\n",
              "0         a 2023-01-01  1.648533e+07             0.0             0.0   \n",
              "1         a 2023-01-02  1.648533e+07             1.0             0.0   \n",
              "2         a 2023-01-03  1.648533e+07             0.0             1.0   \n",
              "3         a 2023-01-04  1.648533e+07             0.0             0.0   \n",
              "4         a 2023-01-05  1.648533e+07             0.0             0.0   \n",
              "\n",
              "   day_of_month_4  day_of_month_5  day_of_month_6  day_of_month_7  \\\n",
              "0             0.0             0.0             0.0             0.0   \n",
              "1             0.0             0.0             0.0             0.0   \n",
              "2             0.0             0.0             0.0             0.0   \n",
              "3             1.0             0.0             0.0             0.0   \n",
              "4             0.0             1.0             0.0             0.0   \n",
              "\n",
              "   day_of_month_8  ...  day_of_month_22  day_of_month_23  day_of_month_24  \\\n",
              "0             0.0  ...              0.0              0.0              0.0   \n",
              "1             0.0  ...              0.0              0.0              0.0   \n",
              "2             0.0  ...              0.0              0.0              0.0   \n",
              "3             0.0  ...              0.0              0.0              0.0   \n",
              "4             0.0  ...              0.0              0.0              0.0   \n",
              "\n",
              "   day_of_month_25  day_of_month_26  day_of_month_27  day_of_month_28  \\\n",
              "0              0.0              0.0              0.0              0.0   \n",
              "1              0.0              0.0              0.0              0.0   \n",
              "2              0.0              0.0              0.0              0.0   \n",
              "3              0.0              0.0              0.0              0.0   \n",
              "4              0.0              0.0              0.0              0.0   \n",
              "\n",
              "   day_of_month_29  day_of_month_30  day_of_month_31  \n",
              "0              0.0              0.0              0.0  \n",
              "1              0.0              0.0              0.0  \n",
              "2              0.0              0.0              0.0  \n",
              "3              0.0              0.0              0.0  \n",
              "4              0.0              0.0              0.0  \n",
              "\n",
              "[5 rows x 33 columns]"
            ],
            "text/html": [
              "<div>\n",
              "<style scoped>\n",
              "    .dataframe tbody tr th:only-of-type {\n",
              "        vertical-align: middle;\n",
              "    }\n",
              "\n",
              "    .dataframe tbody tr th {\n",
              "        vertical-align: top;\n",
              "    }\n",
              "\n",
              "    .dataframe thead th {\n",
              "        text-align: right;\n",
              "    }\n",
              "</style>\n",
              "<table border=\"1\" class=\"dataframe\">\n",
              "  <thead>\n",
              "    <tr style=\"text-align: right;\">\n",
              "      <th></th>\n",
              "      <th>unique_id</th>\n",
              "      <th>ds</th>\n",
              "      <th>y</th>\n",
              "      <th>day_of_month_2</th>\n",
              "      <th>day_of_month_3</th>\n",
              "      <th>day_of_month_4</th>\n",
              "      <th>day_of_month_5</th>\n",
              "      <th>day_of_month_6</th>\n",
              "      <th>day_of_month_7</th>\n",
              "      <th>day_of_month_8</th>\n",
              "      <th>...</th>\n",
              "      <th>day_of_month_22</th>\n",
              "      <th>day_of_month_23</th>\n",
              "      <th>day_of_month_24</th>\n",
              "      <th>day_of_month_25</th>\n",
              "      <th>day_of_month_26</th>\n",
              "      <th>day_of_month_27</th>\n",
              "      <th>day_of_month_28</th>\n",
              "      <th>day_of_month_29</th>\n",
              "      <th>day_of_month_30</th>\n",
              "      <th>day_of_month_31</th>\n",
              "    </tr>\n",
              "  </thead>\n",
              "  <tbody>\n",
              "    <tr>\n",
              "      <th>0</th>\n",
              "      <td>a</td>\n",
              "      <td>2023-01-01</td>\n",
              "      <td>1.648533e+07</td>\n",
              "      <td>0.0</td>\n",
              "      <td>0.0</td>\n",
              "      <td>0.0</td>\n",
              "      <td>0.0</td>\n",
              "      <td>0.0</td>\n",
              "      <td>0.0</td>\n",
              "      <td>0.0</td>\n",
              "      <td>...</td>\n",
              "      <td>0.0</td>\n",
              "      <td>0.0</td>\n",
              "      <td>0.0</td>\n",
              "      <td>0.0</td>\n",
              "      <td>0.0</td>\n",
              "      <td>0.0</td>\n",
              "      <td>0.0</td>\n",
              "      <td>0.0</td>\n",
              "      <td>0.0</td>\n",
              "      <td>0.0</td>\n",
              "    </tr>\n",
              "    <tr>\n",
              "      <th>1</th>\n",
              "      <td>a</td>\n",
              "      <td>2023-01-02</td>\n",
              "      <td>1.648533e+07</td>\n",
              "      <td>1.0</td>\n",
              "      <td>0.0</td>\n",
              "      <td>0.0</td>\n",
              "      <td>0.0</td>\n",
              "      <td>0.0</td>\n",
              "      <td>0.0</td>\n",
              "      <td>0.0</td>\n",
              "      <td>...</td>\n",
              "      <td>0.0</td>\n",
              "      <td>0.0</td>\n",
              "      <td>0.0</td>\n",
              "      <td>0.0</td>\n",
              "      <td>0.0</td>\n",
              "      <td>0.0</td>\n",
              "      <td>0.0</td>\n",
              "      <td>0.0</td>\n",
              "      <td>0.0</td>\n",
              "      <td>0.0</td>\n",
              "    </tr>\n",
              "    <tr>\n",
              "      <th>2</th>\n",
              "      <td>a</td>\n",
              "      <td>2023-01-03</td>\n",
              "      <td>1.648533e+07</td>\n",
              "      <td>0.0</td>\n",
              "      <td>1.0</td>\n",
              "      <td>0.0</td>\n",
              "      <td>0.0</td>\n",
              "      <td>0.0</td>\n",
              "      <td>0.0</td>\n",
              "      <td>0.0</td>\n",
              "      <td>...</td>\n",
              "      <td>0.0</td>\n",
              "      <td>0.0</td>\n",
              "      <td>0.0</td>\n",
              "      <td>0.0</td>\n",
              "      <td>0.0</td>\n",
              "      <td>0.0</td>\n",
              "      <td>0.0</td>\n",
              "      <td>0.0</td>\n",
              "      <td>0.0</td>\n",
              "      <td>0.0</td>\n",
              "    </tr>\n",
              "    <tr>\n",
              "      <th>3</th>\n",
              "      <td>a</td>\n",
              "      <td>2023-01-04</td>\n",
              "      <td>1.648533e+07</td>\n",
              "      <td>0.0</td>\n",
              "      <td>0.0</td>\n",
              "      <td>1.0</td>\n",
              "      <td>0.0</td>\n",
              "      <td>0.0</td>\n",
              "      <td>0.0</td>\n",
              "      <td>0.0</td>\n",
              "      <td>...</td>\n",
              "      <td>0.0</td>\n",
              "      <td>0.0</td>\n",
              "      <td>0.0</td>\n",
              "      <td>0.0</td>\n",
              "      <td>0.0</td>\n",
              "      <td>0.0</td>\n",
              "      <td>0.0</td>\n",
              "      <td>0.0</td>\n",
              "      <td>0.0</td>\n",
              "      <td>0.0</td>\n",
              "    </tr>\n",
              "    <tr>\n",
              "      <th>4</th>\n",
              "      <td>a</td>\n",
              "      <td>2023-01-05</td>\n",
              "      <td>1.648533e+07</td>\n",
              "      <td>0.0</td>\n",
              "      <td>0.0</td>\n",
              "      <td>0.0</td>\n",
              "      <td>1.0</td>\n",
              "      <td>0.0</td>\n",
              "      <td>0.0</td>\n",
              "      <td>0.0</td>\n",
              "      <td>...</td>\n",
              "      <td>0.0</td>\n",
              "      <td>0.0</td>\n",
              "      <td>0.0</td>\n",
              "      <td>0.0</td>\n",
              "      <td>0.0</td>\n",
              "      <td>0.0</td>\n",
              "      <td>0.0</td>\n",
              "      <td>0.0</td>\n",
              "      <td>0.0</td>\n",
              "      <td>0.0</td>\n",
              "    </tr>\n",
              "  </tbody>\n",
              "</table>\n",
              "<p>5 rows × 33 columns</p>\n",
              "</div>"
            ]
          },
          "metadata": {},
          "execution_count": 16
        }
      ]
    },
    {
      "cell_type": "code",
      "source": [
        "# testX------------------------------------------------------\n",
        "\n",
        "encoded_cols = encoder.transform(testX[['day_of_month']])\n",
        "encoded_df = pd.DataFrame(encoded_cols, columns=encoder.get_feature_names_out(['day_of_month']))\n",
        "\n",
        "# Concatenate the encoded columns with the original data\n",
        "testX = pd.concat([testX[['unique_id', 'ds','y']],encoded_df], axis=1)\n",
        "\n",
        "print(testX.shape)\n",
        "testX.head()"
      ],
      "metadata": {
        "colab": {
          "base_uri": "https://localhost:8080/",
          "height": 359
        },
        "id": "UumxLBSov9VY",
        "outputId": "15964ece-ece3-4100-8ca6-67352fda01ca"
      },
      "execution_count": 17,
      "outputs": [
        {
          "output_type": "stream",
          "name": "stdout",
          "text": [
            "(168, 33)\n"
          ]
        },
        {
          "output_type": "execute_result",
          "data": {
            "text/plain": [
              "  unique_id         ds             y  day_of_month_2  day_of_month_3  \\\n",
              "0         a 2023-11-20  2.374394e+07             0.0             0.0   \n",
              "1         a 2023-11-21  2.482359e+07             0.0             0.0   \n",
              "2         a 2023-11-22  2.737511e+07             0.0             0.0   \n",
              "3         a 2023-11-23  2.111852e+07             0.0             0.0   \n",
              "4         a 2023-11-24  2.471033e+07             0.0             0.0   \n",
              "\n",
              "   day_of_month_4  day_of_month_5  day_of_month_6  day_of_month_7  \\\n",
              "0             0.0             0.0             0.0             0.0   \n",
              "1             0.0             0.0             0.0             0.0   \n",
              "2             0.0             0.0             0.0             0.0   \n",
              "3             0.0             0.0             0.0             0.0   \n",
              "4             0.0             0.0             0.0             0.0   \n",
              "\n",
              "   day_of_month_8  ...  day_of_month_22  day_of_month_23  day_of_month_24  \\\n",
              "0             0.0  ...              0.0              0.0              0.0   \n",
              "1             0.0  ...              0.0              0.0              0.0   \n",
              "2             0.0  ...              1.0              0.0              0.0   \n",
              "3             0.0  ...              0.0              1.0              0.0   \n",
              "4             0.0  ...              0.0              0.0              1.0   \n",
              "\n",
              "   day_of_month_25  day_of_month_26  day_of_month_27  day_of_month_28  \\\n",
              "0              0.0              0.0              0.0              0.0   \n",
              "1              0.0              0.0              0.0              0.0   \n",
              "2              0.0              0.0              0.0              0.0   \n",
              "3              0.0              0.0              0.0              0.0   \n",
              "4              0.0              0.0              0.0              0.0   \n",
              "\n",
              "   day_of_month_29  day_of_month_30  day_of_month_31  \n",
              "0              0.0              0.0              0.0  \n",
              "1              0.0              0.0              0.0  \n",
              "2              0.0              0.0              0.0  \n",
              "3              0.0              0.0              0.0  \n",
              "4              0.0              0.0              0.0  \n",
              "\n",
              "[5 rows x 33 columns]"
            ],
            "text/html": [
              "<div>\n",
              "<style scoped>\n",
              "    .dataframe tbody tr th:only-of-type {\n",
              "        vertical-align: middle;\n",
              "    }\n",
              "\n",
              "    .dataframe tbody tr th {\n",
              "        vertical-align: top;\n",
              "    }\n",
              "\n",
              "    .dataframe thead th {\n",
              "        text-align: right;\n",
              "    }\n",
              "</style>\n",
              "<table border=\"1\" class=\"dataframe\">\n",
              "  <thead>\n",
              "    <tr style=\"text-align: right;\">\n",
              "      <th></th>\n",
              "      <th>unique_id</th>\n",
              "      <th>ds</th>\n",
              "      <th>y</th>\n",
              "      <th>day_of_month_2</th>\n",
              "      <th>day_of_month_3</th>\n",
              "      <th>day_of_month_4</th>\n",
              "      <th>day_of_month_5</th>\n",
              "      <th>day_of_month_6</th>\n",
              "      <th>day_of_month_7</th>\n",
              "      <th>day_of_month_8</th>\n",
              "      <th>...</th>\n",
              "      <th>day_of_month_22</th>\n",
              "      <th>day_of_month_23</th>\n",
              "      <th>day_of_month_24</th>\n",
              "      <th>day_of_month_25</th>\n",
              "      <th>day_of_month_26</th>\n",
              "      <th>day_of_month_27</th>\n",
              "      <th>day_of_month_28</th>\n",
              "      <th>day_of_month_29</th>\n",
              "      <th>day_of_month_30</th>\n",
              "      <th>day_of_month_31</th>\n",
              "    </tr>\n",
              "  </thead>\n",
              "  <tbody>\n",
              "    <tr>\n",
              "      <th>0</th>\n",
              "      <td>a</td>\n",
              "      <td>2023-11-20</td>\n",
              "      <td>2.374394e+07</td>\n",
              "      <td>0.0</td>\n",
              "      <td>0.0</td>\n",
              "      <td>0.0</td>\n",
              "      <td>0.0</td>\n",
              "      <td>0.0</td>\n",
              "      <td>0.0</td>\n",
              "      <td>0.0</td>\n",
              "      <td>...</td>\n",
              "      <td>0.0</td>\n",
              "      <td>0.0</td>\n",
              "      <td>0.0</td>\n",
              "      <td>0.0</td>\n",
              "      <td>0.0</td>\n",
              "      <td>0.0</td>\n",
              "      <td>0.0</td>\n",
              "      <td>0.0</td>\n",
              "      <td>0.0</td>\n",
              "      <td>0.0</td>\n",
              "    </tr>\n",
              "    <tr>\n",
              "      <th>1</th>\n",
              "      <td>a</td>\n",
              "      <td>2023-11-21</td>\n",
              "      <td>2.482359e+07</td>\n",
              "      <td>0.0</td>\n",
              "      <td>0.0</td>\n",
              "      <td>0.0</td>\n",
              "      <td>0.0</td>\n",
              "      <td>0.0</td>\n",
              "      <td>0.0</td>\n",
              "      <td>0.0</td>\n",
              "      <td>...</td>\n",
              "      <td>0.0</td>\n",
              "      <td>0.0</td>\n",
              "      <td>0.0</td>\n",
              "      <td>0.0</td>\n",
              "      <td>0.0</td>\n",
              "      <td>0.0</td>\n",
              "      <td>0.0</td>\n",
              "      <td>0.0</td>\n",
              "      <td>0.0</td>\n",
              "      <td>0.0</td>\n",
              "    </tr>\n",
              "    <tr>\n",
              "      <th>2</th>\n",
              "      <td>a</td>\n",
              "      <td>2023-11-22</td>\n",
              "      <td>2.737511e+07</td>\n",
              "      <td>0.0</td>\n",
              "      <td>0.0</td>\n",
              "      <td>0.0</td>\n",
              "      <td>0.0</td>\n",
              "      <td>0.0</td>\n",
              "      <td>0.0</td>\n",
              "      <td>0.0</td>\n",
              "      <td>...</td>\n",
              "      <td>1.0</td>\n",
              "      <td>0.0</td>\n",
              "      <td>0.0</td>\n",
              "      <td>0.0</td>\n",
              "      <td>0.0</td>\n",
              "      <td>0.0</td>\n",
              "      <td>0.0</td>\n",
              "      <td>0.0</td>\n",
              "      <td>0.0</td>\n",
              "      <td>0.0</td>\n",
              "    </tr>\n",
              "    <tr>\n",
              "      <th>3</th>\n",
              "      <td>a</td>\n",
              "      <td>2023-11-23</td>\n",
              "      <td>2.111852e+07</td>\n",
              "      <td>0.0</td>\n",
              "      <td>0.0</td>\n",
              "      <td>0.0</td>\n",
              "      <td>0.0</td>\n",
              "      <td>0.0</td>\n",
              "      <td>0.0</td>\n",
              "      <td>0.0</td>\n",
              "      <td>...</td>\n",
              "      <td>0.0</td>\n",
              "      <td>1.0</td>\n",
              "      <td>0.0</td>\n",
              "      <td>0.0</td>\n",
              "      <td>0.0</td>\n",
              "      <td>0.0</td>\n",
              "      <td>0.0</td>\n",
              "      <td>0.0</td>\n",
              "      <td>0.0</td>\n",
              "      <td>0.0</td>\n",
              "    </tr>\n",
              "    <tr>\n",
              "      <th>4</th>\n",
              "      <td>a</td>\n",
              "      <td>2023-11-24</td>\n",
              "      <td>2.471033e+07</td>\n",
              "      <td>0.0</td>\n",
              "      <td>0.0</td>\n",
              "      <td>0.0</td>\n",
              "      <td>0.0</td>\n",
              "      <td>0.0</td>\n",
              "      <td>0.0</td>\n",
              "      <td>0.0</td>\n",
              "      <td>...</td>\n",
              "      <td>0.0</td>\n",
              "      <td>0.0</td>\n",
              "      <td>1.0</td>\n",
              "      <td>0.0</td>\n",
              "      <td>0.0</td>\n",
              "      <td>0.0</td>\n",
              "      <td>0.0</td>\n",
              "      <td>0.0</td>\n",
              "      <td>0.0</td>\n",
              "      <td>0.0</td>\n",
              "    </tr>\n",
              "  </tbody>\n",
              "</table>\n",
              "<p>5 rows × 33 columns</p>\n",
              "</div>"
            ]
          },
          "metadata": {},
          "execution_count": 17
        }
      ]
    },
    {
      "cell_type": "markdown",
      "source": [
        "## c. Plot Data"
      ],
      "metadata": {
        "id": "z08aaPeL41jz"
      }
    },
    {
      "cell_type": "code",
      "source": [
        "fig = plot_series(\n",
        "    train, # DataFrame with columns [id_col, time_col, target_col]\n",
        "    #test,\n",
        "    ids=None,\n",
        "    max_insample_length=None, # Maximum number of train/insample observations to be plotted.\n",
        "    engine='plotly', # Library used to plot. ‘plotly’, ‘plotly-resampler’ or ‘matplotlib’.\n",
        "    palette='viridis', # Name of the matplotlib colormap to use\n",
        "    )\n",
        "\n",
        "fig.update_layout(\n",
        "    #width=1600,\n",
        "    height=900,\n",
        ")\n",
        "\n",
        "fig.show(renderer=\"colab\")"
      ],
      "metadata": {
        "id": "QfXj7Jqi41g-",
        "colab": {
          "base_uri": "https://localhost:8080/",
          "height": 917
        },
        "outputId": "c23e6e60-b611-4ef4-b88c-e0aecd0e23dd"
      },
      "execution_count": 19,
      "outputs": [
        {
          "output_type": "display_data",
          "data": {
            "text/html": [
              "<html>\n",
              "<head><meta charset=\"utf-8\" /></head>\n",
              "<body>\n",
              "    <div>            <script src=\"https://cdnjs.cloudflare.com/ajax/libs/mathjax/2.7.5/MathJax.js?config=TeX-AMS-MML_SVG\"></script><script type=\"text/javascript\">if (window.MathJax && window.MathJax.Hub && window.MathJax.Hub.Config) {window.MathJax.Hub.Config({SVG: {font: \"STIX-Web\"}});}</script>                <script type=\"text/javascript\">window.PlotlyConfig = {MathJaxConfig: 'local'};</script>\n",
              "        <script src=\"https://cdn.plot.ly/plotly-2.12.1.min.js\"></script>                <div id=\"9cf2d8fb-a05f-43f4-9051-6493a985bd04\" class=\"plotly-graph-div\" style=\"height:900px; width:100%;\"></div>            <script type=\"text/javascript\">                                    window.PLOTLYENV=window.PLOTLYENV || {};                                    if (document.getElementById(\"9cf2d8fb-a05f-43f4-9051-6493a985bd04\")) {                    Plotly.newPlot(                        \"9cf2d8fb-a05f-43f4-9051-6493a985bd04\",                        [{\"legendgroup\":\"y\",\"line\":{\"color\":\"#440154\",\"width\":1},\"mode\":\"lines\",\"name\":\"y\",\"showlegend\":true,\"x\":[\"2023-01-01T00:00:00\",\"2023-01-02T00:00:00\",\"2023-01-03T00:00:00\",\"2023-01-04T00:00:00\",\"2023-01-05T00:00:00\",\"2023-01-06T00:00:00\",\"2023-01-07T00:00:00\",\"2023-01-08T00:00:00\",\"2023-01-09T00:00:00\",\"2023-01-10T00:00:00\",\"2023-01-11T00:00:00\",\"2023-01-12T00:00:00\",\"2023-01-13T00:00:00\",\"2023-01-14T00:00:00\",\"2023-01-15T00:00:00\",\"2023-01-16T00:00:00\",\"2023-01-17T00:00:00\",\"2023-01-18T00:00:00\",\"2023-01-19T00:00:00\",\"2023-01-20T00:00:00\",\"2023-01-21T00:00:00\",\"2023-01-22T00:00:00\",\"2023-01-23T00:00:00\",\"2023-01-24T00:00:00\",\"2023-01-25T00:00:00\",\"2023-01-26T00:00:00\",\"2023-01-27T00:00:00\",\"2023-01-28T00:00:00\",\"2023-01-29T00:00:00\",\"2023-01-30T00:00:00\",\"2023-01-31T00:00:00\",\"2023-02-01T00:00:00\",\"2023-02-02T00:00:00\",\"2023-02-03T00:00:00\",\"2023-02-04T00:00:00\",\"2023-02-05T00:00:00\",\"2023-02-06T00:00:00\",\"2023-02-07T00:00:00\",\"2023-02-08T00:00:00\",\"2023-02-09T00:00:00\",\"2023-02-10T00:00:00\",\"2023-02-11T00:00:00\",\"2023-02-12T00:00:00\",\"2023-02-13T00:00:00\",\"2023-02-14T00:00:00\",\"2023-02-15T00:00:00\",\"2023-02-16T00:00:00\",\"2023-02-17T00:00:00\",\"2023-02-18T00:00:00\",\"2023-02-19T00:00:00\",\"2023-02-20T00:00:00\",\"2023-02-21T00:00:00\",\"2023-02-22T00:00:00\",\"2023-02-23T00:00:00\",\"2023-02-24T00:00:00\",\"2023-02-25T00:00:00\",\"2023-02-26T00:00:00\",\"2023-02-27T00:00:00\",\"2023-02-28T00:00:00\",\"2023-03-01T00:00:00\",\"2023-03-02T00:00:00\",\"2023-03-03T00:00:00\",\"2023-03-04T00:00:00\",\"2023-03-05T00:00:00\",\"2023-03-06T00:00:00\",\"2023-03-07T00:00:00\",\"2023-03-08T00:00:00\",\"2023-03-09T00:00:00\",\"2023-03-10T00:00:00\",\"2023-03-11T00:00:00\",\"2023-03-12T00:00:00\",\"2023-03-13T00:00:00\",\"2023-03-14T00:00:00\",\"2023-03-15T00:00:00\",\"2023-03-16T00:00:00\",\"2023-03-17T00:00:00\",\"2023-03-18T00:00:00\",\"2023-03-19T00:00:00\",\"2023-03-20T00:00:00\",\"2023-03-21T00:00:00\",\"2023-03-22T00:00:00\",\"2023-03-23T00:00:00\",\"2023-03-24T00:00:00\",\"2023-03-25T00:00:00\",\"2023-03-26T00:00:00\",\"2023-03-27T00:00:00\",\"2023-03-28T00:00:00\",\"2023-03-29T00:00:00\",\"2023-03-30T00:00:00\",\"2023-03-31T00:00:00\",\"2023-04-01T00:00:00\",\"2023-04-02T00:00:00\",\"2023-04-03T00:00:00\",\"2023-04-04T00:00:00\",\"2023-04-05T00:00:00\",\"2023-04-06T00:00:00\",\"2023-04-07T00:00:00\",\"2023-04-08T00:00:00\",\"2023-04-09T00:00:00\",\"2023-04-10T00:00:00\",\"2023-04-11T00:00:00\",\"2023-04-12T00:00:00\",\"2023-04-13T00:00:00\",\"2023-04-14T00:00:00\",\"2023-04-15T00:00:00\",\"2023-04-16T00:00:00\",\"2023-04-17T00:00:00\",\"2023-04-18T00:00:00\",\"2023-04-19T00:00:00\",\"2023-04-20T00:00:00\",\"2023-04-21T00:00:00\",\"2023-04-22T00:00:00\",\"2023-04-23T00:00:00\",\"2023-04-24T00:00:00\",\"2023-04-25T00:00:00\",\"2023-04-26T00:00:00\",\"2023-04-27T00:00:00\",\"2023-04-28T00:00:00\",\"2023-04-29T00:00:00\",\"2023-04-30T00:00:00\",\"2023-05-01T00:00:00\",\"2023-05-02T00:00:00\",\"2023-05-03T00:00:00\",\"2023-05-04T00:00:00\",\"2023-05-05T00:00:00\",\"2023-05-06T00:00:00\",\"2023-05-07T00:00:00\",\"2023-05-08T00:00:00\",\"2023-05-09T00:00:00\",\"2023-05-10T00:00:00\",\"2023-05-11T00:00:00\",\"2023-05-12T00:00:00\",\"2023-05-13T00:00:00\",\"2023-05-14T00:00:00\",\"2023-05-15T00:00:00\",\"2023-05-16T00:00:00\",\"2023-05-17T00:00:00\",\"2023-05-18T00:00:00\",\"2023-05-19T00:00:00\",\"2023-05-20T00:00:00\",\"2023-05-21T00:00:00\",\"2023-05-22T00:00:00\",\"2023-05-23T00:00:00\",\"2023-05-24T00:00:00\",\"2023-05-25T00:00:00\",\"2023-05-26T00:00:00\",\"2023-05-27T00:00:00\",\"2023-05-28T00:00:00\",\"2023-05-29T00:00:00\",\"2023-05-30T00:00:00\",\"2023-05-31T00:00:00\",\"2023-06-01T00:00:00\",\"2023-06-02T00:00:00\",\"2023-06-03T00:00:00\",\"2023-06-04T00:00:00\",\"2023-06-05T00:00:00\",\"2023-06-06T00:00:00\",\"2023-06-07T00:00:00\",\"2023-06-08T00:00:00\",\"2023-06-09T00:00:00\",\"2023-06-10T00:00:00\",\"2023-06-11T00:00:00\",\"2023-06-12T00:00:00\",\"2023-06-13T00:00:00\",\"2023-06-14T00:00:00\",\"2023-06-15T00:00:00\",\"2023-06-16T00:00:00\",\"2023-06-17T00:00:00\",\"2023-06-18T00:00:00\",\"2023-06-19T00:00:00\",\"2023-06-20T00:00:00\",\"2023-06-21T00:00:00\",\"2023-06-22T00:00:00\",\"2023-06-23T00:00:00\",\"2023-06-24T00:00:00\",\"2023-06-25T00:00:00\",\"2023-06-26T00:00:00\",\"2023-06-27T00:00:00\",\"2023-06-28T00:00:00\",\"2023-06-29T00:00:00\",\"2023-06-30T00:00:00\",\"2023-07-01T00:00:00\",\"2023-07-02T00:00:00\",\"2023-07-03T00:00:00\",\"2023-07-04T00:00:00\",\"2023-07-05T00:00:00\",\"2023-07-06T00:00:00\",\"2023-07-07T00:00:00\",\"2023-07-08T00:00:00\",\"2023-07-09T00:00:00\",\"2023-07-10T00:00:00\",\"2023-07-11T00:00:00\",\"2023-07-12T00:00:00\",\"2023-07-13T00:00:00\",\"2023-07-14T00:00:00\",\"2023-07-15T00:00:00\",\"2023-07-16T00:00:00\",\"2023-07-17T00:00:00\",\"2023-07-18T00:00:00\",\"2023-07-19T00:00:00\",\"2023-07-20T00:00:00\",\"2023-07-21T00:00:00\",\"2023-07-22T00:00:00\",\"2023-07-23T00:00:00\",\"2023-07-24T00:00:00\",\"2023-07-25T00:00:00\",\"2023-07-26T00:00:00\",\"2023-07-27T00:00:00\",\"2023-07-28T00:00:00\",\"2023-07-29T00:00:00\",\"2023-07-30T00:00:00\",\"2023-07-31T00:00:00\",\"2023-08-01T00:00:00\",\"2023-08-02T00:00:00\",\"2023-08-03T00:00:00\",\"2023-08-04T00:00:00\",\"2023-08-05T00:00:00\",\"2023-08-06T00:00:00\",\"2023-08-07T00:00:00\",\"2023-08-08T00:00:00\",\"2023-08-09T00:00:00\",\"2023-08-10T00:00:00\",\"2023-08-11T00:00:00\",\"2023-08-12T00:00:00\",\"2023-08-13T00:00:00\",\"2023-08-14T00:00:00\",\"2023-08-15T00:00:00\",\"2023-08-16T00:00:00\",\"2023-08-17T00:00:00\",\"2023-08-18T00:00:00\",\"2023-08-19T00:00:00\",\"2023-08-20T00:00:00\",\"2023-08-21T00:00:00\",\"2023-08-22T00:00:00\",\"2023-08-23T00:00:00\",\"2023-08-24T00:00:00\",\"2023-08-25T00:00:00\",\"2023-08-26T00:00:00\",\"2023-08-27T00:00:00\",\"2023-08-28T00:00:00\",\"2023-08-29T00:00:00\",\"2023-08-30T00:00:00\",\"2023-08-31T00:00:00\",\"2023-09-01T00:00:00\",\"2023-09-02T00:00:00\",\"2023-09-03T00:00:00\",\"2023-09-04T00:00:00\",\"2023-09-05T00:00:00\",\"2023-09-06T00:00:00\",\"2023-09-07T00:00:00\",\"2023-09-08T00:00:00\",\"2023-09-09T00:00:00\",\"2023-09-10T00:00:00\",\"2023-09-11T00:00:00\",\"2023-09-12T00:00:00\",\"2023-09-13T00:00:00\",\"2023-09-14T00:00:00\",\"2023-09-15T00:00:00\",\"2023-09-16T00:00:00\",\"2023-09-17T00:00:00\",\"2023-09-18T00:00:00\",\"2023-09-19T00:00:00\",\"2023-09-20T00:00:00\",\"2023-09-21T00:00:00\",\"2023-09-22T00:00:00\",\"2023-09-23T00:00:00\",\"2023-09-24T00:00:00\",\"2023-09-25T00:00:00\",\"2023-09-26T00:00:00\",\"2023-09-27T00:00:00\",\"2023-09-28T00:00:00\",\"2023-09-29T00:00:00\",\"2023-09-30T00:00:00\",\"2023-10-01T00:00:00\",\"2023-10-02T00:00:00\",\"2023-10-03T00:00:00\",\"2023-10-04T00:00:00\",\"2023-10-05T00:00:00\",\"2023-10-06T00:00:00\",\"2023-10-07T00:00:00\",\"2023-10-08T00:00:00\",\"2023-10-09T00:00:00\",\"2023-10-10T00:00:00\",\"2023-10-11T00:00:00\",\"2023-10-12T00:00:00\",\"2023-10-13T00:00:00\",\"2023-10-14T00:00:00\",\"2023-10-15T00:00:00\",\"2023-10-16T00:00:00\",\"2023-10-17T00:00:00\",\"2023-10-18T00:00:00\",\"2023-10-19T00:00:00\",\"2023-10-20T00:00:00\",\"2023-10-21T00:00:00\",\"2023-10-22T00:00:00\",\"2023-10-23T00:00:00\",\"2023-10-24T00:00:00\",\"2023-10-25T00:00:00\",\"2023-10-26T00:00:00\",\"2023-10-27T00:00:00\",\"2023-10-28T00:00:00\",\"2023-10-29T00:00:00\",\"2023-10-30T00:00:00\",\"2023-10-31T00:00:00\",\"2023-11-01T00:00:00\",\"2023-11-02T00:00:00\",\"2023-11-03T00:00:00\",\"2023-11-04T00:00:00\",\"2023-11-05T00:00:00\",\"2023-11-06T00:00:00\",\"2023-11-07T00:00:00\",\"2023-11-08T00:00:00\",\"2023-11-09T00:00:00\",\"2023-11-10T00:00:00\",\"2023-11-11T00:00:00\",\"2023-11-12T00:00:00\",\"2023-11-13T00:00:00\",\"2023-11-14T00:00:00\",\"2023-11-15T00:00:00\",\"2023-11-16T00:00:00\",\"2023-11-17T00:00:00\",\"2023-11-18T00:00:00\",\"2023-11-19T00:00:00\"],\"y\":[2564658.0,5721417.333333333,5427968.0,15348131.0,9015385.0,10150180.0,4879332.333333333,4044165.3333333335,8772763.333333334,11405975.666666666,5566386.0,3623443.0,4395047.0,2907462.0,1741854.0,4422340.666666667,3668000.0,2663833.3333333335,2937500.0,2967430.0,2578326.6666666665,2595229.6666666665,1303666.6666666667,2761500.0,2212333.3333333335,2245833.3333333335,2737191.0,2864166.6666666665,1867666.6666666667,3664833.3333333335,3789401.6666666665,6859021.0,6747949.333333333,7145308.333333333,4811458.0,4047707.3333333335,8704178.333333334,9678468.333333334,7783673.0,9002284.666666666,9650493.666666666,4280596.666666667,3566283.6666666665,3810333.3333333335,2777000.0,5290166.666666667,3151369.0,1012571.3333333334,2313833.3333333335,2646015.6666666665,6169190.0,1959500.0,1738737.3333333333,1370833.3333333333,2514166.6666666665,3300166.6666666665,2342520.0,1859500.0,5276736.333333333,8029066.0,6311159.0,4983533.333333333,4248666.666666667,5145222.666666667,18897032.333333332,17980177.666666668,10488613.0,7191980.333333333,10971449.666666666,5117333.333333333,2797718.3333333335,6983643.333333333,6347544.0,4027666.6666666665,2667314.0,4846063.333333333,1931189.0,2700166.6666666665,4950071.666666667,4089006.6666666665,1852993.3333333333,1597752.6666666667,994166.6666666666,1907808.0,2215515.6666666665,3446596.6666666665,3570333.3333333335,3453955.3333333335,4552565.666666667,4252333.333333333,4530305.0,4796666.666666667,9224816.0,9270130.333333334,9073387.666666666,11811388.333333334,4583969.0,7447572.666666667,3813193.6666666665,11247325.333333334,6857250.333333333,6781252.0,6675087.333333333,4363510.0,2383777.3333333335,2804500.0,4075000.0,3470500.0,3957285.6666666665,3759739.0,1812586.0,1479666.6666666667,2379833.3333333335,1300500.0,2251833.3333333335,2837833.3333333335,4131548.6666666665,3998585.3333333335,3941000.0,3729248.0,4914612.666666667,9267520.0,6523584.333333333,9635934.0,7950150.666666667,5718500.0,6207571.333333333,9116930.666666666,19031748.0,11532349.666666666,9020955.333333334,7173730.0,3453166.6666666665,3248500.0,7762007.0,3800629.6666666665,3968468.6666666665,3236900.0,4793666.666666667,5421817.333333333,3367466.0,3103333.3333333335,2617089.6666666665,6835166.666666667,3848833.3333333335,2751420.6666666665,4523666.666666667,2672500.0,4852000.0,4582099.666666667,4341762.0,6767517.666666667,7489172.666666667,4549966.666666667,5784099.333333333,16275700.0,10529078.333333334,9833453.0,11517878.666666666,9154467.666666666,11711580.0,5844500.0,9446605.0,5697068.333333333,5121699.0,4983046.333333333,4459626.666666667,3999000.0,2883581.0,5981872.666666667,4650560.0,2113293.0,2152833.3333333335,3811782.3333333335,4178749.3333333335,2556166.6666666665,6701000.0,3265020.6666666665,4014858.3333333335,2028300.0,3582333.3333333335,7011446.0,5952250.333333333,10482208.666666666,11925237.333333334,7450833.333333333,10065020.333333334,13082987.666666666,9022365.333333334,7844500.0,17241357.666666668,8719426.666666666,7096000.0,6234446.666666667,5763855.666666667,4756333.333333333,3712617.6666666665,4614901.0,5387833.333333333,5987635.666666667,6421944.666666667,3403417.6666666665,2341033.3333333335,1878949.3333333333,5100000.0,3872833.3333333335,4360666.666666667,3213017.0,4571254.666666667,2805833.3333333335,3587333.3333333335,7859871.333333333,9617966.666666666,7761399.333333333,6980846.666666667,7859926.0,7010386.0,6764504.0,11380188.666666666,10363410.0,12837527.666666666,16175993.666666666,8618752.666666666,4712666.666666667,2958550.6666666665,5584256.0,5399626.0,4104431.0,2270333.3333333335,3598613.6666666665,4540361.0,5187666.666666667,5097181.333333333,4933337.333333333,5669863.333333333,3053410.0,5289596.666666667,3610387.6666666665,2101500.0,7480883.333333333,5056810.666666667,4440242.666666667,4608833.333333333,11752168.0,7541003.0,6684000.0,11197360.666666666,10143228.333333334,9242460.666666666,9156618.0,12100644.666666666,10052072.333333334,10762544.666666666,11594185.333333334,7745550.333333333,5093591.0,5500833.333333333,6327470.666666667,3774509.0,3423213.0,7123776.0,7575743.0,5649475.333333333,3580058.6666666665,4867395.666666667,2802166.6666666665,1783000.0,4281166.666666667,4314316.666666667,2509413.3333333335,3006333.3333333335,3906987.6666666665,6081872.666666667,5306660.666666667,10327711.333333334,10580500.0,14285338.333333334,8926052.0,8269180.666666667,10054189.333333334,4839699.0,10648971.0,4271326.0,3011151.6666666665,5490770.0,2180011.3333333335,1015333.3333333334,622040.0,1899166.6666666667,4576080.0,4477919.333333333,5647666.666666667,6134910.666666667,3711833.3333333335,3060000.0,4952658.666666667,3608046.0,3943016.3333333335,5495750.0,2970475.0,3344000.0,3097279.6666666665,4512932.333333333,3558000.0,8675500.0,7860669.666666667,5858389.333333333,7777049.0,5023500.0,9698814.0,8664391.0,10032499.666666666,9402347.0,12708176.333333334,5771166.666666667,4199274.666666667,5608679.666666667,6751256.333333333,4714261.333333333,7846575.0,5173782.666666667,2389666.6666666665,3568614.3333333335],\"type\":\"scatter\",\"xaxis\":\"x\",\"yaxis\":\"y\"},{\"legendgroup\":\"y\",\"line\":{\"color\":\"#440154\",\"width\":1},\"mode\":\"lines\",\"name\":\"y\",\"showlegend\":false,\"x\":[\"2023-01-01T00:00:00\",\"2023-01-02T00:00:00\",\"2023-01-03T00:00:00\",\"2023-01-04T00:00:00\",\"2023-01-05T00:00:00\",\"2023-01-06T00:00:00\",\"2023-01-07T00:00:00\",\"2023-01-08T00:00:00\",\"2023-01-09T00:00:00\",\"2023-01-10T00:00:00\",\"2023-01-11T00:00:00\",\"2023-01-12T00:00:00\",\"2023-01-13T00:00:00\",\"2023-01-14T00:00:00\",\"2023-01-15T00:00:00\",\"2023-01-16T00:00:00\",\"2023-01-17T00:00:00\",\"2023-01-18T00:00:00\",\"2023-01-19T00:00:00\",\"2023-01-20T00:00:00\",\"2023-01-21T00:00:00\",\"2023-01-22T00:00:00\",\"2023-01-23T00:00:00\",\"2023-01-24T00:00:00\",\"2023-01-25T00:00:00\",\"2023-01-26T00:00:00\",\"2023-01-27T00:00:00\",\"2023-01-28T00:00:00\",\"2023-01-29T00:00:00\",\"2023-01-30T00:00:00\",\"2023-01-31T00:00:00\",\"2023-02-01T00:00:00\",\"2023-02-02T00:00:00\",\"2023-02-03T00:00:00\",\"2023-02-04T00:00:00\",\"2023-02-05T00:00:00\",\"2023-02-06T00:00:00\",\"2023-02-07T00:00:00\",\"2023-02-08T00:00:00\",\"2023-02-09T00:00:00\",\"2023-02-10T00:00:00\",\"2023-02-11T00:00:00\",\"2023-02-12T00:00:00\",\"2023-02-13T00:00:00\",\"2023-02-14T00:00:00\",\"2023-02-15T00:00:00\",\"2023-02-16T00:00:00\",\"2023-02-17T00:00:00\",\"2023-02-18T00:00:00\",\"2023-02-19T00:00:00\",\"2023-02-20T00:00:00\",\"2023-02-21T00:00:00\",\"2023-02-22T00:00:00\",\"2023-02-23T00:00:00\",\"2023-02-24T00:00:00\",\"2023-02-25T00:00:00\",\"2023-02-26T00:00:00\",\"2023-02-27T00:00:00\",\"2023-02-28T00:00:00\",\"2023-03-01T00:00:00\",\"2023-03-02T00:00:00\",\"2023-03-03T00:00:00\",\"2023-03-04T00:00:00\",\"2023-03-05T00:00:00\",\"2023-03-06T00:00:00\",\"2023-03-07T00:00:00\",\"2023-03-08T00:00:00\",\"2023-03-09T00:00:00\",\"2023-03-10T00:00:00\",\"2023-03-11T00:00:00\",\"2023-03-12T00:00:00\",\"2023-03-13T00:00:00\",\"2023-03-14T00:00:00\",\"2023-03-15T00:00:00\",\"2023-03-16T00:00:00\",\"2023-03-17T00:00:00\",\"2023-03-18T00:00:00\",\"2023-03-19T00:00:00\",\"2023-03-20T00:00:00\",\"2023-03-21T00:00:00\",\"2023-03-22T00:00:00\",\"2023-03-23T00:00:00\",\"2023-03-24T00:00:00\",\"2023-03-25T00:00:00\",\"2023-03-26T00:00:00\",\"2023-03-27T00:00:00\",\"2023-03-28T00:00:00\",\"2023-03-29T00:00:00\",\"2023-03-30T00:00:00\",\"2023-03-31T00:00:00\",\"2023-04-01T00:00:00\",\"2023-04-02T00:00:00\",\"2023-04-03T00:00:00\",\"2023-04-04T00:00:00\",\"2023-04-05T00:00:00\",\"2023-04-06T00:00:00\",\"2023-04-07T00:00:00\",\"2023-04-08T00:00:00\",\"2023-04-09T00:00:00\",\"2023-04-10T00:00:00\",\"2023-04-11T00:00:00\",\"2023-04-12T00:00:00\",\"2023-04-13T00:00:00\",\"2023-04-14T00:00:00\",\"2023-04-15T00:00:00\",\"2023-04-16T00:00:00\",\"2023-04-17T00:00:00\",\"2023-04-18T00:00:00\",\"2023-04-19T00:00:00\",\"2023-04-20T00:00:00\",\"2023-04-21T00:00:00\",\"2023-04-22T00:00:00\",\"2023-04-23T00:00:00\",\"2023-04-24T00:00:00\",\"2023-04-25T00:00:00\",\"2023-04-26T00:00:00\",\"2023-04-27T00:00:00\",\"2023-04-28T00:00:00\",\"2023-04-29T00:00:00\",\"2023-04-30T00:00:00\",\"2023-05-01T00:00:00\",\"2023-05-02T00:00:00\",\"2023-05-03T00:00:00\",\"2023-05-04T00:00:00\",\"2023-05-05T00:00:00\",\"2023-05-06T00:00:00\",\"2023-05-07T00:00:00\",\"2023-05-08T00:00:00\",\"2023-05-09T00:00:00\",\"2023-05-10T00:00:00\",\"2023-05-11T00:00:00\",\"2023-05-12T00:00:00\",\"2023-05-13T00:00:00\",\"2023-05-14T00:00:00\",\"2023-05-15T00:00:00\",\"2023-05-16T00:00:00\",\"2023-05-17T00:00:00\",\"2023-05-18T00:00:00\",\"2023-05-19T00:00:00\",\"2023-05-20T00:00:00\",\"2023-05-21T00:00:00\",\"2023-05-22T00:00:00\",\"2023-05-23T00:00:00\",\"2023-05-24T00:00:00\",\"2023-05-25T00:00:00\",\"2023-05-26T00:00:00\",\"2023-05-27T00:00:00\",\"2023-05-28T00:00:00\",\"2023-05-29T00:00:00\",\"2023-05-30T00:00:00\",\"2023-05-31T00:00:00\",\"2023-06-01T00:00:00\",\"2023-06-02T00:00:00\",\"2023-06-03T00:00:00\",\"2023-06-04T00:00:00\",\"2023-06-05T00:00:00\",\"2023-06-06T00:00:00\",\"2023-06-07T00:00:00\",\"2023-06-08T00:00:00\",\"2023-06-09T00:00:00\",\"2023-06-10T00:00:00\",\"2023-06-11T00:00:00\",\"2023-06-12T00:00:00\",\"2023-06-13T00:00:00\",\"2023-06-14T00:00:00\",\"2023-06-15T00:00:00\",\"2023-06-16T00:00:00\",\"2023-06-17T00:00:00\",\"2023-06-18T00:00:00\",\"2023-06-19T00:00:00\",\"2023-06-20T00:00:00\",\"2023-06-21T00:00:00\",\"2023-06-22T00:00:00\",\"2023-06-23T00:00:00\",\"2023-06-24T00:00:00\",\"2023-06-25T00:00:00\",\"2023-06-26T00:00:00\",\"2023-06-27T00:00:00\",\"2023-06-28T00:00:00\",\"2023-06-29T00:00:00\",\"2023-06-30T00:00:00\",\"2023-07-01T00:00:00\",\"2023-07-02T00:00:00\",\"2023-07-03T00:00:00\",\"2023-07-04T00:00:00\",\"2023-07-05T00:00:00\",\"2023-07-06T00:00:00\",\"2023-07-07T00:00:00\",\"2023-07-08T00:00:00\",\"2023-07-09T00:00:00\",\"2023-07-10T00:00:00\",\"2023-07-11T00:00:00\",\"2023-07-12T00:00:00\",\"2023-07-13T00:00:00\",\"2023-07-14T00:00:00\",\"2023-07-15T00:00:00\",\"2023-07-16T00:00:00\",\"2023-07-17T00:00:00\",\"2023-07-18T00:00:00\",\"2023-07-19T00:00:00\",\"2023-07-20T00:00:00\",\"2023-07-21T00:00:00\",\"2023-07-22T00:00:00\",\"2023-07-23T00:00:00\",\"2023-07-24T00:00:00\",\"2023-07-25T00:00:00\",\"2023-07-26T00:00:00\",\"2023-07-27T00:00:00\",\"2023-07-28T00:00:00\",\"2023-07-29T00:00:00\",\"2023-07-30T00:00:00\",\"2023-07-31T00:00:00\",\"2023-08-01T00:00:00\",\"2023-08-02T00:00:00\",\"2023-08-03T00:00:00\",\"2023-08-04T00:00:00\",\"2023-08-05T00:00:00\",\"2023-08-06T00:00:00\",\"2023-08-07T00:00:00\",\"2023-08-08T00:00:00\",\"2023-08-09T00:00:00\",\"2023-08-10T00:00:00\",\"2023-08-11T00:00:00\",\"2023-08-12T00:00:00\",\"2023-08-13T00:00:00\",\"2023-08-14T00:00:00\",\"2023-08-15T00:00:00\",\"2023-08-16T00:00:00\",\"2023-08-17T00:00:00\",\"2023-08-18T00:00:00\",\"2023-08-19T00:00:00\",\"2023-08-20T00:00:00\",\"2023-08-21T00:00:00\",\"2023-08-22T00:00:00\",\"2023-08-23T00:00:00\",\"2023-08-24T00:00:00\",\"2023-08-25T00:00:00\",\"2023-08-26T00:00:00\",\"2023-08-27T00:00:00\",\"2023-08-28T00:00:00\",\"2023-08-29T00:00:00\",\"2023-08-30T00:00:00\",\"2023-08-31T00:00:00\",\"2023-09-01T00:00:00\",\"2023-09-02T00:00:00\",\"2023-09-03T00:00:00\",\"2023-09-04T00:00:00\",\"2023-09-05T00:00:00\",\"2023-09-06T00:00:00\",\"2023-09-07T00:00:00\",\"2023-09-08T00:00:00\",\"2023-09-09T00:00:00\",\"2023-09-10T00:00:00\",\"2023-09-11T00:00:00\",\"2023-09-12T00:00:00\",\"2023-09-13T00:00:00\",\"2023-09-14T00:00:00\",\"2023-09-15T00:00:00\",\"2023-09-16T00:00:00\",\"2023-09-17T00:00:00\",\"2023-09-18T00:00:00\",\"2023-09-19T00:00:00\",\"2023-09-20T00:00:00\",\"2023-09-21T00:00:00\",\"2023-09-22T00:00:00\",\"2023-09-23T00:00:00\",\"2023-09-24T00:00:00\",\"2023-09-25T00:00:00\",\"2023-09-26T00:00:00\",\"2023-09-27T00:00:00\",\"2023-09-28T00:00:00\",\"2023-09-29T00:00:00\",\"2023-09-30T00:00:00\",\"2023-10-01T00:00:00\",\"2023-10-02T00:00:00\",\"2023-10-03T00:00:00\",\"2023-10-04T00:00:00\",\"2023-10-05T00:00:00\",\"2023-10-06T00:00:00\",\"2023-10-07T00:00:00\",\"2023-10-08T00:00:00\",\"2023-10-09T00:00:00\",\"2023-10-10T00:00:00\",\"2023-10-11T00:00:00\",\"2023-10-12T00:00:00\",\"2023-10-13T00:00:00\",\"2023-10-14T00:00:00\",\"2023-10-15T00:00:00\",\"2023-10-16T00:00:00\",\"2023-10-17T00:00:00\",\"2023-10-18T00:00:00\",\"2023-10-19T00:00:00\",\"2023-10-20T00:00:00\",\"2023-10-21T00:00:00\",\"2023-10-22T00:00:00\",\"2023-10-23T00:00:00\",\"2023-10-24T00:00:00\",\"2023-10-25T00:00:00\",\"2023-10-26T00:00:00\",\"2023-10-27T00:00:00\",\"2023-10-28T00:00:00\",\"2023-10-29T00:00:00\",\"2023-10-30T00:00:00\",\"2023-10-31T00:00:00\",\"2023-11-01T00:00:00\",\"2023-11-02T00:00:00\",\"2023-11-03T00:00:00\",\"2023-11-04T00:00:00\",\"2023-11-05T00:00:00\",\"2023-11-06T00:00:00\",\"2023-11-07T00:00:00\",\"2023-11-08T00:00:00\",\"2023-11-09T00:00:00\",\"2023-11-10T00:00:00\",\"2023-11-11T00:00:00\",\"2023-11-12T00:00:00\",\"2023-11-13T00:00:00\",\"2023-11-14T00:00:00\",\"2023-11-15T00:00:00\",\"2023-11-16T00:00:00\",\"2023-11-17T00:00:00\",\"2023-11-18T00:00:00\",\"2023-11-19T00:00:00\"],\"y\":[223606930.0,321152075.0,81850017.0,320263147.0,91722135.33333333,293924971.6666667,248771566.33333334,352904359.3333333,407819100.0,163197323.0,502086423.0,104682666.66666667,444486432.6666667,71114297.66666667,478116777.6666667,643917744.6666666,428740131.6666667,797276306.6666666,1234231011.6666667,2537816618.0,732427156.0,369193146.6666667,359835950.6666667,195330109.66666666,4215361.333333333,80476617.0,2276246.6666666665,128914968.0,227334757.33333334,161631219.33333334,230081021.66666666,264325368.33333334,539529398.0,379964806.6666667,474578582.6666667,397304259.0,645283316.0,376003853.3333333,494249712.6666667,299368807.6666667,410378283.3333333,474234750.0,367511207.6666667,436305056.3333333,401274805.0,464217303.0,702919431.6666666,685671794.0,975201369.3333334,1356200257.3333333,2765783136.6666665,798381640.6666666,458268082.6666667,342304892.0,333476008.0,329345389.0,270509412.0,450813891.6666667,748498704.6666666,373546739.3333333,490614684.6666667,540752780.6666666,452011790.6666667,368902540.0,598840275.6666666,487088535.0,496672391.3333333,460314388.0,492278257.6666667,424634993.6666667,334112567.3333333,570591281.6666666,524779905.3333333,603680863.6666666,624809484.3333334,810097035.6666666,919149169.0,1217350919.0,2821406781.0,750352634.3333334,375645277.6666667,275523026.0,273604232.0,260144724.66666666,211635155.66666666,254998372.66666666,244758146.66666666,248467888.33333334,253750273.33333334,382478906.6666667,312979407.3333333,376826805.3333333,684462751.0,590073488.3333334,629198508.6666666,582384243.3333334,498668230.6666667,475740481.6666667,407470425.0,687585683.3333334,633480145.3333334,573617472.3333334,620087537.3333334,676815067.6666666,757347937.0,686250305.3333334,1010917904.3333334,1215006875.6666667,1453286417.3333333,2088112898.3333333,495765178.0,104403826.0,177852163.33333334,259521540.33333334,308428512.0,342671097.3333333,330952573.0,368706415.6666667,387096569.3333333,433588475.6666667,321843027.3333333,591353726.0,616443611.3333334,618340648.6666666,621243299.3333334,535639377.3333333,390304921.3333333,609107601.6666666,591993245.0,618413528.3333334,557759025.6666666,513744652.3333333,464269448.0,423967726.3333333,816158232.0,760843379.6666666,835312098.0,958617596.3333334,1699920831.6666667,2761910191.3333335,614836662.0,567512496.3333334,370530814.3333333,290852514.3333333,302007032.3333333,268387855.33333334,245194228.66666666,218421625.66666666,299631020.0,299541378.6666667,438022814.3333333,337799204.0,548543791.0,498376128.3333333,425856404.6666667,706165772.6666666,678514595.0,617721511.6666666,536727249.6666667,532686459.3333333,540908845.0,428612853.6666667,651188698.3333334,564279377.6666666,576658515.6666666,713479155.3333334,726681535.3333334,845073082.3333334,945047433.0,1961367267.6666667,3177714051.6666665,750825476.3333334,423654348.0,343599130.3333333,309653087.6666667,254159115.33333334,324997666.0,313554961.0,348894977.0,193554326.0,531657342.3333333,304841421.6666667,372005508.6666667,636001284.3333334,556008907.6666666,590366522.3333334,537297185.6666666,458673594.3333333,431627016.3333333,366002551.0,645819052.3333334,653592562.3333334,550250791.0,487841111.0,526100304.0,588000077.0,558044206.3333334,957149559.6666666,1196317336.3333333,1532559594.0,3069812194.6666665,784028752.3333334,467227066.0,299054665.6666667,335998514.0,328750387.0,291834483.6666667,264374841.66666666,245360933.0,279842028.0,264507322.33333334,437275880.6666667,413586330.0,593644361.6666666,607945405.6666666,562953048.0,486646174.0,383316874.0,619283743.3333334,537899648.3333334,498121320.0,551258966.0,475329352.0,435820426.6666667,362718532.0,624742386.6666666,691788699.3333334,705837976.3333334,569259167.3333334,1230142573.3333333,1822068397.6666667,2659052102.6666665,996168202.3333334,230683145.33333334,366815216.0,279073779.3333333,315103908.6666667,263214957.33333334,219076356.0,307868446.3333333,279274837.6666667,308016336.3333333,454983842.6666667,338307461.6666667,477254608.6666667,428004853.0,601058878.0,661183405.6666666,532351138.0,466113665.0,488502377.6666667,454122806.6666667,416678048.3333333,605452811.3333334,408071706.0,506098829.0,501400338.0,647519632.6666666,612246489.0,607684311.6666666,1174561096.3333333,1772533371.0,2955098043.6666665,689534445.6666666,385863773.6666667,307262566.0,234499599.0,349145510.3333333,284757372.6666667,271550175.3333333,244970075.33333334,355520952.0,564052191.0,293599940.3333333,576448178.3333334,623751835.3333334,546176689.6666666,567134617.6666666,480384769.0,420957199.6666667,342672366.6666667,564203939.6666666,614065537.3333334,525540570.0,486336348.6666667,494381160.6666667,488188548.6666667,479201186.0,830692789.6666666,906304773.6666666,1083930921.0,1568206147.6666667,2831293929.0,666529347.6666666,346197602.0,387916896.3333333,291621447.6666667,295849181.3333333,258638171.33333334,250481906.33333334,214765796.0,214413654.33333334,334729642.3333333,436568203.0,282061533.0,417856120.0,536780866.6666667,480434035.0,417954636.0,717599539.3333334,589049282.3333334,512004886.0,470448523.6666667,558107510.6666666,469090410.6666667,384510943.3333333,598629189.3333334,586309120.0,744027740.3333334,746291469.0,890156617.6666666,1164402425.6666667,1421018505.3333333],\"type\":\"scatter\",\"xaxis\":\"x2\",\"yaxis\":\"y2\"},{\"legendgroup\":\"y\",\"line\":{\"color\":\"#440154\",\"width\":1},\"mode\":\"lines\",\"name\":\"y\",\"showlegend\":false,\"x\":[\"2023-01-01T00:00:00\",\"2023-01-02T00:00:00\",\"2023-01-03T00:00:00\",\"2023-01-04T00:00:00\",\"2023-01-05T00:00:00\",\"2023-01-06T00:00:00\",\"2023-01-07T00:00:00\",\"2023-01-08T00:00:00\",\"2023-01-09T00:00:00\",\"2023-01-10T00:00:00\",\"2023-01-11T00:00:00\",\"2023-01-12T00:00:00\",\"2023-01-13T00:00:00\",\"2023-01-14T00:00:00\",\"2023-01-15T00:00:00\",\"2023-01-16T00:00:00\",\"2023-01-17T00:00:00\",\"2023-01-18T00:00:00\",\"2023-01-19T00:00:00\",\"2023-01-20T00:00:00\",\"2023-01-21T00:00:00\",\"2023-01-22T00:00:00\",\"2023-01-23T00:00:00\",\"2023-01-24T00:00:00\",\"2023-01-25T00:00:00\",\"2023-01-26T00:00:00\",\"2023-01-27T00:00:00\",\"2023-01-28T00:00:00\",\"2023-01-29T00:00:00\",\"2023-01-30T00:00:00\",\"2023-01-31T00:00:00\",\"2023-02-01T00:00:00\",\"2023-02-02T00:00:00\",\"2023-02-03T00:00:00\",\"2023-02-04T00:00:00\",\"2023-02-05T00:00:00\",\"2023-02-06T00:00:00\",\"2023-02-07T00:00:00\",\"2023-02-08T00:00:00\",\"2023-02-09T00:00:00\",\"2023-02-10T00:00:00\",\"2023-02-11T00:00:00\",\"2023-02-12T00:00:00\",\"2023-02-13T00:00:00\",\"2023-02-14T00:00:00\",\"2023-02-15T00:00:00\",\"2023-02-16T00:00:00\",\"2023-02-17T00:00:00\",\"2023-02-18T00:00:00\",\"2023-02-19T00:00:00\",\"2023-02-20T00:00:00\",\"2023-02-21T00:00:00\",\"2023-02-22T00:00:00\",\"2023-02-23T00:00:00\",\"2023-02-24T00:00:00\",\"2023-02-25T00:00:00\",\"2023-02-26T00:00:00\",\"2023-02-27T00:00:00\",\"2023-02-28T00:00:00\",\"2023-03-01T00:00:00\",\"2023-03-02T00:00:00\",\"2023-03-03T00:00:00\",\"2023-03-04T00:00:00\",\"2023-03-05T00:00:00\",\"2023-03-06T00:00:00\",\"2023-03-07T00:00:00\",\"2023-03-08T00:00:00\",\"2023-03-09T00:00:00\",\"2023-03-10T00:00:00\",\"2023-03-11T00:00:00\",\"2023-03-12T00:00:00\",\"2023-03-13T00:00:00\",\"2023-03-14T00:00:00\",\"2023-03-15T00:00:00\",\"2023-03-16T00:00:00\",\"2023-03-17T00:00:00\",\"2023-03-18T00:00:00\",\"2023-03-19T00:00:00\",\"2023-03-20T00:00:00\",\"2023-03-21T00:00:00\",\"2023-03-22T00:00:00\",\"2023-03-23T00:00:00\",\"2023-03-24T00:00:00\",\"2023-03-25T00:00:00\",\"2023-03-26T00:00:00\",\"2023-03-27T00:00:00\",\"2023-03-28T00:00:00\",\"2023-03-29T00:00:00\",\"2023-03-30T00:00:00\",\"2023-03-31T00:00:00\",\"2023-04-01T00:00:00\",\"2023-04-02T00:00:00\",\"2023-04-03T00:00:00\",\"2023-04-04T00:00:00\",\"2023-04-05T00:00:00\",\"2023-04-06T00:00:00\",\"2023-04-07T00:00:00\",\"2023-04-08T00:00:00\",\"2023-04-09T00:00:00\",\"2023-04-10T00:00:00\",\"2023-04-11T00:00:00\",\"2023-04-12T00:00:00\",\"2023-04-13T00:00:00\",\"2023-04-14T00:00:00\",\"2023-04-15T00:00:00\",\"2023-04-16T00:00:00\",\"2023-04-17T00:00:00\",\"2023-04-18T00:00:00\",\"2023-04-19T00:00:00\",\"2023-04-20T00:00:00\",\"2023-04-21T00:00:00\",\"2023-04-22T00:00:00\",\"2023-04-23T00:00:00\",\"2023-04-24T00:00:00\",\"2023-04-25T00:00:00\",\"2023-04-26T00:00:00\",\"2023-04-27T00:00:00\",\"2023-04-28T00:00:00\",\"2023-04-29T00:00:00\",\"2023-04-30T00:00:00\",\"2023-05-01T00:00:00\",\"2023-05-02T00:00:00\",\"2023-05-03T00:00:00\",\"2023-05-04T00:00:00\",\"2023-05-05T00:00:00\",\"2023-05-06T00:00:00\",\"2023-05-07T00:00:00\",\"2023-05-08T00:00:00\",\"2023-05-09T00:00:00\",\"2023-05-10T00:00:00\",\"2023-05-11T00:00:00\",\"2023-05-12T00:00:00\",\"2023-05-13T00:00:00\",\"2023-05-14T00:00:00\",\"2023-05-15T00:00:00\",\"2023-05-16T00:00:00\",\"2023-05-17T00:00:00\",\"2023-05-18T00:00:00\",\"2023-05-19T00:00:00\",\"2023-05-20T00:00:00\",\"2023-05-21T00:00:00\",\"2023-05-22T00:00:00\",\"2023-05-23T00:00:00\",\"2023-05-24T00:00:00\",\"2023-05-25T00:00:00\",\"2023-05-26T00:00:00\",\"2023-05-27T00:00:00\",\"2023-05-28T00:00:00\",\"2023-05-29T00:00:00\",\"2023-05-30T00:00:00\",\"2023-05-31T00:00:00\",\"2023-06-01T00:00:00\",\"2023-06-02T00:00:00\",\"2023-06-03T00:00:00\",\"2023-06-04T00:00:00\",\"2023-06-05T00:00:00\",\"2023-06-06T00:00:00\",\"2023-06-07T00:00:00\",\"2023-06-08T00:00:00\",\"2023-06-09T00:00:00\",\"2023-06-10T00:00:00\",\"2023-06-11T00:00:00\",\"2023-06-12T00:00:00\",\"2023-06-13T00:00:00\",\"2023-06-14T00:00:00\",\"2023-06-15T00:00:00\",\"2023-06-16T00:00:00\",\"2023-06-17T00:00:00\",\"2023-06-18T00:00:00\",\"2023-06-19T00:00:00\",\"2023-06-20T00:00:00\",\"2023-06-21T00:00:00\",\"2023-06-22T00:00:00\",\"2023-06-23T00:00:00\",\"2023-06-24T00:00:00\",\"2023-06-25T00:00:00\",\"2023-06-26T00:00:00\",\"2023-06-27T00:00:00\",\"2023-06-28T00:00:00\",\"2023-06-29T00:00:00\",\"2023-06-30T00:00:00\",\"2023-07-01T00:00:00\",\"2023-07-02T00:00:00\",\"2023-07-03T00:00:00\",\"2023-07-04T00:00:00\",\"2023-07-05T00:00:00\",\"2023-07-06T00:00:00\",\"2023-07-07T00:00:00\",\"2023-07-08T00:00:00\",\"2023-07-09T00:00:00\",\"2023-07-10T00:00:00\",\"2023-07-11T00:00:00\",\"2023-07-12T00:00:00\",\"2023-07-13T00:00:00\",\"2023-07-14T00:00:00\",\"2023-07-15T00:00:00\",\"2023-07-16T00:00:00\",\"2023-07-17T00:00:00\",\"2023-07-18T00:00:00\",\"2023-07-19T00:00:00\",\"2023-07-20T00:00:00\",\"2023-07-21T00:00:00\",\"2023-07-22T00:00:00\",\"2023-07-23T00:00:00\",\"2023-07-24T00:00:00\",\"2023-07-25T00:00:00\",\"2023-07-26T00:00:00\",\"2023-07-27T00:00:00\",\"2023-07-28T00:00:00\",\"2023-07-29T00:00:00\",\"2023-07-30T00:00:00\",\"2023-07-31T00:00:00\",\"2023-08-01T00:00:00\",\"2023-08-02T00:00:00\",\"2023-08-03T00:00:00\",\"2023-08-04T00:00:00\",\"2023-08-05T00:00:00\",\"2023-08-06T00:00:00\",\"2023-08-07T00:00:00\",\"2023-08-08T00:00:00\",\"2023-08-09T00:00:00\",\"2023-08-10T00:00:00\",\"2023-08-11T00:00:00\",\"2023-08-12T00:00:00\",\"2023-08-13T00:00:00\",\"2023-08-14T00:00:00\",\"2023-08-15T00:00:00\",\"2023-08-16T00:00:00\",\"2023-08-17T00:00:00\",\"2023-08-18T00:00:00\",\"2023-08-19T00:00:00\",\"2023-08-20T00:00:00\",\"2023-08-21T00:00:00\",\"2023-08-22T00:00:00\",\"2023-08-23T00:00:00\",\"2023-08-24T00:00:00\",\"2023-08-25T00:00:00\",\"2023-08-26T00:00:00\",\"2023-08-27T00:00:00\",\"2023-08-28T00:00:00\",\"2023-08-29T00:00:00\",\"2023-08-30T00:00:00\",\"2023-08-31T00:00:00\",\"2023-09-01T00:00:00\",\"2023-09-02T00:00:00\",\"2023-09-03T00:00:00\",\"2023-09-04T00:00:00\",\"2023-09-05T00:00:00\",\"2023-09-06T00:00:00\",\"2023-09-07T00:00:00\",\"2023-09-08T00:00:00\",\"2023-09-09T00:00:00\",\"2023-09-10T00:00:00\",\"2023-09-11T00:00:00\",\"2023-09-12T00:00:00\",\"2023-09-13T00:00:00\",\"2023-09-14T00:00:00\",\"2023-09-15T00:00:00\",\"2023-09-16T00:00:00\",\"2023-09-17T00:00:00\",\"2023-09-18T00:00:00\",\"2023-09-19T00:00:00\",\"2023-09-20T00:00:00\",\"2023-09-21T00:00:00\",\"2023-09-22T00:00:00\",\"2023-09-23T00:00:00\",\"2023-09-24T00:00:00\",\"2023-09-25T00:00:00\",\"2023-09-26T00:00:00\",\"2023-09-27T00:00:00\",\"2023-09-28T00:00:00\",\"2023-09-29T00:00:00\",\"2023-09-30T00:00:00\",\"2023-10-01T00:00:00\",\"2023-10-02T00:00:00\",\"2023-10-03T00:00:00\",\"2023-10-04T00:00:00\",\"2023-10-05T00:00:00\",\"2023-10-06T00:00:00\",\"2023-10-07T00:00:00\",\"2023-10-08T00:00:00\",\"2023-10-09T00:00:00\",\"2023-10-10T00:00:00\",\"2023-10-11T00:00:00\",\"2023-10-12T00:00:00\",\"2023-10-13T00:00:00\",\"2023-10-14T00:00:00\",\"2023-10-15T00:00:00\",\"2023-10-16T00:00:00\",\"2023-10-17T00:00:00\",\"2023-10-18T00:00:00\",\"2023-10-19T00:00:00\",\"2023-10-20T00:00:00\",\"2023-10-21T00:00:00\",\"2023-10-22T00:00:00\",\"2023-10-23T00:00:00\",\"2023-10-24T00:00:00\",\"2023-10-25T00:00:00\",\"2023-10-26T00:00:00\",\"2023-10-27T00:00:00\",\"2023-10-28T00:00:00\",\"2023-10-29T00:00:00\",\"2023-10-30T00:00:00\",\"2023-10-31T00:00:00\",\"2023-11-01T00:00:00\",\"2023-11-02T00:00:00\",\"2023-11-03T00:00:00\",\"2023-11-04T00:00:00\",\"2023-11-05T00:00:00\",\"2023-11-06T00:00:00\",\"2023-11-07T00:00:00\",\"2023-11-08T00:00:00\",\"2023-11-09T00:00:00\",\"2023-11-10T00:00:00\",\"2023-11-11T00:00:00\",\"2023-11-12T00:00:00\",\"2023-11-13T00:00:00\",\"2023-11-14T00:00:00\",\"2023-11-15T00:00:00\",\"2023-11-16T00:00:00\",\"2023-11-17T00:00:00\",\"2023-11-18T00:00:00\",\"2023-11-19T00:00:00\"],\"y\":[125835094.33333333,139771072.0,125886321.0,125133656.66666667,126920070.66666667,119520880.33333333,128460479.33333333,126770745.0,134084474.66666667,126746364.66666667,130901938.0,121561479.0,115913908.66666667,134611664.33333334,117974908.66666667,129024392.33333333,129306876.0,137623946.33333334,133075917.66666667,127961410.0,136367572.0,106231054.0,126262619.66666667,143863584.0,114166069.66666667,141046927.0,168763085.0,160538974.0,144495697.0,164965552.0,166817278.0,130708477.66666667,130599226.0,128031761.0,144009729.33333334,130485593.66666667,118405930.66666667,122414793.0,130760472.66666667,122255480.0,127325028.66666667,125958548.33333333,124321582.33333333,127295491.66666667,125320214.66666667,124104468.33333333,143436034.66666666,148297402.0,154669672.66666666,148544722.33333334,155848290.0,150588179.33333334,155305122.0,150828667.66666666,143755381.0,173589920.66666666,160675239.0,185130470.66666666,168612446.66666666,186600897.33333334,180842562.66666666,187327834.33333334,174316111.0,186404530.33333334,184485098.33333334,162656255.33333334,163447219.66666666,163216794.66666666,161865854.0,155868265.0,165280949.33333334,161569937.33333334,150771827.33333334,142378827.0,141524686.33333334,147320411.66666666,151409873.33333334,152696659.0,151663213.33333334,151016622.33333334,156072309.66666666,142594518.33333334,149899837.0,158049639.0,156378595.66666666,168306757.0,169558931.66666666,159489734.0,155715214.0,173367864.33333334,196121779.66666666,176179945.0,187041893.0,168010275.0,167147572.33333334,169648475.66666666,157436514.0,164135563.33333334,165941565.33333334,185977928.33333334,186082640.0,159327570.66666666,163050734.33333334,88852377.66666667,89342306.66666667,89653514.66666667,96220350.0,87461740.33333333,87114029.0,97562328.66666667,103038135.0,102305136.66666667,89132229.0,85785358.0,111593331.66666667,134596152.66666666,87138252.0,87978795.0,84226675.0,85634207.66666667,97366483.0,97012526.0,78017932.33333333,99220321.33333333,91285626.0,87580234.33333333,90659185.33333333,94314455.33333333,88128788.66666667,91702116.0,88006865.33333333,85238287.0,88076782.0,85110210.33333333,127892590.33333333,83499176.33333333,85245071.33333333,79911638.66666667,82034110.0,87342730.66666667,94941717.66666667,86115920.0,109390114.66666667,145808295.0,148882309.0,160935547.66666666,161740476.66666666,159473350.33333334,166582423.66666666,151299949.66666666,183096909.33333334,108636509.0,89314474.0,174409308.0,169641118.33333334,183748336.66666666,134485852.66666666,177415036.33333334,252679009.33333334,236092456.66666666,196043498.0,184481164.66666666,178116841.0,146417955.33333334,192642218.33333334,182926502.33333334,205711800.33333334,199319845.0,167415166.33333334,231737455.33333334,193531261.66666666,221280470.33333334,223141157.33333334,226040840.66666666,236346931.66666666,230575190.33333334,238773894.0,245146815.33333334,258321937.33333334,223897079.0,243567207.33333334,290670072.6666667,243096584.33333334,285714663.6666667,256341851.66666666,234730564.33333334,227965581.33333334,227559163.33333334,230695966.66666666,219904914.0,227713218.33333334,194598918.33333334,243070810.66666666,257371596.66666666,258565910.0,287442027.3333333,246012885.66666666,286064663.0,228207623.66666666,262676872.66666666,247074773.66666666,267928713.33333334,287981449.3333333,267323350.66666666,262753235.66666666,240554873.66666666,189702406.33333334,202143119.33333334,220745057.33333334,223334756.66666666,214087107.33333334,213022407.33333334,182220591.0,193734873.33333334,206587353.33333334,211807653.66666666,189480691.0,159192694.33333334,165395917.66666666,146086258.66666666,142777424.33333334,166942549.33333334,197283346.66666666,198340481.66666666,161250372.66666666,177168345.0,109843329.66666667,189431204.66666666,183369374.0,183760112.0,203962698.0,204014155.33333334,182438799.66666666,107153633.33333333,160965661.0,184934976.66666666,182259212.0,206770354.33333334,192227587.0,216477371.33333334,191195497.33333334,171650230.66666666,220197107.66666666,214742302.33333334,244017783.33333334,209049443.33333334,183944535.66666666,203463258.66666666,205774838.33333334,184846868.33333334,150134755.33333334,206771143.66666666,196539728.66666666,179349188.66666666,138562103.33333334,246482828.66666666,238173412.66666666,269313512.0,254578633.66666666,233237255.66666666,171710233.66666666,168971903.33333334,172601589.66666666,201734026.0,169656148.66666666,237884850.0,252486423.33333334,294096832.6666667,245590636.33333334,209181818.66666666,130773358.33333333,138192970.0,151868303.0,162791271.33333334,178968374.33333334,202046377.33333334,264918792.33333334,259399067.66666666,218092761.33333334,237976464.33333334,256073523.66666666,246241421.66666666,199942997.33333334,232566347.33333334,205453134.33333334,184799719.0,205839075.0,216495825.0,179578180.0,154701325.33333334,143189781.33333334,151565970.0,165469520.0,155894399.0,156941774.33333334,177405048.66666666,145942084.33333334,159818389.66666666,173969876.33333334,162175999.0,145399656.0,163712360.33333334,179117421.33333334,136282046.33333334,137146787.33333334,157723420.33333334,147083992.0,156649079.33333334,154945811.33333334,168221181.33333334,164395727.33333334,149338054.0,155572578.33333334,159258569.66666666,147442160.33333334,144468037.33333334,175161600.66666666,151700601.66666666,135929689.66666666,139608631.33333334,138180398.33333334,140828641.0,113383851.66666667],\"type\":\"scatter\",\"xaxis\":\"x3\",\"yaxis\":\"y3\"},{\"legendgroup\":\"y\",\"line\":{\"color\":\"#440154\",\"width\":1},\"mode\":\"lines\",\"name\":\"y\",\"showlegend\":false,\"x\":[\"2023-01-01T00:00:00\",\"2023-01-02T00:00:00\",\"2023-01-03T00:00:00\",\"2023-01-04T00:00:00\",\"2023-01-05T00:00:00\",\"2023-01-06T00:00:00\",\"2023-01-07T00:00:00\",\"2023-01-08T00:00:00\",\"2023-01-09T00:00:00\",\"2023-01-10T00:00:00\",\"2023-01-11T00:00:00\",\"2023-01-12T00:00:00\",\"2023-01-13T00:00:00\",\"2023-01-14T00:00:00\",\"2023-01-15T00:00:00\",\"2023-01-16T00:00:00\",\"2023-01-17T00:00:00\",\"2023-01-18T00:00:00\",\"2023-01-19T00:00:00\",\"2023-01-20T00:00:00\",\"2023-01-21T00:00:00\",\"2023-01-22T00:00:00\",\"2023-01-23T00:00:00\",\"2023-01-24T00:00:00\",\"2023-01-25T00:00:00\",\"2023-01-26T00:00:00\",\"2023-01-27T00:00:00\",\"2023-01-28T00:00:00\",\"2023-01-29T00:00:00\",\"2023-01-30T00:00:00\",\"2023-01-31T00:00:00\",\"2023-02-01T00:00:00\",\"2023-02-02T00:00:00\",\"2023-02-03T00:00:00\",\"2023-02-04T00:00:00\",\"2023-02-05T00:00:00\",\"2023-02-06T00:00:00\",\"2023-02-07T00:00:00\",\"2023-02-08T00:00:00\",\"2023-02-09T00:00:00\",\"2023-02-10T00:00:00\",\"2023-02-11T00:00:00\",\"2023-02-12T00:00:00\",\"2023-02-13T00:00:00\",\"2023-02-14T00:00:00\",\"2023-02-15T00:00:00\",\"2023-02-16T00:00:00\",\"2023-02-17T00:00:00\",\"2023-02-18T00:00:00\",\"2023-02-19T00:00:00\",\"2023-02-20T00:00:00\",\"2023-02-21T00:00:00\",\"2023-02-22T00:00:00\",\"2023-02-23T00:00:00\",\"2023-02-24T00:00:00\",\"2023-02-25T00:00:00\",\"2023-02-26T00:00:00\",\"2023-02-27T00:00:00\",\"2023-02-28T00:00:00\",\"2023-03-01T00:00:00\",\"2023-03-02T00:00:00\",\"2023-03-03T00:00:00\",\"2023-03-04T00:00:00\",\"2023-03-05T00:00:00\",\"2023-03-06T00:00:00\",\"2023-03-07T00:00:00\",\"2023-03-08T00:00:00\",\"2023-03-09T00:00:00\",\"2023-03-10T00:00:00\",\"2023-03-11T00:00:00\",\"2023-03-12T00:00:00\",\"2023-03-13T00:00:00\",\"2023-03-14T00:00:00\",\"2023-03-15T00:00:00\",\"2023-03-16T00:00:00\",\"2023-03-17T00:00:00\",\"2023-03-18T00:00:00\",\"2023-03-19T00:00:00\",\"2023-03-20T00:00:00\",\"2023-03-21T00:00:00\",\"2023-03-22T00:00:00\",\"2023-03-23T00:00:00\",\"2023-03-24T00:00:00\",\"2023-03-25T00:00:00\",\"2023-03-26T00:00:00\",\"2023-03-27T00:00:00\",\"2023-03-28T00:00:00\",\"2023-03-29T00:00:00\",\"2023-03-30T00:00:00\",\"2023-03-31T00:00:00\",\"2023-04-01T00:00:00\",\"2023-04-02T00:00:00\",\"2023-04-03T00:00:00\",\"2023-04-04T00:00:00\",\"2023-04-05T00:00:00\",\"2023-04-06T00:00:00\",\"2023-04-07T00:00:00\",\"2023-04-08T00:00:00\",\"2023-04-09T00:00:00\",\"2023-04-10T00:00:00\",\"2023-04-11T00:00:00\",\"2023-04-12T00:00:00\",\"2023-04-13T00:00:00\",\"2023-04-14T00:00:00\",\"2023-04-15T00:00:00\",\"2023-04-16T00:00:00\",\"2023-04-17T00:00:00\",\"2023-04-18T00:00:00\",\"2023-04-19T00:00:00\",\"2023-04-20T00:00:00\",\"2023-04-21T00:00:00\",\"2023-04-22T00:00:00\",\"2023-04-23T00:00:00\",\"2023-04-24T00:00:00\",\"2023-04-25T00:00:00\",\"2023-04-26T00:00:00\",\"2023-04-27T00:00:00\",\"2023-04-28T00:00:00\",\"2023-04-29T00:00:00\",\"2023-04-30T00:00:00\",\"2023-05-01T00:00:00\",\"2023-05-02T00:00:00\",\"2023-05-03T00:00:00\",\"2023-05-04T00:00:00\",\"2023-05-05T00:00:00\",\"2023-05-06T00:00:00\",\"2023-05-07T00:00:00\",\"2023-05-08T00:00:00\",\"2023-05-09T00:00:00\",\"2023-05-10T00:00:00\",\"2023-05-11T00:00:00\",\"2023-05-12T00:00:00\",\"2023-05-13T00:00:00\",\"2023-05-14T00:00:00\",\"2023-05-15T00:00:00\",\"2023-05-16T00:00:00\",\"2023-05-17T00:00:00\",\"2023-05-18T00:00:00\",\"2023-05-19T00:00:00\",\"2023-05-20T00:00:00\",\"2023-05-21T00:00:00\",\"2023-05-22T00:00:00\",\"2023-05-23T00:00:00\",\"2023-05-24T00:00:00\",\"2023-05-25T00:00:00\",\"2023-05-26T00:00:00\",\"2023-05-27T00:00:00\",\"2023-05-28T00:00:00\",\"2023-05-29T00:00:00\",\"2023-05-30T00:00:00\",\"2023-05-31T00:00:00\",\"2023-06-01T00:00:00\",\"2023-06-02T00:00:00\",\"2023-06-03T00:00:00\",\"2023-06-04T00:00:00\",\"2023-06-05T00:00:00\",\"2023-06-06T00:00:00\",\"2023-06-07T00:00:00\",\"2023-06-08T00:00:00\",\"2023-06-09T00:00:00\",\"2023-06-10T00:00:00\",\"2023-06-11T00:00:00\",\"2023-06-12T00:00:00\",\"2023-06-13T00:00:00\",\"2023-06-14T00:00:00\",\"2023-06-15T00:00:00\",\"2023-06-16T00:00:00\",\"2023-06-17T00:00:00\",\"2023-06-18T00:00:00\",\"2023-06-19T00:00:00\",\"2023-06-20T00:00:00\",\"2023-06-21T00:00:00\",\"2023-06-22T00:00:00\",\"2023-06-23T00:00:00\",\"2023-06-24T00:00:00\",\"2023-06-25T00:00:00\",\"2023-06-26T00:00:00\",\"2023-06-27T00:00:00\",\"2023-06-28T00:00:00\",\"2023-06-29T00:00:00\",\"2023-06-30T00:00:00\",\"2023-07-01T00:00:00\",\"2023-07-02T00:00:00\",\"2023-07-03T00:00:00\",\"2023-07-04T00:00:00\",\"2023-07-05T00:00:00\",\"2023-07-06T00:00:00\",\"2023-07-07T00:00:00\",\"2023-07-08T00:00:00\",\"2023-07-09T00:00:00\",\"2023-07-10T00:00:00\",\"2023-07-11T00:00:00\",\"2023-07-12T00:00:00\",\"2023-07-13T00:00:00\",\"2023-07-14T00:00:00\",\"2023-07-15T00:00:00\",\"2023-07-16T00:00:00\",\"2023-07-17T00:00:00\",\"2023-07-18T00:00:00\",\"2023-07-19T00:00:00\",\"2023-07-20T00:00:00\",\"2023-07-21T00:00:00\",\"2023-07-22T00:00:00\",\"2023-07-23T00:00:00\",\"2023-07-24T00:00:00\",\"2023-07-25T00:00:00\",\"2023-07-26T00:00:00\",\"2023-07-27T00:00:00\",\"2023-07-28T00:00:00\",\"2023-07-29T00:00:00\",\"2023-07-30T00:00:00\",\"2023-07-31T00:00:00\",\"2023-08-01T00:00:00\",\"2023-08-02T00:00:00\",\"2023-08-03T00:00:00\",\"2023-08-04T00:00:00\",\"2023-08-05T00:00:00\",\"2023-08-06T00:00:00\",\"2023-08-07T00:00:00\",\"2023-08-08T00:00:00\",\"2023-08-09T00:00:00\",\"2023-08-10T00:00:00\",\"2023-08-11T00:00:00\",\"2023-08-12T00:00:00\",\"2023-08-13T00:00:00\",\"2023-08-14T00:00:00\",\"2023-08-15T00:00:00\",\"2023-08-16T00:00:00\",\"2023-08-17T00:00:00\",\"2023-08-18T00:00:00\",\"2023-08-19T00:00:00\",\"2023-08-20T00:00:00\",\"2023-08-21T00:00:00\",\"2023-08-22T00:00:00\",\"2023-08-23T00:00:00\",\"2023-08-24T00:00:00\",\"2023-08-25T00:00:00\",\"2023-08-26T00:00:00\",\"2023-08-27T00:00:00\",\"2023-08-28T00:00:00\",\"2023-08-29T00:00:00\",\"2023-08-30T00:00:00\",\"2023-08-31T00:00:00\",\"2023-09-01T00:00:00\",\"2023-09-02T00:00:00\",\"2023-09-03T00:00:00\",\"2023-09-04T00:00:00\",\"2023-09-05T00:00:00\",\"2023-09-06T00:00:00\",\"2023-09-07T00:00:00\",\"2023-09-08T00:00:00\",\"2023-09-09T00:00:00\",\"2023-09-10T00:00:00\",\"2023-09-11T00:00:00\",\"2023-09-12T00:00:00\",\"2023-09-13T00:00:00\",\"2023-09-14T00:00:00\",\"2023-09-15T00:00:00\",\"2023-09-16T00:00:00\",\"2023-09-17T00:00:00\",\"2023-09-18T00:00:00\",\"2023-09-19T00:00:00\",\"2023-09-20T00:00:00\",\"2023-09-21T00:00:00\",\"2023-09-22T00:00:00\",\"2023-09-23T00:00:00\",\"2023-09-24T00:00:00\",\"2023-09-25T00:00:00\",\"2023-09-26T00:00:00\",\"2023-09-27T00:00:00\",\"2023-09-28T00:00:00\",\"2023-09-29T00:00:00\",\"2023-09-30T00:00:00\",\"2023-10-01T00:00:00\",\"2023-10-02T00:00:00\",\"2023-10-03T00:00:00\",\"2023-10-04T00:00:00\",\"2023-10-05T00:00:00\",\"2023-10-06T00:00:00\",\"2023-10-07T00:00:00\",\"2023-10-08T00:00:00\",\"2023-10-09T00:00:00\",\"2023-10-10T00:00:00\",\"2023-10-11T00:00:00\",\"2023-10-12T00:00:00\",\"2023-10-13T00:00:00\",\"2023-10-14T00:00:00\",\"2023-10-15T00:00:00\",\"2023-10-16T00:00:00\",\"2023-10-17T00:00:00\",\"2023-10-18T00:00:00\",\"2023-10-19T00:00:00\",\"2023-10-20T00:00:00\",\"2023-10-21T00:00:00\",\"2023-10-22T00:00:00\",\"2023-10-23T00:00:00\",\"2023-10-24T00:00:00\",\"2023-10-25T00:00:00\",\"2023-10-26T00:00:00\",\"2023-10-27T00:00:00\",\"2023-10-28T00:00:00\",\"2023-10-29T00:00:00\",\"2023-10-30T00:00:00\",\"2023-10-31T00:00:00\",\"2023-11-01T00:00:00\",\"2023-11-02T00:00:00\",\"2023-11-03T00:00:00\",\"2023-11-04T00:00:00\",\"2023-11-05T00:00:00\",\"2023-11-06T00:00:00\",\"2023-11-07T00:00:00\",\"2023-11-08T00:00:00\",\"2023-11-09T00:00:00\",\"2023-11-10T00:00:00\",\"2023-11-11T00:00:00\",\"2023-11-12T00:00:00\",\"2023-11-13T00:00:00\",\"2023-11-14T00:00:00\",\"2023-11-15T00:00:00\",\"2023-11-16T00:00:00\",\"2023-11-17T00:00:00\",\"2023-11-18T00:00:00\",\"2023-11-19T00:00:00\"],\"y\":[5066.666666666667,5066.666666666667,5066.666666666667,5066.666666666667,5066.666666666667,5066.666666666667,5066.666666666667,5066.666666666667,5066.666666666667,5066.666666666667,5066.666666666667,5066.666666666667,5066.666666666667,5066.666666666667,5066.666666666667,5066.666666666667,5066.666666666667,5066.666666666667,5066.666666666667,5066.666666666667,5066.666666666667,5066.666666666667,5066.666666666667,5066.666666666667,5066.666666666667,5066.666666666667,5066.666666666667,5066.666666666667,5066.666666666667,5066.666666666667,5066.666666666667,5066.666666666667,5066.666666666667,5066.666666666667,5066.666666666667,5066.666666666667,5066.666666666667,5066.666666666667,5066.666666666667,5066.666666666667,5066.666666666667,5066.666666666667,5066.666666666667,5066.666666666667,5066.666666666667,5066.666666666667,5066.666666666667,5066.666666666667,5066.666666666667,5066.666666666667,5066.666666666667,5066.666666666667,5066.666666666667,5066.666666666667,5066.666666666667,5066.666666666667,5066.666666666667,5066.666666666667,5066.666666666667,5066.666666666667,5066.666666666667,1893794.3333333335,3782522.0,5671249.666666667,7559977.333333334,9448705.0,36585076.666666664,171387990.0,283786610.0,273735962.6666667,314182843.6666667,98851933.33333333,122964764.0,243506385.0,320364694.6666667,239744479.66666666,337271910.0,247760324.0,304731025.0,106343695.0,61894080.333333336,313378938.3333333,182830043.33333334,209949258.0,196169444.33333334,104455554.33333333,38898145.0,42796231.0,68498444.33333333,104696173.66666667,73441487.66666667,96358203.0,136843990.0,161863105.0,57831673.333333336,226121762.66666666,250579931.66666666,398779715.0,692195622.6666666,216969867.0,179666814.66666666,205307803.66666666,376930549.0,334054985.3333333,588604418.6666666,584172787.6666666,414840531.6666667,217941694.33333334,348806315.0,419712341.6666667,142170776.66666666,117938335.0,147659396.66666666,96134751.66666667,114185763.33333333,64985201.666666664,82999071.0,109238386.66666667,156716741.66666666,170850835.0,75797560.0,115444201.0,86208840.0,128730506.66666667,113017073.33333333,51118836.666666664,200951515.0,246406625.0,39745492.666666664,24842991.333333332,84454643.33333333,48977193.333333336,49597740.0,44454330.0,106288185.0,77633116.66666667,20453810.0,68953736.66666667,27681755.0,11207945.0,16609981.333333334,25377960.0,34908097.0,69035916.0,68332701.0,134648798.66666666,90832922.33333333,27642080.333333332,16757431.666666666,35657871.0,33369588.333333332,51652284.666666664,9231666.666666666,55273624.333333336,72453910.0,287175799.0,185312106.33333334,55855038.666666664,7557225.0,22190357.0,79878286.0,90727200.0,61649459.333333336,27756924.666666668,29334011.333333332,61233087.333333336,87901724.66666667,25188055.333333332,24247202.0,28020613.0,69247477.33333333,17333610.0,9511356.0,15893291.0,11303191.0,10220278.333333334,56129504.0,35936102.666666664,13139155.0,5328603.666666667,44445370.0,11124841.0,30576003.333333332,65824972.666666664,28157215.0,86816004.0,125303352.0,146549804.0,75949824.66666667,115206237.33333333,62152460.333333336,137593397.0,121362833.0,130856709.66666667,99007723.33333333,112812238.66666667,120984207.33333333,114921197.33333333,106323762.66666667,97217247.66666667,105978085.66666667,90355275.66666667,100314156.33333333,104353585.0,30625655.0,7688938.333333333,27903460.0,60415906.666666664,13635668.333333334,7639906.0,23741364.333333332,32594842.0,23078300.333333332,11639980.0,6268237.0,9342414.333333334,38088.333333333336,16100798.333333334,2661410.6666666665,2033930.3333333333,155623.33333333334,83700.0,97823.33333333333,45218.333333333336,6642048.333333333,8285823.333333333,8520189.666666666,10314204.0,8435973.333333334,7586183.333333333,7215035.0,7593428.333333333,11193733.333333334,5016063.333333333,369593.3333333333,1598670.0,18288736.666666668,22159641.666666668,15474596.666666666,3866580.0,135870.0,16660.0,154260.0,2182475.0,24533.333333333332,1372999.9999999998,2721466.6666666665,177275.0,3440302.0,1376755.0,811817.6666666666,24533.333333333332,539615.3333333334,7908621.0,5727806.666666667,204700.0,187508.33333333334,312173.3333333333,155041.66666666666,100791.66666666667,527170.0,3933905.0,854310.0,643284.3333333334,2052036.0,5501405.0,3591453.3333333335,476530.3333333333,157792.0,334191.6666666667,3536076.6666666665,1483930.0,731958.3333333334,24583.333333333332,2099516.6666666665,7383458.333333333,15666242.666666666,21033892.666666668,10345142.333333334,763236.0,247941.66666666666,8027160.0,34453132.0,417306.0,288853.6666666667,1881371.3333333333,1248008.3333333333,4989293.333333333,11449114.0,4451750.0,5163510.333333333,6833493.666666667,8586282.666666666,6187511.0,13722500.666666666,4649295.666666667,1585336.0,439357.6666666667,416631.6666666667,36845.0,445967.3333333333,134521.66666666666,1304779.6666666667,4781715.0,919086.6666666666,5559703.666666667,18116101.666666668,2997125.0,5567926.0,11176108.333333334,28575063.333333332,4679001.333333333,276631.6666666667,918405.0,445438.3333333333,61600.0,2155202.0,7551736.666666667,5585344.666666667,9327349.666666666,11142837.666666666,10858975.666666666,12228512.0],\"type\":\"scatter\",\"xaxis\":\"x4\",\"yaxis\":\"y4\"},{\"legendgroup\":\"y\",\"line\":{\"color\":\"#440154\",\"width\":1},\"mode\":\"lines\",\"name\":\"y\",\"showlegend\":false,\"x\":[\"2023-01-01T00:00:00\",\"2023-01-02T00:00:00\",\"2023-01-03T00:00:00\",\"2023-01-04T00:00:00\",\"2023-01-05T00:00:00\",\"2023-01-06T00:00:00\",\"2023-01-07T00:00:00\",\"2023-01-08T00:00:00\",\"2023-01-09T00:00:00\",\"2023-01-10T00:00:00\",\"2023-01-11T00:00:00\",\"2023-01-12T00:00:00\",\"2023-01-13T00:00:00\",\"2023-01-14T00:00:00\",\"2023-01-15T00:00:00\",\"2023-01-16T00:00:00\",\"2023-01-17T00:00:00\",\"2023-01-18T00:00:00\",\"2023-01-19T00:00:00\",\"2023-01-20T00:00:00\",\"2023-01-21T00:00:00\",\"2023-01-22T00:00:00\",\"2023-01-23T00:00:00\",\"2023-01-24T00:00:00\",\"2023-01-25T00:00:00\",\"2023-01-26T00:00:00\",\"2023-01-27T00:00:00\",\"2023-01-28T00:00:00\",\"2023-01-29T00:00:00\",\"2023-01-30T00:00:00\",\"2023-01-31T00:00:00\",\"2023-02-01T00:00:00\",\"2023-02-02T00:00:00\",\"2023-02-03T00:00:00\",\"2023-02-04T00:00:00\",\"2023-02-05T00:00:00\",\"2023-02-06T00:00:00\",\"2023-02-07T00:00:00\",\"2023-02-08T00:00:00\",\"2023-02-09T00:00:00\",\"2023-02-10T00:00:00\",\"2023-02-11T00:00:00\",\"2023-02-12T00:00:00\",\"2023-02-13T00:00:00\",\"2023-02-14T00:00:00\",\"2023-02-15T00:00:00\",\"2023-02-16T00:00:00\",\"2023-02-17T00:00:00\",\"2023-02-18T00:00:00\",\"2023-02-19T00:00:00\",\"2023-02-20T00:00:00\",\"2023-02-21T00:00:00\",\"2023-02-22T00:00:00\",\"2023-02-23T00:00:00\",\"2023-02-24T00:00:00\",\"2023-02-25T00:00:00\",\"2023-02-26T00:00:00\",\"2023-02-27T00:00:00\",\"2023-02-28T00:00:00\",\"2023-03-01T00:00:00\",\"2023-03-02T00:00:00\",\"2023-03-03T00:00:00\",\"2023-03-04T00:00:00\",\"2023-03-05T00:00:00\",\"2023-03-06T00:00:00\",\"2023-03-07T00:00:00\",\"2023-03-08T00:00:00\",\"2023-03-09T00:00:00\",\"2023-03-10T00:00:00\",\"2023-03-11T00:00:00\",\"2023-03-12T00:00:00\",\"2023-03-13T00:00:00\",\"2023-03-14T00:00:00\",\"2023-03-15T00:00:00\",\"2023-03-16T00:00:00\",\"2023-03-17T00:00:00\",\"2023-03-18T00:00:00\",\"2023-03-19T00:00:00\",\"2023-03-20T00:00:00\",\"2023-03-21T00:00:00\",\"2023-03-22T00:00:00\",\"2023-03-23T00:00:00\",\"2023-03-24T00:00:00\",\"2023-03-25T00:00:00\",\"2023-03-26T00:00:00\",\"2023-03-27T00:00:00\",\"2023-03-28T00:00:00\",\"2023-03-29T00:00:00\",\"2023-03-30T00:00:00\",\"2023-03-31T00:00:00\",\"2023-04-01T00:00:00\",\"2023-04-02T00:00:00\",\"2023-04-03T00:00:00\",\"2023-04-04T00:00:00\",\"2023-04-05T00:00:00\",\"2023-04-06T00:00:00\",\"2023-04-07T00:00:00\",\"2023-04-08T00:00:00\",\"2023-04-09T00:00:00\",\"2023-04-10T00:00:00\",\"2023-04-11T00:00:00\",\"2023-04-12T00:00:00\",\"2023-04-13T00:00:00\",\"2023-04-14T00:00:00\",\"2023-04-15T00:00:00\",\"2023-04-16T00:00:00\",\"2023-04-17T00:00:00\",\"2023-04-18T00:00:00\",\"2023-04-19T00:00:00\",\"2023-04-20T00:00:00\",\"2023-04-21T00:00:00\",\"2023-04-22T00:00:00\",\"2023-04-23T00:00:00\",\"2023-04-24T00:00:00\",\"2023-04-25T00:00:00\",\"2023-04-26T00:00:00\",\"2023-04-27T00:00:00\",\"2023-04-28T00:00:00\",\"2023-04-29T00:00:00\",\"2023-04-30T00:00:00\",\"2023-05-01T00:00:00\",\"2023-05-02T00:00:00\",\"2023-05-03T00:00:00\",\"2023-05-04T00:00:00\",\"2023-05-05T00:00:00\",\"2023-05-06T00:00:00\",\"2023-05-07T00:00:00\",\"2023-05-08T00:00:00\",\"2023-05-09T00:00:00\",\"2023-05-10T00:00:00\",\"2023-05-11T00:00:00\",\"2023-05-12T00:00:00\",\"2023-05-13T00:00:00\",\"2023-05-14T00:00:00\",\"2023-05-15T00:00:00\",\"2023-05-16T00:00:00\",\"2023-05-17T00:00:00\",\"2023-05-18T00:00:00\",\"2023-05-19T00:00:00\",\"2023-05-20T00:00:00\",\"2023-05-21T00:00:00\",\"2023-05-22T00:00:00\",\"2023-05-23T00:00:00\",\"2023-05-24T00:00:00\",\"2023-05-25T00:00:00\",\"2023-05-26T00:00:00\",\"2023-05-27T00:00:00\",\"2023-05-28T00:00:00\",\"2023-05-29T00:00:00\",\"2023-05-30T00:00:00\",\"2023-05-31T00:00:00\",\"2023-06-01T00:00:00\",\"2023-06-02T00:00:00\",\"2023-06-03T00:00:00\",\"2023-06-04T00:00:00\",\"2023-06-05T00:00:00\",\"2023-06-06T00:00:00\",\"2023-06-07T00:00:00\",\"2023-06-08T00:00:00\",\"2023-06-09T00:00:00\",\"2023-06-10T00:00:00\",\"2023-06-11T00:00:00\",\"2023-06-12T00:00:00\",\"2023-06-13T00:00:00\",\"2023-06-14T00:00:00\",\"2023-06-15T00:00:00\",\"2023-06-16T00:00:00\",\"2023-06-17T00:00:00\",\"2023-06-18T00:00:00\",\"2023-06-19T00:00:00\",\"2023-06-20T00:00:00\",\"2023-06-21T00:00:00\",\"2023-06-22T00:00:00\",\"2023-06-23T00:00:00\",\"2023-06-24T00:00:00\",\"2023-06-25T00:00:00\",\"2023-06-26T00:00:00\",\"2023-06-27T00:00:00\",\"2023-06-28T00:00:00\",\"2023-06-29T00:00:00\",\"2023-06-30T00:00:00\",\"2023-07-01T00:00:00\",\"2023-07-02T00:00:00\",\"2023-07-03T00:00:00\",\"2023-07-04T00:00:00\",\"2023-07-05T00:00:00\",\"2023-07-06T00:00:00\",\"2023-07-07T00:00:00\",\"2023-07-08T00:00:00\",\"2023-07-09T00:00:00\",\"2023-07-10T00:00:00\",\"2023-07-11T00:00:00\",\"2023-07-12T00:00:00\",\"2023-07-13T00:00:00\",\"2023-07-14T00:00:00\",\"2023-07-15T00:00:00\",\"2023-07-16T00:00:00\",\"2023-07-17T00:00:00\",\"2023-07-18T00:00:00\",\"2023-07-19T00:00:00\",\"2023-07-20T00:00:00\",\"2023-07-21T00:00:00\",\"2023-07-22T00:00:00\",\"2023-07-23T00:00:00\",\"2023-07-24T00:00:00\",\"2023-07-25T00:00:00\",\"2023-07-26T00:00:00\",\"2023-07-27T00:00:00\",\"2023-07-28T00:00:00\",\"2023-07-29T00:00:00\",\"2023-07-30T00:00:00\",\"2023-07-31T00:00:00\",\"2023-08-01T00:00:00\",\"2023-08-02T00:00:00\",\"2023-08-03T00:00:00\",\"2023-08-04T00:00:00\",\"2023-08-05T00:00:00\",\"2023-08-06T00:00:00\",\"2023-08-07T00:00:00\",\"2023-08-08T00:00:00\",\"2023-08-09T00:00:00\",\"2023-08-10T00:00:00\",\"2023-08-11T00:00:00\",\"2023-08-12T00:00:00\",\"2023-08-13T00:00:00\",\"2023-08-14T00:00:00\",\"2023-08-15T00:00:00\",\"2023-08-16T00:00:00\",\"2023-08-17T00:00:00\",\"2023-08-18T00:00:00\",\"2023-08-19T00:00:00\",\"2023-08-20T00:00:00\",\"2023-08-21T00:00:00\",\"2023-08-22T00:00:00\",\"2023-08-23T00:00:00\",\"2023-08-24T00:00:00\",\"2023-08-25T00:00:00\",\"2023-08-26T00:00:00\",\"2023-08-27T00:00:00\",\"2023-08-28T00:00:00\",\"2023-08-29T00:00:00\",\"2023-08-30T00:00:00\",\"2023-08-31T00:00:00\",\"2023-09-01T00:00:00\",\"2023-09-02T00:00:00\",\"2023-09-03T00:00:00\",\"2023-09-04T00:00:00\",\"2023-09-05T00:00:00\",\"2023-09-06T00:00:00\",\"2023-09-07T00:00:00\",\"2023-09-08T00:00:00\",\"2023-09-09T00:00:00\",\"2023-09-10T00:00:00\",\"2023-09-11T00:00:00\",\"2023-09-12T00:00:00\",\"2023-09-13T00:00:00\",\"2023-09-14T00:00:00\",\"2023-09-15T00:00:00\",\"2023-09-16T00:00:00\",\"2023-09-17T00:00:00\",\"2023-09-18T00:00:00\",\"2023-09-19T00:00:00\",\"2023-09-20T00:00:00\",\"2023-09-21T00:00:00\",\"2023-09-22T00:00:00\",\"2023-09-23T00:00:00\",\"2023-09-24T00:00:00\",\"2023-09-25T00:00:00\",\"2023-09-26T00:00:00\",\"2023-09-27T00:00:00\",\"2023-09-28T00:00:00\",\"2023-09-29T00:00:00\",\"2023-09-30T00:00:00\",\"2023-10-01T00:00:00\",\"2023-10-02T00:00:00\",\"2023-10-03T00:00:00\",\"2023-10-04T00:00:00\",\"2023-10-05T00:00:00\",\"2023-10-06T00:00:00\",\"2023-10-07T00:00:00\",\"2023-10-08T00:00:00\",\"2023-10-09T00:00:00\",\"2023-10-10T00:00:00\",\"2023-10-11T00:00:00\",\"2023-10-12T00:00:00\",\"2023-10-13T00:00:00\",\"2023-10-14T00:00:00\",\"2023-10-15T00:00:00\",\"2023-10-16T00:00:00\",\"2023-10-17T00:00:00\",\"2023-10-18T00:00:00\",\"2023-10-19T00:00:00\",\"2023-10-20T00:00:00\",\"2023-10-21T00:00:00\",\"2023-10-22T00:00:00\",\"2023-10-23T00:00:00\",\"2023-10-24T00:00:00\",\"2023-10-25T00:00:00\",\"2023-10-26T00:00:00\",\"2023-10-27T00:00:00\",\"2023-10-28T00:00:00\",\"2023-10-29T00:00:00\",\"2023-10-30T00:00:00\",\"2023-10-31T00:00:00\",\"2023-11-01T00:00:00\",\"2023-11-02T00:00:00\",\"2023-11-03T00:00:00\",\"2023-11-04T00:00:00\",\"2023-11-05T00:00:00\",\"2023-11-06T00:00:00\",\"2023-11-07T00:00:00\",\"2023-11-08T00:00:00\",\"2023-11-09T00:00:00\",\"2023-11-10T00:00:00\",\"2023-11-11T00:00:00\",\"2023-11-12T00:00:00\",\"2023-11-13T00:00:00\",\"2023-11-14T00:00:00\",\"2023-11-15T00:00:00\",\"2023-11-16T00:00:00\",\"2023-11-17T00:00:00\",\"2023-11-18T00:00:00\",\"2023-11-19T00:00:00\"],\"y\":[63861.666666666664,172400.0,88686.66666666667,53703.333333333336,79166.66666666667,75936.66666666667,75453.33333333333,78593.33333333333,50256.666666666664,89836.66666666667,32701.666666666668,13583.333333333334,62526.666666666664,56466.666666666664,106646.66666666667,180176.66666666666,61361.666666666664,19166.666666666668,33560.0,64373.333333333336,81610.0,50490.0,97500.0,74185.0,132156.66666666666,112240.0,23536.666666666668,68336.66666666667,57839.0,1666.6666666666667,87961.66666666667,110286.66666666667,65003.333333333336,34186.66666666667,3370.0,3370.0,3370.0,3370.0,3370.0,3370.0,3370.0,6688.333333333333,10006.666666666666,6740.0,5055.0,3370.0,5003.333333333334,6636.666666666667,6740.0,7161.666666666666,7583.333333333333,951570.0,108106.66666666667,120573.33333333333,45883.333333333336,158233.33333333334,140753.33333333334,184993.33333333334,175540.0,199320.0,219666.66666666666,201510.0,177436.66666666666,173766.66666666666,208833.33333333334,181390.0,430686.6666666667,268040.0,251264.66666666666,352598.6666666667,273116.6666666667,242372.66666666666,304328.6666666667,291326.0,309236.6666666667,226899.33333333334,267376.6666666667,229580.0,234123.33333333334,353242.0,177589.33333333334,277850.0,355137.0,205700.0,313294.6666666667,365386.6666666667,380092.0,339446.6666666667,386473.3333333333,252422.66666666666,609326.0,466325.0,502555.3333333333,278992.6666666667,380191.0,321462.6666666667,341277.0,294582.6666666667,374480.0,180180.0,377650.6666666667,331249.3333333333,268539.3333333333,499036.0,352215.3333333333,357459.3333333333,277027.6666666667,511005.0,273498.3333333333,260165.33333333334,407548.6666666667,467364.3333333333,423996.3333333333,445244.3333333333,353861.3333333333,466473.3333333333,519818.3333333333,256470.0,377892.0,252553.66666666666,519355.3333333333,374737.3333333333,485596.6666666667,293111.3333333333,417639.6666666667,319198.6666666667,303576.6666666667,166290.0,272366.6666666667,356128.3333333333,230681.33333333334,239613.33333333334,398981.0,264946.6666666667,163316.66666666666,210426.33333333334,299039.3333333333,323391.6666666667,302463.3333333333,279483.6666666667,292311.6666666667,260546.0,348132.0,353237.0,367053.3333333333,559663.3333333334,472397.0,369940.3333333333,403879.3333333333,449417.3333333333,435331.6666666667,373543.3333333333,495995.0,403336.6666666667,319726.0,312153.6666666667,371872.6666666667,263541.0,360324.3333333333,372951.0,459343.0,470317.0,293160.3333333333,383727.6666666667,461354.3333333333,376338.3333333333,227381.66666666666,309290.0,296929.3333333333,482380.0,324099.3333333333,342809.6666666667,364319.3333333333,329682.6666666667,404814.3333333333,279083.3333333333,305766.0,411647.6666666667,656635.0,380355.3333333333,263562.6666666667,232188.0,388601.0,327614.3333333333,552978.0,606262.0,388067.3333333333,365833.3333333333,410392.0,351936.6666666667,400189.3333333333,308212.6666666667,377271.0,296832.6666666667,303553.3333333333,406337.0,370856.0,294371.6666666667,225961.66666666666,365883.6666666667,377317.6666666667,277995.3333333333,275502.6666666667,248323.33333333334,454462.0,415283.6666666667,192797.66666666666,453579.3333333333,423906.0,261273.33333333334,518233.3333333333,592079.3333333334,385216.6666666667,461433.3333333333,245870.66666666666,374528.6666666667,326033.3333333333,281515.3333333333,257247.33333333334,318107.3333333333,337748.6666666667,263806.0,396032.0,238020.66666666666,254715.0,320051.0,304101.6666666667,275732.6666666667,181106.66666666666,208393.33333333334,259468.0,232215.33333333334,430883.6666666667,229876.66666666666,261958.33333333334,313179.3333333333,308416.0,409692.0,357629.6666666667,441722.0,319553.6666666667,342241.6666666667,275690.6666666667,464743.6666666667,353932.6666666667,360350.6666666667,473671.0,295919.3333333333,393159.3333333333,259956.0,147284.33333333334,276075.0,380404.6666666667,412212.6666666667,356447.6666666667,293308.0,308216.6666666667,394362.6666666667,376275.3333333333,525897.3333333334,619679.0,428597.6666666667,1658290.0,1855179.0,1854686.6666666667,2171500.0,2049506.6666666667,2344050.3333333335,2111703.0,2224382.0,2087096.6666666667,2201931.6666666665,2416663.3333333335,1984618.0,1836225.0,700996.3333333334,823335.0,588957.3333333334,575085.6666666666,700364.6666666666,601688.0,559108.3333333334,617083.3333333334,610879.0,688856.6666666666,2078290.0,1858098.0,1368073.0,1041759.0,872800.0,1156116.6666666667,1258111.6666666667,1136610.3333333333,1400725.0,1399031.0,1359956.6666666667,1139936.6666666667,1317298.3333333333,1178635.0,1618020.3333333333,1631026.3333333333,1769150.3333333333,1769966.6666666667,1715817.3333333333,2990468.3333333335,1916703.0,2036859.3333333333,3535475.3333333335,2401368.0,2216265.6666666665,1443406.0,1545992.6666666667,2154645.6666666665,1554497.3333333333,1388571.3333333333,1385011.6666666667,1257333.0,1553699.6666666667,1368914.0,1331776.6666666667,1428594.6666666667,1667704.3333333333,1569774.0],\"type\":\"scatter\",\"xaxis\":\"x5\",\"yaxis\":\"y5\"},{\"legendgroup\":\"y\",\"line\":{\"color\":\"#440154\",\"width\":1},\"mode\":\"lines\",\"name\":\"y\",\"showlegend\":false,\"x\":[\"2023-01-01T00:00:00\",\"2023-01-02T00:00:00\",\"2023-01-03T00:00:00\",\"2023-01-04T00:00:00\",\"2023-01-05T00:00:00\",\"2023-01-06T00:00:00\",\"2023-01-07T00:00:00\",\"2023-01-08T00:00:00\",\"2023-01-09T00:00:00\",\"2023-01-10T00:00:00\",\"2023-01-11T00:00:00\",\"2023-01-12T00:00:00\",\"2023-01-13T00:00:00\",\"2023-01-14T00:00:00\",\"2023-01-15T00:00:00\",\"2023-01-16T00:00:00\",\"2023-01-17T00:00:00\",\"2023-01-18T00:00:00\",\"2023-01-19T00:00:00\",\"2023-01-20T00:00:00\",\"2023-01-21T00:00:00\",\"2023-01-22T00:00:00\",\"2023-01-23T00:00:00\",\"2023-01-24T00:00:00\",\"2023-01-25T00:00:00\",\"2023-01-26T00:00:00\",\"2023-01-27T00:00:00\",\"2023-01-28T00:00:00\",\"2023-01-29T00:00:00\",\"2023-01-30T00:00:00\",\"2023-01-31T00:00:00\",\"2023-02-01T00:00:00\",\"2023-02-02T00:00:00\",\"2023-02-03T00:00:00\",\"2023-02-04T00:00:00\",\"2023-02-05T00:00:00\",\"2023-02-06T00:00:00\",\"2023-02-07T00:00:00\",\"2023-02-08T00:00:00\",\"2023-02-09T00:00:00\",\"2023-02-10T00:00:00\",\"2023-02-11T00:00:00\",\"2023-02-12T00:00:00\",\"2023-02-13T00:00:00\",\"2023-02-14T00:00:00\",\"2023-02-15T00:00:00\",\"2023-02-16T00:00:00\",\"2023-02-17T00:00:00\",\"2023-02-18T00:00:00\",\"2023-02-19T00:00:00\",\"2023-02-20T00:00:00\",\"2023-02-21T00:00:00\",\"2023-02-22T00:00:00\",\"2023-02-23T00:00:00\",\"2023-02-24T00:00:00\",\"2023-02-25T00:00:00\",\"2023-02-26T00:00:00\",\"2023-02-27T00:00:00\",\"2023-02-28T00:00:00\",\"2023-03-01T00:00:00\",\"2023-03-02T00:00:00\",\"2023-03-03T00:00:00\",\"2023-03-04T00:00:00\",\"2023-03-05T00:00:00\",\"2023-03-06T00:00:00\",\"2023-03-07T00:00:00\",\"2023-03-08T00:00:00\",\"2023-03-09T00:00:00\",\"2023-03-10T00:00:00\",\"2023-03-11T00:00:00\",\"2023-03-12T00:00:00\",\"2023-03-13T00:00:00\",\"2023-03-14T00:00:00\",\"2023-03-15T00:00:00\",\"2023-03-16T00:00:00\",\"2023-03-17T00:00:00\",\"2023-03-18T00:00:00\",\"2023-03-19T00:00:00\",\"2023-03-20T00:00:00\",\"2023-03-21T00:00:00\",\"2023-03-22T00:00:00\",\"2023-03-23T00:00:00\",\"2023-03-24T00:00:00\",\"2023-03-25T00:00:00\",\"2023-03-26T00:00:00\",\"2023-03-27T00:00:00\",\"2023-03-28T00:00:00\",\"2023-03-29T00:00:00\",\"2023-03-30T00:00:00\",\"2023-03-31T00:00:00\",\"2023-04-01T00:00:00\",\"2023-04-02T00:00:00\",\"2023-04-03T00:00:00\",\"2023-04-04T00:00:00\",\"2023-04-05T00:00:00\",\"2023-04-06T00:00:00\",\"2023-04-07T00:00:00\",\"2023-04-08T00:00:00\",\"2023-04-09T00:00:00\",\"2023-04-10T00:00:00\",\"2023-04-11T00:00:00\",\"2023-04-12T00:00:00\",\"2023-04-13T00:00:00\",\"2023-04-14T00:00:00\",\"2023-04-15T00:00:00\",\"2023-04-16T00:00:00\",\"2023-04-17T00:00:00\",\"2023-04-18T00:00:00\",\"2023-04-19T00:00:00\",\"2023-04-20T00:00:00\",\"2023-04-21T00:00:00\",\"2023-04-22T00:00:00\",\"2023-04-23T00:00:00\",\"2023-04-24T00:00:00\",\"2023-04-25T00:00:00\",\"2023-04-26T00:00:00\",\"2023-04-27T00:00:00\",\"2023-04-28T00:00:00\",\"2023-04-29T00:00:00\",\"2023-04-30T00:00:00\",\"2023-05-01T00:00:00\",\"2023-05-02T00:00:00\",\"2023-05-03T00:00:00\",\"2023-05-04T00:00:00\",\"2023-05-05T00:00:00\",\"2023-05-06T00:00:00\",\"2023-05-07T00:00:00\",\"2023-05-08T00:00:00\",\"2023-05-09T00:00:00\",\"2023-05-10T00:00:00\",\"2023-05-11T00:00:00\",\"2023-05-12T00:00:00\",\"2023-05-13T00:00:00\",\"2023-05-14T00:00:00\",\"2023-05-15T00:00:00\",\"2023-05-16T00:00:00\",\"2023-05-17T00:00:00\",\"2023-05-18T00:00:00\",\"2023-05-19T00:00:00\",\"2023-05-20T00:00:00\",\"2023-05-21T00:00:00\",\"2023-05-22T00:00:00\",\"2023-05-23T00:00:00\",\"2023-05-24T00:00:00\",\"2023-05-25T00:00:00\",\"2023-05-26T00:00:00\",\"2023-05-27T00:00:00\",\"2023-05-28T00:00:00\",\"2023-05-29T00:00:00\",\"2023-05-30T00:00:00\",\"2023-05-31T00:00:00\",\"2023-06-01T00:00:00\",\"2023-06-02T00:00:00\",\"2023-06-03T00:00:00\",\"2023-06-04T00:00:00\",\"2023-06-05T00:00:00\",\"2023-06-06T00:00:00\",\"2023-06-07T00:00:00\",\"2023-06-08T00:00:00\",\"2023-06-09T00:00:00\",\"2023-06-10T00:00:00\",\"2023-06-11T00:00:00\",\"2023-06-12T00:00:00\",\"2023-06-13T00:00:00\",\"2023-06-14T00:00:00\",\"2023-06-15T00:00:00\",\"2023-06-16T00:00:00\",\"2023-06-17T00:00:00\",\"2023-06-18T00:00:00\",\"2023-06-19T00:00:00\",\"2023-06-20T00:00:00\",\"2023-06-21T00:00:00\",\"2023-06-22T00:00:00\",\"2023-06-23T00:00:00\",\"2023-06-24T00:00:00\",\"2023-06-25T00:00:00\",\"2023-06-26T00:00:00\",\"2023-06-27T00:00:00\",\"2023-06-28T00:00:00\",\"2023-06-29T00:00:00\",\"2023-06-30T00:00:00\",\"2023-07-01T00:00:00\",\"2023-07-02T00:00:00\",\"2023-07-03T00:00:00\",\"2023-07-04T00:00:00\",\"2023-07-05T00:00:00\",\"2023-07-06T00:00:00\",\"2023-07-07T00:00:00\",\"2023-07-08T00:00:00\",\"2023-07-09T00:00:00\",\"2023-07-10T00:00:00\",\"2023-07-11T00:00:00\",\"2023-07-12T00:00:00\",\"2023-07-13T00:00:00\",\"2023-07-14T00:00:00\",\"2023-07-15T00:00:00\",\"2023-07-16T00:00:00\",\"2023-07-17T00:00:00\",\"2023-07-18T00:00:00\",\"2023-07-19T00:00:00\",\"2023-07-20T00:00:00\",\"2023-07-21T00:00:00\",\"2023-07-22T00:00:00\",\"2023-07-23T00:00:00\",\"2023-07-24T00:00:00\",\"2023-07-25T00:00:00\",\"2023-07-26T00:00:00\",\"2023-07-27T00:00:00\",\"2023-07-28T00:00:00\",\"2023-07-29T00:00:00\",\"2023-07-30T00:00:00\",\"2023-07-31T00:00:00\",\"2023-08-01T00:00:00\",\"2023-08-02T00:00:00\",\"2023-08-03T00:00:00\",\"2023-08-04T00:00:00\",\"2023-08-05T00:00:00\",\"2023-08-06T00:00:00\",\"2023-08-07T00:00:00\",\"2023-08-08T00:00:00\",\"2023-08-09T00:00:00\",\"2023-08-10T00:00:00\",\"2023-08-11T00:00:00\",\"2023-08-12T00:00:00\",\"2023-08-13T00:00:00\",\"2023-08-14T00:00:00\",\"2023-08-15T00:00:00\",\"2023-08-16T00:00:00\",\"2023-08-17T00:00:00\",\"2023-08-18T00:00:00\",\"2023-08-19T00:00:00\",\"2023-08-20T00:00:00\",\"2023-08-21T00:00:00\",\"2023-08-22T00:00:00\",\"2023-08-23T00:00:00\",\"2023-08-24T00:00:00\",\"2023-08-25T00:00:00\",\"2023-08-26T00:00:00\",\"2023-08-27T00:00:00\",\"2023-08-28T00:00:00\",\"2023-08-29T00:00:00\",\"2023-08-30T00:00:00\",\"2023-08-31T00:00:00\",\"2023-09-01T00:00:00\",\"2023-09-02T00:00:00\",\"2023-09-03T00:00:00\",\"2023-09-04T00:00:00\",\"2023-09-05T00:00:00\",\"2023-09-06T00:00:00\",\"2023-09-07T00:00:00\",\"2023-09-08T00:00:00\",\"2023-09-09T00:00:00\",\"2023-09-10T00:00:00\",\"2023-09-11T00:00:00\",\"2023-09-12T00:00:00\",\"2023-09-13T00:00:00\",\"2023-09-14T00:00:00\",\"2023-09-15T00:00:00\",\"2023-09-16T00:00:00\",\"2023-09-17T00:00:00\",\"2023-09-18T00:00:00\",\"2023-09-19T00:00:00\",\"2023-09-20T00:00:00\",\"2023-09-21T00:00:00\",\"2023-09-22T00:00:00\",\"2023-09-23T00:00:00\",\"2023-09-24T00:00:00\",\"2023-09-25T00:00:00\",\"2023-09-26T00:00:00\",\"2023-09-27T00:00:00\",\"2023-09-28T00:00:00\",\"2023-09-29T00:00:00\",\"2023-09-30T00:00:00\",\"2023-10-01T00:00:00\",\"2023-10-02T00:00:00\",\"2023-10-03T00:00:00\",\"2023-10-04T00:00:00\",\"2023-10-05T00:00:00\",\"2023-10-06T00:00:00\",\"2023-10-07T00:00:00\",\"2023-10-08T00:00:00\",\"2023-10-09T00:00:00\",\"2023-10-10T00:00:00\",\"2023-10-11T00:00:00\",\"2023-10-12T00:00:00\",\"2023-10-13T00:00:00\",\"2023-10-14T00:00:00\",\"2023-10-15T00:00:00\",\"2023-10-16T00:00:00\",\"2023-10-17T00:00:00\",\"2023-10-18T00:00:00\",\"2023-10-19T00:00:00\",\"2023-10-20T00:00:00\",\"2023-10-21T00:00:00\",\"2023-10-22T00:00:00\",\"2023-10-23T00:00:00\",\"2023-10-24T00:00:00\",\"2023-10-25T00:00:00\",\"2023-10-26T00:00:00\",\"2023-10-27T00:00:00\",\"2023-10-28T00:00:00\",\"2023-10-29T00:00:00\",\"2023-10-30T00:00:00\",\"2023-10-31T00:00:00\",\"2023-11-01T00:00:00\",\"2023-11-02T00:00:00\",\"2023-11-03T00:00:00\",\"2023-11-04T00:00:00\",\"2023-11-05T00:00:00\",\"2023-11-06T00:00:00\",\"2023-11-07T00:00:00\",\"2023-11-08T00:00:00\",\"2023-11-09T00:00:00\",\"2023-11-10T00:00:00\",\"2023-11-11T00:00:00\",\"2023-11-12T00:00:00\",\"2023-11-13T00:00:00\",\"2023-11-14T00:00:00\",\"2023-11-15T00:00:00\",\"2023-11-16T00:00:00\",\"2023-11-17T00:00:00\",\"2023-11-18T00:00:00\",\"2023-11-19T00:00:00\"],\"y\":[33333.333333333336,33333.333333333336,33333.333333333336,33333.333333333336,33333.333333333336,33333.333333333336,33333.333333333336,33333.333333333336,33333.333333333336,33333.333333333336,33333.333333333336,33333.333333333336,33333.333333333336,33333.333333333336,33333.333333333336,33333.333333333336,33333.333333333336,33333.333333333336,33333.333333333336,33333.333333333336,33333.333333333336,33333.333333333336,33333.333333333336,33333.333333333336,33333.333333333336,33333.333333333336,33333.333333333336,33333.333333333336,33333.333333333336,33333.333333333336,33333.333333333336,33333.333333333336,1179434.9999999998,2325536.6666666665,3471638.333333333,4617739.999999999,5763841.666666665,6909943.333333332,8056044.999999999,9202146.666666666,55545818.333333336,109457501.66666667,111436963.33333333,220783250.0,269781980.0,253689861.66666666,298107935.0,272234736.6666667,251167911.66666666,205598956.66666666,235820770.0,262281121.66666666,269257713.3333333,257507328.33333334,300623768.3333333,311324175.0,307947871.6666667,360580895.0,328370765.0,174110958.33333334,194001218.33333334,131824158.33333333,168127468.33333334,163722503.33333334,153421358.33333334,142400558.33333334,129824793.33333333,121819818.33333333,125547355.0,136198168.33333334,127725451.66666667,128162381.66666667,134418640.0,160240415.0,137031203.33333334,131762601.66666667,147227865.0,116200950.0,118762471.66666667,115261225.0,130240741.66666667,145654818.33333334,151893771.66666666,155056283.33333334,146497411.66666666,189875701.66666666,187739223.33333334,152514756.66666666,165585690.33333334,156708455.0,199017613.33333334,182252910.0,180289981.66666666,165494155.0,93454038.33333333,38112816.666666664,144035708.33333334,148280320.0,151972830.0,147746928.33333334,143806575.0,148682303.33333334,97894365.0,82206015.0,109360936.66666667,103942718.33333333,168722910.0,183843281.66666666,178598251.66666666,172694266.66666666,179080956.66666666,104217663.33333333,118580311.66666667,113391783.33333333,151772326.66666666,156798336.66666666,170160780.0,166575705.0,167950091.66666666,155466643.33333334,201122818.33333334,190646910.0,174566930.0,187089301.66666666,189244960.0,189650830.0,177406091.66666666,201070883.33333334,189569620.0,178303205.0,187547585.0,169681165.0,187397726.66666666,173966878.33333334,182210415.0,172519128.33333334,175564370.0,172808946.66666666,183027723.33333334,210175895.0,191606176.66666666,183428341.66666666,185924486.66666666,183067811.66666666,202162383.33333334,216827501.66666666,218629015.0,210919345.0,226865326.66666666,227495189.0,249525205.66666666,190696766.66666666,167350445.0,167871363.33333334,217367964.33333334,76248270.66666667,82684854.0,73270542.33333333,65640975.333333336,67075012.333333336,66132905.0,62072222.666666664,60566756.666666664,66235424.333333336,77501806.66666667,69527056.66666667,56778225.666666664,54790973.333333336,63450976.666666664,62523441.333333336,109409526.66666667,118538034.0,47767874.0,53405662.0,50874166.0,52736425.0,54406461.666666664,65784074.0,38727907.333333336,5942550.666666667,7666805.333333333,7900487.333333333,11444596.0,14494267.333333334,18023552.0,17423956.666666668,20612581.333333332,16611296.666666666,16129441.0,16565854.0,17769419.0,16933209.333333332,17005951.333333332,18817638.0,16783645.666666668,16445630.666666666,16779740.666666668,16536829.666666666,15721578.666666666,9041914.0,8785438.333333334,8008508.333333333,6299186.666666667,6504914.0,13218966.666666666,7723689.333333333,8334594.666666667,8111464.333333333,10517700.0,7579033.333333333,8233766.666666667,9679039.0,11103326.666666666,15433802.666666666,12175650.0,7683561.333333333,12355869.0,10422258.666666666,9515104.0,53486775.333333336,127569050.33333333,159160351.66666666,155655530.0,45243483.666666664,8574839.0,8248139.0,7982014.0,8263630.666666667,8747158.333333334,9082889.333333334,8527369.0,7946636.333333333,8423678.666666666,7956381.333333333,7719530.666666667,39219158.666666664,54743080.0,9123270.666666666,10944624.0,9975094.666666666,10074297.333333334,11808180.0,7187554.666666667,8985927.0,11190408.333333334,7773614.666666667,11210585.666666666,12792100.0,6769093.666666667,9155409.333333334,7435379.333333333,9504572.333333334,8273378.666666667,9607897.333333334,7942897.333333333,10524821.333333334,74816233.0,28783970.666666668,7087004.0,9723928.0,6276904.0,6781364.0,6683568.666666667,7725151.333333333,6870864.0,5488864.0,2724166.6666666665,5834048.0,6145833.333333333,9598894.666666666,7466561.333333333,9108197.333333334,8213197.333333333,11552789.333333334,8967746.666666666,10130697.333333334,9350122.666666666,12849096.0,40027242.666666664,6931864.0,8094209.666666667,6068986.666666667,7546622.666666667,6338286.0,8112425.333333333,7936197.333333333,7869500.0,7326697.333333333,6634500.0,6624894.666666667,5846030.666666667,5312369.666666667,5820120.333333333,4419228.0,7321364.0,4933728.0,7685333.333333333,7976061.333333333,7299000.0,8964197.333333334,5498166.666666667,6462666.666666667,6513666.666666667,7933833.333333333,10567833.333333334,9384228.0,8513728.0,7599166.666666667,7482833.333333333,7065333.333333333,8065394.666666667,10606548.0,6621030.666666667,7596697.333333333,7466864.0,8726425.333333334,8677585.333333334,6333622.666666667,5712092.0,6593864.0,5691061.333333333,6362697.333333333,5878666.666666667],\"type\":\"scatter\",\"xaxis\":\"x6\",\"yaxis\":\"y6\"},{\"legendgroup\":\"y\",\"line\":{\"color\":\"#440154\",\"width\":1},\"mode\":\"lines\",\"name\":\"y\",\"showlegend\":false,\"x\":[\"2023-01-01T00:00:00\",\"2023-01-02T00:00:00\",\"2023-01-03T00:00:00\",\"2023-01-04T00:00:00\",\"2023-01-05T00:00:00\",\"2023-01-06T00:00:00\",\"2023-01-07T00:00:00\",\"2023-01-08T00:00:00\",\"2023-01-09T00:00:00\",\"2023-01-10T00:00:00\",\"2023-01-11T00:00:00\",\"2023-01-12T00:00:00\",\"2023-01-13T00:00:00\",\"2023-01-14T00:00:00\",\"2023-01-15T00:00:00\",\"2023-01-16T00:00:00\",\"2023-01-17T00:00:00\",\"2023-01-18T00:00:00\",\"2023-01-19T00:00:00\",\"2023-01-20T00:00:00\",\"2023-01-21T00:00:00\",\"2023-01-22T00:00:00\",\"2023-01-23T00:00:00\",\"2023-01-24T00:00:00\",\"2023-01-25T00:00:00\",\"2023-01-26T00:00:00\",\"2023-01-27T00:00:00\",\"2023-01-28T00:00:00\",\"2023-01-29T00:00:00\",\"2023-01-30T00:00:00\",\"2023-01-31T00:00:00\",\"2023-02-01T00:00:00\",\"2023-02-02T00:00:00\",\"2023-02-03T00:00:00\",\"2023-02-04T00:00:00\",\"2023-02-05T00:00:00\",\"2023-02-06T00:00:00\",\"2023-02-07T00:00:00\",\"2023-02-08T00:00:00\",\"2023-02-09T00:00:00\",\"2023-02-10T00:00:00\",\"2023-02-11T00:00:00\",\"2023-02-12T00:00:00\",\"2023-02-13T00:00:00\",\"2023-02-14T00:00:00\",\"2023-02-15T00:00:00\",\"2023-02-16T00:00:00\",\"2023-02-17T00:00:00\",\"2023-02-18T00:00:00\",\"2023-02-19T00:00:00\",\"2023-02-20T00:00:00\",\"2023-02-21T00:00:00\",\"2023-02-22T00:00:00\",\"2023-02-23T00:00:00\",\"2023-02-24T00:00:00\",\"2023-02-25T00:00:00\",\"2023-02-26T00:00:00\",\"2023-02-27T00:00:00\",\"2023-02-28T00:00:00\",\"2023-03-01T00:00:00\",\"2023-03-02T00:00:00\",\"2023-03-03T00:00:00\",\"2023-03-04T00:00:00\",\"2023-03-05T00:00:00\",\"2023-03-06T00:00:00\",\"2023-03-07T00:00:00\",\"2023-03-08T00:00:00\",\"2023-03-09T00:00:00\",\"2023-03-10T00:00:00\",\"2023-03-11T00:00:00\",\"2023-03-12T00:00:00\",\"2023-03-13T00:00:00\",\"2023-03-14T00:00:00\",\"2023-03-15T00:00:00\",\"2023-03-16T00:00:00\",\"2023-03-17T00:00:00\",\"2023-03-18T00:00:00\",\"2023-03-19T00:00:00\",\"2023-03-20T00:00:00\",\"2023-03-21T00:00:00\",\"2023-03-22T00:00:00\",\"2023-03-23T00:00:00\",\"2023-03-24T00:00:00\",\"2023-03-25T00:00:00\",\"2023-03-26T00:00:00\",\"2023-03-27T00:00:00\",\"2023-03-28T00:00:00\",\"2023-03-29T00:00:00\",\"2023-03-30T00:00:00\",\"2023-03-31T00:00:00\",\"2023-04-01T00:00:00\",\"2023-04-02T00:00:00\",\"2023-04-03T00:00:00\",\"2023-04-04T00:00:00\",\"2023-04-05T00:00:00\",\"2023-04-06T00:00:00\",\"2023-04-07T00:00:00\",\"2023-04-08T00:00:00\",\"2023-04-09T00:00:00\",\"2023-04-10T00:00:00\",\"2023-04-11T00:00:00\",\"2023-04-12T00:00:00\",\"2023-04-13T00:00:00\",\"2023-04-14T00:00:00\",\"2023-04-15T00:00:00\",\"2023-04-16T00:00:00\",\"2023-04-17T00:00:00\",\"2023-04-18T00:00:00\",\"2023-04-19T00:00:00\",\"2023-04-20T00:00:00\",\"2023-04-21T00:00:00\",\"2023-04-22T00:00:00\",\"2023-04-23T00:00:00\",\"2023-04-24T00:00:00\",\"2023-04-25T00:00:00\",\"2023-04-26T00:00:00\",\"2023-04-27T00:00:00\",\"2023-04-28T00:00:00\",\"2023-04-29T00:00:00\",\"2023-04-30T00:00:00\",\"2023-05-01T00:00:00\",\"2023-05-02T00:00:00\",\"2023-05-03T00:00:00\",\"2023-05-04T00:00:00\",\"2023-05-05T00:00:00\",\"2023-05-06T00:00:00\",\"2023-05-07T00:00:00\",\"2023-05-08T00:00:00\",\"2023-05-09T00:00:00\",\"2023-05-10T00:00:00\",\"2023-05-11T00:00:00\",\"2023-05-12T00:00:00\",\"2023-05-13T00:00:00\",\"2023-05-14T00:00:00\",\"2023-05-15T00:00:00\",\"2023-05-16T00:00:00\",\"2023-05-17T00:00:00\",\"2023-05-18T00:00:00\",\"2023-05-19T00:00:00\",\"2023-05-20T00:00:00\",\"2023-05-21T00:00:00\",\"2023-05-22T00:00:00\",\"2023-05-23T00:00:00\",\"2023-05-24T00:00:00\",\"2023-05-25T00:00:00\",\"2023-05-26T00:00:00\",\"2023-05-27T00:00:00\",\"2023-05-28T00:00:00\",\"2023-05-29T00:00:00\",\"2023-05-30T00:00:00\",\"2023-05-31T00:00:00\",\"2023-06-01T00:00:00\",\"2023-06-02T00:00:00\",\"2023-06-03T00:00:00\",\"2023-06-04T00:00:00\",\"2023-06-05T00:00:00\",\"2023-06-06T00:00:00\",\"2023-06-07T00:00:00\",\"2023-06-08T00:00:00\",\"2023-06-09T00:00:00\",\"2023-06-10T00:00:00\",\"2023-06-11T00:00:00\",\"2023-06-12T00:00:00\",\"2023-06-13T00:00:00\",\"2023-06-14T00:00:00\",\"2023-06-15T00:00:00\",\"2023-06-16T00:00:00\",\"2023-06-17T00:00:00\",\"2023-06-18T00:00:00\",\"2023-06-19T00:00:00\",\"2023-06-20T00:00:00\",\"2023-06-21T00:00:00\",\"2023-06-22T00:00:00\",\"2023-06-23T00:00:00\",\"2023-06-24T00:00:00\",\"2023-06-25T00:00:00\",\"2023-06-26T00:00:00\",\"2023-06-27T00:00:00\",\"2023-06-28T00:00:00\",\"2023-06-29T00:00:00\",\"2023-06-30T00:00:00\",\"2023-07-01T00:00:00\",\"2023-07-02T00:00:00\",\"2023-07-03T00:00:00\",\"2023-07-04T00:00:00\",\"2023-07-05T00:00:00\",\"2023-07-06T00:00:00\",\"2023-07-07T00:00:00\",\"2023-07-08T00:00:00\",\"2023-07-09T00:00:00\",\"2023-07-10T00:00:00\",\"2023-07-11T00:00:00\",\"2023-07-12T00:00:00\",\"2023-07-13T00:00:00\",\"2023-07-14T00:00:00\",\"2023-07-15T00:00:00\",\"2023-07-16T00:00:00\",\"2023-07-17T00:00:00\",\"2023-07-18T00:00:00\",\"2023-07-19T00:00:00\",\"2023-07-20T00:00:00\",\"2023-07-21T00:00:00\",\"2023-07-22T00:00:00\",\"2023-07-23T00:00:00\",\"2023-07-24T00:00:00\",\"2023-07-25T00:00:00\",\"2023-07-26T00:00:00\",\"2023-07-27T00:00:00\",\"2023-07-28T00:00:00\",\"2023-07-29T00:00:00\",\"2023-07-30T00:00:00\",\"2023-07-31T00:00:00\",\"2023-08-01T00:00:00\",\"2023-08-02T00:00:00\",\"2023-08-03T00:00:00\",\"2023-08-04T00:00:00\",\"2023-08-05T00:00:00\",\"2023-08-06T00:00:00\",\"2023-08-07T00:00:00\",\"2023-08-08T00:00:00\",\"2023-08-09T00:00:00\",\"2023-08-10T00:00:00\",\"2023-08-11T00:00:00\",\"2023-08-12T00:00:00\",\"2023-08-13T00:00:00\",\"2023-08-14T00:00:00\",\"2023-08-15T00:00:00\",\"2023-08-16T00:00:00\",\"2023-08-17T00:00:00\",\"2023-08-18T00:00:00\",\"2023-08-19T00:00:00\",\"2023-08-20T00:00:00\",\"2023-08-21T00:00:00\",\"2023-08-22T00:00:00\",\"2023-08-23T00:00:00\",\"2023-08-24T00:00:00\",\"2023-08-25T00:00:00\",\"2023-08-26T00:00:00\",\"2023-08-27T00:00:00\",\"2023-08-28T00:00:00\",\"2023-08-29T00:00:00\",\"2023-08-30T00:00:00\",\"2023-08-31T00:00:00\",\"2023-09-01T00:00:00\",\"2023-09-02T00:00:00\",\"2023-09-03T00:00:00\",\"2023-09-04T00:00:00\",\"2023-09-05T00:00:00\",\"2023-09-06T00:00:00\",\"2023-09-07T00:00:00\",\"2023-09-08T00:00:00\",\"2023-09-09T00:00:00\",\"2023-09-10T00:00:00\",\"2023-09-11T00:00:00\",\"2023-09-12T00:00:00\",\"2023-09-13T00:00:00\",\"2023-09-14T00:00:00\",\"2023-09-15T00:00:00\",\"2023-09-16T00:00:00\",\"2023-09-17T00:00:00\",\"2023-09-18T00:00:00\",\"2023-09-19T00:00:00\",\"2023-09-20T00:00:00\",\"2023-09-21T00:00:00\",\"2023-09-22T00:00:00\",\"2023-09-23T00:00:00\",\"2023-09-24T00:00:00\",\"2023-09-25T00:00:00\",\"2023-09-26T00:00:00\",\"2023-09-27T00:00:00\",\"2023-09-28T00:00:00\",\"2023-09-29T00:00:00\",\"2023-09-30T00:00:00\",\"2023-10-01T00:00:00\",\"2023-10-02T00:00:00\",\"2023-10-03T00:00:00\",\"2023-10-04T00:00:00\",\"2023-10-05T00:00:00\",\"2023-10-06T00:00:00\",\"2023-10-07T00:00:00\",\"2023-10-08T00:00:00\",\"2023-10-09T00:00:00\",\"2023-10-10T00:00:00\",\"2023-10-11T00:00:00\",\"2023-10-12T00:00:00\",\"2023-10-13T00:00:00\",\"2023-10-14T00:00:00\",\"2023-10-15T00:00:00\",\"2023-10-16T00:00:00\",\"2023-10-17T00:00:00\",\"2023-10-18T00:00:00\",\"2023-10-19T00:00:00\",\"2023-10-20T00:00:00\",\"2023-10-21T00:00:00\",\"2023-10-22T00:00:00\",\"2023-10-23T00:00:00\",\"2023-10-24T00:00:00\",\"2023-10-25T00:00:00\",\"2023-10-26T00:00:00\",\"2023-10-27T00:00:00\",\"2023-10-28T00:00:00\",\"2023-10-29T00:00:00\",\"2023-10-30T00:00:00\",\"2023-10-31T00:00:00\",\"2023-11-01T00:00:00\",\"2023-11-02T00:00:00\",\"2023-11-03T00:00:00\",\"2023-11-04T00:00:00\",\"2023-11-05T00:00:00\",\"2023-11-06T00:00:00\",\"2023-11-07T00:00:00\",\"2023-11-08T00:00:00\",\"2023-11-09T00:00:00\",\"2023-11-10T00:00:00\",\"2023-11-11T00:00:00\",\"2023-11-12T00:00:00\",\"2023-11-13T00:00:00\",\"2023-11-14T00:00:00\",\"2023-11-15T00:00:00\",\"2023-11-16T00:00:00\",\"2023-11-17T00:00:00\",\"2023-11-18T00:00:00\",\"2023-11-19T00:00:00\"],\"y\":[15621405.333333334,7645354.333333333,4829094.666666667,4464545.0,3673417.0,5899423.333333333,7623316.0,6324390.666666667,4208225.333333333,3165309.0,4473858.0,36294830.666666664,86151644.66666667,38574741.0,31506384.333333332,18407198.666666668,15084134.666666666,12475418.666666666,8891741.0,20936775.333333332,23140896.666666668,13883299.333333334,10774825.666666666,9023339.0,6840480.666666667,10412850.666666666,24793224.666666668,26593399.333333332,24059902.333333332,28898152.0,17888637.666666668,14309385.333333334,16989467.666666668,23880625.666666668,4743660.0,3999618.4,3255576.8,2511535.2,1767493.6,1023452.0,4098119.0,4948484.666666667,5321234.666666667,5911452.666666667,3653116.3333333335,3772470.3333333335,3525284.3333333335,5018451.666666667,4116372.0,5784529.0,5073170.333333333,3241580.0,6213618.0,3281604.6666666665,4312433.0,4120825.0,5095805.333333333,5140385.0,3360753.6666666665,4476902.0,4962336.0,13948958.333333334,27663348.333333332,21104634.666666668,22086581.333333332,9666004.0,16276626.0,13053877.333333334,10798594.333333334,7700699.0,10268199.0,9945307.0,7524506.0,12412105.666666666,12853271.333333334,18886356.0,11834485.666666666,13477767.666666666,17674440.0,22004736.0,11438438.333333334,10491565.666666666,14943035.333333334,19989020.666666668,16929727.666666668,18442100.333333332,17681511.333333332,13892988.333333334,15979350.0,18441129.333333332,13542554.333333334,18568746.333333332,30891492.333333332,11029707.0,15321438.0,16886024.0,14192755.333333334,14606795.0,21571472.0,17146545.0,15307812.333333334,14871235.0,13687425.666666666,13771923.333333334,18545857.0,16346434.0,14445493.333333334,61493089.0,71193733.33333333,80956051.66666667,73600367.33333333,65495952.666666664,94748582.33333333,66916099.666666664,73710654.66666667,97402841.33333333,81422859.33333333,66694565.0,62162444.0,64310680.333333336,66430529.333333336,71165116.33333333,67668602.66666667,60176202.0,69249620.66666667,69096048.0,53651622.0,67140227.0,32750498.333333332,10323696.0,13175105.666666666,14594947.333333334,8532114.0,9718098.333333334,9364244.0,10619936.0,10755792.333333334,30260408.333333332,33972759.0,32832295.333333332,28365140.333333332,31752173.0,32213132.666666668,32094103.666666668,31217355.333333332,33095235.666666668,30322506.666666668,32432028.666666668,32045699.0,36840347.0,36096521.333333336,29435928.0,24180478.666666668,34558642.0,35031787.333333336,39404600.333333336,37059783.666666664,22666932.333333332,6474637.666666667,7298934.333333333,9120496.666666666,7261557.666666667,10832793.0,6527851.666666667,8474935.0,8251424.333333333,7441180.333333333,6900973.666666667,6531004.0,8127496.333333333,7017018.0,8392845.333333334,8321325.666666667,7640662.333333333,7602614.333333333,7298850.0,7894364.666666667,6192111.666666667,6129585.666666667,6609783.333333333,8262856.666666667,9439024.0,7711565.0,10071246.333333334,7984486.0,10141980.666666666,10006115.0,8462987.666666666,10848663.0,8993015.333333334,8524365.666666666,9084025.0,9111619.666666666,11367826.0,10967164.333333334,8357389.0,5954284.333333333,6556869.0,6905059.0,10790476.0,11438329.0,9017636.333333334,7071317.333333333,6695922.666666667,12114964.333333334,7537512.666666667,6623150.0,6100980.0,9699830.0,7990347.333333333,8778328.0,8281669.0,6628119.333333333,10167132.0,7354778.0,7399610.333333333,5857791.0,8145661.333333333,8394453.333333334,5891234.666666667,3112954.0,4361236.333333333,4856793.666666667,4005547.0,4078163.3333333335,6298888.333333333,3809633.3333333335,4696667.666666667,4563262.333333333,3302996.3333333335,3299359.6666666665,3846591.6666666665,5043335.666666667,4127407.6666666665,4845831.666666667,6596522.666666667,5724688.333333333,13065479.666666666,4715960.666666667,5335431.0,4811595.666666667,4472670.666666667,6520840.666666667,6039851.0,5054240.0,5007014.333333333,5618758.333333333,4108597.6666666665,4556479.333333333,5236275.666666667,5367746.0,7750227.333333333,5401660.0,5529376.0,4260206.333333333,4434277.666666667,6610094.0,6029828.0,6527814.0,5387135.666666667,3500115.3333333335,3259917.6666666665,4856986.666666667,3970993.3333333335,5266760.0,4691781.666666667,2891702.6666666665,5024499.666666667,4559892.666666667,5942249.333333333,5295235.0,5379918.333333333,6098107.333333333,5311583.0,5745238.666666667,5883921.333333333,3800462.6666666665,4745791.0,4427854.666666667,4782304.0,6994308.666666667,5692828.666666667,5096418.333333333,4312746.0,5021721.333333333,4052524.3333333335,6663936.666666667,4416229.0,5220085.666666667,4044142.0,3953106.3333333335,4182076.3333333335,3479413.6666666665,5042105.0,6171871.0,3362390.3333333335,8228326.333333333,4697125.666666667,5347367.0,7150879.333333333,6955594.666666667,7392598.666666667,8896312.666666666,6500714.0,7405410.666666667,6010100.0,5427300.666666667,7406374.0,10438967.666666666,11222178.0,10211899.666666666,6384732.666666667,5468963.333333333,5419360.0,5832355.666666667,6032199.333333333,14465622.666666666,7102309.0,5789855.0,6576307.333333333,6329058.666666667,6199138.666666667,4627072.0],\"type\":\"scatter\",\"xaxis\":\"x7\",\"yaxis\":\"y7\"},{\"legendgroup\":\"y\",\"line\":{\"color\":\"#440154\",\"width\":1},\"mode\":\"lines\",\"name\":\"y\",\"showlegend\":false,\"x\":[\"2023-01-01T00:00:00\",\"2023-01-02T00:00:00\",\"2023-01-03T00:00:00\",\"2023-01-04T00:00:00\",\"2023-01-05T00:00:00\",\"2023-01-06T00:00:00\",\"2023-01-07T00:00:00\",\"2023-01-08T00:00:00\",\"2023-01-09T00:00:00\",\"2023-01-10T00:00:00\",\"2023-01-11T00:00:00\",\"2023-01-12T00:00:00\",\"2023-01-13T00:00:00\",\"2023-01-14T00:00:00\",\"2023-01-15T00:00:00\",\"2023-01-16T00:00:00\",\"2023-01-17T00:00:00\",\"2023-01-18T00:00:00\",\"2023-01-19T00:00:00\",\"2023-01-20T00:00:00\",\"2023-01-21T00:00:00\",\"2023-01-22T00:00:00\",\"2023-01-23T00:00:00\",\"2023-01-24T00:00:00\",\"2023-01-25T00:00:00\",\"2023-01-26T00:00:00\",\"2023-01-27T00:00:00\",\"2023-01-28T00:00:00\",\"2023-01-29T00:00:00\",\"2023-01-30T00:00:00\",\"2023-01-31T00:00:00\",\"2023-02-01T00:00:00\",\"2023-02-02T00:00:00\",\"2023-02-03T00:00:00\",\"2023-02-04T00:00:00\",\"2023-02-05T00:00:00\",\"2023-02-06T00:00:00\",\"2023-02-07T00:00:00\",\"2023-02-08T00:00:00\",\"2023-02-09T00:00:00\",\"2023-02-10T00:00:00\",\"2023-02-11T00:00:00\",\"2023-02-12T00:00:00\",\"2023-02-13T00:00:00\",\"2023-02-14T00:00:00\",\"2023-02-15T00:00:00\",\"2023-02-16T00:00:00\",\"2023-02-17T00:00:00\",\"2023-02-18T00:00:00\",\"2023-02-19T00:00:00\",\"2023-02-20T00:00:00\",\"2023-02-21T00:00:00\",\"2023-02-22T00:00:00\",\"2023-02-23T00:00:00\",\"2023-02-24T00:00:00\",\"2023-02-25T00:00:00\",\"2023-02-26T00:00:00\",\"2023-02-27T00:00:00\",\"2023-02-28T00:00:00\",\"2023-03-01T00:00:00\",\"2023-03-02T00:00:00\",\"2023-03-03T00:00:00\",\"2023-03-04T00:00:00\",\"2023-03-05T00:00:00\",\"2023-03-06T00:00:00\",\"2023-03-07T00:00:00\",\"2023-03-08T00:00:00\",\"2023-03-09T00:00:00\",\"2023-03-10T00:00:00\",\"2023-03-11T00:00:00\",\"2023-03-12T00:00:00\",\"2023-03-13T00:00:00\",\"2023-03-14T00:00:00\",\"2023-03-15T00:00:00\",\"2023-03-16T00:00:00\",\"2023-03-17T00:00:00\",\"2023-03-18T00:00:00\",\"2023-03-19T00:00:00\",\"2023-03-20T00:00:00\",\"2023-03-21T00:00:00\",\"2023-03-22T00:00:00\",\"2023-03-23T00:00:00\",\"2023-03-24T00:00:00\",\"2023-03-25T00:00:00\",\"2023-03-26T00:00:00\",\"2023-03-27T00:00:00\",\"2023-03-28T00:00:00\",\"2023-03-29T00:00:00\",\"2023-03-30T00:00:00\",\"2023-03-31T00:00:00\",\"2023-04-01T00:00:00\",\"2023-04-02T00:00:00\",\"2023-04-03T00:00:00\",\"2023-04-04T00:00:00\",\"2023-04-05T00:00:00\",\"2023-04-06T00:00:00\",\"2023-04-07T00:00:00\",\"2023-04-08T00:00:00\",\"2023-04-09T00:00:00\",\"2023-04-10T00:00:00\",\"2023-04-11T00:00:00\",\"2023-04-12T00:00:00\",\"2023-04-13T00:00:00\",\"2023-04-14T00:00:00\",\"2023-04-15T00:00:00\",\"2023-04-16T00:00:00\",\"2023-04-17T00:00:00\",\"2023-04-18T00:00:00\",\"2023-04-19T00:00:00\",\"2023-04-20T00:00:00\",\"2023-04-21T00:00:00\",\"2023-04-22T00:00:00\",\"2023-04-23T00:00:00\",\"2023-04-24T00:00:00\",\"2023-04-25T00:00:00\",\"2023-04-26T00:00:00\",\"2023-04-27T00:00:00\",\"2023-04-28T00:00:00\",\"2023-04-29T00:00:00\",\"2023-04-30T00:00:00\",\"2023-05-01T00:00:00\",\"2023-05-02T00:00:00\",\"2023-05-03T00:00:00\",\"2023-05-04T00:00:00\",\"2023-05-05T00:00:00\",\"2023-05-06T00:00:00\",\"2023-05-07T00:00:00\",\"2023-05-08T00:00:00\",\"2023-05-09T00:00:00\",\"2023-05-10T00:00:00\",\"2023-05-11T00:00:00\",\"2023-05-12T00:00:00\",\"2023-05-13T00:00:00\",\"2023-05-14T00:00:00\",\"2023-05-15T00:00:00\",\"2023-05-16T00:00:00\",\"2023-05-17T00:00:00\",\"2023-05-18T00:00:00\",\"2023-05-19T00:00:00\",\"2023-05-20T00:00:00\",\"2023-05-21T00:00:00\",\"2023-05-22T00:00:00\",\"2023-05-23T00:00:00\",\"2023-05-24T00:00:00\",\"2023-05-25T00:00:00\",\"2023-05-26T00:00:00\",\"2023-05-27T00:00:00\",\"2023-05-28T00:00:00\",\"2023-05-29T00:00:00\",\"2023-05-30T00:00:00\",\"2023-05-31T00:00:00\",\"2023-06-01T00:00:00\",\"2023-06-02T00:00:00\",\"2023-06-03T00:00:00\",\"2023-06-04T00:00:00\",\"2023-06-05T00:00:00\",\"2023-06-06T00:00:00\",\"2023-06-07T00:00:00\",\"2023-06-08T00:00:00\",\"2023-06-09T00:00:00\",\"2023-06-10T00:00:00\",\"2023-06-11T00:00:00\",\"2023-06-12T00:00:00\",\"2023-06-13T00:00:00\",\"2023-06-14T00:00:00\",\"2023-06-15T00:00:00\",\"2023-06-16T00:00:00\",\"2023-06-17T00:00:00\",\"2023-06-18T00:00:00\",\"2023-06-19T00:00:00\",\"2023-06-20T00:00:00\",\"2023-06-21T00:00:00\",\"2023-06-22T00:00:00\",\"2023-06-23T00:00:00\",\"2023-06-24T00:00:00\",\"2023-06-25T00:00:00\",\"2023-06-26T00:00:00\",\"2023-06-27T00:00:00\",\"2023-06-28T00:00:00\",\"2023-06-29T00:00:00\",\"2023-06-30T00:00:00\",\"2023-07-01T00:00:00\",\"2023-07-02T00:00:00\",\"2023-07-03T00:00:00\",\"2023-07-04T00:00:00\",\"2023-07-05T00:00:00\",\"2023-07-06T00:00:00\",\"2023-07-07T00:00:00\",\"2023-07-08T00:00:00\",\"2023-07-09T00:00:00\",\"2023-07-10T00:00:00\",\"2023-07-11T00:00:00\",\"2023-07-12T00:00:00\",\"2023-07-13T00:00:00\",\"2023-07-14T00:00:00\",\"2023-07-15T00:00:00\",\"2023-07-16T00:00:00\",\"2023-07-17T00:00:00\",\"2023-07-18T00:00:00\",\"2023-07-19T00:00:00\",\"2023-07-20T00:00:00\",\"2023-07-21T00:00:00\",\"2023-07-22T00:00:00\",\"2023-07-23T00:00:00\",\"2023-07-24T00:00:00\",\"2023-07-25T00:00:00\",\"2023-07-26T00:00:00\",\"2023-07-27T00:00:00\",\"2023-07-28T00:00:00\",\"2023-07-29T00:00:00\",\"2023-07-30T00:00:00\",\"2023-07-31T00:00:00\",\"2023-08-01T00:00:00\",\"2023-08-02T00:00:00\",\"2023-08-03T00:00:00\",\"2023-08-04T00:00:00\",\"2023-08-05T00:00:00\",\"2023-08-06T00:00:00\",\"2023-08-07T00:00:00\",\"2023-08-08T00:00:00\",\"2023-08-09T00:00:00\",\"2023-08-10T00:00:00\",\"2023-08-11T00:00:00\",\"2023-08-12T00:00:00\",\"2023-08-13T00:00:00\",\"2023-08-14T00:00:00\",\"2023-08-15T00:00:00\",\"2023-08-16T00:00:00\",\"2023-08-17T00:00:00\",\"2023-08-18T00:00:00\",\"2023-08-19T00:00:00\",\"2023-08-20T00:00:00\",\"2023-08-21T00:00:00\",\"2023-08-22T00:00:00\",\"2023-08-23T00:00:00\",\"2023-08-24T00:00:00\",\"2023-08-25T00:00:00\",\"2023-08-26T00:00:00\",\"2023-08-27T00:00:00\",\"2023-08-28T00:00:00\",\"2023-08-29T00:00:00\",\"2023-08-30T00:00:00\",\"2023-08-31T00:00:00\",\"2023-09-01T00:00:00\",\"2023-09-02T00:00:00\",\"2023-09-03T00:00:00\",\"2023-09-04T00:00:00\",\"2023-09-05T00:00:00\",\"2023-09-06T00:00:00\",\"2023-09-07T00:00:00\",\"2023-09-08T00:00:00\",\"2023-09-09T00:00:00\",\"2023-09-10T00:00:00\",\"2023-09-11T00:00:00\",\"2023-09-12T00:00:00\",\"2023-09-13T00:00:00\",\"2023-09-14T00:00:00\",\"2023-09-15T00:00:00\",\"2023-09-16T00:00:00\",\"2023-09-17T00:00:00\",\"2023-09-18T00:00:00\",\"2023-09-19T00:00:00\",\"2023-09-20T00:00:00\",\"2023-09-21T00:00:00\",\"2023-09-22T00:00:00\",\"2023-09-23T00:00:00\",\"2023-09-24T00:00:00\",\"2023-09-25T00:00:00\",\"2023-09-26T00:00:00\",\"2023-09-27T00:00:00\",\"2023-09-28T00:00:00\",\"2023-09-29T00:00:00\",\"2023-09-30T00:00:00\",\"2023-10-01T00:00:00\",\"2023-10-02T00:00:00\",\"2023-10-03T00:00:00\",\"2023-10-04T00:00:00\",\"2023-10-05T00:00:00\",\"2023-10-06T00:00:00\",\"2023-10-07T00:00:00\",\"2023-10-08T00:00:00\",\"2023-10-09T00:00:00\",\"2023-10-10T00:00:00\",\"2023-10-11T00:00:00\",\"2023-10-12T00:00:00\",\"2023-10-13T00:00:00\",\"2023-10-14T00:00:00\",\"2023-10-15T00:00:00\",\"2023-10-16T00:00:00\",\"2023-10-17T00:00:00\",\"2023-10-18T00:00:00\",\"2023-10-19T00:00:00\",\"2023-10-20T00:00:00\",\"2023-10-21T00:00:00\",\"2023-10-22T00:00:00\",\"2023-10-23T00:00:00\",\"2023-10-24T00:00:00\",\"2023-10-25T00:00:00\",\"2023-10-26T00:00:00\",\"2023-10-27T00:00:00\",\"2023-10-28T00:00:00\",\"2023-10-29T00:00:00\",\"2023-10-30T00:00:00\",\"2023-10-31T00:00:00\",\"2023-11-01T00:00:00\",\"2023-11-02T00:00:00\",\"2023-11-03T00:00:00\",\"2023-11-04T00:00:00\",\"2023-11-05T00:00:00\",\"2023-11-06T00:00:00\",\"2023-11-07T00:00:00\",\"2023-11-08T00:00:00\",\"2023-11-09T00:00:00\",\"2023-11-10T00:00:00\",\"2023-11-11T00:00:00\",\"2023-11-12T00:00:00\",\"2023-11-13T00:00:00\",\"2023-11-14T00:00:00\",\"2023-11-15T00:00:00\",\"2023-11-16T00:00:00\",\"2023-11-17T00:00:00\",\"2023-11-18T00:00:00\",\"2023-11-19T00:00:00\"],\"y\":[3451309784.0,3731446397.0,3519401368.6666665,3580601567.0,3674094598.3333335,3420411517.3333335,2912577870.6666665,3552445297.6666665,3392258259.0,2892213968.3333335,3549727675.3333335,3422585525.6666665,3509360122.3333335,3592624548.3333335,3425128085.0,3595412379.6666665,3599652192.6666665,3463762476.6666665,3304868295.3333335,3266538745.6666665,3273819996.0,3053834225.3333335,3124994631.3333335,3252437611.0,2488501066.3333335,3557555067.3333335,3493113543.3333335,3594210463.6666665,3531528894.3333335,3685260565.0,3634850059.6666665,2958046480.3333335,3980669131.0,4056451202.6666665,4044030187.3333335,4017361208.6666665,3701945962.6666665,4051688348.6666665,3961998518.6666665,3495261871.3333335,3448652230.0,3371736616.3333335,3335350194.6666665,3438670727.3333335,3548074573.3333335,2955238607.6666665,3547119184.6666665,3202903158.3333335,2925865156.6666665,2896657080.6666665,2948122678.0,3517715771.6666665,3842551609.0,3824565233.6666665,3973432424.0,3298325715.3333335,3111157943.3333335,3033592512.3333335,3893590566.0,5125416829.666667,4747042822.333333,4715405193.666667,4439822963.666667,4302282815.0,4493740294.333333,3395927360.0,2888979895.0,4592566159.0,3833363805.3333335,4374056672.0,4518810737.0,4526845991.333333,4342753065.666667,4357813639.333333,4150708599.6666665,4313457384.333333,4381252135.333333,4398667724.666667,4182308113.3333335,4264427500.3333335,4700663745.666667,4667965728.666667,3734349863.0,3925263150.3333335,3789363138.0,3780717673.3333335,3532053733.3333335,4327242107.0,3628071941.3333335,4035791929.3333335,5183737799.333333,4896436999.666667,3443860705.3333335,4739915225.333333,4950260063.333333,4947746576.0,4838279452.333333,4834885959.333333,4877545314.0,4725728511.333333,4883865520.666667,4950488282.666667,4965251861.333333,5233811236.0,5271912986.0,4924847249.666667,4898395347.333333,5216505072.666667,5183118644.0,5044842733.333333,4954642776.0,3430974690.6666665,3797249084.0,2500208007.0,3600214378.3333335,4474340453.333333,4584055341.666667,4663798489.666667,4602309565.666667,4797004312.666667,5442500948.666667,5050877915.333333,4953616238.666667,3432710491.3333335,5124952741.666667,4912998669.0,4984616630.0,4857336156.333333,4244809694.0,5162237695.333333,5162352483.666667,5048607379.0,5055225944.666667,4905347865.0,4975313558.333333,5120053175.0,4868909627.333333,5178291438.666667,4717990191.333333,5046391398.0,4987929239.666667,4616406390.333333,4699663864.333333,4890757432.0,5006233948.0,4900516777.666667,3308432163.0,4397658469.0,5348999249.333333,5088281046.0,5293600487.333333,3897466775.0,5159099471.666667,5497627349.333333,5264831436.333333,5354939149.0,4838382272.666667,4861275730.0,5051422407.0,5611688271.666667,5771503894.333333,6089481025.0,5943554172.666667,5473321176.333333,5880933248.666667,5923561482.666667,5592635330.333333,5228145140.0,5659268706.666667,5165855240.666667,5538868270.333333,5048150612.333333,4906385597.666667,5223205158.333333,5144244262.0,5019375275.333333,5099205178.333333,5286927413.0,5347349897.333333,4878160083.0,5370857113.333333,5768851915.0,5536645388.0,5799534809.666667,5732443999.333333,5969016208.666667,5614660362.0,5234878315.0,4547049465.0,5071669452.666667,5270734167.0,5082259779.0,4839056239.0,5169978011.666667,5187853812.0,5200478428.333333,5240106522.666667,5291437164.0,4696884447.333333,5053749400.666667,4526491145.666667,3773531734.3333335,4459315641.666667,4762985790.0,4781711394.666667,5602997584.333333,5587285635.0,5584931225.0,5687204765.0,5734007045.666667,5627972072.333333,5630035798.333333,6466582053.0,5926445803.333333,5577742584.666667,5844379483.333333,5686942540.0,5525498834.333333,5554255417.666667,5078111815.666667,5128937209.666667,5135495093.333333,5200140833.0,5297099842.0,5204848750.0,4602460628.666667,5188980562.666667,4477682633.333333,4690057428.333333,4601853947.0,4844834587.666667,4045446144.3333335,217723173.33333334,117488502.33333333,117506458.0,2250926488.3333335,3681402957.6666665,3575311357.3333335,3573857175.3333335,3567420074.6666665,3473549250.0,3349842678.6666665,3668809633.0,3684599395.3333335,3790268668.0,3777078418.3333335,3381766710.6666665,3026094084.6666665,2865507191.0,2799929208.3333335,3326698017.0,3132784079.3333335,3348040041.0,2665634061.0,2109016763.0,2729416609.0,2864739094.3333335,2314122394.0,2655094914.0,2362143875.0,1553120087.6666667,2653196505.0,2365872530.3333335,3221027365.0,3317300363.0,3328097241.3333335,3373400864.3333335,3241760467.3333335,2285830890.6666665,1998784501.0,1693935583.6666667,2208581972.0,5195371140.333333,5666052908.666667,5036931003.0,5845747458.666667,3740499471.0,2863395527.0,4702921919.0,3942472811.3333335,4709384328.333333,4630395781.333333,4546269275.333333,4566104039.666667,4482957106.333333,4346819950.666667,4461813411.333333,4394859913.333333,4975547214.0,4481780831.0,5067627958.666667,5214507240.0,7680874942.0,4606557001.333333,4027369625.3333335,3676953771.6666665,3662287430.6666665,4157553598.0,3757517686.0,3664018864.3333335,3689394958.3333335,3397524853.0,3596029666.0,4169524542.0,5859256476.0,5752183274.333333,5511390131.333333,4486909562.0,4109452942.6666665,4754189717.666667,4221806360.0,4085698734.3333335,4143007492.3333335,4453417613.333333,4253966893.3333335,4056611578.6666665,4302685028.666667,4321773283.333333,4675359292.333333,3998978419.0,3877967733.6666665,4219588928.6666665,5148469382.666667],\"type\":\"scatter\",\"xaxis\":\"x8\",\"yaxis\":\"y8\"}],                        {\"template\":{\"data\":{\"barpolar\":[{\"marker\":{\"line\":{\"color\":\"white\",\"width\":0.5},\"pattern\":{\"fillmode\":\"overlay\",\"size\":10,\"solidity\":0.2}},\"type\":\"barpolar\"}],\"bar\":[{\"error_x\":{\"color\":\"#2a3f5f\"},\"error_y\":{\"color\":\"#2a3f5f\"},\"marker\":{\"line\":{\"color\":\"white\",\"width\":0.5},\"pattern\":{\"fillmode\":\"overlay\",\"size\":10,\"solidity\":0.2}},\"type\":\"bar\"}],\"carpet\":[{\"aaxis\":{\"endlinecolor\":\"#2a3f5f\",\"gridcolor\":\"#C8D4E3\",\"linecolor\":\"#C8D4E3\",\"minorgridcolor\":\"#C8D4E3\",\"startlinecolor\":\"#2a3f5f\"},\"baxis\":{\"endlinecolor\":\"#2a3f5f\",\"gridcolor\":\"#C8D4E3\",\"linecolor\":\"#C8D4E3\",\"minorgridcolor\":\"#C8D4E3\",\"startlinecolor\":\"#2a3f5f\"},\"type\":\"carpet\"}],\"choropleth\":[{\"colorbar\":{\"outlinewidth\":0,\"ticks\":\"\"},\"type\":\"choropleth\"}],\"contourcarpet\":[{\"colorbar\":{\"outlinewidth\":0,\"ticks\":\"\"},\"type\":\"contourcarpet\"}],\"contour\":[{\"colorbar\":{\"outlinewidth\":0,\"ticks\":\"\"},\"colorscale\":[[0.0,\"#0d0887\"],[0.1111111111111111,\"#46039f\"],[0.2222222222222222,\"#7201a8\"],[0.3333333333333333,\"#9c179e\"],[0.4444444444444444,\"#bd3786\"],[0.5555555555555556,\"#d8576b\"],[0.6666666666666666,\"#ed7953\"],[0.7777777777777778,\"#fb9f3a\"],[0.8888888888888888,\"#fdca26\"],[1.0,\"#f0f921\"]],\"type\":\"contour\"}],\"heatmapgl\":[{\"colorbar\":{\"outlinewidth\":0,\"ticks\":\"\"},\"colorscale\":[[0.0,\"#0d0887\"],[0.1111111111111111,\"#46039f\"],[0.2222222222222222,\"#7201a8\"],[0.3333333333333333,\"#9c179e\"],[0.4444444444444444,\"#bd3786\"],[0.5555555555555556,\"#d8576b\"],[0.6666666666666666,\"#ed7953\"],[0.7777777777777778,\"#fb9f3a\"],[0.8888888888888888,\"#fdca26\"],[1.0,\"#f0f921\"]],\"type\":\"heatmapgl\"}],\"heatmap\":[{\"colorbar\":{\"outlinewidth\":0,\"ticks\":\"\"},\"colorscale\":[[0.0,\"#0d0887\"],[0.1111111111111111,\"#46039f\"],[0.2222222222222222,\"#7201a8\"],[0.3333333333333333,\"#9c179e\"],[0.4444444444444444,\"#bd3786\"],[0.5555555555555556,\"#d8576b\"],[0.6666666666666666,\"#ed7953\"],[0.7777777777777778,\"#fb9f3a\"],[0.8888888888888888,\"#fdca26\"],[1.0,\"#f0f921\"]],\"type\":\"heatmap\"}],\"histogram2dcontour\":[{\"colorbar\":{\"outlinewidth\":0,\"ticks\":\"\"},\"colorscale\":[[0.0,\"#0d0887\"],[0.1111111111111111,\"#46039f\"],[0.2222222222222222,\"#7201a8\"],[0.3333333333333333,\"#9c179e\"],[0.4444444444444444,\"#bd3786\"],[0.5555555555555556,\"#d8576b\"],[0.6666666666666666,\"#ed7953\"],[0.7777777777777778,\"#fb9f3a\"],[0.8888888888888888,\"#fdca26\"],[1.0,\"#f0f921\"]],\"type\":\"histogram2dcontour\"}],\"histogram2d\":[{\"colorbar\":{\"outlinewidth\":0,\"ticks\":\"\"},\"colorscale\":[[0.0,\"#0d0887\"],[0.1111111111111111,\"#46039f\"],[0.2222222222222222,\"#7201a8\"],[0.3333333333333333,\"#9c179e\"],[0.4444444444444444,\"#bd3786\"],[0.5555555555555556,\"#d8576b\"],[0.6666666666666666,\"#ed7953\"],[0.7777777777777778,\"#fb9f3a\"],[0.8888888888888888,\"#fdca26\"],[1.0,\"#f0f921\"]],\"type\":\"histogram2d\"}],\"histogram\":[{\"marker\":{\"pattern\":{\"fillmode\":\"overlay\",\"size\":10,\"solidity\":0.2}},\"type\":\"histogram\"}],\"mesh3d\":[{\"colorbar\":{\"outlinewidth\":0,\"ticks\":\"\"},\"type\":\"mesh3d\"}],\"parcoords\":[{\"line\":{\"colorbar\":{\"outlinewidth\":0,\"ticks\":\"\"}},\"type\":\"parcoords\"}],\"pie\":[{\"automargin\":true,\"type\":\"pie\"}],\"scatter3d\":[{\"line\":{\"colorbar\":{\"outlinewidth\":0,\"ticks\":\"\"}},\"marker\":{\"colorbar\":{\"outlinewidth\":0,\"ticks\":\"\"}},\"type\":\"scatter3d\"}],\"scattercarpet\":[{\"marker\":{\"colorbar\":{\"outlinewidth\":0,\"ticks\":\"\"}},\"type\":\"scattercarpet\"}],\"scattergeo\":[{\"marker\":{\"colorbar\":{\"outlinewidth\":0,\"ticks\":\"\"}},\"type\":\"scattergeo\"}],\"scattergl\":[{\"marker\":{\"colorbar\":{\"outlinewidth\":0,\"ticks\":\"\"}},\"type\":\"scattergl\"}],\"scattermapbox\":[{\"marker\":{\"colorbar\":{\"outlinewidth\":0,\"ticks\":\"\"}},\"type\":\"scattermapbox\"}],\"scatterpolargl\":[{\"marker\":{\"colorbar\":{\"outlinewidth\":0,\"ticks\":\"\"}},\"type\":\"scatterpolargl\"}],\"scatterpolar\":[{\"marker\":{\"colorbar\":{\"outlinewidth\":0,\"ticks\":\"\"}},\"type\":\"scatterpolar\"}],\"scatter\":[{\"fillpattern\":{\"fillmode\":\"overlay\",\"size\":10,\"solidity\":0.2},\"type\":\"scatter\"}],\"scatterternary\":[{\"marker\":{\"colorbar\":{\"outlinewidth\":0,\"ticks\":\"\"}},\"type\":\"scatterternary\"}],\"surface\":[{\"colorbar\":{\"outlinewidth\":0,\"ticks\":\"\"},\"colorscale\":[[0.0,\"#0d0887\"],[0.1111111111111111,\"#46039f\"],[0.2222222222222222,\"#7201a8\"],[0.3333333333333333,\"#9c179e\"],[0.4444444444444444,\"#bd3786\"],[0.5555555555555556,\"#d8576b\"],[0.6666666666666666,\"#ed7953\"],[0.7777777777777778,\"#fb9f3a\"],[0.8888888888888888,\"#fdca26\"],[1.0,\"#f0f921\"]],\"type\":\"surface\"}],\"table\":[{\"cells\":{\"fill\":{\"color\":\"#EBF0F8\"},\"line\":{\"color\":\"white\"}},\"header\":{\"fill\":{\"color\":\"#C8D4E3\"},\"line\":{\"color\":\"white\"}},\"type\":\"table\"}]},\"layout\":{\"annotationdefaults\":{\"arrowcolor\":\"#2a3f5f\",\"arrowhead\":0,\"arrowwidth\":1},\"autotypenumbers\":\"strict\",\"coloraxis\":{\"colorbar\":{\"outlinewidth\":0,\"ticks\":\"\"}},\"colorscale\":{\"diverging\":[[0,\"#8e0152\"],[0.1,\"#c51b7d\"],[0.2,\"#de77ae\"],[0.3,\"#f1b6da\"],[0.4,\"#fde0ef\"],[0.5,\"#f7f7f7\"],[0.6,\"#e6f5d0\"],[0.7,\"#b8e186\"],[0.8,\"#7fbc41\"],[0.9,\"#4d9221\"],[1,\"#276419\"]],\"sequential\":[[0.0,\"#0d0887\"],[0.1111111111111111,\"#46039f\"],[0.2222222222222222,\"#7201a8\"],[0.3333333333333333,\"#9c179e\"],[0.4444444444444444,\"#bd3786\"],[0.5555555555555556,\"#d8576b\"],[0.6666666666666666,\"#ed7953\"],[0.7777777777777778,\"#fb9f3a\"],[0.8888888888888888,\"#fdca26\"],[1.0,\"#f0f921\"]],\"sequentialminus\":[[0.0,\"#0d0887\"],[0.1111111111111111,\"#46039f\"],[0.2222222222222222,\"#7201a8\"],[0.3333333333333333,\"#9c179e\"],[0.4444444444444444,\"#bd3786\"],[0.5555555555555556,\"#d8576b\"],[0.6666666666666666,\"#ed7953\"],[0.7777777777777778,\"#fb9f3a\"],[0.8888888888888888,\"#fdca26\"],[1.0,\"#f0f921\"]]},\"colorway\":[\"#636efa\",\"#EF553B\",\"#00cc96\",\"#ab63fa\",\"#FFA15A\",\"#19d3f3\",\"#FF6692\",\"#B6E880\",\"#FF97FF\",\"#FECB52\"],\"font\":{\"color\":\"#2a3f5f\"},\"geo\":{\"bgcolor\":\"white\",\"lakecolor\":\"white\",\"landcolor\":\"white\",\"showlakes\":true,\"showland\":true,\"subunitcolor\":\"#C8D4E3\"},\"hoverlabel\":{\"align\":\"left\"},\"hovermode\":\"closest\",\"mapbox\":{\"style\":\"light\"},\"paper_bgcolor\":\"white\",\"plot_bgcolor\":\"white\",\"polar\":{\"angularaxis\":{\"gridcolor\":\"#EBF0F8\",\"linecolor\":\"#EBF0F8\",\"ticks\":\"\"},\"bgcolor\":\"white\",\"radialaxis\":{\"gridcolor\":\"#EBF0F8\",\"linecolor\":\"#EBF0F8\",\"ticks\":\"\"}},\"scene\":{\"xaxis\":{\"backgroundcolor\":\"white\",\"gridcolor\":\"#DFE8F3\",\"gridwidth\":2,\"linecolor\":\"#EBF0F8\",\"showbackground\":true,\"ticks\":\"\",\"zerolinecolor\":\"#EBF0F8\"},\"yaxis\":{\"backgroundcolor\":\"white\",\"gridcolor\":\"#DFE8F3\",\"gridwidth\":2,\"linecolor\":\"#EBF0F8\",\"showbackground\":true,\"ticks\":\"\",\"zerolinecolor\":\"#EBF0F8\"},\"zaxis\":{\"backgroundcolor\":\"white\",\"gridcolor\":\"#DFE8F3\",\"gridwidth\":2,\"linecolor\":\"#EBF0F8\",\"showbackground\":true,\"ticks\":\"\",\"zerolinecolor\":\"#EBF0F8\"}},\"shapedefaults\":{\"line\":{\"color\":\"#2a3f5f\"}},\"ternary\":{\"aaxis\":{\"gridcolor\":\"#DFE8F3\",\"linecolor\":\"#A2B1C6\",\"ticks\":\"\"},\"baxis\":{\"gridcolor\":\"#DFE8F3\",\"linecolor\":\"#A2B1C6\",\"ticks\":\"\"},\"bgcolor\":\"white\",\"caxis\":{\"gridcolor\":\"#DFE8F3\",\"linecolor\":\"#A2B1C6\",\"ticks\":\"\"}},\"title\":{\"x\":0.05},\"xaxis\":{\"automargin\":true,\"gridcolor\":\"#EBF0F8\",\"linecolor\":\"#EBF0F8\",\"ticks\":\"\",\"title\":{\"standoff\":15},\"zerolinecolor\":\"#EBF0F8\",\"zerolinewidth\":2},\"yaxis\":{\"automargin\":true,\"gridcolor\":\"#EBF0F8\",\"linecolor\":\"#EBF0F8\",\"ticks\":\"\",\"title\":{\"standoff\":15},\"zerolinecolor\":\"#EBF0F8\",\"zerolinewidth\":2}}},\"xaxis\":{\"anchor\":\"y\",\"domain\":[0.0,0.46499999999999997],\"showticklabels\":true,\"visible\":true},\"yaxis\":{\"anchor\":\"x\",\"domain\":[0.8625,1.0]},\"xaxis2\":{\"anchor\":\"y2\",\"domain\":[0.5349999999999999,0.9999999999999999],\"showticklabels\":true,\"visible\":true},\"yaxis2\":{\"anchor\":\"x2\",\"domain\":[0.8625,1.0]},\"xaxis3\":{\"anchor\":\"y3\",\"domain\":[0.0,0.46499999999999997],\"showticklabels\":true,\"visible\":true},\"yaxis3\":{\"anchor\":\"x3\",\"domain\":[0.575,0.7124999999999999]},\"xaxis4\":{\"anchor\":\"y4\",\"domain\":[0.5349999999999999,0.9999999999999999],\"showticklabels\":true,\"visible\":true},\"yaxis4\":{\"anchor\":\"x4\",\"domain\":[0.575,0.7124999999999999]},\"xaxis5\":{\"anchor\":\"y5\",\"domain\":[0.0,0.46499999999999997],\"showticklabels\":true,\"visible\":true},\"yaxis5\":{\"anchor\":\"x5\",\"domain\":[0.2875,0.425]},\"xaxis6\":{\"anchor\":\"y6\",\"domain\":[0.5349999999999999,0.9999999999999999],\"showticklabels\":true,\"visible\":true},\"yaxis6\":{\"anchor\":\"x6\",\"domain\":[0.2875,0.425]},\"xaxis7\":{\"anchor\":\"y7\",\"domain\":[0.0,0.46499999999999997],\"showticklabels\":true,\"visible\":true},\"yaxis7\":{\"anchor\":\"x7\",\"domain\":[0.0,0.1375]},\"xaxis8\":{\"anchor\":\"y8\",\"domain\":[0.5349999999999999,0.9999999999999999],\"showticklabels\":true,\"visible\":true},\"yaxis8\":{\"anchor\":\"x8\",\"domain\":[0.0,0.1375]},\"annotations\":[{\"font\":{\"size\":10},\"showarrow\":false,\"text\":\"unique_id=l\",\"x\":0.23249999999999998,\"xanchor\":\"center\",\"xref\":\"paper\",\"y\":1.0,\"yanchor\":\"bottom\",\"yref\":\"paper\"},{\"font\":{\"size\":10},\"showarrow\":false,\"text\":\"unique_id=k\",\"x\":0.7674999999999998,\"xanchor\":\"center\",\"xref\":\"paper\",\"y\":1.0,\"yanchor\":\"bottom\",\"yref\":\"paper\"},{\"font\":{\"size\":10},\"showarrow\":false,\"text\":\"unique_id=w\",\"x\":0.23249999999999998,\"xanchor\":\"center\",\"xref\":\"paper\",\"y\":0.7124999999999999,\"yanchor\":\"bottom\",\"yref\":\"paper\"},{\"font\":{\"size\":10},\"showarrow\":false,\"text\":\"unique_id=o\",\"x\":0.7674999999999998,\"xanchor\":\"center\",\"xref\":\"paper\",\"y\":0.7124999999999999,\"yanchor\":\"bottom\",\"yref\":\"paper\"},{\"font\":{\"size\":10},\"showarrow\":false,\"text\":\"unique_id=u\",\"x\":0.23249999999999998,\"xanchor\":\"center\",\"xref\":\"paper\",\"y\":0.425,\"yanchor\":\"bottom\",\"yref\":\"paper\"},{\"font\":{\"size\":10},\"showarrow\":false,\"text\":\"unique_id=b\",\"x\":0.7674999999999998,\"xanchor\":\"center\",\"xref\":\"paper\",\"y\":0.425,\"yanchor\":\"bottom\",\"yref\":\"paper\"},{\"font\":{\"size\":10},\"showarrow\":false,\"text\":\"unique_id=n\",\"x\":0.23249999999999998,\"xanchor\":\"center\",\"xref\":\"paper\",\"y\":0.1375,\"yanchor\":\"bottom\",\"yref\":\"paper\"},{\"font\":{\"size\":10},\"showarrow\":false,\"text\":\"unique_id=x\",\"x\":0.7674999999999998,\"xanchor\":\"center\",\"xref\":\"paper\",\"y\":0.1375,\"yanchor\":\"bottom\",\"yref\":\"paper\"},{\"font\":{\"size\":10},\"showarrow\":false,\"text\":\"Time [ds]\",\"x\":0.5,\"xanchor\":\"center\",\"xref\":\"paper\",\"y\":0,\"yanchor\":\"top\",\"yref\":\"paper\",\"yshift\":-30},{\"font\":{\"size\":10},\"showarrow\":false,\"text\":\"Target [y]\",\"textangle\":-90,\"x\":0,\"xanchor\":\"right\",\"xref\":\"paper\",\"xshift\":-40,\"y\":0.5,\"yanchor\":\"middle\",\"yref\":\"paper\"}],\"margin\":{\"l\":60,\"r\":10,\"t\":20,\"b\":50},\"font\":{\"size\":10},\"autosize\":true,\"height\":900},                        {\"responsive\": true}                    ).then(function(){\n",
              "                            \n",
              "var gd = document.getElementById('9cf2d8fb-a05f-43f4-9051-6493a985bd04');\n",
              "var x = new MutationObserver(function (mutations, observer) {{\n",
              "        var display = window.getComputedStyle(gd).display;\n",
              "        if (!display || display === 'none') {{\n",
              "            console.log([gd, 'removed!']);\n",
              "            Plotly.purge(gd);\n",
              "            observer.disconnect();\n",
              "        }}\n",
              "}});\n",
              "\n",
              "// Listen for the removal of the full notebook cells\n",
              "var notebookContainer = gd.closest('#notebook-container');\n",
              "if (notebookContainer) {{\n",
              "    x.observe(notebookContainer, {childList: true});\n",
              "}}\n",
              "\n",
              "// Listen for the clearing of the current output cell\n",
              "var outputEl = gd.closest('.output');\n",
              "if (outputEl) {{\n",
              "    x.observe(outputEl, {childList: true});\n",
              "}}\n",
              "\n",
              "                        })                };                            </script>        </div>\n",
              "</body>\n",
              "</html>"
            ]
          },
          "metadata": {}
        }
      ]
    },
    {
      "cell_type": "markdown",
      "source": [
        "# 3)  Statistical Approach"
      ],
      "metadata": {
        "id": "73hPNe_z91fh"
      }
    },
    {
      "cell_type": "code",
      "source": [
        "# Statistical Approach\n",
        "# --------------------------------\n",
        "!pip install statsforecast\n",
        "\n",
        "from statsforecast import StatsForecast\n",
        "from statsforecast.models import (\n",
        "    # Previous Models----------------------\n",
        "    #AutoRegressive,\n",
        "    #WindowAverage,\n",
        "    # Simple Models----------------------\n",
        "    #HistoricAverage,\n",
        "    #Naive,\n",
        "    #SeasonalNaive,\n",
        "    # Classicall Models----------------------\n",
        "    AutoARIMA,\n",
        "    AutoETS,\n",
        "    #AutoCES,\n",
        "    #AutoTheta,\n",
        "    # Multiple Seasonality Model----------------------\n",
        "    #MSTL,\n",
        "    # Sparse / Inttermitent Model----------------------\n",
        "    CrostonOptimized\n",
        ")\n",
        "\n",
        "# for building confidence interval\n",
        "from statsforecast.utils import ConformalIntervals"
      ],
      "metadata": {
        "colab": {
          "base_uri": "https://localhost:8080/"
        },
        "id": "ORBG1WMClXxw",
        "outputId": "f31dbeff-b313-4961-f309-60daefedceb9"
      },
      "execution_count": 20,
      "outputs": [
        {
          "output_type": "stream",
          "name": "stdout",
          "text": [
            "Requirement already satisfied: statsforecast in c:\\users\\alisu\\anaconda3\\lib\\site-packages (1.6.0)\n",
            "Requirement already satisfied: matplotlib in c:\\users\\alisu\\anaconda3\\lib\\site-packages (from statsforecast) (3.7.2)\n",
            "Requirement already satisfied: numba>=0.55.0 in c:\\users\\alisu\\anaconda3\\lib\\site-packages (from statsforecast) (0.57.1)\n",
            "Requirement already satisfied: numpy>=1.21.6 in c:\\users\\alisu\\anaconda3\\lib\\site-packages (from statsforecast) (1.24.3)\n",
            "Requirement already satisfied: pandas>=1.3.5 in c:\\users\\alisu\\anaconda3\\lib\\site-packages (from statsforecast) (2.0.3)\n",
            "Requirement already satisfied: polars in c:\\users\\alisu\\anaconda3\\lib\\site-packages (from statsforecast) (0.19.19)\n",
            "Requirement already satisfied: scipy>=1.7.3 in c:\\users\\alisu\\anaconda3\\lib\\site-packages (from statsforecast) (1.11.1)\n",
            "Requirement already satisfied: statsmodels>=0.13.2 in c:\\users\\alisu\\anaconda3\\lib\\site-packages (from statsforecast) (0.14.0)\n",
            "Requirement already satisfied: tqdm in c:\\users\\alisu\\anaconda3\\lib\\site-packages (from statsforecast) (4.65.0)\n",
            "Requirement already satisfied: fugue>=0.8.1 in c:\\users\\alisu\\anaconda3\\lib\\site-packages (from statsforecast) (0.8.7)\n",
            "Requirement already satisfied: triad>=0.9.3 in c:\\users\\alisu\\anaconda3\\lib\\site-packages (from fugue>=0.8.1->statsforecast) (0.9.3)\n",
            "Requirement already satisfied: adagio>=0.2.4 in c:\\users\\alisu\\anaconda3\\lib\\site-packages (from fugue>=0.8.1->statsforecast) (0.2.4)\n",
            "Requirement already satisfied: qpd>=0.4.4 in c:\\users\\alisu\\anaconda3\\lib\\site-packages (from fugue>=0.8.1->statsforecast) (0.4.4)\n",
            "Requirement already satisfied: fugue-sql-antlr>=0.1.6 in c:\\users\\alisu\\anaconda3\\lib\\site-packages (from fugue>=0.8.1->statsforecast) (0.2.0)\n",
            "Requirement already satisfied: sqlglot in c:\\users\\alisu\\anaconda3\\lib\\site-packages (from fugue>=0.8.1->statsforecast) (19.8.2)\n",
            "Requirement already satisfied: jinja2 in c:\\users\\alisu\\anaconda3\\lib\\site-packages (from fugue>=0.8.1->statsforecast) (3.1.2)\n",
            "Requirement already satisfied: llvmlite<0.41,>=0.40.0dev0 in c:\\users\\alisu\\anaconda3\\lib\\site-packages (from numba>=0.55.0->statsforecast) (0.40.0)\n",
            "Requirement already satisfied: python-dateutil>=2.8.2 in c:\\users\\alisu\\anaconda3\\lib\\site-packages (from pandas>=1.3.5->statsforecast) (2.8.2)\n",
            "Requirement already satisfied: pytz>=2020.1 in c:\\users\\alisu\\anaconda3\\lib\\site-packages (from pandas>=1.3.5->statsforecast) (2023.3.post1)\n",
            "Requirement already satisfied: tzdata>=2022.1 in c:\\users\\alisu\\anaconda3\\lib\\site-packages (from pandas>=1.3.5->statsforecast) (2023.3)\n",
            "Requirement already satisfied: patsy>=0.5.2 in c:\\users\\alisu\\anaconda3\\lib\\site-packages (from statsmodels>=0.13.2->statsforecast) (0.5.3)\n",
            "Requirement already satisfied: packaging>=21.3 in c:\\users\\alisu\\anaconda3\\lib\\site-packages (from statsmodels>=0.13.2->statsforecast) (23.1)\n",
            "Requirement already satisfied: contourpy>=1.0.1 in c:\\users\\alisu\\anaconda3\\lib\\site-packages (from matplotlib->statsforecast) (1.0.5)\n",
            "Requirement already satisfied: cycler>=0.10 in c:\\users\\alisu\\anaconda3\\lib\\site-packages (from matplotlib->statsforecast) (0.11.0)\n",
            "Requirement already satisfied: fonttools>=4.22.0 in c:\\users\\alisu\\anaconda3\\lib\\site-packages (from matplotlib->statsforecast) (4.25.0)\n",
            "Requirement already satisfied: kiwisolver>=1.0.1 in c:\\users\\alisu\\anaconda3\\lib\\site-packages (from matplotlib->statsforecast) (1.4.4)\n",
            "Requirement already satisfied: pillow>=6.2.0 in c:\\users\\alisu\\anaconda3\\lib\\site-packages (from matplotlib->statsforecast) (10.0.1)\n",
            "Requirement already satisfied: pyparsing<3.1,>=2.3.1 in c:\\users\\alisu\\anaconda3\\lib\\site-packages (from matplotlib->statsforecast) (3.0.9)\n",
            "Requirement already satisfied: colorama in c:\\users\\alisu\\anaconda3\\lib\\site-packages (from tqdm->statsforecast) (0.4.6)\n",
            "Requirement already satisfied: antlr4-python3-runtime<4.12 in c:\\users\\alisu\\anaconda3\\lib\\site-packages (from fugue-sql-antlr>=0.1.6->fugue>=0.8.1->statsforecast) (4.11.1)\n",
            "Requirement already satisfied: six in c:\\users\\alisu\\anaconda3\\lib\\site-packages (from patsy>=0.5.2->statsmodels>=0.13.2->statsforecast) (1.16.0)\n",
            "Requirement already satisfied: pyarrow>=6.0.1 in c:\\users\\alisu\\anaconda3\\lib\\site-packages (from triad>=0.9.3->fugue>=0.8.1->statsforecast) (11.0.0)\n",
            "Requirement already satisfied: fsspec>=2022.5.0 in c:\\users\\alisu\\anaconda3\\lib\\site-packages (from triad>=0.9.3->fugue>=0.8.1->statsforecast) (2023.4.0)\n",
            "Requirement already satisfied: fs in c:\\users\\alisu\\anaconda3\\lib\\site-packages (from triad>=0.9.3->fugue>=0.8.1->statsforecast) (2.4.16)\n",
            "Requirement already satisfied: MarkupSafe>=2.0 in c:\\users\\alisu\\anaconda3\\lib\\site-packages (from jinja2->fugue>=0.8.1->statsforecast) (2.1.1)\n",
            "Requirement already satisfied: appdirs~=1.4.3 in c:\\users\\alisu\\anaconda3\\lib\\site-packages (from fs->triad>=0.9.3->fugue>=0.8.1->statsforecast) (1.4.4)\n",
            "Requirement already satisfied: setuptools in c:\\users\\alisu\\anaconda3\\lib\\site-packages (from fs->triad>=0.9.3->fugue>=0.8.1->statsforecast) (68.0.0)\n"
          ]
        },
        {
          "output_type": "stream",
          "name": "stderr",
          "text": [
            "C:\\Users\\alisu\\anaconda3\\Lib\\site-packages\\statsforecast\\core.py:25: TqdmExperimentalWarning:\n",
            "\n",
            "Using `tqdm.autonotebook.tqdm` in notebook mode. Use `tqdm.tqdm` instead to force console mode (e.g. in jupyter console)\n",
            "\n"
          ]
        }
      ]
    },
    {
      "cell_type": "markdown",
      "source": [
        "## a. Define Model Object"
      ],
      "metadata": {
        "id": "tZLbTlE__5XZ"
      }
    },
    {
      "cell_type": "code",
      "source": [
        "# similar to cross validation, but instead we use the result to build confidence interval\n",
        "intervals = ConformalIntervals(h=7, n_windows=5)\n",
        "\n",
        "sf_models = [\n",
        "    # Previous Models------------------\n",
        "    #AutoRegressive(lags=[1]),\n",
        "    #WindowAverage(window_size=7),\n",
        "    # Simple Models--------------------\n",
        "    #HistoricAverage(),\n",
        "    #Naive(),\n",
        "    #SeasonalNaive(season_length=30),\n",
        "    # Classicall Models---------------\n",
        "    AutoARIMA(season_length=7,prediction_intervals=intervals),\n",
        "    #AutoETS(season_length=7,prediction_intervals=intervals),\n",
        "    #AutoCES(season_length=7,prediction_intervals=intervals),\n",
        "    #AutoTheta(season_length=7,prediction_intervals=intervals),\n",
        "    # Multiple Seasonality Model------\n",
        "    #MSTL(\n",
        "        #season_length=[7, 30],\n",
        "        #trend_forecaster=AutoARIMA()),\n",
        "    # Sparse / Inttermitent Model-----\n",
        "    #CrostonOptimized(prediction_intervals=intervals),\n",
        "]"
      ],
      "metadata": {
        "id": "HL8BKLeX94_f"
      },
      "execution_count": 26,
      "outputs": []
    },
    {
      "cell_type": "markdown",
      "source": [
        "## b. Define Forecast Object"
      ],
      "metadata": {
        "id": "FobUBWRiAAsE"
      }
    },
    {
      "cell_type": "code",
      "source": [
        "sf = StatsForecast(\n",
        "    df=trainX, #trainX\n",
        "    models=sf_models, # model used to fit each time series\n",
        "    freq='D', # frequency of the data\n",
        "    n_jobs = -1\n",
        ")"
      ],
      "metadata": {
        "id": "_81Hka93-Lto"
      },
      "execution_count": 27,
      "outputs": []
    },
    {
      "cell_type": "markdown",
      "source": [
        "## c. Forecast"
      ],
      "metadata": {
        "id": "AoCE_YBmAIii"
      }
    },
    {
      "cell_type": "code",
      "source": [
        "# Create future exogenous regressors\n",
        "\n",
        "X_df = testX.drop(['y'],axis=1)\n",
        "print(X_df.shape)\n",
        "X_df.head()"
      ],
      "metadata": {
        "colab": {
          "base_uri": "https://localhost:8080/",
          "height": 359
        },
        "id": "PuWEGO_NODfH",
        "outputId": "9f21505f-54a7-472b-81fb-76ba7065c4de"
      },
      "execution_count": 28,
      "outputs": [
        {
          "output_type": "stream",
          "name": "stdout",
          "text": [
            "(168, 32)\n"
          ]
        },
        {
          "output_type": "execute_result",
          "data": {
            "text/plain": [
              "  unique_id         ds  day_of_month_2  day_of_month_3  day_of_month_4  \\\n",
              "0         a 2023-11-20             0.0             0.0             0.0   \n",
              "1         a 2023-11-21             0.0             0.0             0.0   \n",
              "2         a 2023-11-22             0.0             0.0             0.0   \n",
              "3         a 2023-11-23             0.0             0.0             0.0   \n",
              "4         a 2023-11-24             0.0             0.0             0.0   \n",
              "\n",
              "   day_of_month_5  day_of_month_6  day_of_month_7  day_of_month_8  \\\n",
              "0             0.0             0.0             0.0             0.0   \n",
              "1             0.0             0.0             0.0             0.0   \n",
              "2             0.0             0.0             0.0             0.0   \n",
              "3             0.0             0.0             0.0             0.0   \n",
              "4             0.0             0.0             0.0             0.0   \n",
              "\n",
              "   day_of_month_9  ...  day_of_month_22  day_of_month_23  day_of_month_24  \\\n",
              "0             0.0  ...              0.0              0.0              0.0   \n",
              "1             0.0  ...              0.0              0.0              0.0   \n",
              "2             0.0  ...              1.0              0.0              0.0   \n",
              "3             0.0  ...              0.0              1.0              0.0   \n",
              "4             0.0  ...              0.0              0.0              1.0   \n",
              "\n",
              "   day_of_month_25  day_of_month_26  day_of_month_27  day_of_month_28  \\\n",
              "0              0.0              0.0              0.0              0.0   \n",
              "1              0.0              0.0              0.0              0.0   \n",
              "2              0.0              0.0              0.0              0.0   \n",
              "3              0.0              0.0              0.0              0.0   \n",
              "4              0.0              0.0              0.0              0.0   \n",
              "\n",
              "   day_of_month_29  day_of_month_30  day_of_month_31  \n",
              "0              0.0              0.0              0.0  \n",
              "1              0.0              0.0              0.0  \n",
              "2              0.0              0.0              0.0  \n",
              "3              0.0              0.0              0.0  \n",
              "4              0.0              0.0              0.0  \n",
              "\n",
              "[5 rows x 32 columns]"
            ],
            "text/html": [
              "<div>\n",
              "<style scoped>\n",
              "    .dataframe tbody tr th:only-of-type {\n",
              "        vertical-align: middle;\n",
              "    }\n",
              "\n",
              "    .dataframe tbody tr th {\n",
              "        vertical-align: top;\n",
              "    }\n",
              "\n",
              "    .dataframe thead th {\n",
              "        text-align: right;\n",
              "    }\n",
              "</style>\n",
              "<table border=\"1\" class=\"dataframe\">\n",
              "  <thead>\n",
              "    <tr style=\"text-align: right;\">\n",
              "      <th></th>\n",
              "      <th>unique_id</th>\n",
              "      <th>ds</th>\n",
              "      <th>day_of_month_2</th>\n",
              "      <th>day_of_month_3</th>\n",
              "      <th>day_of_month_4</th>\n",
              "      <th>day_of_month_5</th>\n",
              "      <th>day_of_month_6</th>\n",
              "      <th>day_of_month_7</th>\n",
              "      <th>day_of_month_8</th>\n",
              "      <th>day_of_month_9</th>\n",
              "      <th>...</th>\n",
              "      <th>day_of_month_22</th>\n",
              "      <th>day_of_month_23</th>\n",
              "      <th>day_of_month_24</th>\n",
              "      <th>day_of_month_25</th>\n",
              "      <th>day_of_month_26</th>\n",
              "      <th>day_of_month_27</th>\n",
              "      <th>day_of_month_28</th>\n",
              "      <th>day_of_month_29</th>\n",
              "      <th>day_of_month_30</th>\n",
              "      <th>day_of_month_31</th>\n",
              "    </tr>\n",
              "  </thead>\n",
              "  <tbody>\n",
              "    <tr>\n",
              "      <th>0</th>\n",
              "      <td>a</td>\n",
              "      <td>2023-11-20</td>\n",
              "      <td>0.0</td>\n",
              "      <td>0.0</td>\n",
              "      <td>0.0</td>\n",
              "      <td>0.0</td>\n",
              "      <td>0.0</td>\n",
              "      <td>0.0</td>\n",
              "      <td>0.0</td>\n",
              "      <td>0.0</td>\n",
              "      <td>...</td>\n",
              "      <td>0.0</td>\n",
              "      <td>0.0</td>\n",
              "      <td>0.0</td>\n",
              "      <td>0.0</td>\n",
              "      <td>0.0</td>\n",
              "      <td>0.0</td>\n",
              "      <td>0.0</td>\n",
              "      <td>0.0</td>\n",
              "      <td>0.0</td>\n",
              "      <td>0.0</td>\n",
              "    </tr>\n",
              "    <tr>\n",
              "      <th>1</th>\n",
              "      <td>a</td>\n",
              "      <td>2023-11-21</td>\n",
              "      <td>0.0</td>\n",
              "      <td>0.0</td>\n",
              "      <td>0.0</td>\n",
              "      <td>0.0</td>\n",
              "      <td>0.0</td>\n",
              "      <td>0.0</td>\n",
              "      <td>0.0</td>\n",
              "      <td>0.0</td>\n",
              "      <td>...</td>\n",
              "      <td>0.0</td>\n",
              "      <td>0.0</td>\n",
              "      <td>0.0</td>\n",
              "      <td>0.0</td>\n",
              "      <td>0.0</td>\n",
              "      <td>0.0</td>\n",
              "      <td>0.0</td>\n",
              "      <td>0.0</td>\n",
              "      <td>0.0</td>\n",
              "      <td>0.0</td>\n",
              "    </tr>\n",
              "    <tr>\n",
              "      <th>2</th>\n",
              "      <td>a</td>\n",
              "      <td>2023-11-22</td>\n",
              "      <td>0.0</td>\n",
              "      <td>0.0</td>\n",
              "      <td>0.0</td>\n",
              "      <td>0.0</td>\n",
              "      <td>0.0</td>\n",
              "      <td>0.0</td>\n",
              "      <td>0.0</td>\n",
              "      <td>0.0</td>\n",
              "      <td>...</td>\n",
              "      <td>1.0</td>\n",
              "      <td>0.0</td>\n",
              "      <td>0.0</td>\n",
              "      <td>0.0</td>\n",
              "      <td>0.0</td>\n",
              "      <td>0.0</td>\n",
              "      <td>0.0</td>\n",
              "      <td>0.0</td>\n",
              "      <td>0.0</td>\n",
              "      <td>0.0</td>\n",
              "    </tr>\n",
              "    <tr>\n",
              "      <th>3</th>\n",
              "      <td>a</td>\n",
              "      <td>2023-11-23</td>\n",
              "      <td>0.0</td>\n",
              "      <td>0.0</td>\n",
              "      <td>0.0</td>\n",
              "      <td>0.0</td>\n",
              "      <td>0.0</td>\n",
              "      <td>0.0</td>\n",
              "      <td>0.0</td>\n",
              "      <td>0.0</td>\n",
              "      <td>...</td>\n",
              "      <td>0.0</td>\n",
              "      <td>1.0</td>\n",
              "      <td>0.0</td>\n",
              "      <td>0.0</td>\n",
              "      <td>0.0</td>\n",
              "      <td>0.0</td>\n",
              "      <td>0.0</td>\n",
              "      <td>0.0</td>\n",
              "      <td>0.0</td>\n",
              "      <td>0.0</td>\n",
              "    </tr>\n",
              "    <tr>\n",
              "      <th>4</th>\n",
              "      <td>a</td>\n",
              "      <td>2023-11-24</td>\n",
              "      <td>0.0</td>\n",
              "      <td>0.0</td>\n",
              "      <td>0.0</td>\n",
              "      <td>0.0</td>\n",
              "      <td>0.0</td>\n",
              "      <td>0.0</td>\n",
              "      <td>0.0</td>\n",
              "      <td>0.0</td>\n",
              "      <td>...</td>\n",
              "      <td>0.0</td>\n",
              "      <td>0.0</td>\n",
              "      <td>1.0</td>\n",
              "      <td>0.0</td>\n",
              "      <td>0.0</td>\n",
              "      <td>0.0</td>\n",
              "      <td>0.0</td>\n",
              "      <td>0.0</td>\n",
              "      <td>0.0</td>\n",
              "      <td>0.0</td>\n",
              "    </tr>\n",
              "  </tbody>\n",
              "</table>\n",
              "<p>5 rows × 32 columns</p>\n",
              "</div>"
            ]
          },
          "metadata": {},
          "execution_count": 28
        }
      ]
    },
    {
      "cell_type": "code",
      "source": [
        "init = time()\n",
        "\n",
        "horizon=7 # how many days to forecast\n",
        "level= [80] # how much % of confidence interval\n",
        "\n",
        "sf_forecast = sf.forecast(\n",
        "    h=horizon,\n",
        "    X_df=X_df,\n",
        "    level=level\n",
        ")\n",
        "\n",
        "end = time()\n",
        "time_run = (end - init)\n",
        "\n",
        "print(f'Time: {time_run:.2f} seconds')\n",
        "sf_forecast = sf_forecast.reset_index()\n",
        "sf_forecast.head()"
      ],
      "metadata": {
        "id": "6ExDRt2i_QSL",
        "colab": {
          "base_uri": "https://localhost:8080/",
          "height": 223
        },
        "outputId": "8b7c5b58-993a-4b9d-f452-d5b664b8e8cd"
      },
      "execution_count": 29,
      "outputs": [
        {
          "output_type": "stream",
          "name": "stdout",
          "text": [
            "Time: 399.07 seconds\n"
          ]
        },
        {
          "output_type": "execute_result",
          "data": {
            "text/plain": [
              "  unique_id         ds   AutoARIMA  AutoARIMA-lo-80  AutoARIMA-hi-80\n",
              "0         a 2023-11-20  24347440.0       22042354.0       26652526.0\n",
              "1         a 2023-11-21  18252042.0       13985666.0       22518418.0\n",
              "2         a 2023-11-22  17599076.0        9842128.0       25356022.0\n",
              "3         a 2023-11-23  21666244.0       16821506.0       26510984.0\n",
              "4         a 2023-11-24  21194858.0       15805044.0       26584672.0"
            ],
            "text/html": [
              "<div>\n",
              "<style scoped>\n",
              "    .dataframe tbody tr th:only-of-type {\n",
              "        vertical-align: middle;\n",
              "    }\n",
              "\n",
              "    .dataframe tbody tr th {\n",
              "        vertical-align: top;\n",
              "    }\n",
              "\n",
              "    .dataframe thead th {\n",
              "        text-align: right;\n",
              "    }\n",
              "</style>\n",
              "<table border=\"1\" class=\"dataframe\">\n",
              "  <thead>\n",
              "    <tr style=\"text-align: right;\">\n",
              "      <th></th>\n",
              "      <th>unique_id</th>\n",
              "      <th>ds</th>\n",
              "      <th>AutoARIMA</th>\n",
              "      <th>AutoARIMA-lo-80</th>\n",
              "      <th>AutoARIMA-hi-80</th>\n",
              "    </tr>\n",
              "  </thead>\n",
              "  <tbody>\n",
              "    <tr>\n",
              "      <th>0</th>\n",
              "      <td>a</td>\n",
              "      <td>2023-11-20</td>\n",
              "      <td>24347440.0</td>\n",
              "      <td>22042354.0</td>\n",
              "      <td>26652526.0</td>\n",
              "    </tr>\n",
              "    <tr>\n",
              "      <th>1</th>\n",
              "      <td>a</td>\n",
              "      <td>2023-11-21</td>\n",
              "      <td>18252042.0</td>\n",
              "      <td>13985666.0</td>\n",
              "      <td>22518418.0</td>\n",
              "    </tr>\n",
              "    <tr>\n",
              "      <th>2</th>\n",
              "      <td>a</td>\n",
              "      <td>2023-11-22</td>\n",
              "      <td>17599076.0</td>\n",
              "      <td>9842128.0</td>\n",
              "      <td>25356022.0</td>\n",
              "    </tr>\n",
              "    <tr>\n",
              "      <th>3</th>\n",
              "      <td>a</td>\n",
              "      <td>2023-11-23</td>\n",
              "      <td>21666244.0</td>\n",
              "      <td>16821506.0</td>\n",
              "      <td>26510984.0</td>\n",
              "    </tr>\n",
              "    <tr>\n",
              "      <th>4</th>\n",
              "      <td>a</td>\n",
              "      <td>2023-11-24</td>\n",
              "      <td>21194858.0</td>\n",
              "      <td>15805044.0</td>\n",
              "      <td>26584672.0</td>\n",
              "    </tr>\n",
              "  </tbody>\n",
              "</table>\n",
              "</div>"
            ]
          },
          "metadata": {},
          "execution_count": 29
        }
      ]
    },
    {
      "cell_type": "code",
      "source": [
        "# Combine forecast output with actual data\n",
        "\n",
        "sf_forecast = pd.concat([sf_forecast,test[['y']]], axis=1)\n",
        "sf_forecast.head()"
      ],
      "metadata": {
        "colab": {
          "base_uri": "https://localhost:8080/",
          "height": 206
        },
        "id": "PlmXFhAMBbDx",
        "outputId": "7ca2cce5-1b77-4bcf-da4b-2934a47b104b"
      },
      "execution_count": 30,
      "outputs": [
        {
          "output_type": "execute_result",
          "data": {
            "text/plain": [
              "  unique_id         ds   AutoARIMA  AutoARIMA-lo-80  AutoARIMA-hi-80  \\\n",
              "0         a 2023-11-20  24347440.0       22042354.0       26652526.0   \n",
              "1         a 2023-11-21  18252042.0       13985666.0       22518418.0   \n",
              "2         a 2023-11-22  17599076.0        9842128.0       25356022.0   \n",
              "3         a 2023-11-23  21666244.0       16821506.0       26510984.0   \n",
              "4         a 2023-11-24  21194858.0       15805044.0       26584672.0   \n",
              "\n",
              "              y  \n",
              "0  2.374394e+07  \n",
              "1  2.482359e+07  \n",
              "2  2.737511e+07  \n",
              "3  2.111852e+07  \n",
              "4  2.471033e+07  "
            ],
            "text/html": [
              "<div>\n",
              "<style scoped>\n",
              "    .dataframe tbody tr th:only-of-type {\n",
              "        vertical-align: middle;\n",
              "    }\n",
              "\n",
              "    .dataframe tbody tr th {\n",
              "        vertical-align: top;\n",
              "    }\n",
              "\n",
              "    .dataframe thead th {\n",
              "        text-align: right;\n",
              "    }\n",
              "</style>\n",
              "<table border=\"1\" class=\"dataframe\">\n",
              "  <thead>\n",
              "    <tr style=\"text-align: right;\">\n",
              "      <th></th>\n",
              "      <th>unique_id</th>\n",
              "      <th>ds</th>\n",
              "      <th>AutoARIMA</th>\n",
              "      <th>AutoARIMA-lo-80</th>\n",
              "      <th>AutoARIMA-hi-80</th>\n",
              "      <th>y</th>\n",
              "    </tr>\n",
              "  </thead>\n",
              "  <tbody>\n",
              "    <tr>\n",
              "      <th>0</th>\n",
              "      <td>a</td>\n",
              "      <td>2023-11-20</td>\n",
              "      <td>24347440.0</td>\n",
              "      <td>22042354.0</td>\n",
              "      <td>26652526.0</td>\n",
              "      <td>2.374394e+07</td>\n",
              "    </tr>\n",
              "    <tr>\n",
              "      <th>1</th>\n",
              "      <td>a</td>\n",
              "      <td>2023-11-21</td>\n",
              "      <td>18252042.0</td>\n",
              "      <td>13985666.0</td>\n",
              "      <td>22518418.0</td>\n",
              "      <td>2.482359e+07</td>\n",
              "    </tr>\n",
              "    <tr>\n",
              "      <th>2</th>\n",
              "      <td>a</td>\n",
              "      <td>2023-11-22</td>\n",
              "      <td>17599076.0</td>\n",
              "      <td>9842128.0</td>\n",
              "      <td>25356022.0</td>\n",
              "      <td>2.737511e+07</td>\n",
              "    </tr>\n",
              "    <tr>\n",
              "      <th>3</th>\n",
              "      <td>a</td>\n",
              "      <td>2023-11-23</td>\n",
              "      <td>21666244.0</td>\n",
              "      <td>16821506.0</td>\n",
              "      <td>26510984.0</td>\n",
              "      <td>2.111852e+07</td>\n",
              "    </tr>\n",
              "    <tr>\n",
              "      <th>4</th>\n",
              "      <td>a</td>\n",
              "      <td>2023-11-24</td>\n",
              "      <td>21194858.0</td>\n",
              "      <td>15805044.0</td>\n",
              "      <td>26584672.0</td>\n",
              "      <td>2.471033e+07</td>\n",
              "    </tr>\n",
              "  </tbody>\n",
              "</table>\n",
              "</div>"
            ]
          },
          "metadata": {},
          "execution_count": 30
        }
      ]
    },
    {
      "cell_type": "code",
      "source": [
        "# Export forecast output\n",
        "\n",
        "#sf_forecast.to_excel('sf_forecast.xlsx')"
      ],
      "metadata": {
        "id": "lOGCpj0B1hMk"
      },
      "execution_count": null,
      "outputs": []
    },
    {
      "cell_type": "code",
      "source": [
        "fig = plot_series(\n",
        "    train, # DataFrame with columns [id_col, time_col, target_col]\n",
        "    sf_forecast,\n",
        "    ids=None, # Time Series to plot. If None, time series are selected randomly.\n",
        "    max_ids=8, # Maximum number of ids to plot.\n",
        "    max_insample_length=7*28, # Maximum number of train/insample observations to be plotted.\n",
        "    engine='plotly', # Library used to plot. ‘plotly’, ‘plotly-resampler’ or ‘matplotlib’.\n",
        "    palette='viridis', # Name of the matplotlib colormap to use\n",
        "    models=None,\n",
        "    level=[80]\n",
        "    )\n",
        "\n",
        "fig.update_layout(\n",
        "    #width=1600,\n",
        "    height=900,\n",
        ")\n",
        "\n",
        "fig.show(renderer=\"colab\")"
      ],
      "metadata": {
        "colab": {
          "base_uri": "https://localhost:8080/",
          "height": 917
        },
        "id": "wXOQTEx7BLDc",
        "outputId": "51139bc7-0a11-42f9-8541-ac4884ac5617"
      },
      "execution_count": 31,
      "outputs": [
        {
          "output_type": "display_data",
          "data": {
            "text/html": [
              "<html>\n",
              "<head><meta charset=\"utf-8\" /></head>\n",
              "<body>\n",
              "    <div>            <script src=\"https://cdnjs.cloudflare.com/ajax/libs/mathjax/2.7.5/MathJax.js?config=TeX-AMS-MML_SVG\"></script><script type=\"text/javascript\">if (window.MathJax && window.MathJax.Hub && window.MathJax.Hub.Config) {window.MathJax.Hub.Config({SVG: {font: \"STIX-Web\"}});}</script>                <script type=\"text/javascript\">window.PlotlyConfig = {MathJaxConfig: 'local'};</script>\n",
              "        <script src=\"https://cdn.plot.ly/plotly-2.12.1.min.js\"></script>                <div id=\"e91dc302-4fe1-409b-9f92-2c06b2a8a645\" class=\"plotly-graph-div\" style=\"height:900px; width:100%;\"></div>            <script type=\"text/javascript\">                                    window.PLOTLYENV=window.PLOTLYENV || {};                                    if (document.getElementById(\"e91dc302-4fe1-409b-9f92-2c06b2a8a645\")) {                    Plotly.newPlot(                        \"e91dc302-4fe1-409b-9f92-2c06b2a8a645\",                        [{\"legendgroup\":\"y\",\"line\":{\"color\":\"#440154\",\"width\":1},\"mode\":\"lines\",\"name\":\"y\",\"showlegend\":true,\"x\":[\"2023-05-08T00:00:00\",\"2023-05-09T00:00:00\",\"2023-05-10T00:00:00\",\"2023-05-11T00:00:00\",\"2023-05-12T00:00:00\",\"2023-05-13T00:00:00\",\"2023-05-14T00:00:00\",\"2023-05-15T00:00:00\",\"2023-05-16T00:00:00\",\"2023-05-17T00:00:00\",\"2023-05-18T00:00:00\",\"2023-05-19T00:00:00\",\"2023-05-20T00:00:00\",\"2023-05-21T00:00:00\",\"2023-05-22T00:00:00\",\"2023-05-23T00:00:00\",\"2023-05-24T00:00:00\",\"2023-05-25T00:00:00\",\"2023-05-26T00:00:00\",\"2023-05-27T00:00:00\",\"2023-05-28T00:00:00\",\"2023-05-29T00:00:00\",\"2023-05-30T00:00:00\",\"2023-05-31T00:00:00\",\"2023-06-01T00:00:00\",\"2023-06-02T00:00:00\",\"2023-06-03T00:00:00\",\"2023-06-04T00:00:00\",\"2023-06-05T00:00:00\",\"2023-06-06T00:00:00\",\"2023-06-07T00:00:00\",\"2023-06-08T00:00:00\",\"2023-06-09T00:00:00\",\"2023-06-10T00:00:00\",\"2023-06-11T00:00:00\",\"2023-06-12T00:00:00\",\"2023-06-13T00:00:00\",\"2023-06-14T00:00:00\",\"2023-06-15T00:00:00\",\"2023-06-16T00:00:00\",\"2023-06-17T00:00:00\",\"2023-06-18T00:00:00\",\"2023-06-19T00:00:00\",\"2023-06-20T00:00:00\",\"2023-06-21T00:00:00\",\"2023-06-22T00:00:00\",\"2023-06-23T00:00:00\",\"2023-06-24T00:00:00\",\"2023-06-25T00:00:00\",\"2023-06-26T00:00:00\",\"2023-06-27T00:00:00\",\"2023-06-28T00:00:00\",\"2023-06-29T00:00:00\",\"2023-06-30T00:00:00\",\"2023-07-01T00:00:00\",\"2023-07-02T00:00:00\",\"2023-07-03T00:00:00\",\"2023-07-04T00:00:00\",\"2023-07-05T00:00:00\",\"2023-07-06T00:00:00\",\"2023-07-07T00:00:00\",\"2023-07-08T00:00:00\",\"2023-07-09T00:00:00\",\"2023-07-10T00:00:00\",\"2023-07-11T00:00:00\",\"2023-07-12T00:00:00\",\"2023-07-13T00:00:00\",\"2023-07-14T00:00:00\",\"2023-07-15T00:00:00\",\"2023-07-16T00:00:00\",\"2023-07-17T00:00:00\",\"2023-07-18T00:00:00\",\"2023-07-19T00:00:00\",\"2023-07-20T00:00:00\",\"2023-07-21T00:00:00\",\"2023-07-22T00:00:00\",\"2023-07-23T00:00:00\",\"2023-07-24T00:00:00\",\"2023-07-25T00:00:00\",\"2023-07-26T00:00:00\",\"2023-07-27T00:00:00\",\"2023-07-28T00:00:00\",\"2023-07-29T00:00:00\",\"2023-07-30T00:00:00\",\"2023-07-31T00:00:00\",\"2023-08-01T00:00:00\",\"2023-08-02T00:00:00\",\"2023-08-03T00:00:00\",\"2023-08-04T00:00:00\",\"2023-08-05T00:00:00\",\"2023-08-06T00:00:00\",\"2023-08-07T00:00:00\",\"2023-08-08T00:00:00\",\"2023-08-09T00:00:00\",\"2023-08-10T00:00:00\",\"2023-08-11T00:00:00\",\"2023-08-12T00:00:00\",\"2023-08-13T00:00:00\",\"2023-08-14T00:00:00\",\"2023-08-15T00:00:00\",\"2023-08-16T00:00:00\",\"2023-08-17T00:00:00\",\"2023-08-18T00:00:00\",\"2023-08-19T00:00:00\",\"2023-08-20T00:00:00\",\"2023-08-21T00:00:00\",\"2023-08-22T00:00:00\",\"2023-08-23T00:00:00\",\"2023-08-24T00:00:00\",\"2023-08-25T00:00:00\",\"2023-08-26T00:00:00\",\"2023-08-27T00:00:00\",\"2023-08-28T00:00:00\",\"2023-08-29T00:00:00\",\"2023-08-30T00:00:00\",\"2023-08-31T00:00:00\",\"2023-09-01T00:00:00\",\"2023-09-02T00:00:00\",\"2023-09-03T00:00:00\",\"2023-09-04T00:00:00\",\"2023-09-05T00:00:00\",\"2023-09-06T00:00:00\",\"2023-09-07T00:00:00\",\"2023-09-08T00:00:00\",\"2023-09-09T00:00:00\",\"2023-09-10T00:00:00\",\"2023-09-11T00:00:00\",\"2023-09-12T00:00:00\",\"2023-09-13T00:00:00\",\"2023-09-14T00:00:00\",\"2023-09-15T00:00:00\",\"2023-09-16T00:00:00\",\"2023-09-17T00:00:00\",\"2023-09-18T00:00:00\",\"2023-09-19T00:00:00\",\"2023-09-20T00:00:00\",\"2023-09-21T00:00:00\",\"2023-09-22T00:00:00\",\"2023-09-23T00:00:00\",\"2023-09-24T00:00:00\",\"2023-09-25T00:00:00\",\"2023-09-26T00:00:00\",\"2023-09-27T00:00:00\",\"2023-09-28T00:00:00\",\"2023-09-29T00:00:00\",\"2023-09-30T00:00:00\",\"2023-10-01T00:00:00\",\"2023-10-02T00:00:00\",\"2023-10-03T00:00:00\",\"2023-10-04T00:00:00\",\"2023-10-05T00:00:00\",\"2023-10-06T00:00:00\",\"2023-10-07T00:00:00\",\"2023-10-08T00:00:00\",\"2023-10-09T00:00:00\",\"2023-10-10T00:00:00\",\"2023-10-11T00:00:00\",\"2023-10-12T00:00:00\",\"2023-10-13T00:00:00\",\"2023-10-14T00:00:00\",\"2023-10-15T00:00:00\",\"2023-10-16T00:00:00\",\"2023-10-17T00:00:00\",\"2023-10-18T00:00:00\",\"2023-10-19T00:00:00\",\"2023-10-20T00:00:00\",\"2023-10-21T00:00:00\",\"2023-10-22T00:00:00\",\"2023-10-23T00:00:00\",\"2023-10-24T00:00:00\",\"2023-10-25T00:00:00\",\"2023-10-26T00:00:00\",\"2023-10-27T00:00:00\",\"2023-10-28T00:00:00\",\"2023-10-29T00:00:00\",\"2023-10-30T00:00:00\",\"2023-10-31T00:00:00\",\"2023-11-01T00:00:00\",\"2023-11-02T00:00:00\",\"2023-11-03T00:00:00\",\"2023-11-04T00:00:00\",\"2023-11-05T00:00:00\",\"2023-11-06T00:00:00\",\"2023-11-07T00:00:00\",\"2023-11-08T00:00:00\",\"2023-11-09T00:00:00\",\"2023-11-10T00:00:00\",\"2023-11-11T00:00:00\",\"2023-11-12T00:00:00\",\"2023-11-13T00:00:00\",\"2023-11-14T00:00:00\",\"2023-11-15T00:00:00\",\"2023-11-16T00:00:00\",\"2023-11-17T00:00:00\",\"2023-11-18T00:00:00\",\"2023-11-19T00:00:00\",\"2023-11-20T00:00:00\",\"2023-11-21T00:00:00\",\"2023-11-22T00:00:00\",\"2023-11-23T00:00:00\",\"2023-11-24T00:00:00\",\"2023-11-25T00:00:00\",\"2023-11-26T00:00:00\"],\"y\":[9116930.666666666,19031748.0,11532349.666666666,9020955.333333334,7173730.0,3453166.6666666665,3248500.0,7762007.0,3800629.6666666665,3968468.6666666665,3236900.0,4793666.666666667,5421817.333333333,3367466.0,3103333.3333333335,2617089.6666666665,6835166.666666667,3848833.3333333335,2751420.6666666665,4523666.666666667,2672500.0,4852000.0,4582099.666666667,4341762.0,6767517.666666667,7489172.666666667,4549966.666666667,5784099.333333333,16275700.0,10529078.333333334,9833453.0,11517878.666666666,9154467.666666666,11711580.0,5844500.0,9446605.0,5697068.333333333,5121699.0,4983046.333333333,4459626.666666667,3999000.0,2883581.0,5981872.666666667,4650560.0,2113293.0,2152833.3333333335,3811782.3333333335,4178749.3333333335,2556166.6666666665,6701000.0,3265020.6666666665,4014858.3333333335,2028300.0,3582333.3333333335,7011446.0,5952250.333333333,10482208.666666666,11925237.333333334,7450833.333333333,10065020.333333334,13082987.666666666,9022365.333333334,7844500.0,17241357.666666668,8719426.666666666,7096000.0,6234446.666666667,5763855.666666667,4756333.333333333,3712617.6666666665,4614901.0,5387833.333333333,5987635.666666667,6421944.666666667,3403417.6666666665,2341033.3333333335,1878949.3333333333,5100000.0,3872833.3333333335,4360666.666666667,3213017.0,4571254.666666667,2805833.3333333335,3587333.3333333335,7859871.333333333,9617966.666666666,7761399.333333333,6980846.666666667,7859926.0,7010386.0,6764504.0,11380188.666666666,10363410.0,12837527.666666666,16175993.666666666,8618752.666666666,4712666.666666667,2958550.6666666665,5584256.0,5399626.0,4104431.0,2270333.3333333335,3598613.6666666665,4540361.0,5187666.666666667,5097181.333333333,4933337.333333333,5669863.333333333,3053410.0,5289596.666666667,3610387.6666666665,2101500.0,7480883.333333333,5056810.666666667,4440242.666666667,4608833.333333333,11752168.0,7541003.0,6684000.0,11197360.666666666,10143228.333333334,9242460.666666666,9156618.0,12100644.666666666,10052072.333333334,10762544.666666666,11594185.333333334,7745550.333333333,5093591.0,5500833.333333333,6327470.666666667,3774509.0,3423213.0,7123776.0,7575743.0,5649475.333333333,3580058.6666666665,4867395.666666667,2802166.6666666665,1783000.0,4281166.666666667,4314316.666666667,2509413.3333333335,3006333.3333333335,3906987.6666666665,6081872.666666667,5306660.666666667,10327711.333333334,10580500.0,14285338.333333334,8926052.0,8269180.666666667,10054189.333333334,4839699.0,10648971.0,4271326.0,3011151.6666666665,5490770.0,2180011.3333333335,1015333.3333333334,622040.0,1899166.6666666667,4576080.0,4477919.333333333,5647666.666666667,6134910.666666667,3711833.3333333335,3060000.0,4952658.666666667,3608046.0,3943016.3333333335,5495750.0,2970475.0,3344000.0,3097279.6666666665,4512932.333333333,3558000.0,8675500.0,7860669.666666667,5858389.333333333,7777049.0,5023500.0,9698814.0,8664391.0,10032499.666666666,9402347.0,12708176.333333334,5771166.666666667,4199274.666666667,5608679.666666667,6751256.333333333,4714261.333333333,7846575.0,5173782.666666667,2389666.6666666665,3568614.3333333335,8672156.0,3508826.6666666665,2977166.6666666665,3601666.6666666665,4909324.666666667,3105725.6666666665,3408930.0],\"type\":\"scatter\",\"xaxis\":\"x\",\"yaxis\":\"y\"},{\"legendgroup\":\"AutoARIMA\",\"line\":{\"color\":\"#fde725\",\"width\":1},\"mode\":\"lines\",\"name\":\"AutoARIMA\",\"showlegend\":true,\"x\":[\"2023-05-08T00:00:00\",\"2023-05-09T00:00:00\",\"2023-05-10T00:00:00\",\"2023-05-11T00:00:00\",\"2023-05-12T00:00:00\",\"2023-05-13T00:00:00\",\"2023-05-14T00:00:00\",\"2023-05-15T00:00:00\",\"2023-05-16T00:00:00\",\"2023-05-17T00:00:00\",\"2023-05-18T00:00:00\",\"2023-05-19T00:00:00\",\"2023-05-20T00:00:00\",\"2023-05-21T00:00:00\",\"2023-05-22T00:00:00\",\"2023-05-23T00:00:00\",\"2023-05-24T00:00:00\",\"2023-05-25T00:00:00\",\"2023-05-26T00:00:00\",\"2023-05-27T00:00:00\",\"2023-05-28T00:00:00\",\"2023-05-29T00:00:00\",\"2023-05-30T00:00:00\",\"2023-05-31T00:00:00\",\"2023-06-01T00:00:00\",\"2023-06-02T00:00:00\",\"2023-06-03T00:00:00\",\"2023-06-04T00:00:00\",\"2023-06-05T00:00:00\",\"2023-06-06T00:00:00\",\"2023-06-07T00:00:00\",\"2023-06-08T00:00:00\",\"2023-06-09T00:00:00\",\"2023-06-10T00:00:00\",\"2023-06-11T00:00:00\",\"2023-06-12T00:00:00\",\"2023-06-13T00:00:00\",\"2023-06-14T00:00:00\",\"2023-06-15T00:00:00\",\"2023-06-16T00:00:00\",\"2023-06-17T00:00:00\",\"2023-06-18T00:00:00\",\"2023-06-19T00:00:00\",\"2023-06-20T00:00:00\",\"2023-06-21T00:00:00\",\"2023-06-22T00:00:00\",\"2023-06-23T00:00:00\",\"2023-06-24T00:00:00\",\"2023-06-25T00:00:00\",\"2023-06-26T00:00:00\",\"2023-06-27T00:00:00\",\"2023-06-28T00:00:00\",\"2023-06-29T00:00:00\",\"2023-06-30T00:00:00\",\"2023-07-01T00:00:00\",\"2023-07-02T00:00:00\",\"2023-07-03T00:00:00\",\"2023-07-04T00:00:00\",\"2023-07-05T00:00:00\",\"2023-07-06T00:00:00\",\"2023-07-07T00:00:00\",\"2023-07-08T00:00:00\",\"2023-07-09T00:00:00\",\"2023-07-10T00:00:00\",\"2023-07-11T00:00:00\",\"2023-07-12T00:00:00\",\"2023-07-13T00:00:00\",\"2023-07-14T00:00:00\",\"2023-07-15T00:00:00\",\"2023-07-16T00:00:00\",\"2023-07-17T00:00:00\",\"2023-07-18T00:00:00\",\"2023-07-19T00:00:00\",\"2023-07-20T00:00:00\",\"2023-07-21T00:00:00\",\"2023-07-22T00:00:00\",\"2023-07-23T00:00:00\",\"2023-07-24T00:00:00\",\"2023-07-25T00:00:00\",\"2023-07-26T00:00:00\",\"2023-07-27T00:00:00\",\"2023-07-28T00:00:00\",\"2023-07-29T00:00:00\",\"2023-07-30T00:00:00\",\"2023-07-31T00:00:00\",\"2023-08-01T00:00:00\",\"2023-08-02T00:00:00\",\"2023-08-03T00:00:00\",\"2023-08-04T00:00:00\",\"2023-08-05T00:00:00\",\"2023-08-06T00:00:00\",\"2023-08-07T00:00:00\",\"2023-08-08T00:00:00\",\"2023-08-09T00:00:00\",\"2023-08-10T00:00:00\",\"2023-08-11T00:00:00\",\"2023-08-12T00:00:00\",\"2023-08-13T00:00:00\",\"2023-08-14T00:00:00\",\"2023-08-15T00:00:00\",\"2023-08-16T00:00:00\",\"2023-08-17T00:00:00\",\"2023-08-18T00:00:00\",\"2023-08-19T00:00:00\",\"2023-08-20T00:00:00\",\"2023-08-21T00:00:00\",\"2023-08-22T00:00:00\",\"2023-08-23T00:00:00\",\"2023-08-24T00:00:00\",\"2023-08-25T00:00:00\",\"2023-08-26T00:00:00\",\"2023-08-27T00:00:00\",\"2023-08-28T00:00:00\",\"2023-08-29T00:00:00\",\"2023-08-30T00:00:00\",\"2023-08-31T00:00:00\",\"2023-09-01T00:00:00\",\"2023-09-02T00:00:00\",\"2023-09-03T00:00:00\",\"2023-09-04T00:00:00\",\"2023-09-05T00:00:00\",\"2023-09-06T00:00:00\",\"2023-09-07T00:00:00\",\"2023-09-08T00:00:00\",\"2023-09-09T00:00:00\",\"2023-09-10T00:00:00\",\"2023-09-11T00:00:00\",\"2023-09-12T00:00:00\",\"2023-09-13T00:00:00\",\"2023-09-14T00:00:00\",\"2023-09-15T00:00:00\",\"2023-09-16T00:00:00\",\"2023-09-17T00:00:00\",\"2023-09-18T00:00:00\",\"2023-09-19T00:00:00\",\"2023-09-20T00:00:00\",\"2023-09-21T00:00:00\",\"2023-09-22T00:00:00\",\"2023-09-23T00:00:00\",\"2023-09-24T00:00:00\",\"2023-09-25T00:00:00\",\"2023-09-26T00:00:00\",\"2023-09-27T00:00:00\",\"2023-09-28T00:00:00\",\"2023-09-29T00:00:00\",\"2023-09-30T00:00:00\",\"2023-10-01T00:00:00\",\"2023-10-02T00:00:00\",\"2023-10-03T00:00:00\",\"2023-10-04T00:00:00\",\"2023-10-05T00:00:00\",\"2023-10-06T00:00:00\",\"2023-10-07T00:00:00\",\"2023-10-08T00:00:00\",\"2023-10-09T00:00:00\",\"2023-10-10T00:00:00\",\"2023-10-11T00:00:00\",\"2023-10-12T00:00:00\",\"2023-10-13T00:00:00\",\"2023-10-14T00:00:00\",\"2023-10-15T00:00:00\",\"2023-10-16T00:00:00\",\"2023-10-17T00:00:00\",\"2023-10-18T00:00:00\",\"2023-10-19T00:00:00\",\"2023-10-20T00:00:00\",\"2023-10-21T00:00:00\",\"2023-10-22T00:00:00\",\"2023-10-23T00:00:00\",\"2023-10-24T00:00:00\",\"2023-10-25T00:00:00\",\"2023-10-26T00:00:00\",\"2023-10-27T00:00:00\",\"2023-10-28T00:00:00\",\"2023-10-29T00:00:00\",\"2023-10-30T00:00:00\",\"2023-10-31T00:00:00\",\"2023-11-01T00:00:00\",\"2023-11-02T00:00:00\",\"2023-11-03T00:00:00\",\"2023-11-04T00:00:00\",\"2023-11-05T00:00:00\",\"2023-11-06T00:00:00\",\"2023-11-07T00:00:00\",\"2023-11-08T00:00:00\",\"2023-11-09T00:00:00\",\"2023-11-10T00:00:00\",\"2023-11-11T00:00:00\",\"2023-11-12T00:00:00\",\"2023-11-13T00:00:00\",\"2023-11-14T00:00:00\",\"2023-11-15T00:00:00\",\"2023-11-16T00:00:00\",\"2023-11-17T00:00:00\",\"2023-11-18T00:00:00\",\"2023-11-19T00:00:00\",\"2023-11-20T00:00:00\",\"2023-11-21T00:00:00\",\"2023-11-22T00:00:00\",\"2023-11-23T00:00:00\",\"2023-11-24T00:00:00\",\"2023-11-25T00:00:00\",\"2023-11-26T00:00:00\"],\"y\":[null,null,null,null,null,null,null,null,null,null,null,null,null,null,null,null,null,null,null,null,null,null,null,null,null,null,null,null,null,null,null,null,null,null,null,null,null,null,null,null,null,null,null,null,null,null,null,null,null,null,null,null,null,null,null,null,null,null,null,null,null,null,null,null,null,null,null,null,null,null,null,null,null,null,null,null,null,null,null,null,null,null,null,null,null,null,null,null,null,null,null,null,null,null,null,null,null,null,null,null,null,null,null,null,null,null,null,null,null,null,null,null,null,null,null,null,null,null,null,null,null,null,null,null,null,null,null,null,null,null,null,null,null,null,null,null,null,null,null,null,null,null,null,null,null,null,null,null,null,null,null,null,null,null,null,null,null,null,null,null,null,null,null,null,null,null,null,null,null,null,null,null,null,null,null,null,null,null,null,null,null,null,null,null,null,null,null,null,null,null,null,null,null,null,null,null,5276647.5,3688150.0,3110581.75,3833293.5,3683563.5,3098089.5,3421587.5],\"type\":\"scatter\",\"xaxis\":\"x\",\"yaxis\":\"y\"},{\"fill\":\"toself\",\"fillcolor\":\"#fde725\",\"legendgroup\":\"AutoARIMA_level_80\",\"line\":{\"color\":\"#fde725\",\"width\":1},\"mode\":\"lines\",\"name\":\"AutoARIMA_level_80\",\"opacity\":0.19999999999999996,\"showlegend\":true,\"x\":[\"2023-05-08T00:00:00.000000000\",\"2023-05-09T00:00:00.000000000\",\"2023-05-10T00:00:00.000000000\",\"2023-05-11T00:00:00.000000000\",\"2023-05-12T00:00:00.000000000\",\"2023-05-13T00:00:00.000000000\",\"2023-05-14T00:00:00.000000000\",\"2023-05-15T00:00:00.000000000\",\"2023-05-16T00:00:00.000000000\",\"2023-05-17T00:00:00.000000000\",\"2023-05-18T00:00:00.000000000\",\"2023-05-19T00:00:00.000000000\",\"2023-05-20T00:00:00.000000000\",\"2023-05-21T00:00:00.000000000\",\"2023-05-22T00:00:00.000000000\",\"2023-05-23T00:00:00.000000000\",\"2023-05-24T00:00:00.000000000\",\"2023-05-25T00:00:00.000000000\",\"2023-05-26T00:00:00.000000000\",\"2023-05-27T00:00:00.000000000\",\"2023-05-28T00:00:00.000000000\",\"2023-05-29T00:00:00.000000000\",\"2023-05-30T00:00:00.000000000\",\"2023-05-31T00:00:00.000000000\",\"2023-06-01T00:00:00.000000000\",\"2023-06-02T00:00:00.000000000\",\"2023-06-03T00:00:00.000000000\",\"2023-06-04T00:00:00.000000000\",\"2023-06-05T00:00:00.000000000\",\"2023-06-06T00:00:00.000000000\",\"2023-06-07T00:00:00.000000000\",\"2023-06-08T00:00:00.000000000\",\"2023-06-09T00:00:00.000000000\",\"2023-06-10T00:00:00.000000000\",\"2023-06-11T00:00:00.000000000\",\"2023-06-12T00:00:00.000000000\",\"2023-06-13T00:00:00.000000000\",\"2023-06-14T00:00:00.000000000\",\"2023-06-15T00:00:00.000000000\",\"2023-06-16T00:00:00.000000000\",\"2023-06-17T00:00:00.000000000\",\"2023-06-18T00:00:00.000000000\",\"2023-06-19T00:00:00.000000000\",\"2023-06-20T00:00:00.000000000\",\"2023-06-21T00:00:00.000000000\",\"2023-06-22T00:00:00.000000000\",\"2023-06-23T00:00:00.000000000\",\"2023-06-24T00:00:00.000000000\",\"2023-06-25T00:00:00.000000000\",\"2023-06-26T00:00:00.000000000\",\"2023-06-27T00:00:00.000000000\",\"2023-06-28T00:00:00.000000000\",\"2023-06-29T00:00:00.000000000\",\"2023-06-30T00:00:00.000000000\",\"2023-07-01T00:00:00.000000000\",\"2023-07-02T00:00:00.000000000\",\"2023-07-03T00:00:00.000000000\",\"2023-07-04T00:00:00.000000000\",\"2023-07-05T00:00:00.000000000\",\"2023-07-06T00:00:00.000000000\",\"2023-07-07T00:00:00.000000000\",\"2023-07-08T00:00:00.000000000\",\"2023-07-09T00:00:00.000000000\",\"2023-07-10T00:00:00.000000000\",\"2023-07-11T00:00:00.000000000\",\"2023-07-12T00:00:00.000000000\",\"2023-07-13T00:00:00.000000000\",\"2023-07-14T00:00:00.000000000\",\"2023-07-15T00:00:00.000000000\",\"2023-07-16T00:00:00.000000000\",\"2023-07-17T00:00:00.000000000\",\"2023-07-18T00:00:00.000000000\",\"2023-07-19T00:00:00.000000000\",\"2023-07-20T00:00:00.000000000\",\"2023-07-21T00:00:00.000000000\",\"2023-07-22T00:00:00.000000000\",\"2023-07-23T00:00:00.000000000\",\"2023-07-24T00:00:00.000000000\",\"2023-07-25T00:00:00.000000000\",\"2023-07-26T00:00:00.000000000\",\"2023-07-27T00:00:00.000000000\",\"2023-07-28T00:00:00.000000000\",\"2023-07-29T00:00:00.000000000\",\"2023-07-30T00:00:00.000000000\",\"2023-07-31T00:00:00.000000000\",\"2023-08-01T00:00:00.000000000\",\"2023-08-02T00:00:00.000000000\",\"2023-08-03T00:00:00.000000000\",\"2023-08-04T00:00:00.000000000\",\"2023-08-05T00:00:00.000000000\",\"2023-08-06T00:00:00.000000000\",\"2023-08-07T00:00:00.000000000\",\"2023-08-08T00:00:00.000000000\",\"2023-08-09T00:00:00.000000000\",\"2023-08-10T00:00:00.000000000\",\"2023-08-11T00:00:00.000000000\",\"2023-08-12T00:00:00.000000000\",\"2023-08-13T00:00:00.000000000\",\"2023-08-14T00:00:00.000000000\",\"2023-08-15T00:00:00.000000000\",\"2023-08-16T00:00:00.000000000\",\"2023-08-17T00:00:00.000000000\",\"2023-08-18T00:00:00.000000000\",\"2023-08-19T00:00:00.000000000\",\"2023-08-20T00:00:00.000000000\",\"2023-08-21T00:00:00.000000000\",\"2023-08-22T00:00:00.000000000\",\"2023-08-23T00:00:00.000000000\",\"2023-08-24T00:00:00.000000000\",\"2023-08-25T00:00:00.000000000\",\"2023-08-26T00:00:00.000000000\",\"2023-08-27T00:00:00.000000000\",\"2023-08-28T00:00:00.000000000\",\"2023-08-29T00:00:00.000000000\",\"2023-08-30T00:00:00.000000000\",\"2023-08-31T00:00:00.000000000\",\"2023-09-01T00:00:00.000000000\",\"2023-09-02T00:00:00.000000000\",\"2023-09-03T00:00:00.000000000\",\"2023-09-04T00:00:00.000000000\",\"2023-09-05T00:00:00.000000000\",\"2023-09-06T00:00:00.000000000\",\"2023-09-07T00:00:00.000000000\",\"2023-09-08T00:00:00.000000000\",\"2023-09-09T00:00:00.000000000\",\"2023-09-10T00:00:00.000000000\",\"2023-09-11T00:00:00.000000000\",\"2023-09-12T00:00:00.000000000\",\"2023-09-13T00:00:00.000000000\",\"2023-09-14T00:00:00.000000000\",\"2023-09-15T00:00:00.000000000\",\"2023-09-16T00:00:00.000000000\",\"2023-09-17T00:00:00.000000000\",\"2023-09-18T00:00:00.000000000\",\"2023-09-19T00:00:00.000000000\",\"2023-09-20T00:00:00.000000000\",\"2023-09-21T00:00:00.000000000\",\"2023-09-22T00:00:00.000000000\",\"2023-09-23T00:00:00.000000000\",\"2023-09-24T00:00:00.000000000\",\"2023-09-25T00:00:00.000000000\",\"2023-09-26T00:00:00.000000000\",\"2023-09-27T00:00:00.000000000\",\"2023-09-28T00:00:00.000000000\",\"2023-09-29T00:00:00.000000000\",\"2023-09-30T00:00:00.000000000\",\"2023-10-01T00:00:00.000000000\",\"2023-10-02T00:00:00.000000000\",\"2023-10-03T00:00:00.000000000\",\"2023-10-04T00:00:00.000000000\",\"2023-10-05T00:00:00.000000000\",\"2023-10-06T00:00:00.000000000\",\"2023-10-07T00:00:00.000000000\",\"2023-10-08T00:00:00.000000000\",\"2023-10-09T00:00:00.000000000\",\"2023-10-10T00:00:00.000000000\",\"2023-10-11T00:00:00.000000000\",\"2023-10-12T00:00:00.000000000\",\"2023-10-13T00:00:00.000000000\",\"2023-10-14T00:00:00.000000000\",\"2023-10-15T00:00:00.000000000\",\"2023-10-16T00:00:00.000000000\",\"2023-10-17T00:00:00.000000000\",\"2023-10-18T00:00:00.000000000\",\"2023-10-19T00:00:00.000000000\",\"2023-10-20T00:00:00.000000000\",\"2023-10-21T00:00:00.000000000\",\"2023-10-22T00:00:00.000000000\",\"2023-10-23T00:00:00.000000000\",\"2023-10-24T00:00:00.000000000\",\"2023-10-25T00:00:00.000000000\",\"2023-10-26T00:00:00.000000000\",\"2023-10-27T00:00:00.000000000\",\"2023-10-28T00:00:00.000000000\",\"2023-10-29T00:00:00.000000000\",\"2023-10-30T00:00:00.000000000\",\"2023-10-31T00:00:00.000000000\",\"2023-11-01T00:00:00.000000000\",\"2023-11-02T00:00:00.000000000\",\"2023-11-03T00:00:00.000000000\",\"2023-11-04T00:00:00.000000000\",\"2023-11-05T00:00:00.000000000\",\"2023-11-06T00:00:00.000000000\",\"2023-11-07T00:00:00.000000000\",\"2023-11-08T00:00:00.000000000\",\"2023-11-09T00:00:00.000000000\",\"2023-11-10T00:00:00.000000000\",\"2023-11-11T00:00:00.000000000\",\"2023-11-12T00:00:00.000000000\",\"2023-11-13T00:00:00.000000000\",\"2023-11-14T00:00:00.000000000\",\"2023-11-15T00:00:00.000000000\",\"2023-11-16T00:00:00.000000000\",\"2023-11-17T00:00:00.000000000\",\"2023-11-18T00:00:00.000000000\",\"2023-11-19T00:00:00.000000000\",\"2023-11-20T00:00:00.000000000\",\"2023-11-21T00:00:00.000000000\",\"2023-11-22T00:00:00.000000000\",\"2023-11-23T00:00:00.000000000\",\"2023-11-24T00:00:00.000000000\",\"2023-11-25T00:00:00.000000000\",\"2023-11-26T00:00:00.000000000\",\"2023-11-26T00:00:00.000000000\",\"2023-11-25T00:00:00.000000000\",\"2023-11-24T00:00:00.000000000\",\"2023-11-23T00:00:00.000000000\",\"2023-11-22T00:00:00.000000000\",\"2023-11-21T00:00:00.000000000\",\"2023-11-20T00:00:00.000000000\",\"2023-11-19T00:00:00.000000000\",\"2023-11-18T00:00:00.000000000\",\"2023-11-17T00:00:00.000000000\",\"2023-11-16T00:00:00.000000000\",\"2023-11-15T00:00:00.000000000\",\"2023-11-14T00:00:00.000000000\",\"2023-11-13T00:00:00.000000000\",\"2023-11-12T00:00:00.000000000\",\"2023-11-11T00:00:00.000000000\",\"2023-11-10T00:00:00.000000000\",\"2023-11-09T00:00:00.000000000\",\"2023-11-08T00:00:00.000000000\",\"2023-11-07T00:00:00.000000000\",\"2023-11-06T00:00:00.000000000\",\"2023-11-05T00:00:00.000000000\",\"2023-11-04T00:00:00.000000000\",\"2023-11-03T00:00:00.000000000\",\"2023-11-02T00:00:00.000000000\",\"2023-11-01T00:00:00.000000000\",\"2023-10-31T00:00:00.000000000\",\"2023-10-30T00:00:00.000000000\",\"2023-10-29T00:00:00.000000000\",\"2023-10-28T00:00:00.000000000\",\"2023-10-27T00:00:00.000000000\",\"2023-10-26T00:00:00.000000000\",\"2023-10-25T00:00:00.000000000\",\"2023-10-24T00:00:00.000000000\",\"2023-10-23T00:00:00.000000000\",\"2023-10-22T00:00:00.000000000\",\"2023-10-21T00:00:00.000000000\",\"2023-10-20T00:00:00.000000000\",\"2023-10-19T00:00:00.000000000\",\"2023-10-18T00:00:00.000000000\",\"2023-10-17T00:00:00.000000000\",\"2023-10-16T00:00:00.000000000\",\"2023-10-15T00:00:00.000000000\",\"2023-10-14T00:00:00.000000000\",\"2023-10-13T00:00:00.000000000\",\"2023-10-12T00:00:00.000000000\",\"2023-10-11T00:00:00.000000000\",\"2023-10-10T00:00:00.000000000\",\"2023-10-09T00:00:00.000000000\",\"2023-10-08T00:00:00.000000000\",\"2023-10-07T00:00:00.000000000\",\"2023-10-06T00:00:00.000000000\",\"2023-10-05T00:00:00.000000000\",\"2023-10-04T00:00:00.000000000\",\"2023-10-03T00:00:00.000000000\",\"2023-10-02T00:00:00.000000000\",\"2023-10-01T00:00:00.000000000\",\"2023-09-30T00:00:00.000000000\",\"2023-09-29T00:00:00.000000000\",\"2023-09-28T00:00:00.000000000\",\"2023-09-27T00:00:00.000000000\",\"2023-09-26T00:00:00.000000000\",\"2023-09-25T00:00:00.000000000\",\"2023-09-24T00:00:00.000000000\",\"2023-09-23T00:00:00.000000000\",\"2023-09-22T00:00:00.000000000\",\"2023-09-21T00:00:00.000000000\",\"2023-09-20T00:00:00.000000000\",\"2023-09-19T00:00:00.000000000\",\"2023-09-18T00:00:00.000000000\",\"2023-09-17T00:00:00.000000000\",\"2023-09-16T00:00:00.000000000\",\"2023-09-15T00:00:00.000000000\",\"2023-09-14T00:00:00.000000000\",\"2023-09-13T00:00:00.000000000\",\"2023-09-12T00:00:00.000000000\",\"2023-09-11T00:00:00.000000000\",\"2023-09-10T00:00:00.000000000\",\"2023-09-09T00:00:00.000000000\",\"2023-09-08T00:00:00.000000000\",\"2023-09-07T00:00:00.000000000\",\"2023-09-06T00:00:00.000000000\",\"2023-09-05T00:00:00.000000000\",\"2023-09-04T00:00:00.000000000\",\"2023-09-03T00:00:00.000000000\",\"2023-09-02T00:00:00.000000000\",\"2023-09-01T00:00:00.000000000\",\"2023-08-31T00:00:00.000000000\",\"2023-08-30T00:00:00.000000000\",\"2023-08-29T00:00:00.000000000\",\"2023-08-28T00:00:00.000000000\",\"2023-08-27T00:00:00.000000000\",\"2023-08-26T00:00:00.000000000\",\"2023-08-25T00:00:00.000000000\",\"2023-08-24T00:00:00.000000000\",\"2023-08-23T00:00:00.000000000\",\"2023-08-22T00:00:00.000000000\",\"2023-08-21T00:00:00.000000000\",\"2023-08-20T00:00:00.000000000\",\"2023-08-19T00:00:00.000000000\",\"2023-08-18T00:00:00.000000000\",\"2023-08-17T00:00:00.000000000\",\"2023-08-16T00:00:00.000000000\",\"2023-08-15T00:00:00.000000000\",\"2023-08-14T00:00:00.000000000\",\"2023-08-13T00:00:00.000000000\",\"2023-08-12T00:00:00.000000000\",\"2023-08-11T00:00:00.000000000\",\"2023-08-10T00:00:00.000000000\",\"2023-08-09T00:00:00.000000000\",\"2023-08-08T00:00:00.000000000\",\"2023-08-07T00:00:00.000000000\",\"2023-08-06T00:00:00.000000000\",\"2023-08-05T00:00:00.000000000\",\"2023-08-04T00:00:00.000000000\",\"2023-08-03T00:00:00.000000000\",\"2023-08-02T00:00:00.000000000\",\"2023-08-01T00:00:00.000000000\",\"2023-07-31T00:00:00.000000000\",\"2023-07-30T00:00:00.000000000\",\"2023-07-29T00:00:00.000000000\",\"2023-07-28T00:00:00.000000000\",\"2023-07-27T00:00:00.000000000\",\"2023-07-26T00:00:00.000000000\",\"2023-07-25T00:00:00.000000000\",\"2023-07-24T00:00:00.000000000\",\"2023-07-23T00:00:00.000000000\",\"2023-07-22T00:00:00.000000000\",\"2023-07-21T00:00:00.000000000\",\"2023-07-20T00:00:00.000000000\",\"2023-07-19T00:00:00.000000000\",\"2023-07-18T00:00:00.000000000\",\"2023-07-17T00:00:00.000000000\",\"2023-07-16T00:00:00.000000000\",\"2023-07-15T00:00:00.000000000\",\"2023-07-14T00:00:00.000000000\",\"2023-07-13T00:00:00.000000000\",\"2023-07-12T00:00:00.000000000\",\"2023-07-11T00:00:00.000000000\",\"2023-07-10T00:00:00.000000000\",\"2023-07-09T00:00:00.000000000\",\"2023-07-08T00:00:00.000000000\",\"2023-07-07T00:00:00.000000000\",\"2023-07-06T00:00:00.000000000\",\"2023-07-05T00:00:00.000000000\",\"2023-07-04T00:00:00.000000000\",\"2023-07-03T00:00:00.000000000\",\"2023-07-02T00:00:00.000000000\",\"2023-07-01T00:00:00.000000000\",\"2023-06-30T00:00:00.000000000\",\"2023-06-29T00:00:00.000000000\",\"2023-06-28T00:00:00.000000000\",\"2023-06-27T00:00:00.000000000\",\"2023-06-26T00:00:00.000000000\",\"2023-06-25T00:00:00.000000000\",\"2023-06-24T00:00:00.000000000\",\"2023-06-23T00:00:00.000000000\",\"2023-06-22T00:00:00.000000000\",\"2023-06-21T00:00:00.000000000\",\"2023-06-20T00:00:00.000000000\",\"2023-06-19T00:00:00.000000000\",\"2023-06-18T00:00:00.000000000\",\"2023-06-17T00:00:00.000000000\",\"2023-06-16T00:00:00.000000000\",\"2023-06-15T00:00:00.000000000\",\"2023-06-14T00:00:00.000000000\",\"2023-06-13T00:00:00.000000000\",\"2023-06-12T00:00:00.000000000\",\"2023-06-11T00:00:00.000000000\",\"2023-06-10T00:00:00.000000000\",\"2023-06-09T00:00:00.000000000\",\"2023-06-08T00:00:00.000000000\",\"2023-06-07T00:00:00.000000000\",\"2023-06-06T00:00:00.000000000\",\"2023-06-05T00:00:00.000000000\",\"2023-06-04T00:00:00.000000000\",\"2023-06-03T00:00:00.000000000\",\"2023-06-02T00:00:00.000000000\",\"2023-06-01T00:00:00.000000000\",\"2023-05-31T00:00:00.000000000\",\"2023-05-30T00:00:00.000000000\",\"2023-05-29T00:00:00.000000000\",\"2023-05-28T00:00:00.000000000\",\"2023-05-27T00:00:00.000000000\",\"2023-05-26T00:00:00.000000000\",\"2023-05-25T00:00:00.000000000\",\"2023-05-24T00:00:00.000000000\",\"2023-05-23T00:00:00.000000000\",\"2023-05-22T00:00:00.000000000\",\"2023-05-21T00:00:00.000000000\",\"2023-05-20T00:00:00.000000000\",\"2023-05-19T00:00:00.000000000\",\"2023-05-18T00:00:00.000000000\",\"2023-05-17T00:00:00.000000000\",\"2023-05-16T00:00:00.000000000\",\"2023-05-15T00:00:00.000000000\",\"2023-05-14T00:00:00.000000000\",\"2023-05-13T00:00:00.000000000\",\"2023-05-12T00:00:00.000000000\",\"2023-05-11T00:00:00.000000000\",\"2023-05-10T00:00:00.000000000\",\"2023-05-09T00:00:00.000000000\",\"2023-05-08T00:00:00.000000000\"],\"y\":[null,null,null,null,null,null,null,null,null,null,null,null,null,null,null,null,null,null,null,null,null,null,null,null,null,null,null,null,null,null,null,null,null,null,null,null,null,null,null,null,null,null,null,null,null,null,null,null,null,null,null,null,null,null,null,null,null,null,null,null,null,null,null,null,null,null,null,null,null,null,null,null,null,null,null,null,null,null,null,null,null,null,null,null,null,null,null,null,null,null,null,null,null,null,null,null,null,null,null,null,null,null,null,null,null,null,null,null,null,null,null,null,null,null,null,null,null,null,null,null,null,null,null,null,null,null,null,null,null,null,null,null,null,null,null,null,null,null,null,null,null,null,null,null,null,null,null,null,null,null,null,null,null,null,null,null,null,null,null,null,null,null,null,null,null,null,null,null,null,null,null,null,null,null,null,null,null,null,null,null,null,null,null,null,null,null,null,null,null,null,null,null,null,null,null,null,7897866.5,6757203.5,8148881.5,7698258.0,6353676.5,6677073.5,5429460.5,1413714.5,-480894.46875,1013450.3125,-31670.888671875,-1927718.25,619096.5,2655428.5,null,null,null,null,null,null,null,null,null,null,null,null,null,null,null,null,null,null,null,null,null,null,null,null,null,null,null,null,null,null,null,null,null,null,null,null,null,null,null,null,null,null,null,null,null,null,null,null,null,null,null,null,null,null,null,null,null,null,null,null,null,null,null,null,null,null,null,null,null,null,null,null,null,null,null,null,null,null,null,null,null,null,null,null,null,null,null,null,null,null,null,null,null,null,null,null,null,null,null,null,null,null,null,null,null,null,null,null,null,null,null,null,null,null,null,null,null,null,null,null,null,null,null,null,null,null,null,null,null,null,null,null,null,null,null,null,null,null,null,null,null,null,null,null,null,null,null,null,null,null,null,null,null,null,null,null,null,null,null,null,null,null,null,null,null,null,null,null,null,null,null,null,null,null,null,null,null,null,null,null,null,null,null,null,null,null,null,null,null,null,null,null,null,null,null,null],\"type\":\"scatter\",\"xaxis\":\"x\",\"yaxis\":\"y\"},{\"legendgroup\":\"y\",\"line\":{\"color\":\"#440154\",\"width\":1},\"mode\":\"lines\",\"name\":\"y\",\"showlegend\":false,\"x\":[\"2023-05-08T00:00:00\",\"2023-05-09T00:00:00\",\"2023-05-10T00:00:00\",\"2023-05-11T00:00:00\",\"2023-05-12T00:00:00\",\"2023-05-13T00:00:00\",\"2023-05-14T00:00:00\",\"2023-05-15T00:00:00\",\"2023-05-16T00:00:00\",\"2023-05-17T00:00:00\",\"2023-05-18T00:00:00\",\"2023-05-19T00:00:00\",\"2023-05-20T00:00:00\",\"2023-05-21T00:00:00\",\"2023-05-22T00:00:00\",\"2023-05-23T00:00:00\",\"2023-05-24T00:00:00\",\"2023-05-25T00:00:00\",\"2023-05-26T00:00:00\",\"2023-05-27T00:00:00\",\"2023-05-28T00:00:00\",\"2023-05-29T00:00:00\",\"2023-05-30T00:00:00\",\"2023-05-31T00:00:00\",\"2023-06-01T00:00:00\",\"2023-06-02T00:00:00\",\"2023-06-03T00:00:00\",\"2023-06-04T00:00:00\",\"2023-06-05T00:00:00\",\"2023-06-06T00:00:00\",\"2023-06-07T00:00:00\",\"2023-06-08T00:00:00\",\"2023-06-09T00:00:00\",\"2023-06-10T00:00:00\",\"2023-06-11T00:00:00\",\"2023-06-12T00:00:00\",\"2023-06-13T00:00:00\",\"2023-06-14T00:00:00\",\"2023-06-15T00:00:00\",\"2023-06-16T00:00:00\",\"2023-06-17T00:00:00\",\"2023-06-18T00:00:00\",\"2023-06-19T00:00:00\",\"2023-06-20T00:00:00\",\"2023-06-21T00:00:00\",\"2023-06-22T00:00:00\",\"2023-06-23T00:00:00\",\"2023-06-24T00:00:00\",\"2023-06-25T00:00:00\",\"2023-06-26T00:00:00\",\"2023-06-27T00:00:00\",\"2023-06-28T00:00:00\",\"2023-06-29T00:00:00\",\"2023-06-30T00:00:00\",\"2023-07-01T00:00:00\",\"2023-07-02T00:00:00\",\"2023-07-03T00:00:00\",\"2023-07-04T00:00:00\",\"2023-07-05T00:00:00\",\"2023-07-06T00:00:00\",\"2023-07-07T00:00:00\",\"2023-07-08T00:00:00\",\"2023-07-09T00:00:00\",\"2023-07-10T00:00:00\",\"2023-07-11T00:00:00\",\"2023-07-12T00:00:00\",\"2023-07-13T00:00:00\",\"2023-07-14T00:00:00\",\"2023-07-15T00:00:00\",\"2023-07-16T00:00:00\",\"2023-07-17T00:00:00\",\"2023-07-18T00:00:00\",\"2023-07-19T00:00:00\",\"2023-07-20T00:00:00\",\"2023-07-21T00:00:00\",\"2023-07-22T00:00:00\",\"2023-07-23T00:00:00\",\"2023-07-24T00:00:00\",\"2023-07-25T00:00:00\",\"2023-07-26T00:00:00\",\"2023-07-27T00:00:00\",\"2023-07-28T00:00:00\",\"2023-07-29T00:00:00\",\"2023-07-30T00:00:00\",\"2023-07-31T00:00:00\",\"2023-08-01T00:00:00\",\"2023-08-02T00:00:00\",\"2023-08-03T00:00:00\",\"2023-08-04T00:00:00\",\"2023-08-05T00:00:00\",\"2023-08-06T00:00:00\",\"2023-08-07T00:00:00\",\"2023-08-08T00:00:00\",\"2023-08-09T00:00:00\",\"2023-08-10T00:00:00\",\"2023-08-11T00:00:00\",\"2023-08-12T00:00:00\",\"2023-08-13T00:00:00\",\"2023-08-14T00:00:00\",\"2023-08-15T00:00:00\",\"2023-08-16T00:00:00\",\"2023-08-17T00:00:00\",\"2023-08-18T00:00:00\",\"2023-08-19T00:00:00\",\"2023-08-20T00:00:00\",\"2023-08-21T00:00:00\",\"2023-08-22T00:00:00\",\"2023-08-23T00:00:00\",\"2023-08-24T00:00:00\",\"2023-08-25T00:00:00\",\"2023-08-26T00:00:00\",\"2023-08-27T00:00:00\",\"2023-08-28T00:00:00\",\"2023-08-29T00:00:00\",\"2023-08-30T00:00:00\",\"2023-08-31T00:00:00\",\"2023-09-01T00:00:00\",\"2023-09-02T00:00:00\",\"2023-09-03T00:00:00\",\"2023-09-04T00:00:00\",\"2023-09-05T00:00:00\",\"2023-09-06T00:00:00\",\"2023-09-07T00:00:00\",\"2023-09-08T00:00:00\",\"2023-09-09T00:00:00\",\"2023-09-10T00:00:00\",\"2023-09-11T00:00:00\",\"2023-09-12T00:00:00\",\"2023-09-13T00:00:00\",\"2023-09-14T00:00:00\",\"2023-09-15T00:00:00\",\"2023-09-16T00:00:00\",\"2023-09-17T00:00:00\",\"2023-09-18T00:00:00\",\"2023-09-19T00:00:00\",\"2023-09-20T00:00:00\",\"2023-09-21T00:00:00\",\"2023-09-22T00:00:00\",\"2023-09-23T00:00:00\",\"2023-09-24T00:00:00\",\"2023-09-25T00:00:00\",\"2023-09-26T00:00:00\",\"2023-09-27T00:00:00\",\"2023-09-28T00:00:00\",\"2023-09-29T00:00:00\",\"2023-09-30T00:00:00\",\"2023-10-01T00:00:00\",\"2023-10-02T00:00:00\",\"2023-10-03T00:00:00\",\"2023-10-04T00:00:00\",\"2023-10-05T00:00:00\",\"2023-10-06T00:00:00\",\"2023-10-07T00:00:00\",\"2023-10-08T00:00:00\",\"2023-10-09T00:00:00\",\"2023-10-10T00:00:00\",\"2023-10-11T00:00:00\",\"2023-10-12T00:00:00\",\"2023-10-13T00:00:00\",\"2023-10-14T00:00:00\",\"2023-10-15T00:00:00\",\"2023-10-16T00:00:00\",\"2023-10-17T00:00:00\",\"2023-10-18T00:00:00\",\"2023-10-19T00:00:00\",\"2023-10-20T00:00:00\",\"2023-10-21T00:00:00\",\"2023-10-22T00:00:00\",\"2023-10-23T00:00:00\",\"2023-10-24T00:00:00\",\"2023-10-25T00:00:00\",\"2023-10-26T00:00:00\",\"2023-10-27T00:00:00\",\"2023-10-28T00:00:00\",\"2023-10-29T00:00:00\",\"2023-10-30T00:00:00\",\"2023-10-31T00:00:00\",\"2023-11-01T00:00:00\",\"2023-11-02T00:00:00\",\"2023-11-03T00:00:00\",\"2023-11-04T00:00:00\",\"2023-11-05T00:00:00\",\"2023-11-06T00:00:00\",\"2023-11-07T00:00:00\",\"2023-11-08T00:00:00\",\"2023-11-09T00:00:00\",\"2023-11-10T00:00:00\",\"2023-11-11T00:00:00\",\"2023-11-12T00:00:00\",\"2023-11-13T00:00:00\",\"2023-11-14T00:00:00\",\"2023-11-15T00:00:00\",\"2023-11-16T00:00:00\",\"2023-11-17T00:00:00\",\"2023-11-18T00:00:00\",\"2023-11-19T00:00:00\",\"2023-11-20T00:00:00\",\"2023-11-21T00:00:00\",\"2023-11-22T00:00:00\",\"2023-11-23T00:00:00\",\"2023-11-24T00:00:00\",\"2023-11-25T00:00:00\",\"2023-11-26T00:00:00\"],\"y\":[609107601.6666666,591993245.0,618413528.3333334,557759025.6666666,513744652.3333333,464269448.0,423967726.3333333,816158232.0,760843379.6666666,835312098.0,958617596.3333334,1699920831.6666667,2761910191.3333335,614836662.0,567512496.3333334,370530814.3333333,290852514.3333333,302007032.3333333,268387855.33333334,245194228.66666666,218421625.66666666,299631020.0,299541378.6666667,438022814.3333333,337799204.0,548543791.0,498376128.3333333,425856404.6666667,706165772.6666666,678514595.0,617721511.6666666,536727249.6666667,532686459.3333333,540908845.0,428612853.6666667,651188698.3333334,564279377.6666666,576658515.6666666,713479155.3333334,726681535.3333334,845073082.3333334,945047433.0,1961367267.6666667,3177714051.6666665,750825476.3333334,423654348.0,343599130.3333333,309653087.6666667,254159115.33333334,324997666.0,313554961.0,348894977.0,193554326.0,531657342.3333333,304841421.6666667,372005508.6666667,636001284.3333334,556008907.6666666,590366522.3333334,537297185.6666666,458673594.3333333,431627016.3333333,366002551.0,645819052.3333334,653592562.3333334,550250791.0,487841111.0,526100304.0,588000077.0,558044206.3333334,957149559.6666666,1196317336.3333333,1532559594.0,3069812194.6666665,784028752.3333334,467227066.0,299054665.6666667,335998514.0,328750387.0,291834483.6666667,264374841.66666666,245360933.0,279842028.0,264507322.33333334,437275880.6666667,413586330.0,593644361.6666666,607945405.6666666,562953048.0,486646174.0,383316874.0,619283743.3333334,537899648.3333334,498121320.0,551258966.0,475329352.0,435820426.6666667,362718532.0,624742386.6666666,691788699.3333334,705837976.3333334,569259167.3333334,1230142573.3333333,1822068397.6666667,2659052102.6666665,996168202.3333334,230683145.33333334,366815216.0,279073779.3333333,315103908.6666667,263214957.33333334,219076356.0,307868446.3333333,279274837.6666667,308016336.3333333,454983842.6666667,338307461.6666667,477254608.6666667,428004853.0,601058878.0,661183405.6666666,532351138.0,466113665.0,488502377.6666667,454122806.6666667,416678048.3333333,605452811.3333334,408071706.0,506098829.0,501400338.0,647519632.6666666,612246489.0,607684311.6666666,1174561096.3333333,1772533371.0,2955098043.6666665,689534445.6666666,385863773.6666667,307262566.0,234499599.0,349145510.3333333,284757372.6666667,271550175.3333333,244970075.33333334,355520952.0,564052191.0,293599940.3333333,576448178.3333334,623751835.3333334,546176689.6666666,567134617.6666666,480384769.0,420957199.6666667,342672366.6666667,564203939.6666666,614065537.3333334,525540570.0,486336348.6666667,494381160.6666667,488188548.6666667,479201186.0,830692789.6666666,906304773.6666666,1083930921.0,1568206147.6666667,2831293929.0,666529347.6666666,346197602.0,387916896.3333333,291621447.6666667,295849181.3333333,258638171.33333334,250481906.33333334,214765796.0,214413654.33333334,334729642.3333333,436568203.0,282061533.0,417856120.0,536780866.6666667,480434035.0,417954636.0,717599539.3333334,589049282.3333334,512004886.0,470448523.6666667,558107510.6666666,469090410.6666667,384510943.3333333,598629189.3333334,586309120.0,744027740.3333334,746291469.0,890156617.6666666,1164402425.6666667,1421018505.3333333,3323304378.3333335,733068802.0,380841678.0,293615007.6666667,256741493.0,267584235.33333334,219600545.33333334],\"type\":\"scatter\",\"xaxis\":\"x2\",\"yaxis\":\"y2\"},{\"legendgroup\":\"AutoARIMA\",\"line\":{\"color\":\"#fde725\",\"width\":1},\"mode\":\"lines\",\"name\":\"AutoARIMA\",\"showlegend\":false,\"x\":[\"2023-05-08T00:00:00\",\"2023-05-09T00:00:00\",\"2023-05-10T00:00:00\",\"2023-05-11T00:00:00\",\"2023-05-12T00:00:00\",\"2023-05-13T00:00:00\",\"2023-05-14T00:00:00\",\"2023-05-15T00:00:00\",\"2023-05-16T00:00:00\",\"2023-05-17T00:00:00\",\"2023-05-18T00:00:00\",\"2023-05-19T00:00:00\",\"2023-05-20T00:00:00\",\"2023-05-21T00:00:00\",\"2023-05-22T00:00:00\",\"2023-05-23T00:00:00\",\"2023-05-24T00:00:00\",\"2023-05-25T00:00:00\",\"2023-05-26T00:00:00\",\"2023-05-27T00:00:00\",\"2023-05-28T00:00:00\",\"2023-05-29T00:00:00\",\"2023-05-30T00:00:00\",\"2023-05-31T00:00:00\",\"2023-06-01T00:00:00\",\"2023-06-02T00:00:00\",\"2023-06-03T00:00:00\",\"2023-06-04T00:00:00\",\"2023-06-05T00:00:00\",\"2023-06-06T00:00:00\",\"2023-06-07T00:00:00\",\"2023-06-08T00:00:00\",\"2023-06-09T00:00:00\",\"2023-06-10T00:00:00\",\"2023-06-11T00:00:00\",\"2023-06-12T00:00:00\",\"2023-06-13T00:00:00\",\"2023-06-14T00:00:00\",\"2023-06-15T00:00:00\",\"2023-06-16T00:00:00\",\"2023-06-17T00:00:00\",\"2023-06-18T00:00:00\",\"2023-06-19T00:00:00\",\"2023-06-20T00:00:00\",\"2023-06-21T00:00:00\",\"2023-06-22T00:00:00\",\"2023-06-23T00:00:00\",\"2023-06-24T00:00:00\",\"2023-06-25T00:00:00\",\"2023-06-26T00:00:00\",\"2023-06-27T00:00:00\",\"2023-06-28T00:00:00\",\"2023-06-29T00:00:00\",\"2023-06-30T00:00:00\",\"2023-07-01T00:00:00\",\"2023-07-02T00:00:00\",\"2023-07-03T00:00:00\",\"2023-07-04T00:00:00\",\"2023-07-05T00:00:00\",\"2023-07-06T00:00:00\",\"2023-07-07T00:00:00\",\"2023-07-08T00:00:00\",\"2023-07-09T00:00:00\",\"2023-07-10T00:00:00\",\"2023-07-11T00:00:00\",\"2023-07-12T00:00:00\",\"2023-07-13T00:00:00\",\"2023-07-14T00:00:00\",\"2023-07-15T00:00:00\",\"2023-07-16T00:00:00\",\"2023-07-17T00:00:00\",\"2023-07-18T00:00:00\",\"2023-07-19T00:00:00\",\"2023-07-20T00:00:00\",\"2023-07-21T00:00:00\",\"2023-07-22T00:00:00\",\"2023-07-23T00:00:00\",\"2023-07-24T00:00:00\",\"2023-07-25T00:00:00\",\"2023-07-26T00:00:00\",\"2023-07-27T00:00:00\",\"2023-07-28T00:00:00\",\"2023-07-29T00:00:00\",\"2023-07-30T00:00:00\",\"2023-07-31T00:00:00\",\"2023-08-01T00:00:00\",\"2023-08-02T00:00:00\",\"2023-08-03T00:00:00\",\"2023-08-04T00:00:00\",\"2023-08-05T00:00:00\",\"2023-08-06T00:00:00\",\"2023-08-07T00:00:00\",\"2023-08-08T00:00:00\",\"2023-08-09T00:00:00\",\"2023-08-10T00:00:00\",\"2023-08-11T00:00:00\",\"2023-08-12T00:00:00\",\"2023-08-13T00:00:00\",\"2023-08-14T00:00:00\",\"2023-08-15T00:00:00\",\"2023-08-16T00:00:00\",\"2023-08-17T00:00:00\",\"2023-08-18T00:00:00\",\"2023-08-19T00:00:00\",\"2023-08-20T00:00:00\",\"2023-08-21T00:00:00\",\"2023-08-22T00:00:00\",\"2023-08-23T00:00:00\",\"2023-08-24T00:00:00\",\"2023-08-25T00:00:00\",\"2023-08-26T00:00:00\",\"2023-08-27T00:00:00\",\"2023-08-28T00:00:00\",\"2023-08-29T00:00:00\",\"2023-08-30T00:00:00\",\"2023-08-31T00:00:00\",\"2023-09-01T00:00:00\",\"2023-09-02T00:00:00\",\"2023-09-03T00:00:00\",\"2023-09-04T00:00:00\",\"2023-09-05T00:00:00\",\"2023-09-06T00:00:00\",\"2023-09-07T00:00:00\",\"2023-09-08T00:00:00\",\"2023-09-09T00:00:00\",\"2023-09-10T00:00:00\",\"2023-09-11T00:00:00\",\"2023-09-12T00:00:00\",\"2023-09-13T00:00:00\",\"2023-09-14T00:00:00\",\"2023-09-15T00:00:00\",\"2023-09-16T00:00:00\",\"2023-09-17T00:00:00\",\"2023-09-18T00:00:00\",\"2023-09-19T00:00:00\",\"2023-09-20T00:00:00\",\"2023-09-21T00:00:00\",\"2023-09-22T00:00:00\",\"2023-09-23T00:00:00\",\"2023-09-24T00:00:00\",\"2023-09-25T00:00:00\",\"2023-09-26T00:00:00\",\"2023-09-27T00:00:00\",\"2023-09-28T00:00:00\",\"2023-09-29T00:00:00\",\"2023-09-30T00:00:00\",\"2023-10-01T00:00:00\",\"2023-10-02T00:00:00\",\"2023-10-03T00:00:00\",\"2023-10-04T00:00:00\",\"2023-10-05T00:00:00\",\"2023-10-06T00:00:00\",\"2023-10-07T00:00:00\",\"2023-10-08T00:00:00\",\"2023-10-09T00:00:00\",\"2023-10-10T00:00:00\",\"2023-10-11T00:00:00\",\"2023-10-12T00:00:00\",\"2023-10-13T00:00:00\",\"2023-10-14T00:00:00\",\"2023-10-15T00:00:00\",\"2023-10-16T00:00:00\",\"2023-10-17T00:00:00\",\"2023-10-18T00:00:00\",\"2023-10-19T00:00:00\",\"2023-10-20T00:00:00\",\"2023-10-21T00:00:00\",\"2023-10-22T00:00:00\",\"2023-10-23T00:00:00\",\"2023-10-24T00:00:00\",\"2023-10-25T00:00:00\",\"2023-10-26T00:00:00\",\"2023-10-27T00:00:00\",\"2023-10-28T00:00:00\",\"2023-10-29T00:00:00\",\"2023-10-30T00:00:00\",\"2023-10-31T00:00:00\",\"2023-11-01T00:00:00\",\"2023-11-02T00:00:00\",\"2023-11-03T00:00:00\",\"2023-11-04T00:00:00\",\"2023-11-05T00:00:00\",\"2023-11-06T00:00:00\",\"2023-11-07T00:00:00\",\"2023-11-08T00:00:00\",\"2023-11-09T00:00:00\",\"2023-11-10T00:00:00\",\"2023-11-11T00:00:00\",\"2023-11-12T00:00:00\",\"2023-11-13T00:00:00\",\"2023-11-14T00:00:00\",\"2023-11-15T00:00:00\",\"2023-11-16T00:00:00\",\"2023-11-17T00:00:00\",\"2023-11-18T00:00:00\",\"2023-11-19T00:00:00\",\"2023-11-20T00:00:00\",\"2023-11-21T00:00:00\",\"2023-11-22T00:00:00\",\"2023-11-23T00:00:00\",\"2023-11-24T00:00:00\",\"2023-11-25T00:00:00\",\"2023-11-26T00:00:00\"],\"y\":[null,null,null,null,null,null,null,null,null,null,null,null,null,null,null,null,null,null,null,null,null,null,null,null,null,null,null,null,null,null,null,null,null,null,null,null,null,null,null,null,null,null,null,null,null,null,null,null,null,null,null,null,null,null,null,null,null,null,null,null,null,null,null,null,null,null,null,null,null,null,null,null,null,null,null,null,null,null,null,null,null,null,null,null,null,null,null,null,null,null,null,null,null,null,null,null,null,null,null,null,null,null,null,null,null,null,null,null,null,null,null,null,null,null,null,null,null,null,null,null,null,null,null,null,null,null,null,null,null,null,null,null,null,null,null,null,null,null,null,null,null,null,null,null,null,null,null,null,null,null,null,null,null,null,null,null,null,null,null,null,null,null,null,null,null,null,null,null,null,null,null,null,null,null,null,null,null,null,null,null,null,null,null,null,null,null,null,null,null,null,null,null,null,null,null,null,2806590720.0,767328896.0,421428096.0,367520544.0,343916416.0,331696032.0,271292800.0],\"type\":\"scatter\",\"xaxis\":\"x2\",\"yaxis\":\"y2\"},{\"fill\":\"toself\",\"fillcolor\":\"#fde725\",\"legendgroup\":\"AutoARIMA_level_80\",\"line\":{\"color\":\"#fde725\",\"width\":1},\"mode\":\"lines\",\"name\":\"AutoARIMA_level_80\",\"opacity\":0.19999999999999996,\"showlegend\":false,\"x\":[\"2023-05-08T00:00:00.000000000\",\"2023-05-09T00:00:00.000000000\",\"2023-05-10T00:00:00.000000000\",\"2023-05-11T00:00:00.000000000\",\"2023-05-12T00:00:00.000000000\",\"2023-05-13T00:00:00.000000000\",\"2023-05-14T00:00:00.000000000\",\"2023-05-15T00:00:00.000000000\",\"2023-05-16T00:00:00.000000000\",\"2023-05-17T00:00:00.000000000\",\"2023-05-18T00:00:00.000000000\",\"2023-05-19T00:00:00.000000000\",\"2023-05-20T00:00:00.000000000\",\"2023-05-21T00:00:00.000000000\",\"2023-05-22T00:00:00.000000000\",\"2023-05-23T00:00:00.000000000\",\"2023-05-24T00:00:00.000000000\",\"2023-05-25T00:00:00.000000000\",\"2023-05-26T00:00:00.000000000\",\"2023-05-27T00:00:00.000000000\",\"2023-05-28T00:00:00.000000000\",\"2023-05-29T00:00:00.000000000\",\"2023-05-30T00:00:00.000000000\",\"2023-05-31T00:00:00.000000000\",\"2023-06-01T00:00:00.000000000\",\"2023-06-02T00:00:00.000000000\",\"2023-06-03T00:00:00.000000000\",\"2023-06-04T00:00:00.000000000\",\"2023-06-05T00:00:00.000000000\",\"2023-06-06T00:00:00.000000000\",\"2023-06-07T00:00:00.000000000\",\"2023-06-08T00:00:00.000000000\",\"2023-06-09T00:00:00.000000000\",\"2023-06-10T00:00:00.000000000\",\"2023-06-11T00:00:00.000000000\",\"2023-06-12T00:00:00.000000000\",\"2023-06-13T00:00:00.000000000\",\"2023-06-14T00:00:00.000000000\",\"2023-06-15T00:00:00.000000000\",\"2023-06-16T00:00:00.000000000\",\"2023-06-17T00:00:00.000000000\",\"2023-06-18T00:00:00.000000000\",\"2023-06-19T00:00:00.000000000\",\"2023-06-20T00:00:00.000000000\",\"2023-06-21T00:00:00.000000000\",\"2023-06-22T00:00:00.000000000\",\"2023-06-23T00:00:00.000000000\",\"2023-06-24T00:00:00.000000000\",\"2023-06-25T00:00:00.000000000\",\"2023-06-26T00:00:00.000000000\",\"2023-06-27T00:00:00.000000000\",\"2023-06-28T00:00:00.000000000\",\"2023-06-29T00:00:00.000000000\",\"2023-06-30T00:00:00.000000000\",\"2023-07-01T00:00:00.000000000\",\"2023-07-02T00:00:00.000000000\",\"2023-07-03T00:00:00.000000000\",\"2023-07-04T00:00:00.000000000\",\"2023-07-05T00:00:00.000000000\",\"2023-07-06T00:00:00.000000000\",\"2023-07-07T00:00:00.000000000\",\"2023-07-08T00:00:00.000000000\",\"2023-07-09T00:00:00.000000000\",\"2023-07-10T00:00:00.000000000\",\"2023-07-11T00:00:00.000000000\",\"2023-07-12T00:00:00.000000000\",\"2023-07-13T00:00:00.000000000\",\"2023-07-14T00:00:00.000000000\",\"2023-07-15T00:00:00.000000000\",\"2023-07-16T00:00:00.000000000\",\"2023-07-17T00:00:00.000000000\",\"2023-07-18T00:00:00.000000000\",\"2023-07-19T00:00:00.000000000\",\"2023-07-20T00:00:00.000000000\",\"2023-07-21T00:00:00.000000000\",\"2023-07-22T00:00:00.000000000\",\"2023-07-23T00:00:00.000000000\",\"2023-07-24T00:00:00.000000000\",\"2023-07-25T00:00:00.000000000\",\"2023-07-26T00:00:00.000000000\",\"2023-07-27T00:00:00.000000000\",\"2023-07-28T00:00:00.000000000\",\"2023-07-29T00:00:00.000000000\",\"2023-07-30T00:00:00.000000000\",\"2023-07-31T00:00:00.000000000\",\"2023-08-01T00:00:00.000000000\",\"2023-08-02T00:00:00.000000000\",\"2023-08-03T00:00:00.000000000\",\"2023-08-04T00:00:00.000000000\",\"2023-08-05T00:00:00.000000000\",\"2023-08-06T00:00:00.000000000\",\"2023-08-07T00:00:00.000000000\",\"2023-08-08T00:00:00.000000000\",\"2023-08-09T00:00:00.000000000\",\"2023-08-10T00:00:00.000000000\",\"2023-08-11T00:00:00.000000000\",\"2023-08-12T00:00:00.000000000\",\"2023-08-13T00:00:00.000000000\",\"2023-08-14T00:00:00.000000000\",\"2023-08-15T00:00:00.000000000\",\"2023-08-16T00:00:00.000000000\",\"2023-08-17T00:00:00.000000000\",\"2023-08-18T00:00:00.000000000\",\"2023-08-19T00:00:00.000000000\",\"2023-08-20T00:00:00.000000000\",\"2023-08-21T00:00:00.000000000\",\"2023-08-22T00:00:00.000000000\",\"2023-08-23T00:00:00.000000000\",\"2023-08-24T00:00:00.000000000\",\"2023-08-25T00:00:00.000000000\",\"2023-08-26T00:00:00.000000000\",\"2023-08-27T00:00:00.000000000\",\"2023-08-28T00:00:00.000000000\",\"2023-08-29T00:00:00.000000000\",\"2023-08-30T00:00:00.000000000\",\"2023-08-31T00:00:00.000000000\",\"2023-09-01T00:00:00.000000000\",\"2023-09-02T00:00:00.000000000\",\"2023-09-03T00:00:00.000000000\",\"2023-09-04T00:00:00.000000000\",\"2023-09-05T00:00:00.000000000\",\"2023-09-06T00:00:00.000000000\",\"2023-09-07T00:00:00.000000000\",\"2023-09-08T00:00:00.000000000\",\"2023-09-09T00:00:00.000000000\",\"2023-09-10T00:00:00.000000000\",\"2023-09-11T00:00:00.000000000\",\"2023-09-12T00:00:00.000000000\",\"2023-09-13T00:00:00.000000000\",\"2023-09-14T00:00:00.000000000\",\"2023-09-15T00:00:00.000000000\",\"2023-09-16T00:00:00.000000000\",\"2023-09-17T00:00:00.000000000\",\"2023-09-18T00:00:00.000000000\",\"2023-09-19T00:00:00.000000000\",\"2023-09-20T00:00:00.000000000\",\"2023-09-21T00:00:00.000000000\",\"2023-09-22T00:00:00.000000000\",\"2023-09-23T00:00:00.000000000\",\"2023-09-24T00:00:00.000000000\",\"2023-09-25T00:00:00.000000000\",\"2023-09-26T00:00:00.000000000\",\"2023-09-27T00:00:00.000000000\",\"2023-09-28T00:00:00.000000000\",\"2023-09-29T00:00:00.000000000\",\"2023-09-30T00:00:00.000000000\",\"2023-10-01T00:00:00.000000000\",\"2023-10-02T00:00:00.000000000\",\"2023-10-03T00:00:00.000000000\",\"2023-10-04T00:00:00.000000000\",\"2023-10-05T00:00:00.000000000\",\"2023-10-06T00:00:00.000000000\",\"2023-10-07T00:00:00.000000000\",\"2023-10-08T00:00:00.000000000\",\"2023-10-09T00:00:00.000000000\",\"2023-10-10T00:00:00.000000000\",\"2023-10-11T00:00:00.000000000\",\"2023-10-12T00:00:00.000000000\",\"2023-10-13T00:00:00.000000000\",\"2023-10-14T00:00:00.000000000\",\"2023-10-15T00:00:00.000000000\",\"2023-10-16T00:00:00.000000000\",\"2023-10-17T00:00:00.000000000\",\"2023-10-18T00:00:00.000000000\",\"2023-10-19T00:00:00.000000000\",\"2023-10-20T00:00:00.000000000\",\"2023-10-21T00:00:00.000000000\",\"2023-10-22T00:00:00.000000000\",\"2023-10-23T00:00:00.000000000\",\"2023-10-24T00:00:00.000000000\",\"2023-10-25T00:00:00.000000000\",\"2023-10-26T00:00:00.000000000\",\"2023-10-27T00:00:00.000000000\",\"2023-10-28T00:00:00.000000000\",\"2023-10-29T00:00:00.000000000\",\"2023-10-30T00:00:00.000000000\",\"2023-10-31T00:00:00.000000000\",\"2023-11-01T00:00:00.000000000\",\"2023-11-02T00:00:00.000000000\",\"2023-11-03T00:00:00.000000000\",\"2023-11-04T00:00:00.000000000\",\"2023-11-05T00:00:00.000000000\",\"2023-11-06T00:00:00.000000000\",\"2023-11-07T00:00:00.000000000\",\"2023-11-08T00:00:00.000000000\",\"2023-11-09T00:00:00.000000000\",\"2023-11-10T00:00:00.000000000\",\"2023-11-11T00:00:00.000000000\",\"2023-11-12T00:00:00.000000000\",\"2023-11-13T00:00:00.000000000\",\"2023-11-14T00:00:00.000000000\",\"2023-11-15T00:00:00.000000000\",\"2023-11-16T00:00:00.000000000\",\"2023-11-17T00:00:00.000000000\",\"2023-11-18T00:00:00.000000000\",\"2023-11-19T00:00:00.000000000\",\"2023-11-20T00:00:00.000000000\",\"2023-11-21T00:00:00.000000000\",\"2023-11-22T00:00:00.000000000\",\"2023-11-23T00:00:00.000000000\",\"2023-11-24T00:00:00.000000000\",\"2023-11-25T00:00:00.000000000\",\"2023-11-26T00:00:00.000000000\",\"2023-11-26T00:00:00.000000000\",\"2023-11-25T00:00:00.000000000\",\"2023-11-24T00:00:00.000000000\",\"2023-11-23T00:00:00.000000000\",\"2023-11-22T00:00:00.000000000\",\"2023-11-21T00:00:00.000000000\",\"2023-11-20T00:00:00.000000000\",\"2023-11-19T00:00:00.000000000\",\"2023-11-18T00:00:00.000000000\",\"2023-11-17T00:00:00.000000000\",\"2023-11-16T00:00:00.000000000\",\"2023-11-15T00:00:00.000000000\",\"2023-11-14T00:00:00.000000000\",\"2023-11-13T00:00:00.000000000\",\"2023-11-12T00:00:00.000000000\",\"2023-11-11T00:00:00.000000000\",\"2023-11-10T00:00:00.000000000\",\"2023-11-09T00:00:00.000000000\",\"2023-11-08T00:00:00.000000000\",\"2023-11-07T00:00:00.000000000\",\"2023-11-06T00:00:00.000000000\",\"2023-11-05T00:00:00.000000000\",\"2023-11-04T00:00:00.000000000\",\"2023-11-03T00:00:00.000000000\",\"2023-11-02T00:00:00.000000000\",\"2023-11-01T00:00:00.000000000\",\"2023-10-31T00:00:00.000000000\",\"2023-10-30T00:00:00.000000000\",\"2023-10-29T00:00:00.000000000\",\"2023-10-28T00:00:00.000000000\",\"2023-10-27T00:00:00.000000000\",\"2023-10-26T00:00:00.000000000\",\"2023-10-25T00:00:00.000000000\",\"2023-10-24T00:00:00.000000000\",\"2023-10-23T00:00:00.000000000\",\"2023-10-22T00:00:00.000000000\",\"2023-10-21T00:00:00.000000000\",\"2023-10-20T00:00:00.000000000\",\"2023-10-19T00:00:00.000000000\",\"2023-10-18T00:00:00.000000000\",\"2023-10-17T00:00:00.000000000\",\"2023-10-16T00:00:00.000000000\",\"2023-10-15T00:00:00.000000000\",\"2023-10-14T00:00:00.000000000\",\"2023-10-13T00:00:00.000000000\",\"2023-10-12T00:00:00.000000000\",\"2023-10-11T00:00:00.000000000\",\"2023-10-10T00:00:00.000000000\",\"2023-10-09T00:00:00.000000000\",\"2023-10-08T00:00:00.000000000\",\"2023-10-07T00:00:00.000000000\",\"2023-10-06T00:00:00.000000000\",\"2023-10-05T00:00:00.000000000\",\"2023-10-04T00:00:00.000000000\",\"2023-10-03T00:00:00.000000000\",\"2023-10-02T00:00:00.000000000\",\"2023-10-01T00:00:00.000000000\",\"2023-09-30T00:00:00.000000000\",\"2023-09-29T00:00:00.000000000\",\"2023-09-28T00:00:00.000000000\",\"2023-09-27T00:00:00.000000000\",\"2023-09-26T00:00:00.000000000\",\"2023-09-25T00:00:00.000000000\",\"2023-09-24T00:00:00.000000000\",\"2023-09-23T00:00:00.000000000\",\"2023-09-22T00:00:00.000000000\",\"2023-09-21T00:00:00.000000000\",\"2023-09-20T00:00:00.000000000\",\"2023-09-19T00:00:00.000000000\",\"2023-09-18T00:00:00.000000000\",\"2023-09-17T00:00:00.000000000\",\"2023-09-16T00:00:00.000000000\",\"2023-09-15T00:00:00.000000000\",\"2023-09-14T00:00:00.000000000\",\"2023-09-13T00:00:00.000000000\",\"2023-09-12T00:00:00.000000000\",\"2023-09-11T00:00:00.000000000\",\"2023-09-10T00:00:00.000000000\",\"2023-09-09T00:00:00.000000000\",\"2023-09-08T00:00:00.000000000\",\"2023-09-07T00:00:00.000000000\",\"2023-09-06T00:00:00.000000000\",\"2023-09-05T00:00:00.000000000\",\"2023-09-04T00:00:00.000000000\",\"2023-09-03T00:00:00.000000000\",\"2023-09-02T00:00:00.000000000\",\"2023-09-01T00:00:00.000000000\",\"2023-08-31T00:00:00.000000000\",\"2023-08-30T00:00:00.000000000\",\"2023-08-29T00:00:00.000000000\",\"2023-08-28T00:00:00.000000000\",\"2023-08-27T00:00:00.000000000\",\"2023-08-26T00:00:00.000000000\",\"2023-08-25T00:00:00.000000000\",\"2023-08-24T00:00:00.000000000\",\"2023-08-23T00:00:00.000000000\",\"2023-08-22T00:00:00.000000000\",\"2023-08-21T00:00:00.000000000\",\"2023-08-20T00:00:00.000000000\",\"2023-08-19T00:00:00.000000000\",\"2023-08-18T00:00:00.000000000\",\"2023-08-17T00:00:00.000000000\",\"2023-08-16T00:00:00.000000000\",\"2023-08-15T00:00:00.000000000\",\"2023-08-14T00:00:00.000000000\",\"2023-08-13T00:00:00.000000000\",\"2023-08-12T00:00:00.000000000\",\"2023-08-11T00:00:00.000000000\",\"2023-08-10T00:00:00.000000000\",\"2023-08-09T00:00:00.000000000\",\"2023-08-08T00:00:00.000000000\",\"2023-08-07T00:00:00.000000000\",\"2023-08-06T00:00:00.000000000\",\"2023-08-05T00:00:00.000000000\",\"2023-08-04T00:00:00.000000000\",\"2023-08-03T00:00:00.000000000\",\"2023-08-02T00:00:00.000000000\",\"2023-08-01T00:00:00.000000000\",\"2023-07-31T00:00:00.000000000\",\"2023-07-30T00:00:00.000000000\",\"2023-07-29T00:00:00.000000000\",\"2023-07-28T00:00:00.000000000\",\"2023-07-27T00:00:00.000000000\",\"2023-07-26T00:00:00.000000000\",\"2023-07-25T00:00:00.000000000\",\"2023-07-24T00:00:00.000000000\",\"2023-07-23T00:00:00.000000000\",\"2023-07-22T00:00:00.000000000\",\"2023-07-21T00:00:00.000000000\",\"2023-07-20T00:00:00.000000000\",\"2023-07-19T00:00:00.000000000\",\"2023-07-18T00:00:00.000000000\",\"2023-07-17T00:00:00.000000000\",\"2023-07-16T00:00:00.000000000\",\"2023-07-15T00:00:00.000000000\",\"2023-07-14T00:00:00.000000000\",\"2023-07-13T00:00:00.000000000\",\"2023-07-12T00:00:00.000000000\",\"2023-07-11T00:00:00.000000000\",\"2023-07-10T00:00:00.000000000\",\"2023-07-09T00:00:00.000000000\",\"2023-07-08T00:00:00.000000000\",\"2023-07-07T00:00:00.000000000\",\"2023-07-06T00:00:00.000000000\",\"2023-07-05T00:00:00.000000000\",\"2023-07-04T00:00:00.000000000\",\"2023-07-03T00:00:00.000000000\",\"2023-07-02T00:00:00.000000000\",\"2023-07-01T00:00:00.000000000\",\"2023-06-30T00:00:00.000000000\",\"2023-06-29T00:00:00.000000000\",\"2023-06-28T00:00:00.000000000\",\"2023-06-27T00:00:00.000000000\",\"2023-06-26T00:00:00.000000000\",\"2023-06-25T00:00:00.000000000\",\"2023-06-24T00:00:00.000000000\",\"2023-06-23T00:00:00.000000000\",\"2023-06-22T00:00:00.000000000\",\"2023-06-21T00:00:00.000000000\",\"2023-06-20T00:00:00.000000000\",\"2023-06-19T00:00:00.000000000\",\"2023-06-18T00:00:00.000000000\",\"2023-06-17T00:00:00.000000000\",\"2023-06-16T00:00:00.000000000\",\"2023-06-15T00:00:00.000000000\",\"2023-06-14T00:00:00.000000000\",\"2023-06-13T00:00:00.000000000\",\"2023-06-12T00:00:00.000000000\",\"2023-06-11T00:00:00.000000000\",\"2023-06-10T00:00:00.000000000\",\"2023-06-09T00:00:00.000000000\",\"2023-06-08T00:00:00.000000000\",\"2023-06-07T00:00:00.000000000\",\"2023-06-06T00:00:00.000000000\",\"2023-06-05T00:00:00.000000000\",\"2023-06-04T00:00:00.000000000\",\"2023-06-03T00:00:00.000000000\",\"2023-06-02T00:00:00.000000000\",\"2023-06-01T00:00:00.000000000\",\"2023-05-31T00:00:00.000000000\",\"2023-05-30T00:00:00.000000000\",\"2023-05-29T00:00:00.000000000\",\"2023-05-28T00:00:00.000000000\",\"2023-05-27T00:00:00.000000000\",\"2023-05-26T00:00:00.000000000\",\"2023-05-25T00:00:00.000000000\",\"2023-05-24T00:00:00.000000000\",\"2023-05-23T00:00:00.000000000\",\"2023-05-22T00:00:00.000000000\",\"2023-05-21T00:00:00.000000000\",\"2023-05-20T00:00:00.000000000\",\"2023-05-19T00:00:00.000000000\",\"2023-05-18T00:00:00.000000000\",\"2023-05-17T00:00:00.000000000\",\"2023-05-16T00:00:00.000000000\",\"2023-05-15T00:00:00.000000000\",\"2023-05-14T00:00:00.000000000\",\"2023-05-13T00:00:00.000000000\",\"2023-05-12T00:00:00.000000000\",\"2023-05-11T00:00:00.000000000\",\"2023-05-10T00:00:00.000000000\",\"2023-05-09T00:00:00.000000000\",\"2023-05-08T00:00:00.000000000\"],\"y\":[null,null,null,null,null,null,null,null,null,null,null,null,null,null,null,null,null,null,null,null,null,null,null,null,null,null,null,null,null,null,null,null,null,null,null,null,null,null,null,null,null,null,null,null,null,null,null,null,null,null,null,null,null,null,null,null,null,null,null,null,null,null,null,null,null,null,null,null,null,null,null,null,null,null,null,null,null,null,null,null,null,null,null,null,null,null,null,null,null,null,null,null,null,null,null,null,null,null,null,null,null,null,null,null,null,null,null,null,null,null,null,null,null,null,null,null,null,null,null,null,null,null,null,null,null,null,null,null,null,null,null,null,null,null,null,null,null,null,null,null,null,null,null,null,null,null,null,null,null,null,null,null,null,null,null,null,null,null,null,null,null,null,null,null,null,null,null,null,null,null,null,null,null,null,null,null,null,null,null,null,null,null,null,null,null,null,null,null,null,null,null,null,null,null,null,null,3511682048.0,1253353088.0,1003470272.0,968387712.0,1054892160.0,727623680.0,829048512.0,-286462912.0,-64231624.0,-367059296.0,-233346624.0,-160614096.0,281304736.0,2101499264.0,null,null,null,null,null,null,null,null,null,null,null,null,null,null,null,null,null,null,null,null,null,null,null,null,null,null,null,null,null,null,null,null,null,null,null,null,null,null,null,null,null,null,null,null,null,null,null,null,null,null,null,null,null,null,null,null,null,null,null,null,null,null,null,null,null,null,null,null,null,null,null,null,null,null,null,null,null,null,null,null,null,null,null,null,null,null,null,null,null,null,null,null,null,null,null,null,null,null,null,null,null,null,null,null,null,null,null,null,null,null,null,null,null,null,null,null,null,null,null,null,null,null,null,null,null,null,null,null,null,null,null,null,null,null,null,null,null,null,null,null,null,null,null,null,null,null,null,null,null,null,null,null,null,null,null,null,null,null,null,null,null,null,null,null,null,null,null,null,null,null,null,null,null,null,null,null,null,null,null,null,null,null,null,null,null,null,null,null,null,null,null,null,null,null,null,null],\"type\":\"scatter\",\"xaxis\":\"x2\",\"yaxis\":\"y2\"},{\"legendgroup\":\"y\",\"line\":{\"color\":\"#440154\",\"width\":1},\"mode\":\"lines\",\"name\":\"y\",\"showlegend\":false,\"x\":[\"2023-05-08T00:00:00\",\"2023-05-09T00:00:00\",\"2023-05-10T00:00:00\",\"2023-05-11T00:00:00\",\"2023-05-12T00:00:00\",\"2023-05-13T00:00:00\",\"2023-05-14T00:00:00\",\"2023-05-15T00:00:00\",\"2023-05-16T00:00:00\",\"2023-05-17T00:00:00\",\"2023-05-18T00:00:00\",\"2023-05-19T00:00:00\",\"2023-05-20T00:00:00\",\"2023-05-21T00:00:00\",\"2023-05-22T00:00:00\",\"2023-05-23T00:00:00\",\"2023-05-24T00:00:00\",\"2023-05-25T00:00:00\",\"2023-05-26T00:00:00\",\"2023-05-27T00:00:00\",\"2023-05-28T00:00:00\",\"2023-05-29T00:00:00\",\"2023-05-30T00:00:00\",\"2023-05-31T00:00:00\",\"2023-06-01T00:00:00\",\"2023-06-02T00:00:00\",\"2023-06-03T00:00:00\",\"2023-06-04T00:00:00\",\"2023-06-05T00:00:00\",\"2023-06-06T00:00:00\",\"2023-06-07T00:00:00\",\"2023-06-08T00:00:00\",\"2023-06-09T00:00:00\",\"2023-06-10T00:00:00\",\"2023-06-11T00:00:00\",\"2023-06-12T00:00:00\",\"2023-06-13T00:00:00\",\"2023-06-14T00:00:00\",\"2023-06-15T00:00:00\",\"2023-06-16T00:00:00\",\"2023-06-17T00:00:00\",\"2023-06-18T00:00:00\",\"2023-06-19T00:00:00\",\"2023-06-20T00:00:00\",\"2023-06-21T00:00:00\",\"2023-06-22T00:00:00\",\"2023-06-23T00:00:00\",\"2023-06-24T00:00:00\",\"2023-06-25T00:00:00\",\"2023-06-26T00:00:00\",\"2023-06-27T00:00:00\",\"2023-06-28T00:00:00\",\"2023-06-29T00:00:00\",\"2023-06-30T00:00:00\",\"2023-07-01T00:00:00\",\"2023-07-02T00:00:00\",\"2023-07-03T00:00:00\",\"2023-07-04T00:00:00\",\"2023-07-05T00:00:00\",\"2023-07-06T00:00:00\",\"2023-07-07T00:00:00\",\"2023-07-08T00:00:00\",\"2023-07-09T00:00:00\",\"2023-07-10T00:00:00\",\"2023-07-11T00:00:00\",\"2023-07-12T00:00:00\",\"2023-07-13T00:00:00\",\"2023-07-14T00:00:00\",\"2023-07-15T00:00:00\",\"2023-07-16T00:00:00\",\"2023-07-17T00:00:00\",\"2023-07-18T00:00:00\",\"2023-07-19T00:00:00\",\"2023-07-20T00:00:00\",\"2023-07-21T00:00:00\",\"2023-07-22T00:00:00\",\"2023-07-23T00:00:00\",\"2023-07-24T00:00:00\",\"2023-07-25T00:00:00\",\"2023-07-26T00:00:00\",\"2023-07-27T00:00:00\",\"2023-07-28T00:00:00\",\"2023-07-29T00:00:00\",\"2023-07-30T00:00:00\",\"2023-07-31T00:00:00\",\"2023-08-01T00:00:00\",\"2023-08-02T00:00:00\",\"2023-08-03T00:00:00\",\"2023-08-04T00:00:00\",\"2023-08-05T00:00:00\",\"2023-08-06T00:00:00\",\"2023-08-07T00:00:00\",\"2023-08-08T00:00:00\",\"2023-08-09T00:00:00\",\"2023-08-10T00:00:00\",\"2023-08-11T00:00:00\",\"2023-08-12T00:00:00\",\"2023-08-13T00:00:00\",\"2023-08-14T00:00:00\",\"2023-08-15T00:00:00\",\"2023-08-16T00:00:00\",\"2023-08-17T00:00:00\",\"2023-08-18T00:00:00\",\"2023-08-19T00:00:00\",\"2023-08-20T00:00:00\",\"2023-08-21T00:00:00\",\"2023-08-22T00:00:00\",\"2023-08-23T00:00:00\",\"2023-08-24T00:00:00\",\"2023-08-25T00:00:00\",\"2023-08-26T00:00:00\",\"2023-08-27T00:00:00\",\"2023-08-28T00:00:00\",\"2023-08-29T00:00:00\",\"2023-08-30T00:00:00\",\"2023-08-31T00:00:00\",\"2023-09-01T00:00:00\",\"2023-09-02T00:00:00\",\"2023-09-03T00:00:00\",\"2023-09-04T00:00:00\",\"2023-09-05T00:00:00\",\"2023-09-06T00:00:00\",\"2023-09-07T00:00:00\",\"2023-09-08T00:00:00\",\"2023-09-09T00:00:00\",\"2023-09-10T00:00:00\",\"2023-09-11T00:00:00\",\"2023-09-12T00:00:00\",\"2023-09-13T00:00:00\",\"2023-09-14T00:00:00\",\"2023-09-15T00:00:00\",\"2023-09-16T00:00:00\",\"2023-09-17T00:00:00\",\"2023-09-18T00:00:00\",\"2023-09-19T00:00:00\",\"2023-09-20T00:00:00\",\"2023-09-21T00:00:00\",\"2023-09-22T00:00:00\",\"2023-09-23T00:00:00\",\"2023-09-24T00:00:00\",\"2023-09-25T00:00:00\",\"2023-09-26T00:00:00\",\"2023-09-27T00:00:00\",\"2023-09-28T00:00:00\",\"2023-09-29T00:00:00\",\"2023-09-30T00:00:00\",\"2023-10-01T00:00:00\",\"2023-10-02T00:00:00\",\"2023-10-03T00:00:00\",\"2023-10-04T00:00:00\",\"2023-10-05T00:00:00\",\"2023-10-06T00:00:00\",\"2023-10-07T00:00:00\",\"2023-10-08T00:00:00\",\"2023-10-09T00:00:00\",\"2023-10-10T00:00:00\",\"2023-10-11T00:00:00\",\"2023-10-12T00:00:00\",\"2023-10-13T00:00:00\",\"2023-10-14T00:00:00\",\"2023-10-15T00:00:00\",\"2023-10-16T00:00:00\",\"2023-10-17T00:00:00\",\"2023-10-18T00:00:00\",\"2023-10-19T00:00:00\",\"2023-10-20T00:00:00\",\"2023-10-21T00:00:00\",\"2023-10-22T00:00:00\",\"2023-10-23T00:00:00\",\"2023-10-24T00:00:00\",\"2023-10-25T00:00:00\",\"2023-10-26T00:00:00\",\"2023-10-27T00:00:00\",\"2023-10-28T00:00:00\",\"2023-10-29T00:00:00\",\"2023-10-30T00:00:00\",\"2023-10-31T00:00:00\",\"2023-11-01T00:00:00\",\"2023-11-02T00:00:00\",\"2023-11-03T00:00:00\",\"2023-11-04T00:00:00\",\"2023-11-05T00:00:00\",\"2023-11-06T00:00:00\",\"2023-11-07T00:00:00\",\"2023-11-08T00:00:00\",\"2023-11-09T00:00:00\",\"2023-11-10T00:00:00\",\"2023-11-11T00:00:00\",\"2023-11-12T00:00:00\",\"2023-11-13T00:00:00\",\"2023-11-14T00:00:00\",\"2023-11-15T00:00:00\",\"2023-11-16T00:00:00\",\"2023-11-17T00:00:00\",\"2023-11-18T00:00:00\",\"2023-11-19T00:00:00\",\"2023-11-20T00:00:00\",\"2023-11-21T00:00:00\",\"2023-11-22T00:00:00\",\"2023-11-23T00:00:00\",\"2023-11-24T00:00:00\",\"2023-11-25T00:00:00\",\"2023-11-26T00:00:00\"],\"y\":[94314455.33333333,88128788.66666667,91702116.0,88006865.33333333,85238287.0,88076782.0,85110210.33333333,127892590.33333333,83499176.33333333,85245071.33333333,79911638.66666667,82034110.0,87342730.66666667,94941717.66666667,86115920.0,109390114.66666667,145808295.0,148882309.0,160935547.66666666,161740476.66666666,159473350.33333334,166582423.66666666,151299949.66666666,183096909.33333334,108636509.0,89314474.0,174409308.0,169641118.33333334,183748336.66666666,134485852.66666666,177415036.33333334,252679009.33333334,236092456.66666666,196043498.0,184481164.66666666,178116841.0,146417955.33333334,192642218.33333334,182926502.33333334,205711800.33333334,199319845.0,167415166.33333334,231737455.33333334,193531261.66666666,221280470.33333334,223141157.33333334,226040840.66666666,236346931.66666666,230575190.33333334,238773894.0,245146815.33333334,258321937.33333334,223897079.0,243567207.33333334,290670072.6666667,243096584.33333334,285714663.6666667,256341851.66666666,234730564.33333334,227965581.33333334,227559163.33333334,230695966.66666666,219904914.0,227713218.33333334,194598918.33333334,243070810.66666666,257371596.66666666,258565910.0,287442027.3333333,246012885.66666666,286064663.0,228207623.66666666,262676872.66666666,247074773.66666666,267928713.33333334,287981449.3333333,267323350.66666666,262753235.66666666,240554873.66666666,189702406.33333334,202143119.33333334,220745057.33333334,223334756.66666666,214087107.33333334,213022407.33333334,182220591.0,193734873.33333334,206587353.33333334,211807653.66666666,189480691.0,159192694.33333334,165395917.66666666,146086258.66666666,142777424.33333334,166942549.33333334,197283346.66666666,198340481.66666666,161250372.66666666,177168345.0,109843329.66666667,189431204.66666666,183369374.0,183760112.0,203962698.0,204014155.33333334,182438799.66666666,107153633.33333333,160965661.0,184934976.66666666,182259212.0,206770354.33333334,192227587.0,216477371.33333334,191195497.33333334,171650230.66666666,220197107.66666666,214742302.33333334,244017783.33333334,209049443.33333334,183944535.66666666,203463258.66666666,205774838.33333334,184846868.33333334,150134755.33333334,206771143.66666666,196539728.66666666,179349188.66666666,138562103.33333334,246482828.66666666,238173412.66666666,269313512.0,254578633.66666666,233237255.66666666,171710233.66666666,168971903.33333334,172601589.66666666,201734026.0,169656148.66666666,237884850.0,252486423.33333334,294096832.6666667,245590636.33333334,209181818.66666666,130773358.33333333,138192970.0,151868303.0,162791271.33333334,178968374.33333334,202046377.33333334,264918792.33333334,259399067.66666666,218092761.33333334,237976464.33333334,256073523.66666666,246241421.66666666,199942997.33333334,232566347.33333334,205453134.33333334,184799719.0,205839075.0,216495825.0,179578180.0,154701325.33333334,143189781.33333334,151565970.0,165469520.0,155894399.0,156941774.33333334,177405048.66666666,145942084.33333334,159818389.66666666,173969876.33333334,162175999.0,145399656.0,163712360.33333334,179117421.33333334,136282046.33333334,137146787.33333334,157723420.33333334,147083992.0,156649079.33333334,154945811.33333334,168221181.33333334,164395727.33333334,149338054.0,155572578.33333334,159258569.66666666,147442160.33333334,144468037.33333334,175161600.66666666,151700601.66666666,135929689.66666666,139608631.33333334,138180398.33333334,140828641.0,113383851.66666667,195372185.33333334,203565057.33333334,160192922.66666666,224537652.66666666,232130836.66666666,255823472.66666666,240414557.33333334],\"type\":\"scatter\",\"xaxis\":\"x3\",\"yaxis\":\"y3\"},{\"legendgroup\":\"AutoARIMA\",\"line\":{\"color\":\"#fde725\",\"width\":1},\"mode\":\"lines\",\"name\":\"AutoARIMA\",\"showlegend\":false,\"x\":[\"2023-05-08T00:00:00\",\"2023-05-09T00:00:00\",\"2023-05-10T00:00:00\",\"2023-05-11T00:00:00\",\"2023-05-12T00:00:00\",\"2023-05-13T00:00:00\",\"2023-05-14T00:00:00\",\"2023-05-15T00:00:00\",\"2023-05-16T00:00:00\",\"2023-05-17T00:00:00\",\"2023-05-18T00:00:00\",\"2023-05-19T00:00:00\",\"2023-05-20T00:00:00\",\"2023-05-21T00:00:00\",\"2023-05-22T00:00:00\",\"2023-05-23T00:00:00\",\"2023-05-24T00:00:00\",\"2023-05-25T00:00:00\",\"2023-05-26T00:00:00\",\"2023-05-27T00:00:00\",\"2023-05-28T00:00:00\",\"2023-05-29T00:00:00\",\"2023-05-30T00:00:00\",\"2023-05-31T00:00:00\",\"2023-06-01T00:00:00\",\"2023-06-02T00:00:00\",\"2023-06-03T00:00:00\",\"2023-06-04T00:00:00\",\"2023-06-05T00:00:00\",\"2023-06-06T00:00:00\",\"2023-06-07T00:00:00\",\"2023-06-08T00:00:00\",\"2023-06-09T00:00:00\",\"2023-06-10T00:00:00\",\"2023-06-11T00:00:00\",\"2023-06-12T00:00:00\",\"2023-06-13T00:00:00\",\"2023-06-14T00:00:00\",\"2023-06-15T00:00:00\",\"2023-06-16T00:00:00\",\"2023-06-17T00:00:00\",\"2023-06-18T00:00:00\",\"2023-06-19T00:00:00\",\"2023-06-20T00:00:00\",\"2023-06-21T00:00:00\",\"2023-06-22T00:00:00\",\"2023-06-23T00:00:00\",\"2023-06-24T00:00:00\",\"2023-06-25T00:00:00\",\"2023-06-26T00:00:00\",\"2023-06-27T00:00:00\",\"2023-06-28T00:00:00\",\"2023-06-29T00:00:00\",\"2023-06-30T00:00:00\",\"2023-07-01T00:00:00\",\"2023-07-02T00:00:00\",\"2023-07-03T00:00:00\",\"2023-07-04T00:00:00\",\"2023-07-05T00:00:00\",\"2023-07-06T00:00:00\",\"2023-07-07T00:00:00\",\"2023-07-08T00:00:00\",\"2023-07-09T00:00:00\",\"2023-07-10T00:00:00\",\"2023-07-11T00:00:00\",\"2023-07-12T00:00:00\",\"2023-07-13T00:00:00\",\"2023-07-14T00:00:00\",\"2023-07-15T00:00:00\",\"2023-07-16T00:00:00\",\"2023-07-17T00:00:00\",\"2023-07-18T00:00:00\",\"2023-07-19T00:00:00\",\"2023-07-20T00:00:00\",\"2023-07-21T00:00:00\",\"2023-07-22T00:00:00\",\"2023-07-23T00:00:00\",\"2023-07-24T00:00:00\",\"2023-07-25T00:00:00\",\"2023-07-26T00:00:00\",\"2023-07-27T00:00:00\",\"2023-07-28T00:00:00\",\"2023-07-29T00:00:00\",\"2023-07-30T00:00:00\",\"2023-07-31T00:00:00\",\"2023-08-01T00:00:00\",\"2023-08-02T00:00:00\",\"2023-08-03T00:00:00\",\"2023-08-04T00:00:00\",\"2023-08-05T00:00:00\",\"2023-08-06T00:00:00\",\"2023-08-07T00:00:00\",\"2023-08-08T00:00:00\",\"2023-08-09T00:00:00\",\"2023-08-10T00:00:00\",\"2023-08-11T00:00:00\",\"2023-08-12T00:00:00\",\"2023-08-13T00:00:00\",\"2023-08-14T00:00:00\",\"2023-08-15T00:00:00\",\"2023-08-16T00:00:00\",\"2023-08-17T00:00:00\",\"2023-08-18T00:00:00\",\"2023-08-19T00:00:00\",\"2023-08-20T00:00:00\",\"2023-08-21T00:00:00\",\"2023-08-22T00:00:00\",\"2023-08-23T00:00:00\",\"2023-08-24T00:00:00\",\"2023-08-25T00:00:00\",\"2023-08-26T00:00:00\",\"2023-08-27T00:00:00\",\"2023-08-28T00:00:00\",\"2023-08-29T00:00:00\",\"2023-08-30T00:00:00\",\"2023-08-31T00:00:00\",\"2023-09-01T00:00:00\",\"2023-09-02T00:00:00\",\"2023-09-03T00:00:00\",\"2023-09-04T00:00:00\",\"2023-09-05T00:00:00\",\"2023-09-06T00:00:00\",\"2023-09-07T00:00:00\",\"2023-09-08T00:00:00\",\"2023-09-09T00:00:00\",\"2023-09-10T00:00:00\",\"2023-09-11T00:00:00\",\"2023-09-12T00:00:00\",\"2023-09-13T00:00:00\",\"2023-09-14T00:00:00\",\"2023-09-15T00:00:00\",\"2023-09-16T00:00:00\",\"2023-09-17T00:00:00\",\"2023-09-18T00:00:00\",\"2023-09-19T00:00:00\",\"2023-09-20T00:00:00\",\"2023-09-21T00:00:00\",\"2023-09-22T00:00:00\",\"2023-09-23T00:00:00\",\"2023-09-24T00:00:00\",\"2023-09-25T00:00:00\",\"2023-09-26T00:00:00\",\"2023-09-27T00:00:00\",\"2023-09-28T00:00:00\",\"2023-09-29T00:00:00\",\"2023-09-30T00:00:00\",\"2023-10-01T00:00:00\",\"2023-10-02T00:00:00\",\"2023-10-03T00:00:00\",\"2023-10-04T00:00:00\",\"2023-10-05T00:00:00\",\"2023-10-06T00:00:00\",\"2023-10-07T00:00:00\",\"2023-10-08T00:00:00\",\"2023-10-09T00:00:00\",\"2023-10-10T00:00:00\",\"2023-10-11T00:00:00\",\"2023-10-12T00:00:00\",\"2023-10-13T00:00:00\",\"2023-10-14T00:00:00\",\"2023-10-15T00:00:00\",\"2023-10-16T00:00:00\",\"2023-10-17T00:00:00\",\"2023-10-18T00:00:00\",\"2023-10-19T00:00:00\",\"2023-10-20T00:00:00\",\"2023-10-21T00:00:00\",\"2023-10-22T00:00:00\",\"2023-10-23T00:00:00\",\"2023-10-24T00:00:00\",\"2023-10-25T00:00:00\",\"2023-10-26T00:00:00\",\"2023-10-27T00:00:00\",\"2023-10-28T00:00:00\",\"2023-10-29T00:00:00\",\"2023-10-30T00:00:00\",\"2023-10-31T00:00:00\",\"2023-11-01T00:00:00\",\"2023-11-02T00:00:00\",\"2023-11-03T00:00:00\",\"2023-11-04T00:00:00\",\"2023-11-05T00:00:00\",\"2023-11-06T00:00:00\",\"2023-11-07T00:00:00\",\"2023-11-08T00:00:00\",\"2023-11-09T00:00:00\",\"2023-11-10T00:00:00\",\"2023-11-11T00:00:00\",\"2023-11-12T00:00:00\",\"2023-11-13T00:00:00\",\"2023-11-14T00:00:00\",\"2023-11-15T00:00:00\",\"2023-11-16T00:00:00\",\"2023-11-17T00:00:00\",\"2023-11-18T00:00:00\",\"2023-11-19T00:00:00\",\"2023-11-20T00:00:00\",\"2023-11-21T00:00:00\",\"2023-11-22T00:00:00\",\"2023-11-23T00:00:00\",\"2023-11-24T00:00:00\",\"2023-11-25T00:00:00\",\"2023-11-26T00:00:00\"],\"y\":[null,null,null,null,null,null,null,null,null,null,null,null,null,null,null,null,null,null,null,null,null,null,null,null,null,null,null,null,null,null,null,null,null,null,null,null,null,null,null,null,null,null,null,null,null,null,null,null,null,null,null,null,null,null,null,null,null,null,null,null,null,null,null,null,null,null,null,null,null,null,null,null,null,null,null,null,null,null,null,null,null,null,null,null,null,null,null,null,null,null,null,null,null,null,null,null,null,null,null,null,null,null,null,null,null,null,null,null,null,null,null,null,null,null,null,null,null,null,null,null,null,null,null,null,null,null,null,null,null,null,null,null,null,null,null,null,null,null,null,null,null,null,null,null,null,null,null,null,null,null,null,null,null,null,null,null,null,null,null,null,null,null,null,null,null,null,null,null,null,null,null,null,null,null,null,null,null,null,null,null,null,null,null,null,null,null,null,null,null,null,null,null,null,null,null,null,126488576.0,134468976.0,121059016.0,136916384.0,144799552.0,151004880.0,147783232.0],\"type\":\"scatter\",\"xaxis\":\"x3\",\"yaxis\":\"y3\"},{\"fill\":\"toself\",\"fillcolor\":\"#fde725\",\"legendgroup\":\"AutoARIMA_level_80\",\"line\":{\"color\":\"#fde725\",\"width\":1},\"mode\":\"lines\",\"name\":\"AutoARIMA_level_80\",\"opacity\":0.19999999999999996,\"showlegend\":false,\"x\":[\"2023-05-08T00:00:00.000000000\",\"2023-05-09T00:00:00.000000000\",\"2023-05-10T00:00:00.000000000\",\"2023-05-11T00:00:00.000000000\",\"2023-05-12T00:00:00.000000000\",\"2023-05-13T00:00:00.000000000\",\"2023-05-14T00:00:00.000000000\",\"2023-05-15T00:00:00.000000000\",\"2023-05-16T00:00:00.000000000\",\"2023-05-17T00:00:00.000000000\",\"2023-05-18T00:00:00.000000000\",\"2023-05-19T00:00:00.000000000\",\"2023-05-20T00:00:00.000000000\",\"2023-05-21T00:00:00.000000000\",\"2023-05-22T00:00:00.000000000\",\"2023-05-23T00:00:00.000000000\",\"2023-05-24T00:00:00.000000000\",\"2023-05-25T00:00:00.000000000\",\"2023-05-26T00:00:00.000000000\",\"2023-05-27T00:00:00.000000000\",\"2023-05-28T00:00:00.000000000\",\"2023-05-29T00:00:00.000000000\",\"2023-05-30T00:00:00.000000000\",\"2023-05-31T00:00:00.000000000\",\"2023-06-01T00:00:00.000000000\",\"2023-06-02T00:00:00.000000000\",\"2023-06-03T00:00:00.000000000\",\"2023-06-04T00:00:00.000000000\",\"2023-06-05T00:00:00.000000000\",\"2023-06-06T00:00:00.000000000\",\"2023-06-07T00:00:00.000000000\",\"2023-06-08T00:00:00.000000000\",\"2023-06-09T00:00:00.000000000\",\"2023-06-10T00:00:00.000000000\",\"2023-06-11T00:00:00.000000000\",\"2023-06-12T00:00:00.000000000\",\"2023-06-13T00:00:00.000000000\",\"2023-06-14T00:00:00.000000000\",\"2023-06-15T00:00:00.000000000\",\"2023-06-16T00:00:00.000000000\",\"2023-06-17T00:00:00.000000000\",\"2023-06-18T00:00:00.000000000\",\"2023-06-19T00:00:00.000000000\",\"2023-06-20T00:00:00.000000000\",\"2023-06-21T00:00:00.000000000\",\"2023-06-22T00:00:00.000000000\",\"2023-06-23T00:00:00.000000000\",\"2023-06-24T00:00:00.000000000\",\"2023-06-25T00:00:00.000000000\",\"2023-06-26T00:00:00.000000000\",\"2023-06-27T00:00:00.000000000\",\"2023-06-28T00:00:00.000000000\",\"2023-06-29T00:00:00.000000000\",\"2023-06-30T00:00:00.000000000\",\"2023-07-01T00:00:00.000000000\",\"2023-07-02T00:00:00.000000000\",\"2023-07-03T00:00:00.000000000\",\"2023-07-04T00:00:00.000000000\",\"2023-07-05T00:00:00.000000000\",\"2023-07-06T00:00:00.000000000\",\"2023-07-07T00:00:00.000000000\",\"2023-07-08T00:00:00.000000000\",\"2023-07-09T00:00:00.000000000\",\"2023-07-10T00:00:00.000000000\",\"2023-07-11T00:00:00.000000000\",\"2023-07-12T00:00:00.000000000\",\"2023-07-13T00:00:00.000000000\",\"2023-07-14T00:00:00.000000000\",\"2023-07-15T00:00:00.000000000\",\"2023-07-16T00:00:00.000000000\",\"2023-07-17T00:00:00.000000000\",\"2023-07-18T00:00:00.000000000\",\"2023-07-19T00:00:00.000000000\",\"2023-07-20T00:00:00.000000000\",\"2023-07-21T00:00:00.000000000\",\"2023-07-22T00:00:00.000000000\",\"2023-07-23T00:00:00.000000000\",\"2023-07-24T00:00:00.000000000\",\"2023-07-25T00:00:00.000000000\",\"2023-07-26T00:00:00.000000000\",\"2023-07-27T00:00:00.000000000\",\"2023-07-28T00:00:00.000000000\",\"2023-07-29T00:00:00.000000000\",\"2023-07-30T00:00:00.000000000\",\"2023-07-31T00:00:00.000000000\",\"2023-08-01T00:00:00.000000000\",\"2023-08-02T00:00:00.000000000\",\"2023-08-03T00:00:00.000000000\",\"2023-08-04T00:00:00.000000000\",\"2023-08-05T00:00:00.000000000\",\"2023-08-06T00:00:00.000000000\",\"2023-08-07T00:00:00.000000000\",\"2023-08-08T00:00:00.000000000\",\"2023-08-09T00:00:00.000000000\",\"2023-08-10T00:00:00.000000000\",\"2023-08-11T00:00:00.000000000\",\"2023-08-12T00:00:00.000000000\",\"2023-08-13T00:00:00.000000000\",\"2023-08-14T00:00:00.000000000\",\"2023-08-15T00:00:00.000000000\",\"2023-08-16T00:00:00.000000000\",\"2023-08-17T00:00:00.000000000\",\"2023-08-18T00:00:00.000000000\",\"2023-08-19T00:00:00.000000000\",\"2023-08-20T00:00:00.000000000\",\"2023-08-21T00:00:00.000000000\",\"2023-08-22T00:00:00.000000000\",\"2023-08-23T00:00:00.000000000\",\"2023-08-24T00:00:00.000000000\",\"2023-08-25T00:00:00.000000000\",\"2023-08-26T00:00:00.000000000\",\"2023-08-27T00:00:00.000000000\",\"2023-08-28T00:00:00.000000000\",\"2023-08-29T00:00:00.000000000\",\"2023-08-30T00:00:00.000000000\",\"2023-08-31T00:00:00.000000000\",\"2023-09-01T00:00:00.000000000\",\"2023-09-02T00:00:00.000000000\",\"2023-09-03T00:00:00.000000000\",\"2023-09-04T00:00:00.000000000\",\"2023-09-05T00:00:00.000000000\",\"2023-09-06T00:00:00.000000000\",\"2023-09-07T00:00:00.000000000\",\"2023-09-08T00:00:00.000000000\",\"2023-09-09T00:00:00.000000000\",\"2023-09-10T00:00:00.000000000\",\"2023-09-11T00:00:00.000000000\",\"2023-09-12T00:00:00.000000000\",\"2023-09-13T00:00:00.000000000\",\"2023-09-14T00:00:00.000000000\",\"2023-09-15T00:00:00.000000000\",\"2023-09-16T00:00:00.000000000\",\"2023-09-17T00:00:00.000000000\",\"2023-09-18T00:00:00.000000000\",\"2023-09-19T00:00:00.000000000\",\"2023-09-20T00:00:00.000000000\",\"2023-09-21T00:00:00.000000000\",\"2023-09-22T00:00:00.000000000\",\"2023-09-23T00:00:00.000000000\",\"2023-09-24T00:00:00.000000000\",\"2023-09-25T00:00:00.000000000\",\"2023-09-26T00:00:00.000000000\",\"2023-09-27T00:00:00.000000000\",\"2023-09-28T00:00:00.000000000\",\"2023-09-29T00:00:00.000000000\",\"2023-09-30T00:00:00.000000000\",\"2023-10-01T00:00:00.000000000\",\"2023-10-02T00:00:00.000000000\",\"2023-10-03T00:00:00.000000000\",\"2023-10-04T00:00:00.000000000\",\"2023-10-05T00:00:00.000000000\",\"2023-10-06T00:00:00.000000000\",\"2023-10-07T00:00:00.000000000\",\"2023-10-08T00:00:00.000000000\",\"2023-10-09T00:00:00.000000000\",\"2023-10-10T00:00:00.000000000\",\"2023-10-11T00:00:00.000000000\",\"2023-10-12T00:00:00.000000000\",\"2023-10-13T00:00:00.000000000\",\"2023-10-14T00:00:00.000000000\",\"2023-10-15T00:00:00.000000000\",\"2023-10-16T00:00:00.000000000\",\"2023-10-17T00:00:00.000000000\",\"2023-10-18T00:00:00.000000000\",\"2023-10-19T00:00:00.000000000\",\"2023-10-20T00:00:00.000000000\",\"2023-10-21T00:00:00.000000000\",\"2023-10-22T00:00:00.000000000\",\"2023-10-23T00:00:00.000000000\",\"2023-10-24T00:00:00.000000000\",\"2023-10-25T00:00:00.000000000\",\"2023-10-26T00:00:00.000000000\",\"2023-10-27T00:00:00.000000000\",\"2023-10-28T00:00:00.000000000\",\"2023-10-29T00:00:00.000000000\",\"2023-10-30T00:00:00.000000000\",\"2023-10-31T00:00:00.000000000\",\"2023-11-01T00:00:00.000000000\",\"2023-11-02T00:00:00.000000000\",\"2023-11-03T00:00:00.000000000\",\"2023-11-04T00:00:00.000000000\",\"2023-11-05T00:00:00.000000000\",\"2023-11-06T00:00:00.000000000\",\"2023-11-07T00:00:00.000000000\",\"2023-11-08T00:00:00.000000000\",\"2023-11-09T00:00:00.000000000\",\"2023-11-10T00:00:00.000000000\",\"2023-11-11T00:00:00.000000000\",\"2023-11-12T00:00:00.000000000\",\"2023-11-13T00:00:00.000000000\",\"2023-11-14T00:00:00.000000000\",\"2023-11-15T00:00:00.000000000\",\"2023-11-16T00:00:00.000000000\",\"2023-11-17T00:00:00.000000000\",\"2023-11-18T00:00:00.000000000\",\"2023-11-19T00:00:00.000000000\",\"2023-11-20T00:00:00.000000000\",\"2023-11-21T00:00:00.000000000\",\"2023-11-22T00:00:00.000000000\",\"2023-11-23T00:00:00.000000000\",\"2023-11-24T00:00:00.000000000\",\"2023-11-25T00:00:00.000000000\",\"2023-11-26T00:00:00.000000000\",\"2023-11-26T00:00:00.000000000\",\"2023-11-25T00:00:00.000000000\",\"2023-11-24T00:00:00.000000000\",\"2023-11-23T00:00:00.000000000\",\"2023-11-22T00:00:00.000000000\",\"2023-11-21T00:00:00.000000000\",\"2023-11-20T00:00:00.000000000\",\"2023-11-19T00:00:00.000000000\",\"2023-11-18T00:00:00.000000000\",\"2023-11-17T00:00:00.000000000\",\"2023-11-16T00:00:00.000000000\",\"2023-11-15T00:00:00.000000000\",\"2023-11-14T00:00:00.000000000\",\"2023-11-13T00:00:00.000000000\",\"2023-11-12T00:00:00.000000000\",\"2023-11-11T00:00:00.000000000\",\"2023-11-10T00:00:00.000000000\",\"2023-11-09T00:00:00.000000000\",\"2023-11-08T00:00:00.000000000\",\"2023-11-07T00:00:00.000000000\",\"2023-11-06T00:00:00.000000000\",\"2023-11-05T00:00:00.000000000\",\"2023-11-04T00:00:00.000000000\",\"2023-11-03T00:00:00.000000000\",\"2023-11-02T00:00:00.000000000\",\"2023-11-01T00:00:00.000000000\",\"2023-10-31T00:00:00.000000000\",\"2023-10-30T00:00:00.000000000\",\"2023-10-29T00:00:00.000000000\",\"2023-10-28T00:00:00.000000000\",\"2023-10-27T00:00:00.000000000\",\"2023-10-26T00:00:00.000000000\",\"2023-10-25T00:00:00.000000000\",\"2023-10-24T00:00:00.000000000\",\"2023-10-23T00:00:00.000000000\",\"2023-10-22T00:00:00.000000000\",\"2023-10-21T00:00:00.000000000\",\"2023-10-20T00:00:00.000000000\",\"2023-10-19T00:00:00.000000000\",\"2023-10-18T00:00:00.000000000\",\"2023-10-17T00:00:00.000000000\",\"2023-10-16T00:00:00.000000000\",\"2023-10-15T00:00:00.000000000\",\"2023-10-14T00:00:00.000000000\",\"2023-10-13T00:00:00.000000000\",\"2023-10-12T00:00:00.000000000\",\"2023-10-11T00:00:00.000000000\",\"2023-10-10T00:00:00.000000000\",\"2023-10-09T00:00:00.000000000\",\"2023-10-08T00:00:00.000000000\",\"2023-10-07T00:00:00.000000000\",\"2023-10-06T00:00:00.000000000\",\"2023-10-05T00:00:00.000000000\",\"2023-10-04T00:00:00.000000000\",\"2023-10-03T00:00:00.000000000\",\"2023-10-02T00:00:00.000000000\",\"2023-10-01T00:00:00.000000000\",\"2023-09-30T00:00:00.000000000\",\"2023-09-29T00:00:00.000000000\",\"2023-09-28T00:00:00.000000000\",\"2023-09-27T00:00:00.000000000\",\"2023-09-26T00:00:00.000000000\",\"2023-09-25T00:00:00.000000000\",\"2023-09-24T00:00:00.000000000\",\"2023-09-23T00:00:00.000000000\",\"2023-09-22T00:00:00.000000000\",\"2023-09-21T00:00:00.000000000\",\"2023-09-20T00:00:00.000000000\",\"2023-09-19T00:00:00.000000000\",\"2023-09-18T00:00:00.000000000\",\"2023-09-17T00:00:00.000000000\",\"2023-09-16T00:00:00.000000000\",\"2023-09-15T00:00:00.000000000\",\"2023-09-14T00:00:00.000000000\",\"2023-09-13T00:00:00.000000000\",\"2023-09-12T00:00:00.000000000\",\"2023-09-11T00:00:00.000000000\",\"2023-09-10T00:00:00.000000000\",\"2023-09-09T00:00:00.000000000\",\"2023-09-08T00:00:00.000000000\",\"2023-09-07T00:00:00.000000000\",\"2023-09-06T00:00:00.000000000\",\"2023-09-05T00:00:00.000000000\",\"2023-09-04T00:00:00.000000000\",\"2023-09-03T00:00:00.000000000\",\"2023-09-02T00:00:00.000000000\",\"2023-09-01T00:00:00.000000000\",\"2023-08-31T00:00:00.000000000\",\"2023-08-30T00:00:00.000000000\",\"2023-08-29T00:00:00.000000000\",\"2023-08-28T00:00:00.000000000\",\"2023-08-27T00:00:00.000000000\",\"2023-08-26T00:00:00.000000000\",\"2023-08-25T00:00:00.000000000\",\"2023-08-24T00:00:00.000000000\",\"2023-08-23T00:00:00.000000000\",\"2023-08-22T00:00:00.000000000\",\"2023-08-21T00:00:00.000000000\",\"2023-08-20T00:00:00.000000000\",\"2023-08-19T00:00:00.000000000\",\"2023-08-18T00:00:00.000000000\",\"2023-08-17T00:00:00.000000000\",\"2023-08-16T00:00:00.000000000\",\"2023-08-15T00:00:00.000000000\",\"2023-08-14T00:00:00.000000000\",\"2023-08-13T00:00:00.000000000\",\"2023-08-12T00:00:00.000000000\",\"2023-08-11T00:00:00.000000000\",\"2023-08-10T00:00:00.000000000\",\"2023-08-09T00:00:00.000000000\",\"2023-08-08T00:00:00.000000000\",\"2023-08-07T00:00:00.000000000\",\"2023-08-06T00:00:00.000000000\",\"2023-08-05T00:00:00.000000000\",\"2023-08-04T00:00:00.000000000\",\"2023-08-03T00:00:00.000000000\",\"2023-08-02T00:00:00.000000000\",\"2023-08-01T00:00:00.000000000\",\"2023-07-31T00:00:00.000000000\",\"2023-07-30T00:00:00.000000000\",\"2023-07-29T00:00:00.000000000\",\"2023-07-28T00:00:00.000000000\",\"2023-07-27T00:00:00.000000000\",\"2023-07-26T00:00:00.000000000\",\"2023-07-25T00:00:00.000000000\",\"2023-07-24T00:00:00.000000000\",\"2023-07-23T00:00:00.000000000\",\"2023-07-22T00:00:00.000000000\",\"2023-07-21T00:00:00.000000000\",\"2023-07-20T00:00:00.000000000\",\"2023-07-19T00:00:00.000000000\",\"2023-07-18T00:00:00.000000000\",\"2023-07-17T00:00:00.000000000\",\"2023-07-16T00:00:00.000000000\",\"2023-07-15T00:00:00.000000000\",\"2023-07-14T00:00:00.000000000\",\"2023-07-13T00:00:00.000000000\",\"2023-07-12T00:00:00.000000000\",\"2023-07-11T00:00:00.000000000\",\"2023-07-10T00:00:00.000000000\",\"2023-07-09T00:00:00.000000000\",\"2023-07-08T00:00:00.000000000\",\"2023-07-07T00:00:00.000000000\",\"2023-07-06T00:00:00.000000000\",\"2023-07-05T00:00:00.000000000\",\"2023-07-04T00:00:00.000000000\",\"2023-07-03T00:00:00.000000000\",\"2023-07-02T00:00:00.000000000\",\"2023-07-01T00:00:00.000000000\",\"2023-06-30T00:00:00.000000000\",\"2023-06-29T00:00:00.000000000\",\"2023-06-28T00:00:00.000000000\",\"2023-06-27T00:00:00.000000000\",\"2023-06-26T00:00:00.000000000\",\"2023-06-25T00:00:00.000000000\",\"2023-06-24T00:00:00.000000000\",\"2023-06-23T00:00:00.000000000\",\"2023-06-22T00:00:00.000000000\",\"2023-06-21T00:00:00.000000000\",\"2023-06-20T00:00:00.000000000\",\"2023-06-19T00:00:00.000000000\",\"2023-06-18T00:00:00.000000000\",\"2023-06-17T00:00:00.000000000\",\"2023-06-16T00:00:00.000000000\",\"2023-06-15T00:00:00.000000000\",\"2023-06-14T00:00:00.000000000\",\"2023-06-13T00:00:00.000000000\",\"2023-06-12T00:00:00.000000000\",\"2023-06-11T00:00:00.000000000\",\"2023-06-10T00:00:00.000000000\",\"2023-06-09T00:00:00.000000000\",\"2023-06-08T00:00:00.000000000\",\"2023-06-07T00:00:00.000000000\",\"2023-06-06T00:00:00.000000000\",\"2023-06-05T00:00:00.000000000\",\"2023-06-04T00:00:00.000000000\",\"2023-06-03T00:00:00.000000000\",\"2023-06-02T00:00:00.000000000\",\"2023-06-01T00:00:00.000000000\",\"2023-05-31T00:00:00.000000000\",\"2023-05-30T00:00:00.000000000\",\"2023-05-29T00:00:00.000000000\",\"2023-05-28T00:00:00.000000000\",\"2023-05-27T00:00:00.000000000\",\"2023-05-26T00:00:00.000000000\",\"2023-05-25T00:00:00.000000000\",\"2023-05-24T00:00:00.000000000\",\"2023-05-23T00:00:00.000000000\",\"2023-05-22T00:00:00.000000000\",\"2023-05-21T00:00:00.000000000\",\"2023-05-20T00:00:00.000000000\",\"2023-05-19T00:00:00.000000000\",\"2023-05-18T00:00:00.000000000\",\"2023-05-17T00:00:00.000000000\",\"2023-05-16T00:00:00.000000000\",\"2023-05-15T00:00:00.000000000\",\"2023-05-14T00:00:00.000000000\",\"2023-05-13T00:00:00.000000000\",\"2023-05-12T00:00:00.000000000\",\"2023-05-11T00:00:00.000000000\",\"2023-05-10T00:00:00.000000000\",\"2023-05-09T00:00:00.000000000\",\"2023-05-08T00:00:00.000000000\"],\"y\":[null,null,null,null,null,null,null,null,null,null,null,null,null,null,null,null,null,null,null,null,null,null,null,null,null,null,null,null,null,null,null,null,null,null,null,null,null,null,null,null,null,null,null,null,null,null,null,null,null,null,null,null,null,null,null,null,null,null,null,null,null,null,null,null,null,null,null,null,null,null,null,null,null,null,null,null,null,null,null,null,null,null,null,null,null,null,null,null,null,null,null,null,null,null,null,null,null,null,null,null,null,null,null,null,null,null,null,null,null,null,null,null,null,null,null,null,null,null,null,null,null,null,null,null,null,null,null,null,null,null,null,null,null,null,null,null,null,null,null,null,null,null,null,null,null,null,null,null,null,null,null,null,null,null,null,null,null,null,null,null,null,null,null,null,null,null,null,null,null,null,null,null,null,null,null,null,null,null,null,null,null,null,null,null,null,null,null,null,null,null,null,null,null,null,null,null,175816688.0,156480240.0,138018720.0,159879536.0,169576480.0,170331616.0,171164192.0,124402264.0,131678144.0,120022624.0,113953224.0,104099320.0,112457728.0,77160456.0,null,null,null,null,null,null,null,null,null,null,null,null,null,null,null,null,null,null,null,null,null,null,null,null,null,null,null,null,null,null,null,null,null,null,null,null,null,null,null,null,null,null,null,null,null,null,null,null,null,null,null,null,null,null,null,null,null,null,null,null,null,null,null,null,null,null,null,null,null,null,null,null,null,null,null,null,null,null,null,null,null,null,null,null,null,null,null,null,null,null,null,null,null,null,null,null,null,null,null,null,null,null,null,null,null,null,null,null,null,null,null,null,null,null,null,null,null,null,null,null,null,null,null,null,null,null,null,null,null,null,null,null,null,null,null,null,null,null,null,null,null,null,null,null,null,null,null,null,null,null,null,null,null,null,null,null,null,null,null,null,null,null,null,null,null,null,null,null,null,null,null,null,null,null,null,null,null,null,null,null,null,null,null,null,null,null,null,null,null,null,null,null,null,null,null,null],\"type\":\"scatter\",\"xaxis\":\"x3\",\"yaxis\":\"y3\"},{\"legendgroup\":\"y\",\"line\":{\"color\":\"#440154\",\"width\":1},\"mode\":\"lines\",\"name\":\"y\",\"showlegend\":false,\"x\":[\"2023-05-08T00:00:00\",\"2023-05-09T00:00:00\",\"2023-05-10T00:00:00\",\"2023-05-11T00:00:00\",\"2023-05-12T00:00:00\",\"2023-05-13T00:00:00\",\"2023-05-14T00:00:00\",\"2023-05-15T00:00:00\",\"2023-05-16T00:00:00\",\"2023-05-17T00:00:00\",\"2023-05-18T00:00:00\",\"2023-05-19T00:00:00\",\"2023-05-20T00:00:00\",\"2023-05-21T00:00:00\",\"2023-05-22T00:00:00\",\"2023-05-23T00:00:00\",\"2023-05-24T00:00:00\",\"2023-05-25T00:00:00\",\"2023-05-26T00:00:00\",\"2023-05-27T00:00:00\",\"2023-05-28T00:00:00\",\"2023-05-29T00:00:00\",\"2023-05-30T00:00:00\",\"2023-05-31T00:00:00\",\"2023-06-01T00:00:00\",\"2023-06-02T00:00:00\",\"2023-06-03T00:00:00\",\"2023-06-04T00:00:00\",\"2023-06-05T00:00:00\",\"2023-06-06T00:00:00\",\"2023-06-07T00:00:00\",\"2023-06-08T00:00:00\",\"2023-06-09T00:00:00\",\"2023-06-10T00:00:00\",\"2023-06-11T00:00:00\",\"2023-06-12T00:00:00\",\"2023-06-13T00:00:00\",\"2023-06-14T00:00:00\",\"2023-06-15T00:00:00\",\"2023-06-16T00:00:00\",\"2023-06-17T00:00:00\",\"2023-06-18T00:00:00\",\"2023-06-19T00:00:00\",\"2023-06-20T00:00:00\",\"2023-06-21T00:00:00\",\"2023-06-22T00:00:00\",\"2023-06-23T00:00:00\",\"2023-06-24T00:00:00\",\"2023-06-25T00:00:00\",\"2023-06-26T00:00:00\",\"2023-06-27T00:00:00\",\"2023-06-28T00:00:00\",\"2023-06-29T00:00:00\",\"2023-06-30T00:00:00\",\"2023-07-01T00:00:00\",\"2023-07-02T00:00:00\",\"2023-07-03T00:00:00\",\"2023-07-04T00:00:00\",\"2023-07-05T00:00:00\",\"2023-07-06T00:00:00\",\"2023-07-07T00:00:00\",\"2023-07-08T00:00:00\",\"2023-07-09T00:00:00\",\"2023-07-10T00:00:00\",\"2023-07-11T00:00:00\",\"2023-07-12T00:00:00\",\"2023-07-13T00:00:00\",\"2023-07-14T00:00:00\",\"2023-07-15T00:00:00\",\"2023-07-16T00:00:00\",\"2023-07-17T00:00:00\",\"2023-07-18T00:00:00\",\"2023-07-19T00:00:00\",\"2023-07-20T00:00:00\",\"2023-07-21T00:00:00\",\"2023-07-22T00:00:00\",\"2023-07-23T00:00:00\",\"2023-07-24T00:00:00\",\"2023-07-25T00:00:00\",\"2023-07-26T00:00:00\",\"2023-07-27T00:00:00\",\"2023-07-28T00:00:00\",\"2023-07-29T00:00:00\",\"2023-07-30T00:00:00\",\"2023-07-31T00:00:00\",\"2023-08-01T00:00:00\",\"2023-08-02T00:00:00\",\"2023-08-03T00:00:00\",\"2023-08-04T00:00:00\",\"2023-08-05T00:00:00\",\"2023-08-06T00:00:00\",\"2023-08-07T00:00:00\",\"2023-08-08T00:00:00\",\"2023-08-09T00:00:00\",\"2023-08-10T00:00:00\",\"2023-08-11T00:00:00\",\"2023-08-12T00:00:00\",\"2023-08-13T00:00:00\",\"2023-08-14T00:00:00\",\"2023-08-15T00:00:00\",\"2023-08-16T00:00:00\",\"2023-08-17T00:00:00\",\"2023-08-18T00:00:00\",\"2023-08-19T00:00:00\",\"2023-08-20T00:00:00\",\"2023-08-21T00:00:00\",\"2023-08-22T00:00:00\",\"2023-08-23T00:00:00\",\"2023-08-24T00:00:00\",\"2023-08-25T00:00:00\",\"2023-08-26T00:00:00\",\"2023-08-27T00:00:00\",\"2023-08-28T00:00:00\",\"2023-08-29T00:00:00\",\"2023-08-30T00:00:00\",\"2023-08-31T00:00:00\",\"2023-09-01T00:00:00\",\"2023-09-02T00:00:00\",\"2023-09-03T00:00:00\",\"2023-09-04T00:00:00\",\"2023-09-05T00:00:00\",\"2023-09-06T00:00:00\",\"2023-09-07T00:00:00\",\"2023-09-08T00:00:00\",\"2023-09-09T00:00:00\",\"2023-09-10T00:00:00\",\"2023-09-11T00:00:00\",\"2023-09-12T00:00:00\",\"2023-09-13T00:00:00\",\"2023-09-14T00:00:00\",\"2023-09-15T00:00:00\",\"2023-09-16T00:00:00\",\"2023-09-17T00:00:00\",\"2023-09-18T00:00:00\",\"2023-09-19T00:00:00\",\"2023-09-20T00:00:00\",\"2023-09-21T00:00:00\",\"2023-09-22T00:00:00\",\"2023-09-23T00:00:00\",\"2023-09-24T00:00:00\",\"2023-09-25T00:00:00\",\"2023-09-26T00:00:00\",\"2023-09-27T00:00:00\",\"2023-09-28T00:00:00\",\"2023-09-29T00:00:00\",\"2023-09-30T00:00:00\",\"2023-10-01T00:00:00\",\"2023-10-02T00:00:00\",\"2023-10-03T00:00:00\",\"2023-10-04T00:00:00\",\"2023-10-05T00:00:00\",\"2023-10-06T00:00:00\",\"2023-10-07T00:00:00\",\"2023-10-08T00:00:00\",\"2023-10-09T00:00:00\",\"2023-10-10T00:00:00\",\"2023-10-11T00:00:00\",\"2023-10-12T00:00:00\",\"2023-10-13T00:00:00\",\"2023-10-14T00:00:00\",\"2023-10-15T00:00:00\",\"2023-10-16T00:00:00\",\"2023-10-17T00:00:00\",\"2023-10-18T00:00:00\",\"2023-10-19T00:00:00\",\"2023-10-20T00:00:00\",\"2023-10-21T00:00:00\",\"2023-10-22T00:00:00\",\"2023-10-23T00:00:00\",\"2023-10-24T00:00:00\",\"2023-10-25T00:00:00\",\"2023-10-26T00:00:00\",\"2023-10-27T00:00:00\",\"2023-10-28T00:00:00\",\"2023-10-29T00:00:00\",\"2023-10-30T00:00:00\",\"2023-10-31T00:00:00\",\"2023-11-01T00:00:00\",\"2023-11-02T00:00:00\",\"2023-11-03T00:00:00\",\"2023-11-04T00:00:00\",\"2023-11-05T00:00:00\",\"2023-11-06T00:00:00\",\"2023-11-07T00:00:00\",\"2023-11-08T00:00:00\",\"2023-11-09T00:00:00\",\"2023-11-10T00:00:00\",\"2023-11-11T00:00:00\",\"2023-11-12T00:00:00\",\"2023-11-13T00:00:00\",\"2023-11-14T00:00:00\",\"2023-11-15T00:00:00\",\"2023-11-16T00:00:00\",\"2023-11-17T00:00:00\",\"2023-11-18T00:00:00\",\"2023-11-19T00:00:00\",\"2023-11-20T00:00:00\",\"2023-11-21T00:00:00\",\"2023-11-22T00:00:00\",\"2023-11-23T00:00:00\",\"2023-11-24T00:00:00\",\"2023-11-25T00:00:00\",\"2023-11-26T00:00:00\"],\"y\":[246406625.0,39745492.666666664,24842991.333333332,84454643.33333333,48977193.333333336,49597740.0,44454330.0,106288185.0,77633116.66666667,20453810.0,68953736.66666667,27681755.0,11207945.0,16609981.333333334,25377960.0,34908097.0,69035916.0,68332701.0,134648798.66666666,90832922.33333333,27642080.333333332,16757431.666666666,35657871.0,33369588.333333332,51652284.666666664,9231666.666666666,55273624.333333336,72453910.0,287175799.0,185312106.33333334,55855038.666666664,7557225.0,22190357.0,79878286.0,90727200.0,61649459.333333336,27756924.666666668,29334011.333333332,61233087.333333336,87901724.66666667,25188055.333333332,24247202.0,28020613.0,69247477.33333333,17333610.0,9511356.0,15893291.0,11303191.0,10220278.333333334,56129504.0,35936102.666666664,13139155.0,5328603.666666667,44445370.0,11124841.0,30576003.333333332,65824972.666666664,28157215.0,86816004.0,125303352.0,146549804.0,75949824.66666667,115206237.33333333,62152460.333333336,137593397.0,121362833.0,130856709.66666667,99007723.33333333,112812238.66666667,120984207.33333333,114921197.33333333,106323762.66666667,97217247.66666667,105978085.66666667,90355275.66666667,100314156.33333333,104353585.0,30625655.0,7688938.333333333,27903460.0,60415906.666666664,13635668.333333334,7639906.0,23741364.333333332,32594842.0,23078300.333333332,11639980.0,6268237.0,9342414.333333334,38088.333333333336,16100798.333333334,2661410.6666666665,2033930.3333333333,155623.33333333334,83700.0,97823.33333333333,45218.333333333336,6642048.333333333,8285823.333333333,8520189.666666666,10314204.0,8435973.333333334,7586183.333333333,7215035.0,7593428.333333333,11193733.333333334,5016063.333333333,369593.3333333333,1598670.0,18288736.666666668,22159641.666666668,15474596.666666666,3866580.0,135870.0,16660.0,154260.0,2182475.0,24533.333333333332,1372999.9999999998,2721466.6666666665,177275.0,3440302.0,1376755.0,811817.6666666666,24533.333333333332,539615.3333333334,7908621.0,5727806.666666667,204700.0,187508.33333333334,312173.3333333333,155041.66666666666,100791.66666666667,527170.0,3933905.0,854310.0,643284.3333333334,2052036.0,5501405.0,3591453.3333333335,476530.3333333333,157792.0,334191.6666666667,3536076.6666666665,1483930.0,731958.3333333334,24583.333333333332,2099516.6666666665,7383458.333333333,15666242.666666666,21033892.666666668,10345142.333333334,763236.0,247941.66666666666,8027160.0,34453132.0,417306.0,288853.6666666667,1881371.3333333333,1248008.3333333333,4989293.333333333,11449114.0,4451750.0,5163510.333333333,6833493.666666667,8586282.666666666,6187511.0,13722500.666666666,4649295.666666667,1585336.0,439357.6666666667,416631.6666666667,36845.0,445967.3333333333,134521.66666666666,1304779.6666666667,4781715.0,919086.6666666666,5559703.666666667,18116101.666666668,2997125.0,5567926.0,11176108.333333334,28575063.333333332,4679001.333333333,276631.6666666667,918405.0,445438.3333333333,61600.0,2155202.0,7551736.666666667,5585344.666666667,9327349.666666666,11142837.666666666,10858975.666666666,12228512.0,3042190.6666666665,565263.3333333334,9747744.666666666,6754781.333333333,16406336.0,789731.0,1268702.0],\"type\":\"scatter\",\"xaxis\":\"x4\",\"yaxis\":\"y4\"},{\"legendgroup\":\"AutoARIMA\",\"line\":{\"color\":\"#fde725\",\"width\":1},\"mode\":\"lines\",\"name\":\"AutoARIMA\",\"showlegend\":false,\"x\":[\"2023-05-08T00:00:00\",\"2023-05-09T00:00:00\",\"2023-05-10T00:00:00\",\"2023-05-11T00:00:00\",\"2023-05-12T00:00:00\",\"2023-05-13T00:00:00\",\"2023-05-14T00:00:00\",\"2023-05-15T00:00:00\",\"2023-05-16T00:00:00\",\"2023-05-17T00:00:00\",\"2023-05-18T00:00:00\",\"2023-05-19T00:00:00\",\"2023-05-20T00:00:00\",\"2023-05-21T00:00:00\",\"2023-05-22T00:00:00\",\"2023-05-23T00:00:00\",\"2023-05-24T00:00:00\",\"2023-05-25T00:00:00\",\"2023-05-26T00:00:00\",\"2023-05-27T00:00:00\",\"2023-05-28T00:00:00\",\"2023-05-29T00:00:00\",\"2023-05-30T00:00:00\",\"2023-05-31T00:00:00\",\"2023-06-01T00:00:00\",\"2023-06-02T00:00:00\",\"2023-06-03T00:00:00\",\"2023-06-04T00:00:00\",\"2023-06-05T00:00:00\",\"2023-06-06T00:00:00\",\"2023-06-07T00:00:00\",\"2023-06-08T00:00:00\",\"2023-06-09T00:00:00\",\"2023-06-10T00:00:00\",\"2023-06-11T00:00:00\",\"2023-06-12T00:00:00\",\"2023-06-13T00:00:00\",\"2023-06-14T00:00:00\",\"2023-06-15T00:00:00\",\"2023-06-16T00:00:00\",\"2023-06-17T00:00:00\",\"2023-06-18T00:00:00\",\"2023-06-19T00:00:00\",\"2023-06-20T00:00:00\",\"2023-06-21T00:00:00\",\"2023-06-22T00:00:00\",\"2023-06-23T00:00:00\",\"2023-06-24T00:00:00\",\"2023-06-25T00:00:00\",\"2023-06-26T00:00:00\",\"2023-06-27T00:00:00\",\"2023-06-28T00:00:00\",\"2023-06-29T00:00:00\",\"2023-06-30T00:00:00\",\"2023-07-01T00:00:00\",\"2023-07-02T00:00:00\",\"2023-07-03T00:00:00\",\"2023-07-04T00:00:00\",\"2023-07-05T00:00:00\",\"2023-07-06T00:00:00\",\"2023-07-07T00:00:00\",\"2023-07-08T00:00:00\",\"2023-07-09T00:00:00\",\"2023-07-10T00:00:00\",\"2023-07-11T00:00:00\",\"2023-07-12T00:00:00\",\"2023-07-13T00:00:00\",\"2023-07-14T00:00:00\",\"2023-07-15T00:00:00\",\"2023-07-16T00:00:00\",\"2023-07-17T00:00:00\",\"2023-07-18T00:00:00\",\"2023-07-19T00:00:00\",\"2023-07-20T00:00:00\",\"2023-07-21T00:00:00\",\"2023-07-22T00:00:00\",\"2023-07-23T00:00:00\",\"2023-07-24T00:00:00\",\"2023-07-25T00:00:00\",\"2023-07-26T00:00:00\",\"2023-07-27T00:00:00\",\"2023-07-28T00:00:00\",\"2023-07-29T00:00:00\",\"2023-07-30T00:00:00\",\"2023-07-31T00:00:00\",\"2023-08-01T00:00:00\",\"2023-08-02T00:00:00\",\"2023-08-03T00:00:00\",\"2023-08-04T00:00:00\",\"2023-08-05T00:00:00\",\"2023-08-06T00:00:00\",\"2023-08-07T00:00:00\",\"2023-08-08T00:00:00\",\"2023-08-09T00:00:00\",\"2023-08-10T00:00:00\",\"2023-08-11T00:00:00\",\"2023-08-12T00:00:00\",\"2023-08-13T00:00:00\",\"2023-08-14T00:00:00\",\"2023-08-15T00:00:00\",\"2023-08-16T00:00:00\",\"2023-08-17T00:00:00\",\"2023-08-18T00:00:00\",\"2023-08-19T00:00:00\",\"2023-08-20T00:00:00\",\"2023-08-21T00:00:00\",\"2023-08-22T00:00:00\",\"2023-08-23T00:00:00\",\"2023-08-24T00:00:00\",\"2023-08-25T00:00:00\",\"2023-08-26T00:00:00\",\"2023-08-27T00:00:00\",\"2023-08-28T00:00:00\",\"2023-08-29T00:00:00\",\"2023-08-30T00:00:00\",\"2023-08-31T00:00:00\",\"2023-09-01T00:00:00\",\"2023-09-02T00:00:00\",\"2023-09-03T00:00:00\",\"2023-09-04T00:00:00\",\"2023-09-05T00:00:00\",\"2023-09-06T00:00:00\",\"2023-09-07T00:00:00\",\"2023-09-08T00:00:00\",\"2023-09-09T00:00:00\",\"2023-09-10T00:00:00\",\"2023-09-11T00:00:00\",\"2023-09-12T00:00:00\",\"2023-09-13T00:00:00\",\"2023-09-14T00:00:00\",\"2023-09-15T00:00:00\",\"2023-09-16T00:00:00\",\"2023-09-17T00:00:00\",\"2023-09-18T00:00:00\",\"2023-09-19T00:00:00\",\"2023-09-20T00:00:00\",\"2023-09-21T00:00:00\",\"2023-09-22T00:00:00\",\"2023-09-23T00:00:00\",\"2023-09-24T00:00:00\",\"2023-09-25T00:00:00\",\"2023-09-26T00:00:00\",\"2023-09-27T00:00:00\",\"2023-09-28T00:00:00\",\"2023-09-29T00:00:00\",\"2023-09-30T00:00:00\",\"2023-10-01T00:00:00\",\"2023-10-02T00:00:00\",\"2023-10-03T00:00:00\",\"2023-10-04T00:00:00\",\"2023-10-05T00:00:00\",\"2023-10-06T00:00:00\",\"2023-10-07T00:00:00\",\"2023-10-08T00:00:00\",\"2023-10-09T00:00:00\",\"2023-10-10T00:00:00\",\"2023-10-11T00:00:00\",\"2023-10-12T00:00:00\",\"2023-10-13T00:00:00\",\"2023-10-14T00:00:00\",\"2023-10-15T00:00:00\",\"2023-10-16T00:00:00\",\"2023-10-17T00:00:00\",\"2023-10-18T00:00:00\",\"2023-10-19T00:00:00\",\"2023-10-20T00:00:00\",\"2023-10-21T00:00:00\",\"2023-10-22T00:00:00\",\"2023-10-23T00:00:00\",\"2023-10-24T00:00:00\",\"2023-10-25T00:00:00\",\"2023-10-26T00:00:00\",\"2023-10-27T00:00:00\",\"2023-10-28T00:00:00\",\"2023-10-29T00:00:00\",\"2023-10-30T00:00:00\",\"2023-10-31T00:00:00\",\"2023-11-01T00:00:00\",\"2023-11-02T00:00:00\",\"2023-11-03T00:00:00\",\"2023-11-04T00:00:00\",\"2023-11-05T00:00:00\",\"2023-11-06T00:00:00\",\"2023-11-07T00:00:00\",\"2023-11-08T00:00:00\",\"2023-11-09T00:00:00\",\"2023-11-10T00:00:00\",\"2023-11-11T00:00:00\",\"2023-11-12T00:00:00\",\"2023-11-13T00:00:00\",\"2023-11-14T00:00:00\",\"2023-11-15T00:00:00\",\"2023-11-16T00:00:00\",\"2023-11-17T00:00:00\",\"2023-11-18T00:00:00\",\"2023-11-19T00:00:00\",\"2023-11-20T00:00:00\",\"2023-11-21T00:00:00\",\"2023-11-22T00:00:00\",\"2023-11-23T00:00:00\",\"2023-11-24T00:00:00\",\"2023-11-25T00:00:00\",\"2023-11-26T00:00:00\"],\"y\":[null,null,null,null,null,null,null,null,null,null,null,null,null,null,null,null,null,null,null,null,null,null,null,null,null,null,null,null,null,null,null,null,null,null,null,null,null,null,null,null,null,null,null,null,null,null,null,null,null,null,null,null,null,null,null,null,null,null,null,null,null,null,null,null,null,null,null,null,null,null,null,null,null,null,null,null,null,null,null,null,null,null,null,null,null,null,null,null,null,null,null,null,null,null,null,null,null,null,null,null,null,null,null,null,null,null,null,null,null,null,null,null,null,null,null,null,null,null,null,null,null,null,null,null,null,null,null,null,null,null,null,null,null,null,null,null,null,null,null,null,null,null,null,null,null,null,null,null,null,null,null,null,null,null,null,null,null,null,null,null,null,null,null,null,null,null,null,null,null,null,null,null,null,null,null,null,null,null,null,null,null,null,null,null,null,null,null,null,null,null,null,null,null,null,null,null,18024834.0,-32633464.0,-33853208.0,-8432381.0,-24728736.0,-17722630.0,-9323099.0],\"type\":\"scatter\",\"xaxis\":\"x4\",\"yaxis\":\"y4\"},{\"fill\":\"toself\",\"fillcolor\":\"#fde725\",\"legendgroup\":\"AutoARIMA_level_80\",\"line\":{\"color\":\"#fde725\",\"width\":1},\"mode\":\"lines\",\"name\":\"AutoARIMA_level_80\",\"opacity\":0.19999999999999996,\"showlegend\":false,\"x\":[\"2023-05-08T00:00:00.000000000\",\"2023-05-09T00:00:00.000000000\",\"2023-05-10T00:00:00.000000000\",\"2023-05-11T00:00:00.000000000\",\"2023-05-12T00:00:00.000000000\",\"2023-05-13T00:00:00.000000000\",\"2023-05-14T00:00:00.000000000\",\"2023-05-15T00:00:00.000000000\",\"2023-05-16T00:00:00.000000000\",\"2023-05-17T00:00:00.000000000\",\"2023-05-18T00:00:00.000000000\",\"2023-05-19T00:00:00.000000000\",\"2023-05-20T00:00:00.000000000\",\"2023-05-21T00:00:00.000000000\",\"2023-05-22T00:00:00.000000000\",\"2023-05-23T00:00:00.000000000\",\"2023-05-24T00:00:00.000000000\",\"2023-05-25T00:00:00.000000000\",\"2023-05-26T00:00:00.000000000\",\"2023-05-27T00:00:00.000000000\",\"2023-05-28T00:00:00.000000000\",\"2023-05-29T00:00:00.000000000\",\"2023-05-30T00:00:00.000000000\",\"2023-05-31T00:00:00.000000000\",\"2023-06-01T00:00:00.000000000\",\"2023-06-02T00:00:00.000000000\",\"2023-06-03T00:00:00.000000000\",\"2023-06-04T00:00:00.000000000\",\"2023-06-05T00:00:00.000000000\",\"2023-06-06T00:00:00.000000000\",\"2023-06-07T00:00:00.000000000\",\"2023-06-08T00:00:00.000000000\",\"2023-06-09T00:00:00.000000000\",\"2023-06-10T00:00:00.000000000\",\"2023-06-11T00:00:00.000000000\",\"2023-06-12T00:00:00.000000000\",\"2023-06-13T00:00:00.000000000\",\"2023-06-14T00:00:00.000000000\",\"2023-06-15T00:00:00.000000000\",\"2023-06-16T00:00:00.000000000\",\"2023-06-17T00:00:00.000000000\",\"2023-06-18T00:00:00.000000000\",\"2023-06-19T00:00:00.000000000\",\"2023-06-20T00:00:00.000000000\",\"2023-06-21T00:00:00.000000000\",\"2023-06-22T00:00:00.000000000\",\"2023-06-23T00:00:00.000000000\",\"2023-06-24T00:00:00.000000000\",\"2023-06-25T00:00:00.000000000\",\"2023-06-26T00:00:00.000000000\",\"2023-06-27T00:00:00.000000000\",\"2023-06-28T00:00:00.000000000\",\"2023-06-29T00:00:00.000000000\",\"2023-06-30T00:00:00.000000000\",\"2023-07-01T00:00:00.000000000\",\"2023-07-02T00:00:00.000000000\",\"2023-07-03T00:00:00.000000000\",\"2023-07-04T00:00:00.000000000\",\"2023-07-05T00:00:00.000000000\",\"2023-07-06T00:00:00.000000000\",\"2023-07-07T00:00:00.000000000\",\"2023-07-08T00:00:00.000000000\",\"2023-07-09T00:00:00.000000000\",\"2023-07-10T00:00:00.000000000\",\"2023-07-11T00:00:00.000000000\",\"2023-07-12T00:00:00.000000000\",\"2023-07-13T00:00:00.000000000\",\"2023-07-14T00:00:00.000000000\",\"2023-07-15T00:00:00.000000000\",\"2023-07-16T00:00:00.000000000\",\"2023-07-17T00:00:00.000000000\",\"2023-07-18T00:00:00.000000000\",\"2023-07-19T00:00:00.000000000\",\"2023-07-20T00:00:00.000000000\",\"2023-07-21T00:00:00.000000000\",\"2023-07-22T00:00:00.000000000\",\"2023-07-23T00:00:00.000000000\",\"2023-07-24T00:00:00.000000000\",\"2023-07-25T00:00:00.000000000\",\"2023-07-26T00:00:00.000000000\",\"2023-07-27T00:00:00.000000000\",\"2023-07-28T00:00:00.000000000\",\"2023-07-29T00:00:00.000000000\",\"2023-07-30T00:00:00.000000000\",\"2023-07-31T00:00:00.000000000\",\"2023-08-01T00:00:00.000000000\",\"2023-08-02T00:00:00.000000000\",\"2023-08-03T00:00:00.000000000\",\"2023-08-04T00:00:00.000000000\",\"2023-08-05T00:00:00.000000000\",\"2023-08-06T00:00:00.000000000\",\"2023-08-07T00:00:00.000000000\",\"2023-08-08T00:00:00.000000000\",\"2023-08-09T00:00:00.000000000\",\"2023-08-10T00:00:00.000000000\",\"2023-08-11T00:00:00.000000000\",\"2023-08-12T00:00:00.000000000\",\"2023-08-13T00:00:00.000000000\",\"2023-08-14T00:00:00.000000000\",\"2023-08-15T00:00:00.000000000\",\"2023-08-16T00:00:00.000000000\",\"2023-08-17T00:00:00.000000000\",\"2023-08-18T00:00:00.000000000\",\"2023-08-19T00:00:00.000000000\",\"2023-08-20T00:00:00.000000000\",\"2023-08-21T00:00:00.000000000\",\"2023-08-22T00:00:00.000000000\",\"2023-08-23T00:00:00.000000000\",\"2023-08-24T00:00:00.000000000\",\"2023-08-25T00:00:00.000000000\",\"2023-08-26T00:00:00.000000000\",\"2023-08-27T00:00:00.000000000\",\"2023-08-28T00:00:00.000000000\",\"2023-08-29T00:00:00.000000000\",\"2023-08-30T00:00:00.000000000\",\"2023-08-31T00:00:00.000000000\",\"2023-09-01T00:00:00.000000000\",\"2023-09-02T00:00:00.000000000\",\"2023-09-03T00:00:00.000000000\",\"2023-09-04T00:00:00.000000000\",\"2023-09-05T00:00:00.000000000\",\"2023-09-06T00:00:00.000000000\",\"2023-09-07T00:00:00.000000000\",\"2023-09-08T00:00:00.000000000\",\"2023-09-09T00:00:00.000000000\",\"2023-09-10T00:00:00.000000000\",\"2023-09-11T00:00:00.000000000\",\"2023-09-12T00:00:00.000000000\",\"2023-09-13T00:00:00.000000000\",\"2023-09-14T00:00:00.000000000\",\"2023-09-15T00:00:00.000000000\",\"2023-09-16T00:00:00.000000000\",\"2023-09-17T00:00:00.000000000\",\"2023-09-18T00:00:00.000000000\",\"2023-09-19T00:00:00.000000000\",\"2023-09-20T00:00:00.000000000\",\"2023-09-21T00:00:00.000000000\",\"2023-09-22T00:00:00.000000000\",\"2023-09-23T00:00:00.000000000\",\"2023-09-24T00:00:00.000000000\",\"2023-09-25T00:00:00.000000000\",\"2023-09-26T00:00:00.000000000\",\"2023-09-27T00:00:00.000000000\",\"2023-09-28T00:00:00.000000000\",\"2023-09-29T00:00:00.000000000\",\"2023-09-30T00:00:00.000000000\",\"2023-10-01T00:00:00.000000000\",\"2023-10-02T00:00:00.000000000\",\"2023-10-03T00:00:00.000000000\",\"2023-10-04T00:00:00.000000000\",\"2023-10-05T00:00:00.000000000\",\"2023-10-06T00:00:00.000000000\",\"2023-10-07T00:00:00.000000000\",\"2023-10-08T00:00:00.000000000\",\"2023-10-09T00:00:00.000000000\",\"2023-10-10T00:00:00.000000000\",\"2023-10-11T00:00:00.000000000\",\"2023-10-12T00:00:00.000000000\",\"2023-10-13T00:00:00.000000000\",\"2023-10-14T00:00:00.000000000\",\"2023-10-15T00:00:00.000000000\",\"2023-10-16T00:00:00.000000000\",\"2023-10-17T00:00:00.000000000\",\"2023-10-18T00:00:00.000000000\",\"2023-10-19T00:00:00.000000000\",\"2023-10-20T00:00:00.000000000\",\"2023-10-21T00:00:00.000000000\",\"2023-10-22T00:00:00.000000000\",\"2023-10-23T00:00:00.000000000\",\"2023-10-24T00:00:00.000000000\",\"2023-10-25T00:00:00.000000000\",\"2023-10-26T00:00:00.000000000\",\"2023-10-27T00:00:00.000000000\",\"2023-10-28T00:00:00.000000000\",\"2023-10-29T00:00:00.000000000\",\"2023-10-30T00:00:00.000000000\",\"2023-10-31T00:00:00.000000000\",\"2023-11-01T00:00:00.000000000\",\"2023-11-02T00:00:00.000000000\",\"2023-11-03T00:00:00.000000000\",\"2023-11-04T00:00:00.000000000\",\"2023-11-05T00:00:00.000000000\",\"2023-11-06T00:00:00.000000000\",\"2023-11-07T00:00:00.000000000\",\"2023-11-08T00:00:00.000000000\",\"2023-11-09T00:00:00.000000000\",\"2023-11-10T00:00:00.000000000\",\"2023-11-11T00:00:00.000000000\",\"2023-11-12T00:00:00.000000000\",\"2023-11-13T00:00:00.000000000\",\"2023-11-14T00:00:00.000000000\",\"2023-11-15T00:00:00.000000000\",\"2023-11-16T00:00:00.000000000\",\"2023-11-17T00:00:00.000000000\",\"2023-11-18T00:00:00.000000000\",\"2023-11-19T00:00:00.000000000\",\"2023-11-20T00:00:00.000000000\",\"2023-11-21T00:00:00.000000000\",\"2023-11-22T00:00:00.000000000\",\"2023-11-23T00:00:00.000000000\",\"2023-11-24T00:00:00.000000000\",\"2023-11-25T00:00:00.000000000\",\"2023-11-26T00:00:00.000000000\",\"2023-11-26T00:00:00.000000000\",\"2023-11-25T00:00:00.000000000\",\"2023-11-24T00:00:00.000000000\",\"2023-11-23T00:00:00.000000000\",\"2023-11-22T00:00:00.000000000\",\"2023-11-21T00:00:00.000000000\",\"2023-11-20T00:00:00.000000000\",\"2023-11-19T00:00:00.000000000\",\"2023-11-18T00:00:00.000000000\",\"2023-11-17T00:00:00.000000000\",\"2023-11-16T00:00:00.000000000\",\"2023-11-15T00:00:00.000000000\",\"2023-11-14T00:00:00.000000000\",\"2023-11-13T00:00:00.000000000\",\"2023-11-12T00:00:00.000000000\",\"2023-11-11T00:00:00.000000000\",\"2023-11-10T00:00:00.000000000\",\"2023-11-09T00:00:00.000000000\",\"2023-11-08T00:00:00.000000000\",\"2023-11-07T00:00:00.000000000\",\"2023-11-06T00:00:00.000000000\",\"2023-11-05T00:00:00.000000000\",\"2023-11-04T00:00:00.000000000\",\"2023-11-03T00:00:00.000000000\",\"2023-11-02T00:00:00.000000000\",\"2023-11-01T00:00:00.000000000\",\"2023-10-31T00:00:00.000000000\",\"2023-10-30T00:00:00.000000000\",\"2023-10-29T00:00:00.000000000\",\"2023-10-28T00:00:00.000000000\",\"2023-10-27T00:00:00.000000000\",\"2023-10-26T00:00:00.000000000\",\"2023-10-25T00:00:00.000000000\",\"2023-10-24T00:00:00.000000000\",\"2023-10-23T00:00:00.000000000\",\"2023-10-22T00:00:00.000000000\",\"2023-10-21T00:00:00.000000000\",\"2023-10-20T00:00:00.000000000\",\"2023-10-19T00:00:00.000000000\",\"2023-10-18T00:00:00.000000000\",\"2023-10-17T00:00:00.000000000\",\"2023-10-16T00:00:00.000000000\",\"2023-10-15T00:00:00.000000000\",\"2023-10-14T00:00:00.000000000\",\"2023-10-13T00:00:00.000000000\",\"2023-10-12T00:00:00.000000000\",\"2023-10-11T00:00:00.000000000\",\"2023-10-10T00:00:00.000000000\",\"2023-10-09T00:00:00.000000000\",\"2023-10-08T00:00:00.000000000\",\"2023-10-07T00:00:00.000000000\",\"2023-10-06T00:00:00.000000000\",\"2023-10-05T00:00:00.000000000\",\"2023-10-04T00:00:00.000000000\",\"2023-10-03T00:00:00.000000000\",\"2023-10-02T00:00:00.000000000\",\"2023-10-01T00:00:00.000000000\",\"2023-09-30T00:00:00.000000000\",\"2023-09-29T00:00:00.000000000\",\"2023-09-28T00:00:00.000000000\",\"2023-09-27T00:00:00.000000000\",\"2023-09-26T00:00:00.000000000\",\"2023-09-25T00:00:00.000000000\",\"2023-09-24T00:00:00.000000000\",\"2023-09-23T00:00:00.000000000\",\"2023-09-22T00:00:00.000000000\",\"2023-09-21T00:00:00.000000000\",\"2023-09-20T00:00:00.000000000\",\"2023-09-19T00:00:00.000000000\",\"2023-09-18T00:00:00.000000000\",\"2023-09-17T00:00:00.000000000\",\"2023-09-16T00:00:00.000000000\",\"2023-09-15T00:00:00.000000000\",\"2023-09-14T00:00:00.000000000\",\"2023-09-13T00:00:00.000000000\",\"2023-09-12T00:00:00.000000000\",\"2023-09-11T00:00:00.000000000\",\"2023-09-10T00:00:00.000000000\",\"2023-09-09T00:00:00.000000000\",\"2023-09-08T00:00:00.000000000\",\"2023-09-07T00:00:00.000000000\",\"2023-09-06T00:00:00.000000000\",\"2023-09-05T00:00:00.000000000\",\"2023-09-04T00:00:00.000000000\",\"2023-09-03T00:00:00.000000000\",\"2023-09-02T00:00:00.000000000\",\"2023-09-01T00:00:00.000000000\",\"2023-08-31T00:00:00.000000000\",\"2023-08-30T00:00:00.000000000\",\"2023-08-29T00:00:00.000000000\",\"2023-08-28T00:00:00.000000000\",\"2023-08-27T00:00:00.000000000\",\"2023-08-26T00:00:00.000000000\",\"2023-08-25T00:00:00.000000000\",\"2023-08-24T00:00:00.000000000\",\"2023-08-23T00:00:00.000000000\",\"2023-08-22T00:00:00.000000000\",\"2023-08-21T00:00:00.000000000\",\"2023-08-20T00:00:00.000000000\",\"2023-08-19T00:00:00.000000000\",\"2023-08-18T00:00:00.000000000\",\"2023-08-17T00:00:00.000000000\",\"2023-08-16T00:00:00.000000000\",\"2023-08-15T00:00:00.000000000\",\"2023-08-14T00:00:00.000000000\",\"2023-08-13T00:00:00.000000000\",\"2023-08-12T00:00:00.000000000\",\"2023-08-11T00:00:00.000000000\",\"2023-08-10T00:00:00.000000000\",\"2023-08-09T00:00:00.000000000\",\"2023-08-08T00:00:00.000000000\",\"2023-08-07T00:00:00.000000000\",\"2023-08-06T00:00:00.000000000\",\"2023-08-05T00:00:00.000000000\",\"2023-08-04T00:00:00.000000000\",\"2023-08-03T00:00:00.000000000\",\"2023-08-02T00:00:00.000000000\",\"2023-08-01T00:00:00.000000000\",\"2023-07-31T00:00:00.000000000\",\"2023-07-30T00:00:00.000000000\",\"2023-07-29T00:00:00.000000000\",\"2023-07-28T00:00:00.000000000\",\"2023-07-27T00:00:00.000000000\",\"2023-07-26T00:00:00.000000000\",\"2023-07-25T00:00:00.000000000\",\"2023-07-24T00:00:00.000000000\",\"2023-07-23T00:00:00.000000000\",\"2023-07-22T00:00:00.000000000\",\"2023-07-21T00:00:00.000000000\",\"2023-07-20T00:00:00.000000000\",\"2023-07-19T00:00:00.000000000\",\"2023-07-18T00:00:00.000000000\",\"2023-07-17T00:00:00.000000000\",\"2023-07-16T00:00:00.000000000\",\"2023-07-15T00:00:00.000000000\",\"2023-07-14T00:00:00.000000000\",\"2023-07-13T00:00:00.000000000\",\"2023-07-12T00:00:00.000000000\",\"2023-07-11T00:00:00.000000000\",\"2023-07-10T00:00:00.000000000\",\"2023-07-09T00:00:00.000000000\",\"2023-07-08T00:00:00.000000000\",\"2023-07-07T00:00:00.000000000\",\"2023-07-06T00:00:00.000000000\",\"2023-07-05T00:00:00.000000000\",\"2023-07-04T00:00:00.000000000\",\"2023-07-03T00:00:00.000000000\",\"2023-07-02T00:00:00.000000000\",\"2023-07-01T00:00:00.000000000\",\"2023-06-30T00:00:00.000000000\",\"2023-06-29T00:00:00.000000000\",\"2023-06-28T00:00:00.000000000\",\"2023-06-27T00:00:00.000000000\",\"2023-06-26T00:00:00.000000000\",\"2023-06-25T00:00:00.000000000\",\"2023-06-24T00:00:00.000000000\",\"2023-06-23T00:00:00.000000000\",\"2023-06-22T00:00:00.000000000\",\"2023-06-21T00:00:00.000000000\",\"2023-06-20T00:00:00.000000000\",\"2023-06-19T00:00:00.000000000\",\"2023-06-18T00:00:00.000000000\",\"2023-06-17T00:00:00.000000000\",\"2023-06-16T00:00:00.000000000\",\"2023-06-15T00:00:00.000000000\",\"2023-06-14T00:00:00.000000000\",\"2023-06-13T00:00:00.000000000\",\"2023-06-12T00:00:00.000000000\",\"2023-06-11T00:00:00.000000000\",\"2023-06-10T00:00:00.000000000\",\"2023-06-09T00:00:00.000000000\",\"2023-06-08T00:00:00.000000000\",\"2023-06-07T00:00:00.000000000\",\"2023-06-06T00:00:00.000000000\",\"2023-06-05T00:00:00.000000000\",\"2023-06-04T00:00:00.000000000\",\"2023-06-03T00:00:00.000000000\",\"2023-06-02T00:00:00.000000000\",\"2023-06-01T00:00:00.000000000\",\"2023-05-31T00:00:00.000000000\",\"2023-05-30T00:00:00.000000000\",\"2023-05-29T00:00:00.000000000\",\"2023-05-28T00:00:00.000000000\",\"2023-05-27T00:00:00.000000000\",\"2023-05-26T00:00:00.000000000\",\"2023-05-25T00:00:00.000000000\",\"2023-05-24T00:00:00.000000000\",\"2023-05-23T00:00:00.000000000\",\"2023-05-22T00:00:00.000000000\",\"2023-05-21T00:00:00.000000000\",\"2023-05-20T00:00:00.000000000\",\"2023-05-19T00:00:00.000000000\",\"2023-05-18T00:00:00.000000000\",\"2023-05-17T00:00:00.000000000\",\"2023-05-16T00:00:00.000000000\",\"2023-05-15T00:00:00.000000000\",\"2023-05-14T00:00:00.000000000\",\"2023-05-13T00:00:00.000000000\",\"2023-05-12T00:00:00.000000000\",\"2023-05-11T00:00:00.000000000\",\"2023-05-10T00:00:00.000000000\",\"2023-05-09T00:00:00.000000000\",\"2023-05-08T00:00:00.000000000\"],\"y\":[null,null,null,null,null,null,null,null,null,null,null,null,null,null,null,null,null,null,null,null,null,null,null,null,null,null,null,null,null,null,null,null,null,null,null,null,null,null,null,null,null,null,null,null,null,null,null,null,null,null,null,null,null,null,null,null,null,null,null,null,null,null,null,null,null,null,null,null,null,null,null,null,null,null,null,null,null,null,null,null,null,null,null,null,null,null,null,null,null,null,null,null,null,null,null,null,null,null,null,null,null,null,null,null,null,null,null,null,null,null,null,null,null,null,null,null,null,null,null,null,null,null,null,null,null,null,null,null,null,null,null,null,null,null,null,null,null,null,null,null,null,null,null,null,null,null,null,null,null,null,null,null,null,null,null,null,null,null,null,null,null,null,null,null,null,null,null,null,null,null,null,null,null,null,null,null,null,null,null,null,null,null,null,null,null,null,null,null,null,null,null,null,null,null,null,null,25462090.0,-23188740.0,-25598304.0,2240124.5,-6433870.5,436847.84375,11234343.0,-29880542.0,-35882108.0,-43023604.0,-19104886.0,-42108112.0,-42078188.0,10587576.0,null,null,null,null,null,null,null,null,null,null,null,null,null,null,null,null,null,null,null,null,null,null,null,null,null,null,null,null,null,null,null,null,null,null,null,null,null,null,null,null,null,null,null,null,null,null,null,null,null,null,null,null,null,null,null,null,null,null,null,null,null,null,null,null,null,null,null,null,null,null,null,null,null,null,null,null,null,null,null,null,null,null,null,null,null,null,null,null,null,null,null,null,null,null,null,null,null,null,null,null,null,null,null,null,null,null,null,null,null,null,null,null,null,null,null,null,null,null,null,null,null,null,null,null,null,null,null,null,null,null,null,null,null,null,null,null,null,null,null,null,null,null,null,null,null,null,null,null,null,null,null,null,null,null,null,null,null,null,null,null,null,null,null,null,null,null,null,null,null,null,null,null,null,null,null,null,null,null,null,null,null,null,null,null,null,null,null,null,null,null,null,null,null,null,null,null],\"type\":\"scatter\",\"xaxis\":\"x4\",\"yaxis\":\"y4\"},{\"legendgroup\":\"y\",\"line\":{\"color\":\"#440154\",\"width\":1},\"mode\":\"lines\",\"name\":\"y\",\"showlegend\":false,\"x\":[\"2023-05-08T00:00:00\",\"2023-05-09T00:00:00\",\"2023-05-10T00:00:00\",\"2023-05-11T00:00:00\",\"2023-05-12T00:00:00\",\"2023-05-13T00:00:00\",\"2023-05-14T00:00:00\",\"2023-05-15T00:00:00\",\"2023-05-16T00:00:00\",\"2023-05-17T00:00:00\",\"2023-05-18T00:00:00\",\"2023-05-19T00:00:00\",\"2023-05-20T00:00:00\",\"2023-05-21T00:00:00\",\"2023-05-22T00:00:00\",\"2023-05-23T00:00:00\",\"2023-05-24T00:00:00\",\"2023-05-25T00:00:00\",\"2023-05-26T00:00:00\",\"2023-05-27T00:00:00\",\"2023-05-28T00:00:00\",\"2023-05-29T00:00:00\",\"2023-05-30T00:00:00\",\"2023-05-31T00:00:00\",\"2023-06-01T00:00:00\",\"2023-06-02T00:00:00\",\"2023-06-03T00:00:00\",\"2023-06-04T00:00:00\",\"2023-06-05T00:00:00\",\"2023-06-06T00:00:00\",\"2023-06-07T00:00:00\",\"2023-06-08T00:00:00\",\"2023-06-09T00:00:00\",\"2023-06-10T00:00:00\",\"2023-06-11T00:00:00\",\"2023-06-12T00:00:00\",\"2023-06-13T00:00:00\",\"2023-06-14T00:00:00\",\"2023-06-15T00:00:00\",\"2023-06-16T00:00:00\",\"2023-06-17T00:00:00\",\"2023-06-18T00:00:00\",\"2023-06-19T00:00:00\",\"2023-06-20T00:00:00\",\"2023-06-21T00:00:00\",\"2023-06-22T00:00:00\",\"2023-06-23T00:00:00\",\"2023-06-24T00:00:00\",\"2023-06-25T00:00:00\",\"2023-06-26T00:00:00\",\"2023-06-27T00:00:00\",\"2023-06-28T00:00:00\",\"2023-06-29T00:00:00\",\"2023-06-30T00:00:00\",\"2023-07-01T00:00:00\",\"2023-07-02T00:00:00\",\"2023-07-03T00:00:00\",\"2023-07-04T00:00:00\",\"2023-07-05T00:00:00\",\"2023-07-06T00:00:00\",\"2023-07-07T00:00:00\",\"2023-07-08T00:00:00\",\"2023-07-09T00:00:00\",\"2023-07-10T00:00:00\",\"2023-07-11T00:00:00\",\"2023-07-12T00:00:00\",\"2023-07-13T00:00:00\",\"2023-07-14T00:00:00\",\"2023-07-15T00:00:00\",\"2023-07-16T00:00:00\",\"2023-07-17T00:00:00\",\"2023-07-18T00:00:00\",\"2023-07-19T00:00:00\",\"2023-07-20T00:00:00\",\"2023-07-21T00:00:00\",\"2023-07-22T00:00:00\",\"2023-07-23T00:00:00\",\"2023-07-24T00:00:00\",\"2023-07-25T00:00:00\",\"2023-07-26T00:00:00\",\"2023-07-27T00:00:00\",\"2023-07-28T00:00:00\",\"2023-07-29T00:00:00\",\"2023-07-30T00:00:00\",\"2023-07-31T00:00:00\",\"2023-08-01T00:00:00\",\"2023-08-02T00:00:00\",\"2023-08-03T00:00:00\",\"2023-08-04T00:00:00\",\"2023-08-05T00:00:00\",\"2023-08-06T00:00:00\",\"2023-08-07T00:00:00\",\"2023-08-08T00:00:00\",\"2023-08-09T00:00:00\",\"2023-08-10T00:00:00\",\"2023-08-11T00:00:00\",\"2023-08-12T00:00:00\",\"2023-08-13T00:00:00\",\"2023-08-14T00:00:00\",\"2023-08-15T00:00:00\",\"2023-08-16T00:00:00\",\"2023-08-17T00:00:00\",\"2023-08-18T00:00:00\",\"2023-08-19T00:00:00\",\"2023-08-20T00:00:00\",\"2023-08-21T00:00:00\",\"2023-08-22T00:00:00\",\"2023-08-23T00:00:00\",\"2023-08-24T00:00:00\",\"2023-08-25T00:00:00\",\"2023-08-26T00:00:00\",\"2023-08-27T00:00:00\",\"2023-08-28T00:00:00\",\"2023-08-29T00:00:00\",\"2023-08-30T00:00:00\",\"2023-08-31T00:00:00\",\"2023-09-01T00:00:00\",\"2023-09-02T00:00:00\",\"2023-09-03T00:00:00\",\"2023-09-04T00:00:00\",\"2023-09-05T00:00:00\",\"2023-09-06T00:00:00\",\"2023-09-07T00:00:00\",\"2023-09-08T00:00:00\",\"2023-09-09T00:00:00\",\"2023-09-10T00:00:00\",\"2023-09-11T00:00:00\",\"2023-09-12T00:00:00\",\"2023-09-13T00:00:00\",\"2023-09-14T00:00:00\",\"2023-09-15T00:00:00\",\"2023-09-16T00:00:00\",\"2023-09-17T00:00:00\",\"2023-09-18T00:00:00\",\"2023-09-19T00:00:00\",\"2023-09-20T00:00:00\",\"2023-09-21T00:00:00\",\"2023-09-22T00:00:00\",\"2023-09-23T00:00:00\",\"2023-09-24T00:00:00\",\"2023-09-25T00:00:00\",\"2023-09-26T00:00:00\",\"2023-09-27T00:00:00\",\"2023-09-28T00:00:00\",\"2023-09-29T00:00:00\",\"2023-09-30T00:00:00\",\"2023-10-01T00:00:00\",\"2023-10-02T00:00:00\",\"2023-10-03T00:00:00\",\"2023-10-04T00:00:00\",\"2023-10-05T00:00:00\",\"2023-10-06T00:00:00\",\"2023-10-07T00:00:00\",\"2023-10-08T00:00:00\",\"2023-10-09T00:00:00\",\"2023-10-10T00:00:00\",\"2023-10-11T00:00:00\",\"2023-10-12T00:00:00\",\"2023-10-13T00:00:00\",\"2023-10-14T00:00:00\",\"2023-10-15T00:00:00\",\"2023-10-16T00:00:00\",\"2023-10-17T00:00:00\",\"2023-10-18T00:00:00\",\"2023-10-19T00:00:00\",\"2023-10-20T00:00:00\",\"2023-10-21T00:00:00\",\"2023-10-22T00:00:00\",\"2023-10-23T00:00:00\",\"2023-10-24T00:00:00\",\"2023-10-25T00:00:00\",\"2023-10-26T00:00:00\",\"2023-10-27T00:00:00\",\"2023-10-28T00:00:00\",\"2023-10-29T00:00:00\",\"2023-10-30T00:00:00\",\"2023-10-31T00:00:00\",\"2023-11-01T00:00:00\",\"2023-11-02T00:00:00\",\"2023-11-03T00:00:00\",\"2023-11-04T00:00:00\",\"2023-11-05T00:00:00\",\"2023-11-06T00:00:00\",\"2023-11-07T00:00:00\",\"2023-11-08T00:00:00\",\"2023-11-09T00:00:00\",\"2023-11-10T00:00:00\",\"2023-11-11T00:00:00\",\"2023-11-12T00:00:00\",\"2023-11-13T00:00:00\",\"2023-11-14T00:00:00\",\"2023-11-15T00:00:00\",\"2023-11-16T00:00:00\",\"2023-11-17T00:00:00\",\"2023-11-18T00:00:00\",\"2023-11-19T00:00:00\",\"2023-11-20T00:00:00\",\"2023-11-21T00:00:00\",\"2023-11-22T00:00:00\",\"2023-11-23T00:00:00\",\"2023-11-24T00:00:00\",\"2023-11-25T00:00:00\",\"2023-11-26T00:00:00\"],\"y\":[166290.0,272366.6666666667,356128.3333333333,230681.33333333334,239613.33333333334,398981.0,264946.6666666667,163316.66666666666,210426.33333333334,299039.3333333333,323391.6666666667,302463.3333333333,279483.6666666667,292311.6666666667,260546.0,348132.0,353237.0,367053.3333333333,559663.3333333334,472397.0,369940.3333333333,403879.3333333333,449417.3333333333,435331.6666666667,373543.3333333333,495995.0,403336.6666666667,319726.0,312153.6666666667,371872.6666666667,263541.0,360324.3333333333,372951.0,459343.0,470317.0,293160.3333333333,383727.6666666667,461354.3333333333,376338.3333333333,227381.66666666666,309290.0,296929.3333333333,482380.0,324099.3333333333,342809.6666666667,364319.3333333333,329682.6666666667,404814.3333333333,279083.3333333333,305766.0,411647.6666666667,656635.0,380355.3333333333,263562.6666666667,232188.0,388601.0,327614.3333333333,552978.0,606262.0,388067.3333333333,365833.3333333333,410392.0,351936.6666666667,400189.3333333333,308212.6666666667,377271.0,296832.6666666667,303553.3333333333,406337.0,370856.0,294371.6666666667,225961.66666666666,365883.6666666667,377317.6666666667,277995.3333333333,275502.6666666667,248323.33333333334,454462.0,415283.6666666667,192797.66666666666,453579.3333333333,423906.0,261273.33333333334,518233.3333333333,592079.3333333334,385216.6666666667,461433.3333333333,245870.66666666666,374528.6666666667,326033.3333333333,281515.3333333333,257247.33333333334,318107.3333333333,337748.6666666667,263806.0,396032.0,238020.66666666666,254715.0,320051.0,304101.6666666667,275732.6666666667,181106.66666666666,208393.33333333334,259468.0,232215.33333333334,430883.6666666667,229876.66666666666,261958.33333333334,313179.3333333333,308416.0,409692.0,357629.6666666667,441722.0,319553.6666666667,342241.6666666667,275690.6666666667,464743.6666666667,353932.6666666667,360350.6666666667,473671.0,295919.3333333333,393159.3333333333,259956.0,147284.33333333334,276075.0,380404.6666666667,412212.6666666667,356447.6666666667,293308.0,308216.6666666667,394362.6666666667,376275.3333333333,525897.3333333334,619679.0,428597.6666666667,1658290.0,1855179.0,1854686.6666666667,2171500.0,2049506.6666666667,2344050.3333333335,2111703.0,2224382.0,2087096.6666666667,2201931.6666666665,2416663.3333333335,1984618.0,1836225.0,700996.3333333334,823335.0,588957.3333333334,575085.6666666666,700364.6666666666,601688.0,559108.3333333334,617083.3333333334,610879.0,688856.6666666666,2078290.0,1858098.0,1368073.0,1041759.0,872800.0,1156116.6666666667,1258111.6666666667,1136610.3333333333,1400725.0,1399031.0,1359956.6666666667,1139936.6666666667,1317298.3333333333,1178635.0,1618020.3333333333,1631026.3333333333,1769150.3333333333,1769966.6666666667,1715817.3333333333,2990468.3333333335,1916703.0,2036859.3333333333,3535475.3333333335,2401368.0,2216265.6666666665,1443406.0,1545992.6666666667,2154645.6666666665,1554497.3333333333,1388571.3333333333,1385011.6666666667,1257333.0,1553699.6666666667,1368914.0,1331776.6666666667,1428594.6666666667,1667704.3333333333,1569774.0,1677478.3333333333,1538083.0,1391772.6666666667,1297467.3333333333,1418444.0,1623092.0,1654166.6666666667],\"type\":\"scatter\",\"xaxis\":\"x5\",\"yaxis\":\"y5\"},{\"legendgroup\":\"AutoARIMA\",\"line\":{\"color\":\"#fde725\",\"width\":1},\"mode\":\"lines\",\"name\":\"AutoARIMA\",\"showlegend\":false,\"x\":[\"2023-05-08T00:00:00\",\"2023-05-09T00:00:00\",\"2023-05-10T00:00:00\",\"2023-05-11T00:00:00\",\"2023-05-12T00:00:00\",\"2023-05-13T00:00:00\",\"2023-05-14T00:00:00\",\"2023-05-15T00:00:00\",\"2023-05-16T00:00:00\",\"2023-05-17T00:00:00\",\"2023-05-18T00:00:00\",\"2023-05-19T00:00:00\",\"2023-05-20T00:00:00\",\"2023-05-21T00:00:00\",\"2023-05-22T00:00:00\",\"2023-05-23T00:00:00\",\"2023-05-24T00:00:00\",\"2023-05-25T00:00:00\",\"2023-05-26T00:00:00\",\"2023-05-27T00:00:00\",\"2023-05-28T00:00:00\",\"2023-05-29T00:00:00\",\"2023-05-30T00:00:00\",\"2023-05-31T00:00:00\",\"2023-06-01T00:00:00\",\"2023-06-02T00:00:00\",\"2023-06-03T00:00:00\",\"2023-06-04T00:00:00\",\"2023-06-05T00:00:00\",\"2023-06-06T00:00:00\",\"2023-06-07T00:00:00\",\"2023-06-08T00:00:00\",\"2023-06-09T00:00:00\",\"2023-06-10T00:00:00\",\"2023-06-11T00:00:00\",\"2023-06-12T00:00:00\",\"2023-06-13T00:00:00\",\"2023-06-14T00:00:00\",\"2023-06-15T00:00:00\",\"2023-06-16T00:00:00\",\"2023-06-17T00:00:00\",\"2023-06-18T00:00:00\",\"2023-06-19T00:00:00\",\"2023-06-20T00:00:00\",\"2023-06-21T00:00:00\",\"2023-06-22T00:00:00\",\"2023-06-23T00:00:00\",\"2023-06-24T00:00:00\",\"2023-06-25T00:00:00\",\"2023-06-26T00:00:00\",\"2023-06-27T00:00:00\",\"2023-06-28T00:00:00\",\"2023-06-29T00:00:00\",\"2023-06-30T00:00:00\",\"2023-07-01T00:00:00\",\"2023-07-02T00:00:00\",\"2023-07-03T00:00:00\",\"2023-07-04T00:00:00\",\"2023-07-05T00:00:00\",\"2023-07-06T00:00:00\",\"2023-07-07T00:00:00\",\"2023-07-08T00:00:00\",\"2023-07-09T00:00:00\",\"2023-07-10T00:00:00\",\"2023-07-11T00:00:00\",\"2023-07-12T00:00:00\",\"2023-07-13T00:00:00\",\"2023-07-14T00:00:00\",\"2023-07-15T00:00:00\",\"2023-07-16T00:00:00\",\"2023-07-17T00:00:00\",\"2023-07-18T00:00:00\",\"2023-07-19T00:00:00\",\"2023-07-20T00:00:00\",\"2023-07-21T00:00:00\",\"2023-07-22T00:00:00\",\"2023-07-23T00:00:00\",\"2023-07-24T00:00:00\",\"2023-07-25T00:00:00\",\"2023-07-26T00:00:00\",\"2023-07-27T00:00:00\",\"2023-07-28T00:00:00\",\"2023-07-29T00:00:00\",\"2023-07-30T00:00:00\",\"2023-07-31T00:00:00\",\"2023-08-01T00:00:00\",\"2023-08-02T00:00:00\",\"2023-08-03T00:00:00\",\"2023-08-04T00:00:00\",\"2023-08-05T00:00:00\",\"2023-08-06T00:00:00\",\"2023-08-07T00:00:00\",\"2023-08-08T00:00:00\",\"2023-08-09T00:00:00\",\"2023-08-10T00:00:00\",\"2023-08-11T00:00:00\",\"2023-08-12T00:00:00\",\"2023-08-13T00:00:00\",\"2023-08-14T00:00:00\",\"2023-08-15T00:00:00\",\"2023-08-16T00:00:00\",\"2023-08-17T00:00:00\",\"2023-08-18T00:00:00\",\"2023-08-19T00:00:00\",\"2023-08-20T00:00:00\",\"2023-08-21T00:00:00\",\"2023-08-22T00:00:00\",\"2023-08-23T00:00:00\",\"2023-08-24T00:00:00\",\"2023-08-25T00:00:00\",\"2023-08-26T00:00:00\",\"2023-08-27T00:00:00\",\"2023-08-28T00:00:00\",\"2023-08-29T00:00:00\",\"2023-08-30T00:00:00\",\"2023-08-31T00:00:00\",\"2023-09-01T00:00:00\",\"2023-09-02T00:00:00\",\"2023-09-03T00:00:00\",\"2023-09-04T00:00:00\",\"2023-09-05T00:00:00\",\"2023-09-06T00:00:00\",\"2023-09-07T00:00:00\",\"2023-09-08T00:00:00\",\"2023-09-09T00:00:00\",\"2023-09-10T00:00:00\",\"2023-09-11T00:00:00\",\"2023-09-12T00:00:00\",\"2023-09-13T00:00:00\",\"2023-09-14T00:00:00\",\"2023-09-15T00:00:00\",\"2023-09-16T00:00:00\",\"2023-09-17T00:00:00\",\"2023-09-18T00:00:00\",\"2023-09-19T00:00:00\",\"2023-09-20T00:00:00\",\"2023-09-21T00:00:00\",\"2023-09-22T00:00:00\",\"2023-09-23T00:00:00\",\"2023-09-24T00:00:00\",\"2023-09-25T00:00:00\",\"2023-09-26T00:00:00\",\"2023-09-27T00:00:00\",\"2023-09-28T00:00:00\",\"2023-09-29T00:00:00\",\"2023-09-30T00:00:00\",\"2023-10-01T00:00:00\",\"2023-10-02T00:00:00\",\"2023-10-03T00:00:00\",\"2023-10-04T00:00:00\",\"2023-10-05T00:00:00\",\"2023-10-06T00:00:00\",\"2023-10-07T00:00:00\",\"2023-10-08T00:00:00\",\"2023-10-09T00:00:00\",\"2023-10-10T00:00:00\",\"2023-10-11T00:00:00\",\"2023-10-12T00:00:00\",\"2023-10-13T00:00:00\",\"2023-10-14T00:00:00\",\"2023-10-15T00:00:00\",\"2023-10-16T00:00:00\",\"2023-10-17T00:00:00\",\"2023-10-18T00:00:00\",\"2023-10-19T00:00:00\",\"2023-10-20T00:00:00\",\"2023-10-21T00:00:00\",\"2023-10-22T00:00:00\",\"2023-10-23T00:00:00\",\"2023-10-24T00:00:00\",\"2023-10-25T00:00:00\",\"2023-10-26T00:00:00\",\"2023-10-27T00:00:00\",\"2023-10-28T00:00:00\",\"2023-10-29T00:00:00\",\"2023-10-30T00:00:00\",\"2023-10-31T00:00:00\",\"2023-11-01T00:00:00\",\"2023-11-02T00:00:00\",\"2023-11-03T00:00:00\",\"2023-11-04T00:00:00\",\"2023-11-05T00:00:00\",\"2023-11-06T00:00:00\",\"2023-11-07T00:00:00\",\"2023-11-08T00:00:00\",\"2023-11-09T00:00:00\",\"2023-11-10T00:00:00\",\"2023-11-11T00:00:00\",\"2023-11-12T00:00:00\",\"2023-11-13T00:00:00\",\"2023-11-14T00:00:00\",\"2023-11-15T00:00:00\",\"2023-11-16T00:00:00\",\"2023-11-17T00:00:00\",\"2023-11-18T00:00:00\",\"2023-11-19T00:00:00\",\"2023-11-20T00:00:00\",\"2023-11-21T00:00:00\",\"2023-11-22T00:00:00\",\"2023-11-23T00:00:00\",\"2023-11-24T00:00:00\",\"2023-11-25T00:00:00\",\"2023-11-26T00:00:00\"],\"y\":[null,null,null,null,null,null,null,null,null,null,null,null,null,null,null,null,null,null,null,null,null,null,null,null,null,null,null,null,null,null,null,null,null,null,null,null,null,null,null,null,null,null,null,null,null,null,null,null,null,null,null,null,null,null,null,null,null,null,null,null,null,null,null,null,null,null,null,null,null,null,null,null,null,null,null,null,null,null,null,null,null,null,null,null,null,null,null,null,null,null,null,null,null,null,null,null,null,null,null,null,null,null,null,null,null,null,null,null,null,null,null,null,null,null,null,null,null,null,null,null,null,null,null,null,null,null,null,null,null,null,null,null,null,null,null,null,null,null,null,null,null,null,null,null,null,null,null,null,null,null,null,null,null,null,null,null,null,null,null,null,null,null,null,null,null,null,null,null,null,null,null,null,null,null,null,null,null,null,null,null,null,null,null,null,null,null,null,null,null,null,null,null,null,null,null,null,1567101.0,1628729.625,1643532.125,1630596.0,1806583.125,1963821.25,1799872.0],\"type\":\"scatter\",\"xaxis\":\"x5\",\"yaxis\":\"y5\"},{\"fill\":\"toself\",\"fillcolor\":\"#fde725\",\"legendgroup\":\"AutoARIMA_level_80\",\"line\":{\"color\":\"#fde725\",\"width\":1},\"mode\":\"lines\",\"name\":\"AutoARIMA_level_80\",\"opacity\":0.19999999999999996,\"showlegend\":false,\"x\":[\"2023-05-08T00:00:00.000000000\",\"2023-05-09T00:00:00.000000000\",\"2023-05-10T00:00:00.000000000\",\"2023-05-11T00:00:00.000000000\",\"2023-05-12T00:00:00.000000000\",\"2023-05-13T00:00:00.000000000\",\"2023-05-14T00:00:00.000000000\",\"2023-05-15T00:00:00.000000000\",\"2023-05-16T00:00:00.000000000\",\"2023-05-17T00:00:00.000000000\",\"2023-05-18T00:00:00.000000000\",\"2023-05-19T00:00:00.000000000\",\"2023-05-20T00:00:00.000000000\",\"2023-05-21T00:00:00.000000000\",\"2023-05-22T00:00:00.000000000\",\"2023-05-23T00:00:00.000000000\",\"2023-05-24T00:00:00.000000000\",\"2023-05-25T00:00:00.000000000\",\"2023-05-26T00:00:00.000000000\",\"2023-05-27T00:00:00.000000000\",\"2023-05-28T00:00:00.000000000\",\"2023-05-29T00:00:00.000000000\",\"2023-05-30T00:00:00.000000000\",\"2023-05-31T00:00:00.000000000\",\"2023-06-01T00:00:00.000000000\",\"2023-06-02T00:00:00.000000000\",\"2023-06-03T00:00:00.000000000\",\"2023-06-04T00:00:00.000000000\",\"2023-06-05T00:00:00.000000000\",\"2023-06-06T00:00:00.000000000\",\"2023-06-07T00:00:00.000000000\",\"2023-06-08T00:00:00.000000000\",\"2023-06-09T00:00:00.000000000\",\"2023-06-10T00:00:00.000000000\",\"2023-06-11T00:00:00.000000000\",\"2023-06-12T00:00:00.000000000\",\"2023-06-13T00:00:00.000000000\",\"2023-06-14T00:00:00.000000000\",\"2023-06-15T00:00:00.000000000\",\"2023-06-16T00:00:00.000000000\",\"2023-06-17T00:00:00.000000000\",\"2023-06-18T00:00:00.000000000\",\"2023-06-19T00:00:00.000000000\",\"2023-06-20T00:00:00.000000000\",\"2023-06-21T00:00:00.000000000\",\"2023-06-22T00:00:00.000000000\",\"2023-06-23T00:00:00.000000000\",\"2023-06-24T00:00:00.000000000\",\"2023-06-25T00:00:00.000000000\",\"2023-06-26T00:00:00.000000000\",\"2023-06-27T00:00:00.000000000\",\"2023-06-28T00:00:00.000000000\",\"2023-06-29T00:00:00.000000000\",\"2023-06-30T00:00:00.000000000\",\"2023-07-01T00:00:00.000000000\",\"2023-07-02T00:00:00.000000000\",\"2023-07-03T00:00:00.000000000\",\"2023-07-04T00:00:00.000000000\",\"2023-07-05T00:00:00.000000000\",\"2023-07-06T00:00:00.000000000\",\"2023-07-07T00:00:00.000000000\",\"2023-07-08T00:00:00.000000000\",\"2023-07-09T00:00:00.000000000\",\"2023-07-10T00:00:00.000000000\",\"2023-07-11T00:00:00.000000000\",\"2023-07-12T00:00:00.000000000\",\"2023-07-13T00:00:00.000000000\",\"2023-07-14T00:00:00.000000000\",\"2023-07-15T00:00:00.000000000\",\"2023-07-16T00:00:00.000000000\",\"2023-07-17T00:00:00.000000000\",\"2023-07-18T00:00:00.000000000\",\"2023-07-19T00:00:00.000000000\",\"2023-07-20T00:00:00.000000000\",\"2023-07-21T00:00:00.000000000\",\"2023-07-22T00:00:00.000000000\",\"2023-07-23T00:00:00.000000000\",\"2023-07-24T00:00:00.000000000\",\"2023-07-25T00:00:00.000000000\",\"2023-07-26T00:00:00.000000000\",\"2023-07-27T00:00:00.000000000\",\"2023-07-28T00:00:00.000000000\",\"2023-07-29T00:00:00.000000000\",\"2023-07-30T00:00:00.000000000\",\"2023-07-31T00:00:00.000000000\",\"2023-08-01T00:00:00.000000000\",\"2023-08-02T00:00:00.000000000\",\"2023-08-03T00:00:00.000000000\",\"2023-08-04T00:00:00.000000000\",\"2023-08-05T00:00:00.000000000\",\"2023-08-06T00:00:00.000000000\",\"2023-08-07T00:00:00.000000000\",\"2023-08-08T00:00:00.000000000\",\"2023-08-09T00:00:00.000000000\",\"2023-08-10T00:00:00.000000000\",\"2023-08-11T00:00:00.000000000\",\"2023-08-12T00:00:00.000000000\",\"2023-08-13T00:00:00.000000000\",\"2023-08-14T00:00:00.000000000\",\"2023-08-15T00:00:00.000000000\",\"2023-08-16T00:00:00.000000000\",\"2023-08-17T00:00:00.000000000\",\"2023-08-18T00:00:00.000000000\",\"2023-08-19T00:00:00.000000000\",\"2023-08-20T00:00:00.000000000\",\"2023-08-21T00:00:00.000000000\",\"2023-08-22T00:00:00.000000000\",\"2023-08-23T00:00:00.000000000\",\"2023-08-24T00:00:00.000000000\",\"2023-08-25T00:00:00.000000000\",\"2023-08-26T00:00:00.000000000\",\"2023-08-27T00:00:00.000000000\",\"2023-08-28T00:00:00.000000000\",\"2023-08-29T00:00:00.000000000\",\"2023-08-30T00:00:00.000000000\",\"2023-08-31T00:00:00.000000000\",\"2023-09-01T00:00:00.000000000\",\"2023-09-02T00:00:00.000000000\",\"2023-09-03T00:00:00.000000000\",\"2023-09-04T00:00:00.000000000\",\"2023-09-05T00:00:00.000000000\",\"2023-09-06T00:00:00.000000000\",\"2023-09-07T00:00:00.000000000\",\"2023-09-08T00:00:00.000000000\",\"2023-09-09T00:00:00.000000000\",\"2023-09-10T00:00:00.000000000\",\"2023-09-11T00:00:00.000000000\",\"2023-09-12T00:00:00.000000000\",\"2023-09-13T00:00:00.000000000\",\"2023-09-14T00:00:00.000000000\",\"2023-09-15T00:00:00.000000000\",\"2023-09-16T00:00:00.000000000\",\"2023-09-17T00:00:00.000000000\",\"2023-09-18T00:00:00.000000000\",\"2023-09-19T00:00:00.000000000\",\"2023-09-20T00:00:00.000000000\",\"2023-09-21T00:00:00.000000000\",\"2023-09-22T00:00:00.000000000\",\"2023-09-23T00:00:00.000000000\",\"2023-09-24T00:00:00.000000000\",\"2023-09-25T00:00:00.000000000\",\"2023-09-26T00:00:00.000000000\",\"2023-09-27T00:00:00.000000000\",\"2023-09-28T00:00:00.000000000\",\"2023-09-29T00:00:00.000000000\",\"2023-09-30T00:00:00.000000000\",\"2023-10-01T00:00:00.000000000\",\"2023-10-02T00:00:00.000000000\",\"2023-10-03T00:00:00.000000000\",\"2023-10-04T00:00:00.000000000\",\"2023-10-05T00:00:00.000000000\",\"2023-10-06T00:00:00.000000000\",\"2023-10-07T00:00:00.000000000\",\"2023-10-08T00:00:00.000000000\",\"2023-10-09T00:00:00.000000000\",\"2023-10-10T00:00:00.000000000\",\"2023-10-11T00:00:00.000000000\",\"2023-10-12T00:00:00.000000000\",\"2023-10-13T00:00:00.000000000\",\"2023-10-14T00:00:00.000000000\",\"2023-10-15T00:00:00.000000000\",\"2023-10-16T00:00:00.000000000\",\"2023-10-17T00:00:00.000000000\",\"2023-10-18T00:00:00.000000000\",\"2023-10-19T00:00:00.000000000\",\"2023-10-20T00:00:00.000000000\",\"2023-10-21T00:00:00.000000000\",\"2023-10-22T00:00:00.000000000\",\"2023-10-23T00:00:00.000000000\",\"2023-10-24T00:00:00.000000000\",\"2023-10-25T00:00:00.000000000\",\"2023-10-26T00:00:00.000000000\",\"2023-10-27T00:00:00.000000000\",\"2023-10-28T00:00:00.000000000\",\"2023-10-29T00:00:00.000000000\",\"2023-10-30T00:00:00.000000000\",\"2023-10-31T00:00:00.000000000\",\"2023-11-01T00:00:00.000000000\",\"2023-11-02T00:00:00.000000000\",\"2023-11-03T00:00:00.000000000\",\"2023-11-04T00:00:00.000000000\",\"2023-11-05T00:00:00.000000000\",\"2023-11-06T00:00:00.000000000\",\"2023-11-07T00:00:00.000000000\",\"2023-11-08T00:00:00.000000000\",\"2023-11-09T00:00:00.000000000\",\"2023-11-10T00:00:00.000000000\",\"2023-11-11T00:00:00.000000000\",\"2023-11-12T00:00:00.000000000\",\"2023-11-13T00:00:00.000000000\",\"2023-11-14T00:00:00.000000000\",\"2023-11-15T00:00:00.000000000\",\"2023-11-16T00:00:00.000000000\",\"2023-11-17T00:00:00.000000000\",\"2023-11-18T00:00:00.000000000\",\"2023-11-19T00:00:00.000000000\",\"2023-11-20T00:00:00.000000000\",\"2023-11-21T00:00:00.000000000\",\"2023-11-22T00:00:00.000000000\",\"2023-11-23T00:00:00.000000000\",\"2023-11-24T00:00:00.000000000\",\"2023-11-25T00:00:00.000000000\",\"2023-11-26T00:00:00.000000000\",\"2023-11-26T00:00:00.000000000\",\"2023-11-25T00:00:00.000000000\",\"2023-11-24T00:00:00.000000000\",\"2023-11-23T00:00:00.000000000\",\"2023-11-22T00:00:00.000000000\",\"2023-11-21T00:00:00.000000000\",\"2023-11-20T00:00:00.000000000\",\"2023-11-19T00:00:00.000000000\",\"2023-11-18T00:00:00.000000000\",\"2023-11-17T00:00:00.000000000\",\"2023-11-16T00:00:00.000000000\",\"2023-11-15T00:00:00.000000000\",\"2023-11-14T00:00:00.000000000\",\"2023-11-13T00:00:00.000000000\",\"2023-11-12T00:00:00.000000000\",\"2023-11-11T00:00:00.000000000\",\"2023-11-10T00:00:00.000000000\",\"2023-11-09T00:00:00.000000000\",\"2023-11-08T00:00:00.000000000\",\"2023-11-07T00:00:00.000000000\",\"2023-11-06T00:00:00.000000000\",\"2023-11-05T00:00:00.000000000\",\"2023-11-04T00:00:00.000000000\",\"2023-11-03T00:00:00.000000000\",\"2023-11-02T00:00:00.000000000\",\"2023-11-01T00:00:00.000000000\",\"2023-10-31T00:00:00.000000000\",\"2023-10-30T00:00:00.000000000\",\"2023-10-29T00:00:00.000000000\",\"2023-10-28T00:00:00.000000000\",\"2023-10-27T00:00:00.000000000\",\"2023-10-26T00:00:00.000000000\",\"2023-10-25T00:00:00.000000000\",\"2023-10-24T00:00:00.000000000\",\"2023-10-23T00:00:00.000000000\",\"2023-10-22T00:00:00.000000000\",\"2023-10-21T00:00:00.000000000\",\"2023-10-20T00:00:00.000000000\",\"2023-10-19T00:00:00.000000000\",\"2023-10-18T00:00:00.000000000\",\"2023-10-17T00:00:00.000000000\",\"2023-10-16T00:00:00.000000000\",\"2023-10-15T00:00:00.000000000\",\"2023-10-14T00:00:00.000000000\",\"2023-10-13T00:00:00.000000000\",\"2023-10-12T00:00:00.000000000\",\"2023-10-11T00:00:00.000000000\",\"2023-10-10T00:00:00.000000000\",\"2023-10-09T00:00:00.000000000\",\"2023-10-08T00:00:00.000000000\",\"2023-10-07T00:00:00.000000000\",\"2023-10-06T00:00:00.000000000\",\"2023-10-05T00:00:00.000000000\",\"2023-10-04T00:00:00.000000000\",\"2023-10-03T00:00:00.000000000\",\"2023-10-02T00:00:00.000000000\",\"2023-10-01T00:00:00.000000000\",\"2023-09-30T00:00:00.000000000\",\"2023-09-29T00:00:00.000000000\",\"2023-09-28T00:00:00.000000000\",\"2023-09-27T00:00:00.000000000\",\"2023-09-26T00:00:00.000000000\",\"2023-09-25T00:00:00.000000000\",\"2023-09-24T00:00:00.000000000\",\"2023-09-23T00:00:00.000000000\",\"2023-09-22T00:00:00.000000000\",\"2023-09-21T00:00:00.000000000\",\"2023-09-20T00:00:00.000000000\",\"2023-09-19T00:00:00.000000000\",\"2023-09-18T00:00:00.000000000\",\"2023-09-17T00:00:00.000000000\",\"2023-09-16T00:00:00.000000000\",\"2023-09-15T00:00:00.000000000\",\"2023-09-14T00:00:00.000000000\",\"2023-09-13T00:00:00.000000000\",\"2023-09-12T00:00:00.000000000\",\"2023-09-11T00:00:00.000000000\",\"2023-09-10T00:00:00.000000000\",\"2023-09-09T00:00:00.000000000\",\"2023-09-08T00:00:00.000000000\",\"2023-09-07T00:00:00.000000000\",\"2023-09-06T00:00:00.000000000\",\"2023-09-05T00:00:00.000000000\",\"2023-09-04T00:00:00.000000000\",\"2023-09-03T00:00:00.000000000\",\"2023-09-02T00:00:00.000000000\",\"2023-09-01T00:00:00.000000000\",\"2023-08-31T00:00:00.000000000\",\"2023-08-30T00:00:00.000000000\",\"2023-08-29T00:00:00.000000000\",\"2023-08-28T00:00:00.000000000\",\"2023-08-27T00:00:00.000000000\",\"2023-08-26T00:00:00.000000000\",\"2023-08-25T00:00:00.000000000\",\"2023-08-24T00:00:00.000000000\",\"2023-08-23T00:00:00.000000000\",\"2023-08-22T00:00:00.000000000\",\"2023-08-21T00:00:00.000000000\",\"2023-08-20T00:00:00.000000000\",\"2023-08-19T00:00:00.000000000\",\"2023-08-18T00:00:00.000000000\",\"2023-08-17T00:00:00.000000000\",\"2023-08-16T00:00:00.000000000\",\"2023-08-15T00:00:00.000000000\",\"2023-08-14T00:00:00.000000000\",\"2023-08-13T00:00:00.000000000\",\"2023-08-12T00:00:00.000000000\",\"2023-08-11T00:00:00.000000000\",\"2023-08-10T00:00:00.000000000\",\"2023-08-09T00:00:00.000000000\",\"2023-08-08T00:00:00.000000000\",\"2023-08-07T00:00:00.000000000\",\"2023-08-06T00:00:00.000000000\",\"2023-08-05T00:00:00.000000000\",\"2023-08-04T00:00:00.000000000\",\"2023-08-03T00:00:00.000000000\",\"2023-08-02T00:00:00.000000000\",\"2023-08-01T00:00:00.000000000\",\"2023-07-31T00:00:00.000000000\",\"2023-07-30T00:00:00.000000000\",\"2023-07-29T00:00:00.000000000\",\"2023-07-28T00:00:00.000000000\",\"2023-07-27T00:00:00.000000000\",\"2023-07-26T00:00:00.000000000\",\"2023-07-25T00:00:00.000000000\",\"2023-07-24T00:00:00.000000000\",\"2023-07-23T00:00:00.000000000\",\"2023-07-22T00:00:00.000000000\",\"2023-07-21T00:00:00.000000000\",\"2023-07-20T00:00:00.000000000\",\"2023-07-19T00:00:00.000000000\",\"2023-07-18T00:00:00.000000000\",\"2023-07-17T00:00:00.000000000\",\"2023-07-16T00:00:00.000000000\",\"2023-07-15T00:00:00.000000000\",\"2023-07-14T00:00:00.000000000\",\"2023-07-13T00:00:00.000000000\",\"2023-07-12T00:00:00.000000000\",\"2023-07-11T00:00:00.000000000\",\"2023-07-10T00:00:00.000000000\",\"2023-07-09T00:00:00.000000000\",\"2023-07-08T00:00:00.000000000\",\"2023-07-07T00:00:00.000000000\",\"2023-07-06T00:00:00.000000000\",\"2023-07-05T00:00:00.000000000\",\"2023-07-04T00:00:00.000000000\",\"2023-07-03T00:00:00.000000000\",\"2023-07-02T00:00:00.000000000\",\"2023-07-01T00:00:00.000000000\",\"2023-06-30T00:00:00.000000000\",\"2023-06-29T00:00:00.000000000\",\"2023-06-28T00:00:00.000000000\",\"2023-06-27T00:00:00.000000000\",\"2023-06-26T00:00:00.000000000\",\"2023-06-25T00:00:00.000000000\",\"2023-06-24T00:00:00.000000000\",\"2023-06-23T00:00:00.000000000\",\"2023-06-22T00:00:00.000000000\",\"2023-06-21T00:00:00.000000000\",\"2023-06-20T00:00:00.000000000\",\"2023-06-19T00:00:00.000000000\",\"2023-06-18T00:00:00.000000000\",\"2023-06-17T00:00:00.000000000\",\"2023-06-16T00:00:00.000000000\",\"2023-06-15T00:00:00.000000000\",\"2023-06-14T00:00:00.000000000\",\"2023-06-13T00:00:00.000000000\",\"2023-06-12T00:00:00.000000000\",\"2023-06-11T00:00:00.000000000\",\"2023-06-10T00:00:00.000000000\",\"2023-06-09T00:00:00.000000000\",\"2023-06-08T00:00:00.000000000\",\"2023-06-07T00:00:00.000000000\",\"2023-06-06T00:00:00.000000000\",\"2023-06-05T00:00:00.000000000\",\"2023-06-04T00:00:00.000000000\",\"2023-06-03T00:00:00.000000000\",\"2023-06-02T00:00:00.000000000\",\"2023-06-01T00:00:00.000000000\",\"2023-05-31T00:00:00.000000000\",\"2023-05-30T00:00:00.000000000\",\"2023-05-29T00:00:00.000000000\",\"2023-05-28T00:00:00.000000000\",\"2023-05-27T00:00:00.000000000\",\"2023-05-26T00:00:00.000000000\",\"2023-05-25T00:00:00.000000000\",\"2023-05-24T00:00:00.000000000\",\"2023-05-23T00:00:00.000000000\",\"2023-05-22T00:00:00.000000000\",\"2023-05-21T00:00:00.000000000\",\"2023-05-20T00:00:00.000000000\",\"2023-05-19T00:00:00.000000000\",\"2023-05-18T00:00:00.000000000\",\"2023-05-17T00:00:00.000000000\",\"2023-05-16T00:00:00.000000000\",\"2023-05-15T00:00:00.000000000\",\"2023-05-14T00:00:00.000000000\",\"2023-05-13T00:00:00.000000000\",\"2023-05-12T00:00:00.000000000\",\"2023-05-11T00:00:00.000000000\",\"2023-05-10T00:00:00.000000000\",\"2023-05-09T00:00:00.000000000\",\"2023-05-08T00:00:00.000000000\"],\"y\":[null,null,null,null,null,null,null,null,null,null,null,null,null,null,null,null,null,null,null,null,null,null,null,null,null,null,null,null,null,null,null,null,null,null,null,null,null,null,null,null,null,null,null,null,null,null,null,null,null,null,null,null,null,null,null,null,null,null,null,null,null,null,null,null,null,null,null,null,null,null,null,null,null,null,null,null,null,null,null,null,null,null,null,null,null,null,null,null,null,null,null,null,null,null,null,null,null,null,null,null,null,null,null,null,null,null,null,null,null,null,null,null,null,null,null,null,null,null,null,null,null,null,null,null,null,null,null,null,null,null,null,null,null,null,null,null,null,null,null,null,null,null,null,null,null,null,null,null,null,null,null,null,null,null,null,null,null,null,null,null,null,null,null,null,null,null,null,null,null,null,null,null,null,null,null,null,null,null,null,null,null,null,null,null,null,null,null,null,null,null,null,null,null,null,null,null,2085655.625,2105486.5,2132817.25,2039908.5,2223254.75,2309778.0,2086774.125,1512969.75,1617864.625,1389911.5,1221283.5,1154246.75,1151972.75,1048546.3125,null,null,null,null,null,null,null,null,null,null,null,null,null,null,null,null,null,null,null,null,null,null,null,null,null,null,null,null,null,null,null,null,null,null,null,null,null,null,null,null,null,null,null,null,null,null,null,null,null,null,null,null,null,null,null,null,null,null,null,null,null,null,null,null,null,null,null,null,null,null,null,null,null,null,null,null,null,null,null,null,null,null,null,null,null,null,null,null,null,null,null,null,null,null,null,null,null,null,null,null,null,null,null,null,null,null,null,null,null,null,null,null,null,null,null,null,null,null,null,null,null,null,null,null,null,null,null,null,null,null,null,null,null,null,null,null,null,null,null,null,null,null,null,null,null,null,null,null,null,null,null,null,null,null,null,null,null,null,null,null,null,null,null,null,null,null,null,null,null,null,null,null,null,null,null,null,null,null,null,null,null,null,null,null,null,null,null,null,null,null,null,null,null,null,null,null],\"type\":\"scatter\",\"xaxis\":\"x5\",\"yaxis\":\"y5\"},{\"legendgroup\":\"y\",\"line\":{\"color\":\"#440154\",\"width\":1},\"mode\":\"lines\",\"name\":\"y\",\"showlegend\":false,\"x\":[\"2023-05-08T00:00:00\",\"2023-05-09T00:00:00\",\"2023-05-10T00:00:00\",\"2023-05-11T00:00:00\",\"2023-05-12T00:00:00\",\"2023-05-13T00:00:00\",\"2023-05-14T00:00:00\",\"2023-05-15T00:00:00\",\"2023-05-16T00:00:00\",\"2023-05-17T00:00:00\",\"2023-05-18T00:00:00\",\"2023-05-19T00:00:00\",\"2023-05-20T00:00:00\",\"2023-05-21T00:00:00\",\"2023-05-22T00:00:00\",\"2023-05-23T00:00:00\",\"2023-05-24T00:00:00\",\"2023-05-25T00:00:00\",\"2023-05-26T00:00:00\",\"2023-05-27T00:00:00\",\"2023-05-28T00:00:00\",\"2023-05-29T00:00:00\",\"2023-05-30T00:00:00\",\"2023-05-31T00:00:00\",\"2023-06-01T00:00:00\",\"2023-06-02T00:00:00\",\"2023-06-03T00:00:00\",\"2023-06-04T00:00:00\",\"2023-06-05T00:00:00\",\"2023-06-06T00:00:00\",\"2023-06-07T00:00:00\",\"2023-06-08T00:00:00\",\"2023-06-09T00:00:00\",\"2023-06-10T00:00:00\",\"2023-06-11T00:00:00\",\"2023-06-12T00:00:00\",\"2023-06-13T00:00:00\",\"2023-06-14T00:00:00\",\"2023-06-15T00:00:00\",\"2023-06-16T00:00:00\",\"2023-06-17T00:00:00\",\"2023-06-18T00:00:00\",\"2023-06-19T00:00:00\",\"2023-06-20T00:00:00\",\"2023-06-21T00:00:00\",\"2023-06-22T00:00:00\",\"2023-06-23T00:00:00\",\"2023-06-24T00:00:00\",\"2023-06-25T00:00:00\",\"2023-06-26T00:00:00\",\"2023-06-27T00:00:00\",\"2023-06-28T00:00:00\",\"2023-06-29T00:00:00\",\"2023-06-30T00:00:00\",\"2023-07-01T00:00:00\",\"2023-07-02T00:00:00\",\"2023-07-03T00:00:00\",\"2023-07-04T00:00:00\",\"2023-07-05T00:00:00\",\"2023-07-06T00:00:00\",\"2023-07-07T00:00:00\",\"2023-07-08T00:00:00\",\"2023-07-09T00:00:00\",\"2023-07-10T00:00:00\",\"2023-07-11T00:00:00\",\"2023-07-12T00:00:00\",\"2023-07-13T00:00:00\",\"2023-07-14T00:00:00\",\"2023-07-15T00:00:00\",\"2023-07-16T00:00:00\",\"2023-07-17T00:00:00\",\"2023-07-18T00:00:00\",\"2023-07-19T00:00:00\",\"2023-07-20T00:00:00\",\"2023-07-21T00:00:00\",\"2023-07-22T00:00:00\",\"2023-07-23T00:00:00\",\"2023-07-24T00:00:00\",\"2023-07-25T00:00:00\",\"2023-07-26T00:00:00\",\"2023-07-27T00:00:00\",\"2023-07-28T00:00:00\",\"2023-07-29T00:00:00\",\"2023-07-30T00:00:00\",\"2023-07-31T00:00:00\",\"2023-08-01T00:00:00\",\"2023-08-02T00:00:00\",\"2023-08-03T00:00:00\",\"2023-08-04T00:00:00\",\"2023-08-05T00:00:00\",\"2023-08-06T00:00:00\",\"2023-08-07T00:00:00\",\"2023-08-08T00:00:00\",\"2023-08-09T00:00:00\",\"2023-08-10T00:00:00\",\"2023-08-11T00:00:00\",\"2023-08-12T00:00:00\",\"2023-08-13T00:00:00\",\"2023-08-14T00:00:00\",\"2023-08-15T00:00:00\",\"2023-08-16T00:00:00\",\"2023-08-17T00:00:00\",\"2023-08-18T00:00:00\",\"2023-08-19T00:00:00\",\"2023-08-20T00:00:00\",\"2023-08-21T00:00:00\",\"2023-08-22T00:00:00\",\"2023-08-23T00:00:00\",\"2023-08-24T00:00:00\",\"2023-08-25T00:00:00\",\"2023-08-26T00:00:00\",\"2023-08-27T00:00:00\",\"2023-08-28T00:00:00\",\"2023-08-29T00:00:00\",\"2023-08-30T00:00:00\",\"2023-08-31T00:00:00\",\"2023-09-01T00:00:00\",\"2023-09-02T00:00:00\",\"2023-09-03T00:00:00\",\"2023-09-04T00:00:00\",\"2023-09-05T00:00:00\",\"2023-09-06T00:00:00\",\"2023-09-07T00:00:00\",\"2023-09-08T00:00:00\",\"2023-09-09T00:00:00\",\"2023-09-10T00:00:00\",\"2023-09-11T00:00:00\",\"2023-09-12T00:00:00\",\"2023-09-13T00:00:00\",\"2023-09-14T00:00:00\",\"2023-09-15T00:00:00\",\"2023-09-16T00:00:00\",\"2023-09-17T00:00:00\",\"2023-09-18T00:00:00\",\"2023-09-19T00:00:00\",\"2023-09-20T00:00:00\",\"2023-09-21T00:00:00\",\"2023-09-22T00:00:00\",\"2023-09-23T00:00:00\",\"2023-09-24T00:00:00\",\"2023-09-25T00:00:00\",\"2023-09-26T00:00:00\",\"2023-09-27T00:00:00\",\"2023-09-28T00:00:00\",\"2023-09-29T00:00:00\",\"2023-09-30T00:00:00\",\"2023-10-01T00:00:00\",\"2023-10-02T00:00:00\",\"2023-10-03T00:00:00\",\"2023-10-04T00:00:00\",\"2023-10-05T00:00:00\",\"2023-10-06T00:00:00\",\"2023-10-07T00:00:00\",\"2023-10-08T00:00:00\",\"2023-10-09T00:00:00\",\"2023-10-10T00:00:00\",\"2023-10-11T00:00:00\",\"2023-10-12T00:00:00\",\"2023-10-13T00:00:00\",\"2023-10-14T00:00:00\",\"2023-10-15T00:00:00\",\"2023-10-16T00:00:00\",\"2023-10-17T00:00:00\",\"2023-10-18T00:00:00\",\"2023-10-19T00:00:00\",\"2023-10-20T00:00:00\",\"2023-10-21T00:00:00\",\"2023-10-22T00:00:00\",\"2023-10-23T00:00:00\",\"2023-10-24T00:00:00\",\"2023-10-25T00:00:00\",\"2023-10-26T00:00:00\",\"2023-10-27T00:00:00\",\"2023-10-28T00:00:00\",\"2023-10-29T00:00:00\",\"2023-10-30T00:00:00\",\"2023-10-31T00:00:00\",\"2023-11-01T00:00:00\",\"2023-11-02T00:00:00\",\"2023-11-03T00:00:00\",\"2023-11-04T00:00:00\",\"2023-11-05T00:00:00\",\"2023-11-06T00:00:00\",\"2023-11-07T00:00:00\",\"2023-11-08T00:00:00\",\"2023-11-09T00:00:00\",\"2023-11-10T00:00:00\",\"2023-11-11T00:00:00\",\"2023-11-12T00:00:00\",\"2023-11-13T00:00:00\",\"2023-11-14T00:00:00\",\"2023-11-15T00:00:00\",\"2023-11-16T00:00:00\",\"2023-11-17T00:00:00\",\"2023-11-18T00:00:00\",\"2023-11-19T00:00:00\",\"2023-11-20T00:00:00\",\"2023-11-21T00:00:00\",\"2023-11-22T00:00:00\",\"2023-11-23T00:00:00\",\"2023-11-24T00:00:00\",\"2023-11-25T00:00:00\",\"2023-11-26T00:00:00\"],\"y\":[201070883.33333334,189569620.0,178303205.0,187547585.0,169681165.0,187397726.66666666,173966878.33333334,182210415.0,172519128.33333334,175564370.0,172808946.66666666,183027723.33333334,210175895.0,191606176.66666666,183428341.66666666,185924486.66666666,183067811.66666666,202162383.33333334,216827501.66666666,218629015.0,210919345.0,226865326.66666666,227495189.0,249525205.66666666,190696766.66666666,167350445.0,167871363.33333334,217367964.33333334,76248270.66666667,82684854.0,73270542.33333333,65640975.333333336,67075012.333333336,66132905.0,62072222.666666664,60566756.666666664,66235424.333333336,77501806.66666667,69527056.66666667,56778225.666666664,54790973.333333336,63450976.666666664,62523441.333333336,109409526.66666667,118538034.0,47767874.0,53405662.0,50874166.0,52736425.0,54406461.666666664,65784074.0,38727907.333333336,5942550.666666667,7666805.333333333,7900487.333333333,11444596.0,14494267.333333334,18023552.0,17423956.666666668,20612581.333333332,16611296.666666666,16129441.0,16565854.0,17769419.0,16933209.333333332,17005951.333333332,18817638.0,16783645.666666668,16445630.666666666,16779740.666666668,16536829.666666666,15721578.666666666,9041914.0,8785438.333333334,8008508.333333333,6299186.666666667,6504914.0,13218966.666666666,7723689.333333333,8334594.666666667,8111464.333333333,10517700.0,7579033.333333333,8233766.666666667,9679039.0,11103326.666666666,15433802.666666666,12175650.0,7683561.333333333,12355869.0,10422258.666666666,9515104.0,53486775.333333336,127569050.33333333,159160351.66666666,155655530.0,45243483.666666664,8574839.0,8248139.0,7982014.0,8263630.666666667,8747158.333333334,9082889.333333334,8527369.0,7946636.333333333,8423678.666666666,7956381.333333333,7719530.666666667,39219158.666666664,54743080.0,9123270.666666666,10944624.0,9975094.666666666,10074297.333333334,11808180.0,7187554.666666667,8985927.0,11190408.333333334,7773614.666666667,11210585.666666666,12792100.0,6769093.666666667,9155409.333333334,7435379.333333333,9504572.333333334,8273378.666666667,9607897.333333334,7942897.333333333,10524821.333333334,74816233.0,28783970.666666668,7087004.0,9723928.0,6276904.0,6781364.0,6683568.666666667,7725151.333333333,6870864.0,5488864.0,2724166.6666666665,5834048.0,6145833.333333333,9598894.666666666,7466561.333333333,9108197.333333334,8213197.333333333,11552789.333333334,8967746.666666666,10130697.333333334,9350122.666666666,12849096.0,40027242.666666664,6931864.0,8094209.666666667,6068986.666666667,7546622.666666667,6338286.0,8112425.333333333,7936197.333333333,7869500.0,7326697.333333333,6634500.0,6624894.666666667,5846030.666666667,5312369.666666667,5820120.333333333,4419228.0,7321364.0,4933728.0,7685333.333333333,7976061.333333333,7299000.0,8964197.333333334,5498166.666666667,6462666.666666667,6513666.666666667,7933833.333333333,10567833.333333334,9384228.0,8513728.0,7599166.666666667,7482833.333333333,7065333.333333333,8065394.666666667,10606548.0,6621030.666666667,7596697.333333333,7466864.0,8726425.333333334,8677585.333333334,6333622.666666667,5712092.0,6593864.0,5691061.333333333,6362697.333333333,5878666.666666667,6289000.0,7339894.0,5564697.333333333,6556561.333333333,8445723.333333334,7710456.0,7696364.0],\"type\":\"scatter\",\"xaxis\":\"x6\",\"yaxis\":\"y6\"},{\"legendgroup\":\"AutoARIMA\",\"line\":{\"color\":\"#fde725\",\"width\":1},\"mode\":\"lines\",\"name\":\"AutoARIMA\",\"showlegend\":false,\"x\":[\"2023-05-08T00:00:00\",\"2023-05-09T00:00:00\",\"2023-05-10T00:00:00\",\"2023-05-11T00:00:00\",\"2023-05-12T00:00:00\",\"2023-05-13T00:00:00\",\"2023-05-14T00:00:00\",\"2023-05-15T00:00:00\",\"2023-05-16T00:00:00\",\"2023-05-17T00:00:00\",\"2023-05-18T00:00:00\",\"2023-05-19T00:00:00\",\"2023-05-20T00:00:00\",\"2023-05-21T00:00:00\",\"2023-05-22T00:00:00\",\"2023-05-23T00:00:00\",\"2023-05-24T00:00:00\",\"2023-05-25T00:00:00\",\"2023-05-26T00:00:00\",\"2023-05-27T00:00:00\",\"2023-05-28T00:00:00\",\"2023-05-29T00:00:00\",\"2023-05-30T00:00:00\",\"2023-05-31T00:00:00\",\"2023-06-01T00:00:00\",\"2023-06-02T00:00:00\",\"2023-06-03T00:00:00\",\"2023-06-04T00:00:00\",\"2023-06-05T00:00:00\",\"2023-06-06T00:00:00\",\"2023-06-07T00:00:00\",\"2023-06-08T00:00:00\",\"2023-06-09T00:00:00\",\"2023-06-10T00:00:00\",\"2023-06-11T00:00:00\",\"2023-06-12T00:00:00\",\"2023-06-13T00:00:00\",\"2023-06-14T00:00:00\",\"2023-06-15T00:00:00\",\"2023-06-16T00:00:00\",\"2023-06-17T00:00:00\",\"2023-06-18T00:00:00\",\"2023-06-19T00:00:00\",\"2023-06-20T00:00:00\",\"2023-06-21T00:00:00\",\"2023-06-22T00:00:00\",\"2023-06-23T00:00:00\",\"2023-06-24T00:00:00\",\"2023-06-25T00:00:00\",\"2023-06-26T00:00:00\",\"2023-06-27T00:00:00\",\"2023-06-28T00:00:00\",\"2023-06-29T00:00:00\",\"2023-06-30T00:00:00\",\"2023-07-01T00:00:00\",\"2023-07-02T00:00:00\",\"2023-07-03T00:00:00\",\"2023-07-04T00:00:00\",\"2023-07-05T00:00:00\",\"2023-07-06T00:00:00\",\"2023-07-07T00:00:00\",\"2023-07-08T00:00:00\",\"2023-07-09T00:00:00\",\"2023-07-10T00:00:00\",\"2023-07-11T00:00:00\",\"2023-07-12T00:00:00\",\"2023-07-13T00:00:00\",\"2023-07-14T00:00:00\",\"2023-07-15T00:00:00\",\"2023-07-16T00:00:00\",\"2023-07-17T00:00:00\",\"2023-07-18T00:00:00\",\"2023-07-19T00:00:00\",\"2023-07-20T00:00:00\",\"2023-07-21T00:00:00\",\"2023-07-22T00:00:00\",\"2023-07-23T00:00:00\",\"2023-07-24T00:00:00\",\"2023-07-25T00:00:00\",\"2023-07-26T00:00:00\",\"2023-07-27T00:00:00\",\"2023-07-28T00:00:00\",\"2023-07-29T00:00:00\",\"2023-07-30T00:00:00\",\"2023-07-31T00:00:00\",\"2023-08-01T00:00:00\",\"2023-08-02T00:00:00\",\"2023-08-03T00:00:00\",\"2023-08-04T00:00:00\",\"2023-08-05T00:00:00\",\"2023-08-06T00:00:00\",\"2023-08-07T00:00:00\",\"2023-08-08T00:00:00\",\"2023-08-09T00:00:00\",\"2023-08-10T00:00:00\",\"2023-08-11T00:00:00\",\"2023-08-12T00:00:00\",\"2023-08-13T00:00:00\",\"2023-08-14T00:00:00\",\"2023-08-15T00:00:00\",\"2023-08-16T00:00:00\",\"2023-08-17T00:00:00\",\"2023-08-18T00:00:00\",\"2023-08-19T00:00:00\",\"2023-08-20T00:00:00\",\"2023-08-21T00:00:00\",\"2023-08-22T00:00:00\",\"2023-08-23T00:00:00\",\"2023-08-24T00:00:00\",\"2023-08-25T00:00:00\",\"2023-08-26T00:00:00\",\"2023-08-27T00:00:00\",\"2023-08-28T00:00:00\",\"2023-08-29T00:00:00\",\"2023-08-30T00:00:00\",\"2023-08-31T00:00:00\",\"2023-09-01T00:00:00\",\"2023-09-02T00:00:00\",\"2023-09-03T00:00:00\",\"2023-09-04T00:00:00\",\"2023-09-05T00:00:00\",\"2023-09-06T00:00:00\",\"2023-09-07T00:00:00\",\"2023-09-08T00:00:00\",\"2023-09-09T00:00:00\",\"2023-09-10T00:00:00\",\"2023-09-11T00:00:00\",\"2023-09-12T00:00:00\",\"2023-09-13T00:00:00\",\"2023-09-14T00:00:00\",\"2023-09-15T00:00:00\",\"2023-09-16T00:00:00\",\"2023-09-17T00:00:00\",\"2023-09-18T00:00:00\",\"2023-09-19T00:00:00\",\"2023-09-20T00:00:00\",\"2023-09-21T00:00:00\",\"2023-09-22T00:00:00\",\"2023-09-23T00:00:00\",\"2023-09-24T00:00:00\",\"2023-09-25T00:00:00\",\"2023-09-26T00:00:00\",\"2023-09-27T00:00:00\",\"2023-09-28T00:00:00\",\"2023-09-29T00:00:00\",\"2023-09-30T00:00:00\",\"2023-10-01T00:00:00\",\"2023-10-02T00:00:00\",\"2023-10-03T00:00:00\",\"2023-10-04T00:00:00\",\"2023-10-05T00:00:00\",\"2023-10-06T00:00:00\",\"2023-10-07T00:00:00\",\"2023-10-08T00:00:00\",\"2023-10-09T00:00:00\",\"2023-10-10T00:00:00\",\"2023-10-11T00:00:00\",\"2023-10-12T00:00:00\",\"2023-10-13T00:00:00\",\"2023-10-14T00:00:00\",\"2023-10-15T00:00:00\",\"2023-10-16T00:00:00\",\"2023-10-17T00:00:00\",\"2023-10-18T00:00:00\",\"2023-10-19T00:00:00\",\"2023-10-20T00:00:00\",\"2023-10-21T00:00:00\",\"2023-10-22T00:00:00\",\"2023-10-23T00:00:00\",\"2023-10-24T00:00:00\",\"2023-10-25T00:00:00\",\"2023-10-26T00:00:00\",\"2023-10-27T00:00:00\",\"2023-10-28T00:00:00\",\"2023-10-29T00:00:00\",\"2023-10-30T00:00:00\",\"2023-10-31T00:00:00\",\"2023-11-01T00:00:00\",\"2023-11-02T00:00:00\",\"2023-11-03T00:00:00\",\"2023-11-04T00:00:00\",\"2023-11-05T00:00:00\",\"2023-11-06T00:00:00\",\"2023-11-07T00:00:00\",\"2023-11-08T00:00:00\",\"2023-11-09T00:00:00\",\"2023-11-10T00:00:00\",\"2023-11-11T00:00:00\",\"2023-11-12T00:00:00\",\"2023-11-13T00:00:00\",\"2023-11-14T00:00:00\",\"2023-11-15T00:00:00\",\"2023-11-16T00:00:00\",\"2023-11-17T00:00:00\",\"2023-11-18T00:00:00\",\"2023-11-19T00:00:00\",\"2023-11-20T00:00:00\",\"2023-11-21T00:00:00\",\"2023-11-22T00:00:00\",\"2023-11-23T00:00:00\",\"2023-11-24T00:00:00\",\"2023-11-25T00:00:00\",\"2023-11-26T00:00:00\"],\"y\":[null,null,null,null,null,null,null,null,null,null,null,null,null,null,null,null,null,null,null,null,null,null,null,null,null,null,null,null,null,null,null,null,null,null,null,null,null,null,null,null,null,null,null,null,null,null,null,null,null,null,null,null,null,null,null,null,null,null,null,null,null,null,null,null,null,null,null,null,null,null,null,null,null,null,null,null,null,null,null,null,null,null,null,null,null,null,null,null,null,null,null,null,null,null,null,null,null,null,null,null,null,null,null,null,null,null,null,null,null,null,null,null,null,null,null,null,null,null,null,null,null,null,null,null,null,null,null,null,null,null,null,null,null,null,null,null,null,null,null,null,null,null,null,null,null,null,null,null,null,null,null,null,null,null,null,null,null,null,null,null,null,null,null,null,null,null,null,null,null,null,null,null,null,null,null,null,null,null,null,null,null,null,null,null,null,null,null,null,null,null,null,null,null,null,null,null,16814718.0,19626672.0,7315692.5,10439059.0,19024402.0,28574774.0,25867370.0],\"type\":\"scatter\",\"xaxis\":\"x6\",\"yaxis\":\"y6\"},{\"fill\":\"toself\",\"fillcolor\":\"#fde725\",\"legendgroup\":\"AutoARIMA_level_80\",\"line\":{\"color\":\"#fde725\",\"width\":1},\"mode\":\"lines\",\"name\":\"AutoARIMA_level_80\",\"opacity\":0.19999999999999996,\"showlegend\":false,\"x\":[\"2023-05-08T00:00:00.000000000\",\"2023-05-09T00:00:00.000000000\",\"2023-05-10T00:00:00.000000000\",\"2023-05-11T00:00:00.000000000\",\"2023-05-12T00:00:00.000000000\",\"2023-05-13T00:00:00.000000000\",\"2023-05-14T00:00:00.000000000\",\"2023-05-15T00:00:00.000000000\",\"2023-05-16T00:00:00.000000000\",\"2023-05-17T00:00:00.000000000\",\"2023-05-18T00:00:00.000000000\",\"2023-05-19T00:00:00.000000000\",\"2023-05-20T00:00:00.000000000\",\"2023-05-21T00:00:00.000000000\",\"2023-05-22T00:00:00.000000000\",\"2023-05-23T00:00:00.000000000\",\"2023-05-24T00:00:00.000000000\",\"2023-05-25T00:00:00.000000000\",\"2023-05-26T00:00:00.000000000\",\"2023-05-27T00:00:00.000000000\",\"2023-05-28T00:00:00.000000000\",\"2023-05-29T00:00:00.000000000\",\"2023-05-30T00:00:00.000000000\",\"2023-05-31T00:00:00.000000000\",\"2023-06-01T00:00:00.000000000\",\"2023-06-02T00:00:00.000000000\",\"2023-06-03T00:00:00.000000000\",\"2023-06-04T00:00:00.000000000\",\"2023-06-05T00:00:00.000000000\",\"2023-06-06T00:00:00.000000000\",\"2023-06-07T00:00:00.000000000\",\"2023-06-08T00:00:00.000000000\",\"2023-06-09T00:00:00.000000000\",\"2023-06-10T00:00:00.000000000\",\"2023-06-11T00:00:00.000000000\",\"2023-06-12T00:00:00.000000000\",\"2023-06-13T00:00:00.000000000\",\"2023-06-14T00:00:00.000000000\",\"2023-06-15T00:00:00.000000000\",\"2023-06-16T00:00:00.000000000\",\"2023-06-17T00:00:00.000000000\",\"2023-06-18T00:00:00.000000000\",\"2023-06-19T00:00:00.000000000\",\"2023-06-20T00:00:00.000000000\",\"2023-06-21T00:00:00.000000000\",\"2023-06-22T00:00:00.000000000\",\"2023-06-23T00:00:00.000000000\",\"2023-06-24T00:00:00.000000000\",\"2023-06-25T00:00:00.000000000\",\"2023-06-26T00:00:00.000000000\",\"2023-06-27T00:00:00.000000000\",\"2023-06-28T00:00:00.000000000\",\"2023-06-29T00:00:00.000000000\",\"2023-06-30T00:00:00.000000000\",\"2023-07-01T00:00:00.000000000\",\"2023-07-02T00:00:00.000000000\",\"2023-07-03T00:00:00.000000000\",\"2023-07-04T00:00:00.000000000\",\"2023-07-05T00:00:00.000000000\",\"2023-07-06T00:00:00.000000000\",\"2023-07-07T00:00:00.000000000\",\"2023-07-08T00:00:00.000000000\",\"2023-07-09T00:00:00.000000000\",\"2023-07-10T00:00:00.000000000\",\"2023-07-11T00:00:00.000000000\",\"2023-07-12T00:00:00.000000000\",\"2023-07-13T00:00:00.000000000\",\"2023-07-14T00:00:00.000000000\",\"2023-07-15T00:00:00.000000000\",\"2023-07-16T00:00:00.000000000\",\"2023-07-17T00:00:00.000000000\",\"2023-07-18T00:00:00.000000000\",\"2023-07-19T00:00:00.000000000\",\"2023-07-20T00:00:00.000000000\",\"2023-07-21T00:00:00.000000000\",\"2023-07-22T00:00:00.000000000\",\"2023-07-23T00:00:00.000000000\",\"2023-07-24T00:00:00.000000000\",\"2023-07-25T00:00:00.000000000\",\"2023-07-26T00:00:00.000000000\",\"2023-07-27T00:00:00.000000000\",\"2023-07-28T00:00:00.000000000\",\"2023-07-29T00:00:00.000000000\",\"2023-07-30T00:00:00.000000000\",\"2023-07-31T00:00:00.000000000\",\"2023-08-01T00:00:00.000000000\",\"2023-08-02T00:00:00.000000000\",\"2023-08-03T00:00:00.000000000\",\"2023-08-04T00:00:00.000000000\",\"2023-08-05T00:00:00.000000000\",\"2023-08-06T00:00:00.000000000\",\"2023-08-07T00:00:00.000000000\",\"2023-08-08T00:00:00.000000000\",\"2023-08-09T00:00:00.000000000\",\"2023-08-10T00:00:00.000000000\",\"2023-08-11T00:00:00.000000000\",\"2023-08-12T00:00:00.000000000\",\"2023-08-13T00:00:00.000000000\",\"2023-08-14T00:00:00.000000000\",\"2023-08-15T00:00:00.000000000\",\"2023-08-16T00:00:00.000000000\",\"2023-08-17T00:00:00.000000000\",\"2023-08-18T00:00:00.000000000\",\"2023-08-19T00:00:00.000000000\",\"2023-08-20T00:00:00.000000000\",\"2023-08-21T00:00:00.000000000\",\"2023-08-22T00:00:00.000000000\",\"2023-08-23T00:00:00.000000000\",\"2023-08-24T00:00:00.000000000\",\"2023-08-25T00:00:00.000000000\",\"2023-08-26T00:00:00.000000000\",\"2023-08-27T00:00:00.000000000\",\"2023-08-28T00:00:00.000000000\",\"2023-08-29T00:00:00.000000000\",\"2023-08-30T00:00:00.000000000\",\"2023-08-31T00:00:00.000000000\",\"2023-09-01T00:00:00.000000000\",\"2023-09-02T00:00:00.000000000\",\"2023-09-03T00:00:00.000000000\",\"2023-09-04T00:00:00.000000000\",\"2023-09-05T00:00:00.000000000\",\"2023-09-06T00:00:00.000000000\",\"2023-09-07T00:00:00.000000000\",\"2023-09-08T00:00:00.000000000\",\"2023-09-09T00:00:00.000000000\",\"2023-09-10T00:00:00.000000000\",\"2023-09-11T00:00:00.000000000\",\"2023-09-12T00:00:00.000000000\",\"2023-09-13T00:00:00.000000000\",\"2023-09-14T00:00:00.000000000\",\"2023-09-15T00:00:00.000000000\",\"2023-09-16T00:00:00.000000000\",\"2023-09-17T00:00:00.000000000\",\"2023-09-18T00:00:00.000000000\",\"2023-09-19T00:00:00.000000000\",\"2023-09-20T00:00:00.000000000\",\"2023-09-21T00:00:00.000000000\",\"2023-09-22T00:00:00.000000000\",\"2023-09-23T00:00:00.000000000\",\"2023-09-24T00:00:00.000000000\",\"2023-09-25T00:00:00.000000000\",\"2023-09-26T00:00:00.000000000\",\"2023-09-27T00:00:00.000000000\",\"2023-09-28T00:00:00.000000000\",\"2023-09-29T00:00:00.000000000\",\"2023-09-30T00:00:00.000000000\",\"2023-10-01T00:00:00.000000000\",\"2023-10-02T00:00:00.000000000\",\"2023-10-03T00:00:00.000000000\",\"2023-10-04T00:00:00.000000000\",\"2023-10-05T00:00:00.000000000\",\"2023-10-06T00:00:00.000000000\",\"2023-10-07T00:00:00.000000000\",\"2023-10-08T00:00:00.000000000\",\"2023-10-09T00:00:00.000000000\",\"2023-10-10T00:00:00.000000000\",\"2023-10-11T00:00:00.000000000\",\"2023-10-12T00:00:00.000000000\",\"2023-10-13T00:00:00.000000000\",\"2023-10-14T00:00:00.000000000\",\"2023-10-15T00:00:00.000000000\",\"2023-10-16T00:00:00.000000000\",\"2023-10-17T00:00:00.000000000\",\"2023-10-18T00:00:00.000000000\",\"2023-10-19T00:00:00.000000000\",\"2023-10-20T00:00:00.000000000\",\"2023-10-21T00:00:00.000000000\",\"2023-10-22T00:00:00.000000000\",\"2023-10-23T00:00:00.000000000\",\"2023-10-24T00:00:00.000000000\",\"2023-10-25T00:00:00.000000000\",\"2023-10-26T00:00:00.000000000\",\"2023-10-27T00:00:00.000000000\",\"2023-10-28T00:00:00.000000000\",\"2023-10-29T00:00:00.000000000\",\"2023-10-30T00:00:00.000000000\",\"2023-10-31T00:00:00.000000000\",\"2023-11-01T00:00:00.000000000\",\"2023-11-02T00:00:00.000000000\",\"2023-11-03T00:00:00.000000000\",\"2023-11-04T00:00:00.000000000\",\"2023-11-05T00:00:00.000000000\",\"2023-11-06T00:00:00.000000000\",\"2023-11-07T00:00:00.000000000\",\"2023-11-08T00:00:00.000000000\",\"2023-11-09T00:00:00.000000000\",\"2023-11-10T00:00:00.000000000\",\"2023-11-11T00:00:00.000000000\",\"2023-11-12T00:00:00.000000000\",\"2023-11-13T00:00:00.000000000\",\"2023-11-14T00:00:00.000000000\",\"2023-11-15T00:00:00.000000000\",\"2023-11-16T00:00:00.000000000\",\"2023-11-17T00:00:00.000000000\",\"2023-11-18T00:00:00.000000000\",\"2023-11-19T00:00:00.000000000\",\"2023-11-20T00:00:00.000000000\",\"2023-11-21T00:00:00.000000000\",\"2023-11-22T00:00:00.000000000\",\"2023-11-23T00:00:00.000000000\",\"2023-11-24T00:00:00.000000000\",\"2023-11-25T00:00:00.000000000\",\"2023-11-26T00:00:00.000000000\",\"2023-11-26T00:00:00.000000000\",\"2023-11-25T00:00:00.000000000\",\"2023-11-24T00:00:00.000000000\",\"2023-11-23T00:00:00.000000000\",\"2023-11-22T00:00:00.000000000\",\"2023-11-21T00:00:00.000000000\",\"2023-11-20T00:00:00.000000000\",\"2023-11-19T00:00:00.000000000\",\"2023-11-18T00:00:00.000000000\",\"2023-11-17T00:00:00.000000000\",\"2023-11-16T00:00:00.000000000\",\"2023-11-15T00:00:00.000000000\",\"2023-11-14T00:00:00.000000000\",\"2023-11-13T00:00:00.000000000\",\"2023-11-12T00:00:00.000000000\",\"2023-11-11T00:00:00.000000000\",\"2023-11-10T00:00:00.000000000\",\"2023-11-09T00:00:00.000000000\",\"2023-11-08T00:00:00.000000000\",\"2023-11-07T00:00:00.000000000\",\"2023-11-06T00:00:00.000000000\",\"2023-11-05T00:00:00.000000000\",\"2023-11-04T00:00:00.000000000\",\"2023-11-03T00:00:00.000000000\",\"2023-11-02T00:00:00.000000000\",\"2023-11-01T00:00:00.000000000\",\"2023-10-31T00:00:00.000000000\",\"2023-10-30T00:00:00.000000000\",\"2023-10-29T00:00:00.000000000\",\"2023-10-28T00:00:00.000000000\",\"2023-10-27T00:00:00.000000000\",\"2023-10-26T00:00:00.000000000\",\"2023-10-25T00:00:00.000000000\",\"2023-10-24T00:00:00.000000000\",\"2023-10-23T00:00:00.000000000\",\"2023-10-22T00:00:00.000000000\",\"2023-10-21T00:00:00.000000000\",\"2023-10-20T00:00:00.000000000\",\"2023-10-19T00:00:00.000000000\",\"2023-10-18T00:00:00.000000000\",\"2023-10-17T00:00:00.000000000\",\"2023-10-16T00:00:00.000000000\",\"2023-10-15T00:00:00.000000000\",\"2023-10-14T00:00:00.000000000\",\"2023-10-13T00:00:00.000000000\",\"2023-10-12T00:00:00.000000000\",\"2023-10-11T00:00:00.000000000\",\"2023-10-10T00:00:00.000000000\",\"2023-10-09T00:00:00.000000000\",\"2023-10-08T00:00:00.000000000\",\"2023-10-07T00:00:00.000000000\",\"2023-10-06T00:00:00.000000000\",\"2023-10-05T00:00:00.000000000\",\"2023-10-04T00:00:00.000000000\",\"2023-10-03T00:00:00.000000000\",\"2023-10-02T00:00:00.000000000\",\"2023-10-01T00:00:00.000000000\",\"2023-09-30T00:00:00.000000000\",\"2023-09-29T00:00:00.000000000\",\"2023-09-28T00:00:00.000000000\",\"2023-09-27T00:00:00.000000000\",\"2023-09-26T00:00:00.000000000\",\"2023-09-25T00:00:00.000000000\",\"2023-09-24T00:00:00.000000000\",\"2023-09-23T00:00:00.000000000\",\"2023-09-22T00:00:00.000000000\",\"2023-09-21T00:00:00.000000000\",\"2023-09-20T00:00:00.000000000\",\"2023-09-19T00:00:00.000000000\",\"2023-09-18T00:00:00.000000000\",\"2023-09-17T00:00:00.000000000\",\"2023-09-16T00:00:00.000000000\",\"2023-09-15T00:00:00.000000000\",\"2023-09-14T00:00:00.000000000\",\"2023-09-13T00:00:00.000000000\",\"2023-09-12T00:00:00.000000000\",\"2023-09-11T00:00:00.000000000\",\"2023-09-10T00:00:00.000000000\",\"2023-09-09T00:00:00.000000000\",\"2023-09-08T00:00:00.000000000\",\"2023-09-07T00:00:00.000000000\",\"2023-09-06T00:00:00.000000000\",\"2023-09-05T00:00:00.000000000\",\"2023-09-04T00:00:00.000000000\",\"2023-09-03T00:00:00.000000000\",\"2023-09-02T00:00:00.000000000\",\"2023-09-01T00:00:00.000000000\",\"2023-08-31T00:00:00.000000000\",\"2023-08-30T00:00:00.000000000\",\"2023-08-29T00:00:00.000000000\",\"2023-08-28T00:00:00.000000000\",\"2023-08-27T00:00:00.000000000\",\"2023-08-26T00:00:00.000000000\",\"2023-08-25T00:00:00.000000000\",\"2023-08-24T00:00:00.000000000\",\"2023-08-23T00:00:00.000000000\",\"2023-08-22T00:00:00.000000000\",\"2023-08-21T00:00:00.000000000\",\"2023-08-20T00:00:00.000000000\",\"2023-08-19T00:00:00.000000000\",\"2023-08-18T00:00:00.000000000\",\"2023-08-17T00:00:00.000000000\",\"2023-08-16T00:00:00.000000000\",\"2023-08-15T00:00:00.000000000\",\"2023-08-14T00:00:00.000000000\",\"2023-08-13T00:00:00.000000000\",\"2023-08-12T00:00:00.000000000\",\"2023-08-11T00:00:00.000000000\",\"2023-08-10T00:00:00.000000000\",\"2023-08-09T00:00:00.000000000\",\"2023-08-08T00:00:00.000000000\",\"2023-08-07T00:00:00.000000000\",\"2023-08-06T00:00:00.000000000\",\"2023-08-05T00:00:00.000000000\",\"2023-08-04T00:00:00.000000000\",\"2023-08-03T00:00:00.000000000\",\"2023-08-02T00:00:00.000000000\",\"2023-08-01T00:00:00.000000000\",\"2023-07-31T00:00:00.000000000\",\"2023-07-30T00:00:00.000000000\",\"2023-07-29T00:00:00.000000000\",\"2023-07-28T00:00:00.000000000\",\"2023-07-27T00:00:00.000000000\",\"2023-07-26T00:00:00.000000000\",\"2023-07-25T00:00:00.000000000\",\"2023-07-24T00:00:00.000000000\",\"2023-07-23T00:00:00.000000000\",\"2023-07-22T00:00:00.000000000\",\"2023-07-21T00:00:00.000000000\",\"2023-07-20T00:00:00.000000000\",\"2023-07-19T00:00:00.000000000\",\"2023-07-18T00:00:00.000000000\",\"2023-07-17T00:00:00.000000000\",\"2023-07-16T00:00:00.000000000\",\"2023-07-15T00:00:00.000000000\",\"2023-07-14T00:00:00.000000000\",\"2023-07-13T00:00:00.000000000\",\"2023-07-12T00:00:00.000000000\",\"2023-07-11T00:00:00.000000000\",\"2023-07-10T00:00:00.000000000\",\"2023-07-09T00:00:00.000000000\",\"2023-07-08T00:00:00.000000000\",\"2023-07-07T00:00:00.000000000\",\"2023-07-06T00:00:00.000000000\",\"2023-07-05T00:00:00.000000000\",\"2023-07-04T00:00:00.000000000\",\"2023-07-03T00:00:00.000000000\",\"2023-07-02T00:00:00.000000000\",\"2023-07-01T00:00:00.000000000\",\"2023-06-30T00:00:00.000000000\",\"2023-06-29T00:00:00.000000000\",\"2023-06-28T00:00:00.000000000\",\"2023-06-27T00:00:00.000000000\",\"2023-06-26T00:00:00.000000000\",\"2023-06-25T00:00:00.000000000\",\"2023-06-24T00:00:00.000000000\",\"2023-06-23T00:00:00.000000000\",\"2023-06-22T00:00:00.000000000\",\"2023-06-21T00:00:00.000000000\",\"2023-06-20T00:00:00.000000000\",\"2023-06-19T00:00:00.000000000\",\"2023-06-18T00:00:00.000000000\",\"2023-06-17T00:00:00.000000000\",\"2023-06-16T00:00:00.000000000\",\"2023-06-15T00:00:00.000000000\",\"2023-06-14T00:00:00.000000000\",\"2023-06-13T00:00:00.000000000\",\"2023-06-12T00:00:00.000000000\",\"2023-06-11T00:00:00.000000000\",\"2023-06-10T00:00:00.000000000\",\"2023-06-09T00:00:00.000000000\",\"2023-06-08T00:00:00.000000000\",\"2023-06-07T00:00:00.000000000\",\"2023-06-06T00:00:00.000000000\",\"2023-06-05T00:00:00.000000000\",\"2023-06-04T00:00:00.000000000\",\"2023-06-03T00:00:00.000000000\",\"2023-06-02T00:00:00.000000000\",\"2023-06-01T00:00:00.000000000\",\"2023-05-31T00:00:00.000000000\",\"2023-05-30T00:00:00.000000000\",\"2023-05-29T00:00:00.000000000\",\"2023-05-28T00:00:00.000000000\",\"2023-05-27T00:00:00.000000000\",\"2023-05-26T00:00:00.000000000\",\"2023-05-25T00:00:00.000000000\",\"2023-05-24T00:00:00.000000000\",\"2023-05-23T00:00:00.000000000\",\"2023-05-22T00:00:00.000000000\",\"2023-05-21T00:00:00.000000000\",\"2023-05-20T00:00:00.000000000\",\"2023-05-19T00:00:00.000000000\",\"2023-05-18T00:00:00.000000000\",\"2023-05-17T00:00:00.000000000\",\"2023-05-16T00:00:00.000000000\",\"2023-05-15T00:00:00.000000000\",\"2023-05-14T00:00:00.000000000\",\"2023-05-13T00:00:00.000000000\",\"2023-05-12T00:00:00.000000000\",\"2023-05-11T00:00:00.000000000\",\"2023-05-10T00:00:00.000000000\",\"2023-05-09T00:00:00.000000000\",\"2023-05-08T00:00:00.000000000\"],\"y\":[null,null,null,null,null,null,null,null,null,null,null,null,null,null,null,null,null,null,null,null,null,null,null,null,null,null,null,null,null,null,null,null,null,null,null,null,null,null,null,null,null,null,null,null,null,null,null,null,null,null,null,null,null,null,null,null,null,null,null,null,null,null,null,null,null,null,null,null,null,null,null,null,null,null,null,null,null,null,null,null,null,null,null,null,null,null,null,null,null,null,null,null,null,null,null,null,null,null,null,null,null,null,null,null,null,null,null,null,null,null,null,null,null,null,null,null,null,null,null,null,null,null,null,null,null,null,null,null,null,null,null,null,null,null,null,null,null,null,null,null,null,null,null,null,null,null,null,null,null,null,null,null,null,null,null,null,null,null,null,null,null,null,null,null,null,null,null,null,null,null,null,null,null,null,null,null,null,null,null,null,null,null,null,null,null,null,null,null,null,null,null,null,null,null,null,null,18070044.0,21394724.0,11575679.0,11743650.0,21036206.0,29835504.0,26846738.0,24888002.0,27314042.0,17012600.0,9134468.0,3055705.25,17858618.0,15559391.0,null,null,null,null,null,null,null,null,null,null,null,null,null,null,null,null,null,null,null,null,null,null,null,null,null,null,null,null,null,null,null,null,null,null,null,null,null,null,null,null,null,null,null,null,null,null,null,null,null,null,null,null,null,null,null,null,null,null,null,null,null,null,null,null,null,null,null,null,null,null,null,null,null,null,null,null,null,null,null,null,null,null,null,null,null,null,null,null,null,null,null,null,null,null,null,null,null,null,null,null,null,null,null,null,null,null,null,null,null,null,null,null,null,null,null,null,null,null,null,null,null,null,null,null,null,null,null,null,null,null,null,null,null,null,null,null,null,null,null,null,null,null,null,null,null,null,null,null,null,null,null,null,null,null,null,null,null,null,null,null,null,null,null,null,null,null,null,null,null,null,null,null,null,null,null,null,null,null,null,null,null,null,null,null,null,null,null,null,null,null,null,null,null,null,null,null],\"type\":\"scatter\",\"xaxis\":\"x6\",\"yaxis\":\"y6\"},{\"legendgroup\":\"y\",\"line\":{\"color\":\"#440154\",\"width\":1},\"mode\":\"lines\",\"name\":\"y\",\"showlegend\":false,\"x\":[\"2023-05-08T00:00:00\",\"2023-05-09T00:00:00\",\"2023-05-10T00:00:00\",\"2023-05-11T00:00:00\",\"2023-05-12T00:00:00\",\"2023-05-13T00:00:00\",\"2023-05-14T00:00:00\",\"2023-05-15T00:00:00\",\"2023-05-16T00:00:00\",\"2023-05-17T00:00:00\",\"2023-05-18T00:00:00\",\"2023-05-19T00:00:00\",\"2023-05-20T00:00:00\",\"2023-05-21T00:00:00\",\"2023-05-22T00:00:00\",\"2023-05-23T00:00:00\",\"2023-05-24T00:00:00\",\"2023-05-25T00:00:00\",\"2023-05-26T00:00:00\",\"2023-05-27T00:00:00\",\"2023-05-28T00:00:00\",\"2023-05-29T00:00:00\",\"2023-05-30T00:00:00\",\"2023-05-31T00:00:00\",\"2023-06-01T00:00:00\",\"2023-06-02T00:00:00\",\"2023-06-03T00:00:00\",\"2023-06-04T00:00:00\",\"2023-06-05T00:00:00\",\"2023-06-06T00:00:00\",\"2023-06-07T00:00:00\",\"2023-06-08T00:00:00\",\"2023-06-09T00:00:00\",\"2023-06-10T00:00:00\",\"2023-06-11T00:00:00\",\"2023-06-12T00:00:00\",\"2023-06-13T00:00:00\",\"2023-06-14T00:00:00\",\"2023-06-15T00:00:00\",\"2023-06-16T00:00:00\",\"2023-06-17T00:00:00\",\"2023-06-18T00:00:00\",\"2023-06-19T00:00:00\",\"2023-06-20T00:00:00\",\"2023-06-21T00:00:00\",\"2023-06-22T00:00:00\",\"2023-06-23T00:00:00\",\"2023-06-24T00:00:00\",\"2023-06-25T00:00:00\",\"2023-06-26T00:00:00\",\"2023-06-27T00:00:00\",\"2023-06-28T00:00:00\",\"2023-06-29T00:00:00\",\"2023-06-30T00:00:00\",\"2023-07-01T00:00:00\",\"2023-07-02T00:00:00\",\"2023-07-03T00:00:00\",\"2023-07-04T00:00:00\",\"2023-07-05T00:00:00\",\"2023-07-06T00:00:00\",\"2023-07-07T00:00:00\",\"2023-07-08T00:00:00\",\"2023-07-09T00:00:00\",\"2023-07-10T00:00:00\",\"2023-07-11T00:00:00\",\"2023-07-12T00:00:00\",\"2023-07-13T00:00:00\",\"2023-07-14T00:00:00\",\"2023-07-15T00:00:00\",\"2023-07-16T00:00:00\",\"2023-07-17T00:00:00\",\"2023-07-18T00:00:00\",\"2023-07-19T00:00:00\",\"2023-07-20T00:00:00\",\"2023-07-21T00:00:00\",\"2023-07-22T00:00:00\",\"2023-07-23T00:00:00\",\"2023-07-24T00:00:00\",\"2023-07-25T00:00:00\",\"2023-07-26T00:00:00\",\"2023-07-27T00:00:00\",\"2023-07-28T00:00:00\",\"2023-07-29T00:00:00\",\"2023-07-30T00:00:00\",\"2023-07-31T00:00:00\",\"2023-08-01T00:00:00\",\"2023-08-02T00:00:00\",\"2023-08-03T00:00:00\",\"2023-08-04T00:00:00\",\"2023-08-05T00:00:00\",\"2023-08-06T00:00:00\",\"2023-08-07T00:00:00\",\"2023-08-08T00:00:00\",\"2023-08-09T00:00:00\",\"2023-08-10T00:00:00\",\"2023-08-11T00:00:00\",\"2023-08-12T00:00:00\",\"2023-08-13T00:00:00\",\"2023-08-14T00:00:00\",\"2023-08-15T00:00:00\",\"2023-08-16T00:00:00\",\"2023-08-17T00:00:00\",\"2023-08-18T00:00:00\",\"2023-08-19T00:00:00\",\"2023-08-20T00:00:00\",\"2023-08-21T00:00:00\",\"2023-08-22T00:00:00\",\"2023-08-23T00:00:00\",\"2023-08-24T00:00:00\",\"2023-08-25T00:00:00\",\"2023-08-26T00:00:00\",\"2023-08-27T00:00:00\",\"2023-08-28T00:00:00\",\"2023-08-29T00:00:00\",\"2023-08-30T00:00:00\",\"2023-08-31T00:00:00\",\"2023-09-01T00:00:00\",\"2023-09-02T00:00:00\",\"2023-09-03T00:00:00\",\"2023-09-04T00:00:00\",\"2023-09-05T00:00:00\",\"2023-09-06T00:00:00\",\"2023-09-07T00:00:00\",\"2023-09-08T00:00:00\",\"2023-09-09T00:00:00\",\"2023-09-10T00:00:00\",\"2023-09-11T00:00:00\",\"2023-09-12T00:00:00\",\"2023-09-13T00:00:00\",\"2023-09-14T00:00:00\",\"2023-09-15T00:00:00\",\"2023-09-16T00:00:00\",\"2023-09-17T00:00:00\",\"2023-09-18T00:00:00\",\"2023-09-19T00:00:00\",\"2023-09-20T00:00:00\",\"2023-09-21T00:00:00\",\"2023-09-22T00:00:00\",\"2023-09-23T00:00:00\",\"2023-09-24T00:00:00\",\"2023-09-25T00:00:00\",\"2023-09-26T00:00:00\",\"2023-09-27T00:00:00\",\"2023-09-28T00:00:00\",\"2023-09-29T00:00:00\",\"2023-09-30T00:00:00\",\"2023-10-01T00:00:00\",\"2023-10-02T00:00:00\",\"2023-10-03T00:00:00\",\"2023-10-04T00:00:00\",\"2023-10-05T00:00:00\",\"2023-10-06T00:00:00\",\"2023-10-07T00:00:00\",\"2023-10-08T00:00:00\",\"2023-10-09T00:00:00\",\"2023-10-10T00:00:00\",\"2023-10-11T00:00:00\",\"2023-10-12T00:00:00\",\"2023-10-13T00:00:00\",\"2023-10-14T00:00:00\",\"2023-10-15T00:00:00\",\"2023-10-16T00:00:00\",\"2023-10-17T00:00:00\",\"2023-10-18T00:00:00\",\"2023-10-19T00:00:00\",\"2023-10-20T00:00:00\",\"2023-10-21T00:00:00\",\"2023-10-22T00:00:00\",\"2023-10-23T00:00:00\",\"2023-10-24T00:00:00\",\"2023-10-25T00:00:00\",\"2023-10-26T00:00:00\",\"2023-10-27T00:00:00\",\"2023-10-28T00:00:00\",\"2023-10-29T00:00:00\",\"2023-10-30T00:00:00\",\"2023-10-31T00:00:00\",\"2023-11-01T00:00:00\",\"2023-11-02T00:00:00\",\"2023-11-03T00:00:00\",\"2023-11-04T00:00:00\",\"2023-11-05T00:00:00\",\"2023-11-06T00:00:00\",\"2023-11-07T00:00:00\",\"2023-11-08T00:00:00\",\"2023-11-09T00:00:00\",\"2023-11-10T00:00:00\",\"2023-11-11T00:00:00\",\"2023-11-12T00:00:00\",\"2023-11-13T00:00:00\",\"2023-11-14T00:00:00\",\"2023-11-15T00:00:00\",\"2023-11-16T00:00:00\",\"2023-11-17T00:00:00\",\"2023-11-18T00:00:00\",\"2023-11-19T00:00:00\",\"2023-11-20T00:00:00\",\"2023-11-21T00:00:00\",\"2023-11-22T00:00:00\",\"2023-11-23T00:00:00\",\"2023-11-24T00:00:00\",\"2023-11-25T00:00:00\",\"2023-11-26T00:00:00\"],\"y\":[67140227.0,32750498.333333332,10323696.0,13175105.666666666,14594947.333333334,8532114.0,9718098.333333334,9364244.0,10619936.0,10755792.333333334,30260408.333333332,33972759.0,32832295.333333332,28365140.333333332,31752173.0,32213132.666666668,32094103.666666668,31217355.333333332,33095235.666666668,30322506.666666668,32432028.666666668,32045699.0,36840347.0,36096521.333333336,29435928.0,24180478.666666668,34558642.0,35031787.333333336,39404600.333333336,37059783.666666664,22666932.333333332,6474637.666666667,7298934.333333333,9120496.666666666,7261557.666666667,10832793.0,6527851.666666667,8474935.0,8251424.333333333,7441180.333333333,6900973.666666667,6531004.0,8127496.333333333,7017018.0,8392845.333333334,8321325.666666667,7640662.333333333,7602614.333333333,7298850.0,7894364.666666667,6192111.666666667,6129585.666666667,6609783.333333333,8262856.666666667,9439024.0,7711565.0,10071246.333333334,7984486.0,10141980.666666666,10006115.0,8462987.666666666,10848663.0,8993015.333333334,8524365.666666666,9084025.0,9111619.666666666,11367826.0,10967164.333333334,8357389.0,5954284.333333333,6556869.0,6905059.0,10790476.0,11438329.0,9017636.333333334,7071317.333333333,6695922.666666667,12114964.333333334,7537512.666666667,6623150.0,6100980.0,9699830.0,7990347.333333333,8778328.0,8281669.0,6628119.333333333,10167132.0,7354778.0,7399610.333333333,5857791.0,8145661.333333333,8394453.333333334,5891234.666666667,3112954.0,4361236.333333333,4856793.666666667,4005547.0,4078163.3333333335,6298888.333333333,3809633.3333333335,4696667.666666667,4563262.333333333,3302996.3333333335,3299359.6666666665,3846591.6666666665,5043335.666666667,4127407.6666666665,4845831.666666667,6596522.666666667,5724688.333333333,13065479.666666666,4715960.666666667,5335431.0,4811595.666666667,4472670.666666667,6520840.666666667,6039851.0,5054240.0,5007014.333333333,5618758.333333333,4108597.6666666665,4556479.333333333,5236275.666666667,5367746.0,7750227.333333333,5401660.0,5529376.0,4260206.333333333,4434277.666666667,6610094.0,6029828.0,6527814.0,5387135.666666667,3500115.3333333335,3259917.6666666665,4856986.666666667,3970993.3333333335,5266760.0,4691781.666666667,2891702.6666666665,5024499.666666667,4559892.666666667,5942249.333333333,5295235.0,5379918.333333333,6098107.333333333,5311583.0,5745238.666666667,5883921.333333333,3800462.6666666665,4745791.0,4427854.666666667,4782304.0,6994308.666666667,5692828.666666667,5096418.333333333,4312746.0,5021721.333333333,4052524.3333333335,6663936.666666667,4416229.0,5220085.666666667,4044142.0,3953106.3333333335,4182076.3333333335,3479413.6666666665,5042105.0,6171871.0,3362390.3333333335,8228326.333333333,4697125.666666667,5347367.0,7150879.333333333,6955594.666666667,7392598.666666667,8896312.666666666,6500714.0,7405410.666666667,6010100.0,5427300.666666667,7406374.0,10438967.666666666,11222178.0,10211899.666666666,6384732.666666667,5468963.333333333,5419360.0,5832355.666666667,6032199.333333333,14465622.666666666,7102309.0,5789855.0,6576307.333333333,6329058.666666667,6199138.666666667,4627072.0,6956202.333333333,5827238.0,6440392.333333333,5254743.333333333,6608034.666666667,6770432.666666667,8695820.666666666],\"type\":\"scatter\",\"xaxis\":\"x7\",\"yaxis\":\"y7\"},{\"legendgroup\":\"AutoARIMA\",\"line\":{\"color\":\"#fde725\",\"width\":1},\"mode\":\"lines\",\"name\":\"AutoARIMA\",\"showlegend\":false,\"x\":[\"2023-05-08T00:00:00\",\"2023-05-09T00:00:00\",\"2023-05-10T00:00:00\",\"2023-05-11T00:00:00\",\"2023-05-12T00:00:00\",\"2023-05-13T00:00:00\",\"2023-05-14T00:00:00\",\"2023-05-15T00:00:00\",\"2023-05-16T00:00:00\",\"2023-05-17T00:00:00\",\"2023-05-18T00:00:00\",\"2023-05-19T00:00:00\",\"2023-05-20T00:00:00\",\"2023-05-21T00:00:00\",\"2023-05-22T00:00:00\",\"2023-05-23T00:00:00\",\"2023-05-24T00:00:00\",\"2023-05-25T00:00:00\",\"2023-05-26T00:00:00\",\"2023-05-27T00:00:00\",\"2023-05-28T00:00:00\",\"2023-05-29T00:00:00\",\"2023-05-30T00:00:00\",\"2023-05-31T00:00:00\",\"2023-06-01T00:00:00\",\"2023-06-02T00:00:00\",\"2023-06-03T00:00:00\",\"2023-06-04T00:00:00\",\"2023-06-05T00:00:00\",\"2023-06-06T00:00:00\",\"2023-06-07T00:00:00\",\"2023-06-08T00:00:00\",\"2023-06-09T00:00:00\",\"2023-06-10T00:00:00\",\"2023-06-11T00:00:00\",\"2023-06-12T00:00:00\",\"2023-06-13T00:00:00\",\"2023-06-14T00:00:00\",\"2023-06-15T00:00:00\",\"2023-06-16T00:00:00\",\"2023-06-17T00:00:00\",\"2023-06-18T00:00:00\",\"2023-06-19T00:00:00\",\"2023-06-20T00:00:00\",\"2023-06-21T00:00:00\",\"2023-06-22T00:00:00\",\"2023-06-23T00:00:00\",\"2023-06-24T00:00:00\",\"2023-06-25T00:00:00\",\"2023-06-26T00:00:00\",\"2023-06-27T00:00:00\",\"2023-06-28T00:00:00\",\"2023-06-29T00:00:00\",\"2023-06-30T00:00:00\",\"2023-07-01T00:00:00\",\"2023-07-02T00:00:00\",\"2023-07-03T00:00:00\",\"2023-07-04T00:00:00\",\"2023-07-05T00:00:00\",\"2023-07-06T00:00:00\",\"2023-07-07T00:00:00\",\"2023-07-08T00:00:00\",\"2023-07-09T00:00:00\",\"2023-07-10T00:00:00\",\"2023-07-11T00:00:00\",\"2023-07-12T00:00:00\",\"2023-07-13T00:00:00\",\"2023-07-14T00:00:00\",\"2023-07-15T00:00:00\",\"2023-07-16T00:00:00\",\"2023-07-17T00:00:00\",\"2023-07-18T00:00:00\",\"2023-07-19T00:00:00\",\"2023-07-20T00:00:00\",\"2023-07-21T00:00:00\",\"2023-07-22T00:00:00\",\"2023-07-23T00:00:00\",\"2023-07-24T00:00:00\",\"2023-07-25T00:00:00\",\"2023-07-26T00:00:00\",\"2023-07-27T00:00:00\",\"2023-07-28T00:00:00\",\"2023-07-29T00:00:00\",\"2023-07-30T00:00:00\",\"2023-07-31T00:00:00\",\"2023-08-01T00:00:00\",\"2023-08-02T00:00:00\",\"2023-08-03T00:00:00\",\"2023-08-04T00:00:00\",\"2023-08-05T00:00:00\",\"2023-08-06T00:00:00\",\"2023-08-07T00:00:00\",\"2023-08-08T00:00:00\",\"2023-08-09T00:00:00\",\"2023-08-10T00:00:00\",\"2023-08-11T00:00:00\",\"2023-08-12T00:00:00\",\"2023-08-13T00:00:00\",\"2023-08-14T00:00:00\",\"2023-08-15T00:00:00\",\"2023-08-16T00:00:00\",\"2023-08-17T00:00:00\",\"2023-08-18T00:00:00\",\"2023-08-19T00:00:00\",\"2023-08-20T00:00:00\",\"2023-08-21T00:00:00\",\"2023-08-22T00:00:00\",\"2023-08-23T00:00:00\",\"2023-08-24T00:00:00\",\"2023-08-25T00:00:00\",\"2023-08-26T00:00:00\",\"2023-08-27T00:00:00\",\"2023-08-28T00:00:00\",\"2023-08-29T00:00:00\",\"2023-08-30T00:00:00\",\"2023-08-31T00:00:00\",\"2023-09-01T00:00:00\",\"2023-09-02T00:00:00\",\"2023-09-03T00:00:00\",\"2023-09-04T00:00:00\",\"2023-09-05T00:00:00\",\"2023-09-06T00:00:00\",\"2023-09-07T00:00:00\",\"2023-09-08T00:00:00\",\"2023-09-09T00:00:00\",\"2023-09-10T00:00:00\",\"2023-09-11T00:00:00\",\"2023-09-12T00:00:00\",\"2023-09-13T00:00:00\",\"2023-09-14T00:00:00\",\"2023-09-15T00:00:00\",\"2023-09-16T00:00:00\",\"2023-09-17T00:00:00\",\"2023-09-18T00:00:00\",\"2023-09-19T00:00:00\",\"2023-09-20T00:00:00\",\"2023-09-21T00:00:00\",\"2023-09-22T00:00:00\",\"2023-09-23T00:00:00\",\"2023-09-24T00:00:00\",\"2023-09-25T00:00:00\",\"2023-09-26T00:00:00\",\"2023-09-27T00:00:00\",\"2023-09-28T00:00:00\",\"2023-09-29T00:00:00\",\"2023-09-30T00:00:00\",\"2023-10-01T00:00:00\",\"2023-10-02T00:00:00\",\"2023-10-03T00:00:00\",\"2023-10-04T00:00:00\",\"2023-10-05T00:00:00\",\"2023-10-06T00:00:00\",\"2023-10-07T00:00:00\",\"2023-10-08T00:00:00\",\"2023-10-09T00:00:00\",\"2023-10-10T00:00:00\",\"2023-10-11T00:00:00\",\"2023-10-12T00:00:00\",\"2023-10-13T00:00:00\",\"2023-10-14T00:00:00\",\"2023-10-15T00:00:00\",\"2023-10-16T00:00:00\",\"2023-10-17T00:00:00\",\"2023-10-18T00:00:00\",\"2023-10-19T00:00:00\",\"2023-10-20T00:00:00\",\"2023-10-21T00:00:00\",\"2023-10-22T00:00:00\",\"2023-10-23T00:00:00\",\"2023-10-24T00:00:00\",\"2023-10-25T00:00:00\",\"2023-10-26T00:00:00\",\"2023-10-27T00:00:00\",\"2023-10-28T00:00:00\",\"2023-10-29T00:00:00\",\"2023-10-30T00:00:00\",\"2023-10-31T00:00:00\",\"2023-11-01T00:00:00\",\"2023-11-02T00:00:00\",\"2023-11-03T00:00:00\",\"2023-11-04T00:00:00\",\"2023-11-05T00:00:00\",\"2023-11-06T00:00:00\",\"2023-11-07T00:00:00\",\"2023-11-08T00:00:00\",\"2023-11-09T00:00:00\",\"2023-11-10T00:00:00\",\"2023-11-11T00:00:00\",\"2023-11-12T00:00:00\",\"2023-11-13T00:00:00\",\"2023-11-14T00:00:00\",\"2023-11-15T00:00:00\",\"2023-11-16T00:00:00\",\"2023-11-17T00:00:00\",\"2023-11-18T00:00:00\",\"2023-11-19T00:00:00\",\"2023-11-20T00:00:00\",\"2023-11-21T00:00:00\",\"2023-11-22T00:00:00\",\"2023-11-23T00:00:00\",\"2023-11-24T00:00:00\",\"2023-11-25T00:00:00\",\"2023-11-26T00:00:00\"],\"y\":[null,null,null,null,null,null,null,null,null,null,null,null,null,null,null,null,null,null,null,null,null,null,null,null,null,null,null,null,null,null,null,null,null,null,null,null,null,null,null,null,null,null,null,null,null,null,null,null,null,null,null,null,null,null,null,null,null,null,null,null,null,null,null,null,null,null,null,null,null,null,null,null,null,null,null,null,null,null,null,null,null,null,null,null,null,null,null,null,null,null,null,null,null,null,null,null,null,null,null,null,null,null,null,null,null,null,null,null,null,null,null,null,null,null,null,null,null,null,null,null,null,null,null,null,null,null,null,null,null,null,null,null,null,null,null,null,null,null,null,null,null,null,null,null,null,null,null,null,null,null,null,null,null,null,null,null,null,null,null,null,null,null,null,null,null,null,null,null,null,null,null,null,null,null,null,null,null,null,null,null,null,null,null,null,null,null,null,null,null,null,null,null,null,null,null,null,8249188.5,7943154.0,5520775.0,7390099.5,6014815.5,6151022.5,9565538.0],\"type\":\"scatter\",\"xaxis\":\"x7\",\"yaxis\":\"y7\"},{\"fill\":\"toself\",\"fillcolor\":\"#fde725\",\"legendgroup\":\"AutoARIMA_level_80\",\"line\":{\"color\":\"#fde725\",\"width\":1},\"mode\":\"lines\",\"name\":\"AutoARIMA_level_80\",\"opacity\":0.19999999999999996,\"showlegend\":false,\"x\":[\"2023-05-08T00:00:00.000000000\",\"2023-05-09T00:00:00.000000000\",\"2023-05-10T00:00:00.000000000\",\"2023-05-11T00:00:00.000000000\",\"2023-05-12T00:00:00.000000000\",\"2023-05-13T00:00:00.000000000\",\"2023-05-14T00:00:00.000000000\",\"2023-05-15T00:00:00.000000000\",\"2023-05-16T00:00:00.000000000\",\"2023-05-17T00:00:00.000000000\",\"2023-05-18T00:00:00.000000000\",\"2023-05-19T00:00:00.000000000\",\"2023-05-20T00:00:00.000000000\",\"2023-05-21T00:00:00.000000000\",\"2023-05-22T00:00:00.000000000\",\"2023-05-23T00:00:00.000000000\",\"2023-05-24T00:00:00.000000000\",\"2023-05-25T00:00:00.000000000\",\"2023-05-26T00:00:00.000000000\",\"2023-05-27T00:00:00.000000000\",\"2023-05-28T00:00:00.000000000\",\"2023-05-29T00:00:00.000000000\",\"2023-05-30T00:00:00.000000000\",\"2023-05-31T00:00:00.000000000\",\"2023-06-01T00:00:00.000000000\",\"2023-06-02T00:00:00.000000000\",\"2023-06-03T00:00:00.000000000\",\"2023-06-04T00:00:00.000000000\",\"2023-06-05T00:00:00.000000000\",\"2023-06-06T00:00:00.000000000\",\"2023-06-07T00:00:00.000000000\",\"2023-06-08T00:00:00.000000000\",\"2023-06-09T00:00:00.000000000\",\"2023-06-10T00:00:00.000000000\",\"2023-06-11T00:00:00.000000000\",\"2023-06-12T00:00:00.000000000\",\"2023-06-13T00:00:00.000000000\",\"2023-06-14T00:00:00.000000000\",\"2023-06-15T00:00:00.000000000\",\"2023-06-16T00:00:00.000000000\",\"2023-06-17T00:00:00.000000000\",\"2023-06-18T00:00:00.000000000\",\"2023-06-19T00:00:00.000000000\",\"2023-06-20T00:00:00.000000000\",\"2023-06-21T00:00:00.000000000\",\"2023-06-22T00:00:00.000000000\",\"2023-06-23T00:00:00.000000000\",\"2023-06-24T00:00:00.000000000\",\"2023-06-25T00:00:00.000000000\",\"2023-06-26T00:00:00.000000000\",\"2023-06-27T00:00:00.000000000\",\"2023-06-28T00:00:00.000000000\",\"2023-06-29T00:00:00.000000000\",\"2023-06-30T00:00:00.000000000\",\"2023-07-01T00:00:00.000000000\",\"2023-07-02T00:00:00.000000000\",\"2023-07-03T00:00:00.000000000\",\"2023-07-04T00:00:00.000000000\",\"2023-07-05T00:00:00.000000000\",\"2023-07-06T00:00:00.000000000\",\"2023-07-07T00:00:00.000000000\",\"2023-07-08T00:00:00.000000000\",\"2023-07-09T00:00:00.000000000\",\"2023-07-10T00:00:00.000000000\",\"2023-07-11T00:00:00.000000000\",\"2023-07-12T00:00:00.000000000\",\"2023-07-13T00:00:00.000000000\",\"2023-07-14T00:00:00.000000000\",\"2023-07-15T00:00:00.000000000\",\"2023-07-16T00:00:00.000000000\",\"2023-07-17T00:00:00.000000000\",\"2023-07-18T00:00:00.000000000\",\"2023-07-19T00:00:00.000000000\",\"2023-07-20T00:00:00.000000000\",\"2023-07-21T00:00:00.000000000\",\"2023-07-22T00:00:00.000000000\",\"2023-07-23T00:00:00.000000000\",\"2023-07-24T00:00:00.000000000\",\"2023-07-25T00:00:00.000000000\",\"2023-07-26T00:00:00.000000000\",\"2023-07-27T00:00:00.000000000\",\"2023-07-28T00:00:00.000000000\",\"2023-07-29T00:00:00.000000000\",\"2023-07-30T00:00:00.000000000\",\"2023-07-31T00:00:00.000000000\",\"2023-08-01T00:00:00.000000000\",\"2023-08-02T00:00:00.000000000\",\"2023-08-03T00:00:00.000000000\",\"2023-08-04T00:00:00.000000000\",\"2023-08-05T00:00:00.000000000\",\"2023-08-06T00:00:00.000000000\",\"2023-08-07T00:00:00.000000000\",\"2023-08-08T00:00:00.000000000\",\"2023-08-09T00:00:00.000000000\",\"2023-08-10T00:00:00.000000000\",\"2023-08-11T00:00:00.000000000\",\"2023-08-12T00:00:00.000000000\",\"2023-08-13T00:00:00.000000000\",\"2023-08-14T00:00:00.000000000\",\"2023-08-15T00:00:00.000000000\",\"2023-08-16T00:00:00.000000000\",\"2023-08-17T00:00:00.000000000\",\"2023-08-18T00:00:00.000000000\",\"2023-08-19T00:00:00.000000000\",\"2023-08-20T00:00:00.000000000\",\"2023-08-21T00:00:00.000000000\",\"2023-08-22T00:00:00.000000000\",\"2023-08-23T00:00:00.000000000\",\"2023-08-24T00:00:00.000000000\",\"2023-08-25T00:00:00.000000000\",\"2023-08-26T00:00:00.000000000\",\"2023-08-27T00:00:00.000000000\",\"2023-08-28T00:00:00.000000000\",\"2023-08-29T00:00:00.000000000\",\"2023-08-30T00:00:00.000000000\",\"2023-08-31T00:00:00.000000000\",\"2023-09-01T00:00:00.000000000\",\"2023-09-02T00:00:00.000000000\",\"2023-09-03T00:00:00.000000000\",\"2023-09-04T00:00:00.000000000\",\"2023-09-05T00:00:00.000000000\",\"2023-09-06T00:00:00.000000000\",\"2023-09-07T00:00:00.000000000\",\"2023-09-08T00:00:00.000000000\",\"2023-09-09T00:00:00.000000000\",\"2023-09-10T00:00:00.000000000\",\"2023-09-11T00:00:00.000000000\",\"2023-09-12T00:00:00.000000000\",\"2023-09-13T00:00:00.000000000\",\"2023-09-14T00:00:00.000000000\",\"2023-09-15T00:00:00.000000000\",\"2023-09-16T00:00:00.000000000\",\"2023-09-17T00:00:00.000000000\",\"2023-09-18T00:00:00.000000000\",\"2023-09-19T00:00:00.000000000\",\"2023-09-20T00:00:00.000000000\",\"2023-09-21T00:00:00.000000000\",\"2023-09-22T00:00:00.000000000\",\"2023-09-23T00:00:00.000000000\",\"2023-09-24T00:00:00.000000000\",\"2023-09-25T00:00:00.000000000\",\"2023-09-26T00:00:00.000000000\",\"2023-09-27T00:00:00.000000000\",\"2023-09-28T00:00:00.000000000\",\"2023-09-29T00:00:00.000000000\",\"2023-09-30T00:00:00.000000000\",\"2023-10-01T00:00:00.000000000\",\"2023-10-02T00:00:00.000000000\",\"2023-10-03T00:00:00.000000000\",\"2023-10-04T00:00:00.000000000\",\"2023-10-05T00:00:00.000000000\",\"2023-10-06T00:00:00.000000000\",\"2023-10-07T00:00:00.000000000\",\"2023-10-08T00:00:00.000000000\",\"2023-10-09T00:00:00.000000000\",\"2023-10-10T00:00:00.000000000\",\"2023-10-11T00:00:00.000000000\",\"2023-10-12T00:00:00.000000000\",\"2023-10-13T00:00:00.000000000\",\"2023-10-14T00:00:00.000000000\",\"2023-10-15T00:00:00.000000000\",\"2023-10-16T00:00:00.000000000\",\"2023-10-17T00:00:00.000000000\",\"2023-10-18T00:00:00.000000000\",\"2023-10-19T00:00:00.000000000\",\"2023-10-20T00:00:00.000000000\",\"2023-10-21T00:00:00.000000000\",\"2023-10-22T00:00:00.000000000\",\"2023-10-23T00:00:00.000000000\",\"2023-10-24T00:00:00.000000000\",\"2023-10-25T00:00:00.000000000\",\"2023-10-26T00:00:00.000000000\",\"2023-10-27T00:00:00.000000000\",\"2023-10-28T00:00:00.000000000\",\"2023-10-29T00:00:00.000000000\",\"2023-10-30T00:00:00.000000000\",\"2023-10-31T00:00:00.000000000\",\"2023-11-01T00:00:00.000000000\",\"2023-11-02T00:00:00.000000000\",\"2023-11-03T00:00:00.000000000\",\"2023-11-04T00:00:00.000000000\",\"2023-11-05T00:00:00.000000000\",\"2023-11-06T00:00:00.000000000\",\"2023-11-07T00:00:00.000000000\",\"2023-11-08T00:00:00.000000000\",\"2023-11-09T00:00:00.000000000\",\"2023-11-10T00:00:00.000000000\",\"2023-11-11T00:00:00.000000000\",\"2023-11-12T00:00:00.000000000\",\"2023-11-13T00:00:00.000000000\",\"2023-11-14T00:00:00.000000000\",\"2023-11-15T00:00:00.000000000\",\"2023-11-16T00:00:00.000000000\",\"2023-11-17T00:00:00.000000000\",\"2023-11-18T00:00:00.000000000\",\"2023-11-19T00:00:00.000000000\",\"2023-11-20T00:00:00.000000000\",\"2023-11-21T00:00:00.000000000\",\"2023-11-22T00:00:00.000000000\",\"2023-11-23T00:00:00.000000000\",\"2023-11-24T00:00:00.000000000\",\"2023-11-25T00:00:00.000000000\",\"2023-11-26T00:00:00.000000000\",\"2023-11-26T00:00:00.000000000\",\"2023-11-25T00:00:00.000000000\",\"2023-11-24T00:00:00.000000000\",\"2023-11-23T00:00:00.000000000\",\"2023-11-22T00:00:00.000000000\",\"2023-11-21T00:00:00.000000000\",\"2023-11-20T00:00:00.000000000\",\"2023-11-19T00:00:00.000000000\",\"2023-11-18T00:00:00.000000000\",\"2023-11-17T00:00:00.000000000\",\"2023-11-16T00:00:00.000000000\",\"2023-11-15T00:00:00.000000000\",\"2023-11-14T00:00:00.000000000\",\"2023-11-13T00:00:00.000000000\",\"2023-11-12T00:00:00.000000000\",\"2023-11-11T00:00:00.000000000\",\"2023-11-10T00:00:00.000000000\",\"2023-11-09T00:00:00.000000000\",\"2023-11-08T00:00:00.000000000\",\"2023-11-07T00:00:00.000000000\",\"2023-11-06T00:00:00.000000000\",\"2023-11-05T00:00:00.000000000\",\"2023-11-04T00:00:00.000000000\",\"2023-11-03T00:00:00.000000000\",\"2023-11-02T00:00:00.000000000\",\"2023-11-01T00:00:00.000000000\",\"2023-10-31T00:00:00.000000000\",\"2023-10-30T00:00:00.000000000\",\"2023-10-29T00:00:00.000000000\",\"2023-10-28T00:00:00.000000000\",\"2023-10-27T00:00:00.000000000\",\"2023-10-26T00:00:00.000000000\",\"2023-10-25T00:00:00.000000000\",\"2023-10-24T00:00:00.000000000\",\"2023-10-23T00:00:00.000000000\",\"2023-10-22T00:00:00.000000000\",\"2023-10-21T00:00:00.000000000\",\"2023-10-20T00:00:00.000000000\",\"2023-10-19T00:00:00.000000000\",\"2023-10-18T00:00:00.000000000\",\"2023-10-17T00:00:00.000000000\",\"2023-10-16T00:00:00.000000000\",\"2023-10-15T00:00:00.000000000\",\"2023-10-14T00:00:00.000000000\",\"2023-10-13T00:00:00.000000000\",\"2023-10-12T00:00:00.000000000\",\"2023-10-11T00:00:00.000000000\",\"2023-10-10T00:00:00.000000000\",\"2023-10-09T00:00:00.000000000\",\"2023-10-08T00:00:00.000000000\",\"2023-10-07T00:00:00.000000000\",\"2023-10-06T00:00:00.000000000\",\"2023-10-05T00:00:00.000000000\",\"2023-10-04T00:00:00.000000000\",\"2023-10-03T00:00:00.000000000\",\"2023-10-02T00:00:00.000000000\",\"2023-10-01T00:00:00.000000000\",\"2023-09-30T00:00:00.000000000\",\"2023-09-29T00:00:00.000000000\",\"2023-09-28T00:00:00.000000000\",\"2023-09-27T00:00:00.000000000\",\"2023-09-26T00:00:00.000000000\",\"2023-09-25T00:00:00.000000000\",\"2023-09-24T00:00:00.000000000\",\"2023-09-23T00:00:00.000000000\",\"2023-09-22T00:00:00.000000000\",\"2023-09-21T00:00:00.000000000\",\"2023-09-20T00:00:00.000000000\",\"2023-09-19T00:00:00.000000000\",\"2023-09-18T00:00:00.000000000\",\"2023-09-17T00:00:00.000000000\",\"2023-09-16T00:00:00.000000000\",\"2023-09-15T00:00:00.000000000\",\"2023-09-14T00:00:00.000000000\",\"2023-09-13T00:00:00.000000000\",\"2023-09-12T00:00:00.000000000\",\"2023-09-11T00:00:00.000000000\",\"2023-09-10T00:00:00.000000000\",\"2023-09-09T00:00:00.000000000\",\"2023-09-08T00:00:00.000000000\",\"2023-09-07T00:00:00.000000000\",\"2023-09-06T00:00:00.000000000\",\"2023-09-05T00:00:00.000000000\",\"2023-09-04T00:00:00.000000000\",\"2023-09-03T00:00:00.000000000\",\"2023-09-02T00:00:00.000000000\",\"2023-09-01T00:00:00.000000000\",\"2023-08-31T00:00:00.000000000\",\"2023-08-30T00:00:00.000000000\",\"2023-08-29T00:00:00.000000000\",\"2023-08-28T00:00:00.000000000\",\"2023-08-27T00:00:00.000000000\",\"2023-08-26T00:00:00.000000000\",\"2023-08-25T00:00:00.000000000\",\"2023-08-24T00:00:00.000000000\",\"2023-08-23T00:00:00.000000000\",\"2023-08-22T00:00:00.000000000\",\"2023-08-21T00:00:00.000000000\",\"2023-08-20T00:00:00.000000000\",\"2023-08-19T00:00:00.000000000\",\"2023-08-18T00:00:00.000000000\",\"2023-08-17T00:00:00.000000000\",\"2023-08-16T00:00:00.000000000\",\"2023-08-15T00:00:00.000000000\",\"2023-08-14T00:00:00.000000000\",\"2023-08-13T00:00:00.000000000\",\"2023-08-12T00:00:00.000000000\",\"2023-08-11T00:00:00.000000000\",\"2023-08-10T00:00:00.000000000\",\"2023-08-09T00:00:00.000000000\",\"2023-08-08T00:00:00.000000000\",\"2023-08-07T00:00:00.000000000\",\"2023-08-06T00:00:00.000000000\",\"2023-08-05T00:00:00.000000000\",\"2023-08-04T00:00:00.000000000\",\"2023-08-03T00:00:00.000000000\",\"2023-08-02T00:00:00.000000000\",\"2023-08-01T00:00:00.000000000\",\"2023-07-31T00:00:00.000000000\",\"2023-07-30T00:00:00.000000000\",\"2023-07-29T00:00:00.000000000\",\"2023-07-28T00:00:00.000000000\",\"2023-07-27T00:00:00.000000000\",\"2023-07-26T00:00:00.000000000\",\"2023-07-25T00:00:00.000000000\",\"2023-07-24T00:00:00.000000000\",\"2023-07-23T00:00:00.000000000\",\"2023-07-22T00:00:00.000000000\",\"2023-07-21T00:00:00.000000000\",\"2023-07-20T00:00:00.000000000\",\"2023-07-19T00:00:00.000000000\",\"2023-07-18T00:00:00.000000000\",\"2023-07-17T00:00:00.000000000\",\"2023-07-16T00:00:00.000000000\",\"2023-07-15T00:00:00.000000000\",\"2023-07-14T00:00:00.000000000\",\"2023-07-13T00:00:00.000000000\",\"2023-07-12T00:00:00.000000000\",\"2023-07-11T00:00:00.000000000\",\"2023-07-10T00:00:00.000000000\",\"2023-07-09T00:00:00.000000000\",\"2023-07-08T00:00:00.000000000\",\"2023-07-07T00:00:00.000000000\",\"2023-07-06T00:00:00.000000000\",\"2023-07-05T00:00:00.000000000\",\"2023-07-04T00:00:00.000000000\",\"2023-07-03T00:00:00.000000000\",\"2023-07-02T00:00:00.000000000\",\"2023-07-01T00:00:00.000000000\",\"2023-06-30T00:00:00.000000000\",\"2023-06-29T00:00:00.000000000\",\"2023-06-28T00:00:00.000000000\",\"2023-06-27T00:00:00.000000000\",\"2023-06-26T00:00:00.000000000\",\"2023-06-25T00:00:00.000000000\",\"2023-06-24T00:00:00.000000000\",\"2023-06-23T00:00:00.000000000\",\"2023-06-22T00:00:00.000000000\",\"2023-06-21T00:00:00.000000000\",\"2023-06-20T00:00:00.000000000\",\"2023-06-19T00:00:00.000000000\",\"2023-06-18T00:00:00.000000000\",\"2023-06-17T00:00:00.000000000\",\"2023-06-16T00:00:00.000000000\",\"2023-06-15T00:00:00.000000000\",\"2023-06-14T00:00:00.000000000\",\"2023-06-13T00:00:00.000000000\",\"2023-06-12T00:00:00.000000000\",\"2023-06-11T00:00:00.000000000\",\"2023-06-10T00:00:00.000000000\",\"2023-06-09T00:00:00.000000000\",\"2023-06-08T00:00:00.000000000\",\"2023-06-07T00:00:00.000000000\",\"2023-06-06T00:00:00.000000000\",\"2023-06-05T00:00:00.000000000\",\"2023-06-04T00:00:00.000000000\",\"2023-06-03T00:00:00.000000000\",\"2023-06-02T00:00:00.000000000\",\"2023-06-01T00:00:00.000000000\",\"2023-05-31T00:00:00.000000000\",\"2023-05-30T00:00:00.000000000\",\"2023-05-29T00:00:00.000000000\",\"2023-05-28T00:00:00.000000000\",\"2023-05-27T00:00:00.000000000\",\"2023-05-26T00:00:00.000000000\",\"2023-05-25T00:00:00.000000000\",\"2023-05-24T00:00:00.000000000\",\"2023-05-23T00:00:00.000000000\",\"2023-05-22T00:00:00.000000000\",\"2023-05-21T00:00:00.000000000\",\"2023-05-20T00:00:00.000000000\",\"2023-05-19T00:00:00.000000000\",\"2023-05-18T00:00:00.000000000\",\"2023-05-17T00:00:00.000000000\",\"2023-05-16T00:00:00.000000000\",\"2023-05-15T00:00:00.000000000\",\"2023-05-14T00:00:00.000000000\",\"2023-05-13T00:00:00.000000000\",\"2023-05-12T00:00:00.000000000\",\"2023-05-11T00:00:00.000000000\",\"2023-05-10T00:00:00.000000000\",\"2023-05-09T00:00:00.000000000\",\"2023-05-08T00:00:00.000000000\"],\"y\":[null,null,null,null,null,null,null,null,null,null,null,null,null,null,null,null,null,null,null,null,null,null,null,null,null,null,null,null,null,null,null,null,null,null,null,null,null,null,null,null,null,null,null,null,null,null,null,null,null,null,null,null,null,null,null,null,null,null,null,null,null,null,null,null,null,null,null,null,null,null,null,null,null,null,null,null,null,null,null,null,null,null,null,null,null,null,null,null,null,null,null,null,null,null,null,null,null,null,null,null,null,null,null,null,null,null,null,null,null,null,null,null,null,null,null,null,null,null,null,null,null,null,null,null,null,null,null,null,null,null,null,null,null,null,null,null,null,null,null,null,null,null,null,null,null,null,null,null,null,null,null,null,null,null,null,null,null,null,null,null,null,null,null,null,null,null,null,null,null,null,null,null,null,null,null,null,null,null,null,null,null,null,null,null,null,null,null,null,null,null,null,null,null,null,null,null,14972808.0,11337805.0,7027846.0,8501960.0,7570708.5,8183870.5,12296769.0,6834306.0,4118174.0,4458923.0,6278239.5,4013704.0,4548503.5,1525569.75,null,null,null,null,null,null,null,null,null,null,null,null,null,null,null,null,null,null,null,null,null,null,null,null,null,null,null,null,null,null,null,null,null,null,null,null,null,null,null,null,null,null,null,null,null,null,null,null,null,null,null,null,null,null,null,null,null,null,null,null,null,null,null,null,null,null,null,null,null,null,null,null,null,null,null,null,null,null,null,null,null,null,null,null,null,null,null,null,null,null,null,null,null,null,null,null,null,null,null,null,null,null,null,null,null,null,null,null,null,null,null,null,null,null,null,null,null,null,null,null,null,null,null,null,null,null,null,null,null,null,null,null,null,null,null,null,null,null,null,null,null,null,null,null,null,null,null,null,null,null,null,null,null,null,null,null,null,null,null,null,null,null,null,null,null,null,null,null,null,null,null,null,null,null,null,null,null,null,null,null,null,null,null,null,null,null,null,null,null,null,null,null,null,null,null,null],\"type\":\"scatter\",\"xaxis\":\"x7\",\"yaxis\":\"y7\"},{\"legendgroup\":\"y\",\"line\":{\"color\":\"#440154\",\"width\":1},\"mode\":\"lines\",\"name\":\"y\",\"showlegend\":false,\"x\":[\"2023-05-08T00:00:00\",\"2023-05-09T00:00:00\",\"2023-05-10T00:00:00\",\"2023-05-11T00:00:00\",\"2023-05-12T00:00:00\",\"2023-05-13T00:00:00\",\"2023-05-14T00:00:00\",\"2023-05-15T00:00:00\",\"2023-05-16T00:00:00\",\"2023-05-17T00:00:00\",\"2023-05-18T00:00:00\",\"2023-05-19T00:00:00\",\"2023-05-20T00:00:00\",\"2023-05-21T00:00:00\",\"2023-05-22T00:00:00\",\"2023-05-23T00:00:00\",\"2023-05-24T00:00:00\",\"2023-05-25T00:00:00\",\"2023-05-26T00:00:00\",\"2023-05-27T00:00:00\",\"2023-05-28T00:00:00\",\"2023-05-29T00:00:00\",\"2023-05-30T00:00:00\",\"2023-05-31T00:00:00\",\"2023-06-01T00:00:00\",\"2023-06-02T00:00:00\",\"2023-06-03T00:00:00\",\"2023-06-04T00:00:00\",\"2023-06-05T00:00:00\",\"2023-06-06T00:00:00\",\"2023-06-07T00:00:00\",\"2023-06-08T00:00:00\",\"2023-06-09T00:00:00\",\"2023-06-10T00:00:00\",\"2023-06-11T00:00:00\",\"2023-06-12T00:00:00\",\"2023-06-13T00:00:00\",\"2023-06-14T00:00:00\",\"2023-06-15T00:00:00\",\"2023-06-16T00:00:00\",\"2023-06-17T00:00:00\",\"2023-06-18T00:00:00\",\"2023-06-19T00:00:00\",\"2023-06-20T00:00:00\",\"2023-06-21T00:00:00\",\"2023-06-22T00:00:00\",\"2023-06-23T00:00:00\",\"2023-06-24T00:00:00\",\"2023-06-25T00:00:00\",\"2023-06-26T00:00:00\",\"2023-06-27T00:00:00\",\"2023-06-28T00:00:00\",\"2023-06-29T00:00:00\",\"2023-06-30T00:00:00\",\"2023-07-01T00:00:00\",\"2023-07-02T00:00:00\",\"2023-07-03T00:00:00\",\"2023-07-04T00:00:00\",\"2023-07-05T00:00:00\",\"2023-07-06T00:00:00\",\"2023-07-07T00:00:00\",\"2023-07-08T00:00:00\",\"2023-07-09T00:00:00\",\"2023-07-10T00:00:00\",\"2023-07-11T00:00:00\",\"2023-07-12T00:00:00\",\"2023-07-13T00:00:00\",\"2023-07-14T00:00:00\",\"2023-07-15T00:00:00\",\"2023-07-16T00:00:00\",\"2023-07-17T00:00:00\",\"2023-07-18T00:00:00\",\"2023-07-19T00:00:00\",\"2023-07-20T00:00:00\",\"2023-07-21T00:00:00\",\"2023-07-22T00:00:00\",\"2023-07-23T00:00:00\",\"2023-07-24T00:00:00\",\"2023-07-25T00:00:00\",\"2023-07-26T00:00:00\",\"2023-07-27T00:00:00\",\"2023-07-28T00:00:00\",\"2023-07-29T00:00:00\",\"2023-07-30T00:00:00\",\"2023-07-31T00:00:00\",\"2023-08-01T00:00:00\",\"2023-08-02T00:00:00\",\"2023-08-03T00:00:00\",\"2023-08-04T00:00:00\",\"2023-08-05T00:00:00\",\"2023-08-06T00:00:00\",\"2023-08-07T00:00:00\",\"2023-08-08T00:00:00\",\"2023-08-09T00:00:00\",\"2023-08-10T00:00:00\",\"2023-08-11T00:00:00\",\"2023-08-12T00:00:00\",\"2023-08-13T00:00:00\",\"2023-08-14T00:00:00\",\"2023-08-15T00:00:00\",\"2023-08-16T00:00:00\",\"2023-08-17T00:00:00\",\"2023-08-18T00:00:00\",\"2023-08-19T00:00:00\",\"2023-08-20T00:00:00\",\"2023-08-21T00:00:00\",\"2023-08-22T00:00:00\",\"2023-08-23T00:00:00\",\"2023-08-24T00:00:00\",\"2023-08-25T00:00:00\",\"2023-08-26T00:00:00\",\"2023-08-27T00:00:00\",\"2023-08-28T00:00:00\",\"2023-08-29T00:00:00\",\"2023-08-30T00:00:00\",\"2023-08-31T00:00:00\",\"2023-09-01T00:00:00\",\"2023-09-02T00:00:00\",\"2023-09-03T00:00:00\",\"2023-09-04T00:00:00\",\"2023-09-05T00:00:00\",\"2023-09-06T00:00:00\",\"2023-09-07T00:00:00\",\"2023-09-08T00:00:00\",\"2023-09-09T00:00:00\",\"2023-09-10T00:00:00\",\"2023-09-11T00:00:00\",\"2023-09-12T00:00:00\",\"2023-09-13T00:00:00\",\"2023-09-14T00:00:00\",\"2023-09-15T00:00:00\",\"2023-09-16T00:00:00\",\"2023-09-17T00:00:00\",\"2023-09-18T00:00:00\",\"2023-09-19T00:00:00\",\"2023-09-20T00:00:00\",\"2023-09-21T00:00:00\",\"2023-09-22T00:00:00\",\"2023-09-23T00:00:00\",\"2023-09-24T00:00:00\",\"2023-09-25T00:00:00\",\"2023-09-26T00:00:00\",\"2023-09-27T00:00:00\",\"2023-09-28T00:00:00\",\"2023-09-29T00:00:00\",\"2023-09-30T00:00:00\",\"2023-10-01T00:00:00\",\"2023-10-02T00:00:00\",\"2023-10-03T00:00:00\",\"2023-10-04T00:00:00\",\"2023-10-05T00:00:00\",\"2023-10-06T00:00:00\",\"2023-10-07T00:00:00\",\"2023-10-08T00:00:00\",\"2023-10-09T00:00:00\",\"2023-10-10T00:00:00\",\"2023-10-11T00:00:00\",\"2023-10-12T00:00:00\",\"2023-10-13T00:00:00\",\"2023-10-14T00:00:00\",\"2023-10-15T00:00:00\",\"2023-10-16T00:00:00\",\"2023-10-17T00:00:00\",\"2023-10-18T00:00:00\",\"2023-10-19T00:00:00\",\"2023-10-20T00:00:00\",\"2023-10-21T00:00:00\",\"2023-10-22T00:00:00\",\"2023-10-23T00:00:00\",\"2023-10-24T00:00:00\",\"2023-10-25T00:00:00\",\"2023-10-26T00:00:00\",\"2023-10-27T00:00:00\",\"2023-10-28T00:00:00\",\"2023-10-29T00:00:00\",\"2023-10-30T00:00:00\",\"2023-10-31T00:00:00\",\"2023-11-01T00:00:00\",\"2023-11-02T00:00:00\",\"2023-11-03T00:00:00\",\"2023-11-04T00:00:00\",\"2023-11-05T00:00:00\",\"2023-11-06T00:00:00\",\"2023-11-07T00:00:00\",\"2023-11-08T00:00:00\",\"2023-11-09T00:00:00\",\"2023-11-10T00:00:00\",\"2023-11-11T00:00:00\",\"2023-11-12T00:00:00\",\"2023-11-13T00:00:00\",\"2023-11-14T00:00:00\",\"2023-11-15T00:00:00\",\"2023-11-16T00:00:00\",\"2023-11-17T00:00:00\",\"2023-11-18T00:00:00\",\"2023-11-19T00:00:00\",\"2023-11-20T00:00:00\",\"2023-11-21T00:00:00\",\"2023-11-22T00:00:00\",\"2023-11-23T00:00:00\",\"2023-11-24T00:00:00\",\"2023-11-25T00:00:00\",\"2023-11-26T00:00:00\"],\"y\":[4857336156.333333,4244809694.0,5162237695.333333,5162352483.666667,5048607379.0,5055225944.666667,4905347865.0,4975313558.333333,5120053175.0,4868909627.333333,5178291438.666667,4717990191.333333,5046391398.0,4987929239.666667,4616406390.333333,4699663864.333333,4890757432.0,5006233948.0,4900516777.666667,3308432163.0,4397658469.0,5348999249.333333,5088281046.0,5293600487.333333,3897466775.0,5159099471.666667,5497627349.333333,5264831436.333333,5354939149.0,4838382272.666667,4861275730.0,5051422407.0,5611688271.666667,5771503894.333333,6089481025.0,5943554172.666667,5473321176.333333,5880933248.666667,5923561482.666667,5592635330.333333,5228145140.0,5659268706.666667,5165855240.666667,5538868270.333333,5048150612.333333,4906385597.666667,5223205158.333333,5144244262.0,5019375275.333333,5099205178.333333,5286927413.0,5347349897.333333,4878160083.0,5370857113.333333,5768851915.0,5536645388.0,5799534809.666667,5732443999.333333,5969016208.666667,5614660362.0,5234878315.0,4547049465.0,5071669452.666667,5270734167.0,5082259779.0,4839056239.0,5169978011.666667,5187853812.0,5200478428.333333,5240106522.666667,5291437164.0,4696884447.333333,5053749400.666667,4526491145.666667,3773531734.3333335,4459315641.666667,4762985790.0,4781711394.666667,5602997584.333333,5587285635.0,5584931225.0,5687204765.0,5734007045.666667,5627972072.333333,5630035798.333333,6466582053.0,5926445803.333333,5577742584.666667,5844379483.333333,5686942540.0,5525498834.333333,5554255417.666667,5078111815.666667,5128937209.666667,5135495093.333333,5200140833.0,5297099842.0,5204848750.0,4602460628.666667,5188980562.666667,4477682633.333333,4690057428.333333,4601853947.0,4844834587.666667,4045446144.3333335,217723173.33333334,117488502.33333333,117506458.0,2250926488.3333335,3681402957.6666665,3575311357.3333335,3573857175.3333335,3567420074.6666665,3473549250.0,3349842678.6666665,3668809633.0,3684599395.3333335,3790268668.0,3777078418.3333335,3381766710.6666665,3026094084.6666665,2865507191.0,2799929208.3333335,3326698017.0,3132784079.3333335,3348040041.0,2665634061.0,2109016763.0,2729416609.0,2864739094.3333335,2314122394.0,2655094914.0,2362143875.0,1553120087.6666667,2653196505.0,2365872530.3333335,3221027365.0,3317300363.0,3328097241.3333335,3373400864.3333335,3241760467.3333335,2285830890.6666665,1998784501.0,1693935583.6666667,2208581972.0,5195371140.333333,5666052908.666667,5036931003.0,5845747458.666667,3740499471.0,2863395527.0,4702921919.0,3942472811.3333335,4709384328.333333,4630395781.333333,4546269275.333333,4566104039.666667,4482957106.333333,4346819950.666667,4461813411.333333,4394859913.333333,4975547214.0,4481780831.0,5067627958.666667,5214507240.0,7680874942.0,4606557001.333333,4027369625.3333335,3676953771.6666665,3662287430.6666665,4157553598.0,3757517686.0,3664018864.3333335,3689394958.3333335,3397524853.0,3596029666.0,4169524542.0,5859256476.0,5752183274.333333,5511390131.333333,4486909562.0,4109452942.6666665,4754189717.666667,4221806360.0,4085698734.3333335,4143007492.3333335,4453417613.333333,4253966893.3333335,4056611578.6666665,4302685028.666667,4321773283.333333,4675359292.333333,3998978419.0,3877967733.6666665,4219588928.6666665,5148469382.666667,8046445105.666667,4059811079.6666665,2709496376.6666665,2170457616.3333335,1967317292.6666667,1829916249.0,1856351611.3333333],\"type\":\"scatter\",\"xaxis\":\"x8\",\"yaxis\":\"y8\"},{\"legendgroup\":\"AutoARIMA\",\"line\":{\"color\":\"#fde725\",\"width\":1},\"mode\":\"lines\",\"name\":\"AutoARIMA\",\"showlegend\":false,\"x\":[\"2023-05-08T00:00:00\",\"2023-05-09T00:00:00\",\"2023-05-10T00:00:00\",\"2023-05-11T00:00:00\",\"2023-05-12T00:00:00\",\"2023-05-13T00:00:00\",\"2023-05-14T00:00:00\",\"2023-05-15T00:00:00\",\"2023-05-16T00:00:00\",\"2023-05-17T00:00:00\",\"2023-05-18T00:00:00\",\"2023-05-19T00:00:00\",\"2023-05-20T00:00:00\",\"2023-05-21T00:00:00\",\"2023-05-22T00:00:00\",\"2023-05-23T00:00:00\",\"2023-05-24T00:00:00\",\"2023-05-25T00:00:00\",\"2023-05-26T00:00:00\",\"2023-05-27T00:00:00\",\"2023-05-28T00:00:00\",\"2023-05-29T00:00:00\",\"2023-05-30T00:00:00\",\"2023-05-31T00:00:00\",\"2023-06-01T00:00:00\",\"2023-06-02T00:00:00\",\"2023-06-03T00:00:00\",\"2023-06-04T00:00:00\",\"2023-06-05T00:00:00\",\"2023-06-06T00:00:00\",\"2023-06-07T00:00:00\",\"2023-06-08T00:00:00\",\"2023-06-09T00:00:00\",\"2023-06-10T00:00:00\",\"2023-06-11T00:00:00\",\"2023-06-12T00:00:00\",\"2023-06-13T00:00:00\",\"2023-06-14T00:00:00\",\"2023-06-15T00:00:00\",\"2023-06-16T00:00:00\",\"2023-06-17T00:00:00\",\"2023-06-18T00:00:00\",\"2023-06-19T00:00:00\",\"2023-06-20T00:00:00\",\"2023-06-21T00:00:00\",\"2023-06-22T00:00:00\",\"2023-06-23T00:00:00\",\"2023-06-24T00:00:00\",\"2023-06-25T00:00:00\",\"2023-06-26T00:00:00\",\"2023-06-27T00:00:00\",\"2023-06-28T00:00:00\",\"2023-06-29T00:00:00\",\"2023-06-30T00:00:00\",\"2023-07-01T00:00:00\",\"2023-07-02T00:00:00\",\"2023-07-03T00:00:00\",\"2023-07-04T00:00:00\",\"2023-07-05T00:00:00\",\"2023-07-06T00:00:00\",\"2023-07-07T00:00:00\",\"2023-07-08T00:00:00\",\"2023-07-09T00:00:00\",\"2023-07-10T00:00:00\",\"2023-07-11T00:00:00\",\"2023-07-12T00:00:00\",\"2023-07-13T00:00:00\",\"2023-07-14T00:00:00\",\"2023-07-15T00:00:00\",\"2023-07-16T00:00:00\",\"2023-07-17T00:00:00\",\"2023-07-18T00:00:00\",\"2023-07-19T00:00:00\",\"2023-07-20T00:00:00\",\"2023-07-21T00:00:00\",\"2023-07-22T00:00:00\",\"2023-07-23T00:00:00\",\"2023-07-24T00:00:00\",\"2023-07-25T00:00:00\",\"2023-07-26T00:00:00\",\"2023-07-27T00:00:00\",\"2023-07-28T00:00:00\",\"2023-07-29T00:00:00\",\"2023-07-30T00:00:00\",\"2023-07-31T00:00:00\",\"2023-08-01T00:00:00\",\"2023-08-02T00:00:00\",\"2023-08-03T00:00:00\",\"2023-08-04T00:00:00\",\"2023-08-05T00:00:00\",\"2023-08-06T00:00:00\",\"2023-08-07T00:00:00\",\"2023-08-08T00:00:00\",\"2023-08-09T00:00:00\",\"2023-08-10T00:00:00\",\"2023-08-11T00:00:00\",\"2023-08-12T00:00:00\",\"2023-08-13T00:00:00\",\"2023-08-14T00:00:00\",\"2023-08-15T00:00:00\",\"2023-08-16T00:00:00\",\"2023-08-17T00:00:00\",\"2023-08-18T00:00:00\",\"2023-08-19T00:00:00\",\"2023-08-20T00:00:00\",\"2023-08-21T00:00:00\",\"2023-08-22T00:00:00\",\"2023-08-23T00:00:00\",\"2023-08-24T00:00:00\",\"2023-08-25T00:00:00\",\"2023-08-26T00:00:00\",\"2023-08-27T00:00:00\",\"2023-08-28T00:00:00\",\"2023-08-29T00:00:00\",\"2023-08-30T00:00:00\",\"2023-08-31T00:00:00\",\"2023-09-01T00:00:00\",\"2023-09-02T00:00:00\",\"2023-09-03T00:00:00\",\"2023-09-04T00:00:00\",\"2023-09-05T00:00:00\",\"2023-09-06T00:00:00\",\"2023-09-07T00:00:00\",\"2023-09-08T00:00:00\",\"2023-09-09T00:00:00\",\"2023-09-10T00:00:00\",\"2023-09-11T00:00:00\",\"2023-09-12T00:00:00\",\"2023-09-13T00:00:00\",\"2023-09-14T00:00:00\",\"2023-09-15T00:00:00\",\"2023-09-16T00:00:00\",\"2023-09-17T00:00:00\",\"2023-09-18T00:00:00\",\"2023-09-19T00:00:00\",\"2023-09-20T00:00:00\",\"2023-09-21T00:00:00\",\"2023-09-22T00:00:00\",\"2023-09-23T00:00:00\",\"2023-09-24T00:00:00\",\"2023-09-25T00:00:00\",\"2023-09-26T00:00:00\",\"2023-09-27T00:00:00\",\"2023-09-28T00:00:00\",\"2023-09-29T00:00:00\",\"2023-09-30T00:00:00\",\"2023-10-01T00:00:00\",\"2023-10-02T00:00:00\",\"2023-10-03T00:00:00\",\"2023-10-04T00:00:00\",\"2023-10-05T00:00:00\",\"2023-10-06T00:00:00\",\"2023-10-07T00:00:00\",\"2023-10-08T00:00:00\",\"2023-10-09T00:00:00\",\"2023-10-10T00:00:00\",\"2023-10-11T00:00:00\",\"2023-10-12T00:00:00\",\"2023-10-13T00:00:00\",\"2023-10-14T00:00:00\",\"2023-10-15T00:00:00\",\"2023-10-16T00:00:00\",\"2023-10-17T00:00:00\",\"2023-10-18T00:00:00\",\"2023-10-19T00:00:00\",\"2023-10-20T00:00:00\",\"2023-10-21T00:00:00\",\"2023-10-22T00:00:00\",\"2023-10-23T00:00:00\",\"2023-10-24T00:00:00\",\"2023-10-25T00:00:00\",\"2023-10-26T00:00:00\",\"2023-10-27T00:00:00\",\"2023-10-28T00:00:00\",\"2023-10-29T00:00:00\",\"2023-10-30T00:00:00\",\"2023-10-31T00:00:00\",\"2023-11-01T00:00:00\",\"2023-11-02T00:00:00\",\"2023-11-03T00:00:00\",\"2023-11-04T00:00:00\",\"2023-11-05T00:00:00\",\"2023-11-06T00:00:00\",\"2023-11-07T00:00:00\",\"2023-11-08T00:00:00\",\"2023-11-09T00:00:00\",\"2023-11-10T00:00:00\",\"2023-11-11T00:00:00\",\"2023-11-12T00:00:00\",\"2023-11-13T00:00:00\",\"2023-11-14T00:00:00\",\"2023-11-15T00:00:00\",\"2023-11-16T00:00:00\",\"2023-11-17T00:00:00\",\"2023-11-18T00:00:00\",\"2023-11-19T00:00:00\",\"2023-11-20T00:00:00\",\"2023-11-21T00:00:00\",\"2023-11-22T00:00:00\",\"2023-11-23T00:00:00\",\"2023-11-24T00:00:00\",\"2023-11-25T00:00:00\",\"2023-11-26T00:00:00\"],\"y\":[null,null,null,null,null,null,null,null,null,null,null,null,null,null,null,null,null,null,null,null,null,null,null,null,null,null,null,null,null,null,null,null,null,null,null,null,null,null,null,null,null,null,null,null,null,null,null,null,null,null,null,null,null,null,null,null,null,null,null,null,null,null,null,null,null,null,null,null,null,null,null,null,null,null,null,null,null,null,null,null,null,null,null,null,null,null,null,null,null,null,null,null,null,null,null,null,null,null,null,null,null,null,null,null,null,null,null,null,null,null,null,null,null,null,null,null,null,null,null,null,null,null,null,null,null,null,null,null,null,null,null,null,null,null,null,null,null,null,null,null,null,null,null,null,null,null,null,null,null,null,null,null,null,null,null,null,null,null,null,null,null,null,null,null,null,null,null,null,null,null,null,null,null,null,null,null,null,null,null,null,null,null,null,null,null,null,null,null,null,null,null,null,null,null,null,null,4929892352.0,4075627008.0,3842694400.0,3865921536.0,3869206272.0,4094876160.0,4091787264.0],\"type\":\"scatter\",\"xaxis\":\"x8\",\"yaxis\":\"y8\"},{\"fill\":\"toself\",\"fillcolor\":\"#fde725\",\"legendgroup\":\"AutoARIMA_level_80\",\"line\":{\"color\":\"#fde725\",\"width\":1},\"mode\":\"lines\",\"name\":\"AutoARIMA_level_80\",\"opacity\":0.19999999999999996,\"showlegend\":false,\"x\":[\"2023-05-08T00:00:00.000000000\",\"2023-05-09T00:00:00.000000000\",\"2023-05-10T00:00:00.000000000\",\"2023-05-11T00:00:00.000000000\",\"2023-05-12T00:00:00.000000000\",\"2023-05-13T00:00:00.000000000\",\"2023-05-14T00:00:00.000000000\",\"2023-05-15T00:00:00.000000000\",\"2023-05-16T00:00:00.000000000\",\"2023-05-17T00:00:00.000000000\",\"2023-05-18T00:00:00.000000000\",\"2023-05-19T00:00:00.000000000\",\"2023-05-20T00:00:00.000000000\",\"2023-05-21T00:00:00.000000000\",\"2023-05-22T00:00:00.000000000\",\"2023-05-23T00:00:00.000000000\",\"2023-05-24T00:00:00.000000000\",\"2023-05-25T00:00:00.000000000\",\"2023-05-26T00:00:00.000000000\",\"2023-05-27T00:00:00.000000000\",\"2023-05-28T00:00:00.000000000\",\"2023-05-29T00:00:00.000000000\",\"2023-05-30T00:00:00.000000000\",\"2023-05-31T00:00:00.000000000\",\"2023-06-01T00:00:00.000000000\",\"2023-06-02T00:00:00.000000000\",\"2023-06-03T00:00:00.000000000\",\"2023-06-04T00:00:00.000000000\",\"2023-06-05T00:00:00.000000000\",\"2023-06-06T00:00:00.000000000\",\"2023-06-07T00:00:00.000000000\",\"2023-06-08T00:00:00.000000000\",\"2023-06-09T00:00:00.000000000\",\"2023-06-10T00:00:00.000000000\",\"2023-06-11T00:00:00.000000000\",\"2023-06-12T00:00:00.000000000\",\"2023-06-13T00:00:00.000000000\",\"2023-06-14T00:00:00.000000000\",\"2023-06-15T00:00:00.000000000\",\"2023-06-16T00:00:00.000000000\",\"2023-06-17T00:00:00.000000000\",\"2023-06-18T00:00:00.000000000\",\"2023-06-19T00:00:00.000000000\",\"2023-06-20T00:00:00.000000000\",\"2023-06-21T00:00:00.000000000\",\"2023-06-22T00:00:00.000000000\",\"2023-06-23T00:00:00.000000000\",\"2023-06-24T00:00:00.000000000\",\"2023-06-25T00:00:00.000000000\",\"2023-06-26T00:00:00.000000000\",\"2023-06-27T00:00:00.000000000\",\"2023-06-28T00:00:00.000000000\",\"2023-06-29T00:00:00.000000000\",\"2023-06-30T00:00:00.000000000\",\"2023-07-01T00:00:00.000000000\",\"2023-07-02T00:00:00.000000000\",\"2023-07-03T00:00:00.000000000\",\"2023-07-04T00:00:00.000000000\",\"2023-07-05T00:00:00.000000000\",\"2023-07-06T00:00:00.000000000\",\"2023-07-07T00:00:00.000000000\",\"2023-07-08T00:00:00.000000000\",\"2023-07-09T00:00:00.000000000\",\"2023-07-10T00:00:00.000000000\",\"2023-07-11T00:00:00.000000000\",\"2023-07-12T00:00:00.000000000\",\"2023-07-13T00:00:00.000000000\",\"2023-07-14T00:00:00.000000000\",\"2023-07-15T00:00:00.000000000\",\"2023-07-16T00:00:00.000000000\",\"2023-07-17T00:00:00.000000000\",\"2023-07-18T00:00:00.000000000\",\"2023-07-19T00:00:00.000000000\",\"2023-07-20T00:00:00.000000000\",\"2023-07-21T00:00:00.000000000\",\"2023-07-22T00:00:00.000000000\",\"2023-07-23T00:00:00.000000000\",\"2023-07-24T00:00:00.000000000\",\"2023-07-25T00:00:00.000000000\",\"2023-07-26T00:00:00.000000000\",\"2023-07-27T00:00:00.000000000\",\"2023-07-28T00:00:00.000000000\",\"2023-07-29T00:00:00.000000000\",\"2023-07-30T00:00:00.000000000\",\"2023-07-31T00:00:00.000000000\",\"2023-08-01T00:00:00.000000000\",\"2023-08-02T00:00:00.000000000\",\"2023-08-03T00:00:00.000000000\",\"2023-08-04T00:00:00.000000000\",\"2023-08-05T00:00:00.000000000\",\"2023-08-06T00:00:00.000000000\",\"2023-08-07T00:00:00.000000000\",\"2023-08-08T00:00:00.000000000\",\"2023-08-09T00:00:00.000000000\",\"2023-08-10T00:00:00.000000000\",\"2023-08-11T00:00:00.000000000\",\"2023-08-12T00:00:00.000000000\",\"2023-08-13T00:00:00.000000000\",\"2023-08-14T00:00:00.000000000\",\"2023-08-15T00:00:00.000000000\",\"2023-08-16T00:00:00.000000000\",\"2023-08-17T00:00:00.000000000\",\"2023-08-18T00:00:00.000000000\",\"2023-08-19T00:00:00.000000000\",\"2023-08-20T00:00:00.000000000\",\"2023-08-21T00:00:00.000000000\",\"2023-08-22T00:00:00.000000000\",\"2023-08-23T00:00:00.000000000\",\"2023-08-24T00:00:00.000000000\",\"2023-08-25T00:00:00.000000000\",\"2023-08-26T00:00:00.000000000\",\"2023-08-27T00:00:00.000000000\",\"2023-08-28T00:00:00.000000000\",\"2023-08-29T00:00:00.000000000\",\"2023-08-30T00:00:00.000000000\",\"2023-08-31T00:00:00.000000000\",\"2023-09-01T00:00:00.000000000\",\"2023-09-02T00:00:00.000000000\",\"2023-09-03T00:00:00.000000000\",\"2023-09-04T00:00:00.000000000\",\"2023-09-05T00:00:00.000000000\",\"2023-09-06T00:00:00.000000000\",\"2023-09-07T00:00:00.000000000\",\"2023-09-08T00:00:00.000000000\",\"2023-09-09T00:00:00.000000000\",\"2023-09-10T00:00:00.000000000\",\"2023-09-11T00:00:00.000000000\",\"2023-09-12T00:00:00.000000000\",\"2023-09-13T00:00:00.000000000\",\"2023-09-14T00:00:00.000000000\",\"2023-09-15T00:00:00.000000000\",\"2023-09-16T00:00:00.000000000\",\"2023-09-17T00:00:00.000000000\",\"2023-09-18T00:00:00.000000000\",\"2023-09-19T00:00:00.000000000\",\"2023-09-20T00:00:00.000000000\",\"2023-09-21T00:00:00.000000000\",\"2023-09-22T00:00:00.000000000\",\"2023-09-23T00:00:00.000000000\",\"2023-09-24T00:00:00.000000000\",\"2023-09-25T00:00:00.000000000\",\"2023-09-26T00:00:00.000000000\",\"2023-09-27T00:00:00.000000000\",\"2023-09-28T00:00:00.000000000\",\"2023-09-29T00:00:00.000000000\",\"2023-09-30T00:00:00.000000000\",\"2023-10-01T00:00:00.000000000\",\"2023-10-02T00:00:00.000000000\",\"2023-10-03T00:00:00.000000000\",\"2023-10-04T00:00:00.000000000\",\"2023-10-05T00:00:00.000000000\",\"2023-10-06T00:00:00.000000000\",\"2023-10-07T00:00:00.000000000\",\"2023-10-08T00:00:00.000000000\",\"2023-10-09T00:00:00.000000000\",\"2023-10-10T00:00:00.000000000\",\"2023-10-11T00:00:00.000000000\",\"2023-10-12T00:00:00.000000000\",\"2023-10-13T00:00:00.000000000\",\"2023-10-14T00:00:00.000000000\",\"2023-10-15T00:00:00.000000000\",\"2023-10-16T00:00:00.000000000\",\"2023-10-17T00:00:00.000000000\",\"2023-10-18T00:00:00.000000000\",\"2023-10-19T00:00:00.000000000\",\"2023-10-20T00:00:00.000000000\",\"2023-10-21T00:00:00.000000000\",\"2023-10-22T00:00:00.000000000\",\"2023-10-23T00:00:00.000000000\",\"2023-10-24T00:00:00.000000000\",\"2023-10-25T00:00:00.000000000\",\"2023-10-26T00:00:00.000000000\",\"2023-10-27T00:00:00.000000000\",\"2023-10-28T00:00:00.000000000\",\"2023-10-29T00:00:00.000000000\",\"2023-10-30T00:00:00.000000000\",\"2023-10-31T00:00:00.000000000\",\"2023-11-01T00:00:00.000000000\",\"2023-11-02T00:00:00.000000000\",\"2023-11-03T00:00:00.000000000\",\"2023-11-04T00:00:00.000000000\",\"2023-11-05T00:00:00.000000000\",\"2023-11-06T00:00:00.000000000\",\"2023-11-07T00:00:00.000000000\",\"2023-11-08T00:00:00.000000000\",\"2023-11-09T00:00:00.000000000\",\"2023-11-10T00:00:00.000000000\",\"2023-11-11T00:00:00.000000000\",\"2023-11-12T00:00:00.000000000\",\"2023-11-13T00:00:00.000000000\",\"2023-11-14T00:00:00.000000000\",\"2023-11-15T00:00:00.000000000\",\"2023-11-16T00:00:00.000000000\",\"2023-11-17T00:00:00.000000000\",\"2023-11-18T00:00:00.000000000\",\"2023-11-19T00:00:00.000000000\",\"2023-11-20T00:00:00.000000000\",\"2023-11-21T00:00:00.000000000\",\"2023-11-22T00:00:00.000000000\",\"2023-11-23T00:00:00.000000000\",\"2023-11-24T00:00:00.000000000\",\"2023-11-25T00:00:00.000000000\",\"2023-11-26T00:00:00.000000000\",\"2023-11-26T00:00:00.000000000\",\"2023-11-25T00:00:00.000000000\",\"2023-11-24T00:00:00.000000000\",\"2023-11-23T00:00:00.000000000\",\"2023-11-22T00:00:00.000000000\",\"2023-11-21T00:00:00.000000000\",\"2023-11-20T00:00:00.000000000\",\"2023-11-19T00:00:00.000000000\",\"2023-11-18T00:00:00.000000000\",\"2023-11-17T00:00:00.000000000\",\"2023-11-16T00:00:00.000000000\",\"2023-11-15T00:00:00.000000000\",\"2023-11-14T00:00:00.000000000\",\"2023-11-13T00:00:00.000000000\",\"2023-11-12T00:00:00.000000000\",\"2023-11-11T00:00:00.000000000\",\"2023-11-10T00:00:00.000000000\",\"2023-11-09T00:00:00.000000000\",\"2023-11-08T00:00:00.000000000\",\"2023-11-07T00:00:00.000000000\",\"2023-11-06T00:00:00.000000000\",\"2023-11-05T00:00:00.000000000\",\"2023-11-04T00:00:00.000000000\",\"2023-11-03T00:00:00.000000000\",\"2023-11-02T00:00:00.000000000\",\"2023-11-01T00:00:00.000000000\",\"2023-10-31T00:00:00.000000000\",\"2023-10-30T00:00:00.000000000\",\"2023-10-29T00:00:00.000000000\",\"2023-10-28T00:00:00.000000000\",\"2023-10-27T00:00:00.000000000\",\"2023-10-26T00:00:00.000000000\",\"2023-10-25T00:00:00.000000000\",\"2023-10-24T00:00:00.000000000\",\"2023-10-23T00:00:00.000000000\",\"2023-10-22T00:00:00.000000000\",\"2023-10-21T00:00:00.000000000\",\"2023-10-20T00:00:00.000000000\",\"2023-10-19T00:00:00.000000000\",\"2023-10-18T00:00:00.000000000\",\"2023-10-17T00:00:00.000000000\",\"2023-10-16T00:00:00.000000000\",\"2023-10-15T00:00:00.000000000\",\"2023-10-14T00:00:00.000000000\",\"2023-10-13T00:00:00.000000000\",\"2023-10-12T00:00:00.000000000\",\"2023-10-11T00:00:00.000000000\",\"2023-10-10T00:00:00.000000000\",\"2023-10-09T00:00:00.000000000\",\"2023-10-08T00:00:00.000000000\",\"2023-10-07T00:00:00.000000000\",\"2023-10-06T00:00:00.000000000\",\"2023-10-05T00:00:00.000000000\",\"2023-10-04T00:00:00.000000000\",\"2023-10-03T00:00:00.000000000\",\"2023-10-02T00:00:00.000000000\",\"2023-10-01T00:00:00.000000000\",\"2023-09-30T00:00:00.000000000\",\"2023-09-29T00:00:00.000000000\",\"2023-09-28T00:00:00.000000000\",\"2023-09-27T00:00:00.000000000\",\"2023-09-26T00:00:00.000000000\",\"2023-09-25T00:00:00.000000000\",\"2023-09-24T00:00:00.000000000\",\"2023-09-23T00:00:00.000000000\",\"2023-09-22T00:00:00.000000000\",\"2023-09-21T00:00:00.000000000\",\"2023-09-20T00:00:00.000000000\",\"2023-09-19T00:00:00.000000000\",\"2023-09-18T00:00:00.000000000\",\"2023-09-17T00:00:00.000000000\",\"2023-09-16T00:00:00.000000000\",\"2023-09-15T00:00:00.000000000\",\"2023-09-14T00:00:00.000000000\",\"2023-09-13T00:00:00.000000000\",\"2023-09-12T00:00:00.000000000\",\"2023-09-11T00:00:00.000000000\",\"2023-09-10T00:00:00.000000000\",\"2023-09-09T00:00:00.000000000\",\"2023-09-08T00:00:00.000000000\",\"2023-09-07T00:00:00.000000000\",\"2023-09-06T00:00:00.000000000\",\"2023-09-05T00:00:00.000000000\",\"2023-09-04T00:00:00.000000000\",\"2023-09-03T00:00:00.000000000\",\"2023-09-02T00:00:00.000000000\",\"2023-09-01T00:00:00.000000000\",\"2023-08-31T00:00:00.000000000\",\"2023-08-30T00:00:00.000000000\",\"2023-08-29T00:00:00.000000000\",\"2023-08-28T00:00:00.000000000\",\"2023-08-27T00:00:00.000000000\",\"2023-08-26T00:00:00.000000000\",\"2023-08-25T00:00:00.000000000\",\"2023-08-24T00:00:00.000000000\",\"2023-08-23T00:00:00.000000000\",\"2023-08-22T00:00:00.000000000\",\"2023-08-21T00:00:00.000000000\",\"2023-08-20T00:00:00.000000000\",\"2023-08-19T00:00:00.000000000\",\"2023-08-18T00:00:00.000000000\",\"2023-08-17T00:00:00.000000000\",\"2023-08-16T00:00:00.000000000\",\"2023-08-15T00:00:00.000000000\",\"2023-08-14T00:00:00.000000000\",\"2023-08-13T00:00:00.000000000\",\"2023-08-12T00:00:00.000000000\",\"2023-08-11T00:00:00.000000000\",\"2023-08-10T00:00:00.000000000\",\"2023-08-09T00:00:00.000000000\",\"2023-08-08T00:00:00.000000000\",\"2023-08-07T00:00:00.000000000\",\"2023-08-06T00:00:00.000000000\",\"2023-08-05T00:00:00.000000000\",\"2023-08-04T00:00:00.000000000\",\"2023-08-03T00:00:00.000000000\",\"2023-08-02T00:00:00.000000000\",\"2023-08-01T00:00:00.000000000\",\"2023-07-31T00:00:00.000000000\",\"2023-07-30T00:00:00.000000000\",\"2023-07-29T00:00:00.000000000\",\"2023-07-28T00:00:00.000000000\",\"2023-07-27T00:00:00.000000000\",\"2023-07-26T00:00:00.000000000\",\"2023-07-25T00:00:00.000000000\",\"2023-07-24T00:00:00.000000000\",\"2023-07-23T00:00:00.000000000\",\"2023-07-22T00:00:00.000000000\",\"2023-07-21T00:00:00.000000000\",\"2023-07-20T00:00:00.000000000\",\"2023-07-19T00:00:00.000000000\",\"2023-07-18T00:00:00.000000000\",\"2023-07-17T00:00:00.000000000\",\"2023-07-16T00:00:00.000000000\",\"2023-07-15T00:00:00.000000000\",\"2023-07-14T00:00:00.000000000\",\"2023-07-13T00:00:00.000000000\",\"2023-07-12T00:00:00.000000000\",\"2023-07-11T00:00:00.000000000\",\"2023-07-10T00:00:00.000000000\",\"2023-07-09T00:00:00.000000000\",\"2023-07-08T00:00:00.000000000\",\"2023-07-07T00:00:00.000000000\",\"2023-07-06T00:00:00.000000000\",\"2023-07-05T00:00:00.000000000\",\"2023-07-04T00:00:00.000000000\",\"2023-07-03T00:00:00.000000000\",\"2023-07-02T00:00:00.000000000\",\"2023-07-01T00:00:00.000000000\",\"2023-06-30T00:00:00.000000000\",\"2023-06-29T00:00:00.000000000\",\"2023-06-28T00:00:00.000000000\",\"2023-06-27T00:00:00.000000000\",\"2023-06-26T00:00:00.000000000\",\"2023-06-25T00:00:00.000000000\",\"2023-06-24T00:00:00.000000000\",\"2023-06-23T00:00:00.000000000\",\"2023-06-22T00:00:00.000000000\",\"2023-06-21T00:00:00.000000000\",\"2023-06-20T00:00:00.000000000\",\"2023-06-19T00:00:00.000000000\",\"2023-06-18T00:00:00.000000000\",\"2023-06-17T00:00:00.000000000\",\"2023-06-16T00:00:00.000000000\",\"2023-06-15T00:00:00.000000000\",\"2023-06-14T00:00:00.000000000\",\"2023-06-13T00:00:00.000000000\",\"2023-06-12T00:00:00.000000000\",\"2023-06-11T00:00:00.000000000\",\"2023-06-10T00:00:00.000000000\",\"2023-06-09T00:00:00.000000000\",\"2023-06-08T00:00:00.000000000\",\"2023-06-07T00:00:00.000000000\",\"2023-06-06T00:00:00.000000000\",\"2023-06-05T00:00:00.000000000\",\"2023-06-04T00:00:00.000000000\",\"2023-06-03T00:00:00.000000000\",\"2023-06-02T00:00:00.000000000\",\"2023-06-01T00:00:00.000000000\",\"2023-05-31T00:00:00.000000000\",\"2023-05-30T00:00:00.000000000\",\"2023-05-29T00:00:00.000000000\",\"2023-05-28T00:00:00.000000000\",\"2023-05-27T00:00:00.000000000\",\"2023-05-26T00:00:00.000000000\",\"2023-05-25T00:00:00.000000000\",\"2023-05-24T00:00:00.000000000\",\"2023-05-23T00:00:00.000000000\",\"2023-05-22T00:00:00.000000000\",\"2023-05-21T00:00:00.000000000\",\"2023-05-20T00:00:00.000000000\",\"2023-05-19T00:00:00.000000000\",\"2023-05-18T00:00:00.000000000\",\"2023-05-17T00:00:00.000000000\",\"2023-05-16T00:00:00.000000000\",\"2023-05-15T00:00:00.000000000\",\"2023-05-14T00:00:00.000000000\",\"2023-05-13T00:00:00.000000000\",\"2023-05-12T00:00:00.000000000\",\"2023-05-11T00:00:00.000000000\",\"2023-05-10T00:00:00.000000000\",\"2023-05-09T00:00:00.000000000\",\"2023-05-08T00:00:00.000000000\"],\"y\":[null,null,null,null,null,null,null,null,null,null,null,null,null,null,null,null,null,null,null,null,null,null,null,null,null,null,null,null,null,null,null,null,null,null,null,null,null,null,null,null,null,null,null,null,null,null,null,null,null,null,null,null,null,null,null,null,null,null,null,null,null,null,null,null,null,null,null,null,null,null,null,null,null,null,null,null,null,null,null,null,null,null,null,null,null,null,null,null,null,null,null,null,null,null,null,null,null,null,null,null,null,null,null,null,null,null,null,null,null,null,null,null,null,null,null,null,null,null,null,null,null,null,null,null,null,null,null,null,null,null,null,null,null,null,null,null,null,null,null,null,null,null,null,null,null,null,null,null,null,null,null,null,null,null,null,null,null,null,null,null,null,null,null,null,null,null,null,null,null,null,null,null,null,null,null,null,null,null,null,null,null,null,null,null,null,null,null,null,null,null,null,null,null,null,null,null,6111799808.0,4642035200.0,4426000896.0,4692920832.0,5084087296.0,4425928192.0,4794605568.0,3388968960.0,3763824128.0,2654325248.0,3038922496.0,3259387904.0,3509218560.0,3747985152.0,null,null,null,null,null,null,null,null,null,null,null,null,null,null,null,null,null,null,null,null,null,null,null,null,null,null,null,null,null,null,null,null,null,null,null,null,null,null,null,null,null,null,null,null,null,null,null,null,null,null,null,null,null,null,null,null,null,null,null,null,null,null,null,null,null,null,null,null,null,null,null,null,null,null,null,null,null,null,null,null,null,null,null,null,null,null,null,null,null,null,null,null,null,null,null,null,null,null,null,null,null,null,null,null,null,null,null,null,null,null,null,null,null,null,null,null,null,null,null,null,null,null,null,null,null,null,null,null,null,null,null,null,null,null,null,null,null,null,null,null,null,null,null,null,null,null,null,null,null,null,null,null,null,null,null,null,null,null,null,null,null,null,null,null,null,null,null,null,null,null,null,null,null,null,null,null,null,null,null,null,null,null,null,null,null,null,null,null,null,null,null,null,null,null,null,null],\"type\":\"scatter\",\"xaxis\":\"x8\",\"yaxis\":\"y8\"}],                        {\"template\":{\"data\":{\"barpolar\":[{\"marker\":{\"line\":{\"color\":\"white\",\"width\":0.5},\"pattern\":{\"fillmode\":\"overlay\",\"size\":10,\"solidity\":0.2}},\"type\":\"barpolar\"}],\"bar\":[{\"error_x\":{\"color\":\"#2a3f5f\"},\"error_y\":{\"color\":\"#2a3f5f\"},\"marker\":{\"line\":{\"color\":\"white\",\"width\":0.5},\"pattern\":{\"fillmode\":\"overlay\",\"size\":10,\"solidity\":0.2}},\"type\":\"bar\"}],\"carpet\":[{\"aaxis\":{\"endlinecolor\":\"#2a3f5f\",\"gridcolor\":\"#C8D4E3\",\"linecolor\":\"#C8D4E3\",\"minorgridcolor\":\"#C8D4E3\",\"startlinecolor\":\"#2a3f5f\"},\"baxis\":{\"endlinecolor\":\"#2a3f5f\",\"gridcolor\":\"#C8D4E3\",\"linecolor\":\"#C8D4E3\",\"minorgridcolor\":\"#C8D4E3\",\"startlinecolor\":\"#2a3f5f\"},\"type\":\"carpet\"}],\"choropleth\":[{\"colorbar\":{\"outlinewidth\":0,\"ticks\":\"\"},\"type\":\"choropleth\"}],\"contourcarpet\":[{\"colorbar\":{\"outlinewidth\":0,\"ticks\":\"\"},\"type\":\"contourcarpet\"}],\"contour\":[{\"colorbar\":{\"outlinewidth\":0,\"ticks\":\"\"},\"colorscale\":[[0.0,\"#0d0887\"],[0.1111111111111111,\"#46039f\"],[0.2222222222222222,\"#7201a8\"],[0.3333333333333333,\"#9c179e\"],[0.4444444444444444,\"#bd3786\"],[0.5555555555555556,\"#d8576b\"],[0.6666666666666666,\"#ed7953\"],[0.7777777777777778,\"#fb9f3a\"],[0.8888888888888888,\"#fdca26\"],[1.0,\"#f0f921\"]],\"type\":\"contour\"}],\"heatmapgl\":[{\"colorbar\":{\"outlinewidth\":0,\"ticks\":\"\"},\"colorscale\":[[0.0,\"#0d0887\"],[0.1111111111111111,\"#46039f\"],[0.2222222222222222,\"#7201a8\"],[0.3333333333333333,\"#9c179e\"],[0.4444444444444444,\"#bd3786\"],[0.5555555555555556,\"#d8576b\"],[0.6666666666666666,\"#ed7953\"],[0.7777777777777778,\"#fb9f3a\"],[0.8888888888888888,\"#fdca26\"],[1.0,\"#f0f921\"]],\"type\":\"heatmapgl\"}],\"heatmap\":[{\"colorbar\":{\"outlinewidth\":0,\"ticks\":\"\"},\"colorscale\":[[0.0,\"#0d0887\"],[0.1111111111111111,\"#46039f\"],[0.2222222222222222,\"#7201a8\"],[0.3333333333333333,\"#9c179e\"],[0.4444444444444444,\"#bd3786\"],[0.5555555555555556,\"#d8576b\"],[0.6666666666666666,\"#ed7953\"],[0.7777777777777778,\"#fb9f3a\"],[0.8888888888888888,\"#fdca26\"],[1.0,\"#f0f921\"]],\"type\":\"heatmap\"}],\"histogram2dcontour\":[{\"colorbar\":{\"outlinewidth\":0,\"ticks\":\"\"},\"colorscale\":[[0.0,\"#0d0887\"],[0.1111111111111111,\"#46039f\"],[0.2222222222222222,\"#7201a8\"],[0.3333333333333333,\"#9c179e\"],[0.4444444444444444,\"#bd3786\"],[0.5555555555555556,\"#d8576b\"],[0.6666666666666666,\"#ed7953\"],[0.7777777777777778,\"#fb9f3a\"],[0.8888888888888888,\"#fdca26\"],[1.0,\"#f0f921\"]],\"type\":\"histogram2dcontour\"}],\"histogram2d\":[{\"colorbar\":{\"outlinewidth\":0,\"ticks\":\"\"},\"colorscale\":[[0.0,\"#0d0887\"],[0.1111111111111111,\"#46039f\"],[0.2222222222222222,\"#7201a8\"],[0.3333333333333333,\"#9c179e\"],[0.4444444444444444,\"#bd3786\"],[0.5555555555555556,\"#d8576b\"],[0.6666666666666666,\"#ed7953\"],[0.7777777777777778,\"#fb9f3a\"],[0.8888888888888888,\"#fdca26\"],[1.0,\"#f0f921\"]],\"type\":\"histogram2d\"}],\"histogram\":[{\"marker\":{\"pattern\":{\"fillmode\":\"overlay\",\"size\":10,\"solidity\":0.2}},\"type\":\"histogram\"}],\"mesh3d\":[{\"colorbar\":{\"outlinewidth\":0,\"ticks\":\"\"},\"type\":\"mesh3d\"}],\"parcoords\":[{\"line\":{\"colorbar\":{\"outlinewidth\":0,\"ticks\":\"\"}},\"type\":\"parcoords\"}],\"pie\":[{\"automargin\":true,\"type\":\"pie\"}],\"scatter3d\":[{\"line\":{\"colorbar\":{\"outlinewidth\":0,\"ticks\":\"\"}},\"marker\":{\"colorbar\":{\"outlinewidth\":0,\"ticks\":\"\"}},\"type\":\"scatter3d\"}],\"scattercarpet\":[{\"marker\":{\"colorbar\":{\"outlinewidth\":0,\"ticks\":\"\"}},\"type\":\"scattercarpet\"}],\"scattergeo\":[{\"marker\":{\"colorbar\":{\"outlinewidth\":0,\"ticks\":\"\"}},\"type\":\"scattergeo\"}],\"scattergl\":[{\"marker\":{\"colorbar\":{\"outlinewidth\":0,\"ticks\":\"\"}},\"type\":\"scattergl\"}],\"scattermapbox\":[{\"marker\":{\"colorbar\":{\"outlinewidth\":0,\"ticks\":\"\"}},\"type\":\"scattermapbox\"}],\"scatterpolargl\":[{\"marker\":{\"colorbar\":{\"outlinewidth\":0,\"ticks\":\"\"}},\"type\":\"scatterpolargl\"}],\"scatterpolar\":[{\"marker\":{\"colorbar\":{\"outlinewidth\":0,\"ticks\":\"\"}},\"type\":\"scatterpolar\"}],\"scatter\":[{\"fillpattern\":{\"fillmode\":\"overlay\",\"size\":10,\"solidity\":0.2},\"type\":\"scatter\"}],\"scatterternary\":[{\"marker\":{\"colorbar\":{\"outlinewidth\":0,\"ticks\":\"\"}},\"type\":\"scatterternary\"}],\"surface\":[{\"colorbar\":{\"outlinewidth\":0,\"ticks\":\"\"},\"colorscale\":[[0.0,\"#0d0887\"],[0.1111111111111111,\"#46039f\"],[0.2222222222222222,\"#7201a8\"],[0.3333333333333333,\"#9c179e\"],[0.4444444444444444,\"#bd3786\"],[0.5555555555555556,\"#d8576b\"],[0.6666666666666666,\"#ed7953\"],[0.7777777777777778,\"#fb9f3a\"],[0.8888888888888888,\"#fdca26\"],[1.0,\"#f0f921\"]],\"type\":\"surface\"}],\"table\":[{\"cells\":{\"fill\":{\"color\":\"#EBF0F8\"},\"line\":{\"color\":\"white\"}},\"header\":{\"fill\":{\"color\":\"#C8D4E3\"},\"line\":{\"color\":\"white\"}},\"type\":\"table\"}]},\"layout\":{\"annotationdefaults\":{\"arrowcolor\":\"#2a3f5f\",\"arrowhead\":0,\"arrowwidth\":1},\"autotypenumbers\":\"strict\",\"coloraxis\":{\"colorbar\":{\"outlinewidth\":0,\"ticks\":\"\"}},\"colorscale\":{\"diverging\":[[0,\"#8e0152\"],[0.1,\"#c51b7d\"],[0.2,\"#de77ae\"],[0.3,\"#f1b6da\"],[0.4,\"#fde0ef\"],[0.5,\"#f7f7f7\"],[0.6,\"#e6f5d0\"],[0.7,\"#b8e186\"],[0.8,\"#7fbc41\"],[0.9,\"#4d9221\"],[1,\"#276419\"]],\"sequential\":[[0.0,\"#0d0887\"],[0.1111111111111111,\"#46039f\"],[0.2222222222222222,\"#7201a8\"],[0.3333333333333333,\"#9c179e\"],[0.4444444444444444,\"#bd3786\"],[0.5555555555555556,\"#d8576b\"],[0.6666666666666666,\"#ed7953\"],[0.7777777777777778,\"#fb9f3a\"],[0.8888888888888888,\"#fdca26\"],[1.0,\"#f0f921\"]],\"sequentialminus\":[[0.0,\"#0d0887\"],[0.1111111111111111,\"#46039f\"],[0.2222222222222222,\"#7201a8\"],[0.3333333333333333,\"#9c179e\"],[0.4444444444444444,\"#bd3786\"],[0.5555555555555556,\"#d8576b\"],[0.6666666666666666,\"#ed7953\"],[0.7777777777777778,\"#fb9f3a\"],[0.8888888888888888,\"#fdca26\"],[1.0,\"#f0f921\"]]},\"colorway\":[\"#636efa\",\"#EF553B\",\"#00cc96\",\"#ab63fa\",\"#FFA15A\",\"#19d3f3\",\"#FF6692\",\"#B6E880\",\"#FF97FF\",\"#FECB52\"],\"font\":{\"color\":\"#2a3f5f\"},\"geo\":{\"bgcolor\":\"white\",\"lakecolor\":\"white\",\"landcolor\":\"white\",\"showlakes\":true,\"showland\":true,\"subunitcolor\":\"#C8D4E3\"},\"hoverlabel\":{\"align\":\"left\"},\"hovermode\":\"closest\",\"mapbox\":{\"style\":\"light\"},\"paper_bgcolor\":\"white\",\"plot_bgcolor\":\"white\",\"polar\":{\"angularaxis\":{\"gridcolor\":\"#EBF0F8\",\"linecolor\":\"#EBF0F8\",\"ticks\":\"\"},\"bgcolor\":\"white\",\"radialaxis\":{\"gridcolor\":\"#EBF0F8\",\"linecolor\":\"#EBF0F8\",\"ticks\":\"\"}},\"scene\":{\"xaxis\":{\"backgroundcolor\":\"white\",\"gridcolor\":\"#DFE8F3\",\"gridwidth\":2,\"linecolor\":\"#EBF0F8\",\"showbackground\":true,\"ticks\":\"\",\"zerolinecolor\":\"#EBF0F8\"},\"yaxis\":{\"backgroundcolor\":\"white\",\"gridcolor\":\"#DFE8F3\",\"gridwidth\":2,\"linecolor\":\"#EBF0F8\",\"showbackground\":true,\"ticks\":\"\",\"zerolinecolor\":\"#EBF0F8\"},\"zaxis\":{\"backgroundcolor\":\"white\",\"gridcolor\":\"#DFE8F3\",\"gridwidth\":2,\"linecolor\":\"#EBF0F8\",\"showbackground\":true,\"ticks\":\"\",\"zerolinecolor\":\"#EBF0F8\"}},\"shapedefaults\":{\"line\":{\"color\":\"#2a3f5f\"}},\"ternary\":{\"aaxis\":{\"gridcolor\":\"#DFE8F3\",\"linecolor\":\"#A2B1C6\",\"ticks\":\"\"},\"baxis\":{\"gridcolor\":\"#DFE8F3\",\"linecolor\":\"#A2B1C6\",\"ticks\":\"\"},\"bgcolor\":\"white\",\"caxis\":{\"gridcolor\":\"#DFE8F3\",\"linecolor\":\"#A2B1C6\",\"ticks\":\"\"}},\"title\":{\"x\":0.05},\"xaxis\":{\"automargin\":true,\"gridcolor\":\"#EBF0F8\",\"linecolor\":\"#EBF0F8\",\"ticks\":\"\",\"title\":{\"standoff\":15},\"zerolinecolor\":\"#EBF0F8\",\"zerolinewidth\":2},\"yaxis\":{\"automargin\":true,\"gridcolor\":\"#EBF0F8\",\"linecolor\":\"#EBF0F8\",\"ticks\":\"\",\"title\":{\"standoff\":15},\"zerolinecolor\":\"#EBF0F8\",\"zerolinewidth\":2}}},\"xaxis\":{\"anchor\":\"y\",\"domain\":[0.0,0.46499999999999997],\"showticklabels\":true,\"visible\":true},\"yaxis\":{\"anchor\":\"x\",\"domain\":[0.8625,1.0]},\"xaxis2\":{\"anchor\":\"y2\",\"domain\":[0.5349999999999999,0.9999999999999999],\"showticklabels\":true,\"visible\":true},\"yaxis2\":{\"anchor\":\"x2\",\"domain\":[0.8625,1.0]},\"xaxis3\":{\"anchor\":\"y3\",\"domain\":[0.0,0.46499999999999997],\"showticklabels\":true,\"visible\":true},\"yaxis3\":{\"anchor\":\"x3\",\"domain\":[0.575,0.7124999999999999]},\"xaxis4\":{\"anchor\":\"y4\",\"domain\":[0.5349999999999999,0.9999999999999999],\"showticklabels\":true,\"visible\":true},\"yaxis4\":{\"anchor\":\"x4\",\"domain\":[0.575,0.7124999999999999]},\"xaxis5\":{\"anchor\":\"y5\",\"domain\":[0.0,0.46499999999999997],\"showticklabels\":true,\"visible\":true},\"yaxis5\":{\"anchor\":\"x5\",\"domain\":[0.2875,0.425]},\"xaxis6\":{\"anchor\":\"y6\",\"domain\":[0.5349999999999999,0.9999999999999999],\"showticklabels\":true,\"visible\":true},\"yaxis6\":{\"anchor\":\"x6\",\"domain\":[0.2875,0.425]},\"xaxis7\":{\"anchor\":\"y7\",\"domain\":[0.0,0.46499999999999997],\"showticklabels\":true,\"visible\":true},\"yaxis7\":{\"anchor\":\"x7\",\"domain\":[0.0,0.1375]},\"xaxis8\":{\"anchor\":\"y8\",\"domain\":[0.5349999999999999,0.9999999999999999],\"showticklabels\":true,\"visible\":true},\"yaxis8\":{\"anchor\":\"x8\",\"domain\":[0.0,0.1375]},\"annotations\":[{\"font\":{\"size\":10},\"showarrow\":false,\"text\":\"unique_id=l\",\"x\":0.23249999999999998,\"xanchor\":\"center\",\"xref\":\"paper\",\"y\":1.0,\"yanchor\":\"bottom\",\"yref\":\"paper\"},{\"font\":{\"size\":10},\"showarrow\":false,\"text\":\"unique_id=k\",\"x\":0.7674999999999998,\"xanchor\":\"center\",\"xref\":\"paper\",\"y\":1.0,\"yanchor\":\"bottom\",\"yref\":\"paper\"},{\"font\":{\"size\":10},\"showarrow\":false,\"text\":\"unique_id=w\",\"x\":0.23249999999999998,\"xanchor\":\"center\",\"xref\":\"paper\",\"y\":0.7124999999999999,\"yanchor\":\"bottom\",\"yref\":\"paper\"},{\"font\":{\"size\":10},\"showarrow\":false,\"text\":\"unique_id=o\",\"x\":0.7674999999999998,\"xanchor\":\"center\",\"xref\":\"paper\",\"y\":0.7124999999999999,\"yanchor\":\"bottom\",\"yref\":\"paper\"},{\"font\":{\"size\":10},\"showarrow\":false,\"text\":\"unique_id=u\",\"x\":0.23249999999999998,\"xanchor\":\"center\",\"xref\":\"paper\",\"y\":0.425,\"yanchor\":\"bottom\",\"yref\":\"paper\"},{\"font\":{\"size\":10},\"showarrow\":false,\"text\":\"unique_id=b\",\"x\":0.7674999999999998,\"xanchor\":\"center\",\"xref\":\"paper\",\"y\":0.425,\"yanchor\":\"bottom\",\"yref\":\"paper\"},{\"font\":{\"size\":10},\"showarrow\":false,\"text\":\"unique_id=n\",\"x\":0.23249999999999998,\"xanchor\":\"center\",\"xref\":\"paper\",\"y\":0.1375,\"yanchor\":\"bottom\",\"yref\":\"paper\"},{\"font\":{\"size\":10},\"showarrow\":false,\"text\":\"unique_id=x\",\"x\":0.7674999999999998,\"xanchor\":\"center\",\"xref\":\"paper\",\"y\":0.1375,\"yanchor\":\"bottom\",\"yref\":\"paper\"},{\"font\":{\"size\":10},\"showarrow\":false,\"text\":\"Time [ds]\",\"x\":0.5,\"xanchor\":\"center\",\"xref\":\"paper\",\"y\":0,\"yanchor\":\"top\",\"yref\":\"paper\",\"yshift\":-30},{\"font\":{\"size\":10},\"showarrow\":false,\"text\":\"Target [y]\",\"textangle\":-90,\"x\":0,\"xanchor\":\"right\",\"xref\":\"paper\",\"xshift\":-40,\"y\":0.5,\"yanchor\":\"middle\",\"yref\":\"paper\"}],\"margin\":{\"l\":60,\"r\":10,\"t\":20,\"b\":50},\"font\":{\"size\":10},\"autosize\":true,\"height\":900},                        {\"responsive\": true}                    ).then(function(){\n",
              "                            \n",
              "var gd = document.getElementById('e91dc302-4fe1-409b-9f92-2c06b2a8a645');\n",
              "var x = new MutationObserver(function (mutations, observer) {{\n",
              "        var display = window.getComputedStyle(gd).display;\n",
              "        if (!display || display === 'none') {{\n",
              "            console.log([gd, 'removed!']);\n",
              "            Plotly.purge(gd);\n",
              "            observer.disconnect();\n",
              "        }}\n",
              "}});\n",
              "\n",
              "// Listen for the removal of the full notebook cells\n",
              "var notebookContainer = gd.closest('#notebook-container');\n",
              "if (notebookContainer) {{\n",
              "    x.observe(notebookContainer, {childList: true});\n",
              "}}\n",
              "\n",
              "// Listen for the clearing of the current output cell\n",
              "var outputEl = gd.closest('.output');\n",
              "if (outputEl) {{\n",
              "    x.observe(outputEl, {childList: true});\n",
              "}}\n",
              "\n",
              "                        })                };                            </script>        </div>\n",
              "</body>\n",
              "</html>"
            ]
          },
          "metadata": {}
        }
      ]
    },
    {
      "cell_type": "markdown",
      "source": [
        "##  d. Evaluate"
      ],
      "metadata": {
        "id": "3FIhCnW3lXzj"
      }
    },
    {
      "cell_type": "code",
      "source": [
        "metric = [\n",
        "    #mae,\n",
        "    rmse,\n",
        "    #mape\n",
        "]"
      ],
      "metadata": {
        "id": "Ahm5Ju5rlXzp"
      },
      "execution_count": 32,
      "outputs": []
    },
    {
      "cell_type": "code",
      "source": [
        "eval_sf = evaluate(\n",
        "    sf_forecast,\n",
        "    metrics=metric,\n",
        ")\n",
        "eval_sf.head()"
      ],
      "metadata": {
        "colab": {
          "base_uri": "https://localhost:8080/",
          "height": 206
        },
        "id": "gk2-_OL9ltoC",
        "outputId": "49dfba28-1666-4d86-f489-bb99b33bd672"
      },
      "execution_count": 34,
      "outputs": [
        {
          "output_type": "execute_result",
          "data": {
            "text/plain": [
              "  unique_id metric     AutoARIMA\n",
              "0         a   rmse  5.190184e+06\n",
              "1         b   rmse  1.285807e+07\n",
              "2         c   rmse  6.352523e+07\n",
              "3         d   rmse  8.066515e+07\n",
              "4         e   rmse  1.940487e+07"
            ],
            "text/html": [
              "<div>\n",
              "<style scoped>\n",
              "    .dataframe tbody tr th:only-of-type {\n",
              "        vertical-align: middle;\n",
              "    }\n",
              "\n",
              "    .dataframe tbody tr th {\n",
              "        vertical-align: top;\n",
              "    }\n",
              "\n",
              "    .dataframe thead th {\n",
              "        text-align: right;\n",
              "    }\n",
              "</style>\n",
              "<table border=\"1\" class=\"dataframe\">\n",
              "  <thead>\n",
              "    <tr style=\"text-align: right;\">\n",
              "      <th></th>\n",
              "      <th>unique_id</th>\n",
              "      <th>metric</th>\n",
              "      <th>AutoARIMA</th>\n",
              "    </tr>\n",
              "  </thead>\n",
              "  <tbody>\n",
              "    <tr>\n",
              "      <th>0</th>\n",
              "      <td>a</td>\n",
              "      <td>rmse</td>\n",
              "      <td>5.190184e+06</td>\n",
              "    </tr>\n",
              "    <tr>\n",
              "      <th>1</th>\n",
              "      <td>b</td>\n",
              "      <td>rmse</td>\n",
              "      <td>1.285807e+07</td>\n",
              "    </tr>\n",
              "    <tr>\n",
              "      <th>2</th>\n",
              "      <td>c</td>\n",
              "      <td>rmse</td>\n",
              "      <td>6.352523e+07</td>\n",
              "    </tr>\n",
              "    <tr>\n",
              "      <th>3</th>\n",
              "      <td>d</td>\n",
              "      <td>rmse</td>\n",
              "      <td>8.066515e+07</td>\n",
              "    </tr>\n",
              "    <tr>\n",
              "      <th>4</th>\n",
              "      <td>e</td>\n",
              "      <td>rmse</td>\n",
              "      <td>1.940487e+07</td>\n",
              "    </tr>\n",
              "  </tbody>\n",
              "</table>\n",
              "</div>"
            ]
          },
          "metadata": {},
          "execution_count": 34
        }
      ]
    },
    {
      "cell_type": "code",
      "source": [
        "# export forecast evaluation\n",
        "\n",
        "#eval_sf.to_excel('eval_sf.xlsx')"
      ],
      "metadata": {
        "id": "roa_Z6aE2t6m"
      },
      "execution_count": null,
      "outputs": []
    },
    {
      "cell_type": "markdown",
      "source": [
        "## e. Cross Validation"
      ],
      "metadata": {
        "id": "IxVkaimtAqgD"
      }
    },
    {
      "cell_type": "code",
      "source": [
        "init = time()\n",
        "\n",
        "sf_cv = sf.cross_validation(\n",
        "    df = trainX,\n",
        "    h = 7,\n",
        "    step_size = 7,\n",
        "    n_windows = 5,\n",
        "  )\n",
        "\n",
        "end = time()\n",
        "time_run = (end - init)\n",
        "\n",
        "print(f'Time: {time_run:.2f} seconds')\n",
        "sf_cv.head()"
      ],
      "metadata": {
        "id": "2QizT-dp_aK8"
      },
      "execution_count": null,
      "outputs": []
    },
    {
      "cell_type": "code",
      "source": [
        "sf_cv = sf_cv.reset_index()\n",
        "sf_cv.head()"
      ],
      "metadata": {
        "id": "FuuyX95NHC_s"
      },
      "execution_count": null,
      "outputs": []
    },
    {
      "cell_type": "markdown",
      "source": [
        "## f. CV Evaluate"
      ],
      "metadata": {
        "id": "jT5gSLdvGH8U"
      }
    },
    {
      "cell_type": "code",
      "source": [
        "metric = [\n",
        "    #mae,\n",
        "    rmse,\n",
        "    #mape\n",
        "]"
      ],
      "metadata": {
        "id": "JTfu1CdcFPXh"
      },
      "execution_count": null,
      "outputs": []
    },
    {
      "cell_type": "code",
      "source": [
        "def evaluate_cross_validation(df, metric):\n",
        "    models = sf_cv.drop(columns=['unique_id', 'ds', 'cutoff', 'y']).columns.tolist()\n",
        "    evals = []\n",
        "    # Calculate loss for every unique_id and cutoff.\n",
        "    for cutoff in sf_cv['cutoff'].unique():\n",
        "        eval_ = evaluate(sf_cv[sf_cv['cutoff'] == cutoff], metrics=[metric], models=models)\n",
        "        evals.append(eval_)\n",
        "    evals = pd.concat(evals)\n",
        "    evals = evals.groupby('unique_id').mean(numeric_only=True) # Averages the error metrics for all cutoffs for every combination of model and unique_id\n",
        "    evals['best_model'] = evals.idxmin(axis=1)\n",
        "    return evals\n"
      ],
      "metadata": {
        "id": "FYDUOwkMGHl8"
      },
      "execution_count": null,
      "outputs": []
    },
    {
      "cell_type": "code",
      "source": [
        "eval_sf_cv = evaluate_cross_validation(sf_cv.reset_index(), rmse)\n",
        "\n",
        "eval_sf_cv"
      ],
      "metadata": {
        "id": "I6aeI01E_SCS"
      },
      "execution_count": null,
      "outputs": []
    },
    {
      "cell_type": "markdown",
      "source": [
        "# 4)  FP Prophet Approach"
      ],
      "metadata": {
        "id": "bX-365CzO5Yt"
      }
    },
    {
      "cell_type": "code",
      "source": [
        "!pip install prophet\n",
        "\n",
        "from prophet import Prophet\n",
        "from prophet.plot import add_changepoints_to_plot\n",
        "from prophet.plot import plot_plotly, plot_components_plotly\n",
        "from prophet.diagnostics import cross_validation\n",
        "from prophet.diagnostics import performance_metrics\n",
        "from prophet.plot import plot_cross_validation_metric"
      ],
      "metadata": {
        "id": "_6vVqno2RPLj"
      },
      "execution_count": null,
      "outputs": []
    },
    {
      "cell_type": "markdown",
      "source": [
        "## a. Data Formating"
      ],
      "metadata": {
        "id": "Os4Uh0sJPUGd"
      }
    },
    {
      "cell_type": "code",
      "source": [
        "train_fb = train.copy()\n",
        "train_fb.tail()"
      ],
      "metadata": {
        "id": "TdFJsS61O45v"
      },
      "execution_count": null,
      "outputs": []
    },
    {
      "cell_type": "code",
      "source": [
        "pivot_train_fb = train_fb.pivot(index='ds', columns='unique_id', values='y').reset_index()\n",
        "pivot_train_fb.tail()"
      ],
      "metadata": {
        "id": "v4LlhgvMQjY6"
      },
      "execution_count": null,
      "outputs": []
    },
    {
      "cell_type": "code",
      "source": [
        "pivot_train_fb.tail(28)"
      ],
      "metadata": {
        "id": "jwnY0oU1dgC5"
      },
      "execution_count": null,
      "outputs": []
    },
    {
      "cell_type": "markdown",
      "source": [
        "## b. Forecast"
      ],
      "metadata": {
        "id": "3MFRH3yoPrkN"
      }
    },
    {
      "cell_type": "code",
      "source": [
        "init = time()\n",
        "\n",
        "fb_forecast = pd.DataFrame() #for storing the result for every iteration (Supplier/Product)\n",
        "\n",
        "for unique_id in pivot_train_fb.drop(\"ds\",axis=1).columns:\n",
        "    try:\n",
        "        train_fb_model = pivot_train_fb[['ds',unique_id]] # Taking the data\n",
        "        train_fb_model.columns = ['ds','y'] # Reformat the data as required by FB Prophet Model\n",
        "        train_fb_model['ds'] = pd.to_datetime(train_fb_model['ds']) # Change text date to datetime object\n",
        "\n",
        "        forecaster = Prophet(\n",
        "            growth=\"linear\", #linear(d) or logistic\n",
        "            scaling=\"minmax\",\n",
        "            changepoints = None, #None (d) if want to add manual specify the date\n",
        "            n_changepoints = 25,\n",
        "            changepoint_range=0.8, #0.8 (d)\n",
        "            holidays= None, #or holidays\n",
        "            seasonality_mode='additive', #or multipicative\n",
        "            changepoint_prior_scale=0.05,\n",
        "            seasonality_prior_scale=10.00,\n",
        "            holidays_prior_scale=10.00,\n",
        "            yearly_seasonality= \"auto\", #or False\n",
        "            weekly_seasonality= \"auto\", #or False\n",
        "            daily_seasonality= \"auto\", #or False\n",
        "            )#.add_seasonality(\n",
        "                #name=\"monthly\",\n",
        "                #period=30.5,\n",
        "                #fourier_order=4\n",
        "            #).add_seasonality(\n",
        "                #name=\"daily\",\n",
        "                #period=1,\n",
        "                #fourier_order=15\n",
        "            #).add_seasonality(\n",
        "                #name=\"weekly\",\n",
        "                #period=7,\n",
        "                #fourier_order=20\n",
        "            #).add_seasonality(\n",
        "                #name=\"yearly\",\n",
        "                #period=365.25,\n",
        "                #fourier_order=20\n",
        "            #).add_seasonality(\n",
        "                #name=\"quarterly\",\n",
        "                #period=365.25/4,\n",
        "                #fourier_order=20,\n",
        "                #prior_scale =15\n",
        "            #)\n",
        "\n",
        "        forecaster.fit(train_fb_model) # Fitting the model\n",
        "        future = forecaster.make_future_dataframe(periods=7, freq='D',include_history=False) # Creating forecast dataframe # freq can be D, H, W, Y etc\n",
        "        forecast = forecaster.predict(future) # predict future value\n",
        "\n",
        "        fb_forecast[unique_id] = forecast[[\"yhat\"]].tail(7) # Gather the result (alternative: yhat_lower, yhat, and yhat_upper)\n",
        "    except:\n",
        "        pass\n",
        "\n",
        "end = time()\n",
        "time_run = (end - init)\n",
        "\n",
        "print(f'Time: {time_run:.2f} seconds')"
      ],
      "metadata": {
        "id": "70j5xzhdP58w"
      },
      "execution_count": null,
      "outputs": []
    },
    {
      "cell_type": "code",
      "source": [
        "fb_forecast['ds'] = future.tail(7)\n",
        "fb_forecast.head()"
      ],
      "metadata": {
        "id": "0KjP6OFLQbXE"
      },
      "execution_count": null,
      "outputs": []
    },
    {
      "cell_type": "code",
      "source": [
        "fb_forecast = pd.melt(fb_forecast, id_vars=['ds'], var_name='unique_id', value_name='y')\n",
        "fb_forecast.head()"
      ],
      "metadata": {
        "id": "i02XvcDVpSq9"
      },
      "execution_count": null,
      "outputs": []
    },
    {
      "cell_type": "code",
      "source": [
        "fb =  fb_forecast.copy()\n",
        "fb = fb.rename(columns={'y':'prophet (7)'})\n",
        "fb.head()"
      ],
      "metadata": {
        "id": "f6Try3-_p03B"
      },
      "execution_count": null,
      "outputs": []
    },
    {
      "cell_type": "markdown",
      "source": [
        "## c. Cross Validation"
      ],
      "metadata": {
        "id": "yOi9uhofab-I"
      }
    },
    {
      "cell_type": "code",
      "source": [
        "cutoffs = pd.to_datetime(['2023-10-23'])\n",
        "\n",
        "fb_cv = cross_validation(\n",
        "    forecaster,\n",
        "    horizon='7 days',\n",
        "    cutoffs=cutoffs\n",
        ")"
      ],
      "metadata": {
        "id": "xfpee2J3biwV"
      },
      "execution_count": null,
      "outputs": []
    },
    {
      "cell_type": "markdown",
      "source": [
        "## d. Evaluate"
      ],
      "metadata": {
        "id": "2w7oqKIxeH2L"
      }
    },
    {
      "cell_type": "code",
      "source": [],
      "metadata": {
        "id": "KKkwdlUPeLBW"
      },
      "execution_count": null,
      "outputs": []
    },
    {
      "cell_type": "markdown",
      "source": [
        "# 5)  Machine Learning Approach"
      ],
      "metadata": {
        "id": "t2bs1N07BA0l"
      }
    },
    {
      "cell_type": "code",
      "source": [
        "# Machine Learning Approach\n",
        "# --------------------------------\n",
        "!pip install mlforecast lightgbm xgboost\n",
        "\n",
        "from mlforecast import MLForecast\n",
        "from mlforecast.utils import PredictionIntervals\n",
        "from mlforecast.target_transforms import Differences, LocalBoxCox, LocalMinMaxScaler\n",
        "\n",
        "from mlforecast.lgb_cv import LightGBMCV\n",
        "\n",
        "import lightgbm as lgb\n",
        "#import xgboost as xgb\n",
        "\n",
        "# Hyperparameter Tuning\n",
        "!pip install optuna\n",
        "\n",
        "import optuna"
      ],
      "metadata": {
        "id": "Nk_TMWyLzOlH",
        "colab": {
          "base_uri": "https://localhost:8080/"
        },
        "outputId": "f455339c-9139-4e69-c0b2-2e2df574d0c9",
        "collapsed": true
      },
      "execution_count": 35,
      "outputs": [
        {
          "output_type": "stream",
          "name": "stdout",
          "text": [
            "Requirement already satisfied: mlforecast in c:\\users\\alisu\\anaconda3\\lib\\site-packages (0.11.1)\n",
            "Requirement already satisfied: lightgbm in c:\\users\\alisu\\anaconda3\\lib\\site-packages (4.1.0)\n",
            "Requirement already satisfied: xgboost in c:\\users\\alisu\\anaconda3\\lib\\site-packages (2.0.2)\n",
            "Requirement already satisfied: numba in c:\\users\\alisu\\anaconda3\\lib\\site-packages (from mlforecast) (0.57.1)\n",
            "Requirement already satisfied: packaging in c:\\users\\alisu\\anaconda3\\lib\\site-packages (from mlforecast) (23.1)\n",
            "Requirement already satisfied: pandas in c:\\users\\alisu\\anaconda3\\lib\\site-packages (from mlforecast) (2.0.3)\n",
            "Requirement already satisfied: scikit-learn in c:\\users\\alisu\\anaconda3\\lib\\site-packages (from mlforecast) (1.3.0)\n",
            "Requirement already satisfied: utilsforecast>=0.0.13 in c:\\users\\alisu\\anaconda3\\lib\\site-packages (from mlforecast) (0.0.19)\n",
            "Requirement already satisfied: window-ops in c:\\users\\alisu\\anaconda3\\lib\\site-packages (from mlforecast) (0.0.14)\n",
            "Requirement already satisfied: numpy in c:\\users\\alisu\\anaconda3\\lib\\site-packages (from lightgbm) (1.24.3)\n",
            "Requirement already satisfied: scipy in c:\\users\\alisu\\anaconda3\\lib\\site-packages (from lightgbm) (1.11.1)\n",
            "Requirement already satisfied: python-dateutil>=2.8.2 in c:\\users\\alisu\\anaconda3\\lib\\site-packages (from pandas->mlforecast) (2.8.2)\n",
            "Requirement already satisfied: pytz>=2020.1 in c:\\users\\alisu\\anaconda3\\lib\\site-packages (from pandas->mlforecast) (2023.3.post1)\n",
            "Requirement already satisfied: tzdata>=2022.1 in c:\\users\\alisu\\anaconda3\\lib\\site-packages (from pandas->mlforecast) (2023.3)\n",
            "Requirement already satisfied: llvmlite<0.41,>=0.40.0dev0 in c:\\users\\alisu\\anaconda3\\lib\\site-packages (from numba->mlforecast) (0.40.0)\n",
            "Requirement already satisfied: joblib>=1.1.1 in c:\\users\\alisu\\anaconda3\\lib\\site-packages (from scikit-learn->mlforecast) (1.2.0)\n",
            "Requirement already satisfied: threadpoolctl>=2.0.0 in c:\\users\\alisu\\anaconda3\\lib\\site-packages (from scikit-learn->mlforecast) (2.2.0)\n",
            "Requirement already satisfied: six>=1.5 in c:\\users\\alisu\\anaconda3\\lib\\site-packages (from python-dateutil>=2.8.2->pandas->mlforecast) (1.16.0)\n",
            "Requirement already satisfied: optuna in c:\\users\\alisu\\anaconda3\\lib\\site-packages (3.4.0)\n",
            "Requirement already satisfied: alembic>=1.5.0 in c:\\users\\alisu\\anaconda3\\lib\\site-packages (from optuna) (1.13.0)\n",
            "Requirement already satisfied: colorlog in c:\\users\\alisu\\anaconda3\\lib\\site-packages (from optuna) (6.8.0)\n",
            "Requirement already satisfied: numpy in c:\\users\\alisu\\anaconda3\\lib\\site-packages (from optuna) (1.24.3)\n",
            "Requirement already satisfied: packaging>=20.0 in c:\\users\\alisu\\anaconda3\\lib\\site-packages (from optuna) (23.1)\n",
            "Requirement already satisfied: sqlalchemy>=1.3.0 in c:\\users\\alisu\\anaconda3\\lib\\site-packages (from optuna) (1.4.39)\n",
            "Requirement already satisfied: tqdm in c:\\users\\alisu\\anaconda3\\lib\\site-packages (from optuna) (4.65.0)\n",
            "Requirement already satisfied: PyYAML in c:\\users\\alisu\\anaconda3\\lib\\site-packages (from optuna) (6.0)\n",
            "Requirement already satisfied: Mako in c:\\users\\alisu\\anaconda3\\lib\\site-packages (from alembic>=1.5.0->optuna) (1.3.0)\n",
            "Requirement already satisfied: typing-extensions>=4 in c:\\users\\alisu\\anaconda3\\lib\\site-packages (from alembic>=1.5.0->optuna) (4.7.1)\n",
            "Requirement already satisfied: greenlet!=0.4.17 in c:\\users\\alisu\\anaconda3\\lib\\site-packages (from sqlalchemy>=1.3.0->optuna) (2.0.1)\n",
            "Requirement already satisfied: colorama in c:\\users\\alisu\\anaconda3\\lib\\site-packages (from colorlog->optuna) (0.4.6)\n",
            "Requirement already satisfied: MarkupSafe>=0.9.2 in c:\\users\\alisu\\anaconda3\\lib\\site-packages (from Mako->alembic>=1.5.0->optuna) (2.1.1)\n"
          ]
        }
      ]
    },
    {
      "cell_type": "markdown",
      "source": [
        "## a. Feature Engineering"
      ],
      "metadata": {
        "id": "vEdkRiQhBH2E"
      }
    },
    {
      "cell_type": "code",
      "source": [
        "feature_config = dict(\n",
        "    freq=\"D\", # daily frequency data\n",
        "    target_transforms=[Differences([1])], # minus all value with previous day to detrending (tree model cannot extrapolate trend)\n",
        "    lags=[0 + (i+1) for i in range(31)], # lag values from previous day to 31 days\n",
        "    lag_transforms={\n",
        "        1: [(ewm_mean, 0.3)],\n",
        "        7: [(ewm_mean, 0.3),(rolling_mean, 7),(rolling_std, 7),(rolling_mean, 14),(rolling_std, 14),(seasonal_rolling_mean,7, 3),(seasonal_rolling_std,7, 3)],\n",
        "        14:[(ewm_mean, 0.3),(rolling_mean, 7),(rolling_std, 7),(rolling_mean, 14),(rolling_std, 14),(seasonal_rolling_mean,7, 2),(seasonal_rolling_std,7, 2)],\n",
        "        21:[(ewm_mean, 0.3),(rolling_mean, 7),(rolling_std, 7)],\n",
        "        29:[(ewm_mean, 0.3)],\n",
        "        30:[(ewm_mean, 0.3)],\n",
        "        31:[(ewm_mean, 0.3)],\n",
        "    },\n",
        "    date_features=['month', 'day', 'dayofweek', 'week','quarter','dayofyear'], #extract date feature\n",
        ")\n",
        "\n",
        "mlf = MLForecast(\n",
        "          models=[], # model will constructed next\n",
        "          **feature_config,\n",
        "          num_threads=4,\n",
        ")"
      ],
      "metadata": {
        "id": "S6zl98KYBKrb"
      },
      "execution_count": 36,
      "outputs": []
    },
    {
      "cell_type": "code",
      "source": [
        "prep = mlf.preprocess(train)\n",
        "print(train.shape)\n",
        "print(prep.shape)\n",
        "prep.tail()"
      ],
      "metadata": {
        "colab": {
          "base_uri": "https://localhost:8080/",
          "height": 377
        },
        "id": "95uJvNUgrhFi",
        "outputId": "9fb0068f-5988-429e-d9ad-ff4e5574d588"
      },
      "execution_count": 37,
      "outputs": [
        {
          "output_type": "stream",
          "name": "stdout",
          "text": [
            "(7752, 3)\n",
            "(6984, 61)\n"
          ]
        },
        {
          "output_type": "execute_result",
          "data": {
            "text/plain": [
              "     unique_id         ds             y          lag1          lag2  \\\n",
              "7747         x 2023-11-15  3.535860e+08  1.908825e+07  2.460735e+08   \n",
              "7748         x 2023-11-16 -6.763809e+08  3.535860e+08  1.908825e+07   \n",
              "7749         x 2023-11-17 -1.210107e+08 -6.763809e+08  3.535860e+08   \n",
              "7750         x 2023-11-18  3.416212e+08 -1.210107e+08 -6.763809e+08   \n",
              "7751         x 2023-11-19  9.288805e+08  3.416212e+08 -1.210107e+08   \n",
              "\n",
              "              lag3          lag4          lag5          lag6          lag7  \\\n",
              "7747 -1.973553e+08 -1.994507e+08  3.104101e+08  5.730876e+07 -1.361076e+08   \n",
              "7748  2.460735e+08 -1.973553e+08 -1.994507e+08  3.104101e+08  5.730876e+07   \n",
              "7749  1.908825e+07  2.460735e+08 -1.973553e+08 -1.994507e+08  3.104101e+08   \n",
              "7750  3.535860e+08  1.908825e+07  2.460735e+08 -1.973553e+08 -1.994507e+08   \n",
              "7751 -6.763809e+08  3.535860e+08  1.908825e+07  2.460735e+08 -1.973553e+08   \n",
              "\n",
              "      ...  rolling_std_lag21_window_size7  ewm_mean_lag29_alpha0.3  \\\n",
              "7747  ...                    1.640193e+09            -3.370868e+07   \n",
              "7748  ...                    1.637830e+09             1.521581e+08   \n",
              "7749  ...                    1.156066e+09             1.505744e+08   \n",
              "7750  ...                    3.542594e+08             8.453124e+08   \n",
              "7751  ...                    3.071986e+08            -3.305767e+08   \n",
              "\n",
              "      ewm_mean_lag30_alpha0.3  ewm_mean_lag31_alpha0.3  month  day  dayofweek  \\\n",
              "7747             1.634589e+08            -1.535327e+07     11   15          2   \n",
              "7748            -3.370868e+07             1.634589e+08     11   16          3   \n",
              "7749             1.521581e+08            -3.370868e+07     11   17          4   \n",
              "7750             1.505744e+08             1.521581e+08     11   18          5   \n",
              "7751             8.453124e+08             1.505744e+08     11   19          6   \n",
              "\n",
              "      week  quarter  dayofyear  \n",
              "7747    46        4        319  \n",
              "7748    46        4        320  \n",
              "7749    46        4        321  \n",
              "7750    46        4        322  \n",
              "7751    46        4        323  \n",
              "\n",
              "[5 rows x 61 columns]"
            ],
            "text/html": [
              "<div>\n",
              "<style scoped>\n",
              "    .dataframe tbody tr th:only-of-type {\n",
              "        vertical-align: middle;\n",
              "    }\n",
              "\n",
              "    .dataframe tbody tr th {\n",
              "        vertical-align: top;\n",
              "    }\n",
              "\n",
              "    .dataframe thead th {\n",
              "        text-align: right;\n",
              "    }\n",
              "</style>\n",
              "<table border=\"1\" class=\"dataframe\">\n",
              "  <thead>\n",
              "    <tr style=\"text-align: right;\">\n",
              "      <th></th>\n",
              "      <th>unique_id</th>\n",
              "      <th>ds</th>\n",
              "      <th>y</th>\n",
              "      <th>lag1</th>\n",
              "      <th>lag2</th>\n",
              "      <th>lag3</th>\n",
              "      <th>lag4</th>\n",
              "      <th>lag5</th>\n",
              "      <th>lag6</th>\n",
              "      <th>lag7</th>\n",
              "      <th>...</th>\n",
              "      <th>rolling_std_lag21_window_size7</th>\n",
              "      <th>ewm_mean_lag29_alpha0.3</th>\n",
              "      <th>ewm_mean_lag30_alpha0.3</th>\n",
              "      <th>ewm_mean_lag31_alpha0.3</th>\n",
              "      <th>month</th>\n",
              "      <th>day</th>\n",
              "      <th>dayofweek</th>\n",
              "      <th>week</th>\n",
              "      <th>quarter</th>\n",
              "      <th>dayofyear</th>\n",
              "    </tr>\n",
              "  </thead>\n",
              "  <tbody>\n",
              "    <tr>\n",
              "      <th>7747</th>\n",
              "      <td>x</td>\n",
              "      <td>2023-11-15</td>\n",
              "      <td>3.535860e+08</td>\n",
              "      <td>1.908825e+07</td>\n",
              "      <td>2.460735e+08</td>\n",
              "      <td>-1.973553e+08</td>\n",
              "      <td>-1.994507e+08</td>\n",
              "      <td>3.104101e+08</td>\n",
              "      <td>5.730876e+07</td>\n",
              "      <td>-1.361076e+08</td>\n",
              "      <td>...</td>\n",
              "      <td>1.640193e+09</td>\n",
              "      <td>-3.370868e+07</td>\n",
              "      <td>1.634589e+08</td>\n",
              "      <td>-1.535327e+07</td>\n",
              "      <td>11</td>\n",
              "      <td>15</td>\n",
              "      <td>2</td>\n",
              "      <td>46</td>\n",
              "      <td>4</td>\n",
              "      <td>319</td>\n",
              "    </tr>\n",
              "    <tr>\n",
              "      <th>7748</th>\n",
              "      <td>x</td>\n",
              "      <td>2023-11-16</td>\n",
              "      <td>-6.763809e+08</td>\n",
              "      <td>3.535860e+08</td>\n",
              "      <td>1.908825e+07</td>\n",
              "      <td>2.460735e+08</td>\n",
              "      <td>-1.973553e+08</td>\n",
              "      <td>-1.994507e+08</td>\n",
              "      <td>3.104101e+08</td>\n",
              "      <td>5.730876e+07</td>\n",
              "      <td>...</td>\n",
              "      <td>1.637830e+09</td>\n",
              "      <td>1.521581e+08</td>\n",
              "      <td>-3.370868e+07</td>\n",
              "      <td>1.634589e+08</td>\n",
              "      <td>11</td>\n",
              "      <td>16</td>\n",
              "      <td>3</td>\n",
              "      <td>46</td>\n",
              "      <td>4</td>\n",
              "      <td>320</td>\n",
              "    </tr>\n",
              "    <tr>\n",
              "      <th>7749</th>\n",
              "      <td>x</td>\n",
              "      <td>2023-11-17</td>\n",
              "      <td>-1.210107e+08</td>\n",
              "      <td>-6.763809e+08</td>\n",
              "      <td>3.535860e+08</td>\n",
              "      <td>1.908825e+07</td>\n",
              "      <td>2.460735e+08</td>\n",
              "      <td>-1.973553e+08</td>\n",
              "      <td>-1.994507e+08</td>\n",
              "      <td>3.104101e+08</td>\n",
              "      <td>...</td>\n",
              "      <td>1.156066e+09</td>\n",
              "      <td>1.505744e+08</td>\n",
              "      <td>1.521581e+08</td>\n",
              "      <td>-3.370868e+07</td>\n",
              "      <td>11</td>\n",
              "      <td>17</td>\n",
              "      <td>4</td>\n",
              "      <td>46</td>\n",
              "      <td>4</td>\n",
              "      <td>321</td>\n",
              "    </tr>\n",
              "    <tr>\n",
              "      <th>7750</th>\n",
              "      <td>x</td>\n",
              "      <td>2023-11-18</td>\n",
              "      <td>3.416212e+08</td>\n",
              "      <td>-1.210107e+08</td>\n",
              "      <td>-6.763809e+08</td>\n",
              "      <td>3.535860e+08</td>\n",
              "      <td>1.908825e+07</td>\n",
              "      <td>2.460735e+08</td>\n",
              "      <td>-1.973553e+08</td>\n",
              "      <td>-1.994507e+08</td>\n",
              "      <td>...</td>\n",
              "      <td>3.542594e+08</td>\n",
              "      <td>8.453124e+08</td>\n",
              "      <td>1.505744e+08</td>\n",
              "      <td>1.521581e+08</td>\n",
              "      <td>11</td>\n",
              "      <td>18</td>\n",
              "      <td>5</td>\n",
              "      <td>46</td>\n",
              "      <td>4</td>\n",
              "      <td>322</td>\n",
              "    </tr>\n",
              "    <tr>\n",
              "      <th>7751</th>\n",
              "      <td>x</td>\n",
              "      <td>2023-11-19</td>\n",
              "      <td>9.288805e+08</td>\n",
              "      <td>3.416212e+08</td>\n",
              "      <td>-1.210107e+08</td>\n",
              "      <td>-6.763809e+08</td>\n",
              "      <td>3.535860e+08</td>\n",
              "      <td>1.908825e+07</td>\n",
              "      <td>2.460735e+08</td>\n",
              "      <td>-1.973553e+08</td>\n",
              "      <td>...</td>\n",
              "      <td>3.071986e+08</td>\n",
              "      <td>-3.305767e+08</td>\n",
              "      <td>8.453124e+08</td>\n",
              "      <td>1.505744e+08</td>\n",
              "      <td>11</td>\n",
              "      <td>19</td>\n",
              "      <td>6</td>\n",
              "      <td>46</td>\n",
              "      <td>4</td>\n",
              "      <td>323</td>\n",
              "    </tr>\n",
              "  </tbody>\n",
              "</table>\n",
              "<p>5 rows × 61 columns</p>\n",
              "</div>"
            ]
          },
          "metadata": {},
          "execution_count": 37
        }
      ]
    },
    {
      "cell_type": "markdown",
      "source": [
        "## b. Cross Validation with LGBMVC & Hyperparameter Tuning with Optuna"
      ],
      "metadata": {
        "id": "GUpEcq3-jsGE"
      }
    },
    {
      "cell_type": "code",
      "source": [
        "fixed_params = {\n",
        "    'objective': 'regression',\n",
        "    'boosting': \"gbdt\",\n",
        "    'bagging_freq': 1,\n",
        "    'verbose': -1,\n",
        "    'linear_tree': False,\n",
        "    'linear_lambda':0,\n",
        "    'force_col_wise': True, # because number of columns is large\n",
        "    'bagging_freq' : 1,\n",
        "    'metric':'',\n",
        "    'n_estimators': 1000,\n",
        "    'learning_rate': 0.1, #\n",
        "    'max_depth':-1 #\n",
        "}"
      ],
      "metadata": {
        "id": "K_RdQgZkNaJh"
      },
      "execution_count": 38,
      "outputs": []
    },
    {
      "cell_type": "code",
      "source": [
        "def objective(trial):\n",
        "    cv = LightGBMCV(**feature_config, num_threads=12)\n",
        "    params = {\n",
        "        'num_leaves': trial.suggest_int('num_leaves', 2, 2500),\n",
        "        'lambda_l1': trial.suggest_float('lambda_l1', 1e-8, 10.0, log=True),\n",
        "        'lambda_l2': trial.suggest_float('lambda_l2', 1e-8, 10.0, log=True),\n",
        "        'bagging_fraction': trial.suggest_float('bagging_fraction', 0.4, 1.0),\n",
        "        'feature_fraction': trial.suggest_float('feature_fraction', 0.4, 1.0),\n",
        "        'min_data_in_leaf': trial.suggest_int('min_data_in_leaf', 5, 100),\n",
        "        #'learning_rate': trial.suggest_float('learning_rate', 0.01, 0.1, log=True),\n",
        "        #'max_depth': trial.suggest_int('max_depth', 5, 20),\n",
        "    }\n",
        "    hist = cv.setup(\n",
        "        train,\n",
        "        params={**fixed_params, **params},\n",
        "        n_windows=5,\n",
        "        h=7,\n",
        "        metric='rmse'\n",
        "    )\n",
        "    hist = []\n",
        "    early_stopping_evals = 2\n",
        "    early_stopping_pct = 0.01\n",
        "    eval_every = 20\n",
        "    for i in range(0, fixed_params['n_estimators'], eval_every):\n",
        "        val = cv.partial_fit(eval_every)\n",
        "        trial.report(val, step=i)\n",
        "        rounds = eval_every + i\n",
        "        hist.append((rounds, val))\n",
        "        if trial.should_prune():\n",
        "            raise optuna.TrialPruned()\n",
        "        #if cv.should_stop(hist, early_stopping_evals, early_stopping_pct):\n",
        "            #print(f\"Early stopping at round {rounds:,}\")\n",
        "            #best_iter = cv._best_iter(hist, early_stopping_evals)\n",
        "            #trial.set_user_attr('n_estimators', best_iter)\n",
        "            break\n",
        "    return val"
      ],
      "metadata": {
        "id": "QRo0Sl9njv3E"
      },
      "execution_count": 39,
      "outputs": []
    },
    {
      "cell_type": "code",
      "source": [
        "init = time()\n",
        "\n",
        "study = optuna.create_study(direction='minimize')\n",
        "study.optimize(objective, n_trials=30, n_jobs=1)\n",
        "\n",
        "end = time()\n",
        "time_run = (end - init)\n",
        "\n",
        "print(f'Time: {time_run:.2f} seconds')"
      ],
      "metadata": {
        "colab": {
          "base_uri": "https://localhost:8080/"
        },
        "id": "Vd6uWPKZWaGs",
        "outputId": "22e3382a-6431-440f-aeaf-273977ebc48b"
      },
      "execution_count": 40,
      "outputs": [
        {
          "output_type": "stream",
          "name": "stderr",
          "text": [
            "[I 2023-12-23 18:16:06,641] A new study created in memory with name: no-name-25be4c92-ae29-4bc9-b201-b6b6bba0aa2d\n",
            "[I 2023-12-23 18:16:49,097] Trial 0 finished with value: 80313362.56217991 and parameters: {'num_leaves': 1439, 'lambda_l1': 0.019278434682866448, 'lambda_l2': 0.0018697723474761, 'bagging_fraction': 0.7163577515278541, 'feature_fraction': 0.7490702918310586, 'min_data_in_leaf': 75}. Best is trial 0 with value: 80313362.56217991.\n",
            "[I 2023-12-23 18:17:42,258] Trial 1 finished with value: 82706514.56218801 and parameters: {'num_leaves': 1265, 'lambda_l1': 7.192128540811753, 'lambda_l2': 4.588164942004746e-05, 'bagging_fraction': 0.8545212440556665, 'feature_fraction': 0.942963580124861, 'min_data_in_leaf': 97}. Best is trial 0 with value: 80313362.56217991.\n",
            "[I 2023-12-23 18:19:43,693] Trial 2 finished with value: 80454715.72998178 and parameters: {'num_leaves': 2116, 'lambda_l1': 1.402671077126005e-05, 'lambda_l2': 0.41577019681393745, 'bagging_fraction': 0.8652197681488225, 'feature_fraction': 0.9475268944322849, 'min_data_in_leaf': 30}. Best is trial 0 with value: 80313362.56217991.\n",
            "[I 2023-12-23 18:20:07,796] Trial 3 finished with value: 78247597.28986743 and parameters: {'num_leaves': 268, 'lambda_l1': 5.91898916675316e-06, 'lambda_l2': 3.63461736652139e-08, 'bagging_fraction': 0.5296948190278132, 'feature_fraction': 0.7464478568892341, 'min_data_in_leaf': 99}. Best is trial 3 with value: 78247597.28986743.\n",
            "[I 2023-12-23 18:20:53,904] Trial 4 finished with value: 83488654.96000367 and parameters: {'num_leaves': 1785, 'lambda_l1': 1.2176606593204724e-08, 'lambda_l2': 6.25276225187146e-05, 'bagging_fraction': 0.8980372193895749, 'feature_fraction': 0.7759061195202521, 'min_data_in_leaf': 88}. Best is trial 3 with value: 78247597.28986743.\n",
            "[I 2023-12-23 18:20:57,835] Trial 5 pruned. \n",
            "[I 2023-12-23 18:23:11,042] Trial 6 finished with value: 70140764.70892096 and parameters: {'num_leaves': 2089, 'lambda_l1': 0.0881168631523731, 'lambda_l2': 0.0017629174978789357, 'bagging_fraction': 0.7490233860912122, 'feature_fraction': 0.6931598053620143, 'min_data_in_leaf': 15}. Best is trial 6 with value: 70140764.70892096.\n",
            "[I 2023-12-23 18:23:17,712] Trial 7 pruned. \n",
            "[I 2023-12-23 18:25:31,944] Trial 8 finished with value: 79399768.58151218 and parameters: {'num_leaves': 432, 'lambda_l1': 1.4307546018943976e-05, 'lambda_l2': 0.638157926901561, 'bagging_fraction': 0.9624552497583828, 'feature_fraction': 0.9642445644501639, 'min_data_in_leaf': 25}. Best is trial 6 with value: 70140764.70892096.\n",
            "[I 2023-12-23 18:25:33,710] Trial 9 pruned. \n",
            "[I 2023-12-23 18:25:39,016] Trial 10 pruned. \n",
            "[I 2023-12-23 18:26:08,071] Trial 11 finished with value: 79925770.44181032 and parameters: {'num_leaves': 520, 'lambda_l1': 0.0010134377640697253, 'lambda_l2': 1.3772614935461024e-08, 'bagging_fraction': 0.41452867557838896, 'feature_fraction': 0.7967159963062568, 'min_data_in_leaf': 62}. Best is trial 6 with value: 70140764.70892096.\n",
            "[I 2023-12-23 18:26:08,744] Trial 12 pruned. \n",
            "[I 2023-12-23 18:26:10,776] Trial 13 pruned. \n",
            "[I 2023-12-23 18:26:12,905] Trial 14 pruned. \n",
            "[I 2023-12-23 18:26:44,782] Trial 15 finished with value: 84277264.00433168 and parameters: {'num_leaves': 1885, 'lambda_l1': 0.018892384451899783, 'lambda_l2': 5.067381273777158, 'bagging_fraction': 0.6659463999200744, 'feature_fraction': 0.8361864803282889, 'min_data_in_leaf': 100}. Best is trial 6 with value: 70140764.70892096.\n",
            "[I 2023-12-23 18:26:45,309] Trial 16 pruned. \n",
            "[I 2023-12-23 18:27:11,939] Trial 17 finished with value: 87848151.36487645 and parameters: {'num_leaves': 965, 'lambda_l1': 2.3928872957010405e-05, 'lambda_l2': 1.187079924392479e-08, 'bagging_fraction': 0.5118115490578029, 'feature_fraction': 0.7382099028236617, 'min_data_in_leaf': 83}. Best is trial 6 with value: 70140764.70892096.\n",
            "[I 2023-12-23 18:27:13,338] Trial 18 pruned. \n",
            "[I 2023-12-23 18:27:17,577] Trial 19 pruned. \n",
            "[I 2023-12-23 18:28:16,624] Trial 20 finished with value: 91621725.8507677 and parameters: {'num_leaves': 245, 'lambda_l1': 0.000174754169738027, 'lambda_l2': 0.00040584743230947975, 'bagging_fraction': 0.7529362430858172, 'feature_fraction': 0.6302066026205523, 'min_data_in_leaf': 33}. Best is trial 6 with value: 70140764.70892096.\n",
            "[I 2023-12-23 18:28:20,394] Trial 21 pruned. \n",
            "[I 2023-12-23 18:28:23,725] Trial 22 pruned. \n",
            "[I 2023-12-23 18:30:24,024] Trial 23 finished with value: 76399862.09058675 and parameters: {'num_leaves': 1061, 'lambda_l1': 0.00015355351597731294, 'lambda_l2': 5.745514547546445, 'bagging_fraction': 0.8314527408561924, 'feature_fraction': 0.8031609749541938, 'min_data_in_leaf': 19}. Best is trial 6 with value: 70140764.70892096.\n",
            "[I 2023-12-23 18:30:28,291] Trial 24 pruned. \n",
            "[I 2023-12-23 18:30:30,720] Trial 25 pruned. \n",
            "[I 2023-12-23 18:30:35,882] Trial 26 pruned. \n",
            "[I 2023-12-23 18:30:40,292] Trial 27 pruned. \n",
            "[I 2023-12-23 18:30:42,724] Trial 28 pruned. \n",
            "[I 2023-12-23 18:30:45,850] Trial 29 pruned. \n"
          ]
        },
        {
          "output_type": "stream",
          "name": "stdout",
          "text": [
            "Time: 879.22 seconds\n"
          ]
        }
      ]
    },
    {
      "cell_type": "code",
      "source": [
        "study.best_params"
      ],
      "metadata": {
        "colab": {
          "base_uri": "https://localhost:8080/"
        },
        "id": "GMwiBTPWlosh",
        "outputId": "02c8e7cf-05da-4e32-81c5-193a17d1a7ed"
      },
      "execution_count": 41,
      "outputs": [
        {
          "output_type": "execute_result",
          "data": {
            "text/plain": [
              "{'num_leaves': 2089,\n",
              " 'lambda_l1': 0.0881168631523731,\n",
              " 'lambda_l2': 0.0017629174978789357,\n",
              " 'bagging_fraction': 0.7490233860912122,\n",
              " 'feature_fraction': 0.6931598053620143,\n",
              " 'min_data_in_leaf': 15}"
            ]
          },
          "metadata": {},
          "execution_count": 41
        }
      ]
    },
    {
      "cell_type": "code",
      "source": [
        "study.best_value"
      ],
      "metadata": {
        "colab": {
          "base_uri": "https://localhost:8080/"
        },
        "id": "ou_WiEwUlqIf",
        "outputId": "6ec7ee03-44b1-4b97-e9a6-573b181733a4"
      },
      "execution_count": null,
      "outputs": [
        {
          "output_type": "execute_result",
          "data": {
            "text/plain": [
              "331510784.6281371"
            ]
          },
          "metadata": {},
          "execution_count": 48
        }
      ]
    },
    {
      "cell_type": "code",
      "source": [
        "study.trials_dataframe().head()"
      ],
      "metadata": {
        "colab": {
          "base_uri": "https://localhost:8080/",
          "height": 293
        },
        "id": "BHnn49N4lrO-",
        "outputId": "25ca237a-c311-411d-9082-2fc6e641ba61"
      },
      "execution_count": 42,
      "outputs": [
        {
          "output_type": "execute_result",
          "data": {
            "text/plain": [
              "   number         value             datetime_start          datetime_complete  \\\n",
              "0       0  8.031336e+07 2023-12-23 18:16:06.642588 2023-12-23 18:16:49.097177   \n",
              "1       1  8.270651e+07 2023-12-23 18:16:49.098344 2023-12-23 18:17:42.258225   \n",
              "2       2  8.045472e+07 2023-12-23 18:17:42.259226 2023-12-23 18:19:43.692861   \n",
              "3       3  7.824760e+07 2023-12-23 18:19:43.693860 2023-12-23 18:20:07.796997   \n",
              "4       4  8.348865e+07 2023-12-23 18:20:07.797999 2023-12-23 18:20:53.904453   \n",
              "\n",
              "                duration  params_bagging_fraction  params_feature_fraction  \\\n",
              "0 0 days 00:00:42.454589                 0.716358                 0.749070   \n",
              "1 0 days 00:00:53.159881                 0.854521                 0.942964   \n",
              "2 0 days 00:02:01.433635                 0.865220                 0.947527   \n",
              "3 0 days 00:00:24.103137                 0.529695                 0.746448   \n",
              "4 0 days 00:00:46.106454                 0.898037                 0.775906   \n",
              "\n",
              "   params_lambda_l1  params_lambda_l2  params_min_data_in_leaf  \\\n",
              "0      1.927843e-02      1.869772e-03                       75   \n",
              "1      7.192129e+00      4.588165e-05                       97   \n",
              "2      1.402671e-05      4.157702e-01                       30   \n",
              "3      5.918989e-06      3.634617e-08                       99   \n",
              "4      1.217661e-08      6.252762e-05                       88   \n",
              "\n",
              "   params_num_leaves     state  \n",
              "0               1439  COMPLETE  \n",
              "1               1265  COMPLETE  \n",
              "2               2116  COMPLETE  \n",
              "3                268  COMPLETE  \n",
              "4               1785  COMPLETE  "
            ],
            "text/html": [
              "<div>\n",
              "<style scoped>\n",
              "    .dataframe tbody tr th:only-of-type {\n",
              "        vertical-align: middle;\n",
              "    }\n",
              "\n",
              "    .dataframe tbody tr th {\n",
              "        vertical-align: top;\n",
              "    }\n",
              "\n",
              "    .dataframe thead th {\n",
              "        text-align: right;\n",
              "    }\n",
              "</style>\n",
              "<table border=\"1\" class=\"dataframe\">\n",
              "  <thead>\n",
              "    <tr style=\"text-align: right;\">\n",
              "      <th></th>\n",
              "      <th>number</th>\n",
              "      <th>value</th>\n",
              "      <th>datetime_start</th>\n",
              "      <th>datetime_complete</th>\n",
              "      <th>duration</th>\n",
              "      <th>params_bagging_fraction</th>\n",
              "      <th>params_feature_fraction</th>\n",
              "      <th>params_lambda_l1</th>\n",
              "      <th>params_lambda_l2</th>\n",
              "      <th>params_min_data_in_leaf</th>\n",
              "      <th>params_num_leaves</th>\n",
              "      <th>state</th>\n",
              "    </tr>\n",
              "  </thead>\n",
              "  <tbody>\n",
              "    <tr>\n",
              "      <th>0</th>\n",
              "      <td>0</td>\n",
              "      <td>8.031336e+07</td>\n",
              "      <td>2023-12-23 18:16:06.642588</td>\n",
              "      <td>2023-12-23 18:16:49.097177</td>\n",
              "      <td>0 days 00:00:42.454589</td>\n",
              "      <td>0.716358</td>\n",
              "      <td>0.749070</td>\n",
              "      <td>1.927843e-02</td>\n",
              "      <td>1.869772e-03</td>\n",
              "      <td>75</td>\n",
              "      <td>1439</td>\n",
              "      <td>COMPLETE</td>\n",
              "    </tr>\n",
              "    <tr>\n",
              "      <th>1</th>\n",
              "      <td>1</td>\n",
              "      <td>8.270651e+07</td>\n",
              "      <td>2023-12-23 18:16:49.098344</td>\n",
              "      <td>2023-12-23 18:17:42.258225</td>\n",
              "      <td>0 days 00:00:53.159881</td>\n",
              "      <td>0.854521</td>\n",
              "      <td>0.942964</td>\n",
              "      <td>7.192129e+00</td>\n",
              "      <td>4.588165e-05</td>\n",
              "      <td>97</td>\n",
              "      <td>1265</td>\n",
              "      <td>COMPLETE</td>\n",
              "    </tr>\n",
              "    <tr>\n",
              "      <th>2</th>\n",
              "      <td>2</td>\n",
              "      <td>8.045472e+07</td>\n",
              "      <td>2023-12-23 18:17:42.259226</td>\n",
              "      <td>2023-12-23 18:19:43.692861</td>\n",
              "      <td>0 days 00:02:01.433635</td>\n",
              "      <td>0.865220</td>\n",
              "      <td>0.947527</td>\n",
              "      <td>1.402671e-05</td>\n",
              "      <td>4.157702e-01</td>\n",
              "      <td>30</td>\n",
              "      <td>2116</td>\n",
              "      <td>COMPLETE</td>\n",
              "    </tr>\n",
              "    <tr>\n",
              "      <th>3</th>\n",
              "      <td>3</td>\n",
              "      <td>7.824760e+07</td>\n",
              "      <td>2023-12-23 18:19:43.693860</td>\n",
              "      <td>2023-12-23 18:20:07.796997</td>\n",
              "      <td>0 days 00:00:24.103137</td>\n",
              "      <td>0.529695</td>\n",
              "      <td>0.746448</td>\n",
              "      <td>5.918989e-06</td>\n",
              "      <td>3.634617e-08</td>\n",
              "      <td>99</td>\n",
              "      <td>268</td>\n",
              "      <td>COMPLETE</td>\n",
              "    </tr>\n",
              "    <tr>\n",
              "      <th>4</th>\n",
              "      <td>4</td>\n",
              "      <td>8.348865e+07</td>\n",
              "      <td>2023-12-23 18:20:07.797999</td>\n",
              "      <td>2023-12-23 18:20:53.904453</td>\n",
              "      <td>0 days 00:00:46.106454</td>\n",
              "      <td>0.898037</td>\n",
              "      <td>0.775906</td>\n",
              "      <td>1.217661e-08</td>\n",
              "      <td>6.252762e-05</td>\n",
              "      <td>88</td>\n",
              "      <td>1785</td>\n",
              "      <td>COMPLETE</td>\n",
              "    </tr>\n",
              "  </tbody>\n",
              "</table>\n",
              "</div>"
            ]
          },
          "metadata": {},
          "execution_count": 42
        }
      ]
    },
    {
      "cell_type": "markdown",
      "source": [
        "## c. Analyzing Tuned Parameted"
      ],
      "metadata": {
        "id": "YJnHGVHYz1a1"
      }
    },
    {
      "cell_type": "code",
      "source": [
        "fig = optuna.visualization.plot_optimization_history(study)\n",
        "fig.show(renderer=\"colab\")"
      ],
      "metadata": {
        "colab": {
          "base_uri": "https://localhost:8080/",
          "height": 542
        },
        "id": "HYMh-hDXz0-4",
        "outputId": "9356cabf-4a90-44a6-a87e-c6568b48f2c2"
      },
      "execution_count": 43,
      "outputs": [
        {
          "output_type": "display_data",
          "data": {
            "text/html": [
              "<html>\n",
              "<head><meta charset=\"utf-8\" /></head>\n",
              "<body>\n",
              "    <div>            <script src=\"https://cdnjs.cloudflare.com/ajax/libs/mathjax/2.7.5/MathJax.js?config=TeX-AMS-MML_SVG\"></script><script type=\"text/javascript\">if (window.MathJax && window.MathJax.Hub && window.MathJax.Hub.Config) {window.MathJax.Hub.Config({SVG: {font: \"STIX-Web\"}});}</script>                <script type=\"text/javascript\">window.PlotlyConfig = {MathJaxConfig: 'local'};</script>\n",
              "        <script src=\"https://cdn.plot.ly/plotly-2.12.1.min.js\"></script>                <div id=\"81c084e4-864d-439a-a571-e8c7c82627b6\" class=\"plotly-graph-div\" style=\"height:525px; width:100%;\"></div>            <script type=\"text/javascript\">                                    window.PLOTLYENV=window.PLOTLYENV || {};                                    if (document.getElementById(\"81c084e4-864d-439a-a571-e8c7c82627b6\")) {                    Plotly.newPlot(                        \"81c084e4-864d-439a-a571-e8c7c82627b6\",                        [{\"mode\":\"markers\",\"name\":\"Objective Value\",\"x\":[0,1,2,3,4,6,8,11,15,17,20,23],\"y\":[80313362.56217991,82706514.56218801,80454715.72998178,78247597.28986743,83488654.96000367,70140764.70892096,79399768.58151218,79925770.44181032,84277264.00433168,87848151.36487645,91621725.8507677,76399862.09058675],\"type\":\"scatter\"},{\"mode\":\"lines\",\"name\":\"Best Value\",\"x\":[0,1,2,3,4,5,6,7,8,9,10,11,12,13,14,15,16,17,18,19,20,21,22,23,24,25,26,27,28,29],\"y\":[80313362.56217991,80313362.56217991,80313362.56217991,78247597.28986743,78247597.28986743,78247597.28986743,70140764.70892096,70140764.70892096,70140764.70892096,70140764.70892096,70140764.70892096,70140764.70892096,70140764.70892096,70140764.70892096,70140764.70892096,70140764.70892096,70140764.70892096,70140764.70892096,70140764.70892096,70140764.70892096,70140764.70892096,70140764.70892096,70140764.70892096,70140764.70892096,70140764.70892096,70140764.70892096,70140764.70892096,70140764.70892096,70140764.70892096,70140764.70892096],\"type\":\"scatter\"},{\"marker\":{\"color\":\"#cccccc\"},\"mode\":\"markers\",\"name\":\"Infeasible Trial\",\"showlegend\":false,\"x\":[],\"y\":[],\"type\":\"scatter\"}],                        {\"title\":{\"text\":\"Optimization History Plot\"},\"xaxis\":{\"title\":{\"text\":\"Trial\"}},\"yaxis\":{\"title\":{\"text\":\"Objective Value\"}},\"template\":{\"data\":{\"histogram2dcontour\":[{\"type\":\"histogram2dcontour\",\"colorbar\":{\"outlinewidth\":0,\"ticks\":\"\"},\"colorscale\":[[0.0,\"#0d0887\"],[0.1111111111111111,\"#46039f\"],[0.2222222222222222,\"#7201a8\"],[0.3333333333333333,\"#9c179e\"],[0.4444444444444444,\"#bd3786\"],[0.5555555555555556,\"#d8576b\"],[0.6666666666666666,\"#ed7953\"],[0.7777777777777778,\"#fb9f3a\"],[0.8888888888888888,\"#fdca26\"],[1.0,\"#f0f921\"]]}],\"choropleth\":[{\"type\":\"choropleth\",\"colorbar\":{\"outlinewidth\":0,\"ticks\":\"\"}}],\"histogram2d\":[{\"type\":\"histogram2d\",\"colorbar\":{\"outlinewidth\":0,\"ticks\":\"\"},\"colorscale\":[[0.0,\"#0d0887\"],[0.1111111111111111,\"#46039f\"],[0.2222222222222222,\"#7201a8\"],[0.3333333333333333,\"#9c179e\"],[0.4444444444444444,\"#bd3786\"],[0.5555555555555556,\"#d8576b\"],[0.6666666666666666,\"#ed7953\"],[0.7777777777777778,\"#fb9f3a\"],[0.8888888888888888,\"#fdca26\"],[1.0,\"#f0f921\"]]}],\"heatmap\":[{\"type\":\"heatmap\",\"colorbar\":{\"outlinewidth\":0,\"ticks\":\"\"},\"colorscale\":[[0.0,\"#0d0887\"],[0.1111111111111111,\"#46039f\"],[0.2222222222222222,\"#7201a8\"],[0.3333333333333333,\"#9c179e\"],[0.4444444444444444,\"#bd3786\"],[0.5555555555555556,\"#d8576b\"],[0.6666666666666666,\"#ed7953\"],[0.7777777777777778,\"#fb9f3a\"],[0.8888888888888888,\"#fdca26\"],[1.0,\"#f0f921\"]]}],\"heatmapgl\":[{\"type\":\"heatmapgl\",\"colorbar\":{\"outlinewidth\":0,\"ticks\":\"\"},\"colorscale\":[[0.0,\"#0d0887\"],[0.1111111111111111,\"#46039f\"],[0.2222222222222222,\"#7201a8\"],[0.3333333333333333,\"#9c179e\"],[0.4444444444444444,\"#bd3786\"],[0.5555555555555556,\"#d8576b\"],[0.6666666666666666,\"#ed7953\"],[0.7777777777777778,\"#fb9f3a\"],[0.8888888888888888,\"#fdca26\"],[1.0,\"#f0f921\"]]}],\"contourcarpet\":[{\"type\":\"contourcarpet\",\"colorbar\":{\"outlinewidth\":0,\"ticks\":\"\"}}],\"contour\":[{\"type\":\"contour\",\"colorbar\":{\"outlinewidth\":0,\"ticks\":\"\"},\"colorscale\":[[0.0,\"#0d0887\"],[0.1111111111111111,\"#46039f\"],[0.2222222222222222,\"#7201a8\"],[0.3333333333333333,\"#9c179e\"],[0.4444444444444444,\"#bd3786\"],[0.5555555555555556,\"#d8576b\"],[0.6666666666666666,\"#ed7953\"],[0.7777777777777778,\"#fb9f3a\"],[0.8888888888888888,\"#fdca26\"],[1.0,\"#f0f921\"]]}],\"surface\":[{\"type\":\"surface\",\"colorbar\":{\"outlinewidth\":0,\"ticks\":\"\"},\"colorscale\":[[0.0,\"#0d0887\"],[0.1111111111111111,\"#46039f\"],[0.2222222222222222,\"#7201a8\"],[0.3333333333333333,\"#9c179e\"],[0.4444444444444444,\"#bd3786\"],[0.5555555555555556,\"#d8576b\"],[0.6666666666666666,\"#ed7953\"],[0.7777777777777778,\"#fb9f3a\"],[0.8888888888888888,\"#fdca26\"],[1.0,\"#f0f921\"]]}],\"mesh3d\":[{\"type\":\"mesh3d\",\"colorbar\":{\"outlinewidth\":0,\"ticks\":\"\"}}],\"scatter\":[{\"fillpattern\":{\"fillmode\":\"overlay\",\"size\":10,\"solidity\":0.2},\"type\":\"scatter\"}],\"parcoords\":[{\"type\":\"parcoords\",\"line\":{\"colorbar\":{\"outlinewidth\":0,\"ticks\":\"\"}}}],\"scatterpolargl\":[{\"type\":\"scatterpolargl\",\"marker\":{\"colorbar\":{\"outlinewidth\":0,\"ticks\":\"\"}}}],\"bar\":[{\"error_x\":{\"color\":\"#2a3f5f\"},\"error_y\":{\"color\":\"#2a3f5f\"},\"marker\":{\"line\":{\"color\":\"#E5ECF6\",\"width\":0.5},\"pattern\":{\"fillmode\":\"overlay\",\"size\":10,\"solidity\":0.2}},\"type\":\"bar\"}],\"scattergeo\":[{\"type\":\"scattergeo\",\"marker\":{\"colorbar\":{\"outlinewidth\":0,\"ticks\":\"\"}}}],\"scatterpolar\":[{\"type\":\"scatterpolar\",\"marker\":{\"colorbar\":{\"outlinewidth\":0,\"ticks\":\"\"}}}],\"histogram\":[{\"marker\":{\"pattern\":{\"fillmode\":\"overlay\",\"size\":10,\"solidity\":0.2}},\"type\":\"histogram\"}],\"scattergl\":[{\"type\":\"scattergl\",\"marker\":{\"colorbar\":{\"outlinewidth\":0,\"ticks\":\"\"}}}],\"scatter3d\":[{\"type\":\"scatter3d\",\"line\":{\"colorbar\":{\"outlinewidth\":0,\"ticks\":\"\"}},\"marker\":{\"colorbar\":{\"outlinewidth\":0,\"ticks\":\"\"}}}],\"scattermapbox\":[{\"type\":\"scattermapbox\",\"marker\":{\"colorbar\":{\"outlinewidth\":0,\"ticks\":\"\"}}}],\"scatterternary\":[{\"type\":\"scatterternary\",\"marker\":{\"colorbar\":{\"outlinewidth\":0,\"ticks\":\"\"}}}],\"scattercarpet\":[{\"type\":\"scattercarpet\",\"marker\":{\"colorbar\":{\"outlinewidth\":0,\"ticks\":\"\"}}}],\"carpet\":[{\"aaxis\":{\"endlinecolor\":\"#2a3f5f\",\"gridcolor\":\"white\",\"linecolor\":\"white\",\"minorgridcolor\":\"white\",\"startlinecolor\":\"#2a3f5f\"},\"baxis\":{\"endlinecolor\":\"#2a3f5f\",\"gridcolor\":\"white\",\"linecolor\":\"white\",\"minorgridcolor\":\"white\",\"startlinecolor\":\"#2a3f5f\"},\"type\":\"carpet\"}],\"table\":[{\"cells\":{\"fill\":{\"color\":\"#EBF0F8\"},\"line\":{\"color\":\"white\"}},\"header\":{\"fill\":{\"color\":\"#C8D4E3\"},\"line\":{\"color\":\"white\"}},\"type\":\"table\"}],\"barpolar\":[{\"marker\":{\"line\":{\"color\":\"#E5ECF6\",\"width\":0.5},\"pattern\":{\"fillmode\":\"overlay\",\"size\":10,\"solidity\":0.2}},\"type\":\"barpolar\"}],\"pie\":[{\"automargin\":true,\"type\":\"pie\"}]},\"layout\":{\"autotypenumbers\":\"strict\",\"colorway\":[\"#636efa\",\"#EF553B\",\"#00cc96\",\"#ab63fa\",\"#FFA15A\",\"#19d3f3\",\"#FF6692\",\"#B6E880\",\"#FF97FF\",\"#FECB52\"],\"font\":{\"color\":\"#2a3f5f\"},\"hovermode\":\"closest\",\"hoverlabel\":{\"align\":\"left\"},\"paper_bgcolor\":\"white\",\"plot_bgcolor\":\"#E5ECF6\",\"polar\":{\"bgcolor\":\"#E5ECF6\",\"angularaxis\":{\"gridcolor\":\"white\",\"linecolor\":\"white\",\"ticks\":\"\"},\"radialaxis\":{\"gridcolor\":\"white\",\"linecolor\":\"white\",\"ticks\":\"\"}},\"ternary\":{\"bgcolor\":\"#E5ECF6\",\"aaxis\":{\"gridcolor\":\"white\",\"linecolor\":\"white\",\"ticks\":\"\"},\"baxis\":{\"gridcolor\":\"white\",\"linecolor\":\"white\",\"ticks\":\"\"},\"caxis\":{\"gridcolor\":\"white\",\"linecolor\":\"white\",\"ticks\":\"\"}},\"coloraxis\":{\"colorbar\":{\"outlinewidth\":0,\"ticks\":\"\"}},\"colorscale\":{\"sequential\":[[0.0,\"#0d0887\"],[0.1111111111111111,\"#46039f\"],[0.2222222222222222,\"#7201a8\"],[0.3333333333333333,\"#9c179e\"],[0.4444444444444444,\"#bd3786\"],[0.5555555555555556,\"#d8576b\"],[0.6666666666666666,\"#ed7953\"],[0.7777777777777778,\"#fb9f3a\"],[0.8888888888888888,\"#fdca26\"],[1.0,\"#f0f921\"]],\"sequentialminus\":[[0.0,\"#0d0887\"],[0.1111111111111111,\"#46039f\"],[0.2222222222222222,\"#7201a8\"],[0.3333333333333333,\"#9c179e\"],[0.4444444444444444,\"#bd3786\"],[0.5555555555555556,\"#d8576b\"],[0.6666666666666666,\"#ed7953\"],[0.7777777777777778,\"#fb9f3a\"],[0.8888888888888888,\"#fdca26\"],[1.0,\"#f0f921\"]],\"diverging\":[[0,\"#8e0152\"],[0.1,\"#c51b7d\"],[0.2,\"#de77ae\"],[0.3,\"#f1b6da\"],[0.4,\"#fde0ef\"],[0.5,\"#f7f7f7\"],[0.6,\"#e6f5d0\"],[0.7,\"#b8e186\"],[0.8,\"#7fbc41\"],[0.9,\"#4d9221\"],[1,\"#276419\"]]},\"xaxis\":{\"gridcolor\":\"white\",\"linecolor\":\"white\",\"ticks\":\"\",\"title\":{\"standoff\":15},\"zerolinecolor\":\"white\",\"automargin\":true,\"zerolinewidth\":2},\"yaxis\":{\"gridcolor\":\"white\",\"linecolor\":\"white\",\"ticks\":\"\",\"title\":{\"standoff\":15},\"zerolinecolor\":\"white\",\"automargin\":true,\"zerolinewidth\":2},\"scene\":{\"xaxis\":{\"backgroundcolor\":\"#E5ECF6\",\"gridcolor\":\"white\",\"linecolor\":\"white\",\"showbackground\":true,\"ticks\":\"\",\"zerolinecolor\":\"white\",\"gridwidth\":2},\"yaxis\":{\"backgroundcolor\":\"#E5ECF6\",\"gridcolor\":\"white\",\"linecolor\":\"white\",\"showbackground\":true,\"ticks\":\"\",\"zerolinecolor\":\"white\",\"gridwidth\":2},\"zaxis\":{\"backgroundcolor\":\"#E5ECF6\",\"gridcolor\":\"white\",\"linecolor\":\"white\",\"showbackground\":true,\"ticks\":\"\",\"zerolinecolor\":\"white\",\"gridwidth\":2}},\"shapedefaults\":{\"line\":{\"color\":\"#2a3f5f\"}},\"annotationdefaults\":{\"arrowcolor\":\"#2a3f5f\",\"arrowhead\":0,\"arrowwidth\":1},\"geo\":{\"bgcolor\":\"white\",\"landcolor\":\"#E5ECF6\",\"subunitcolor\":\"white\",\"showland\":true,\"showlakes\":true,\"lakecolor\":\"white\"},\"title\":{\"x\":0.05},\"mapbox\":{\"style\":\"light\"}}}},                        {\"responsive\": true}                    ).then(function(){\n",
              "                            \n",
              "var gd = document.getElementById('81c084e4-864d-439a-a571-e8c7c82627b6');\n",
              "var x = new MutationObserver(function (mutations, observer) {{\n",
              "        var display = window.getComputedStyle(gd).display;\n",
              "        if (!display || display === 'none') {{\n",
              "            console.log([gd, 'removed!']);\n",
              "            Plotly.purge(gd);\n",
              "            observer.disconnect();\n",
              "        }}\n",
              "}});\n",
              "\n",
              "// Listen for the removal of the full notebook cells\n",
              "var notebookContainer = gd.closest('#notebook-container');\n",
              "if (notebookContainer) {{\n",
              "    x.observe(notebookContainer, {childList: true});\n",
              "}}\n",
              "\n",
              "// Listen for the clearing of the current output cell\n",
              "var outputEl = gd.closest('.output');\n",
              "if (outputEl) {{\n",
              "    x.observe(outputEl, {childList: true});\n",
              "}}\n",
              "\n",
              "                        })                };                            </script>        </div>\n",
              "</body>\n",
              "</html>"
            ]
          },
          "metadata": {}
        }
      ]
    },
    {
      "cell_type": "code",
      "source": [
        "fig = optuna.visualization.plot_param_importances(study)\n",
        "fig.show(renderer=\"colab\")"
      ],
      "metadata": {
        "colab": {
          "base_uri": "https://localhost:8080/",
          "height": 542
        },
        "id": "qDRztujK1Jxx",
        "outputId": "38518b13-5224-488d-c7e8-4a1990884921"
      },
      "execution_count": 44,
      "outputs": [
        {
          "output_type": "display_data",
          "data": {
            "text/html": [
              "<html>\n",
              "<head><meta charset=\"utf-8\" /></head>\n",
              "<body>\n",
              "    <div>            <script src=\"https://cdnjs.cloudflare.com/ajax/libs/mathjax/2.7.5/MathJax.js?config=TeX-AMS-MML_SVG\"></script><script type=\"text/javascript\">if (window.MathJax && window.MathJax.Hub && window.MathJax.Hub.Config) {window.MathJax.Hub.Config({SVG: {font: \"STIX-Web\"}});}</script>                <script type=\"text/javascript\">window.PlotlyConfig = {MathJaxConfig: 'local'};</script>\n",
              "        <script src=\"https://cdn.plot.ly/plotly-2.12.1.min.js\"></script>                <div id=\"ac432b52-822d-4ea2-8844-6125765a90ee\" class=\"plotly-graph-div\" style=\"height:525px; width:100%;\"></div>            <script type=\"text/javascript\">                                    window.PLOTLYENV=window.PLOTLYENV || {};                                    if (document.getElementById(\"ac432b52-822d-4ea2-8844-6125765a90ee\")) {                    Plotly.newPlot(                        \"ac432b52-822d-4ea2-8844-6125765a90ee\",                        [{\"cliponaxis\":false,\"hovertemplate\":[\"bagging_fraction (FloatDistribution): 0.018018531024920598<extra></extra>\",\"lambda_l2 (FloatDistribution): 0.02123230780007442<extra></extra>\",\"lambda_l1 (FloatDistribution): 0.03199662481454429<extra></extra>\",\"num_leaves (IntDistribution): 0.12175047992269603<extra></extra>\",\"min_data_in_leaf (IntDistribution): 0.2706302536757657<extra></extra>\",\"feature_fraction (FloatDistribution): 0.5363718027619989<extra></extra>\"],\"name\":\"Objective Value\",\"orientation\":\"h\",\"text\":[\"0.02\",\"0.02\",\"0.03\",\"0.12\",\"0.27\",\"0.54\"],\"textposition\":\"outside\",\"x\":[0.018018531024920598,0.02123230780007442,0.03199662481454429,0.12175047992269603,0.2706302536757657,0.5363718027619989],\"y\":[\"bagging_fraction\",\"lambda_l2\",\"lambda_l1\",\"num_leaves\",\"min_data_in_leaf\",\"feature_fraction\"],\"type\":\"bar\"}],                        {\"title\":{\"text\":\"Hyperparameter Importances\"},\"xaxis\":{\"title\":{\"text\":\"Hyperparameter Importance\"}},\"yaxis\":{\"title\":{\"text\":\"Hyperparameter\"}},\"template\":{\"data\":{\"histogram2dcontour\":[{\"type\":\"histogram2dcontour\",\"colorbar\":{\"outlinewidth\":0,\"ticks\":\"\"},\"colorscale\":[[0.0,\"#0d0887\"],[0.1111111111111111,\"#46039f\"],[0.2222222222222222,\"#7201a8\"],[0.3333333333333333,\"#9c179e\"],[0.4444444444444444,\"#bd3786\"],[0.5555555555555556,\"#d8576b\"],[0.6666666666666666,\"#ed7953\"],[0.7777777777777778,\"#fb9f3a\"],[0.8888888888888888,\"#fdca26\"],[1.0,\"#f0f921\"]]}],\"choropleth\":[{\"type\":\"choropleth\",\"colorbar\":{\"outlinewidth\":0,\"ticks\":\"\"}}],\"histogram2d\":[{\"type\":\"histogram2d\",\"colorbar\":{\"outlinewidth\":0,\"ticks\":\"\"},\"colorscale\":[[0.0,\"#0d0887\"],[0.1111111111111111,\"#46039f\"],[0.2222222222222222,\"#7201a8\"],[0.3333333333333333,\"#9c179e\"],[0.4444444444444444,\"#bd3786\"],[0.5555555555555556,\"#d8576b\"],[0.6666666666666666,\"#ed7953\"],[0.7777777777777778,\"#fb9f3a\"],[0.8888888888888888,\"#fdca26\"],[1.0,\"#f0f921\"]]}],\"heatmap\":[{\"type\":\"heatmap\",\"colorbar\":{\"outlinewidth\":0,\"ticks\":\"\"},\"colorscale\":[[0.0,\"#0d0887\"],[0.1111111111111111,\"#46039f\"],[0.2222222222222222,\"#7201a8\"],[0.3333333333333333,\"#9c179e\"],[0.4444444444444444,\"#bd3786\"],[0.5555555555555556,\"#d8576b\"],[0.6666666666666666,\"#ed7953\"],[0.7777777777777778,\"#fb9f3a\"],[0.8888888888888888,\"#fdca26\"],[1.0,\"#f0f921\"]]}],\"heatmapgl\":[{\"type\":\"heatmapgl\",\"colorbar\":{\"outlinewidth\":0,\"ticks\":\"\"},\"colorscale\":[[0.0,\"#0d0887\"],[0.1111111111111111,\"#46039f\"],[0.2222222222222222,\"#7201a8\"],[0.3333333333333333,\"#9c179e\"],[0.4444444444444444,\"#bd3786\"],[0.5555555555555556,\"#d8576b\"],[0.6666666666666666,\"#ed7953\"],[0.7777777777777778,\"#fb9f3a\"],[0.8888888888888888,\"#fdca26\"],[1.0,\"#f0f921\"]]}],\"contourcarpet\":[{\"type\":\"contourcarpet\",\"colorbar\":{\"outlinewidth\":0,\"ticks\":\"\"}}],\"contour\":[{\"type\":\"contour\",\"colorbar\":{\"outlinewidth\":0,\"ticks\":\"\"},\"colorscale\":[[0.0,\"#0d0887\"],[0.1111111111111111,\"#46039f\"],[0.2222222222222222,\"#7201a8\"],[0.3333333333333333,\"#9c179e\"],[0.4444444444444444,\"#bd3786\"],[0.5555555555555556,\"#d8576b\"],[0.6666666666666666,\"#ed7953\"],[0.7777777777777778,\"#fb9f3a\"],[0.8888888888888888,\"#fdca26\"],[1.0,\"#f0f921\"]]}],\"surface\":[{\"type\":\"surface\",\"colorbar\":{\"outlinewidth\":0,\"ticks\":\"\"},\"colorscale\":[[0.0,\"#0d0887\"],[0.1111111111111111,\"#46039f\"],[0.2222222222222222,\"#7201a8\"],[0.3333333333333333,\"#9c179e\"],[0.4444444444444444,\"#bd3786\"],[0.5555555555555556,\"#d8576b\"],[0.6666666666666666,\"#ed7953\"],[0.7777777777777778,\"#fb9f3a\"],[0.8888888888888888,\"#fdca26\"],[1.0,\"#f0f921\"]]}],\"mesh3d\":[{\"type\":\"mesh3d\",\"colorbar\":{\"outlinewidth\":0,\"ticks\":\"\"}}],\"scatter\":[{\"fillpattern\":{\"fillmode\":\"overlay\",\"size\":10,\"solidity\":0.2},\"type\":\"scatter\"}],\"parcoords\":[{\"type\":\"parcoords\",\"line\":{\"colorbar\":{\"outlinewidth\":0,\"ticks\":\"\"}}}],\"scatterpolargl\":[{\"type\":\"scatterpolargl\",\"marker\":{\"colorbar\":{\"outlinewidth\":0,\"ticks\":\"\"}}}],\"bar\":[{\"error_x\":{\"color\":\"#2a3f5f\"},\"error_y\":{\"color\":\"#2a3f5f\"},\"marker\":{\"line\":{\"color\":\"#E5ECF6\",\"width\":0.5},\"pattern\":{\"fillmode\":\"overlay\",\"size\":10,\"solidity\":0.2}},\"type\":\"bar\"}],\"scattergeo\":[{\"type\":\"scattergeo\",\"marker\":{\"colorbar\":{\"outlinewidth\":0,\"ticks\":\"\"}}}],\"scatterpolar\":[{\"type\":\"scatterpolar\",\"marker\":{\"colorbar\":{\"outlinewidth\":0,\"ticks\":\"\"}}}],\"histogram\":[{\"marker\":{\"pattern\":{\"fillmode\":\"overlay\",\"size\":10,\"solidity\":0.2}},\"type\":\"histogram\"}],\"scattergl\":[{\"type\":\"scattergl\",\"marker\":{\"colorbar\":{\"outlinewidth\":0,\"ticks\":\"\"}}}],\"scatter3d\":[{\"type\":\"scatter3d\",\"line\":{\"colorbar\":{\"outlinewidth\":0,\"ticks\":\"\"}},\"marker\":{\"colorbar\":{\"outlinewidth\":0,\"ticks\":\"\"}}}],\"scattermapbox\":[{\"type\":\"scattermapbox\",\"marker\":{\"colorbar\":{\"outlinewidth\":0,\"ticks\":\"\"}}}],\"scatterternary\":[{\"type\":\"scatterternary\",\"marker\":{\"colorbar\":{\"outlinewidth\":0,\"ticks\":\"\"}}}],\"scattercarpet\":[{\"type\":\"scattercarpet\",\"marker\":{\"colorbar\":{\"outlinewidth\":0,\"ticks\":\"\"}}}],\"carpet\":[{\"aaxis\":{\"endlinecolor\":\"#2a3f5f\",\"gridcolor\":\"white\",\"linecolor\":\"white\",\"minorgridcolor\":\"white\",\"startlinecolor\":\"#2a3f5f\"},\"baxis\":{\"endlinecolor\":\"#2a3f5f\",\"gridcolor\":\"white\",\"linecolor\":\"white\",\"minorgridcolor\":\"white\",\"startlinecolor\":\"#2a3f5f\"},\"type\":\"carpet\"}],\"table\":[{\"cells\":{\"fill\":{\"color\":\"#EBF0F8\"},\"line\":{\"color\":\"white\"}},\"header\":{\"fill\":{\"color\":\"#C8D4E3\"},\"line\":{\"color\":\"white\"}},\"type\":\"table\"}],\"barpolar\":[{\"marker\":{\"line\":{\"color\":\"#E5ECF6\",\"width\":0.5},\"pattern\":{\"fillmode\":\"overlay\",\"size\":10,\"solidity\":0.2}},\"type\":\"barpolar\"}],\"pie\":[{\"automargin\":true,\"type\":\"pie\"}]},\"layout\":{\"autotypenumbers\":\"strict\",\"colorway\":[\"#636efa\",\"#EF553B\",\"#00cc96\",\"#ab63fa\",\"#FFA15A\",\"#19d3f3\",\"#FF6692\",\"#B6E880\",\"#FF97FF\",\"#FECB52\"],\"font\":{\"color\":\"#2a3f5f\"},\"hovermode\":\"closest\",\"hoverlabel\":{\"align\":\"left\"},\"paper_bgcolor\":\"white\",\"plot_bgcolor\":\"#E5ECF6\",\"polar\":{\"bgcolor\":\"#E5ECF6\",\"angularaxis\":{\"gridcolor\":\"white\",\"linecolor\":\"white\",\"ticks\":\"\"},\"radialaxis\":{\"gridcolor\":\"white\",\"linecolor\":\"white\",\"ticks\":\"\"}},\"ternary\":{\"bgcolor\":\"#E5ECF6\",\"aaxis\":{\"gridcolor\":\"white\",\"linecolor\":\"white\",\"ticks\":\"\"},\"baxis\":{\"gridcolor\":\"white\",\"linecolor\":\"white\",\"ticks\":\"\"},\"caxis\":{\"gridcolor\":\"white\",\"linecolor\":\"white\",\"ticks\":\"\"}},\"coloraxis\":{\"colorbar\":{\"outlinewidth\":0,\"ticks\":\"\"}},\"colorscale\":{\"sequential\":[[0.0,\"#0d0887\"],[0.1111111111111111,\"#46039f\"],[0.2222222222222222,\"#7201a8\"],[0.3333333333333333,\"#9c179e\"],[0.4444444444444444,\"#bd3786\"],[0.5555555555555556,\"#d8576b\"],[0.6666666666666666,\"#ed7953\"],[0.7777777777777778,\"#fb9f3a\"],[0.8888888888888888,\"#fdca26\"],[1.0,\"#f0f921\"]],\"sequentialminus\":[[0.0,\"#0d0887\"],[0.1111111111111111,\"#46039f\"],[0.2222222222222222,\"#7201a8\"],[0.3333333333333333,\"#9c179e\"],[0.4444444444444444,\"#bd3786\"],[0.5555555555555556,\"#d8576b\"],[0.6666666666666666,\"#ed7953\"],[0.7777777777777778,\"#fb9f3a\"],[0.8888888888888888,\"#fdca26\"],[1.0,\"#f0f921\"]],\"diverging\":[[0,\"#8e0152\"],[0.1,\"#c51b7d\"],[0.2,\"#de77ae\"],[0.3,\"#f1b6da\"],[0.4,\"#fde0ef\"],[0.5,\"#f7f7f7\"],[0.6,\"#e6f5d0\"],[0.7,\"#b8e186\"],[0.8,\"#7fbc41\"],[0.9,\"#4d9221\"],[1,\"#276419\"]]},\"xaxis\":{\"gridcolor\":\"white\",\"linecolor\":\"white\",\"ticks\":\"\",\"title\":{\"standoff\":15},\"zerolinecolor\":\"white\",\"automargin\":true,\"zerolinewidth\":2},\"yaxis\":{\"gridcolor\":\"white\",\"linecolor\":\"white\",\"ticks\":\"\",\"title\":{\"standoff\":15},\"zerolinecolor\":\"white\",\"automargin\":true,\"zerolinewidth\":2},\"scene\":{\"xaxis\":{\"backgroundcolor\":\"#E5ECF6\",\"gridcolor\":\"white\",\"linecolor\":\"white\",\"showbackground\":true,\"ticks\":\"\",\"zerolinecolor\":\"white\",\"gridwidth\":2},\"yaxis\":{\"backgroundcolor\":\"#E5ECF6\",\"gridcolor\":\"white\",\"linecolor\":\"white\",\"showbackground\":true,\"ticks\":\"\",\"zerolinecolor\":\"white\",\"gridwidth\":2},\"zaxis\":{\"backgroundcolor\":\"#E5ECF6\",\"gridcolor\":\"white\",\"linecolor\":\"white\",\"showbackground\":true,\"ticks\":\"\",\"zerolinecolor\":\"white\",\"gridwidth\":2}},\"shapedefaults\":{\"line\":{\"color\":\"#2a3f5f\"}},\"annotationdefaults\":{\"arrowcolor\":\"#2a3f5f\",\"arrowhead\":0,\"arrowwidth\":1},\"geo\":{\"bgcolor\":\"white\",\"landcolor\":\"#E5ECF6\",\"subunitcolor\":\"white\",\"showland\":true,\"showlakes\":true,\"lakecolor\":\"white\"},\"title\":{\"x\":0.05},\"mapbox\":{\"style\":\"light\"}}}},                        {\"responsive\": true}                    ).then(function(){\n",
              "                            \n",
              "var gd = document.getElementById('ac432b52-822d-4ea2-8844-6125765a90ee');\n",
              "var x = new MutationObserver(function (mutations, observer) {{\n",
              "        var display = window.getComputedStyle(gd).display;\n",
              "        if (!display || display === 'none') {{\n",
              "            console.log([gd, 'removed!']);\n",
              "            Plotly.purge(gd);\n",
              "            observer.disconnect();\n",
              "        }}\n",
              "}});\n",
              "\n",
              "// Listen for the removal of the full notebook cells\n",
              "var notebookContainer = gd.closest('#notebook-container');\n",
              "if (notebookContainer) {{\n",
              "    x.observe(notebookContainer, {childList: true});\n",
              "}}\n",
              "\n",
              "// Listen for the clearing of the current output cell\n",
              "var outputEl = gd.closest('.output');\n",
              "if (outputEl) {{\n",
              "    x.observe(outputEl, {childList: true});\n",
              "}}\n",
              "\n",
              "                        })                };                            </script>        </div>\n",
              "</body>\n",
              "</html>"
            ]
          },
          "metadata": {}
        }
      ]
    },
    {
      "cell_type": "code",
      "source": [
        "fig = optuna.visualization.plot_rank(study)\n",
        "\n",
        "fig.update_layout(\n",
        "    #width=1600,\n",
        "    height=900,\n",
        ")\n",
        "\n",
        "fig.show(renderer=\"colab\")"
      ],
      "metadata": {
        "colab": {
          "base_uri": "https://localhost:8080/",
          "height": 986
        },
        "id": "yHbtK_heEdR9",
        "outputId": "d07c026e-c9a4-42b4-a011-b1d0d6282977"
      },
      "execution_count": 46,
      "outputs": [
        {
          "output_type": "stream",
          "name": "stderr",
          "text": [
            "C:\\Users\\alisu\\AppData\\Local\\Temp\\ipykernel_15924\\3674502780.py:1: ExperimentalWarning:\n",
            "\n",
            "plot_rank is experimental (supported from v3.2.0). The interface can change in the future.\n",
            "\n"
          ]
        },
        {
          "output_type": "display_data",
          "data": {
            "text/html": [
              "<html>\n",
              "<head><meta charset=\"utf-8\" /></head>\n",
              "<body>\n",
              "    <div>            <script src=\"https://cdnjs.cloudflare.com/ajax/libs/mathjax/2.7.5/MathJax.js?config=TeX-AMS-MML_SVG\"></script><script type=\"text/javascript\">if (window.MathJax && window.MathJax.Hub && window.MathJax.Hub.Config) {window.MathJax.Hub.Config({SVG: {font: \"STIX-Web\"}});}</script>                <script type=\"text/javascript\">window.PlotlyConfig = {MathJaxConfig: 'local'};</script>\n",
              "        <script src=\"https://cdn.plot.ly/plotly-2.12.1.min.js\"></script>                <div id=\"016d376a-0c6f-4e5e-8c9c-9a523936d25c\" class=\"plotly-graph-div\" style=\"height:900px; width:100%;\"></div>            <script type=\"text/javascript\">                                    window.PLOTLYENV=window.PLOTLYENV || {};                                    if (document.getElementById(\"016d376a-0c6f-4e5e-8c9c-9a523936d25c\")) {                    Plotly.newPlot(                        \"016d376a-0c6f-4e5e-8c9c-9a523936d25c\",                        [{\"hovertemplate\":\"%{hovertext}<extra></extra>\",\"hovertext\":[\"Trial #0<br>num_leaves: 1439<br>lambda_l1: 0.019278434682866448<br>lambda_l2: 0.0018697723474761<br>bagging_fraction: 0.7163577515278541<br>feature_fraction: 0.7490702918310586<br>min_data_in_leaf: 75<br><b>Objective Value: 80313362.56217991</b>\",\"Trial #1<br>num_leaves: 1265<br>lambda_l1: 7.192128540811753<br>lambda_l2: 4.588164942004746e-05<br>bagging_fraction: 0.8545212440556665<br>feature_fraction: 0.942963580124861<br>min_data_in_leaf: 97<br><b>Objective Value: 82706514.56218801</b>\",\"Trial #2<br>num_leaves: 2116<br>lambda_l1: 1.402671077126005e-05<br>lambda_l2: 0.41577019681393745<br>bagging_fraction: 0.8652197681488225<br>feature_fraction: 0.9475268944322849<br>min_data_in_leaf: 30<br><b>Objective Value: 80454715.72998178</b>\",\"Trial #3<br>num_leaves: 268<br>lambda_l1: 5.91898916675316e-06<br>lambda_l2: 3.63461736652139e-08<br>bagging_fraction: 0.5296948190278132<br>feature_fraction: 0.7464478568892341<br>min_data_in_leaf: 99<br><b>Objective Value: 78247597.28986743</b>\",\"Trial #4<br>num_leaves: 1785<br>lambda_l1: 1.2176606593204724e-08<br>lambda_l2: 6.25276225187146e-05<br>bagging_fraction: 0.8980372193895749<br>feature_fraction: 0.7759061195202521<br>min_data_in_leaf: 88<br><b>Objective Value: 83488654.96000367</b>\",\"Trial #6<br>num_leaves: 2089<br>lambda_l1: 0.0881168631523731<br>lambda_l2: 0.0017629174978789357<br>bagging_fraction: 0.7490233860912122<br>feature_fraction: 0.6931598053620143<br>min_data_in_leaf: 15<br><b>Objective Value: 70140764.70892096</b>\",\"Trial #8<br>num_leaves: 432<br>lambda_l1: 1.4307546018943976e-05<br>lambda_l2: 0.638157926901561<br>bagging_fraction: 0.9624552497583828<br>feature_fraction: 0.9642445644501639<br>min_data_in_leaf: 25<br><b>Objective Value: 79399768.58151218</b>\",\"Trial #11<br>num_leaves: 520<br>lambda_l1: 0.0010134377640697253<br>lambda_l2: 1.3772614935461024e-08<br>bagging_fraction: 0.41452867557838896<br>feature_fraction: 0.7967159963062568<br>min_data_in_leaf: 62<br><b>Objective Value: 79925770.44181032</b>\",\"Trial #15<br>num_leaves: 1885<br>lambda_l1: 0.018892384451899783<br>lambda_l2: 5.067381273777158<br>bagging_fraction: 0.6659463999200744<br>feature_fraction: 0.8361864803282889<br>min_data_in_leaf: 100<br><b>Objective Value: 84277264.00433168</b>\",\"Trial #17<br>num_leaves: 965<br>lambda_l1: 2.3928872957010405e-05<br>lambda_l2: 1.187079924392479e-08<br>bagging_fraction: 0.5118115490578029<br>feature_fraction: 0.7382099028236617<br>min_data_in_leaf: 83<br><b>Objective Value: 87848151.36487645</b>\",\"Trial #20<br>num_leaves: 245<br>lambda_l1: 0.000174754169738027<br>lambda_l2: 0.00040584743230947975<br>bagging_fraction: 0.7529362430858172<br>feature_fraction: 0.6302066026205523<br>min_data_in_leaf: 33<br><b>Objective Value: 91621725.8507677</b>\",\"Trial #23<br>num_leaves: 1061<br>lambda_l1: 0.00015355351597731294<br>lambda_l2: 5.745514547546445<br>bagging_fraction: 0.8314527408561924<br>feature_fraction: 0.8031609749541938<br>min_data_in_leaf: 19<br><b>Objective Value: 76399862.09058675</b>\"],\"marker\":{\"color\":[\"rgb(241.0, 250.0, 217.0)\",\"rgb(254.0, 206.0, 127.0)\",\"rgb(255.0, 241.0, 170.0)\",\"rgb(107.0, 163.0, 204.0)\",\"rgb(251.0, 156.0, 89.0)\",\"rgb(49.0, 54.0, 149.0)\",\"rgb(156.0, 205.0, 226.0)\",\"rgb(205.0, 234.0, 243.0)\",\"rgb(239.0, 98.0, 62.0)\",\"rgb(210.0, 44.0, 39.0)\",\"rgb(165.0, 0.0, 38.0)\",\"rgb(67.0, 111.0, 177.0)\"],\"line\":{\"color\":\"Grey\",\"width\":0.5}},\"mode\":\"markers\",\"showlegend\":false,\"x\":[0.7163577515278541,0.8545212440556665,0.8652197681488225,0.5296948190278132,0.8980372193895749,0.7490233860912122,0.9624552497583828,0.41452867557838896,0.6659463999200744,0.5118115490578029,0.7529362430858172,0.8314527408561924],\"y\":[0.7163577515278541,0.8545212440556665,0.8652197681488225,0.5296948190278132,0.8980372193895749,0.7490233860912122,0.9624552497583828,0.41452867557838896,0.6659463999200744,0.5118115490578029,0.7529362430858172,0.8314527408561924],\"type\":\"scatter\",\"xaxis\":\"x\",\"yaxis\":\"y\"},{\"hovertemplate\":\"%{hovertext}<extra></extra>\",\"hovertext\":[\"Trial #0<br>num_leaves: 1439<br>lambda_l1: 0.019278434682866448<br>lambda_l2: 0.0018697723474761<br>bagging_fraction: 0.7163577515278541<br>feature_fraction: 0.7490702918310586<br>min_data_in_leaf: 75<br><b>Objective Value: 80313362.56217991</b>\",\"Trial #1<br>num_leaves: 1265<br>lambda_l1: 7.192128540811753<br>lambda_l2: 4.588164942004746e-05<br>bagging_fraction: 0.8545212440556665<br>feature_fraction: 0.942963580124861<br>min_data_in_leaf: 97<br><b>Objective Value: 82706514.56218801</b>\",\"Trial #2<br>num_leaves: 2116<br>lambda_l1: 1.402671077126005e-05<br>lambda_l2: 0.41577019681393745<br>bagging_fraction: 0.8652197681488225<br>feature_fraction: 0.9475268944322849<br>min_data_in_leaf: 30<br><b>Objective Value: 80454715.72998178</b>\",\"Trial #3<br>num_leaves: 268<br>lambda_l1: 5.91898916675316e-06<br>lambda_l2: 3.63461736652139e-08<br>bagging_fraction: 0.5296948190278132<br>feature_fraction: 0.7464478568892341<br>min_data_in_leaf: 99<br><b>Objective Value: 78247597.28986743</b>\",\"Trial #4<br>num_leaves: 1785<br>lambda_l1: 1.2176606593204724e-08<br>lambda_l2: 6.25276225187146e-05<br>bagging_fraction: 0.8980372193895749<br>feature_fraction: 0.7759061195202521<br>min_data_in_leaf: 88<br><b>Objective Value: 83488654.96000367</b>\",\"Trial #6<br>num_leaves: 2089<br>lambda_l1: 0.0881168631523731<br>lambda_l2: 0.0017629174978789357<br>bagging_fraction: 0.7490233860912122<br>feature_fraction: 0.6931598053620143<br>min_data_in_leaf: 15<br><b>Objective Value: 70140764.70892096</b>\",\"Trial #8<br>num_leaves: 432<br>lambda_l1: 1.4307546018943976e-05<br>lambda_l2: 0.638157926901561<br>bagging_fraction: 0.9624552497583828<br>feature_fraction: 0.9642445644501639<br>min_data_in_leaf: 25<br><b>Objective Value: 79399768.58151218</b>\",\"Trial #11<br>num_leaves: 520<br>lambda_l1: 0.0010134377640697253<br>lambda_l2: 1.3772614935461024e-08<br>bagging_fraction: 0.41452867557838896<br>feature_fraction: 0.7967159963062568<br>min_data_in_leaf: 62<br><b>Objective Value: 79925770.44181032</b>\",\"Trial #15<br>num_leaves: 1885<br>lambda_l1: 0.018892384451899783<br>lambda_l2: 5.067381273777158<br>bagging_fraction: 0.6659463999200744<br>feature_fraction: 0.8361864803282889<br>min_data_in_leaf: 100<br><b>Objective Value: 84277264.00433168</b>\",\"Trial #17<br>num_leaves: 965<br>lambda_l1: 2.3928872957010405e-05<br>lambda_l2: 1.187079924392479e-08<br>bagging_fraction: 0.5118115490578029<br>feature_fraction: 0.7382099028236617<br>min_data_in_leaf: 83<br><b>Objective Value: 87848151.36487645</b>\",\"Trial #20<br>num_leaves: 245<br>lambda_l1: 0.000174754169738027<br>lambda_l2: 0.00040584743230947975<br>bagging_fraction: 0.7529362430858172<br>feature_fraction: 0.6302066026205523<br>min_data_in_leaf: 33<br><b>Objective Value: 91621725.8507677</b>\",\"Trial #23<br>num_leaves: 1061<br>lambda_l1: 0.00015355351597731294<br>lambda_l2: 5.745514547546445<br>bagging_fraction: 0.8314527408561924<br>feature_fraction: 0.8031609749541938<br>min_data_in_leaf: 19<br><b>Objective Value: 76399862.09058675</b>\"],\"marker\":{\"color\":[\"rgb(241.0, 250.0, 217.0)\",\"rgb(254.0, 206.0, 127.0)\",\"rgb(255.0, 241.0, 170.0)\",\"rgb(107.0, 163.0, 204.0)\",\"rgb(251.0, 156.0, 89.0)\",\"rgb(49.0, 54.0, 149.0)\",\"rgb(156.0, 205.0, 226.0)\",\"rgb(205.0, 234.0, 243.0)\",\"rgb(239.0, 98.0, 62.0)\",\"rgb(210.0, 44.0, 39.0)\",\"rgb(165.0, 0.0, 38.0)\",\"rgb(67.0, 111.0, 177.0)\"],\"line\":{\"color\":\"Grey\",\"width\":0.5}},\"mode\":\"markers\",\"showlegend\":false,\"x\":[0.7163577515278541,0.8545212440556665,0.8652197681488225,0.5296948190278132,0.8980372193895749,0.7490233860912122,0.9624552497583828,0.41452867557838896,0.6659463999200744,0.5118115490578029,0.7529362430858172,0.8314527408561924],\"y\":[0.7490702918310586,0.942963580124861,0.9475268944322849,0.7464478568892341,0.7759061195202521,0.6931598053620143,0.9642445644501639,0.7967159963062568,0.8361864803282889,0.7382099028236617,0.6302066026205523,0.8031609749541938],\"type\":\"scatter\",\"xaxis\":\"x7\",\"yaxis\":\"y7\"},{\"hovertemplate\":\"%{hovertext}<extra></extra>\",\"hovertext\":[\"Trial #0<br>num_leaves: 1439<br>lambda_l1: 0.019278434682866448<br>lambda_l2: 0.0018697723474761<br>bagging_fraction: 0.7163577515278541<br>feature_fraction: 0.7490702918310586<br>min_data_in_leaf: 75<br><b>Objective Value: 80313362.56217991</b>\",\"Trial #1<br>num_leaves: 1265<br>lambda_l1: 7.192128540811753<br>lambda_l2: 4.588164942004746e-05<br>bagging_fraction: 0.8545212440556665<br>feature_fraction: 0.942963580124861<br>min_data_in_leaf: 97<br><b>Objective Value: 82706514.56218801</b>\",\"Trial #2<br>num_leaves: 2116<br>lambda_l1: 1.402671077126005e-05<br>lambda_l2: 0.41577019681393745<br>bagging_fraction: 0.8652197681488225<br>feature_fraction: 0.9475268944322849<br>min_data_in_leaf: 30<br><b>Objective Value: 80454715.72998178</b>\",\"Trial #3<br>num_leaves: 268<br>lambda_l1: 5.91898916675316e-06<br>lambda_l2: 3.63461736652139e-08<br>bagging_fraction: 0.5296948190278132<br>feature_fraction: 0.7464478568892341<br>min_data_in_leaf: 99<br><b>Objective Value: 78247597.28986743</b>\",\"Trial #4<br>num_leaves: 1785<br>lambda_l1: 1.2176606593204724e-08<br>lambda_l2: 6.25276225187146e-05<br>bagging_fraction: 0.8980372193895749<br>feature_fraction: 0.7759061195202521<br>min_data_in_leaf: 88<br><b>Objective Value: 83488654.96000367</b>\",\"Trial #6<br>num_leaves: 2089<br>lambda_l1: 0.0881168631523731<br>lambda_l2: 0.0017629174978789357<br>bagging_fraction: 0.7490233860912122<br>feature_fraction: 0.6931598053620143<br>min_data_in_leaf: 15<br><b>Objective Value: 70140764.70892096</b>\",\"Trial #8<br>num_leaves: 432<br>lambda_l1: 1.4307546018943976e-05<br>lambda_l2: 0.638157926901561<br>bagging_fraction: 0.9624552497583828<br>feature_fraction: 0.9642445644501639<br>min_data_in_leaf: 25<br><b>Objective Value: 79399768.58151218</b>\",\"Trial #11<br>num_leaves: 520<br>lambda_l1: 0.0010134377640697253<br>lambda_l2: 1.3772614935461024e-08<br>bagging_fraction: 0.41452867557838896<br>feature_fraction: 0.7967159963062568<br>min_data_in_leaf: 62<br><b>Objective Value: 79925770.44181032</b>\",\"Trial #15<br>num_leaves: 1885<br>lambda_l1: 0.018892384451899783<br>lambda_l2: 5.067381273777158<br>bagging_fraction: 0.6659463999200744<br>feature_fraction: 0.8361864803282889<br>min_data_in_leaf: 100<br><b>Objective Value: 84277264.00433168</b>\",\"Trial #17<br>num_leaves: 965<br>lambda_l1: 2.3928872957010405e-05<br>lambda_l2: 1.187079924392479e-08<br>bagging_fraction: 0.5118115490578029<br>feature_fraction: 0.7382099028236617<br>min_data_in_leaf: 83<br><b>Objective Value: 87848151.36487645</b>\",\"Trial #20<br>num_leaves: 245<br>lambda_l1: 0.000174754169738027<br>lambda_l2: 0.00040584743230947975<br>bagging_fraction: 0.7529362430858172<br>feature_fraction: 0.6302066026205523<br>min_data_in_leaf: 33<br><b>Objective Value: 91621725.8507677</b>\",\"Trial #23<br>num_leaves: 1061<br>lambda_l1: 0.00015355351597731294<br>lambda_l2: 5.745514547546445<br>bagging_fraction: 0.8314527408561924<br>feature_fraction: 0.8031609749541938<br>min_data_in_leaf: 19<br><b>Objective Value: 76399862.09058675</b>\"],\"marker\":{\"color\":[\"rgb(241.0, 250.0, 217.0)\",\"rgb(254.0, 206.0, 127.0)\",\"rgb(255.0, 241.0, 170.0)\",\"rgb(107.0, 163.0, 204.0)\",\"rgb(251.0, 156.0, 89.0)\",\"rgb(49.0, 54.0, 149.0)\",\"rgb(156.0, 205.0, 226.0)\",\"rgb(205.0, 234.0, 243.0)\",\"rgb(239.0, 98.0, 62.0)\",\"rgb(210.0, 44.0, 39.0)\",\"rgb(165.0, 0.0, 38.0)\",\"rgb(67.0, 111.0, 177.0)\"],\"line\":{\"color\":\"Grey\",\"width\":0.5}},\"mode\":\"markers\",\"showlegend\":false,\"x\":[0.7163577515278541,0.8545212440556665,0.8652197681488225,0.5296948190278132,0.8980372193895749,0.7490233860912122,0.9624552497583828,0.41452867557838896,0.6659463999200744,0.5118115490578029,0.7529362430858172,0.8314527408561924],\"y\":[0.019278434682866448,7.192128540811753,1.402671077126005e-05,5.91898916675316e-06,1.2176606593204724e-08,0.0881168631523731,1.4307546018943976e-05,0.0010134377640697253,0.018892384451899783,2.3928872957010405e-05,0.000174754169738027,0.00015355351597731294],\"type\":\"scatter\",\"xaxis\":\"x13\",\"yaxis\":\"y13\"},{\"hovertemplate\":\"%{hovertext}<extra></extra>\",\"hovertext\":[\"Trial #0<br>num_leaves: 1439<br>lambda_l1: 0.019278434682866448<br>lambda_l2: 0.0018697723474761<br>bagging_fraction: 0.7163577515278541<br>feature_fraction: 0.7490702918310586<br>min_data_in_leaf: 75<br><b>Objective Value: 80313362.56217991</b>\",\"Trial #1<br>num_leaves: 1265<br>lambda_l1: 7.192128540811753<br>lambda_l2: 4.588164942004746e-05<br>bagging_fraction: 0.8545212440556665<br>feature_fraction: 0.942963580124861<br>min_data_in_leaf: 97<br><b>Objective Value: 82706514.56218801</b>\",\"Trial #2<br>num_leaves: 2116<br>lambda_l1: 1.402671077126005e-05<br>lambda_l2: 0.41577019681393745<br>bagging_fraction: 0.8652197681488225<br>feature_fraction: 0.9475268944322849<br>min_data_in_leaf: 30<br><b>Objective Value: 80454715.72998178</b>\",\"Trial #3<br>num_leaves: 268<br>lambda_l1: 5.91898916675316e-06<br>lambda_l2: 3.63461736652139e-08<br>bagging_fraction: 0.5296948190278132<br>feature_fraction: 0.7464478568892341<br>min_data_in_leaf: 99<br><b>Objective Value: 78247597.28986743</b>\",\"Trial #4<br>num_leaves: 1785<br>lambda_l1: 1.2176606593204724e-08<br>lambda_l2: 6.25276225187146e-05<br>bagging_fraction: 0.8980372193895749<br>feature_fraction: 0.7759061195202521<br>min_data_in_leaf: 88<br><b>Objective Value: 83488654.96000367</b>\",\"Trial #6<br>num_leaves: 2089<br>lambda_l1: 0.0881168631523731<br>lambda_l2: 0.0017629174978789357<br>bagging_fraction: 0.7490233860912122<br>feature_fraction: 0.6931598053620143<br>min_data_in_leaf: 15<br><b>Objective Value: 70140764.70892096</b>\",\"Trial #8<br>num_leaves: 432<br>lambda_l1: 1.4307546018943976e-05<br>lambda_l2: 0.638157926901561<br>bagging_fraction: 0.9624552497583828<br>feature_fraction: 0.9642445644501639<br>min_data_in_leaf: 25<br><b>Objective Value: 79399768.58151218</b>\",\"Trial #11<br>num_leaves: 520<br>lambda_l1: 0.0010134377640697253<br>lambda_l2: 1.3772614935461024e-08<br>bagging_fraction: 0.41452867557838896<br>feature_fraction: 0.7967159963062568<br>min_data_in_leaf: 62<br><b>Objective Value: 79925770.44181032</b>\",\"Trial #15<br>num_leaves: 1885<br>lambda_l1: 0.018892384451899783<br>lambda_l2: 5.067381273777158<br>bagging_fraction: 0.6659463999200744<br>feature_fraction: 0.8361864803282889<br>min_data_in_leaf: 100<br><b>Objective Value: 84277264.00433168</b>\",\"Trial #17<br>num_leaves: 965<br>lambda_l1: 2.3928872957010405e-05<br>lambda_l2: 1.187079924392479e-08<br>bagging_fraction: 0.5118115490578029<br>feature_fraction: 0.7382099028236617<br>min_data_in_leaf: 83<br><b>Objective Value: 87848151.36487645</b>\",\"Trial #20<br>num_leaves: 245<br>lambda_l1: 0.000174754169738027<br>lambda_l2: 0.00040584743230947975<br>bagging_fraction: 0.7529362430858172<br>feature_fraction: 0.6302066026205523<br>min_data_in_leaf: 33<br><b>Objective Value: 91621725.8507677</b>\",\"Trial #23<br>num_leaves: 1061<br>lambda_l1: 0.00015355351597731294<br>lambda_l2: 5.745514547546445<br>bagging_fraction: 0.8314527408561924<br>feature_fraction: 0.8031609749541938<br>min_data_in_leaf: 19<br><b>Objective Value: 76399862.09058675</b>\"],\"marker\":{\"color\":[\"rgb(241.0, 250.0, 217.0)\",\"rgb(254.0, 206.0, 127.0)\",\"rgb(255.0, 241.0, 170.0)\",\"rgb(107.0, 163.0, 204.0)\",\"rgb(251.0, 156.0, 89.0)\",\"rgb(49.0, 54.0, 149.0)\",\"rgb(156.0, 205.0, 226.0)\",\"rgb(205.0, 234.0, 243.0)\",\"rgb(239.0, 98.0, 62.0)\",\"rgb(210.0, 44.0, 39.0)\",\"rgb(165.0, 0.0, 38.0)\",\"rgb(67.0, 111.0, 177.0)\"],\"line\":{\"color\":\"Grey\",\"width\":0.5}},\"mode\":\"markers\",\"showlegend\":false,\"x\":[0.7163577515278541,0.8545212440556665,0.8652197681488225,0.5296948190278132,0.8980372193895749,0.7490233860912122,0.9624552497583828,0.41452867557838896,0.6659463999200744,0.5118115490578029,0.7529362430858172,0.8314527408561924],\"y\":[0.0018697723474761,4.588164942004746e-05,0.41577019681393745,3.63461736652139e-08,6.25276225187146e-05,0.0017629174978789357,0.638157926901561,1.3772614935461024e-08,5.067381273777158,1.187079924392479e-08,0.00040584743230947975,5.745514547546445],\"type\":\"scatter\",\"xaxis\":\"x19\",\"yaxis\":\"y19\"},{\"hovertemplate\":\"%{hovertext}<extra></extra>\",\"hovertext\":[\"Trial #0<br>num_leaves: 1439<br>lambda_l1: 0.019278434682866448<br>lambda_l2: 0.0018697723474761<br>bagging_fraction: 0.7163577515278541<br>feature_fraction: 0.7490702918310586<br>min_data_in_leaf: 75<br><b>Objective Value: 80313362.56217991</b>\",\"Trial #1<br>num_leaves: 1265<br>lambda_l1: 7.192128540811753<br>lambda_l2: 4.588164942004746e-05<br>bagging_fraction: 0.8545212440556665<br>feature_fraction: 0.942963580124861<br>min_data_in_leaf: 97<br><b>Objective Value: 82706514.56218801</b>\",\"Trial #2<br>num_leaves: 2116<br>lambda_l1: 1.402671077126005e-05<br>lambda_l2: 0.41577019681393745<br>bagging_fraction: 0.8652197681488225<br>feature_fraction: 0.9475268944322849<br>min_data_in_leaf: 30<br><b>Objective Value: 80454715.72998178</b>\",\"Trial #3<br>num_leaves: 268<br>lambda_l1: 5.91898916675316e-06<br>lambda_l2: 3.63461736652139e-08<br>bagging_fraction: 0.5296948190278132<br>feature_fraction: 0.7464478568892341<br>min_data_in_leaf: 99<br><b>Objective Value: 78247597.28986743</b>\",\"Trial #4<br>num_leaves: 1785<br>lambda_l1: 1.2176606593204724e-08<br>lambda_l2: 6.25276225187146e-05<br>bagging_fraction: 0.8980372193895749<br>feature_fraction: 0.7759061195202521<br>min_data_in_leaf: 88<br><b>Objective Value: 83488654.96000367</b>\",\"Trial #6<br>num_leaves: 2089<br>lambda_l1: 0.0881168631523731<br>lambda_l2: 0.0017629174978789357<br>bagging_fraction: 0.7490233860912122<br>feature_fraction: 0.6931598053620143<br>min_data_in_leaf: 15<br><b>Objective Value: 70140764.70892096</b>\",\"Trial #8<br>num_leaves: 432<br>lambda_l1: 1.4307546018943976e-05<br>lambda_l2: 0.638157926901561<br>bagging_fraction: 0.9624552497583828<br>feature_fraction: 0.9642445644501639<br>min_data_in_leaf: 25<br><b>Objective Value: 79399768.58151218</b>\",\"Trial #11<br>num_leaves: 520<br>lambda_l1: 0.0010134377640697253<br>lambda_l2: 1.3772614935461024e-08<br>bagging_fraction: 0.41452867557838896<br>feature_fraction: 0.7967159963062568<br>min_data_in_leaf: 62<br><b>Objective Value: 79925770.44181032</b>\",\"Trial #15<br>num_leaves: 1885<br>lambda_l1: 0.018892384451899783<br>lambda_l2: 5.067381273777158<br>bagging_fraction: 0.6659463999200744<br>feature_fraction: 0.8361864803282889<br>min_data_in_leaf: 100<br><b>Objective Value: 84277264.00433168</b>\",\"Trial #17<br>num_leaves: 965<br>lambda_l1: 2.3928872957010405e-05<br>lambda_l2: 1.187079924392479e-08<br>bagging_fraction: 0.5118115490578029<br>feature_fraction: 0.7382099028236617<br>min_data_in_leaf: 83<br><b>Objective Value: 87848151.36487645</b>\",\"Trial #20<br>num_leaves: 245<br>lambda_l1: 0.000174754169738027<br>lambda_l2: 0.00040584743230947975<br>bagging_fraction: 0.7529362430858172<br>feature_fraction: 0.6302066026205523<br>min_data_in_leaf: 33<br><b>Objective Value: 91621725.8507677</b>\",\"Trial #23<br>num_leaves: 1061<br>lambda_l1: 0.00015355351597731294<br>lambda_l2: 5.745514547546445<br>bagging_fraction: 0.8314527408561924<br>feature_fraction: 0.8031609749541938<br>min_data_in_leaf: 19<br><b>Objective Value: 76399862.09058675</b>\"],\"marker\":{\"color\":[\"rgb(241.0, 250.0, 217.0)\",\"rgb(254.0, 206.0, 127.0)\",\"rgb(255.0, 241.0, 170.0)\",\"rgb(107.0, 163.0, 204.0)\",\"rgb(251.0, 156.0, 89.0)\",\"rgb(49.0, 54.0, 149.0)\",\"rgb(156.0, 205.0, 226.0)\",\"rgb(205.0, 234.0, 243.0)\",\"rgb(239.0, 98.0, 62.0)\",\"rgb(210.0, 44.0, 39.0)\",\"rgb(165.0, 0.0, 38.0)\",\"rgb(67.0, 111.0, 177.0)\"],\"line\":{\"color\":\"Grey\",\"width\":0.5}},\"mode\":\"markers\",\"showlegend\":false,\"x\":[0.7163577515278541,0.8545212440556665,0.8652197681488225,0.5296948190278132,0.8980372193895749,0.7490233860912122,0.9624552497583828,0.41452867557838896,0.6659463999200744,0.5118115490578029,0.7529362430858172,0.8314527408561924],\"y\":[75,97,30,99,88,15,25,62,100,83,33,19],\"type\":\"scatter\",\"xaxis\":\"x25\",\"yaxis\":\"y25\"},{\"hovertemplate\":\"%{hovertext}<extra></extra>\",\"hovertext\":[\"Trial #0<br>num_leaves: 1439<br>lambda_l1: 0.019278434682866448<br>lambda_l2: 0.0018697723474761<br>bagging_fraction: 0.7163577515278541<br>feature_fraction: 0.7490702918310586<br>min_data_in_leaf: 75<br><b>Objective Value: 80313362.56217991</b>\",\"Trial #1<br>num_leaves: 1265<br>lambda_l1: 7.192128540811753<br>lambda_l2: 4.588164942004746e-05<br>bagging_fraction: 0.8545212440556665<br>feature_fraction: 0.942963580124861<br>min_data_in_leaf: 97<br><b>Objective Value: 82706514.56218801</b>\",\"Trial #2<br>num_leaves: 2116<br>lambda_l1: 1.402671077126005e-05<br>lambda_l2: 0.41577019681393745<br>bagging_fraction: 0.8652197681488225<br>feature_fraction: 0.9475268944322849<br>min_data_in_leaf: 30<br><b>Objective Value: 80454715.72998178</b>\",\"Trial #3<br>num_leaves: 268<br>lambda_l1: 5.91898916675316e-06<br>lambda_l2: 3.63461736652139e-08<br>bagging_fraction: 0.5296948190278132<br>feature_fraction: 0.7464478568892341<br>min_data_in_leaf: 99<br><b>Objective Value: 78247597.28986743</b>\",\"Trial #4<br>num_leaves: 1785<br>lambda_l1: 1.2176606593204724e-08<br>lambda_l2: 6.25276225187146e-05<br>bagging_fraction: 0.8980372193895749<br>feature_fraction: 0.7759061195202521<br>min_data_in_leaf: 88<br><b>Objective Value: 83488654.96000367</b>\",\"Trial #6<br>num_leaves: 2089<br>lambda_l1: 0.0881168631523731<br>lambda_l2: 0.0017629174978789357<br>bagging_fraction: 0.7490233860912122<br>feature_fraction: 0.6931598053620143<br>min_data_in_leaf: 15<br><b>Objective Value: 70140764.70892096</b>\",\"Trial #8<br>num_leaves: 432<br>lambda_l1: 1.4307546018943976e-05<br>lambda_l2: 0.638157926901561<br>bagging_fraction: 0.9624552497583828<br>feature_fraction: 0.9642445644501639<br>min_data_in_leaf: 25<br><b>Objective Value: 79399768.58151218</b>\",\"Trial #11<br>num_leaves: 520<br>lambda_l1: 0.0010134377640697253<br>lambda_l2: 1.3772614935461024e-08<br>bagging_fraction: 0.41452867557838896<br>feature_fraction: 0.7967159963062568<br>min_data_in_leaf: 62<br><b>Objective Value: 79925770.44181032</b>\",\"Trial #15<br>num_leaves: 1885<br>lambda_l1: 0.018892384451899783<br>lambda_l2: 5.067381273777158<br>bagging_fraction: 0.6659463999200744<br>feature_fraction: 0.8361864803282889<br>min_data_in_leaf: 100<br><b>Objective Value: 84277264.00433168</b>\",\"Trial #17<br>num_leaves: 965<br>lambda_l1: 2.3928872957010405e-05<br>lambda_l2: 1.187079924392479e-08<br>bagging_fraction: 0.5118115490578029<br>feature_fraction: 0.7382099028236617<br>min_data_in_leaf: 83<br><b>Objective Value: 87848151.36487645</b>\",\"Trial #20<br>num_leaves: 245<br>lambda_l1: 0.000174754169738027<br>lambda_l2: 0.00040584743230947975<br>bagging_fraction: 0.7529362430858172<br>feature_fraction: 0.6302066026205523<br>min_data_in_leaf: 33<br><b>Objective Value: 91621725.8507677</b>\",\"Trial #23<br>num_leaves: 1061<br>lambda_l1: 0.00015355351597731294<br>lambda_l2: 5.745514547546445<br>bagging_fraction: 0.8314527408561924<br>feature_fraction: 0.8031609749541938<br>min_data_in_leaf: 19<br><b>Objective Value: 76399862.09058675</b>\"],\"marker\":{\"color\":[\"rgb(241.0, 250.0, 217.0)\",\"rgb(254.0, 206.0, 127.0)\",\"rgb(255.0, 241.0, 170.0)\",\"rgb(107.0, 163.0, 204.0)\",\"rgb(251.0, 156.0, 89.0)\",\"rgb(49.0, 54.0, 149.0)\",\"rgb(156.0, 205.0, 226.0)\",\"rgb(205.0, 234.0, 243.0)\",\"rgb(239.0, 98.0, 62.0)\",\"rgb(210.0, 44.0, 39.0)\",\"rgb(165.0, 0.0, 38.0)\",\"rgb(67.0, 111.0, 177.0)\"],\"line\":{\"color\":\"Grey\",\"width\":0.5}},\"mode\":\"markers\",\"showlegend\":false,\"x\":[0.7163577515278541,0.8545212440556665,0.8652197681488225,0.5296948190278132,0.8980372193895749,0.7490233860912122,0.9624552497583828,0.41452867557838896,0.6659463999200744,0.5118115490578029,0.7529362430858172,0.8314527408561924],\"y\":[1439,1265,2116,268,1785,2089,432,520,1885,965,245,1061],\"type\":\"scatter\",\"xaxis\":\"x31\",\"yaxis\":\"y31\"},{\"hovertemplate\":\"%{hovertext}<extra></extra>\",\"hovertext\":[\"Trial #0<br>num_leaves: 1439<br>lambda_l1: 0.019278434682866448<br>lambda_l2: 0.0018697723474761<br>bagging_fraction: 0.7163577515278541<br>feature_fraction: 0.7490702918310586<br>min_data_in_leaf: 75<br><b>Objective Value: 80313362.56217991</b>\",\"Trial #1<br>num_leaves: 1265<br>lambda_l1: 7.192128540811753<br>lambda_l2: 4.588164942004746e-05<br>bagging_fraction: 0.8545212440556665<br>feature_fraction: 0.942963580124861<br>min_data_in_leaf: 97<br><b>Objective Value: 82706514.56218801</b>\",\"Trial #2<br>num_leaves: 2116<br>lambda_l1: 1.402671077126005e-05<br>lambda_l2: 0.41577019681393745<br>bagging_fraction: 0.8652197681488225<br>feature_fraction: 0.9475268944322849<br>min_data_in_leaf: 30<br><b>Objective Value: 80454715.72998178</b>\",\"Trial #3<br>num_leaves: 268<br>lambda_l1: 5.91898916675316e-06<br>lambda_l2: 3.63461736652139e-08<br>bagging_fraction: 0.5296948190278132<br>feature_fraction: 0.7464478568892341<br>min_data_in_leaf: 99<br><b>Objective Value: 78247597.28986743</b>\",\"Trial #4<br>num_leaves: 1785<br>lambda_l1: 1.2176606593204724e-08<br>lambda_l2: 6.25276225187146e-05<br>bagging_fraction: 0.8980372193895749<br>feature_fraction: 0.7759061195202521<br>min_data_in_leaf: 88<br><b>Objective Value: 83488654.96000367</b>\",\"Trial #6<br>num_leaves: 2089<br>lambda_l1: 0.0881168631523731<br>lambda_l2: 0.0017629174978789357<br>bagging_fraction: 0.7490233860912122<br>feature_fraction: 0.6931598053620143<br>min_data_in_leaf: 15<br><b>Objective Value: 70140764.70892096</b>\",\"Trial #8<br>num_leaves: 432<br>lambda_l1: 1.4307546018943976e-05<br>lambda_l2: 0.638157926901561<br>bagging_fraction: 0.9624552497583828<br>feature_fraction: 0.9642445644501639<br>min_data_in_leaf: 25<br><b>Objective Value: 79399768.58151218</b>\",\"Trial #11<br>num_leaves: 520<br>lambda_l1: 0.0010134377640697253<br>lambda_l2: 1.3772614935461024e-08<br>bagging_fraction: 0.41452867557838896<br>feature_fraction: 0.7967159963062568<br>min_data_in_leaf: 62<br><b>Objective Value: 79925770.44181032</b>\",\"Trial #15<br>num_leaves: 1885<br>lambda_l1: 0.018892384451899783<br>lambda_l2: 5.067381273777158<br>bagging_fraction: 0.6659463999200744<br>feature_fraction: 0.8361864803282889<br>min_data_in_leaf: 100<br><b>Objective Value: 84277264.00433168</b>\",\"Trial #17<br>num_leaves: 965<br>lambda_l1: 2.3928872957010405e-05<br>lambda_l2: 1.187079924392479e-08<br>bagging_fraction: 0.5118115490578029<br>feature_fraction: 0.7382099028236617<br>min_data_in_leaf: 83<br><b>Objective Value: 87848151.36487645</b>\",\"Trial #20<br>num_leaves: 245<br>lambda_l1: 0.000174754169738027<br>lambda_l2: 0.00040584743230947975<br>bagging_fraction: 0.7529362430858172<br>feature_fraction: 0.6302066026205523<br>min_data_in_leaf: 33<br><b>Objective Value: 91621725.8507677</b>\",\"Trial #23<br>num_leaves: 1061<br>lambda_l1: 0.00015355351597731294<br>lambda_l2: 5.745514547546445<br>bagging_fraction: 0.8314527408561924<br>feature_fraction: 0.8031609749541938<br>min_data_in_leaf: 19<br><b>Objective Value: 76399862.09058675</b>\"],\"marker\":{\"color\":[\"rgb(241.0, 250.0, 217.0)\",\"rgb(254.0, 206.0, 127.0)\",\"rgb(255.0, 241.0, 170.0)\",\"rgb(107.0, 163.0, 204.0)\",\"rgb(251.0, 156.0, 89.0)\",\"rgb(49.0, 54.0, 149.0)\",\"rgb(156.0, 205.0, 226.0)\",\"rgb(205.0, 234.0, 243.0)\",\"rgb(239.0, 98.0, 62.0)\",\"rgb(210.0, 44.0, 39.0)\",\"rgb(165.0, 0.0, 38.0)\",\"rgb(67.0, 111.0, 177.0)\"],\"line\":{\"color\":\"Grey\",\"width\":0.5}},\"mode\":\"markers\",\"showlegend\":false,\"x\":[0.7490702918310586,0.942963580124861,0.9475268944322849,0.7464478568892341,0.7759061195202521,0.6931598053620143,0.9642445644501639,0.7967159963062568,0.8361864803282889,0.7382099028236617,0.6302066026205523,0.8031609749541938],\"y\":[0.7163577515278541,0.8545212440556665,0.8652197681488225,0.5296948190278132,0.8980372193895749,0.7490233860912122,0.9624552497583828,0.41452867557838896,0.6659463999200744,0.5118115490578029,0.7529362430858172,0.8314527408561924],\"type\":\"scatter\",\"xaxis\":\"x2\",\"yaxis\":\"y2\"},{\"hovertemplate\":\"%{hovertext}<extra></extra>\",\"hovertext\":[\"Trial #0<br>num_leaves: 1439<br>lambda_l1: 0.019278434682866448<br>lambda_l2: 0.0018697723474761<br>bagging_fraction: 0.7163577515278541<br>feature_fraction: 0.7490702918310586<br>min_data_in_leaf: 75<br><b>Objective Value: 80313362.56217991</b>\",\"Trial #1<br>num_leaves: 1265<br>lambda_l1: 7.192128540811753<br>lambda_l2: 4.588164942004746e-05<br>bagging_fraction: 0.8545212440556665<br>feature_fraction: 0.942963580124861<br>min_data_in_leaf: 97<br><b>Objective Value: 82706514.56218801</b>\",\"Trial #2<br>num_leaves: 2116<br>lambda_l1: 1.402671077126005e-05<br>lambda_l2: 0.41577019681393745<br>bagging_fraction: 0.8652197681488225<br>feature_fraction: 0.9475268944322849<br>min_data_in_leaf: 30<br><b>Objective Value: 80454715.72998178</b>\",\"Trial #3<br>num_leaves: 268<br>lambda_l1: 5.91898916675316e-06<br>lambda_l2: 3.63461736652139e-08<br>bagging_fraction: 0.5296948190278132<br>feature_fraction: 0.7464478568892341<br>min_data_in_leaf: 99<br><b>Objective Value: 78247597.28986743</b>\",\"Trial #4<br>num_leaves: 1785<br>lambda_l1: 1.2176606593204724e-08<br>lambda_l2: 6.25276225187146e-05<br>bagging_fraction: 0.8980372193895749<br>feature_fraction: 0.7759061195202521<br>min_data_in_leaf: 88<br><b>Objective Value: 83488654.96000367</b>\",\"Trial #6<br>num_leaves: 2089<br>lambda_l1: 0.0881168631523731<br>lambda_l2: 0.0017629174978789357<br>bagging_fraction: 0.7490233860912122<br>feature_fraction: 0.6931598053620143<br>min_data_in_leaf: 15<br><b>Objective Value: 70140764.70892096</b>\",\"Trial #8<br>num_leaves: 432<br>lambda_l1: 1.4307546018943976e-05<br>lambda_l2: 0.638157926901561<br>bagging_fraction: 0.9624552497583828<br>feature_fraction: 0.9642445644501639<br>min_data_in_leaf: 25<br><b>Objective Value: 79399768.58151218</b>\",\"Trial #11<br>num_leaves: 520<br>lambda_l1: 0.0010134377640697253<br>lambda_l2: 1.3772614935461024e-08<br>bagging_fraction: 0.41452867557838896<br>feature_fraction: 0.7967159963062568<br>min_data_in_leaf: 62<br><b>Objective Value: 79925770.44181032</b>\",\"Trial #15<br>num_leaves: 1885<br>lambda_l1: 0.018892384451899783<br>lambda_l2: 5.067381273777158<br>bagging_fraction: 0.6659463999200744<br>feature_fraction: 0.8361864803282889<br>min_data_in_leaf: 100<br><b>Objective Value: 84277264.00433168</b>\",\"Trial #17<br>num_leaves: 965<br>lambda_l1: 2.3928872957010405e-05<br>lambda_l2: 1.187079924392479e-08<br>bagging_fraction: 0.5118115490578029<br>feature_fraction: 0.7382099028236617<br>min_data_in_leaf: 83<br><b>Objective Value: 87848151.36487645</b>\",\"Trial #20<br>num_leaves: 245<br>lambda_l1: 0.000174754169738027<br>lambda_l2: 0.00040584743230947975<br>bagging_fraction: 0.7529362430858172<br>feature_fraction: 0.6302066026205523<br>min_data_in_leaf: 33<br><b>Objective Value: 91621725.8507677</b>\",\"Trial #23<br>num_leaves: 1061<br>lambda_l1: 0.00015355351597731294<br>lambda_l2: 5.745514547546445<br>bagging_fraction: 0.8314527408561924<br>feature_fraction: 0.8031609749541938<br>min_data_in_leaf: 19<br><b>Objective Value: 76399862.09058675</b>\"],\"marker\":{\"color\":[\"rgb(241.0, 250.0, 217.0)\",\"rgb(254.0, 206.0, 127.0)\",\"rgb(255.0, 241.0, 170.0)\",\"rgb(107.0, 163.0, 204.0)\",\"rgb(251.0, 156.0, 89.0)\",\"rgb(49.0, 54.0, 149.0)\",\"rgb(156.0, 205.0, 226.0)\",\"rgb(205.0, 234.0, 243.0)\",\"rgb(239.0, 98.0, 62.0)\",\"rgb(210.0, 44.0, 39.0)\",\"rgb(165.0, 0.0, 38.0)\",\"rgb(67.0, 111.0, 177.0)\"],\"line\":{\"color\":\"Grey\",\"width\":0.5}},\"mode\":\"markers\",\"showlegend\":false,\"x\":[0.7490702918310586,0.942963580124861,0.9475268944322849,0.7464478568892341,0.7759061195202521,0.6931598053620143,0.9642445644501639,0.7967159963062568,0.8361864803282889,0.7382099028236617,0.6302066026205523,0.8031609749541938],\"y\":[0.7490702918310586,0.942963580124861,0.9475268944322849,0.7464478568892341,0.7759061195202521,0.6931598053620143,0.9642445644501639,0.7967159963062568,0.8361864803282889,0.7382099028236617,0.6302066026205523,0.8031609749541938],\"type\":\"scatter\",\"xaxis\":\"x8\",\"yaxis\":\"y8\"},{\"hovertemplate\":\"%{hovertext}<extra></extra>\",\"hovertext\":[\"Trial #0<br>num_leaves: 1439<br>lambda_l1: 0.019278434682866448<br>lambda_l2: 0.0018697723474761<br>bagging_fraction: 0.7163577515278541<br>feature_fraction: 0.7490702918310586<br>min_data_in_leaf: 75<br><b>Objective Value: 80313362.56217991</b>\",\"Trial #1<br>num_leaves: 1265<br>lambda_l1: 7.192128540811753<br>lambda_l2: 4.588164942004746e-05<br>bagging_fraction: 0.8545212440556665<br>feature_fraction: 0.942963580124861<br>min_data_in_leaf: 97<br><b>Objective Value: 82706514.56218801</b>\",\"Trial #2<br>num_leaves: 2116<br>lambda_l1: 1.402671077126005e-05<br>lambda_l2: 0.41577019681393745<br>bagging_fraction: 0.8652197681488225<br>feature_fraction: 0.9475268944322849<br>min_data_in_leaf: 30<br><b>Objective Value: 80454715.72998178</b>\",\"Trial #3<br>num_leaves: 268<br>lambda_l1: 5.91898916675316e-06<br>lambda_l2: 3.63461736652139e-08<br>bagging_fraction: 0.5296948190278132<br>feature_fraction: 0.7464478568892341<br>min_data_in_leaf: 99<br><b>Objective Value: 78247597.28986743</b>\",\"Trial #4<br>num_leaves: 1785<br>lambda_l1: 1.2176606593204724e-08<br>lambda_l2: 6.25276225187146e-05<br>bagging_fraction: 0.8980372193895749<br>feature_fraction: 0.7759061195202521<br>min_data_in_leaf: 88<br><b>Objective Value: 83488654.96000367</b>\",\"Trial #6<br>num_leaves: 2089<br>lambda_l1: 0.0881168631523731<br>lambda_l2: 0.0017629174978789357<br>bagging_fraction: 0.7490233860912122<br>feature_fraction: 0.6931598053620143<br>min_data_in_leaf: 15<br><b>Objective Value: 70140764.70892096</b>\",\"Trial #8<br>num_leaves: 432<br>lambda_l1: 1.4307546018943976e-05<br>lambda_l2: 0.638157926901561<br>bagging_fraction: 0.9624552497583828<br>feature_fraction: 0.9642445644501639<br>min_data_in_leaf: 25<br><b>Objective Value: 79399768.58151218</b>\",\"Trial #11<br>num_leaves: 520<br>lambda_l1: 0.0010134377640697253<br>lambda_l2: 1.3772614935461024e-08<br>bagging_fraction: 0.41452867557838896<br>feature_fraction: 0.7967159963062568<br>min_data_in_leaf: 62<br><b>Objective Value: 79925770.44181032</b>\",\"Trial #15<br>num_leaves: 1885<br>lambda_l1: 0.018892384451899783<br>lambda_l2: 5.067381273777158<br>bagging_fraction: 0.6659463999200744<br>feature_fraction: 0.8361864803282889<br>min_data_in_leaf: 100<br><b>Objective Value: 84277264.00433168</b>\",\"Trial #17<br>num_leaves: 965<br>lambda_l1: 2.3928872957010405e-05<br>lambda_l2: 1.187079924392479e-08<br>bagging_fraction: 0.5118115490578029<br>feature_fraction: 0.7382099028236617<br>min_data_in_leaf: 83<br><b>Objective Value: 87848151.36487645</b>\",\"Trial #20<br>num_leaves: 245<br>lambda_l1: 0.000174754169738027<br>lambda_l2: 0.00040584743230947975<br>bagging_fraction: 0.7529362430858172<br>feature_fraction: 0.6302066026205523<br>min_data_in_leaf: 33<br><b>Objective Value: 91621725.8507677</b>\",\"Trial #23<br>num_leaves: 1061<br>lambda_l1: 0.00015355351597731294<br>lambda_l2: 5.745514547546445<br>bagging_fraction: 0.8314527408561924<br>feature_fraction: 0.8031609749541938<br>min_data_in_leaf: 19<br><b>Objective Value: 76399862.09058675</b>\"],\"marker\":{\"color\":[\"rgb(241.0, 250.0, 217.0)\",\"rgb(254.0, 206.0, 127.0)\",\"rgb(255.0, 241.0, 170.0)\",\"rgb(107.0, 163.0, 204.0)\",\"rgb(251.0, 156.0, 89.0)\",\"rgb(49.0, 54.0, 149.0)\",\"rgb(156.0, 205.0, 226.0)\",\"rgb(205.0, 234.0, 243.0)\",\"rgb(239.0, 98.0, 62.0)\",\"rgb(210.0, 44.0, 39.0)\",\"rgb(165.0, 0.0, 38.0)\",\"rgb(67.0, 111.0, 177.0)\"],\"line\":{\"color\":\"Grey\",\"width\":0.5}},\"mode\":\"markers\",\"showlegend\":false,\"x\":[0.7490702918310586,0.942963580124861,0.9475268944322849,0.7464478568892341,0.7759061195202521,0.6931598053620143,0.9642445644501639,0.7967159963062568,0.8361864803282889,0.7382099028236617,0.6302066026205523,0.8031609749541938],\"y\":[0.019278434682866448,7.192128540811753,1.402671077126005e-05,5.91898916675316e-06,1.2176606593204724e-08,0.0881168631523731,1.4307546018943976e-05,0.0010134377640697253,0.018892384451899783,2.3928872957010405e-05,0.000174754169738027,0.00015355351597731294],\"type\":\"scatter\",\"xaxis\":\"x14\",\"yaxis\":\"y14\"},{\"hovertemplate\":\"%{hovertext}<extra></extra>\",\"hovertext\":[\"Trial #0<br>num_leaves: 1439<br>lambda_l1: 0.019278434682866448<br>lambda_l2: 0.0018697723474761<br>bagging_fraction: 0.7163577515278541<br>feature_fraction: 0.7490702918310586<br>min_data_in_leaf: 75<br><b>Objective Value: 80313362.56217991</b>\",\"Trial #1<br>num_leaves: 1265<br>lambda_l1: 7.192128540811753<br>lambda_l2: 4.588164942004746e-05<br>bagging_fraction: 0.8545212440556665<br>feature_fraction: 0.942963580124861<br>min_data_in_leaf: 97<br><b>Objective Value: 82706514.56218801</b>\",\"Trial #2<br>num_leaves: 2116<br>lambda_l1: 1.402671077126005e-05<br>lambda_l2: 0.41577019681393745<br>bagging_fraction: 0.8652197681488225<br>feature_fraction: 0.9475268944322849<br>min_data_in_leaf: 30<br><b>Objective Value: 80454715.72998178</b>\",\"Trial #3<br>num_leaves: 268<br>lambda_l1: 5.91898916675316e-06<br>lambda_l2: 3.63461736652139e-08<br>bagging_fraction: 0.5296948190278132<br>feature_fraction: 0.7464478568892341<br>min_data_in_leaf: 99<br><b>Objective Value: 78247597.28986743</b>\",\"Trial #4<br>num_leaves: 1785<br>lambda_l1: 1.2176606593204724e-08<br>lambda_l2: 6.25276225187146e-05<br>bagging_fraction: 0.8980372193895749<br>feature_fraction: 0.7759061195202521<br>min_data_in_leaf: 88<br><b>Objective Value: 83488654.96000367</b>\",\"Trial #6<br>num_leaves: 2089<br>lambda_l1: 0.0881168631523731<br>lambda_l2: 0.0017629174978789357<br>bagging_fraction: 0.7490233860912122<br>feature_fraction: 0.6931598053620143<br>min_data_in_leaf: 15<br><b>Objective Value: 70140764.70892096</b>\",\"Trial #8<br>num_leaves: 432<br>lambda_l1: 1.4307546018943976e-05<br>lambda_l2: 0.638157926901561<br>bagging_fraction: 0.9624552497583828<br>feature_fraction: 0.9642445644501639<br>min_data_in_leaf: 25<br><b>Objective Value: 79399768.58151218</b>\",\"Trial #11<br>num_leaves: 520<br>lambda_l1: 0.0010134377640697253<br>lambda_l2: 1.3772614935461024e-08<br>bagging_fraction: 0.41452867557838896<br>feature_fraction: 0.7967159963062568<br>min_data_in_leaf: 62<br><b>Objective Value: 79925770.44181032</b>\",\"Trial #15<br>num_leaves: 1885<br>lambda_l1: 0.018892384451899783<br>lambda_l2: 5.067381273777158<br>bagging_fraction: 0.6659463999200744<br>feature_fraction: 0.8361864803282889<br>min_data_in_leaf: 100<br><b>Objective Value: 84277264.00433168</b>\",\"Trial #17<br>num_leaves: 965<br>lambda_l1: 2.3928872957010405e-05<br>lambda_l2: 1.187079924392479e-08<br>bagging_fraction: 0.5118115490578029<br>feature_fraction: 0.7382099028236617<br>min_data_in_leaf: 83<br><b>Objective Value: 87848151.36487645</b>\",\"Trial #20<br>num_leaves: 245<br>lambda_l1: 0.000174754169738027<br>lambda_l2: 0.00040584743230947975<br>bagging_fraction: 0.7529362430858172<br>feature_fraction: 0.6302066026205523<br>min_data_in_leaf: 33<br><b>Objective Value: 91621725.8507677</b>\",\"Trial #23<br>num_leaves: 1061<br>lambda_l1: 0.00015355351597731294<br>lambda_l2: 5.745514547546445<br>bagging_fraction: 0.8314527408561924<br>feature_fraction: 0.8031609749541938<br>min_data_in_leaf: 19<br><b>Objective Value: 76399862.09058675</b>\"],\"marker\":{\"color\":[\"rgb(241.0, 250.0, 217.0)\",\"rgb(254.0, 206.0, 127.0)\",\"rgb(255.0, 241.0, 170.0)\",\"rgb(107.0, 163.0, 204.0)\",\"rgb(251.0, 156.0, 89.0)\",\"rgb(49.0, 54.0, 149.0)\",\"rgb(156.0, 205.0, 226.0)\",\"rgb(205.0, 234.0, 243.0)\",\"rgb(239.0, 98.0, 62.0)\",\"rgb(210.0, 44.0, 39.0)\",\"rgb(165.0, 0.0, 38.0)\",\"rgb(67.0, 111.0, 177.0)\"],\"line\":{\"color\":\"Grey\",\"width\":0.5}},\"mode\":\"markers\",\"showlegend\":false,\"x\":[0.7490702918310586,0.942963580124861,0.9475268944322849,0.7464478568892341,0.7759061195202521,0.6931598053620143,0.9642445644501639,0.7967159963062568,0.8361864803282889,0.7382099028236617,0.6302066026205523,0.8031609749541938],\"y\":[0.0018697723474761,4.588164942004746e-05,0.41577019681393745,3.63461736652139e-08,6.25276225187146e-05,0.0017629174978789357,0.638157926901561,1.3772614935461024e-08,5.067381273777158,1.187079924392479e-08,0.00040584743230947975,5.745514547546445],\"type\":\"scatter\",\"xaxis\":\"x20\",\"yaxis\":\"y20\"},{\"hovertemplate\":\"%{hovertext}<extra></extra>\",\"hovertext\":[\"Trial #0<br>num_leaves: 1439<br>lambda_l1: 0.019278434682866448<br>lambda_l2: 0.0018697723474761<br>bagging_fraction: 0.7163577515278541<br>feature_fraction: 0.7490702918310586<br>min_data_in_leaf: 75<br><b>Objective Value: 80313362.56217991</b>\",\"Trial #1<br>num_leaves: 1265<br>lambda_l1: 7.192128540811753<br>lambda_l2: 4.588164942004746e-05<br>bagging_fraction: 0.8545212440556665<br>feature_fraction: 0.942963580124861<br>min_data_in_leaf: 97<br><b>Objective Value: 82706514.56218801</b>\",\"Trial #2<br>num_leaves: 2116<br>lambda_l1: 1.402671077126005e-05<br>lambda_l2: 0.41577019681393745<br>bagging_fraction: 0.8652197681488225<br>feature_fraction: 0.9475268944322849<br>min_data_in_leaf: 30<br><b>Objective Value: 80454715.72998178</b>\",\"Trial #3<br>num_leaves: 268<br>lambda_l1: 5.91898916675316e-06<br>lambda_l2: 3.63461736652139e-08<br>bagging_fraction: 0.5296948190278132<br>feature_fraction: 0.7464478568892341<br>min_data_in_leaf: 99<br><b>Objective Value: 78247597.28986743</b>\",\"Trial #4<br>num_leaves: 1785<br>lambda_l1: 1.2176606593204724e-08<br>lambda_l2: 6.25276225187146e-05<br>bagging_fraction: 0.8980372193895749<br>feature_fraction: 0.7759061195202521<br>min_data_in_leaf: 88<br><b>Objective Value: 83488654.96000367</b>\",\"Trial #6<br>num_leaves: 2089<br>lambda_l1: 0.0881168631523731<br>lambda_l2: 0.0017629174978789357<br>bagging_fraction: 0.7490233860912122<br>feature_fraction: 0.6931598053620143<br>min_data_in_leaf: 15<br><b>Objective Value: 70140764.70892096</b>\",\"Trial #8<br>num_leaves: 432<br>lambda_l1: 1.4307546018943976e-05<br>lambda_l2: 0.638157926901561<br>bagging_fraction: 0.9624552497583828<br>feature_fraction: 0.9642445644501639<br>min_data_in_leaf: 25<br><b>Objective Value: 79399768.58151218</b>\",\"Trial #11<br>num_leaves: 520<br>lambda_l1: 0.0010134377640697253<br>lambda_l2: 1.3772614935461024e-08<br>bagging_fraction: 0.41452867557838896<br>feature_fraction: 0.7967159963062568<br>min_data_in_leaf: 62<br><b>Objective Value: 79925770.44181032</b>\",\"Trial #15<br>num_leaves: 1885<br>lambda_l1: 0.018892384451899783<br>lambda_l2: 5.067381273777158<br>bagging_fraction: 0.6659463999200744<br>feature_fraction: 0.8361864803282889<br>min_data_in_leaf: 100<br><b>Objective Value: 84277264.00433168</b>\",\"Trial #17<br>num_leaves: 965<br>lambda_l1: 2.3928872957010405e-05<br>lambda_l2: 1.187079924392479e-08<br>bagging_fraction: 0.5118115490578029<br>feature_fraction: 0.7382099028236617<br>min_data_in_leaf: 83<br><b>Objective Value: 87848151.36487645</b>\",\"Trial #20<br>num_leaves: 245<br>lambda_l1: 0.000174754169738027<br>lambda_l2: 0.00040584743230947975<br>bagging_fraction: 0.7529362430858172<br>feature_fraction: 0.6302066026205523<br>min_data_in_leaf: 33<br><b>Objective Value: 91621725.8507677</b>\",\"Trial #23<br>num_leaves: 1061<br>lambda_l1: 0.00015355351597731294<br>lambda_l2: 5.745514547546445<br>bagging_fraction: 0.8314527408561924<br>feature_fraction: 0.8031609749541938<br>min_data_in_leaf: 19<br><b>Objective Value: 76399862.09058675</b>\"],\"marker\":{\"color\":[\"rgb(241.0, 250.0, 217.0)\",\"rgb(254.0, 206.0, 127.0)\",\"rgb(255.0, 241.0, 170.0)\",\"rgb(107.0, 163.0, 204.0)\",\"rgb(251.0, 156.0, 89.0)\",\"rgb(49.0, 54.0, 149.0)\",\"rgb(156.0, 205.0, 226.0)\",\"rgb(205.0, 234.0, 243.0)\",\"rgb(239.0, 98.0, 62.0)\",\"rgb(210.0, 44.0, 39.0)\",\"rgb(165.0, 0.0, 38.0)\",\"rgb(67.0, 111.0, 177.0)\"],\"line\":{\"color\":\"Grey\",\"width\":0.5}},\"mode\":\"markers\",\"showlegend\":false,\"x\":[0.7490702918310586,0.942963580124861,0.9475268944322849,0.7464478568892341,0.7759061195202521,0.6931598053620143,0.9642445644501639,0.7967159963062568,0.8361864803282889,0.7382099028236617,0.6302066026205523,0.8031609749541938],\"y\":[75,97,30,99,88,15,25,62,100,83,33,19],\"type\":\"scatter\",\"xaxis\":\"x26\",\"yaxis\":\"y26\"},{\"hovertemplate\":\"%{hovertext}<extra></extra>\",\"hovertext\":[\"Trial #0<br>num_leaves: 1439<br>lambda_l1: 0.019278434682866448<br>lambda_l2: 0.0018697723474761<br>bagging_fraction: 0.7163577515278541<br>feature_fraction: 0.7490702918310586<br>min_data_in_leaf: 75<br><b>Objective Value: 80313362.56217991</b>\",\"Trial #1<br>num_leaves: 1265<br>lambda_l1: 7.192128540811753<br>lambda_l2: 4.588164942004746e-05<br>bagging_fraction: 0.8545212440556665<br>feature_fraction: 0.942963580124861<br>min_data_in_leaf: 97<br><b>Objective Value: 82706514.56218801</b>\",\"Trial #2<br>num_leaves: 2116<br>lambda_l1: 1.402671077126005e-05<br>lambda_l2: 0.41577019681393745<br>bagging_fraction: 0.8652197681488225<br>feature_fraction: 0.9475268944322849<br>min_data_in_leaf: 30<br><b>Objective Value: 80454715.72998178</b>\",\"Trial #3<br>num_leaves: 268<br>lambda_l1: 5.91898916675316e-06<br>lambda_l2: 3.63461736652139e-08<br>bagging_fraction: 0.5296948190278132<br>feature_fraction: 0.7464478568892341<br>min_data_in_leaf: 99<br><b>Objective Value: 78247597.28986743</b>\",\"Trial #4<br>num_leaves: 1785<br>lambda_l1: 1.2176606593204724e-08<br>lambda_l2: 6.25276225187146e-05<br>bagging_fraction: 0.8980372193895749<br>feature_fraction: 0.7759061195202521<br>min_data_in_leaf: 88<br><b>Objective Value: 83488654.96000367</b>\",\"Trial #6<br>num_leaves: 2089<br>lambda_l1: 0.0881168631523731<br>lambda_l2: 0.0017629174978789357<br>bagging_fraction: 0.7490233860912122<br>feature_fraction: 0.6931598053620143<br>min_data_in_leaf: 15<br><b>Objective Value: 70140764.70892096</b>\",\"Trial #8<br>num_leaves: 432<br>lambda_l1: 1.4307546018943976e-05<br>lambda_l2: 0.638157926901561<br>bagging_fraction: 0.9624552497583828<br>feature_fraction: 0.9642445644501639<br>min_data_in_leaf: 25<br><b>Objective Value: 79399768.58151218</b>\",\"Trial #11<br>num_leaves: 520<br>lambda_l1: 0.0010134377640697253<br>lambda_l2: 1.3772614935461024e-08<br>bagging_fraction: 0.41452867557838896<br>feature_fraction: 0.7967159963062568<br>min_data_in_leaf: 62<br><b>Objective Value: 79925770.44181032</b>\",\"Trial #15<br>num_leaves: 1885<br>lambda_l1: 0.018892384451899783<br>lambda_l2: 5.067381273777158<br>bagging_fraction: 0.6659463999200744<br>feature_fraction: 0.8361864803282889<br>min_data_in_leaf: 100<br><b>Objective Value: 84277264.00433168</b>\",\"Trial #17<br>num_leaves: 965<br>lambda_l1: 2.3928872957010405e-05<br>lambda_l2: 1.187079924392479e-08<br>bagging_fraction: 0.5118115490578029<br>feature_fraction: 0.7382099028236617<br>min_data_in_leaf: 83<br><b>Objective Value: 87848151.36487645</b>\",\"Trial #20<br>num_leaves: 245<br>lambda_l1: 0.000174754169738027<br>lambda_l2: 0.00040584743230947975<br>bagging_fraction: 0.7529362430858172<br>feature_fraction: 0.6302066026205523<br>min_data_in_leaf: 33<br><b>Objective Value: 91621725.8507677</b>\",\"Trial #23<br>num_leaves: 1061<br>lambda_l1: 0.00015355351597731294<br>lambda_l2: 5.745514547546445<br>bagging_fraction: 0.8314527408561924<br>feature_fraction: 0.8031609749541938<br>min_data_in_leaf: 19<br><b>Objective Value: 76399862.09058675</b>\"],\"marker\":{\"color\":[\"rgb(241.0, 250.0, 217.0)\",\"rgb(254.0, 206.0, 127.0)\",\"rgb(255.0, 241.0, 170.0)\",\"rgb(107.0, 163.0, 204.0)\",\"rgb(251.0, 156.0, 89.0)\",\"rgb(49.0, 54.0, 149.0)\",\"rgb(156.0, 205.0, 226.0)\",\"rgb(205.0, 234.0, 243.0)\",\"rgb(239.0, 98.0, 62.0)\",\"rgb(210.0, 44.0, 39.0)\",\"rgb(165.0, 0.0, 38.0)\",\"rgb(67.0, 111.0, 177.0)\"],\"line\":{\"color\":\"Grey\",\"width\":0.5}},\"mode\":\"markers\",\"showlegend\":false,\"x\":[0.7490702918310586,0.942963580124861,0.9475268944322849,0.7464478568892341,0.7759061195202521,0.6931598053620143,0.9642445644501639,0.7967159963062568,0.8361864803282889,0.7382099028236617,0.6302066026205523,0.8031609749541938],\"y\":[1439,1265,2116,268,1785,2089,432,520,1885,965,245,1061],\"type\":\"scatter\",\"xaxis\":\"x32\",\"yaxis\":\"y32\"},{\"hovertemplate\":\"%{hovertext}<extra></extra>\",\"hovertext\":[\"Trial #0<br>num_leaves: 1439<br>lambda_l1: 0.019278434682866448<br>lambda_l2: 0.0018697723474761<br>bagging_fraction: 0.7163577515278541<br>feature_fraction: 0.7490702918310586<br>min_data_in_leaf: 75<br><b>Objective Value: 80313362.56217991</b>\",\"Trial #1<br>num_leaves: 1265<br>lambda_l1: 7.192128540811753<br>lambda_l2: 4.588164942004746e-05<br>bagging_fraction: 0.8545212440556665<br>feature_fraction: 0.942963580124861<br>min_data_in_leaf: 97<br><b>Objective Value: 82706514.56218801</b>\",\"Trial #2<br>num_leaves: 2116<br>lambda_l1: 1.402671077126005e-05<br>lambda_l2: 0.41577019681393745<br>bagging_fraction: 0.8652197681488225<br>feature_fraction: 0.9475268944322849<br>min_data_in_leaf: 30<br><b>Objective Value: 80454715.72998178</b>\",\"Trial #3<br>num_leaves: 268<br>lambda_l1: 5.91898916675316e-06<br>lambda_l2: 3.63461736652139e-08<br>bagging_fraction: 0.5296948190278132<br>feature_fraction: 0.7464478568892341<br>min_data_in_leaf: 99<br><b>Objective Value: 78247597.28986743</b>\",\"Trial #4<br>num_leaves: 1785<br>lambda_l1: 1.2176606593204724e-08<br>lambda_l2: 6.25276225187146e-05<br>bagging_fraction: 0.8980372193895749<br>feature_fraction: 0.7759061195202521<br>min_data_in_leaf: 88<br><b>Objective Value: 83488654.96000367</b>\",\"Trial #6<br>num_leaves: 2089<br>lambda_l1: 0.0881168631523731<br>lambda_l2: 0.0017629174978789357<br>bagging_fraction: 0.7490233860912122<br>feature_fraction: 0.6931598053620143<br>min_data_in_leaf: 15<br><b>Objective Value: 70140764.70892096</b>\",\"Trial #8<br>num_leaves: 432<br>lambda_l1: 1.4307546018943976e-05<br>lambda_l2: 0.638157926901561<br>bagging_fraction: 0.9624552497583828<br>feature_fraction: 0.9642445644501639<br>min_data_in_leaf: 25<br><b>Objective Value: 79399768.58151218</b>\",\"Trial #11<br>num_leaves: 520<br>lambda_l1: 0.0010134377640697253<br>lambda_l2: 1.3772614935461024e-08<br>bagging_fraction: 0.41452867557838896<br>feature_fraction: 0.7967159963062568<br>min_data_in_leaf: 62<br><b>Objective Value: 79925770.44181032</b>\",\"Trial #15<br>num_leaves: 1885<br>lambda_l1: 0.018892384451899783<br>lambda_l2: 5.067381273777158<br>bagging_fraction: 0.6659463999200744<br>feature_fraction: 0.8361864803282889<br>min_data_in_leaf: 100<br><b>Objective Value: 84277264.00433168</b>\",\"Trial #17<br>num_leaves: 965<br>lambda_l1: 2.3928872957010405e-05<br>lambda_l2: 1.187079924392479e-08<br>bagging_fraction: 0.5118115490578029<br>feature_fraction: 0.7382099028236617<br>min_data_in_leaf: 83<br><b>Objective Value: 87848151.36487645</b>\",\"Trial #20<br>num_leaves: 245<br>lambda_l1: 0.000174754169738027<br>lambda_l2: 0.00040584743230947975<br>bagging_fraction: 0.7529362430858172<br>feature_fraction: 0.6302066026205523<br>min_data_in_leaf: 33<br><b>Objective Value: 91621725.8507677</b>\",\"Trial #23<br>num_leaves: 1061<br>lambda_l1: 0.00015355351597731294<br>lambda_l2: 5.745514547546445<br>bagging_fraction: 0.8314527408561924<br>feature_fraction: 0.8031609749541938<br>min_data_in_leaf: 19<br><b>Objective Value: 76399862.09058675</b>\"],\"marker\":{\"color\":[\"rgb(241.0, 250.0, 217.0)\",\"rgb(254.0, 206.0, 127.0)\",\"rgb(255.0, 241.0, 170.0)\",\"rgb(107.0, 163.0, 204.0)\",\"rgb(251.0, 156.0, 89.0)\",\"rgb(49.0, 54.0, 149.0)\",\"rgb(156.0, 205.0, 226.0)\",\"rgb(205.0, 234.0, 243.0)\",\"rgb(239.0, 98.0, 62.0)\",\"rgb(210.0, 44.0, 39.0)\",\"rgb(165.0, 0.0, 38.0)\",\"rgb(67.0, 111.0, 177.0)\"],\"line\":{\"color\":\"Grey\",\"width\":0.5}},\"mode\":\"markers\",\"showlegend\":false,\"x\":[0.019278434682866448,7.192128540811753,1.402671077126005e-05,5.91898916675316e-06,1.2176606593204724e-08,0.0881168631523731,1.4307546018943976e-05,0.0010134377640697253,0.018892384451899783,2.3928872957010405e-05,0.000174754169738027,0.00015355351597731294],\"y\":[0.7163577515278541,0.8545212440556665,0.8652197681488225,0.5296948190278132,0.8980372193895749,0.7490233860912122,0.9624552497583828,0.41452867557838896,0.6659463999200744,0.5118115490578029,0.7529362430858172,0.8314527408561924],\"type\":\"scatter\",\"xaxis\":\"x3\",\"yaxis\":\"y3\"},{\"hovertemplate\":\"%{hovertext}<extra></extra>\",\"hovertext\":[\"Trial #0<br>num_leaves: 1439<br>lambda_l1: 0.019278434682866448<br>lambda_l2: 0.0018697723474761<br>bagging_fraction: 0.7163577515278541<br>feature_fraction: 0.7490702918310586<br>min_data_in_leaf: 75<br><b>Objective Value: 80313362.56217991</b>\",\"Trial #1<br>num_leaves: 1265<br>lambda_l1: 7.192128540811753<br>lambda_l2: 4.588164942004746e-05<br>bagging_fraction: 0.8545212440556665<br>feature_fraction: 0.942963580124861<br>min_data_in_leaf: 97<br><b>Objective Value: 82706514.56218801</b>\",\"Trial #2<br>num_leaves: 2116<br>lambda_l1: 1.402671077126005e-05<br>lambda_l2: 0.41577019681393745<br>bagging_fraction: 0.8652197681488225<br>feature_fraction: 0.9475268944322849<br>min_data_in_leaf: 30<br><b>Objective Value: 80454715.72998178</b>\",\"Trial #3<br>num_leaves: 268<br>lambda_l1: 5.91898916675316e-06<br>lambda_l2: 3.63461736652139e-08<br>bagging_fraction: 0.5296948190278132<br>feature_fraction: 0.7464478568892341<br>min_data_in_leaf: 99<br><b>Objective Value: 78247597.28986743</b>\",\"Trial #4<br>num_leaves: 1785<br>lambda_l1: 1.2176606593204724e-08<br>lambda_l2: 6.25276225187146e-05<br>bagging_fraction: 0.8980372193895749<br>feature_fraction: 0.7759061195202521<br>min_data_in_leaf: 88<br><b>Objective Value: 83488654.96000367</b>\",\"Trial #6<br>num_leaves: 2089<br>lambda_l1: 0.0881168631523731<br>lambda_l2: 0.0017629174978789357<br>bagging_fraction: 0.7490233860912122<br>feature_fraction: 0.6931598053620143<br>min_data_in_leaf: 15<br><b>Objective Value: 70140764.70892096</b>\",\"Trial #8<br>num_leaves: 432<br>lambda_l1: 1.4307546018943976e-05<br>lambda_l2: 0.638157926901561<br>bagging_fraction: 0.9624552497583828<br>feature_fraction: 0.9642445644501639<br>min_data_in_leaf: 25<br><b>Objective Value: 79399768.58151218</b>\",\"Trial #11<br>num_leaves: 520<br>lambda_l1: 0.0010134377640697253<br>lambda_l2: 1.3772614935461024e-08<br>bagging_fraction: 0.41452867557838896<br>feature_fraction: 0.7967159963062568<br>min_data_in_leaf: 62<br><b>Objective Value: 79925770.44181032</b>\",\"Trial #15<br>num_leaves: 1885<br>lambda_l1: 0.018892384451899783<br>lambda_l2: 5.067381273777158<br>bagging_fraction: 0.6659463999200744<br>feature_fraction: 0.8361864803282889<br>min_data_in_leaf: 100<br><b>Objective Value: 84277264.00433168</b>\",\"Trial #17<br>num_leaves: 965<br>lambda_l1: 2.3928872957010405e-05<br>lambda_l2: 1.187079924392479e-08<br>bagging_fraction: 0.5118115490578029<br>feature_fraction: 0.7382099028236617<br>min_data_in_leaf: 83<br><b>Objective Value: 87848151.36487645</b>\",\"Trial #20<br>num_leaves: 245<br>lambda_l1: 0.000174754169738027<br>lambda_l2: 0.00040584743230947975<br>bagging_fraction: 0.7529362430858172<br>feature_fraction: 0.6302066026205523<br>min_data_in_leaf: 33<br><b>Objective Value: 91621725.8507677</b>\",\"Trial #23<br>num_leaves: 1061<br>lambda_l1: 0.00015355351597731294<br>lambda_l2: 5.745514547546445<br>bagging_fraction: 0.8314527408561924<br>feature_fraction: 0.8031609749541938<br>min_data_in_leaf: 19<br><b>Objective Value: 76399862.09058675</b>\"],\"marker\":{\"color\":[\"rgb(241.0, 250.0, 217.0)\",\"rgb(254.0, 206.0, 127.0)\",\"rgb(255.0, 241.0, 170.0)\",\"rgb(107.0, 163.0, 204.0)\",\"rgb(251.0, 156.0, 89.0)\",\"rgb(49.0, 54.0, 149.0)\",\"rgb(156.0, 205.0, 226.0)\",\"rgb(205.0, 234.0, 243.0)\",\"rgb(239.0, 98.0, 62.0)\",\"rgb(210.0, 44.0, 39.0)\",\"rgb(165.0, 0.0, 38.0)\",\"rgb(67.0, 111.0, 177.0)\"],\"line\":{\"color\":\"Grey\",\"width\":0.5}},\"mode\":\"markers\",\"showlegend\":false,\"x\":[0.019278434682866448,7.192128540811753,1.402671077126005e-05,5.91898916675316e-06,1.2176606593204724e-08,0.0881168631523731,1.4307546018943976e-05,0.0010134377640697253,0.018892384451899783,2.3928872957010405e-05,0.000174754169738027,0.00015355351597731294],\"y\":[0.7490702918310586,0.942963580124861,0.9475268944322849,0.7464478568892341,0.7759061195202521,0.6931598053620143,0.9642445644501639,0.7967159963062568,0.8361864803282889,0.7382099028236617,0.6302066026205523,0.8031609749541938],\"type\":\"scatter\",\"xaxis\":\"x9\",\"yaxis\":\"y9\"},{\"hovertemplate\":\"%{hovertext}<extra></extra>\",\"hovertext\":[\"Trial #0<br>num_leaves: 1439<br>lambda_l1: 0.019278434682866448<br>lambda_l2: 0.0018697723474761<br>bagging_fraction: 0.7163577515278541<br>feature_fraction: 0.7490702918310586<br>min_data_in_leaf: 75<br><b>Objective Value: 80313362.56217991</b>\",\"Trial #1<br>num_leaves: 1265<br>lambda_l1: 7.192128540811753<br>lambda_l2: 4.588164942004746e-05<br>bagging_fraction: 0.8545212440556665<br>feature_fraction: 0.942963580124861<br>min_data_in_leaf: 97<br><b>Objective Value: 82706514.56218801</b>\",\"Trial #2<br>num_leaves: 2116<br>lambda_l1: 1.402671077126005e-05<br>lambda_l2: 0.41577019681393745<br>bagging_fraction: 0.8652197681488225<br>feature_fraction: 0.9475268944322849<br>min_data_in_leaf: 30<br><b>Objective Value: 80454715.72998178</b>\",\"Trial #3<br>num_leaves: 268<br>lambda_l1: 5.91898916675316e-06<br>lambda_l2: 3.63461736652139e-08<br>bagging_fraction: 0.5296948190278132<br>feature_fraction: 0.7464478568892341<br>min_data_in_leaf: 99<br><b>Objective Value: 78247597.28986743</b>\",\"Trial #4<br>num_leaves: 1785<br>lambda_l1: 1.2176606593204724e-08<br>lambda_l2: 6.25276225187146e-05<br>bagging_fraction: 0.8980372193895749<br>feature_fraction: 0.7759061195202521<br>min_data_in_leaf: 88<br><b>Objective Value: 83488654.96000367</b>\",\"Trial #6<br>num_leaves: 2089<br>lambda_l1: 0.0881168631523731<br>lambda_l2: 0.0017629174978789357<br>bagging_fraction: 0.7490233860912122<br>feature_fraction: 0.6931598053620143<br>min_data_in_leaf: 15<br><b>Objective Value: 70140764.70892096</b>\",\"Trial #8<br>num_leaves: 432<br>lambda_l1: 1.4307546018943976e-05<br>lambda_l2: 0.638157926901561<br>bagging_fraction: 0.9624552497583828<br>feature_fraction: 0.9642445644501639<br>min_data_in_leaf: 25<br><b>Objective Value: 79399768.58151218</b>\",\"Trial #11<br>num_leaves: 520<br>lambda_l1: 0.0010134377640697253<br>lambda_l2: 1.3772614935461024e-08<br>bagging_fraction: 0.41452867557838896<br>feature_fraction: 0.7967159963062568<br>min_data_in_leaf: 62<br><b>Objective Value: 79925770.44181032</b>\",\"Trial #15<br>num_leaves: 1885<br>lambda_l1: 0.018892384451899783<br>lambda_l2: 5.067381273777158<br>bagging_fraction: 0.6659463999200744<br>feature_fraction: 0.8361864803282889<br>min_data_in_leaf: 100<br><b>Objective Value: 84277264.00433168</b>\",\"Trial #17<br>num_leaves: 965<br>lambda_l1: 2.3928872957010405e-05<br>lambda_l2: 1.187079924392479e-08<br>bagging_fraction: 0.5118115490578029<br>feature_fraction: 0.7382099028236617<br>min_data_in_leaf: 83<br><b>Objective Value: 87848151.36487645</b>\",\"Trial #20<br>num_leaves: 245<br>lambda_l1: 0.000174754169738027<br>lambda_l2: 0.00040584743230947975<br>bagging_fraction: 0.7529362430858172<br>feature_fraction: 0.6302066026205523<br>min_data_in_leaf: 33<br><b>Objective Value: 91621725.8507677</b>\",\"Trial #23<br>num_leaves: 1061<br>lambda_l1: 0.00015355351597731294<br>lambda_l2: 5.745514547546445<br>bagging_fraction: 0.8314527408561924<br>feature_fraction: 0.8031609749541938<br>min_data_in_leaf: 19<br><b>Objective Value: 76399862.09058675</b>\"],\"marker\":{\"color\":[\"rgb(241.0, 250.0, 217.0)\",\"rgb(254.0, 206.0, 127.0)\",\"rgb(255.0, 241.0, 170.0)\",\"rgb(107.0, 163.0, 204.0)\",\"rgb(251.0, 156.0, 89.0)\",\"rgb(49.0, 54.0, 149.0)\",\"rgb(156.0, 205.0, 226.0)\",\"rgb(205.0, 234.0, 243.0)\",\"rgb(239.0, 98.0, 62.0)\",\"rgb(210.0, 44.0, 39.0)\",\"rgb(165.0, 0.0, 38.0)\",\"rgb(67.0, 111.0, 177.0)\"],\"line\":{\"color\":\"Grey\",\"width\":0.5}},\"mode\":\"markers\",\"showlegend\":false,\"x\":[0.019278434682866448,7.192128540811753,1.402671077126005e-05,5.91898916675316e-06,1.2176606593204724e-08,0.0881168631523731,1.4307546018943976e-05,0.0010134377640697253,0.018892384451899783,2.3928872957010405e-05,0.000174754169738027,0.00015355351597731294],\"y\":[0.019278434682866448,7.192128540811753,1.402671077126005e-05,5.91898916675316e-06,1.2176606593204724e-08,0.0881168631523731,1.4307546018943976e-05,0.0010134377640697253,0.018892384451899783,2.3928872957010405e-05,0.000174754169738027,0.00015355351597731294],\"type\":\"scatter\",\"xaxis\":\"x15\",\"yaxis\":\"y15\"},{\"hovertemplate\":\"%{hovertext}<extra></extra>\",\"hovertext\":[\"Trial #0<br>num_leaves: 1439<br>lambda_l1: 0.019278434682866448<br>lambda_l2: 0.0018697723474761<br>bagging_fraction: 0.7163577515278541<br>feature_fraction: 0.7490702918310586<br>min_data_in_leaf: 75<br><b>Objective Value: 80313362.56217991</b>\",\"Trial #1<br>num_leaves: 1265<br>lambda_l1: 7.192128540811753<br>lambda_l2: 4.588164942004746e-05<br>bagging_fraction: 0.8545212440556665<br>feature_fraction: 0.942963580124861<br>min_data_in_leaf: 97<br><b>Objective Value: 82706514.56218801</b>\",\"Trial #2<br>num_leaves: 2116<br>lambda_l1: 1.402671077126005e-05<br>lambda_l2: 0.41577019681393745<br>bagging_fraction: 0.8652197681488225<br>feature_fraction: 0.9475268944322849<br>min_data_in_leaf: 30<br><b>Objective Value: 80454715.72998178</b>\",\"Trial #3<br>num_leaves: 268<br>lambda_l1: 5.91898916675316e-06<br>lambda_l2: 3.63461736652139e-08<br>bagging_fraction: 0.5296948190278132<br>feature_fraction: 0.7464478568892341<br>min_data_in_leaf: 99<br><b>Objective Value: 78247597.28986743</b>\",\"Trial #4<br>num_leaves: 1785<br>lambda_l1: 1.2176606593204724e-08<br>lambda_l2: 6.25276225187146e-05<br>bagging_fraction: 0.8980372193895749<br>feature_fraction: 0.7759061195202521<br>min_data_in_leaf: 88<br><b>Objective Value: 83488654.96000367</b>\",\"Trial #6<br>num_leaves: 2089<br>lambda_l1: 0.0881168631523731<br>lambda_l2: 0.0017629174978789357<br>bagging_fraction: 0.7490233860912122<br>feature_fraction: 0.6931598053620143<br>min_data_in_leaf: 15<br><b>Objective Value: 70140764.70892096</b>\",\"Trial #8<br>num_leaves: 432<br>lambda_l1: 1.4307546018943976e-05<br>lambda_l2: 0.638157926901561<br>bagging_fraction: 0.9624552497583828<br>feature_fraction: 0.9642445644501639<br>min_data_in_leaf: 25<br><b>Objective Value: 79399768.58151218</b>\",\"Trial #11<br>num_leaves: 520<br>lambda_l1: 0.0010134377640697253<br>lambda_l2: 1.3772614935461024e-08<br>bagging_fraction: 0.41452867557838896<br>feature_fraction: 0.7967159963062568<br>min_data_in_leaf: 62<br><b>Objective Value: 79925770.44181032</b>\",\"Trial #15<br>num_leaves: 1885<br>lambda_l1: 0.018892384451899783<br>lambda_l2: 5.067381273777158<br>bagging_fraction: 0.6659463999200744<br>feature_fraction: 0.8361864803282889<br>min_data_in_leaf: 100<br><b>Objective Value: 84277264.00433168</b>\",\"Trial #17<br>num_leaves: 965<br>lambda_l1: 2.3928872957010405e-05<br>lambda_l2: 1.187079924392479e-08<br>bagging_fraction: 0.5118115490578029<br>feature_fraction: 0.7382099028236617<br>min_data_in_leaf: 83<br><b>Objective Value: 87848151.36487645</b>\",\"Trial #20<br>num_leaves: 245<br>lambda_l1: 0.000174754169738027<br>lambda_l2: 0.00040584743230947975<br>bagging_fraction: 0.7529362430858172<br>feature_fraction: 0.6302066026205523<br>min_data_in_leaf: 33<br><b>Objective Value: 91621725.8507677</b>\",\"Trial #23<br>num_leaves: 1061<br>lambda_l1: 0.00015355351597731294<br>lambda_l2: 5.745514547546445<br>bagging_fraction: 0.8314527408561924<br>feature_fraction: 0.8031609749541938<br>min_data_in_leaf: 19<br><b>Objective Value: 76399862.09058675</b>\"],\"marker\":{\"color\":[\"rgb(241.0, 250.0, 217.0)\",\"rgb(254.0, 206.0, 127.0)\",\"rgb(255.0, 241.0, 170.0)\",\"rgb(107.0, 163.0, 204.0)\",\"rgb(251.0, 156.0, 89.0)\",\"rgb(49.0, 54.0, 149.0)\",\"rgb(156.0, 205.0, 226.0)\",\"rgb(205.0, 234.0, 243.0)\",\"rgb(239.0, 98.0, 62.0)\",\"rgb(210.0, 44.0, 39.0)\",\"rgb(165.0, 0.0, 38.0)\",\"rgb(67.0, 111.0, 177.0)\"],\"line\":{\"color\":\"Grey\",\"width\":0.5}},\"mode\":\"markers\",\"showlegend\":false,\"x\":[0.019278434682866448,7.192128540811753,1.402671077126005e-05,5.91898916675316e-06,1.2176606593204724e-08,0.0881168631523731,1.4307546018943976e-05,0.0010134377640697253,0.018892384451899783,2.3928872957010405e-05,0.000174754169738027,0.00015355351597731294],\"y\":[0.0018697723474761,4.588164942004746e-05,0.41577019681393745,3.63461736652139e-08,6.25276225187146e-05,0.0017629174978789357,0.638157926901561,1.3772614935461024e-08,5.067381273777158,1.187079924392479e-08,0.00040584743230947975,5.745514547546445],\"type\":\"scatter\",\"xaxis\":\"x21\",\"yaxis\":\"y21\"},{\"hovertemplate\":\"%{hovertext}<extra></extra>\",\"hovertext\":[\"Trial #0<br>num_leaves: 1439<br>lambda_l1: 0.019278434682866448<br>lambda_l2: 0.0018697723474761<br>bagging_fraction: 0.7163577515278541<br>feature_fraction: 0.7490702918310586<br>min_data_in_leaf: 75<br><b>Objective Value: 80313362.56217991</b>\",\"Trial #1<br>num_leaves: 1265<br>lambda_l1: 7.192128540811753<br>lambda_l2: 4.588164942004746e-05<br>bagging_fraction: 0.8545212440556665<br>feature_fraction: 0.942963580124861<br>min_data_in_leaf: 97<br><b>Objective Value: 82706514.56218801</b>\",\"Trial #2<br>num_leaves: 2116<br>lambda_l1: 1.402671077126005e-05<br>lambda_l2: 0.41577019681393745<br>bagging_fraction: 0.8652197681488225<br>feature_fraction: 0.9475268944322849<br>min_data_in_leaf: 30<br><b>Objective Value: 80454715.72998178</b>\",\"Trial #3<br>num_leaves: 268<br>lambda_l1: 5.91898916675316e-06<br>lambda_l2: 3.63461736652139e-08<br>bagging_fraction: 0.5296948190278132<br>feature_fraction: 0.7464478568892341<br>min_data_in_leaf: 99<br><b>Objective Value: 78247597.28986743</b>\",\"Trial #4<br>num_leaves: 1785<br>lambda_l1: 1.2176606593204724e-08<br>lambda_l2: 6.25276225187146e-05<br>bagging_fraction: 0.8980372193895749<br>feature_fraction: 0.7759061195202521<br>min_data_in_leaf: 88<br><b>Objective Value: 83488654.96000367</b>\",\"Trial #6<br>num_leaves: 2089<br>lambda_l1: 0.0881168631523731<br>lambda_l2: 0.0017629174978789357<br>bagging_fraction: 0.7490233860912122<br>feature_fraction: 0.6931598053620143<br>min_data_in_leaf: 15<br><b>Objective Value: 70140764.70892096</b>\",\"Trial #8<br>num_leaves: 432<br>lambda_l1: 1.4307546018943976e-05<br>lambda_l2: 0.638157926901561<br>bagging_fraction: 0.9624552497583828<br>feature_fraction: 0.9642445644501639<br>min_data_in_leaf: 25<br><b>Objective Value: 79399768.58151218</b>\",\"Trial #11<br>num_leaves: 520<br>lambda_l1: 0.0010134377640697253<br>lambda_l2: 1.3772614935461024e-08<br>bagging_fraction: 0.41452867557838896<br>feature_fraction: 0.7967159963062568<br>min_data_in_leaf: 62<br><b>Objective Value: 79925770.44181032</b>\",\"Trial #15<br>num_leaves: 1885<br>lambda_l1: 0.018892384451899783<br>lambda_l2: 5.067381273777158<br>bagging_fraction: 0.6659463999200744<br>feature_fraction: 0.8361864803282889<br>min_data_in_leaf: 100<br><b>Objective Value: 84277264.00433168</b>\",\"Trial #17<br>num_leaves: 965<br>lambda_l1: 2.3928872957010405e-05<br>lambda_l2: 1.187079924392479e-08<br>bagging_fraction: 0.5118115490578029<br>feature_fraction: 0.7382099028236617<br>min_data_in_leaf: 83<br><b>Objective Value: 87848151.36487645</b>\",\"Trial #20<br>num_leaves: 245<br>lambda_l1: 0.000174754169738027<br>lambda_l2: 0.00040584743230947975<br>bagging_fraction: 0.7529362430858172<br>feature_fraction: 0.6302066026205523<br>min_data_in_leaf: 33<br><b>Objective Value: 91621725.8507677</b>\",\"Trial #23<br>num_leaves: 1061<br>lambda_l1: 0.00015355351597731294<br>lambda_l2: 5.745514547546445<br>bagging_fraction: 0.8314527408561924<br>feature_fraction: 0.8031609749541938<br>min_data_in_leaf: 19<br><b>Objective Value: 76399862.09058675</b>\"],\"marker\":{\"color\":[\"rgb(241.0, 250.0, 217.0)\",\"rgb(254.0, 206.0, 127.0)\",\"rgb(255.0, 241.0, 170.0)\",\"rgb(107.0, 163.0, 204.0)\",\"rgb(251.0, 156.0, 89.0)\",\"rgb(49.0, 54.0, 149.0)\",\"rgb(156.0, 205.0, 226.0)\",\"rgb(205.0, 234.0, 243.0)\",\"rgb(239.0, 98.0, 62.0)\",\"rgb(210.0, 44.0, 39.0)\",\"rgb(165.0, 0.0, 38.0)\",\"rgb(67.0, 111.0, 177.0)\"],\"line\":{\"color\":\"Grey\",\"width\":0.5}},\"mode\":\"markers\",\"showlegend\":false,\"x\":[0.019278434682866448,7.192128540811753,1.402671077126005e-05,5.91898916675316e-06,1.2176606593204724e-08,0.0881168631523731,1.4307546018943976e-05,0.0010134377640697253,0.018892384451899783,2.3928872957010405e-05,0.000174754169738027,0.00015355351597731294],\"y\":[75,97,30,99,88,15,25,62,100,83,33,19],\"type\":\"scatter\",\"xaxis\":\"x27\",\"yaxis\":\"y27\"},{\"hovertemplate\":\"%{hovertext}<extra></extra>\",\"hovertext\":[\"Trial #0<br>num_leaves: 1439<br>lambda_l1: 0.019278434682866448<br>lambda_l2: 0.0018697723474761<br>bagging_fraction: 0.7163577515278541<br>feature_fraction: 0.7490702918310586<br>min_data_in_leaf: 75<br><b>Objective Value: 80313362.56217991</b>\",\"Trial #1<br>num_leaves: 1265<br>lambda_l1: 7.192128540811753<br>lambda_l2: 4.588164942004746e-05<br>bagging_fraction: 0.8545212440556665<br>feature_fraction: 0.942963580124861<br>min_data_in_leaf: 97<br><b>Objective Value: 82706514.56218801</b>\",\"Trial #2<br>num_leaves: 2116<br>lambda_l1: 1.402671077126005e-05<br>lambda_l2: 0.41577019681393745<br>bagging_fraction: 0.8652197681488225<br>feature_fraction: 0.9475268944322849<br>min_data_in_leaf: 30<br><b>Objective Value: 80454715.72998178</b>\",\"Trial #3<br>num_leaves: 268<br>lambda_l1: 5.91898916675316e-06<br>lambda_l2: 3.63461736652139e-08<br>bagging_fraction: 0.5296948190278132<br>feature_fraction: 0.7464478568892341<br>min_data_in_leaf: 99<br><b>Objective Value: 78247597.28986743</b>\",\"Trial #4<br>num_leaves: 1785<br>lambda_l1: 1.2176606593204724e-08<br>lambda_l2: 6.25276225187146e-05<br>bagging_fraction: 0.8980372193895749<br>feature_fraction: 0.7759061195202521<br>min_data_in_leaf: 88<br><b>Objective Value: 83488654.96000367</b>\",\"Trial #6<br>num_leaves: 2089<br>lambda_l1: 0.0881168631523731<br>lambda_l2: 0.0017629174978789357<br>bagging_fraction: 0.7490233860912122<br>feature_fraction: 0.6931598053620143<br>min_data_in_leaf: 15<br><b>Objective Value: 70140764.70892096</b>\",\"Trial #8<br>num_leaves: 432<br>lambda_l1: 1.4307546018943976e-05<br>lambda_l2: 0.638157926901561<br>bagging_fraction: 0.9624552497583828<br>feature_fraction: 0.9642445644501639<br>min_data_in_leaf: 25<br><b>Objective Value: 79399768.58151218</b>\",\"Trial #11<br>num_leaves: 520<br>lambda_l1: 0.0010134377640697253<br>lambda_l2: 1.3772614935461024e-08<br>bagging_fraction: 0.41452867557838896<br>feature_fraction: 0.7967159963062568<br>min_data_in_leaf: 62<br><b>Objective Value: 79925770.44181032</b>\",\"Trial #15<br>num_leaves: 1885<br>lambda_l1: 0.018892384451899783<br>lambda_l2: 5.067381273777158<br>bagging_fraction: 0.6659463999200744<br>feature_fraction: 0.8361864803282889<br>min_data_in_leaf: 100<br><b>Objective Value: 84277264.00433168</b>\",\"Trial #17<br>num_leaves: 965<br>lambda_l1: 2.3928872957010405e-05<br>lambda_l2: 1.187079924392479e-08<br>bagging_fraction: 0.5118115490578029<br>feature_fraction: 0.7382099028236617<br>min_data_in_leaf: 83<br><b>Objective Value: 87848151.36487645</b>\",\"Trial #20<br>num_leaves: 245<br>lambda_l1: 0.000174754169738027<br>lambda_l2: 0.00040584743230947975<br>bagging_fraction: 0.7529362430858172<br>feature_fraction: 0.6302066026205523<br>min_data_in_leaf: 33<br><b>Objective Value: 91621725.8507677</b>\",\"Trial #23<br>num_leaves: 1061<br>lambda_l1: 0.00015355351597731294<br>lambda_l2: 5.745514547546445<br>bagging_fraction: 0.8314527408561924<br>feature_fraction: 0.8031609749541938<br>min_data_in_leaf: 19<br><b>Objective Value: 76399862.09058675</b>\"],\"marker\":{\"color\":[\"rgb(241.0, 250.0, 217.0)\",\"rgb(254.0, 206.0, 127.0)\",\"rgb(255.0, 241.0, 170.0)\",\"rgb(107.0, 163.0, 204.0)\",\"rgb(251.0, 156.0, 89.0)\",\"rgb(49.0, 54.0, 149.0)\",\"rgb(156.0, 205.0, 226.0)\",\"rgb(205.0, 234.0, 243.0)\",\"rgb(239.0, 98.0, 62.0)\",\"rgb(210.0, 44.0, 39.0)\",\"rgb(165.0, 0.0, 38.0)\",\"rgb(67.0, 111.0, 177.0)\"],\"line\":{\"color\":\"Grey\",\"width\":0.5}},\"mode\":\"markers\",\"showlegend\":false,\"x\":[0.019278434682866448,7.192128540811753,1.402671077126005e-05,5.91898916675316e-06,1.2176606593204724e-08,0.0881168631523731,1.4307546018943976e-05,0.0010134377640697253,0.018892384451899783,2.3928872957010405e-05,0.000174754169738027,0.00015355351597731294],\"y\":[1439,1265,2116,268,1785,2089,432,520,1885,965,245,1061],\"type\":\"scatter\",\"xaxis\":\"x33\",\"yaxis\":\"y33\"},{\"hovertemplate\":\"%{hovertext}<extra></extra>\",\"hovertext\":[\"Trial #0<br>num_leaves: 1439<br>lambda_l1: 0.019278434682866448<br>lambda_l2: 0.0018697723474761<br>bagging_fraction: 0.7163577515278541<br>feature_fraction: 0.7490702918310586<br>min_data_in_leaf: 75<br><b>Objective Value: 80313362.56217991</b>\",\"Trial #1<br>num_leaves: 1265<br>lambda_l1: 7.192128540811753<br>lambda_l2: 4.588164942004746e-05<br>bagging_fraction: 0.8545212440556665<br>feature_fraction: 0.942963580124861<br>min_data_in_leaf: 97<br><b>Objective Value: 82706514.56218801</b>\",\"Trial #2<br>num_leaves: 2116<br>lambda_l1: 1.402671077126005e-05<br>lambda_l2: 0.41577019681393745<br>bagging_fraction: 0.8652197681488225<br>feature_fraction: 0.9475268944322849<br>min_data_in_leaf: 30<br><b>Objective Value: 80454715.72998178</b>\",\"Trial #3<br>num_leaves: 268<br>lambda_l1: 5.91898916675316e-06<br>lambda_l2: 3.63461736652139e-08<br>bagging_fraction: 0.5296948190278132<br>feature_fraction: 0.7464478568892341<br>min_data_in_leaf: 99<br><b>Objective Value: 78247597.28986743</b>\",\"Trial #4<br>num_leaves: 1785<br>lambda_l1: 1.2176606593204724e-08<br>lambda_l2: 6.25276225187146e-05<br>bagging_fraction: 0.8980372193895749<br>feature_fraction: 0.7759061195202521<br>min_data_in_leaf: 88<br><b>Objective Value: 83488654.96000367</b>\",\"Trial #6<br>num_leaves: 2089<br>lambda_l1: 0.0881168631523731<br>lambda_l2: 0.0017629174978789357<br>bagging_fraction: 0.7490233860912122<br>feature_fraction: 0.6931598053620143<br>min_data_in_leaf: 15<br><b>Objective Value: 70140764.70892096</b>\",\"Trial #8<br>num_leaves: 432<br>lambda_l1: 1.4307546018943976e-05<br>lambda_l2: 0.638157926901561<br>bagging_fraction: 0.9624552497583828<br>feature_fraction: 0.9642445644501639<br>min_data_in_leaf: 25<br><b>Objective Value: 79399768.58151218</b>\",\"Trial #11<br>num_leaves: 520<br>lambda_l1: 0.0010134377640697253<br>lambda_l2: 1.3772614935461024e-08<br>bagging_fraction: 0.41452867557838896<br>feature_fraction: 0.7967159963062568<br>min_data_in_leaf: 62<br><b>Objective Value: 79925770.44181032</b>\",\"Trial #15<br>num_leaves: 1885<br>lambda_l1: 0.018892384451899783<br>lambda_l2: 5.067381273777158<br>bagging_fraction: 0.6659463999200744<br>feature_fraction: 0.8361864803282889<br>min_data_in_leaf: 100<br><b>Objective Value: 84277264.00433168</b>\",\"Trial #17<br>num_leaves: 965<br>lambda_l1: 2.3928872957010405e-05<br>lambda_l2: 1.187079924392479e-08<br>bagging_fraction: 0.5118115490578029<br>feature_fraction: 0.7382099028236617<br>min_data_in_leaf: 83<br><b>Objective Value: 87848151.36487645</b>\",\"Trial #20<br>num_leaves: 245<br>lambda_l1: 0.000174754169738027<br>lambda_l2: 0.00040584743230947975<br>bagging_fraction: 0.7529362430858172<br>feature_fraction: 0.6302066026205523<br>min_data_in_leaf: 33<br><b>Objective Value: 91621725.8507677</b>\",\"Trial #23<br>num_leaves: 1061<br>lambda_l1: 0.00015355351597731294<br>lambda_l2: 5.745514547546445<br>bagging_fraction: 0.8314527408561924<br>feature_fraction: 0.8031609749541938<br>min_data_in_leaf: 19<br><b>Objective Value: 76399862.09058675</b>\"],\"marker\":{\"color\":[\"rgb(241.0, 250.0, 217.0)\",\"rgb(254.0, 206.0, 127.0)\",\"rgb(255.0, 241.0, 170.0)\",\"rgb(107.0, 163.0, 204.0)\",\"rgb(251.0, 156.0, 89.0)\",\"rgb(49.0, 54.0, 149.0)\",\"rgb(156.0, 205.0, 226.0)\",\"rgb(205.0, 234.0, 243.0)\",\"rgb(239.0, 98.0, 62.0)\",\"rgb(210.0, 44.0, 39.0)\",\"rgb(165.0, 0.0, 38.0)\",\"rgb(67.0, 111.0, 177.0)\"],\"line\":{\"color\":\"Grey\",\"width\":0.5}},\"mode\":\"markers\",\"showlegend\":false,\"x\":[0.0018697723474761,4.588164942004746e-05,0.41577019681393745,3.63461736652139e-08,6.25276225187146e-05,0.0017629174978789357,0.638157926901561,1.3772614935461024e-08,5.067381273777158,1.187079924392479e-08,0.00040584743230947975,5.745514547546445],\"y\":[0.7163577515278541,0.8545212440556665,0.8652197681488225,0.5296948190278132,0.8980372193895749,0.7490233860912122,0.9624552497583828,0.41452867557838896,0.6659463999200744,0.5118115490578029,0.7529362430858172,0.8314527408561924],\"type\":\"scatter\",\"xaxis\":\"x4\",\"yaxis\":\"y4\"},{\"hovertemplate\":\"%{hovertext}<extra></extra>\",\"hovertext\":[\"Trial #0<br>num_leaves: 1439<br>lambda_l1: 0.019278434682866448<br>lambda_l2: 0.0018697723474761<br>bagging_fraction: 0.7163577515278541<br>feature_fraction: 0.7490702918310586<br>min_data_in_leaf: 75<br><b>Objective Value: 80313362.56217991</b>\",\"Trial #1<br>num_leaves: 1265<br>lambda_l1: 7.192128540811753<br>lambda_l2: 4.588164942004746e-05<br>bagging_fraction: 0.8545212440556665<br>feature_fraction: 0.942963580124861<br>min_data_in_leaf: 97<br><b>Objective Value: 82706514.56218801</b>\",\"Trial #2<br>num_leaves: 2116<br>lambda_l1: 1.402671077126005e-05<br>lambda_l2: 0.41577019681393745<br>bagging_fraction: 0.8652197681488225<br>feature_fraction: 0.9475268944322849<br>min_data_in_leaf: 30<br><b>Objective Value: 80454715.72998178</b>\",\"Trial #3<br>num_leaves: 268<br>lambda_l1: 5.91898916675316e-06<br>lambda_l2: 3.63461736652139e-08<br>bagging_fraction: 0.5296948190278132<br>feature_fraction: 0.7464478568892341<br>min_data_in_leaf: 99<br><b>Objective Value: 78247597.28986743</b>\",\"Trial #4<br>num_leaves: 1785<br>lambda_l1: 1.2176606593204724e-08<br>lambda_l2: 6.25276225187146e-05<br>bagging_fraction: 0.8980372193895749<br>feature_fraction: 0.7759061195202521<br>min_data_in_leaf: 88<br><b>Objective Value: 83488654.96000367</b>\",\"Trial #6<br>num_leaves: 2089<br>lambda_l1: 0.0881168631523731<br>lambda_l2: 0.0017629174978789357<br>bagging_fraction: 0.7490233860912122<br>feature_fraction: 0.6931598053620143<br>min_data_in_leaf: 15<br><b>Objective Value: 70140764.70892096</b>\",\"Trial #8<br>num_leaves: 432<br>lambda_l1: 1.4307546018943976e-05<br>lambda_l2: 0.638157926901561<br>bagging_fraction: 0.9624552497583828<br>feature_fraction: 0.9642445644501639<br>min_data_in_leaf: 25<br><b>Objective Value: 79399768.58151218</b>\",\"Trial #11<br>num_leaves: 520<br>lambda_l1: 0.0010134377640697253<br>lambda_l2: 1.3772614935461024e-08<br>bagging_fraction: 0.41452867557838896<br>feature_fraction: 0.7967159963062568<br>min_data_in_leaf: 62<br><b>Objective Value: 79925770.44181032</b>\",\"Trial #15<br>num_leaves: 1885<br>lambda_l1: 0.018892384451899783<br>lambda_l2: 5.067381273777158<br>bagging_fraction: 0.6659463999200744<br>feature_fraction: 0.8361864803282889<br>min_data_in_leaf: 100<br><b>Objective Value: 84277264.00433168</b>\",\"Trial #17<br>num_leaves: 965<br>lambda_l1: 2.3928872957010405e-05<br>lambda_l2: 1.187079924392479e-08<br>bagging_fraction: 0.5118115490578029<br>feature_fraction: 0.7382099028236617<br>min_data_in_leaf: 83<br><b>Objective Value: 87848151.36487645</b>\",\"Trial #20<br>num_leaves: 245<br>lambda_l1: 0.000174754169738027<br>lambda_l2: 0.00040584743230947975<br>bagging_fraction: 0.7529362430858172<br>feature_fraction: 0.6302066026205523<br>min_data_in_leaf: 33<br><b>Objective Value: 91621725.8507677</b>\",\"Trial #23<br>num_leaves: 1061<br>lambda_l1: 0.00015355351597731294<br>lambda_l2: 5.745514547546445<br>bagging_fraction: 0.8314527408561924<br>feature_fraction: 0.8031609749541938<br>min_data_in_leaf: 19<br><b>Objective Value: 76399862.09058675</b>\"],\"marker\":{\"color\":[\"rgb(241.0, 250.0, 217.0)\",\"rgb(254.0, 206.0, 127.0)\",\"rgb(255.0, 241.0, 170.0)\",\"rgb(107.0, 163.0, 204.0)\",\"rgb(251.0, 156.0, 89.0)\",\"rgb(49.0, 54.0, 149.0)\",\"rgb(156.0, 205.0, 226.0)\",\"rgb(205.0, 234.0, 243.0)\",\"rgb(239.0, 98.0, 62.0)\",\"rgb(210.0, 44.0, 39.0)\",\"rgb(165.0, 0.0, 38.0)\",\"rgb(67.0, 111.0, 177.0)\"],\"line\":{\"color\":\"Grey\",\"width\":0.5}},\"mode\":\"markers\",\"showlegend\":false,\"x\":[0.0018697723474761,4.588164942004746e-05,0.41577019681393745,3.63461736652139e-08,6.25276225187146e-05,0.0017629174978789357,0.638157926901561,1.3772614935461024e-08,5.067381273777158,1.187079924392479e-08,0.00040584743230947975,5.745514547546445],\"y\":[0.7490702918310586,0.942963580124861,0.9475268944322849,0.7464478568892341,0.7759061195202521,0.6931598053620143,0.9642445644501639,0.7967159963062568,0.8361864803282889,0.7382099028236617,0.6302066026205523,0.8031609749541938],\"type\":\"scatter\",\"xaxis\":\"x10\",\"yaxis\":\"y10\"},{\"hovertemplate\":\"%{hovertext}<extra></extra>\",\"hovertext\":[\"Trial #0<br>num_leaves: 1439<br>lambda_l1: 0.019278434682866448<br>lambda_l2: 0.0018697723474761<br>bagging_fraction: 0.7163577515278541<br>feature_fraction: 0.7490702918310586<br>min_data_in_leaf: 75<br><b>Objective Value: 80313362.56217991</b>\",\"Trial #1<br>num_leaves: 1265<br>lambda_l1: 7.192128540811753<br>lambda_l2: 4.588164942004746e-05<br>bagging_fraction: 0.8545212440556665<br>feature_fraction: 0.942963580124861<br>min_data_in_leaf: 97<br><b>Objective Value: 82706514.56218801</b>\",\"Trial #2<br>num_leaves: 2116<br>lambda_l1: 1.402671077126005e-05<br>lambda_l2: 0.41577019681393745<br>bagging_fraction: 0.8652197681488225<br>feature_fraction: 0.9475268944322849<br>min_data_in_leaf: 30<br><b>Objective Value: 80454715.72998178</b>\",\"Trial #3<br>num_leaves: 268<br>lambda_l1: 5.91898916675316e-06<br>lambda_l2: 3.63461736652139e-08<br>bagging_fraction: 0.5296948190278132<br>feature_fraction: 0.7464478568892341<br>min_data_in_leaf: 99<br><b>Objective Value: 78247597.28986743</b>\",\"Trial #4<br>num_leaves: 1785<br>lambda_l1: 1.2176606593204724e-08<br>lambda_l2: 6.25276225187146e-05<br>bagging_fraction: 0.8980372193895749<br>feature_fraction: 0.7759061195202521<br>min_data_in_leaf: 88<br><b>Objective Value: 83488654.96000367</b>\",\"Trial #6<br>num_leaves: 2089<br>lambda_l1: 0.0881168631523731<br>lambda_l2: 0.0017629174978789357<br>bagging_fraction: 0.7490233860912122<br>feature_fraction: 0.6931598053620143<br>min_data_in_leaf: 15<br><b>Objective Value: 70140764.70892096</b>\",\"Trial #8<br>num_leaves: 432<br>lambda_l1: 1.4307546018943976e-05<br>lambda_l2: 0.638157926901561<br>bagging_fraction: 0.9624552497583828<br>feature_fraction: 0.9642445644501639<br>min_data_in_leaf: 25<br><b>Objective Value: 79399768.58151218</b>\",\"Trial #11<br>num_leaves: 520<br>lambda_l1: 0.0010134377640697253<br>lambda_l2: 1.3772614935461024e-08<br>bagging_fraction: 0.41452867557838896<br>feature_fraction: 0.7967159963062568<br>min_data_in_leaf: 62<br><b>Objective Value: 79925770.44181032</b>\",\"Trial #15<br>num_leaves: 1885<br>lambda_l1: 0.018892384451899783<br>lambda_l2: 5.067381273777158<br>bagging_fraction: 0.6659463999200744<br>feature_fraction: 0.8361864803282889<br>min_data_in_leaf: 100<br><b>Objective Value: 84277264.00433168</b>\",\"Trial #17<br>num_leaves: 965<br>lambda_l1: 2.3928872957010405e-05<br>lambda_l2: 1.187079924392479e-08<br>bagging_fraction: 0.5118115490578029<br>feature_fraction: 0.7382099028236617<br>min_data_in_leaf: 83<br><b>Objective Value: 87848151.36487645</b>\",\"Trial #20<br>num_leaves: 245<br>lambda_l1: 0.000174754169738027<br>lambda_l2: 0.00040584743230947975<br>bagging_fraction: 0.7529362430858172<br>feature_fraction: 0.6302066026205523<br>min_data_in_leaf: 33<br><b>Objective Value: 91621725.8507677</b>\",\"Trial #23<br>num_leaves: 1061<br>lambda_l1: 0.00015355351597731294<br>lambda_l2: 5.745514547546445<br>bagging_fraction: 0.8314527408561924<br>feature_fraction: 0.8031609749541938<br>min_data_in_leaf: 19<br><b>Objective Value: 76399862.09058675</b>\"],\"marker\":{\"color\":[\"rgb(241.0, 250.0, 217.0)\",\"rgb(254.0, 206.0, 127.0)\",\"rgb(255.0, 241.0, 170.0)\",\"rgb(107.0, 163.0, 204.0)\",\"rgb(251.0, 156.0, 89.0)\",\"rgb(49.0, 54.0, 149.0)\",\"rgb(156.0, 205.0, 226.0)\",\"rgb(205.0, 234.0, 243.0)\",\"rgb(239.0, 98.0, 62.0)\",\"rgb(210.0, 44.0, 39.0)\",\"rgb(165.0, 0.0, 38.0)\",\"rgb(67.0, 111.0, 177.0)\"],\"line\":{\"color\":\"Grey\",\"width\":0.5}},\"mode\":\"markers\",\"showlegend\":false,\"x\":[0.0018697723474761,4.588164942004746e-05,0.41577019681393745,3.63461736652139e-08,6.25276225187146e-05,0.0017629174978789357,0.638157926901561,1.3772614935461024e-08,5.067381273777158,1.187079924392479e-08,0.00040584743230947975,5.745514547546445],\"y\":[0.019278434682866448,7.192128540811753,1.402671077126005e-05,5.91898916675316e-06,1.2176606593204724e-08,0.0881168631523731,1.4307546018943976e-05,0.0010134377640697253,0.018892384451899783,2.3928872957010405e-05,0.000174754169738027,0.00015355351597731294],\"type\":\"scatter\",\"xaxis\":\"x16\",\"yaxis\":\"y16\"},{\"hovertemplate\":\"%{hovertext}<extra></extra>\",\"hovertext\":[\"Trial #0<br>num_leaves: 1439<br>lambda_l1: 0.019278434682866448<br>lambda_l2: 0.0018697723474761<br>bagging_fraction: 0.7163577515278541<br>feature_fraction: 0.7490702918310586<br>min_data_in_leaf: 75<br><b>Objective Value: 80313362.56217991</b>\",\"Trial #1<br>num_leaves: 1265<br>lambda_l1: 7.192128540811753<br>lambda_l2: 4.588164942004746e-05<br>bagging_fraction: 0.8545212440556665<br>feature_fraction: 0.942963580124861<br>min_data_in_leaf: 97<br><b>Objective Value: 82706514.56218801</b>\",\"Trial #2<br>num_leaves: 2116<br>lambda_l1: 1.402671077126005e-05<br>lambda_l2: 0.41577019681393745<br>bagging_fraction: 0.8652197681488225<br>feature_fraction: 0.9475268944322849<br>min_data_in_leaf: 30<br><b>Objective Value: 80454715.72998178</b>\",\"Trial #3<br>num_leaves: 268<br>lambda_l1: 5.91898916675316e-06<br>lambda_l2: 3.63461736652139e-08<br>bagging_fraction: 0.5296948190278132<br>feature_fraction: 0.7464478568892341<br>min_data_in_leaf: 99<br><b>Objective Value: 78247597.28986743</b>\",\"Trial #4<br>num_leaves: 1785<br>lambda_l1: 1.2176606593204724e-08<br>lambda_l2: 6.25276225187146e-05<br>bagging_fraction: 0.8980372193895749<br>feature_fraction: 0.7759061195202521<br>min_data_in_leaf: 88<br><b>Objective Value: 83488654.96000367</b>\",\"Trial #6<br>num_leaves: 2089<br>lambda_l1: 0.0881168631523731<br>lambda_l2: 0.0017629174978789357<br>bagging_fraction: 0.7490233860912122<br>feature_fraction: 0.6931598053620143<br>min_data_in_leaf: 15<br><b>Objective Value: 70140764.70892096</b>\",\"Trial #8<br>num_leaves: 432<br>lambda_l1: 1.4307546018943976e-05<br>lambda_l2: 0.638157926901561<br>bagging_fraction: 0.9624552497583828<br>feature_fraction: 0.9642445644501639<br>min_data_in_leaf: 25<br><b>Objective Value: 79399768.58151218</b>\",\"Trial #11<br>num_leaves: 520<br>lambda_l1: 0.0010134377640697253<br>lambda_l2: 1.3772614935461024e-08<br>bagging_fraction: 0.41452867557838896<br>feature_fraction: 0.7967159963062568<br>min_data_in_leaf: 62<br><b>Objective Value: 79925770.44181032</b>\",\"Trial #15<br>num_leaves: 1885<br>lambda_l1: 0.018892384451899783<br>lambda_l2: 5.067381273777158<br>bagging_fraction: 0.6659463999200744<br>feature_fraction: 0.8361864803282889<br>min_data_in_leaf: 100<br><b>Objective Value: 84277264.00433168</b>\",\"Trial #17<br>num_leaves: 965<br>lambda_l1: 2.3928872957010405e-05<br>lambda_l2: 1.187079924392479e-08<br>bagging_fraction: 0.5118115490578029<br>feature_fraction: 0.7382099028236617<br>min_data_in_leaf: 83<br><b>Objective Value: 87848151.36487645</b>\",\"Trial #20<br>num_leaves: 245<br>lambda_l1: 0.000174754169738027<br>lambda_l2: 0.00040584743230947975<br>bagging_fraction: 0.7529362430858172<br>feature_fraction: 0.6302066026205523<br>min_data_in_leaf: 33<br><b>Objective Value: 91621725.8507677</b>\",\"Trial #23<br>num_leaves: 1061<br>lambda_l1: 0.00015355351597731294<br>lambda_l2: 5.745514547546445<br>bagging_fraction: 0.8314527408561924<br>feature_fraction: 0.8031609749541938<br>min_data_in_leaf: 19<br><b>Objective Value: 76399862.09058675</b>\"],\"marker\":{\"color\":[\"rgb(241.0, 250.0, 217.0)\",\"rgb(254.0, 206.0, 127.0)\",\"rgb(255.0, 241.0, 170.0)\",\"rgb(107.0, 163.0, 204.0)\",\"rgb(251.0, 156.0, 89.0)\",\"rgb(49.0, 54.0, 149.0)\",\"rgb(156.0, 205.0, 226.0)\",\"rgb(205.0, 234.0, 243.0)\",\"rgb(239.0, 98.0, 62.0)\",\"rgb(210.0, 44.0, 39.0)\",\"rgb(165.0, 0.0, 38.0)\",\"rgb(67.0, 111.0, 177.0)\"],\"line\":{\"color\":\"Grey\",\"width\":0.5}},\"mode\":\"markers\",\"showlegend\":false,\"x\":[0.0018697723474761,4.588164942004746e-05,0.41577019681393745,3.63461736652139e-08,6.25276225187146e-05,0.0017629174978789357,0.638157926901561,1.3772614935461024e-08,5.067381273777158,1.187079924392479e-08,0.00040584743230947975,5.745514547546445],\"y\":[0.0018697723474761,4.588164942004746e-05,0.41577019681393745,3.63461736652139e-08,6.25276225187146e-05,0.0017629174978789357,0.638157926901561,1.3772614935461024e-08,5.067381273777158,1.187079924392479e-08,0.00040584743230947975,5.745514547546445],\"type\":\"scatter\",\"xaxis\":\"x22\",\"yaxis\":\"y22\"},{\"hovertemplate\":\"%{hovertext}<extra></extra>\",\"hovertext\":[\"Trial #0<br>num_leaves: 1439<br>lambda_l1: 0.019278434682866448<br>lambda_l2: 0.0018697723474761<br>bagging_fraction: 0.7163577515278541<br>feature_fraction: 0.7490702918310586<br>min_data_in_leaf: 75<br><b>Objective Value: 80313362.56217991</b>\",\"Trial #1<br>num_leaves: 1265<br>lambda_l1: 7.192128540811753<br>lambda_l2: 4.588164942004746e-05<br>bagging_fraction: 0.8545212440556665<br>feature_fraction: 0.942963580124861<br>min_data_in_leaf: 97<br><b>Objective Value: 82706514.56218801</b>\",\"Trial #2<br>num_leaves: 2116<br>lambda_l1: 1.402671077126005e-05<br>lambda_l2: 0.41577019681393745<br>bagging_fraction: 0.8652197681488225<br>feature_fraction: 0.9475268944322849<br>min_data_in_leaf: 30<br><b>Objective Value: 80454715.72998178</b>\",\"Trial #3<br>num_leaves: 268<br>lambda_l1: 5.91898916675316e-06<br>lambda_l2: 3.63461736652139e-08<br>bagging_fraction: 0.5296948190278132<br>feature_fraction: 0.7464478568892341<br>min_data_in_leaf: 99<br><b>Objective Value: 78247597.28986743</b>\",\"Trial #4<br>num_leaves: 1785<br>lambda_l1: 1.2176606593204724e-08<br>lambda_l2: 6.25276225187146e-05<br>bagging_fraction: 0.8980372193895749<br>feature_fraction: 0.7759061195202521<br>min_data_in_leaf: 88<br><b>Objective Value: 83488654.96000367</b>\",\"Trial #6<br>num_leaves: 2089<br>lambda_l1: 0.0881168631523731<br>lambda_l2: 0.0017629174978789357<br>bagging_fraction: 0.7490233860912122<br>feature_fraction: 0.6931598053620143<br>min_data_in_leaf: 15<br><b>Objective Value: 70140764.70892096</b>\",\"Trial #8<br>num_leaves: 432<br>lambda_l1: 1.4307546018943976e-05<br>lambda_l2: 0.638157926901561<br>bagging_fraction: 0.9624552497583828<br>feature_fraction: 0.9642445644501639<br>min_data_in_leaf: 25<br><b>Objective Value: 79399768.58151218</b>\",\"Trial #11<br>num_leaves: 520<br>lambda_l1: 0.0010134377640697253<br>lambda_l2: 1.3772614935461024e-08<br>bagging_fraction: 0.41452867557838896<br>feature_fraction: 0.7967159963062568<br>min_data_in_leaf: 62<br><b>Objective Value: 79925770.44181032</b>\",\"Trial #15<br>num_leaves: 1885<br>lambda_l1: 0.018892384451899783<br>lambda_l2: 5.067381273777158<br>bagging_fraction: 0.6659463999200744<br>feature_fraction: 0.8361864803282889<br>min_data_in_leaf: 100<br><b>Objective Value: 84277264.00433168</b>\",\"Trial #17<br>num_leaves: 965<br>lambda_l1: 2.3928872957010405e-05<br>lambda_l2: 1.187079924392479e-08<br>bagging_fraction: 0.5118115490578029<br>feature_fraction: 0.7382099028236617<br>min_data_in_leaf: 83<br><b>Objective Value: 87848151.36487645</b>\",\"Trial #20<br>num_leaves: 245<br>lambda_l1: 0.000174754169738027<br>lambda_l2: 0.00040584743230947975<br>bagging_fraction: 0.7529362430858172<br>feature_fraction: 0.6302066026205523<br>min_data_in_leaf: 33<br><b>Objective Value: 91621725.8507677</b>\",\"Trial #23<br>num_leaves: 1061<br>lambda_l1: 0.00015355351597731294<br>lambda_l2: 5.745514547546445<br>bagging_fraction: 0.8314527408561924<br>feature_fraction: 0.8031609749541938<br>min_data_in_leaf: 19<br><b>Objective Value: 76399862.09058675</b>\"],\"marker\":{\"color\":[\"rgb(241.0, 250.0, 217.0)\",\"rgb(254.0, 206.0, 127.0)\",\"rgb(255.0, 241.0, 170.0)\",\"rgb(107.0, 163.0, 204.0)\",\"rgb(251.0, 156.0, 89.0)\",\"rgb(49.0, 54.0, 149.0)\",\"rgb(156.0, 205.0, 226.0)\",\"rgb(205.0, 234.0, 243.0)\",\"rgb(239.0, 98.0, 62.0)\",\"rgb(210.0, 44.0, 39.0)\",\"rgb(165.0, 0.0, 38.0)\",\"rgb(67.0, 111.0, 177.0)\"],\"line\":{\"color\":\"Grey\",\"width\":0.5}},\"mode\":\"markers\",\"showlegend\":false,\"x\":[0.0018697723474761,4.588164942004746e-05,0.41577019681393745,3.63461736652139e-08,6.25276225187146e-05,0.0017629174978789357,0.638157926901561,1.3772614935461024e-08,5.067381273777158,1.187079924392479e-08,0.00040584743230947975,5.745514547546445],\"y\":[75,97,30,99,88,15,25,62,100,83,33,19],\"type\":\"scatter\",\"xaxis\":\"x28\",\"yaxis\":\"y28\"},{\"hovertemplate\":\"%{hovertext}<extra></extra>\",\"hovertext\":[\"Trial #0<br>num_leaves: 1439<br>lambda_l1: 0.019278434682866448<br>lambda_l2: 0.0018697723474761<br>bagging_fraction: 0.7163577515278541<br>feature_fraction: 0.7490702918310586<br>min_data_in_leaf: 75<br><b>Objective Value: 80313362.56217991</b>\",\"Trial #1<br>num_leaves: 1265<br>lambda_l1: 7.192128540811753<br>lambda_l2: 4.588164942004746e-05<br>bagging_fraction: 0.8545212440556665<br>feature_fraction: 0.942963580124861<br>min_data_in_leaf: 97<br><b>Objective Value: 82706514.56218801</b>\",\"Trial #2<br>num_leaves: 2116<br>lambda_l1: 1.402671077126005e-05<br>lambda_l2: 0.41577019681393745<br>bagging_fraction: 0.8652197681488225<br>feature_fraction: 0.9475268944322849<br>min_data_in_leaf: 30<br><b>Objective Value: 80454715.72998178</b>\",\"Trial #3<br>num_leaves: 268<br>lambda_l1: 5.91898916675316e-06<br>lambda_l2: 3.63461736652139e-08<br>bagging_fraction: 0.5296948190278132<br>feature_fraction: 0.7464478568892341<br>min_data_in_leaf: 99<br><b>Objective Value: 78247597.28986743</b>\",\"Trial #4<br>num_leaves: 1785<br>lambda_l1: 1.2176606593204724e-08<br>lambda_l2: 6.25276225187146e-05<br>bagging_fraction: 0.8980372193895749<br>feature_fraction: 0.7759061195202521<br>min_data_in_leaf: 88<br><b>Objective Value: 83488654.96000367</b>\",\"Trial #6<br>num_leaves: 2089<br>lambda_l1: 0.0881168631523731<br>lambda_l2: 0.0017629174978789357<br>bagging_fraction: 0.7490233860912122<br>feature_fraction: 0.6931598053620143<br>min_data_in_leaf: 15<br><b>Objective Value: 70140764.70892096</b>\",\"Trial #8<br>num_leaves: 432<br>lambda_l1: 1.4307546018943976e-05<br>lambda_l2: 0.638157926901561<br>bagging_fraction: 0.9624552497583828<br>feature_fraction: 0.9642445644501639<br>min_data_in_leaf: 25<br><b>Objective Value: 79399768.58151218</b>\",\"Trial #11<br>num_leaves: 520<br>lambda_l1: 0.0010134377640697253<br>lambda_l2: 1.3772614935461024e-08<br>bagging_fraction: 0.41452867557838896<br>feature_fraction: 0.7967159963062568<br>min_data_in_leaf: 62<br><b>Objective Value: 79925770.44181032</b>\",\"Trial #15<br>num_leaves: 1885<br>lambda_l1: 0.018892384451899783<br>lambda_l2: 5.067381273777158<br>bagging_fraction: 0.6659463999200744<br>feature_fraction: 0.8361864803282889<br>min_data_in_leaf: 100<br><b>Objective Value: 84277264.00433168</b>\",\"Trial #17<br>num_leaves: 965<br>lambda_l1: 2.3928872957010405e-05<br>lambda_l2: 1.187079924392479e-08<br>bagging_fraction: 0.5118115490578029<br>feature_fraction: 0.7382099028236617<br>min_data_in_leaf: 83<br><b>Objective Value: 87848151.36487645</b>\",\"Trial #20<br>num_leaves: 245<br>lambda_l1: 0.000174754169738027<br>lambda_l2: 0.00040584743230947975<br>bagging_fraction: 0.7529362430858172<br>feature_fraction: 0.6302066026205523<br>min_data_in_leaf: 33<br><b>Objective Value: 91621725.8507677</b>\",\"Trial #23<br>num_leaves: 1061<br>lambda_l1: 0.00015355351597731294<br>lambda_l2: 5.745514547546445<br>bagging_fraction: 0.8314527408561924<br>feature_fraction: 0.8031609749541938<br>min_data_in_leaf: 19<br><b>Objective Value: 76399862.09058675</b>\"],\"marker\":{\"color\":[\"rgb(241.0, 250.0, 217.0)\",\"rgb(254.0, 206.0, 127.0)\",\"rgb(255.0, 241.0, 170.0)\",\"rgb(107.0, 163.0, 204.0)\",\"rgb(251.0, 156.0, 89.0)\",\"rgb(49.0, 54.0, 149.0)\",\"rgb(156.0, 205.0, 226.0)\",\"rgb(205.0, 234.0, 243.0)\",\"rgb(239.0, 98.0, 62.0)\",\"rgb(210.0, 44.0, 39.0)\",\"rgb(165.0, 0.0, 38.0)\",\"rgb(67.0, 111.0, 177.0)\"],\"line\":{\"color\":\"Grey\",\"width\":0.5}},\"mode\":\"markers\",\"showlegend\":false,\"x\":[0.0018697723474761,4.588164942004746e-05,0.41577019681393745,3.63461736652139e-08,6.25276225187146e-05,0.0017629174978789357,0.638157926901561,1.3772614935461024e-08,5.067381273777158,1.187079924392479e-08,0.00040584743230947975,5.745514547546445],\"y\":[1439,1265,2116,268,1785,2089,432,520,1885,965,245,1061],\"type\":\"scatter\",\"xaxis\":\"x34\",\"yaxis\":\"y34\"},{\"hovertemplate\":\"%{hovertext}<extra></extra>\",\"hovertext\":[\"Trial #0<br>num_leaves: 1439<br>lambda_l1: 0.019278434682866448<br>lambda_l2: 0.0018697723474761<br>bagging_fraction: 0.7163577515278541<br>feature_fraction: 0.7490702918310586<br>min_data_in_leaf: 75<br><b>Objective Value: 80313362.56217991</b>\",\"Trial #1<br>num_leaves: 1265<br>lambda_l1: 7.192128540811753<br>lambda_l2: 4.588164942004746e-05<br>bagging_fraction: 0.8545212440556665<br>feature_fraction: 0.942963580124861<br>min_data_in_leaf: 97<br><b>Objective Value: 82706514.56218801</b>\",\"Trial #2<br>num_leaves: 2116<br>lambda_l1: 1.402671077126005e-05<br>lambda_l2: 0.41577019681393745<br>bagging_fraction: 0.8652197681488225<br>feature_fraction: 0.9475268944322849<br>min_data_in_leaf: 30<br><b>Objective Value: 80454715.72998178</b>\",\"Trial #3<br>num_leaves: 268<br>lambda_l1: 5.91898916675316e-06<br>lambda_l2: 3.63461736652139e-08<br>bagging_fraction: 0.5296948190278132<br>feature_fraction: 0.7464478568892341<br>min_data_in_leaf: 99<br><b>Objective Value: 78247597.28986743</b>\",\"Trial #4<br>num_leaves: 1785<br>lambda_l1: 1.2176606593204724e-08<br>lambda_l2: 6.25276225187146e-05<br>bagging_fraction: 0.8980372193895749<br>feature_fraction: 0.7759061195202521<br>min_data_in_leaf: 88<br><b>Objective Value: 83488654.96000367</b>\",\"Trial #6<br>num_leaves: 2089<br>lambda_l1: 0.0881168631523731<br>lambda_l2: 0.0017629174978789357<br>bagging_fraction: 0.7490233860912122<br>feature_fraction: 0.6931598053620143<br>min_data_in_leaf: 15<br><b>Objective Value: 70140764.70892096</b>\",\"Trial #8<br>num_leaves: 432<br>lambda_l1: 1.4307546018943976e-05<br>lambda_l2: 0.638157926901561<br>bagging_fraction: 0.9624552497583828<br>feature_fraction: 0.9642445644501639<br>min_data_in_leaf: 25<br><b>Objective Value: 79399768.58151218</b>\",\"Trial #11<br>num_leaves: 520<br>lambda_l1: 0.0010134377640697253<br>lambda_l2: 1.3772614935461024e-08<br>bagging_fraction: 0.41452867557838896<br>feature_fraction: 0.7967159963062568<br>min_data_in_leaf: 62<br><b>Objective Value: 79925770.44181032</b>\",\"Trial #15<br>num_leaves: 1885<br>lambda_l1: 0.018892384451899783<br>lambda_l2: 5.067381273777158<br>bagging_fraction: 0.6659463999200744<br>feature_fraction: 0.8361864803282889<br>min_data_in_leaf: 100<br><b>Objective Value: 84277264.00433168</b>\",\"Trial #17<br>num_leaves: 965<br>lambda_l1: 2.3928872957010405e-05<br>lambda_l2: 1.187079924392479e-08<br>bagging_fraction: 0.5118115490578029<br>feature_fraction: 0.7382099028236617<br>min_data_in_leaf: 83<br><b>Objective Value: 87848151.36487645</b>\",\"Trial #20<br>num_leaves: 245<br>lambda_l1: 0.000174754169738027<br>lambda_l2: 0.00040584743230947975<br>bagging_fraction: 0.7529362430858172<br>feature_fraction: 0.6302066026205523<br>min_data_in_leaf: 33<br><b>Objective Value: 91621725.8507677</b>\",\"Trial #23<br>num_leaves: 1061<br>lambda_l1: 0.00015355351597731294<br>lambda_l2: 5.745514547546445<br>bagging_fraction: 0.8314527408561924<br>feature_fraction: 0.8031609749541938<br>min_data_in_leaf: 19<br><b>Objective Value: 76399862.09058675</b>\"],\"marker\":{\"color\":[\"rgb(241.0, 250.0, 217.0)\",\"rgb(254.0, 206.0, 127.0)\",\"rgb(255.0, 241.0, 170.0)\",\"rgb(107.0, 163.0, 204.0)\",\"rgb(251.0, 156.0, 89.0)\",\"rgb(49.0, 54.0, 149.0)\",\"rgb(156.0, 205.0, 226.0)\",\"rgb(205.0, 234.0, 243.0)\",\"rgb(239.0, 98.0, 62.0)\",\"rgb(210.0, 44.0, 39.0)\",\"rgb(165.0, 0.0, 38.0)\",\"rgb(67.0, 111.0, 177.0)\"],\"line\":{\"color\":\"Grey\",\"width\":0.5}},\"mode\":\"markers\",\"showlegend\":false,\"x\":[75,97,30,99,88,15,25,62,100,83,33,19],\"y\":[0.7163577515278541,0.8545212440556665,0.8652197681488225,0.5296948190278132,0.8980372193895749,0.7490233860912122,0.9624552497583828,0.41452867557838896,0.6659463999200744,0.5118115490578029,0.7529362430858172,0.8314527408561924],\"type\":\"scatter\",\"xaxis\":\"x5\",\"yaxis\":\"y5\"},{\"hovertemplate\":\"%{hovertext}<extra></extra>\",\"hovertext\":[\"Trial #0<br>num_leaves: 1439<br>lambda_l1: 0.019278434682866448<br>lambda_l2: 0.0018697723474761<br>bagging_fraction: 0.7163577515278541<br>feature_fraction: 0.7490702918310586<br>min_data_in_leaf: 75<br><b>Objective Value: 80313362.56217991</b>\",\"Trial #1<br>num_leaves: 1265<br>lambda_l1: 7.192128540811753<br>lambda_l2: 4.588164942004746e-05<br>bagging_fraction: 0.8545212440556665<br>feature_fraction: 0.942963580124861<br>min_data_in_leaf: 97<br><b>Objective Value: 82706514.56218801</b>\",\"Trial #2<br>num_leaves: 2116<br>lambda_l1: 1.402671077126005e-05<br>lambda_l2: 0.41577019681393745<br>bagging_fraction: 0.8652197681488225<br>feature_fraction: 0.9475268944322849<br>min_data_in_leaf: 30<br><b>Objective Value: 80454715.72998178</b>\",\"Trial #3<br>num_leaves: 268<br>lambda_l1: 5.91898916675316e-06<br>lambda_l2: 3.63461736652139e-08<br>bagging_fraction: 0.5296948190278132<br>feature_fraction: 0.7464478568892341<br>min_data_in_leaf: 99<br><b>Objective Value: 78247597.28986743</b>\",\"Trial #4<br>num_leaves: 1785<br>lambda_l1: 1.2176606593204724e-08<br>lambda_l2: 6.25276225187146e-05<br>bagging_fraction: 0.8980372193895749<br>feature_fraction: 0.7759061195202521<br>min_data_in_leaf: 88<br><b>Objective Value: 83488654.96000367</b>\",\"Trial #6<br>num_leaves: 2089<br>lambda_l1: 0.0881168631523731<br>lambda_l2: 0.0017629174978789357<br>bagging_fraction: 0.7490233860912122<br>feature_fraction: 0.6931598053620143<br>min_data_in_leaf: 15<br><b>Objective Value: 70140764.70892096</b>\",\"Trial #8<br>num_leaves: 432<br>lambda_l1: 1.4307546018943976e-05<br>lambda_l2: 0.638157926901561<br>bagging_fraction: 0.9624552497583828<br>feature_fraction: 0.9642445644501639<br>min_data_in_leaf: 25<br><b>Objective Value: 79399768.58151218</b>\",\"Trial #11<br>num_leaves: 520<br>lambda_l1: 0.0010134377640697253<br>lambda_l2: 1.3772614935461024e-08<br>bagging_fraction: 0.41452867557838896<br>feature_fraction: 0.7967159963062568<br>min_data_in_leaf: 62<br><b>Objective Value: 79925770.44181032</b>\",\"Trial #15<br>num_leaves: 1885<br>lambda_l1: 0.018892384451899783<br>lambda_l2: 5.067381273777158<br>bagging_fraction: 0.6659463999200744<br>feature_fraction: 0.8361864803282889<br>min_data_in_leaf: 100<br><b>Objective Value: 84277264.00433168</b>\",\"Trial #17<br>num_leaves: 965<br>lambda_l1: 2.3928872957010405e-05<br>lambda_l2: 1.187079924392479e-08<br>bagging_fraction: 0.5118115490578029<br>feature_fraction: 0.7382099028236617<br>min_data_in_leaf: 83<br><b>Objective Value: 87848151.36487645</b>\",\"Trial #20<br>num_leaves: 245<br>lambda_l1: 0.000174754169738027<br>lambda_l2: 0.00040584743230947975<br>bagging_fraction: 0.7529362430858172<br>feature_fraction: 0.6302066026205523<br>min_data_in_leaf: 33<br><b>Objective Value: 91621725.8507677</b>\",\"Trial #23<br>num_leaves: 1061<br>lambda_l1: 0.00015355351597731294<br>lambda_l2: 5.745514547546445<br>bagging_fraction: 0.8314527408561924<br>feature_fraction: 0.8031609749541938<br>min_data_in_leaf: 19<br><b>Objective Value: 76399862.09058675</b>\"],\"marker\":{\"color\":[\"rgb(241.0, 250.0, 217.0)\",\"rgb(254.0, 206.0, 127.0)\",\"rgb(255.0, 241.0, 170.0)\",\"rgb(107.0, 163.0, 204.0)\",\"rgb(251.0, 156.0, 89.0)\",\"rgb(49.0, 54.0, 149.0)\",\"rgb(156.0, 205.0, 226.0)\",\"rgb(205.0, 234.0, 243.0)\",\"rgb(239.0, 98.0, 62.0)\",\"rgb(210.0, 44.0, 39.0)\",\"rgb(165.0, 0.0, 38.0)\",\"rgb(67.0, 111.0, 177.0)\"],\"line\":{\"color\":\"Grey\",\"width\":0.5}},\"mode\":\"markers\",\"showlegend\":false,\"x\":[75,97,30,99,88,15,25,62,100,83,33,19],\"y\":[0.7490702918310586,0.942963580124861,0.9475268944322849,0.7464478568892341,0.7759061195202521,0.6931598053620143,0.9642445644501639,0.7967159963062568,0.8361864803282889,0.7382099028236617,0.6302066026205523,0.8031609749541938],\"type\":\"scatter\",\"xaxis\":\"x11\",\"yaxis\":\"y11\"},{\"hovertemplate\":\"%{hovertext}<extra></extra>\",\"hovertext\":[\"Trial #0<br>num_leaves: 1439<br>lambda_l1: 0.019278434682866448<br>lambda_l2: 0.0018697723474761<br>bagging_fraction: 0.7163577515278541<br>feature_fraction: 0.7490702918310586<br>min_data_in_leaf: 75<br><b>Objective Value: 80313362.56217991</b>\",\"Trial #1<br>num_leaves: 1265<br>lambda_l1: 7.192128540811753<br>lambda_l2: 4.588164942004746e-05<br>bagging_fraction: 0.8545212440556665<br>feature_fraction: 0.942963580124861<br>min_data_in_leaf: 97<br><b>Objective Value: 82706514.56218801</b>\",\"Trial #2<br>num_leaves: 2116<br>lambda_l1: 1.402671077126005e-05<br>lambda_l2: 0.41577019681393745<br>bagging_fraction: 0.8652197681488225<br>feature_fraction: 0.9475268944322849<br>min_data_in_leaf: 30<br><b>Objective Value: 80454715.72998178</b>\",\"Trial #3<br>num_leaves: 268<br>lambda_l1: 5.91898916675316e-06<br>lambda_l2: 3.63461736652139e-08<br>bagging_fraction: 0.5296948190278132<br>feature_fraction: 0.7464478568892341<br>min_data_in_leaf: 99<br><b>Objective Value: 78247597.28986743</b>\",\"Trial #4<br>num_leaves: 1785<br>lambda_l1: 1.2176606593204724e-08<br>lambda_l2: 6.25276225187146e-05<br>bagging_fraction: 0.8980372193895749<br>feature_fraction: 0.7759061195202521<br>min_data_in_leaf: 88<br><b>Objective Value: 83488654.96000367</b>\",\"Trial #6<br>num_leaves: 2089<br>lambda_l1: 0.0881168631523731<br>lambda_l2: 0.0017629174978789357<br>bagging_fraction: 0.7490233860912122<br>feature_fraction: 0.6931598053620143<br>min_data_in_leaf: 15<br><b>Objective Value: 70140764.70892096</b>\",\"Trial #8<br>num_leaves: 432<br>lambda_l1: 1.4307546018943976e-05<br>lambda_l2: 0.638157926901561<br>bagging_fraction: 0.9624552497583828<br>feature_fraction: 0.9642445644501639<br>min_data_in_leaf: 25<br><b>Objective Value: 79399768.58151218</b>\",\"Trial #11<br>num_leaves: 520<br>lambda_l1: 0.0010134377640697253<br>lambda_l2: 1.3772614935461024e-08<br>bagging_fraction: 0.41452867557838896<br>feature_fraction: 0.7967159963062568<br>min_data_in_leaf: 62<br><b>Objective Value: 79925770.44181032</b>\",\"Trial #15<br>num_leaves: 1885<br>lambda_l1: 0.018892384451899783<br>lambda_l2: 5.067381273777158<br>bagging_fraction: 0.6659463999200744<br>feature_fraction: 0.8361864803282889<br>min_data_in_leaf: 100<br><b>Objective Value: 84277264.00433168</b>\",\"Trial #17<br>num_leaves: 965<br>lambda_l1: 2.3928872957010405e-05<br>lambda_l2: 1.187079924392479e-08<br>bagging_fraction: 0.5118115490578029<br>feature_fraction: 0.7382099028236617<br>min_data_in_leaf: 83<br><b>Objective Value: 87848151.36487645</b>\",\"Trial #20<br>num_leaves: 245<br>lambda_l1: 0.000174754169738027<br>lambda_l2: 0.00040584743230947975<br>bagging_fraction: 0.7529362430858172<br>feature_fraction: 0.6302066026205523<br>min_data_in_leaf: 33<br><b>Objective Value: 91621725.8507677</b>\",\"Trial #23<br>num_leaves: 1061<br>lambda_l1: 0.00015355351597731294<br>lambda_l2: 5.745514547546445<br>bagging_fraction: 0.8314527408561924<br>feature_fraction: 0.8031609749541938<br>min_data_in_leaf: 19<br><b>Objective Value: 76399862.09058675</b>\"],\"marker\":{\"color\":[\"rgb(241.0, 250.0, 217.0)\",\"rgb(254.0, 206.0, 127.0)\",\"rgb(255.0, 241.0, 170.0)\",\"rgb(107.0, 163.0, 204.0)\",\"rgb(251.0, 156.0, 89.0)\",\"rgb(49.0, 54.0, 149.0)\",\"rgb(156.0, 205.0, 226.0)\",\"rgb(205.0, 234.0, 243.0)\",\"rgb(239.0, 98.0, 62.0)\",\"rgb(210.0, 44.0, 39.0)\",\"rgb(165.0, 0.0, 38.0)\",\"rgb(67.0, 111.0, 177.0)\"],\"line\":{\"color\":\"Grey\",\"width\":0.5}},\"mode\":\"markers\",\"showlegend\":false,\"x\":[75,97,30,99,88,15,25,62,100,83,33,19],\"y\":[0.019278434682866448,7.192128540811753,1.402671077126005e-05,5.91898916675316e-06,1.2176606593204724e-08,0.0881168631523731,1.4307546018943976e-05,0.0010134377640697253,0.018892384451899783,2.3928872957010405e-05,0.000174754169738027,0.00015355351597731294],\"type\":\"scatter\",\"xaxis\":\"x17\",\"yaxis\":\"y17\"},{\"hovertemplate\":\"%{hovertext}<extra></extra>\",\"hovertext\":[\"Trial #0<br>num_leaves: 1439<br>lambda_l1: 0.019278434682866448<br>lambda_l2: 0.0018697723474761<br>bagging_fraction: 0.7163577515278541<br>feature_fraction: 0.7490702918310586<br>min_data_in_leaf: 75<br><b>Objective Value: 80313362.56217991</b>\",\"Trial #1<br>num_leaves: 1265<br>lambda_l1: 7.192128540811753<br>lambda_l2: 4.588164942004746e-05<br>bagging_fraction: 0.8545212440556665<br>feature_fraction: 0.942963580124861<br>min_data_in_leaf: 97<br><b>Objective Value: 82706514.56218801</b>\",\"Trial #2<br>num_leaves: 2116<br>lambda_l1: 1.402671077126005e-05<br>lambda_l2: 0.41577019681393745<br>bagging_fraction: 0.8652197681488225<br>feature_fraction: 0.9475268944322849<br>min_data_in_leaf: 30<br><b>Objective Value: 80454715.72998178</b>\",\"Trial #3<br>num_leaves: 268<br>lambda_l1: 5.91898916675316e-06<br>lambda_l2: 3.63461736652139e-08<br>bagging_fraction: 0.5296948190278132<br>feature_fraction: 0.7464478568892341<br>min_data_in_leaf: 99<br><b>Objective Value: 78247597.28986743</b>\",\"Trial #4<br>num_leaves: 1785<br>lambda_l1: 1.2176606593204724e-08<br>lambda_l2: 6.25276225187146e-05<br>bagging_fraction: 0.8980372193895749<br>feature_fraction: 0.7759061195202521<br>min_data_in_leaf: 88<br><b>Objective Value: 83488654.96000367</b>\",\"Trial #6<br>num_leaves: 2089<br>lambda_l1: 0.0881168631523731<br>lambda_l2: 0.0017629174978789357<br>bagging_fraction: 0.7490233860912122<br>feature_fraction: 0.6931598053620143<br>min_data_in_leaf: 15<br><b>Objective Value: 70140764.70892096</b>\",\"Trial #8<br>num_leaves: 432<br>lambda_l1: 1.4307546018943976e-05<br>lambda_l2: 0.638157926901561<br>bagging_fraction: 0.9624552497583828<br>feature_fraction: 0.9642445644501639<br>min_data_in_leaf: 25<br><b>Objective Value: 79399768.58151218</b>\",\"Trial #11<br>num_leaves: 520<br>lambda_l1: 0.0010134377640697253<br>lambda_l2: 1.3772614935461024e-08<br>bagging_fraction: 0.41452867557838896<br>feature_fraction: 0.7967159963062568<br>min_data_in_leaf: 62<br><b>Objective Value: 79925770.44181032</b>\",\"Trial #15<br>num_leaves: 1885<br>lambda_l1: 0.018892384451899783<br>lambda_l2: 5.067381273777158<br>bagging_fraction: 0.6659463999200744<br>feature_fraction: 0.8361864803282889<br>min_data_in_leaf: 100<br><b>Objective Value: 84277264.00433168</b>\",\"Trial #17<br>num_leaves: 965<br>lambda_l1: 2.3928872957010405e-05<br>lambda_l2: 1.187079924392479e-08<br>bagging_fraction: 0.5118115490578029<br>feature_fraction: 0.7382099028236617<br>min_data_in_leaf: 83<br><b>Objective Value: 87848151.36487645</b>\",\"Trial #20<br>num_leaves: 245<br>lambda_l1: 0.000174754169738027<br>lambda_l2: 0.00040584743230947975<br>bagging_fraction: 0.7529362430858172<br>feature_fraction: 0.6302066026205523<br>min_data_in_leaf: 33<br><b>Objective Value: 91621725.8507677</b>\",\"Trial #23<br>num_leaves: 1061<br>lambda_l1: 0.00015355351597731294<br>lambda_l2: 5.745514547546445<br>bagging_fraction: 0.8314527408561924<br>feature_fraction: 0.8031609749541938<br>min_data_in_leaf: 19<br><b>Objective Value: 76399862.09058675</b>\"],\"marker\":{\"color\":[\"rgb(241.0, 250.0, 217.0)\",\"rgb(254.0, 206.0, 127.0)\",\"rgb(255.0, 241.0, 170.0)\",\"rgb(107.0, 163.0, 204.0)\",\"rgb(251.0, 156.0, 89.0)\",\"rgb(49.0, 54.0, 149.0)\",\"rgb(156.0, 205.0, 226.0)\",\"rgb(205.0, 234.0, 243.0)\",\"rgb(239.0, 98.0, 62.0)\",\"rgb(210.0, 44.0, 39.0)\",\"rgb(165.0, 0.0, 38.0)\",\"rgb(67.0, 111.0, 177.0)\"],\"line\":{\"color\":\"Grey\",\"width\":0.5}},\"mode\":\"markers\",\"showlegend\":false,\"x\":[75,97,30,99,88,15,25,62,100,83,33,19],\"y\":[0.0018697723474761,4.588164942004746e-05,0.41577019681393745,3.63461736652139e-08,6.25276225187146e-05,0.0017629174978789357,0.638157926901561,1.3772614935461024e-08,5.067381273777158,1.187079924392479e-08,0.00040584743230947975,5.745514547546445],\"type\":\"scatter\",\"xaxis\":\"x23\",\"yaxis\":\"y23\"},{\"hovertemplate\":\"%{hovertext}<extra></extra>\",\"hovertext\":[\"Trial #0<br>num_leaves: 1439<br>lambda_l1: 0.019278434682866448<br>lambda_l2: 0.0018697723474761<br>bagging_fraction: 0.7163577515278541<br>feature_fraction: 0.7490702918310586<br>min_data_in_leaf: 75<br><b>Objective Value: 80313362.56217991</b>\",\"Trial #1<br>num_leaves: 1265<br>lambda_l1: 7.192128540811753<br>lambda_l2: 4.588164942004746e-05<br>bagging_fraction: 0.8545212440556665<br>feature_fraction: 0.942963580124861<br>min_data_in_leaf: 97<br><b>Objective Value: 82706514.56218801</b>\",\"Trial #2<br>num_leaves: 2116<br>lambda_l1: 1.402671077126005e-05<br>lambda_l2: 0.41577019681393745<br>bagging_fraction: 0.8652197681488225<br>feature_fraction: 0.9475268944322849<br>min_data_in_leaf: 30<br><b>Objective Value: 80454715.72998178</b>\",\"Trial #3<br>num_leaves: 268<br>lambda_l1: 5.91898916675316e-06<br>lambda_l2: 3.63461736652139e-08<br>bagging_fraction: 0.5296948190278132<br>feature_fraction: 0.7464478568892341<br>min_data_in_leaf: 99<br><b>Objective Value: 78247597.28986743</b>\",\"Trial #4<br>num_leaves: 1785<br>lambda_l1: 1.2176606593204724e-08<br>lambda_l2: 6.25276225187146e-05<br>bagging_fraction: 0.8980372193895749<br>feature_fraction: 0.7759061195202521<br>min_data_in_leaf: 88<br><b>Objective Value: 83488654.96000367</b>\",\"Trial #6<br>num_leaves: 2089<br>lambda_l1: 0.0881168631523731<br>lambda_l2: 0.0017629174978789357<br>bagging_fraction: 0.7490233860912122<br>feature_fraction: 0.6931598053620143<br>min_data_in_leaf: 15<br><b>Objective Value: 70140764.70892096</b>\",\"Trial #8<br>num_leaves: 432<br>lambda_l1: 1.4307546018943976e-05<br>lambda_l2: 0.638157926901561<br>bagging_fraction: 0.9624552497583828<br>feature_fraction: 0.9642445644501639<br>min_data_in_leaf: 25<br><b>Objective Value: 79399768.58151218</b>\",\"Trial #11<br>num_leaves: 520<br>lambda_l1: 0.0010134377640697253<br>lambda_l2: 1.3772614935461024e-08<br>bagging_fraction: 0.41452867557838896<br>feature_fraction: 0.7967159963062568<br>min_data_in_leaf: 62<br><b>Objective Value: 79925770.44181032</b>\",\"Trial #15<br>num_leaves: 1885<br>lambda_l1: 0.018892384451899783<br>lambda_l2: 5.067381273777158<br>bagging_fraction: 0.6659463999200744<br>feature_fraction: 0.8361864803282889<br>min_data_in_leaf: 100<br><b>Objective Value: 84277264.00433168</b>\",\"Trial #17<br>num_leaves: 965<br>lambda_l1: 2.3928872957010405e-05<br>lambda_l2: 1.187079924392479e-08<br>bagging_fraction: 0.5118115490578029<br>feature_fraction: 0.7382099028236617<br>min_data_in_leaf: 83<br><b>Objective Value: 87848151.36487645</b>\",\"Trial #20<br>num_leaves: 245<br>lambda_l1: 0.000174754169738027<br>lambda_l2: 0.00040584743230947975<br>bagging_fraction: 0.7529362430858172<br>feature_fraction: 0.6302066026205523<br>min_data_in_leaf: 33<br><b>Objective Value: 91621725.8507677</b>\",\"Trial #23<br>num_leaves: 1061<br>lambda_l1: 0.00015355351597731294<br>lambda_l2: 5.745514547546445<br>bagging_fraction: 0.8314527408561924<br>feature_fraction: 0.8031609749541938<br>min_data_in_leaf: 19<br><b>Objective Value: 76399862.09058675</b>\"],\"marker\":{\"color\":[\"rgb(241.0, 250.0, 217.0)\",\"rgb(254.0, 206.0, 127.0)\",\"rgb(255.0, 241.0, 170.0)\",\"rgb(107.0, 163.0, 204.0)\",\"rgb(251.0, 156.0, 89.0)\",\"rgb(49.0, 54.0, 149.0)\",\"rgb(156.0, 205.0, 226.0)\",\"rgb(205.0, 234.0, 243.0)\",\"rgb(239.0, 98.0, 62.0)\",\"rgb(210.0, 44.0, 39.0)\",\"rgb(165.0, 0.0, 38.0)\",\"rgb(67.0, 111.0, 177.0)\"],\"line\":{\"color\":\"Grey\",\"width\":0.5}},\"mode\":\"markers\",\"showlegend\":false,\"x\":[75,97,30,99,88,15,25,62,100,83,33,19],\"y\":[75,97,30,99,88,15,25,62,100,83,33,19],\"type\":\"scatter\",\"xaxis\":\"x29\",\"yaxis\":\"y29\"},{\"hovertemplate\":\"%{hovertext}<extra></extra>\",\"hovertext\":[\"Trial #0<br>num_leaves: 1439<br>lambda_l1: 0.019278434682866448<br>lambda_l2: 0.0018697723474761<br>bagging_fraction: 0.7163577515278541<br>feature_fraction: 0.7490702918310586<br>min_data_in_leaf: 75<br><b>Objective Value: 80313362.56217991</b>\",\"Trial #1<br>num_leaves: 1265<br>lambda_l1: 7.192128540811753<br>lambda_l2: 4.588164942004746e-05<br>bagging_fraction: 0.8545212440556665<br>feature_fraction: 0.942963580124861<br>min_data_in_leaf: 97<br><b>Objective Value: 82706514.56218801</b>\",\"Trial #2<br>num_leaves: 2116<br>lambda_l1: 1.402671077126005e-05<br>lambda_l2: 0.41577019681393745<br>bagging_fraction: 0.8652197681488225<br>feature_fraction: 0.9475268944322849<br>min_data_in_leaf: 30<br><b>Objective Value: 80454715.72998178</b>\",\"Trial #3<br>num_leaves: 268<br>lambda_l1: 5.91898916675316e-06<br>lambda_l2: 3.63461736652139e-08<br>bagging_fraction: 0.5296948190278132<br>feature_fraction: 0.7464478568892341<br>min_data_in_leaf: 99<br><b>Objective Value: 78247597.28986743</b>\",\"Trial #4<br>num_leaves: 1785<br>lambda_l1: 1.2176606593204724e-08<br>lambda_l2: 6.25276225187146e-05<br>bagging_fraction: 0.8980372193895749<br>feature_fraction: 0.7759061195202521<br>min_data_in_leaf: 88<br><b>Objective Value: 83488654.96000367</b>\",\"Trial #6<br>num_leaves: 2089<br>lambda_l1: 0.0881168631523731<br>lambda_l2: 0.0017629174978789357<br>bagging_fraction: 0.7490233860912122<br>feature_fraction: 0.6931598053620143<br>min_data_in_leaf: 15<br><b>Objective Value: 70140764.70892096</b>\",\"Trial #8<br>num_leaves: 432<br>lambda_l1: 1.4307546018943976e-05<br>lambda_l2: 0.638157926901561<br>bagging_fraction: 0.9624552497583828<br>feature_fraction: 0.9642445644501639<br>min_data_in_leaf: 25<br><b>Objective Value: 79399768.58151218</b>\",\"Trial #11<br>num_leaves: 520<br>lambda_l1: 0.0010134377640697253<br>lambda_l2: 1.3772614935461024e-08<br>bagging_fraction: 0.41452867557838896<br>feature_fraction: 0.7967159963062568<br>min_data_in_leaf: 62<br><b>Objective Value: 79925770.44181032</b>\",\"Trial #15<br>num_leaves: 1885<br>lambda_l1: 0.018892384451899783<br>lambda_l2: 5.067381273777158<br>bagging_fraction: 0.6659463999200744<br>feature_fraction: 0.8361864803282889<br>min_data_in_leaf: 100<br><b>Objective Value: 84277264.00433168</b>\",\"Trial #17<br>num_leaves: 965<br>lambda_l1: 2.3928872957010405e-05<br>lambda_l2: 1.187079924392479e-08<br>bagging_fraction: 0.5118115490578029<br>feature_fraction: 0.7382099028236617<br>min_data_in_leaf: 83<br><b>Objective Value: 87848151.36487645</b>\",\"Trial #20<br>num_leaves: 245<br>lambda_l1: 0.000174754169738027<br>lambda_l2: 0.00040584743230947975<br>bagging_fraction: 0.7529362430858172<br>feature_fraction: 0.6302066026205523<br>min_data_in_leaf: 33<br><b>Objective Value: 91621725.8507677</b>\",\"Trial #23<br>num_leaves: 1061<br>lambda_l1: 0.00015355351597731294<br>lambda_l2: 5.745514547546445<br>bagging_fraction: 0.8314527408561924<br>feature_fraction: 0.8031609749541938<br>min_data_in_leaf: 19<br><b>Objective Value: 76399862.09058675</b>\"],\"marker\":{\"color\":[\"rgb(241.0, 250.0, 217.0)\",\"rgb(254.0, 206.0, 127.0)\",\"rgb(255.0, 241.0, 170.0)\",\"rgb(107.0, 163.0, 204.0)\",\"rgb(251.0, 156.0, 89.0)\",\"rgb(49.0, 54.0, 149.0)\",\"rgb(156.0, 205.0, 226.0)\",\"rgb(205.0, 234.0, 243.0)\",\"rgb(239.0, 98.0, 62.0)\",\"rgb(210.0, 44.0, 39.0)\",\"rgb(165.0, 0.0, 38.0)\",\"rgb(67.0, 111.0, 177.0)\"],\"line\":{\"color\":\"Grey\",\"width\":0.5}},\"mode\":\"markers\",\"showlegend\":false,\"x\":[75,97,30,99,88,15,25,62,100,83,33,19],\"y\":[1439,1265,2116,268,1785,2089,432,520,1885,965,245,1061],\"type\":\"scatter\",\"xaxis\":\"x35\",\"yaxis\":\"y35\"},{\"hovertemplate\":\"%{hovertext}<extra></extra>\",\"hovertext\":[\"Trial #0<br>num_leaves: 1439<br>lambda_l1: 0.019278434682866448<br>lambda_l2: 0.0018697723474761<br>bagging_fraction: 0.7163577515278541<br>feature_fraction: 0.7490702918310586<br>min_data_in_leaf: 75<br><b>Objective Value: 80313362.56217991</b>\",\"Trial #1<br>num_leaves: 1265<br>lambda_l1: 7.192128540811753<br>lambda_l2: 4.588164942004746e-05<br>bagging_fraction: 0.8545212440556665<br>feature_fraction: 0.942963580124861<br>min_data_in_leaf: 97<br><b>Objective Value: 82706514.56218801</b>\",\"Trial #2<br>num_leaves: 2116<br>lambda_l1: 1.402671077126005e-05<br>lambda_l2: 0.41577019681393745<br>bagging_fraction: 0.8652197681488225<br>feature_fraction: 0.9475268944322849<br>min_data_in_leaf: 30<br><b>Objective Value: 80454715.72998178</b>\",\"Trial #3<br>num_leaves: 268<br>lambda_l1: 5.91898916675316e-06<br>lambda_l2: 3.63461736652139e-08<br>bagging_fraction: 0.5296948190278132<br>feature_fraction: 0.7464478568892341<br>min_data_in_leaf: 99<br><b>Objective Value: 78247597.28986743</b>\",\"Trial #4<br>num_leaves: 1785<br>lambda_l1: 1.2176606593204724e-08<br>lambda_l2: 6.25276225187146e-05<br>bagging_fraction: 0.8980372193895749<br>feature_fraction: 0.7759061195202521<br>min_data_in_leaf: 88<br><b>Objective Value: 83488654.96000367</b>\",\"Trial #6<br>num_leaves: 2089<br>lambda_l1: 0.0881168631523731<br>lambda_l2: 0.0017629174978789357<br>bagging_fraction: 0.7490233860912122<br>feature_fraction: 0.6931598053620143<br>min_data_in_leaf: 15<br><b>Objective Value: 70140764.70892096</b>\",\"Trial #8<br>num_leaves: 432<br>lambda_l1: 1.4307546018943976e-05<br>lambda_l2: 0.638157926901561<br>bagging_fraction: 0.9624552497583828<br>feature_fraction: 0.9642445644501639<br>min_data_in_leaf: 25<br><b>Objective Value: 79399768.58151218</b>\",\"Trial #11<br>num_leaves: 520<br>lambda_l1: 0.0010134377640697253<br>lambda_l2: 1.3772614935461024e-08<br>bagging_fraction: 0.41452867557838896<br>feature_fraction: 0.7967159963062568<br>min_data_in_leaf: 62<br><b>Objective Value: 79925770.44181032</b>\",\"Trial #15<br>num_leaves: 1885<br>lambda_l1: 0.018892384451899783<br>lambda_l2: 5.067381273777158<br>bagging_fraction: 0.6659463999200744<br>feature_fraction: 0.8361864803282889<br>min_data_in_leaf: 100<br><b>Objective Value: 84277264.00433168</b>\",\"Trial #17<br>num_leaves: 965<br>lambda_l1: 2.3928872957010405e-05<br>lambda_l2: 1.187079924392479e-08<br>bagging_fraction: 0.5118115490578029<br>feature_fraction: 0.7382099028236617<br>min_data_in_leaf: 83<br><b>Objective Value: 87848151.36487645</b>\",\"Trial #20<br>num_leaves: 245<br>lambda_l1: 0.000174754169738027<br>lambda_l2: 0.00040584743230947975<br>bagging_fraction: 0.7529362430858172<br>feature_fraction: 0.6302066026205523<br>min_data_in_leaf: 33<br><b>Objective Value: 91621725.8507677</b>\",\"Trial #23<br>num_leaves: 1061<br>lambda_l1: 0.00015355351597731294<br>lambda_l2: 5.745514547546445<br>bagging_fraction: 0.8314527408561924<br>feature_fraction: 0.8031609749541938<br>min_data_in_leaf: 19<br><b>Objective Value: 76399862.09058675</b>\"],\"marker\":{\"color\":[\"rgb(241.0, 250.0, 217.0)\",\"rgb(254.0, 206.0, 127.0)\",\"rgb(255.0, 241.0, 170.0)\",\"rgb(107.0, 163.0, 204.0)\",\"rgb(251.0, 156.0, 89.0)\",\"rgb(49.0, 54.0, 149.0)\",\"rgb(156.0, 205.0, 226.0)\",\"rgb(205.0, 234.0, 243.0)\",\"rgb(239.0, 98.0, 62.0)\",\"rgb(210.0, 44.0, 39.0)\",\"rgb(165.0, 0.0, 38.0)\",\"rgb(67.0, 111.0, 177.0)\"],\"line\":{\"color\":\"Grey\",\"width\":0.5}},\"mode\":\"markers\",\"showlegend\":false,\"x\":[1439,1265,2116,268,1785,2089,432,520,1885,965,245,1061],\"y\":[0.7163577515278541,0.8545212440556665,0.8652197681488225,0.5296948190278132,0.8980372193895749,0.7490233860912122,0.9624552497583828,0.41452867557838896,0.6659463999200744,0.5118115490578029,0.7529362430858172,0.8314527408561924],\"type\":\"scatter\",\"xaxis\":\"x6\",\"yaxis\":\"y6\"},{\"hovertemplate\":\"%{hovertext}<extra></extra>\",\"hovertext\":[\"Trial #0<br>num_leaves: 1439<br>lambda_l1: 0.019278434682866448<br>lambda_l2: 0.0018697723474761<br>bagging_fraction: 0.7163577515278541<br>feature_fraction: 0.7490702918310586<br>min_data_in_leaf: 75<br><b>Objective Value: 80313362.56217991</b>\",\"Trial #1<br>num_leaves: 1265<br>lambda_l1: 7.192128540811753<br>lambda_l2: 4.588164942004746e-05<br>bagging_fraction: 0.8545212440556665<br>feature_fraction: 0.942963580124861<br>min_data_in_leaf: 97<br><b>Objective Value: 82706514.56218801</b>\",\"Trial #2<br>num_leaves: 2116<br>lambda_l1: 1.402671077126005e-05<br>lambda_l2: 0.41577019681393745<br>bagging_fraction: 0.8652197681488225<br>feature_fraction: 0.9475268944322849<br>min_data_in_leaf: 30<br><b>Objective Value: 80454715.72998178</b>\",\"Trial #3<br>num_leaves: 268<br>lambda_l1: 5.91898916675316e-06<br>lambda_l2: 3.63461736652139e-08<br>bagging_fraction: 0.5296948190278132<br>feature_fraction: 0.7464478568892341<br>min_data_in_leaf: 99<br><b>Objective Value: 78247597.28986743</b>\",\"Trial #4<br>num_leaves: 1785<br>lambda_l1: 1.2176606593204724e-08<br>lambda_l2: 6.25276225187146e-05<br>bagging_fraction: 0.8980372193895749<br>feature_fraction: 0.7759061195202521<br>min_data_in_leaf: 88<br><b>Objective Value: 83488654.96000367</b>\",\"Trial #6<br>num_leaves: 2089<br>lambda_l1: 0.0881168631523731<br>lambda_l2: 0.0017629174978789357<br>bagging_fraction: 0.7490233860912122<br>feature_fraction: 0.6931598053620143<br>min_data_in_leaf: 15<br><b>Objective Value: 70140764.70892096</b>\",\"Trial #8<br>num_leaves: 432<br>lambda_l1: 1.4307546018943976e-05<br>lambda_l2: 0.638157926901561<br>bagging_fraction: 0.9624552497583828<br>feature_fraction: 0.9642445644501639<br>min_data_in_leaf: 25<br><b>Objective Value: 79399768.58151218</b>\",\"Trial #11<br>num_leaves: 520<br>lambda_l1: 0.0010134377640697253<br>lambda_l2: 1.3772614935461024e-08<br>bagging_fraction: 0.41452867557838896<br>feature_fraction: 0.7967159963062568<br>min_data_in_leaf: 62<br><b>Objective Value: 79925770.44181032</b>\",\"Trial #15<br>num_leaves: 1885<br>lambda_l1: 0.018892384451899783<br>lambda_l2: 5.067381273777158<br>bagging_fraction: 0.6659463999200744<br>feature_fraction: 0.8361864803282889<br>min_data_in_leaf: 100<br><b>Objective Value: 84277264.00433168</b>\",\"Trial #17<br>num_leaves: 965<br>lambda_l1: 2.3928872957010405e-05<br>lambda_l2: 1.187079924392479e-08<br>bagging_fraction: 0.5118115490578029<br>feature_fraction: 0.7382099028236617<br>min_data_in_leaf: 83<br><b>Objective Value: 87848151.36487645</b>\",\"Trial #20<br>num_leaves: 245<br>lambda_l1: 0.000174754169738027<br>lambda_l2: 0.00040584743230947975<br>bagging_fraction: 0.7529362430858172<br>feature_fraction: 0.6302066026205523<br>min_data_in_leaf: 33<br><b>Objective Value: 91621725.8507677</b>\",\"Trial #23<br>num_leaves: 1061<br>lambda_l1: 0.00015355351597731294<br>lambda_l2: 5.745514547546445<br>bagging_fraction: 0.8314527408561924<br>feature_fraction: 0.8031609749541938<br>min_data_in_leaf: 19<br><b>Objective Value: 76399862.09058675</b>\"],\"marker\":{\"color\":[\"rgb(241.0, 250.0, 217.0)\",\"rgb(254.0, 206.0, 127.0)\",\"rgb(255.0, 241.0, 170.0)\",\"rgb(107.0, 163.0, 204.0)\",\"rgb(251.0, 156.0, 89.0)\",\"rgb(49.0, 54.0, 149.0)\",\"rgb(156.0, 205.0, 226.0)\",\"rgb(205.0, 234.0, 243.0)\",\"rgb(239.0, 98.0, 62.0)\",\"rgb(210.0, 44.0, 39.0)\",\"rgb(165.0, 0.0, 38.0)\",\"rgb(67.0, 111.0, 177.0)\"],\"line\":{\"color\":\"Grey\",\"width\":0.5}},\"mode\":\"markers\",\"showlegend\":false,\"x\":[1439,1265,2116,268,1785,2089,432,520,1885,965,245,1061],\"y\":[0.7490702918310586,0.942963580124861,0.9475268944322849,0.7464478568892341,0.7759061195202521,0.6931598053620143,0.9642445644501639,0.7967159963062568,0.8361864803282889,0.7382099028236617,0.6302066026205523,0.8031609749541938],\"type\":\"scatter\",\"xaxis\":\"x12\",\"yaxis\":\"y12\"},{\"hovertemplate\":\"%{hovertext}<extra></extra>\",\"hovertext\":[\"Trial #0<br>num_leaves: 1439<br>lambda_l1: 0.019278434682866448<br>lambda_l2: 0.0018697723474761<br>bagging_fraction: 0.7163577515278541<br>feature_fraction: 0.7490702918310586<br>min_data_in_leaf: 75<br><b>Objective Value: 80313362.56217991</b>\",\"Trial #1<br>num_leaves: 1265<br>lambda_l1: 7.192128540811753<br>lambda_l2: 4.588164942004746e-05<br>bagging_fraction: 0.8545212440556665<br>feature_fraction: 0.942963580124861<br>min_data_in_leaf: 97<br><b>Objective Value: 82706514.56218801</b>\",\"Trial #2<br>num_leaves: 2116<br>lambda_l1: 1.402671077126005e-05<br>lambda_l2: 0.41577019681393745<br>bagging_fraction: 0.8652197681488225<br>feature_fraction: 0.9475268944322849<br>min_data_in_leaf: 30<br><b>Objective Value: 80454715.72998178</b>\",\"Trial #3<br>num_leaves: 268<br>lambda_l1: 5.91898916675316e-06<br>lambda_l2: 3.63461736652139e-08<br>bagging_fraction: 0.5296948190278132<br>feature_fraction: 0.7464478568892341<br>min_data_in_leaf: 99<br><b>Objective Value: 78247597.28986743</b>\",\"Trial #4<br>num_leaves: 1785<br>lambda_l1: 1.2176606593204724e-08<br>lambda_l2: 6.25276225187146e-05<br>bagging_fraction: 0.8980372193895749<br>feature_fraction: 0.7759061195202521<br>min_data_in_leaf: 88<br><b>Objective Value: 83488654.96000367</b>\",\"Trial #6<br>num_leaves: 2089<br>lambda_l1: 0.0881168631523731<br>lambda_l2: 0.0017629174978789357<br>bagging_fraction: 0.7490233860912122<br>feature_fraction: 0.6931598053620143<br>min_data_in_leaf: 15<br><b>Objective Value: 70140764.70892096</b>\",\"Trial #8<br>num_leaves: 432<br>lambda_l1: 1.4307546018943976e-05<br>lambda_l2: 0.638157926901561<br>bagging_fraction: 0.9624552497583828<br>feature_fraction: 0.9642445644501639<br>min_data_in_leaf: 25<br><b>Objective Value: 79399768.58151218</b>\",\"Trial #11<br>num_leaves: 520<br>lambda_l1: 0.0010134377640697253<br>lambda_l2: 1.3772614935461024e-08<br>bagging_fraction: 0.41452867557838896<br>feature_fraction: 0.7967159963062568<br>min_data_in_leaf: 62<br><b>Objective Value: 79925770.44181032</b>\",\"Trial #15<br>num_leaves: 1885<br>lambda_l1: 0.018892384451899783<br>lambda_l2: 5.067381273777158<br>bagging_fraction: 0.6659463999200744<br>feature_fraction: 0.8361864803282889<br>min_data_in_leaf: 100<br><b>Objective Value: 84277264.00433168</b>\",\"Trial #17<br>num_leaves: 965<br>lambda_l1: 2.3928872957010405e-05<br>lambda_l2: 1.187079924392479e-08<br>bagging_fraction: 0.5118115490578029<br>feature_fraction: 0.7382099028236617<br>min_data_in_leaf: 83<br><b>Objective Value: 87848151.36487645</b>\",\"Trial #20<br>num_leaves: 245<br>lambda_l1: 0.000174754169738027<br>lambda_l2: 0.00040584743230947975<br>bagging_fraction: 0.7529362430858172<br>feature_fraction: 0.6302066026205523<br>min_data_in_leaf: 33<br><b>Objective Value: 91621725.8507677</b>\",\"Trial #23<br>num_leaves: 1061<br>lambda_l1: 0.00015355351597731294<br>lambda_l2: 5.745514547546445<br>bagging_fraction: 0.8314527408561924<br>feature_fraction: 0.8031609749541938<br>min_data_in_leaf: 19<br><b>Objective Value: 76399862.09058675</b>\"],\"marker\":{\"color\":[\"rgb(241.0, 250.0, 217.0)\",\"rgb(254.0, 206.0, 127.0)\",\"rgb(255.0, 241.0, 170.0)\",\"rgb(107.0, 163.0, 204.0)\",\"rgb(251.0, 156.0, 89.0)\",\"rgb(49.0, 54.0, 149.0)\",\"rgb(156.0, 205.0, 226.0)\",\"rgb(205.0, 234.0, 243.0)\",\"rgb(239.0, 98.0, 62.0)\",\"rgb(210.0, 44.0, 39.0)\",\"rgb(165.0, 0.0, 38.0)\",\"rgb(67.0, 111.0, 177.0)\"],\"line\":{\"color\":\"Grey\",\"width\":0.5}},\"mode\":\"markers\",\"showlegend\":false,\"x\":[1439,1265,2116,268,1785,2089,432,520,1885,965,245,1061],\"y\":[0.019278434682866448,7.192128540811753,1.402671077126005e-05,5.91898916675316e-06,1.2176606593204724e-08,0.0881168631523731,1.4307546018943976e-05,0.0010134377640697253,0.018892384451899783,2.3928872957010405e-05,0.000174754169738027,0.00015355351597731294],\"type\":\"scatter\",\"xaxis\":\"x18\",\"yaxis\":\"y18\"},{\"hovertemplate\":\"%{hovertext}<extra></extra>\",\"hovertext\":[\"Trial #0<br>num_leaves: 1439<br>lambda_l1: 0.019278434682866448<br>lambda_l2: 0.0018697723474761<br>bagging_fraction: 0.7163577515278541<br>feature_fraction: 0.7490702918310586<br>min_data_in_leaf: 75<br><b>Objective Value: 80313362.56217991</b>\",\"Trial #1<br>num_leaves: 1265<br>lambda_l1: 7.192128540811753<br>lambda_l2: 4.588164942004746e-05<br>bagging_fraction: 0.8545212440556665<br>feature_fraction: 0.942963580124861<br>min_data_in_leaf: 97<br><b>Objective Value: 82706514.56218801</b>\",\"Trial #2<br>num_leaves: 2116<br>lambda_l1: 1.402671077126005e-05<br>lambda_l2: 0.41577019681393745<br>bagging_fraction: 0.8652197681488225<br>feature_fraction: 0.9475268944322849<br>min_data_in_leaf: 30<br><b>Objective Value: 80454715.72998178</b>\",\"Trial #3<br>num_leaves: 268<br>lambda_l1: 5.91898916675316e-06<br>lambda_l2: 3.63461736652139e-08<br>bagging_fraction: 0.5296948190278132<br>feature_fraction: 0.7464478568892341<br>min_data_in_leaf: 99<br><b>Objective Value: 78247597.28986743</b>\",\"Trial #4<br>num_leaves: 1785<br>lambda_l1: 1.2176606593204724e-08<br>lambda_l2: 6.25276225187146e-05<br>bagging_fraction: 0.8980372193895749<br>feature_fraction: 0.7759061195202521<br>min_data_in_leaf: 88<br><b>Objective Value: 83488654.96000367</b>\",\"Trial #6<br>num_leaves: 2089<br>lambda_l1: 0.0881168631523731<br>lambda_l2: 0.0017629174978789357<br>bagging_fraction: 0.7490233860912122<br>feature_fraction: 0.6931598053620143<br>min_data_in_leaf: 15<br><b>Objective Value: 70140764.70892096</b>\",\"Trial #8<br>num_leaves: 432<br>lambda_l1: 1.4307546018943976e-05<br>lambda_l2: 0.638157926901561<br>bagging_fraction: 0.9624552497583828<br>feature_fraction: 0.9642445644501639<br>min_data_in_leaf: 25<br><b>Objective Value: 79399768.58151218</b>\",\"Trial #11<br>num_leaves: 520<br>lambda_l1: 0.0010134377640697253<br>lambda_l2: 1.3772614935461024e-08<br>bagging_fraction: 0.41452867557838896<br>feature_fraction: 0.7967159963062568<br>min_data_in_leaf: 62<br><b>Objective Value: 79925770.44181032</b>\",\"Trial #15<br>num_leaves: 1885<br>lambda_l1: 0.018892384451899783<br>lambda_l2: 5.067381273777158<br>bagging_fraction: 0.6659463999200744<br>feature_fraction: 0.8361864803282889<br>min_data_in_leaf: 100<br><b>Objective Value: 84277264.00433168</b>\",\"Trial #17<br>num_leaves: 965<br>lambda_l1: 2.3928872957010405e-05<br>lambda_l2: 1.187079924392479e-08<br>bagging_fraction: 0.5118115490578029<br>feature_fraction: 0.7382099028236617<br>min_data_in_leaf: 83<br><b>Objective Value: 87848151.36487645</b>\",\"Trial #20<br>num_leaves: 245<br>lambda_l1: 0.000174754169738027<br>lambda_l2: 0.00040584743230947975<br>bagging_fraction: 0.7529362430858172<br>feature_fraction: 0.6302066026205523<br>min_data_in_leaf: 33<br><b>Objective Value: 91621725.8507677</b>\",\"Trial #23<br>num_leaves: 1061<br>lambda_l1: 0.00015355351597731294<br>lambda_l2: 5.745514547546445<br>bagging_fraction: 0.8314527408561924<br>feature_fraction: 0.8031609749541938<br>min_data_in_leaf: 19<br><b>Objective Value: 76399862.09058675</b>\"],\"marker\":{\"color\":[\"rgb(241.0, 250.0, 217.0)\",\"rgb(254.0, 206.0, 127.0)\",\"rgb(255.0, 241.0, 170.0)\",\"rgb(107.0, 163.0, 204.0)\",\"rgb(251.0, 156.0, 89.0)\",\"rgb(49.0, 54.0, 149.0)\",\"rgb(156.0, 205.0, 226.0)\",\"rgb(205.0, 234.0, 243.0)\",\"rgb(239.0, 98.0, 62.0)\",\"rgb(210.0, 44.0, 39.0)\",\"rgb(165.0, 0.0, 38.0)\",\"rgb(67.0, 111.0, 177.0)\"],\"line\":{\"color\":\"Grey\",\"width\":0.5}},\"mode\":\"markers\",\"showlegend\":false,\"x\":[1439,1265,2116,268,1785,2089,432,520,1885,965,245,1061],\"y\":[0.0018697723474761,4.588164942004746e-05,0.41577019681393745,3.63461736652139e-08,6.25276225187146e-05,0.0017629174978789357,0.638157926901561,1.3772614935461024e-08,5.067381273777158,1.187079924392479e-08,0.00040584743230947975,5.745514547546445],\"type\":\"scatter\",\"xaxis\":\"x24\",\"yaxis\":\"y24\"},{\"hovertemplate\":\"%{hovertext}<extra></extra>\",\"hovertext\":[\"Trial #0<br>num_leaves: 1439<br>lambda_l1: 0.019278434682866448<br>lambda_l2: 0.0018697723474761<br>bagging_fraction: 0.7163577515278541<br>feature_fraction: 0.7490702918310586<br>min_data_in_leaf: 75<br><b>Objective Value: 80313362.56217991</b>\",\"Trial #1<br>num_leaves: 1265<br>lambda_l1: 7.192128540811753<br>lambda_l2: 4.588164942004746e-05<br>bagging_fraction: 0.8545212440556665<br>feature_fraction: 0.942963580124861<br>min_data_in_leaf: 97<br><b>Objective Value: 82706514.56218801</b>\",\"Trial #2<br>num_leaves: 2116<br>lambda_l1: 1.402671077126005e-05<br>lambda_l2: 0.41577019681393745<br>bagging_fraction: 0.8652197681488225<br>feature_fraction: 0.9475268944322849<br>min_data_in_leaf: 30<br><b>Objective Value: 80454715.72998178</b>\",\"Trial #3<br>num_leaves: 268<br>lambda_l1: 5.91898916675316e-06<br>lambda_l2: 3.63461736652139e-08<br>bagging_fraction: 0.5296948190278132<br>feature_fraction: 0.7464478568892341<br>min_data_in_leaf: 99<br><b>Objective Value: 78247597.28986743</b>\",\"Trial #4<br>num_leaves: 1785<br>lambda_l1: 1.2176606593204724e-08<br>lambda_l2: 6.25276225187146e-05<br>bagging_fraction: 0.8980372193895749<br>feature_fraction: 0.7759061195202521<br>min_data_in_leaf: 88<br><b>Objective Value: 83488654.96000367</b>\",\"Trial #6<br>num_leaves: 2089<br>lambda_l1: 0.0881168631523731<br>lambda_l2: 0.0017629174978789357<br>bagging_fraction: 0.7490233860912122<br>feature_fraction: 0.6931598053620143<br>min_data_in_leaf: 15<br><b>Objective Value: 70140764.70892096</b>\",\"Trial #8<br>num_leaves: 432<br>lambda_l1: 1.4307546018943976e-05<br>lambda_l2: 0.638157926901561<br>bagging_fraction: 0.9624552497583828<br>feature_fraction: 0.9642445644501639<br>min_data_in_leaf: 25<br><b>Objective Value: 79399768.58151218</b>\",\"Trial #11<br>num_leaves: 520<br>lambda_l1: 0.0010134377640697253<br>lambda_l2: 1.3772614935461024e-08<br>bagging_fraction: 0.41452867557838896<br>feature_fraction: 0.7967159963062568<br>min_data_in_leaf: 62<br><b>Objective Value: 79925770.44181032</b>\",\"Trial #15<br>num_leaves: 1885<br>lambda_l1: 0.018892384451899783<br>lambda_l2: 5.067381273777158<br>bagging_fraction: 0.6659463999200744<br>feature_fraction: 0.8361864803282889<br>min_data_in_leaf: 100<br><b>Objective Value: 84277264.00433168</b>\",\"Trial #17<br>num_leaves: 965<br>lambda_l1: 2.3928872957010405e-05<br>lambda_l2: 1.187079924392479e-08<br>bagging_fraction: 0.5118115490578029<br>feature_fraction: 0.7382099028236617<br>min_data_in_leaf: 83<br><b>Objective Value: 87848151.36487645</b>\",\"Trial #20<br>num_leaves: 245<br>lambda_l1: 0.000174754169738027<br>lambda_l2: 0.00040584743230947975<br>bagging_fraction: 0.7529362430858172<br>feature_fraction: 0.6302066026205523<br>min_data_in_leaf: 33<br><b>Objective Value: 91621725.8507677</b>\",\"Trial #23<br>num_leaves: 1061<br>lambda_l1: 0.00015355351597731294<br>lambda_l2: 5.745514547546445<br>bagging_fraction: 0.8314527408561924<br>feature_fraction: 0.8031609749541938<br>min_data_in_leaf: 19<br><b>Objective Value: 76399862.09058675</b>\"],\"marker\":{\"color\":[\"rgb(241.0, 250.0, 217.0)\",\"rgb(254.0, 206.0, 127.0)\",\"rgb(255.0, 241.0, 170.0)\",\"rgb(107.0, 163.0, 204.0)\",\"rgb(251.0, 156.0, 89.0)\",\"rgb(49.0, 54.0, 149.0)\",\"rgb(156.0, 205.0, 226.0)\",\"rgb(205.0, 234.0, 243.0)\",\"rgb(239.0, 98.0, 62.0)\",\"rgb(210.0, 44.0, 39.0)\",\"rgb(165.0, 0.0, 38.0)\",\"rgb(67.0, 111.0, 177.0)\"],\"line\":{\"color\":\"Grey\",\"width\":0.5}},\"mode\":\"markers\",\"showlegend\":false,\"x\":[1439,1265,2116,268,1785,2089,432,520,1885,965,245,1061],\"y\":[75,97,30,99,88,15,25,62,100,83,33,19],\"type\":\"scatter\",\"xaxis\":\"x30\",\"yaxis\":\"y30\"},{\"hovertemplate\":\"%{hovertext}<extra></extra>\",\"hovertext\":[\"Trial #0<br>num_leaves: 1439<br>lambda_l1: 0.019278434682866448<br>lambda_l2: 0.0018697723474761<br>bagging_fraction: 0.7163577515278541<br>feature_fraction: 0.7490702918310586<br>min_data_in_leaf: 75<br><b>Objective Value: 80313362.56217991</b>\",\"Trial #1<br>num_leaves: 1265<br>lambda_l1: 7.192128540811753<br>lambda_l2: 4.588164942004746e-05<br>bagging_fraction: 0.8545212440556665<br>feature_fraction: 0.942963580124861<br>min_data_in_leaf: 97<br><b>Objective Value: 82706514.56218801</b>\",\"Trial #2<br>num_leaves: 2116<br>lambda_l1: 1.402671077126005e-05<br>lambda_l2: 0.41577019681393745<br>bagging_fraction: 0.8652197681488225<br>feature_fraction: 0.9475268944322849<br>min_data_in_leaf: 30<br><b>Objective Value: 80454715.72998178</b>\",\"Trial #3<br>num_leaves: 268<br>lambda_l1: 5.91898916675316e-06<br>lambda_l2: 3.63461736652139e-08<br>bagging_fraction: 0.5296948190278132<br>feature_fraction: 0.7464478568892341<br>min_data_in_leaf: 99<br><b>Objective Value: 78247597.28986743</b>\",\"Trial #4<br>num_leaves: 1785<br>lambda_l1: 1.2176606593204724e-08<br>lambda_l2: 6.25276225187146e-05<br>bagging_fraction: 0.8980372193895749<br>feature_fraction: 0.7759061195202521<br>min_data_in_leaf: 88<br><b>Objective Value: 83488654.96000367</b>\",\"Trial #6<br>num_leaves: 2089<br>lambda_l1: 0.0881168631523731<br>lambda_l2: 0.0017629174978789357<br>bagging_fraction: 0.7490233860912122<br>feature_fraction: 0.6931598053620143<br>min_data_in_leaf: 15<br><b>Objective Value: 70140764.70892096</b>\",\"Trial #8<br>num_leaves: 432<br>lambda_l1: 1.4307546018943976e-05<br>lambda_l2: 0.638157926901561<br>bagging_fraction: 0.9624552497583828<br>feature_fraction: 0.9642445644501639<br>min_data_in_leaf: 25<br><b>Objective Value: 79399768.58151218</b>\",\"Trial #11<br>num_leaves: 520<br>lambda_l1: 0.0010134377640697253<br>lambda_l2: 1.3772614935461024e-08<br>bagging_fraction: 0.41452867557838896<br>feature_fraction: 0.7967159963062568<br>min_data_in_leaf: 62<br><b>Objective Value: 79925770.44181032</b>\",\"Trial #15<br>num_leaves: 1885<br>lambda_l1: 0.018892384451899783<br>lambda_l2: 5.067381273777158<br>bagging_fraction: 0.6659463999200744<br>feature_fraction: 0.8361864803282889<br>min_data_in_leaf: 100<br><b>Objective Value: 84277264.00433168</b>\",\"Trial #17<br>num_leaves: 965<br>lambda_l1: 2.3928872957010405e-05<br>lambda_l2: 1.187079924392479e-08<br>bagging_fraction: 0.5118115490578029<br>feature_fraction: 0.7382099028236617<br>min_data_in_leaf: 83<br><b>Objective Value: 87848151.36487645</b>\",\"Trial #20<br>num_leaves: 245<br>lambda_l1: 0.000174754169738027<br>lambda_l2: 0.00040584743230947975<br>bagging_fraction: 0.7529362430858172<br>feature_fraction: 0.6302066026205523<br>min_data_in_leaf: 33<br><b>Objective Value: 91621725.8507677</b>\",\"Trial #23<br>num_leaves: 1061<br>lambda_l1: 0.00015355351597731294<br>lambda_l2: 5.745514547546445<br>bagging_fraction: 0.8314527408561924<br>feature_fraction: 0.8031609749541938<br>min_data_in_leaf: 19<br><b>Objective Value: 76399862.09058675</b>\"],\"marker\":{\"color\":[\"rgb(241.0, 250.0, 217.0)\",\"rgb(254.0, 206.0, 127.0)\",\"rgb(255.0, 241.0, 170.0)\",\"rgb(107.0, 163.0, 204.0)\",\"rgb(251.0, 156.0, 89.0)\",\"rgb(49.0, 54.0, 149.0)\",\"rgb(156.0, 205.0, 226.0)\",\"rgb(205.0, 234.0, 243.0)\",\"rgb(239.0, 98.0, 62.0)\",\"rgb(210.0, 44.0, 39.0)\",\"rgb(165.0, 0.0, 38.0)\",\"rgb(67.0, 111.0, 177.0)\"],\"line\":{\"color\":\"Grey\",\"width\":0.5}},\"mode\":\"markers\",\"showlegend\":false,\"x\":[1439,1265,2116,268,1785,2089,432,520,1885,965,245,1061],\"y\":[1439,1265,2116,268,1785,2089,432,520,1885,965,245,1061],\"type\":\"scatter\",\"xaxis\":\"x36\",\"yaxis\":\"y36\"},{\"hoverinfo\":\"none\",\"marker\":{\"cmax\":1,\"cmin\":0,\"colorbar\":{\"thickness\":10,\"ticktext\":[\"min. (7.01408e+07)\",\"25% (7.91117e+07)\",\"50% (8.0384e+07)\",\"75% (8.36858e+07)\",\"max. (9.16217e+07)\"],\"tickvals\":[0,0.25,0.5,0.75,1]},\"colorscale\":[[0.0,\"rgb(49,54,149)\"],[0.1,\"rgb(69,117,180)\"],[0.2,\"rgb(116,173,209)\"],[0.3,\"rgb(171,217,233)\"],[0.4,\"rgb(224,243,248)\"],[0.5,\"rgb(255,255,191)\"],[0.6,\"rgb(254,224,144)\"],[0.7,\"rgb(253,174,97)\"],[0.8,\"rgb(244,109,67)\"],[0.9,\"rgb(215,48,39)\"],[1.0,\"rgb(165,0,38)\"]],\"showscale\":true},\"mode\":\"markers\",\"showlegend\":false,\"x\":[null],\"y\":[null],\"type\":\"scatter\"}],                        {\"template\":{\"data\":{\"histogram2dcontour\":[{\"type\":\"histogram2dcontour\",\"colorbar\":{\"outlinewidth\":0,\"ticks\":\"\"},\"colorscale\":[[0.0,\"#0d0887\"],[0.1111111111111111,\"#46039f\"],[0.2222222222222222,\"#7201a8\"],[0.3333333333333333,\"#9c179e\"],[0.4444444444444444,\"#bd3786\"],[0.5555555555555556,\"#d8576b\"],[0.6666666666666666,\"#ed7953\"],[0.7777777777777778,\"#fb9f3a\"],[0.8888888888888888,\"#fdca26\"],[1.0,\"#f0f921\"]]}],\"choropleth\":[{\"type\":\"choropleth\",\"colorbar\":{\"outlinewidth\":0,\"ticks\":\"\"}}],\"histogram2d\":[{\"type\":\"histogram2d\",\"colorbar\":{\"outlinewidth\":0,\"ticks\":\"\"},\"colorscale\":[[0.0,\"#0d0887\"],[0.1111111111111111,\"#46039f\"],[0.2222222222222222,\"#7201a8\"],[0.3333333333333333,\"#9c179e\"],[0.4444444444444444,\"#bd3786\"],[0.5555555555555556,\"#d8576b\"],[0.6666666666666666,\"#ed7953\"],[0.7777777777777778,\"#fb9f3a\"],[0.8888888888888888,\"#fdca26\"],[1.0,\"#f0f921\"]]}],\"heatmap\":[{\"type\":\"heatmap\",\"colorbar\":{\"outlinewidth\":0,\"ticks\":\"\"},\"colorscale\":[[0.0,\"#0d0887\"],[0.1111111111111111,\"#46039f\"],[0.2222222222222222,\"#7201a8\"],[0.3333333333333333,\"#9c179e\"],[0.4444444444444444,\"#bd3786\"],[0.5555555555555556,\"#d8576b\"],[0.6666666666666666,\"#ed7953\"],[0.7777777777777778,\"#fb9f3a\"],[0.8888888888888888,\"#fdca26\"],[1.0,\"#f0f921\"]]}],\"heatmapgl\":[{\"type\":\"heatmapgl\",\"colorbar\":{\"outlinewidth\":0,\"ticks\":\"\"},\"colorscale\":[[0.0,\"#0d0887\"],[0.1111111111111111,\"#46039f\"],[0.2222222222222222,\"#7201a8\"],[0.3333333333333333,\"#9c179e\"],[0.4444444444444444,\"#bd3786\"],[0.5555555555555556,\"#d8576b\"],[0.6666666666666666,\"#ed7953\"],[0.7777777777777778,\"#fb9f3a\"],[0.8888888888888888,\"#fdca26\"],[1.0,\"#f0f921\"]]}],\"contourcarpet\":[{\"type\":\"contourcarpet\",\"colorbar\":{\"outlinewidth\":0,\"ticks\":\"\"}}],\"contour\":[{\"type\":\"contour\",\"colorbar\":{\"outlinewidth\":0,\"ticks\":\"\"},\"colorscale\":[[0.0,\"#0d0887\"],[0.1111111111111111,\"#46039f\"],[0.2222222222222222,\"#7201a8\"],[0.3333333333333333,\"#9c179e\"],[0.4444444444444444,\"#bd3786\"],[0.5555555555555556,\"#d8576b\"],[0.6666666666666666,\"#ed7953\"],[0.7777777777777778,\"#fb9f3a\"],[0.8888888888888888,\"#fdca26\"],[1.0,\"#f0f921\"]]}],\"surface\":[{\"type\":\"surface\",\"colorbar\":{\"outlinewidth\":0,\"ticks\":\"\"},\"colorscale\":[[0.0,\"#0d0887\"],[0.1111111111111111,\"#46039f\"],[0.2222222222222222,\"#7201a8\"],[0.3333333333333333,\"#9c179e\"],[0.4444444444444444,\"#bd3786\"],[0.5555555555555556,\"#d8576b\"],[0.6666666666666666,\"#ed7953\"],[0.7777777777777778,\"#fb9f3a\"],[0.8888888888888888,\"#fdca26\"],[1.0,\"#f0f921\"]]}],\"mesh3d\":[{\"type\":\"mesh3d\",\"colorbar\":{\"outlinewidth\":0,\"ticks\":\"\"}}],\"scatter\":[{\"fillpattern\":{\"fillmode\":\"overlay\",\"size\":10,\"solidity\":0.2},\"type\":\"scatter\"}],\"parcoords\":[{\"type\":\"parcoords\",\"line\":{\"colorbar\":{\"outlinewidth\":0,\"ticks\":\"\"}}}],\"scatterpolargl\":[{\"type\":\"scatterpolargl\",\"marker\":{\"colorbar\":{\"outlinewidth\":0,\"ticks\":\"\"}}}],\"bar\":[{\"error_x\":{\"color\":\"#2a3f5f\"},\"error_y\":{\"color\":\"#2a3f5f\"},\"marker\":{\"line\":{\"color\":\"#E5ECF6\",\"width\":0.5},\"pattern\":{\"fillmode\":\"overlay\",\"size\":10,\"solidity\":0.2}},\"type\":\"bar\"}],\"scattergeo\":[{\"type\":\"scattergeo\",\"marker\":{\"colorbar\":{\"outlinewidth\":0,\"ticks\":\"\"}}}],\"scatterpolar\":[{\"type\":\"scatterpolar\",\"marker\":{\"colorbar\":{\"outlinewidth\":0,\"ticks\":\"\"}}}],\"histogram\":[{\"marker\":{\"pattern\":{\"fillmode\":\"overlay\",\"size\":10,\"solidity\":0.2}},\"type\":\"histogram\"}],\"scattergl\":[{\"type\":\"scattergl\",\"marker\":{\"colorbar\":{\"outlinewidth\":0,\"ticks\":\"\"}}}],\"scatter3d\":[{\"type\":\"scatter3d\",\"line\":{\"colorbar\":{\"outlinewidth\":0,\"ticks\":\"\"}},\"marker\":{\"colorbar\":{\"outlinewidth\":0,\"ticks\":\"\"}}}],\"scattermapbox\":[{\"type\":\"scattermapbox\",\"marker\":{\"colorbar\":{\"outlinewidth\":0,\"ticks\":\"\"}}}],\"scatterternary\":[{\"type\":\"scatterternary\",\"marker\":{\"colorbar\":{\"outlinewidth\":0,\"ticks\":\"\"}}}],\"scattercarpet\":[{\"type\":\"scattercarpet\",\"marker\":{\"colorbar\":{\"outlinewidth\":0,\"ticks\":\"\"}}}],\"carpet\":[{\"aaxis\":{\"endlinecolor\":\"#2a3f5f\",\"gridcolor\":\"white\",\"linecolor\":\"white\",\"minorgridcolor\":\"white\",\"startlinecolor\":\"#2a3f5f\"},\"baxis\":{\"endlinecolor\":\"#2a3f5f\",\"gridcolor\":\"white\",\"linecolor\":\"white\",\"minorgridcolor\":\"white\",\"startlinecolor\":\"#2a3f5f\"},\"type\":\"carpet\"}],\"table\":[{\"cells\":{\"fill\":{\"color\":\"#EBF0F8\"},\"line\":{\"color\":\"white\"}},\"header\":{\"fill\":{\"color\":\"#C8D4E3\"},\"line\":{\"color\":\"white\"}},\"type\":\"table\"}],\"barpolar\":[{\"marker\":{\"line\":{\"color\":\"#E5ECF6\",\"width\":0.5},\"pattern\":{\"fillmode\":\"overlay\",\"size\":10,\"solidity\":0.2}},\"type\":\"barpolar\"}],\"pie\":[{\"automargin\":true,\"type\":\"pie\"}]},\"layout\":{\"autotypenumbers\":\"strict\",\"colorway\":[\"#636efa\",\"#EF553B\",\"#00cc96\",\"#ab63fa\",\"#FFA15A\",\"#19d3f3\",\"#FF6692\",\"#B6E880\",\"#FF97FF\",\"#FECB52\"],\"font\":{\"color\":\"#2a3f5f\"},\"hovermode\":\"closest\",\"hoverlabel\":{\"align\":\"left\"},\"paper_bgcolor\":\"white\",\"plot_bgcolor\":\"#E5ECF6\",\"polar\":{\"bgcolor\":\"#E5ECF6\",\"angularaxis\":{\"gridcolor\":\"white\",\"linecolor\":\"white\",\"ticks\":\"\"},\"radialaxis\":{\"gridcolor\":\"white\",\"linecolor\":\"white\",\"ticks\":\"\"}},\"ternary\":{\"bgcolor\":\"#E5ECF6\",\"aaxis\":{\"gridcolor\":\"white\",\"linecolor\":\"white\",\"ticks\":\"\"},\"baxis\":{\"gridcolor\":\"white\",\"linecolor\":\"white\",\"ticks\":\"\"},\"caxis\":{\"gridcolor\":\"white\",\"linecolor\":\"white\",\"ticks\":\"\"}},\"coloraxis\":{\"colorbar\":{\"outlinewidth\":0,\"ticks\":\"\"}},\"colorscale\":{\"sequential\":[[0.0,\"#0d0887\"],[0.1111111111111111,\"#46039f\"],[0.2222222222222222,\"#7201a8\"],[0.3333333333333333,\"#9c179e\"],[0.4444444444444444,\"#bd3786\"],[0.5555555555555556,\"#d8576b\"],[0.6666666666666666,\"#ed7953\"],[0.7777777777777778,\"#fb9f3a\"],[0.8888888888888888,\"#fdca26\"],[1.0,\"#f0f921\"]],\"sequentialminus\":[[0.0,\"#0d0887\"],[0.1111111111111111,\"#46039f\"],[0.2222222222222222,\"#7201a8\"],[0.3333333333333333,\"#9c179e\"],[0.4444444444444444,\"#bd3786\"],[0.5555555555555556,\"#d8576b\"],[0.6666666666666666,\"#ed7953\"],[0.7777777777777778,\"#fb9f3a\"],[0.8888888888888888,\"#fdca26\"],[1.0,\"#f0f921\"]],\"diverging\":[[0,\"#8e0152\"],[0.1,\"#c51b7d\"],[0.2,\"#de77ae\"],[0.3,\"#f1b6da\"],[0.4,\"#fde0ef\"],[0.5,\"#f7f7f7\"],[0.6,\"#e6f5d0\"],[0.7,\"#b8e186\"],[0.8,\"#7fbc41\"],[0.9,\"#4d9221\"],[1,\"#276419\"]]},\"xaxis\":{\"gridcolor\":\"white\",\"linecolor\":\"white\",\"ticks\":\"\",\"title\":{\"standoff\":15},\"zerolinecolor\":\"white\",\"automargin\":true,\"zerolinewidth\":2},\"yaxis\":{\"gridcolor\":\"white\",\"linecolor\":\"white\",\"ticks\":\"\",\"title\":{\"standoff\":15},\"zerolinecolor\":\"white\",\"automargin\":true,\"zerolinewidth\":2},\"scene\":{\"xaxis\":{\"backgroundcolor\":\"#E5ECF6\",\"gridcolor\":\"white\",\"linecolor\":\"white\",\"showbackground\":true,\"ticks\":\"\",\"zerolinecolor\":\"white\",\"gridwidth\":2},\"yaxis\":{\"backgroundcolor\":\"#E5ECF6\",\"gridcolor\":\"white\",\"linecolor\":\"white\",\"showbackground\":true,\"ticks\":\"\",\"zerolinecolor\":\"white\",\"gridwidth\":2},\"zaxis\":{\"backgroundcolor\":\"#E5ECF6\",\"gridcolor\":\"white\",\"linecolor\":\"white\",\"showbackground\":true,\"ticks\":\"\",\"zerolinecolor\":\"white\",\"gridwidth\":2}},\"shapedefaults\":{\"line\":{\"color\":\"#2a3f5f\"}},\"annotationdefaults\":{\"arrowcolor\":\"#2a3f5f\",\"arrowhead\":0,\"arrowwidth\":1},\"geo\":{\"bgcolor\":\"white\",\"landcolor\":\"#E5ECF6\",\"subunitcolor\":\"white\",\"showland\":true,\"showlakes\":true,\"lakecolor\":\"white\"},\"title\":{\"x\":0.05},\"mapbox\":{\"style\":\"light\"}}},\"xaxis\":{\"anchor\":\"y\",\"domain\":[0.0,0.15555555555555556],\"matches\":\"x31\",\"showticklabels\":false,\"range\":[0.38713234686938924,0.9898515784673825]},\"yaxis\":{\"anchor\":\"x\",\"domain\":[0.8444444444444444,1.0],\"range\":[0.38713234686938924,0.9898515784673825],\"title\":{\"text\":\"bagging_fraction\"}},\"xaxis2\":{\"anchor\":\"y2\",\"domain\":[0.1688888888888889,0.3244444444444444],\"matches\":\"x32\",\"showticklabels\":false,\"range\":[0.6135047045290717,0.9809464625416445]},\"yaxis2\":{\"anchor\":\"x2\",\"domain\":[0.8444444444444444,1.0],\"matches\":\"y\",\"showticklabels\":false,\"range\":[0.38713234686938924,0.9898515784673825]},\"xaxis3\":{\"anchor\":\"y3\",\"domain\":[0.3377777777777778,0.49333333333333335],\"matches\":\"x33\",\"showticklabels\":false,\"range\":[-8.353040283390099,1.295423998981763],\"type\":\"log\"},\"yaxis3\":{\"anchor\":\"x3\",\"domain\":[0.8444444444444444,1.0],\"matches\":\"y\",\"showticklabels\":false,\"range\":[0.38713234686938924,0.9898515784673825]},\"xaxis4\":{\"anchor\":\"y4\",\"domain\":[0.5066666666666667,0.6622222222222223],\"matches\":\"x34\",\"showticklabels\":false,\"range\":[-8.35976248804743,1.1935713770247403],\"type\":\"log\"},\"yaxis4\":{\"anchor\":\"x4\",\"domain\":[0.8444444444444444,1.0],\"matches\":\"y\",\"showticklabels\":false,\"range\":[0.38713234686938924,0.9898515784673825]},\"xaxis5\":{\"anchor\":\"y5\",\"domain\":[0.6755555555555556,0.8311111111111111],\"matches\":\"x35\",\"showticklabels\":false,\"range\":[10.75,104.25]},\"yaxis5\":{\"anchor\":\"x5\",\"domain\":[0.8444444444444444,1.0],\"matches\":\"y\",\"showticklabels\":false,\"range\":[0.38713234686938924,0.9898515784673825]},\"xaxis6\":{\"anchor\":\"y6\",\"domain\":[0.8444444444444444,1.0],\"matches\":\"x36\",\"showticklabels\":false,\"range\":[151.45,2209.55]},\"yaxis6\":{\"anchor\":\"x6\",\"domain\":[0.8444444444444444,1.0],\"matches\":\"y\",\"showticklabels\":false,\"range\":[0.38713234686938924,0.9898515784673825]},\"xaxis7\":{\"anchor\":\"y7\",\"domain\":[0.0,0.15555555555555556],\"matches\":\"x31\",\"showticklabels\":false,\"range\":[0.38713234686938924,0.9898515784673825]},\"yaxis7\":{\"anchor\":\"x7\",\"domain\":[0.6755555555555556,0.8311111111111111],\"range\":[0.6135047045290717,0.9809464625416445],\"title\":{\"text\":\"feature_fraction\"}},\"xaxis8\":{\"anchor\":\"y8\",\"domain\":[0.1688888888888889,0.3244444444444444],\"matches\":\"x32\",\"showticklabels\":false,\"range\":[0.6135047045290717,0.9809464625416445]},\"yaxis8\":{\"anchor\":\"x8\",\"domain\":[0.6755555555555556,0.8311111111111111],\"matches\":\"y7\",\"showticklabels\":false,\"range\":[0.6135047045290717,0.9809464625416445]},\"xaxis9\":{\"anchor\":\"y9\",\"domain\":[0.3377777777777778,0.49333333333333335],\"matches\":\"x33\",\"showticklabels\":false,\"range\":[-8.353040283390099,1.295423998981763],\"type\":\"log\"},\"yaxis9\":{\"anchor\":\"x9\",\"domain\":[0.6755555555555556,0.8311111111111111],\"matches\":\"y7\",\"showticklabels\":false,\"range\":[0.6135047045290717,0.9809464625416445]},\"xaxis10\":{\"anchor\":\"y10\",\"domain\":[0.5066666666666667,0.6622222222222223],\"matches\":\"x34\",\"showticklabels\":false,\"range\":[-8.35976248804743,1.1935713770247403],\"type\":\"log\"},\"yaxis10\":{\"anchor\":\"x10\",\"domain\":[0.6755555555555556,0.8311111111111111],\"matches\":\"y7\",\"showticklabels\":false,\"range\":[0.6135047045290717,0.9809464625416445]},\"xaxis11\":{\"anchor\":\"y11\",\"domain\":[0.6755555555555556,0.8311111111111111],\"matches\":\"x35\",\"showticklabels\":false,\"range\":[10.75,104.25]},\"yaxis11\":{\"anchor\":\"x11\",\"domain\":[0.6755555555555556,0.8311111111111111],\"matches\":\"y7\",\"showticklabels\":false,\"range\":[0.6135047045290717,0.9809464625416445]},\"xaxis12\":{\"anchor\":\"y12\",\"domain\":[0.8444444444444444,1.0],\"matches\":\"x36\",\"showticklabels\":false,\"range\":[151.45,2209.55]},\"yaxis12\":{\"anchor\":\"x12\",\"domain\":[0.6755555555555556,0.8311111111111111],\"matches\":\"y7\",\"showticklabels\":false,\"range\":[0.6135047045290717,0.9809464625416445]},\"xaxis13\":{\"anchor\":\"y13\",\"domain\":[0.0,0.15555555555555556],\"matches\":\"x31\",\"showticklabels\":false,\"range\":[0.38713234686938924,0.9898515784673825]},\"yaxis13\":{\"anchor\":\"x13\",\"domain\":[0.5066666666666667,0.6622222222222223],\"range\":[-8.353040283390099,1.295423998981763],\"type\":\"log\",\"title\":{\"text\":\"lambda_l1\"}},\"xaxis14\":{\"anchor\":\"y14\",\"domain\":[0.1688888888888889,0.3244444444444444],\"matches\":\"x32\",\"showticklabels\":false,\"range\":[0.6135047045290717,0.9809464625416445]},\"yaxis14\":{\"anchor\":\"x14\",\"domain\":[0.5066666666666667,0.6622222222222223],\"matches\":\"y13\",\"showticklabels\":false,\"range\":[-8.353040283390099,1.295423998981763],\"type\":\"log\"},\"xaxis15\":{\"anchor\":\"y15\",\"domain\":[0.3377777777777778,0.49333333333333335],\"matches\":\"x33\",\"showticklabels\":false,\"range\":[-8.353040283390099,1.295423998981763],\"type\":\"log\"},\"yaxis15\":{\"anchor\":\"x15\",\"domain\":[0.5066666666666667,0.6622222222222223],\"matches\":\"y13\",\"showticklabels\":false,\"range\":[-8.353040283390099,1.295423998981763],\"type\":\"log\"},\"xaxis16\":{\"anchor\":\"y16\",\"domain\":[0.5066666666666667,0.6622222222222223],\"matches\":\"x34\",\"showticklabels\":false,\"range\":[-8.35976248804743,1.1935713770247403],\"type\":\"log\"},\"yaxis16\":{\"anchor\":\"x16\",\"domain\":[0.5066666666666667,0.6622222222222223],\"matches\":\"y13\",\"showticklabels\":false,\"range\":[-8.353040283390099,1.295423998981763],\"type\":\"log\"},\"xaxis17\":{\"anchor\":\"y17\",\"domain\":[0.6755555555555556,0.8311111111111111],\"matches\":\"x35\",\"showticklabels\":false,\"range\":[10.75,104.25]},\"yaxis17\":{\"anchor\":\"x17\",\"domain\":[0.5066666666666667,0.6622222222222223],\"matches\":\"y13\",\"showticklabels\":false,\"range\":[-8.353040283390099,1.295423998981763],\"type\":\"log\"},\"xaxis18\":{\"anchor\":\"y18\",\"domain\":[0.8444444444444444,1.0],\"matches\":\"x36\",\"showticklabels\":false,\"range\":[151.45,2209.55]},\"yaxis18\":{\"anchor\":\"x18\",\"domain\":[0.5066666666666667,0.6622222222222223],\"matches\":\"y13\",\"showticklabels\":false,\"range\":[-8.353040283390099,1.295423998981763],\"type\":\"log\"},\"xaxis19\":{\"anchor\":\"y19\",\"domain\":[0.0,0.15555555555555556],\"matches\":\"x31\",\"showticklabels\":false,\"range\":[0.38713234686938924,0.9898515784673825]},\"yaxis19\":{\"anchor\":\"x19\",\"domain\":[0.3377777777777778,0.49333333333333335],\"range\":[-8.35976248804743,1.1935713770247403],\"type\":\"log\",\"title\":{\"text\":\"lambda_l2\"}},\"xaxis20\":{\"anchor\":\"y20\",\"domain\":[0.1688888888888889,0.3244444444444444],\"matches\":\"x32\",\"showticklabels\":false,\"range\":[0.6135047045290717,0.9809464625416445]},\"yaxis20\":{\"anchor\":\"x20\",\"domain\":[0.3377777777777778,0.49333333333333335],\"matches\":\"y19\",\"showticklabels\":false,\"range\":[-8.35976248804743,1.1935713770247403],\"type\":\"log\"},\"xaxis21\":{\"anchor\":\"y21\",\"domain\":[0.3377777777777778,0.49333333333333335],\"matches\":\"x33\",\"showticklabels\":false,\"range\":[-8.353040283390099,1.295423998981763],\"type\":\"log\"},\"yaxis21\":{\"anchor\":\"x21\",\"domain\":[0.3377777777777778,0.49333333333333335],\"matches\":\"y19\",\"showticklabels\":false,\"range\":[-8.35976248804743,1.1935713770247403],\"type\":\"log\"},\"xaxis22\":{\"anchor\":\"y22\",\"domain\":[0.5066666666666667,0.6622222222222223],\"matches\":\"x34\",\"showticklabels\":false,\"range\":[-8.35976248804743,1.1935713770247403],\"type\":\"log\"},\"yaxis22\":{\"anchor\":\"x22\",\"domain\":[0.3377777777777778,0.49333333333333335],\"matches\":\"y19\",\"showticklabels\":false,\"range\":[-8.35976248804743,1.1935713770247403],\"type\":\"log\"},\"xaxis23\":{\"anchor\":\"y23\",\"domain\":[0.6755555555555556,0.8311111111111111],\"matches\":\"x35\",\"showticklabels\":false,\"range\":[10.75,104.25]},\"yaxis23\":{\"anchor\":\"x23\",\"domain\":[0.3377777777777778,0.49333333333333335],\"matches\":\"y19\",\"showticklabels\":false,\"range\":[-8.35976248804743,1.1935713770247403],\"type\":\"log\"},\"xaxis24\":{\"anchor\":\"y24\",\"domain\":[0.8444444444444444,1.0],\"matches\":\"x36\",\"showticklabels\":false,\"range\":[151.45,2209.55]},\"yaxis24\":{\"anchor\":\"x24\",\"domain\":[0.3377777777777778,0.49333333333333335],\"matches\":\"y19\",\"showticklabels\":false,\"range\":[-8.35976248804743,1.1935713770247403],\"type\":\"log\"},\"xaxis25\":{\"anchor\":\"y25\",\"domain\":[0.0,0.15555555555555556],\"matches\":\"x31\",\"showticklabels\":false,\"range\":[0.38713234686938924,0.9898515784673825]},\"yaxis25\":{\"anchor\":\"x25\",\"domain\":[0.1688888888888889,0.3244444444444444],\"range\":[10.75,104.25],\"title\":{\"text\":\"min_data_in_leaf\"}},\"xaxis26\":{\"anchor\":\"y26\",\"domain\":[0.1688888888888889,0.3244444444444444],\"matches\":\"x32\",\"showticklabels\":false,\"range\":[0.6135047045290717,0.9809464625416445]},\"yaxis26\":{\"anchor\":\"x26\",\"domain\":[0.1688888888888889,0.3244444444444444],\"matches\":\"y25\",\"showticklabels\":false,\"range\":[10.75,104.25]},\"xaxis27\":{\"anchor\":\"y27\",\"domain\":[0.3377777777777778,0.49333333333333335],\"matches\":\"x33\",\"showticklabels\":false,\"range\":[-8.353040283390099,1.295423998981763],\"type\":\"log\"},\"yaxis27\":{\"anchor\":\"x27\",\"domain\":[0.1688888888888889,0.3244444444444444],\"matches\":\"y25\",\"showticklabels\":false,\"range\":[10.75,104.25]},\"xaxis28\":{\"anchor\":\"y28\",\"domain\":[0.5066666666666667,0.6622222222222223],\"matches\":\"x34\",\"showticklabels\":false,\"range\":[-8.35976248804743,1.1935713770247403],\"type\":\"log\"},\"yaxis28\":{\"anchor\":\"x28\",\"domain\":[0.1688888888888889,0.3244444444444444],\"matches\":\"y25\",\"showticklabels\":false,\"range\":[10.75,104.25]},\"xaxis29\":{\"anchor\":\"y29\",\"domain\":[0.6755555555555556,0.8311111111111111],\"matches\":\"x35\",\"showticklabels\":false,\"range\":[10.75,104.25]},\"yaxis29\":{\"anchor\":\"x29\",\"domain\":[0.1688888888888889,0.3244444444444444],\"matches\":\"y25\",\"showticklabels\":false,\"range\":[10.75,104.25]},\"xaxis30\":{\"anchor\":\"y30\",\"domain\":[0.8444444444444444,1.0],\"matches\":\"x36\",\"showticklabels\":false,\"range\":[151.45,2209.55]},\"yaxis30\":{\"anchor\":\"x30\",\"domain\":[0.1688888888888889,0.3244444444444444],\"matches\":\"y25\",\"showticklabels\":false,\"range\":[10.75,104.25]},\"xaxis31\":{\"anchor\":\"y31\",\"domain\":[0.0,0.15555555555555556],\"range\":[0.38713234686938924,0.9898515784673825],\"title\":{\"text\":\"bagging_fraction\"}},\"yaxis31\":{\"anchor\":\"x31\",\"domain\":[0.0,0.15555555555555556],\"range\":[151.45,2209.55],\"title\":{\"text\":\"num_leaves\"}},\"xaxis32\":{\"anchor\":\"y32\",\"domain\":[0.1688888888888889,0.3244444444444444],\"range\":[0.6135047045290717,0.9809464625416445],\"title\":{\"text\":\"feature_fraction\"}},\"yaxis32\":{\"anchor\":\"x32\",\"domain\":[0.0,0.15555555555555556],\"matches\":\"y31\",\"showticklabels\":false,\"range\":[151.45,2209.55]},\"xaxis33\":{\"anchor\":\"y33\",\"domain\":[0.3377777777777778,0.49333333333333335],\"range\":[-8.353040283390099,1.295423998981763],\"type\":\"log\",\"title\":{\"text\":\"lambda_l1\"}},\"yaxis33\":{\"anchor\":\"x33\",\"domain\":[0.0,0.15555555555555556],\"matches\":\"y31\",\"showticklabels\":false,\"range\":[151.45,2209.55]},\"xaxis34\":{\"anchor\":\"y34\",\"domain\":[0.5066666666666667,0.6622222222222223],\"range\":[-8.35976248804743,1.1935713770247403],\"type\":\"log\",\"title\":{\"text\":\"lambda_l2\"}},\"yaxis34\":{\"anchor\":\"x34\",\"domain\":[0.0,0.15555555555555556],\"matches\":\"y31\",\"showticklabels\":false,\"range\":[151.45,2209.55]},\"xaxis35\":{\"anchor\":\"y35\",\"domain\":[0.6755555555555556,0.8311111111111111],\"range\":[10.75,104.25],\"title\":{\"text\":\"min_data_in_leaf\"}},\"yaxis35\":{\"anchor\":\"x35\",\"domain\":[0.0,0.15555555555555556],\"matches\":\"y31\",\"showticklabels\":false,\"range\":[151.45,2209.55]},\"xaxis36\":{\"anchor\":\"y36\",\"domain\":[0.8444444444444444,1.0],\"range\":[151.45,2209.55],\"title\":{\"text\":\"num_leaves\"}},\"yaxis36\":{\"anchor\":\"x36\",\"domain\":[0.0,0.15555555555555556],\"matches\":\"y31\",\"showticklabels\":false,\"range\":[151.45,2209.55]},\"title\":{\"text\":\"Rank (Objective Value)\"},\"height\":900},                        {\"responsive\": true}                    ).then(function(){\n",
              "                            \n",
              "var gd = document.getElementById('016d376a-0c6f-4e5e-8c9c-9a523936d25c');\n",
              "var x = new MutationObserver(function (mutations, observer) {{\n",
              "        var display = window.getComputedStyle(gd).display;\n",
              "        if (!display || display === 'none') {{\n",
              "            console.log([gd, 'removed!']);\n",
              "            Plotly.purge(gd);\n",
              "            observer.disconnect();\n",
              "        }}\n",
              "}});\n",
              "\n",
              "// Listen for the removal of the full notebook cells\n",
              "var notebookContainer = gd.closest('#notebook-container');\n",
              "if (notebookContainer) {{\n",
              "    x.observe(notebookContainer, {childList: true});\n",
              "}}\n",
              "\n",
              "// Listen for the clearing of the current output cell\n",
              "var outputEl = gd.closest('.output');\n",
              "if (outputEl) {{\n",
              "    x.observe(outputEl, {childList: true});\n",
              "}}\n",
              "\n",
              "                        })                };                            </script>        </div>\n",
              "</body>\n",
              "</html>"
            ]
          },
          "metadata": {}
        }
      ]
    },
    {
      "cell_type": "markdown",
      "source": [
        "## d. Forecast"
      ],
      "metadata": {
        "id": "GcJ1xnniBK7N"
      }
    },
    {
      "cell_type": "code",
      "source": [
        "best_params = {\n",
        "    **fixed_params,\n",
        "    **study.best_params,\n",
        "}\n",
        "\n",
        "fcst = MLForecast(\n",
        "    models=lgb.LGBMRegressor(**best_params),\n",
        "    **feature_config,\n",
        "    num_threads=4,\n",
        ")\n",
        "\n",
        "fcst.fit(train,\n",
        "        prediction_intervals=PredictionIntervals(n_windows=5, h=7)\n",
        ")"
      ],
      "metadata": {
        "colab": {
          "base_uri": "https://localhost:8080/"
        },
        "id": "Dl3KVdD8fVam",
        "outputId": "8af9ff00-7d20-4d33-8874-e96b6b5cdae2"
      },
      "execution_count": 47,
      "outputs": [
        {
          "output_type": "execute_result",
          "data": {
            "text/plain": [
              "MLForecast(models=[LGBMRegressor], freq=<Day>, lag_features=['lag1', 'lag2', 'lag3', 'lag4', 'lag5', 'lag6', 'lag7', 'lag8', 'lag9', 'lag10', 'lag11', 'lag12', 'lag13', 'lag14', 'lag15', 'lag16', 'lag17', 'lag18', 'lag19', 'lag20', 'lag21', 'lag22', 'lag23', 'lag24', 'lag25', 'lag26', 'lag27', 'lag28', 'lag29', 'lag30', 'lag31', 'ewm_mean_lag1_alpha0.3', 'ewm_mean_lag7_alpha0.3', 'rolling_mean_lag7_window_size7', 'rolling_std_lag7_window_size7', 'rolling_mean_lag7_window_size14', 'rolling_std_lag7_window_size14', 'seasonal_rolling_mean_lag7_season_length7_window_size3', 'seasonal_rolling_std_lag7_season_length7_window_size3', 'ewm_mean_lag14_alpha0.3', 'rolling_mean_lag14_window_size7', 'rolling_std_lag14_window_size7', 'rolling_mean_lag14_window_size14', 'rolling_std_lag14_window_size14', 'seasonal_rolling_mean_lag14_season_length7_window_size2', 'seasonal_rolling_std_lag14_season_length7_window_size2', 'ewm_mean_lag21_alpha0.3', 'rolling_mean_lag21_window_size7', 'rolling_std_lag21_window_size7', 'ewm_mean_lag29_alpha0.3', 'ewm_mean_lag30_alpha0.3', 'ewm_mean_lag31_alpha0.3'], date_features=['month', 'day', 'dayofweek', 'week', 'quarter', 'dayofyear'], num_threads=4)"
            ]
          },
          "metadata": {},
          "execution_count": 47
        }
      ]
    },
    {
      "cell_type": "code",
      "source": [
        "levels = [80]\n",
        "ml_forecasts = fcst.predict(7, level=levels)\n",
        "ml_forecasts.tail()"
      ],
      "metadata": {
        "colab": {
          "base_uri": "https://localhost:8080/",
          "height": 206
        },
        "id": "zyhhE7VVg-VC",
        "outputId": "4b81b595-8606-4330-85b3-aad64cb5f02e"
      },
      "execution_count": 51,
      "outputs": [
        {
          "output_type": "execute_result",
          "data": {
            "text/plain": [
              "    unique_id         ds  LGBMRegressor  LGBMRegressor-lo-80  \\\n",
              "163         x 2023-11-22   3.838287e+09         3.363647e+09   \n",
              "164         x 2023-11-23   3.670741e+09         3.008633e+09   \n",
              "165         x 2023-11-24   3.294662e+09         1.995273e+09   \n",
              "166         x 2023-11-25   3.473726e+09         3.148231e+09   \n",
              "167         x 2023-11-26   2.513221e+09         1.708499e+09   \n",
              "\n",
              "     LGBMRegressor-hi-80  \n",
              "163         4.312927e+09  \n",
              "164         4.332848e+09  \n",
              "165         4.594050e+09  \n",
              "166         3.799221e+09  \n",
              "167         3.317944e+09  "
            ],
            "text/html": [
              "<div>\n",
              "<style scoped>\n",
              "    .dataframe tbody tr th:only-of-type {\n",
              "        vertical-align: middle;\n",
              "    }\n",
              "\n",
              "    .dataframe tbody tr th {\n",
              "        vertical-align: top;\n",
              "    }\n",
              "\n",
              "    .dataframe thead th {\n",
              "        text-align: right;\n",
              "    }\n",
              "</style>\n",
              "<table border=\"1\" class=\"dataframe\">\n",
              "  <thead>\n",
              "    <tr style=\"text-align: right;\">\n",
              "      <th></th>\n",
              "      <th>unique_id</th>\n",
              "      <th>ds</th>\n",
              "      <th>LGBMRegressor</th>\n",
              "      <th>LGBMRegressor-lo-80</th>\n",
              "      <th>LGBMRegressor-hi-80</th>\n",
              "    </tr>\n",
              "  </thead>\n",
              "  <tbody>\n",
              "    <tr>\n",
              "      <th>163</th>\n",
              "      <td>x</td>\n",
              "      <td>2023-11-22</td>\n",
              "      <td>3.838287e+09</td>\n",
              "      <td>3.363647e+09</td>\n",
              "      <td>4.312927e+09</td>\n",
              "    </tr>\n",
              "    <tr>\n",
              "      <th>164</th>\n",
              "      <td>x</td>\n",
              "      <td>2023-11-23</td>\n",
              "      <td>3.670741e+09</td>\n",
              "      <td>3.008633e+09</td>\n",
              "      <td>4.332848e+09</td>\n",
              "    </tr>\n",
              "    <tr>\n",
              "      <th>165</th>\n",
              "      <td>x</td>\n",
              "      <td>2023-11-24</td>\n",
              "      <td>3.294662e+09</td>\n",
              "      <td>1.995273e+09</td>\n",
              "      <td>4.594050e+09</td>\n",
              "    </tr>\n",
              "    <tr>\n",
              "      <th>166</th>\n",
              "      <td>x</td>\n",
              "      <td>2023-11-25</td>\n",
              "      <td>3.473726e+09</td>\n",
              "      <td>3.148231e+09</td>\n",
              "      <td>3.799221e+09</td>\n",
              "    </tr>\n",
              "    <tr>\n",
              "      <th>167</th>\n",
              "      <td>x</td>\n",
              "      <td>2023-11-26</td>\n",
              "      <td>2.513221e+09</td>\n",
              "      <td>1.708499e+09</td>\n",
              "      <td>3.317944e+09</td>\n",
              "    </tr>\n",
              "  </tbody>\n",
              "</table>\n",
              "</div>"
            ]
          },
          "metadata": {},
          "execution_count": 51
        }
      ]
    },
    {
      "cell_type": "code",
      "source": [
        "# Combine forecast output with actual data\n",
        "\n",
        "ml_forecasts = pd.concat([ml_forecasts,test[['y']]], axis=1)\n",
        "ml_forecasts.head()"
      ],
      "metadata": {
        "colab": {
          "base_uri": "https://localhost:8080/",
          "height": 206
        },
        "id": "dzImqJTBogdB",
        "outputId": "8e4681ef-f431-4740-8143-f75eb11651f7"
      },
      "execution_count": 52,
      "outputs": [
        {
          "output_type": "execute_result",
          "data": {
            "text/plain": [
              "  unique_id         ds  LGBMRegressor  LGBMRegressor-lo-80  \\\n",
              "0         a 2023-11-20   2.340589e+07         1.725827e+07   \n",
              "1         a 2023-11-21   1.805123e+07         7.986117e+06   \n",
              "2         a 2023-11-22   1.632496e+07         5.376162e+06   \n",
              "3         a 2023-11-23   2.249192e+07         1.388700e+07   \n",
              "4         a 2023-11-24   2.633305e+07         1.371580e+07   \n",
              "\n",
              "   LGBMRegressor-hi-80             y  \n",
              "0         2.955351e+07  2.374394e+07  \n",
              "1         2.811634e+07  2.482359e+07  \n",
              "2         2.727376e+07  2.737511e+07  \n",
              "3         3.109684e+07  2.111852e+07  \n",
              "4         3.895031e+07  2.471033e+07  "
            ],
            "text/html": [
              "<div>\n",
              "<style scoped>\n",
              "    .dataframe tbody tr th:only-of-type {\n",
              "        vertical-align: middle;\n",
              "    }\n",
              "\n",
              "    .dataframe tbody tr th {\n",
              "        vertical-align: top;\n",
              "    }\n",
              "\n",
              "    .dataframe thead th {\n",
              "        text-align: right;\n",
              "    }\n",
              "</style>\n",
              "<table border=\"1\" class=\"dataframe\">\n",
              "  <thead>\n",
              "    <tr style=\"text-align: right;\">\n",
              "      <th></th>\n",
              "      <th>unique_id</th>\n",
              "      <th>ds</th>\n",
              "      <th>LGBMRegressor</th>\n",
              "      <th>LGBMRegressor-lo-80</th>\n",
              "      <th>LGBMRegressor-hi-80</th>\n",
              "      <th>y</th>\n",
              "    </tr>\n",
              "  </thead>\n",
              "  <tbody>\n",
              "    <tr>\n",
              "      <th>0</th>\n",
              "      <td>a</td>\n",
              "      <td>2023-11-20</td>\n",
              "      <td>2.340589e+07</td>\n",
              "      <td>1.725827e+07</td>\n",
              "      <td>2.955351e+07</td>\n",
              "      <td>2.374394e+07</td>\n",
              "    </tr>\n",
              "    <tr>\n",
              "      <th>1</th>\n",
              "      <td>a</td>\n",
              "      <td>2023-11-21</td>\n",
              "      <td>1.805123e+07</td>\n",
              "      <td>7.986117e+06</td>\n",
              "      <td>2.811634e+07</td>\n",
              "      <td>2.482359e+07</td>\n",
              "    </tr>\n",
              "    <tr>\n",
              "      <th>2</th>\n",
              "      <td>a</td>\n",
              "      <td>2023-11-22</td>\n",
              "      <td>1.632496e+07</td>\n",
              "      <td>5.376162e+06</td>\n",
              "      <td>2.727376e+07</td>\n",
              "      <td>2.737511e+07</td>\n",
              "    </tr>\n",
              "    <tr>\n",
              "      <th>3</th>\n",
              "      <td>a</td>\n",
              "      <td>2023-11-23</td>\n",
              "      <td>2.249192e+07</td>\n",
              "      <td>1.388700e+07</td>\n",
              "      <td>3.109684e+07</td>\n",
              "      <td>2.111852e+07</td>\n",
              "    </tr>\n",
              "    <tr>\n",
              "      <th>4</th>\n",
              "      <td>a</td>\n",
              "      <td>2023-11-24</td>\n",
              "      <td>2.633305e+07</td>\n",
              "      <td>1.371580e+07</td>\n",
              "      <td>3.895031e+07</td>\n",
              "      <td>2.471033e+07</td>\n",
              "    </tr>\n",
              "  </tbody>\n",
              "</table>\n",
              "</div>"
            ]
          },
          "metadata": {},
          "execution_count": 52
        }
      ]
    },
    {
      "cell_type": "code",
      "source": [
        "# Combine statistical & machine learning forecast\n",
        "\n",
        "forecasts = pd.concat([sf_forecast,ml_forecasts[['LGBMRegressor','LGBMRegressor-lo-80','LGBMRegressor-hi-80']]], axis=1)\n",
        "forecasts.tail()"
      ],
      "metadata": {
        "colab": {
          "base_uri": "https://localhost:8080/",
          "height": 206
        },
        "id": "lRv3bCtHZ8qn",
        "outputId": "6510948d-45b6-49c9-aa59-072c45d9a902"
      },
      "execution_count": 53,
      "outputs": [
        {
          "output_type": "execute_result",
          "data": {
            "text/plain": [
              "    unique_id         ds     AutoARIMA  AutoARIMA-lo-80  AutoARIMA-hi-80  \\\n",
              "163         x 2023-11-22  3.842694e+09     3.259388e+09     4.426001e+09   \n",
              "164         x 2023-11-23  3.865922e+09     3.038922e+09     4.692921e+09   \n",
              "165         x 2023-11-24  3.869206e+09     2.654325e+09     5.084087e+09   \n",
              "166         x 2023-11-25  4.094876e+09     3.763824e+09     4.425928e+09   \n",
              "167         x 2023-11-26  4.091787e+09     3.388969e+09     4.794606e+09   \n",
              "\n",
              "                y  LGBMRegressor  LGBMRegressor-lo-80  LGBMRegressor-hi-80  \n",
              "163  2.709496e+09   3.838287e+09         3.363647e+09         4.312927e+09  \n",
              "164  2.170458e+09   3.670741e+09         3.008633e+09         4.332848e+09  \n",
              "165  1.967317e+09   3.294662e+09         1.995273e+09         4.594050e+09  \n",
              "166  1.829916e+09   3.473726e+09         3.148231e+09         3.799221e+09  \n",
              "167  1.856352e+09   2.513221e+09         1.708499e+09         3.317944e+09  "
            ],
            "text/html": [
              "<div>\n",
              "<style scoped>\n",
              "    .dataframe tbody tr th:only-of-type {\n",
              "        vertical-align: middle;\n",
              "    }\n",
              "\n",
              "    .dataframe tbody tr th {\n",
              "        vertical-align: top;\n",
              "    }\n",
              "\n",
              "    .dataframe thead th {\n",
              "        text-align: right;\n",
              "    }\n",
              "</style>\n",
              "<table border=\"1\" class=\"dataframe\">\n",
              "  <thead>\n",
              "    <tr style=\"text-align: right;\">\n",
              "      <th></th>\n",
              "      <th>unique_id</th>\n",
              "      <th>ds</th>\n",
              "      <th>AutoARIMA</th>\n",
              "      <th>AutoARIMA-lo-80</th>\n",
              "      <th>AutoARIMA-hi-80</th>\n",
              "      <th>y</th>\n",
              "      <th>LGBMRegressor</th>\n",
              "      <th>LGBMRegressor-lo-80</th>\n",
              "      <th>LGBMRegressor-hi-80</th>\n",
              "    </tr>\n",
              "  </thead>\n",
              "  <tbody>\n",
              "    <tr>\n",
              "      <th>163</th>\n",
              "      <td>x</td>\n",
              "      <td>2023-11-22</td>\n",
              "      <td>3.842694e+09</td>\n",
              "      <td>3.259388e+09</td>\n",
              "      <td>4.426001e+09</td>\n",
              "      <td>2.709496e+09</td>\n",
              "      <td>3.838287e+09</td>\n",
              "      <td>3.363647e+09</td>\n",
              "      <td>4.312927e+09</td>\n",
              "    </tr>\n",
              "    <tr>\n",
              "      <th>164</th>\n",
              "      <td>x</td>\n",
              "      <td>2023-11-23</td>\n",
              "      <td>3.865922e+09</td>\n",
              "      <td>3.038922e+09</td>\n",
              "      <td>4.692921e+09</td>\n",
              "      <td>2.170458e+09</td>\n",
              "      <td>3.670741e+09</td>\n",
              "      <td>3.008633e+09</td>\n",
              "      <td>4.332848e+09</td>\n",
              "    </tr>\n",
              "    <tr>\n",
              "      <th>165</th>\n",
              "      <td>x</td>\n",
              "      <td>2023-11-24</td>\n",
              "      <td>3.869206e+09</td>\n",
              "      <td>2.654325e+09</td>\n",
              "      <td>5.084087e+09</td>\n",
              "      <td>1.967317e+09</td>\n",
              "      <td>3.294662e+09</td>\n",
              "      <td>1.995273e+09</td>\n",
              "      <td>4.594050e+09</td>\n",
              "    </tr>\n",
              "    <tr>\n",
              "      <th>166</th>\n",
              "      <td>x</td>\n",
              "      <td>2023-11-25</td>\n",
              "      <td>4.094876e+09</td>\n",
              "      <td>3.763824e+09</td>\n",
              "      <td>4.425928e+09</td>\n",
              "      <td>1.829916e+09</td>\n",
              "      <td>3.473726e+09</td>\n",
              "      <td>3.148231e+09</td>\n",
              "      <td>3.799221e+09</td>\n",
              "    </tr>\n",
              "    <tr>\n",
              "      <th>167</th>\n",
              "      <td>x</td>\n",
              "      <td>2023-11-26</td>\n",
              "      <td>4.091787e+09</td>\n",
              "      <td>3.388969e+09</td>\n",
              "      <td>4.794606e+09</td>\n",
              "      <td>1.856352e+09</td>\n",
              "      <td>2.513221e+09</td>\n",
              "      <td>1.708499e+09</td>\n",
              "      <td>3.317944e+09</td>\n",
              "    </tr>\n",
              "  </tbody>\n",
              "</table>\n",
              "</div>"
            ]
          },
          "metadata": {},
          "execution_count": 53
        }
      ]
    },
    {
      "cell_type": "code",
      "source": [
        "fig = plot_series(\n",
        "    train, # DataFrame with columns [id_col, time_col, target_col]\n",
        "    forecasts,\n",
        "    ids=None, # Time Series to plot. If None, time series are selected randomly.\n",
        "    max_ids=8, # Maximum number of ids to plot.\n",
        "    max_insample_length=7*8, # Maximum number of train/insample observations to be plotted.\n",
        "    engine='plotly', # Library used to plot. ‘plotly’, ‘plotly-resampler’ or ‘matplotlib’.\n",
        "    palette='viridis', # Name of the matplotlib colormap to use\n",
        "    level=[80],\n",
        "    )\n",
        "\n",
        "fig.update_layout(\n",
        "    #width=1600,\n",
        "    height=800,\n",
        ")\n",
        "\n",
        "fig.show(renderer=\"colab\")"
      ],
      "metadata": {
        "colab": {
          "base_uri": "https://localhost:8080/",
          "height": 817
        },
        "id": "MEJVBPzdorEC",
        "outputId": "e880d46c-920c-425e-d48e-8f4c1b504061"
      },
      "execution_count": 65,
      "outputs": [
        {
          "output_type": "display_data",
          "data": {
            "text/html": [
              "<html>\n",
              "<head><meta charset=\"utf-8\" /></head>\n",
              "<body>\n",
              "    <div>            <script src=\"https://cdnjs.cloudflare.com/ajax/libs/mathjax/2.7.5/MathJax.js?config=TeX-AMS-MML_SVG\"></script><script type=\"text/javascript\">if (window.MathJax && window.MathJax.Hub && window.MathJax.Hub.Config) {window.MathJax.Hub.Config({SVG: {font: \"STIX-Web\"}});}</script>                <script type=\"text/javascript\">window.PlotlyConfig = {MathJaxConfig: 'local'};</script>\n",
              "        <script src=\"https://cdn.plot.ly/plotly-2.12.1.min.js\"></script>                <div id=\"3bfb17d2-1be2-4ad2-b95e-442f4109f0a4\" class=\"plotly-graph-div\" style=\"height:800px; width:100%;\"></div>            <script type=\"text/javascript\">                                    window.PLOTLYENV=window.PLOTLYENV || {};                                    if (document.getElementById(\"3bfb17d2-1be2-4ad2-b95e-442f4109f0a4\")) {                    Plotly.newPlot(                        \"3bfb17d2-1be2-4ad2-b95e-442f4109f0a4\",                        [{\"legendgroup\":\"y\",\"line\":{\"color\":\"#440154\",\"width\":1},\"mode\":\"lines\",\"name\":\"y\",\"showlegend\":true,\"x\":[\"2023-09-25T00:00:00\",\"2023-09-26T00:00:00\",\"2023-09-27T00:00:00\",\"2023-09-28T00:00:00\",\"2023-09-29T00:00:00\",\"2023-09-30T00:00:00\",\"2023-10-01T00:00:00\",\"2023-10-02T00:00:00\",\"2023-10-03T00:00:00\",\"2023-10-04T00:00:00\",\"2023-10-05T00:00:00\",\"2023-10-06T00:00:00\",\"2023-10-07T00:00:00\",\"2023-10-08T00:00:00\",\"2023-10-09T00:00:00\",\"2023-10-10T00:00:00\",\"2023-10-11T00:00:00\",\"2023-10-12T00:00:00\",\"2023-10-13T00:00:00\",\"2023-10-14T00:00:00\",\"2023-10-15T00:00:00\",\"2023-10-16T00:00:00\",\"2023-10-17T00:00:00\",\"2023-10-18T00:00:00\",\"2023-10-19T00:00:00\",\"2023-10-20T00:00:00\",\"2023-10-21T00:00:00\",\"2023-10-22T00:00:00\",\"2023-10-23T00:00:00\",\"2023-10-24T00:00:00\",\"2023-10-25T00:00:00\",\"2023-10-26T00:00:00\",\"2023-10-27T00:00:00\",\"2023-10-28T00:00:00\",\"2023-10-29T00:00:00\",\"2023-10-30T00:00:00\",\"2023-10-31T00:00:00\",\"2023-11-01T00:00:00\",\"2023-11-02T00:00:00\",\"2023-11-03T00:00:00\",\"2023-11-04T00:00:00\",\"2023-11-05T00:00:00\",\"2023-11-06T00:00:00\",\"2023-11-07T00:00:00\",\"2023-11-08T00:00:00\",\"2023-11-09T00:00:00\",\"2023-11-10T00:00:00\",\"2023-11-11T00:00:00\",\"2023-11-12T00:00:00\",\"2023-11-13T00:00:00\",\"2023-11-14T00:00:00\",\"2023-11-15T00:00:00\",\"2023-11-16T00:00:00\",\"2023-11-17T00:00:00\",\"2023-11-18T00:00:00\",\"2023-11-19T00:00:00\",\"2023-11-20T00:00:00\",\"2023-11-21T00:00:00\",\"2023-11-22T00:00:00\",\"2023-11-23T00:00:00\",\"2023-11-24T00:00:00\",\"2023-11-25T00:00:00\",\"2023-11-26T00:00:00\"],\"y\":[4281166.666666667,4314316.666666667,2509413.3333333335,3006333.3333333335,3906987.6666666665,6081872.666666667,5306660.666666667,10327711.333333334,10580500.0,14285338.333333334,8926052.0,8269180.666666667,10054189.333333334,4839699.0,10648971.0,4271326.0,3011151.6666666665,5490770.0,2180011.3333333335,1015333.3333333334,622040.0,1899166.6666666667,4576080.0,4477919.333333333,5647666.666666667,6134910.666666667,3711833.3333333335,3060000.0,4952658.666666667,3608046.0,3943016.3333333335,5495750.0,2970475.0,3344000.0,3097279.6666666665,4512932.333333333,3558000.0,8675500.0,7860669.666666667,5858389.333333333,7777049.0,5023500.0,9698814.0,8664391.0,10032499.666666666,9402347.0,12708176.333333334,5771166.666666667,4199274.666666667,5608679.666666667,6751256.333333333,4714261.333333333,7846575.0,5173782.666666667,2389666.6666666665,3568614.3333333335,8672156.0,3508826.6666666665,2977166.6666666665,3601666.6666666665,4909324.666666667,3105725.6666666665,3408930.0],\"type\":\"scatter\",\"xaxis\":\"x\",\"yaxis\":\"y\"},{\"legendgroup\":\"AutoARIMA\",\"line\":{\"color\":\"#21918c\",\"width\":1},\"mode\":\"lines\",\"name\":\"AutoARIMA\",\"showlegend\":true,\"x\":[\"2023-09-25T00:00:00\",\"2023-09-26T00:00:00\",\"2023-09-27T00:00:00\",\"2023-09-28T00:00:00\",\"2023-09-29T00:00:00\",\"2023-09-30T00:00:00\",\"2023-10-01T00:00:00\",\"2023-10-02T00:00:00\",\"2023-10-03T00:00:00\",\"2023-10-04T00:00:00\",\"2023-10-05T00:00:00\",\"2023-10-06T00:00:00\",\"2023-10-07T00:00:00\",\"2023-10-08T00:00:00\",\"2023-10-09T00:00:00\",\"2023-10-10T00:00:00\",\"2023-10-11T00:00:00\",\"2023-10-12T00:00:00\",\"2023-10-13T00:00:00\",\"2023-10-14T00:00:00\",\"2023-10-15T00:00:00\",\"2023-10-16T00:00:00\",\"2023-10-17T00:00:00\",\"2023-10-18T00:00:00\",\"2023-10-19T00:00:00\",\"2023-10-20T00:00:00\",\"2023-10-21T00:00:00\",\"2023-10-22T00:00:00\",\"2023-10-23T00:00:00\",\"2023-10-24T00:00:00\",\"2023-10-25T00:00:00\",\"2023-10-26T00:00:00\",\"2023-10-27T00:00:00\",\"2023-10-28T00:00:00\",\"2023-10-29T00:00:00\",\"2023-10-30T00:00:00\",\"2023-10-31T00:00:00\",\"2023-11-01T00:00:00\",\"2023-11-02T00:00:00\",\"2023-11-03T00:00:00\",\"2023-11-04T00:00:00\",\"2023-11-05T00:00:00\",\"2023-11-06T00:00:00\",\"2023-11-07T00:00:00\",\"2023-11-08T00:00:00\",\"2023-11-09T00:00:00\",\"2023-11-10T00:00:00\",\"2023-11-11T00:00:00\",\"2023-11-12T00:00:00\",\"2023-11-13T00:00:00\",\"2023-11-14T00:00:00\",\"2023-11-15T00:00:00\",\"2023-11-16T00:00:00\",\"2023-11-17T00:00:00\",\"2023-11-18T00:00:00\",\"2023-11-19T00:00:00\",\"2023-11-20T00:00:00\",\"2023-11-21T00:00:00\",\"2023-11-22T00:00:00\",\"2023-11-23T00:00:00\",\"2023-11-24T00:00:00\",\"2023-11-25T00:00:00\",\"2023-11-26T00:00:00\"],\"y\":[null,null,null,null,null,null,null,null,null,null,null,null,null,null,null,null,null,null,null,null,null,null,null,null,null,null,null,null,null,null,null,null,null,null,null,null,null,null,null,null,null,null,null,null,null,null,null,null,null,null,null,null,null,null,null,null,5276647.5,3688150.0,3110581.75,3833293.5,3683563.5,3098089.5,3421587.5],\"type\":\"scatter\",\"xaxis\":\"x\",\"yaxis\":\"y\"},{\"fill\":\"toself\",\"fillcolor\":\"#21918c\",\"legendgroup\":\"AutoARIMA_level_80\",\"line\":{\"color\":\"#21918c\",\"width\":1},\"mode\":\"lines\",\"name\":\"AutoARIMA_level_80\",\"opacity\":0.19999999999999996,\"showlegend\":true,\"x\":[\"2023-09-25T00:00:00.000000000\",\"2023-09-26T00:00:00.000000000\",\"2023-09-27T00:00:00.000000000\",\"2023-09-28T00:00:00.000000000\",\"2023-09-29T00:00:00.000000000\",\"2023-09-30T00:00:00.000000000\",\"2023-10-01T00:00:00.000000000\",\"2023-10-02T00:00:00.000000000\",\"2023-10-03T00:00:00.000000000\",\"2023-10-04T00:00:00.000000000\",\"2023-10-05T00:00:00.000000000\",\"2023-10-06T00:00:00.000000000\",\"2023-10-07T00:00:00.000000000\",\"2023-10-08T00:00:00.000000000\",\"2023-10-09T00:00:00.000000000\",\"2023-10-10T00:00:00.000000000\",\"2023-10-11T00:00:00.000000000\",\"2023-10-12T00:00:00.000000000\",\"2023-10-13T00:00:00.000000000\",\"2023-10-14T00:00:00.000000000\",\"2023-10-15T00:00:00.000000000\",\"2023-10-16T00:00:00.000000000\",\"2023-10-17T00:00:00.000000000\",\"2023-10-18T00:00:00.000000000\",\"2023-10-19T00:00:00.000000000\",\"2023-10-20T00:00:00.000000000\",\"2023-10-21T00:00:00.000000000\",\"2023-10-22T00:00:00.000000000\",\"2023-10-23T00:00:00.000000000\",\"2023-10-24T00:00:00.000000000\",\"2023-10-25T00:00:00.000000000\",\"2023-10-26T00:00:00.000000000\",\"2023-10-27T00:00:00.000000000\",\"2023-10-28T00:00:00.000000000\",\"2023-10-29T00:00:00.000000000\",\"2023-10-30T00:00:00.000000000\",\"2023-10-31T00:00:00.000000000\",\"2023-11-01T00:00:00.000000000\",\"2023-11-02T00:00:00.000000000\",\"2023-11-03T00:00:00.000000000\",\"2023-11-04T00:00:00.000000000\",\"2023-11-05T00:00:00.000000000\",\"2023-11-06T00:00:00.000000000\",\"2023-11-07T00:00:00.000000000\",\"2023-11-08T00:00:00.000000000\",\"2023-11-09T00:00:00.000000000\",\"2023-11-10T00:00:00.000000000\",\"2023-11-11T00:00:00.000000000\",\"2023-11-12T00:00:00.000000000\",\"2023-11-13T00:00:00.000000000\",\"2023-11-14T00:00:00.000000000\",\"2023-11-15T00:00:00.000000000\",\"2023-11-16T00:00:00.000000000\",\"2023-11-17T00:00:00.000000000\",\"2023-11-18T00:00:00.000000000\",\"2023-11-19T00:00:00.000000000\",\"2023-11-20T00:00:00.000000000\",\"2023-11-21T00:00:00.000000000\",\"2023-11-22T00:00:00.000000000\",\"2023-11-23T00:00:00.000000000\",\"2023-11-24T00:00:00.000000000\",\"2023-11-25T00:00:00.000000000\",\"2023-11-26T00:00:00.000000000\",\"2023-11-26T00:00:00.000000000\",\"2023-11-25T00:00:00.000000000\",\"2023-11-24T00:00:00.000000000\",\"2023-11-23T00:00:00.000000000\",\"2023-11-22T00:00:00.000000000\",\"2023-11-21T00:00:00.000000000\",\"2023-11-20T00:00:00.000000000\",\"2023-11-19T00:00:00.000000000\",\"2023-11-18T00:00:00.000000000\",\"2023-11-17T00:00:00.000000000\",\"2023-11-16T00:00:00.000000000\",\"2023-11-15T00:00:00.000000000\",\"2023-11-14T00:00:00.000000000\",\"2023-11-13T00:00:00.000000000\",\"2023-11-12T00:00:00.000000000\",\"2023-11-11T00:00:00.000000000\",\"2023-11-10T00:00:00.000000000\",\"2023-11-09T00:00:00.000000000\",\"2023-11-08T00:00:00.000000000\",\"2023-11-07T00:00:00.000000000\",\"2023-11-06T00:00:00.000000000\",\"2023-11-05T00:00:00.000000000\",\"2023-11-04T00:00:00.000000000\",\"2023-11-03T00:00:00.000000000\",\"2023-11-02T00:00:00.000000000\",\"2023-11-01T00:00:00.000000000\",\"2023-10-31T00:00:00.000000000\",\"2023-10-30T00:00:00.000000000\",\"2023-10-29T00:00:00.000000000\",\"2023-10-28T00:00:00.000000000\",\"2023-10-27T00:00:00.000000000\",\"2023-10-26T00:00:00.000000000\",\"2023-10-25T00:00:00.000000000\",\"2023-10-24T00:00:00.000000000\",\"2023-10-23T00:00:00.000000000\",\"2023-10-22T00:00:00.000000000\",\"2023-10-21T00:00:00.000000000\",\"2023-10-20T00:00:00.000000000\",\"2023-10-19T00:00:00.000000000\",\"2023-10-18T00:00:00.000000000\",\"2023-10-17T00:00:00.000000000\",\"2023-10-16T00:00:00.000000000\",\"2023-10-15T00:00:00.000000000\",\"2023-10-14T00:00:00.000000000\",\"2023-10-13T00:00:00.000000000\",\"2023-10-12T00:00:00.000000000\",\"2023-10-11T00:00:00.000000000\",\"2023-10-10T00:00:00.000000000\",\"2023-10-09T00:00:00.000000000\",\"2023-10-08T00:00:00.000000000\",\"2023-10-07T00:00:00.000000000\",\"2023-10-06T00:00:00.000000000\",\"2023-10-05T00:00:00.000000000\",\"2023-10-04T00:00:00.000000000\",\"2023-10-03T00:00:00.000000000\",\"2023-10-02T00:00:00.000000000\",\"2023-10-01T00:00:00.000000000\",\"2023-09-30T00:00:00.000000000\",\"2023-09-29T00:00:00.000000000\",\"2023-09-28T00:00:00.000000000\",\"2023-09-27T00:00:00.000000000\",\"2023-09-26T00:00:00.000000000\",\"2023-09-25T00:00:00.000000000\"],\"y\":[null,null,null,null,null,null,null,null,null,null,null,null,null,null,null,null,null,null,null,null,null,null,null,null,null,null,null,null,null,null,null,null,null,null,null,null,null,null,null,null,null,null,null,null,null,null,null,null,null,null,null,null,null,null,null,null,7897866.5,6757203.5,8148881.5,7698258.0,6353676.5,6677073.5,5429460.5,1413714.5,-480894.46875,1013450.3125,-31670.888671875,-1927718.25,619096.5,2655428.5,null,null,null,null,null,null,null,null,null,null,null,null,null,null,null,null,null,null,null,null,null,null,null,null,null,null,null,null,null,null,null,null,null,null,null,null,null,null,null,null,null,null,null,null,null,null,null,null,null,null,null,null,null,null,null,null],\"type\":\"scatter\",\"xaxis\":\"x\",\"yaxis\":\"y\"},{\"legendgroup\":\"LGBMRegressor\",\"line\":{\"color\":\"#fde725\",\"width\":1},\"mode\":\"lines\",\"name\":\"LGBMRegressor\",\"showlegend\":true,\"x\":[\"2023-09-25T00:00:00\",\"2023-09-26T00:00:00\",\"2023-09-27T00:00:00\",\"2023-09-28T00:00:00\",\"2023-09-29T00:00:00\",\"2023-09-30T00:00:00\",\"2023-10-01T00:00:00\",\"2023-10-02T00:00:00\",\"2023-10-03T00:00:00\",\"2023-10-04T00:00:00\",\"2023-10-05T00:00:00\",\"2023-10-06T00:00:00\",\"2023-10-07T00:00:00\",\"2023-10-08T00:00:00\",\"2023-10-09T00:00:00\",\"2023-10-10T00:00:00\",\"2023-10-11T00:00:00\",\"2023-10-12T00:00:00\",\"2023-10-13T00:00:00\",\"2023-10-14T00:00:00\",\"2023-10-15T00:00:00\",\"2023-10-16T00:00:00\",\"2023-10-17T00:00:00\",\"2023-10-18T00:00:00\",\"2023-10-19T00:00:00\",\"2023-10-20T00:00:00\",\"2023-10-21T00:00:00\",\"2023-10-22T00:00:00\",\"2023-10-23T00:00:00\",\"2023-10-24T00:00:00\",\"2023-10-25T00:00:00\",\"2023-10-26T00:00:00\",\"2023-10-27T00:00:00\",\"2023-10-28T00:00:00\",\"2023-10-29T00:00:00\",\"2023-10-30T00:00:00\",\"2023-10-31T00:00:00\",\"2023-11-01T00:00:00\",\"2023-11-02T00:00:00\",\"2023-11-03T00:00:00\",\"2023-11-04T00:00:00\",\"2023-11-05T00:00:00\",\"2023-11-06T00:00:00\",\"2023-11-07T00:00:00\",\"2023-11-08T00:00:00\",\"2023-11-09T00:00:00\",\"2023-11-10T00:00:00\",\"2023-11-11T00:00:00\",\"2023-11-12T00:00:00\",\"2023-11-13T00:00:00\",\"2023-11-14T00:00:00\",\"2023-11-15T00:00:00\",\"2023-11-16T00:00:00\",\"2023-11-17T00:00:00\",\"2023-11-18T00:00:00\",\"2023-11-19T00:00:00\",\"2023-11-20T00:00:00\",\"2023-11-21T00:00:00\",\"2023-11-22T00:00:00\",\"2023-11-23T00:00:00\",\"2023-11-24T00:00:00\",\"2023-11-25T00:00:00\",\"2023-11-26T00:00:00\"],\"y\":[null,null,null,null,null,null,null,null,null,null,null,null,null,null,null,null,null,null,null,null,null,null,null,null,null,null,null,null,null,null,null,null,null,null,null,null,null,null,null,null,null,null,null,null,null,null,null,null,null,null,null,null,null,null,null,null,3951865.6588052893,2024177.9443951251,2702843.8690714077,3352563.034933485,1778075.2238710283,1541222.3682153749,1573605.418701687],\"type\":\"scatter\",\"xaxis\":\"x\",\"yaxis\":\"y\"},{\"fill\":\"toself\",\"fillcolor\":\"#fde725\",\"legendgroup\":\"LGBMRegressor_level_80\",\"line\":{\"color\":\"#fde725\",\"width\":1},\"mode\":\"lines\",\"name\":\"LGBMRegressor_level_80\",\"opacity\":0.19999999999999996,\"showlegend\":true,\"x\":[\"2023-09-25T00:00:00.000000000\",\"2023-09-26T00:00:00.000000000\",\"2023-09-27T00:00:00.000000000\",\"2023-09-28T00:00:00.000000000\",\"2023-09-29T00:00:00.000000000\",\"2023-09-30T00:00:00.000000000\",\"2023-10-01T00:00:00.000000000\",\"2023-10-02T00:00:00.000000000\",\"2023-10-03T00:00:00.000000000\",\"2023-10-04T00:00:00.000000000\",\"2023-10-05T00:00:00.000000000\",\"2023-10-06T00:00:00.000000000\",\"2023-10-07T00:00:00.000000000\",\"2023-10-08T00:00:00.000000000\",\"2023-10-09T00:00:00.000000000\",\"2023-10-10T00:00:00.000000000\",\"2023-10-11T00:00:00.000000000\",\"2023-10-12T00:00:00.000000000\",\"2023-10-13T00:00:00.000000000\",\"2023-10-14T00:00:00.000000000\",\"2023-10-15T00:00:00.000000000\",\"2023-10-16T00:00:00.000000000\",\"2023-10-17T00:00:00.000000000\",\"2023-10-18T00:00:00.000000000\",\"2023-10-19T00:00:00.000000000\",\"2023-10-20T00:00:00.000000000\",\"2023-10-21T00:00:00.000000000\",\"2023-10-22T00:00:00.000000000\",\"2023-10-23T00:00:00.000000000\",\"2023-10-24T00:00:00.000000000\",\"2023-10-25T00:00:00.000000000\",\"2023-10-26T00:00:00.000000000\",\"2023-10-27T00:00:00.000000000\",\"2023-10-28T00:00:00.000000000\",\"2023-10-29T00:00:00.000000000\",\"2023-10-30T00:00:00.000000000\",\"2023-10-31T00:00:00.000000000\",\"2023-11-01T00:00:00.000000000\",\"2023-11-02T00:00:00.000000000\",\"2023-11-03T00:00:00.000000000\",\"2023-11-04T00:00:00.000000000\",\"2023-11-05T00:00:00.000000000\",\"2023-11-06T00:00:00.000000000\",\"2023-11-07T00:00:00.000000000\",\"2023-11-08T00:00:00.000000000\",\"2023-11-09T00:00:00.000000000\",\"2023-11-10T00:00:00.000000000\",\"2023-11-11T00:00:00.000000000\",\"2023-11-12T00:00:00.000000000\",\"2023-11-13T00:00:00.000000000\",\"2023-11-14T00:00:00.000000000\",\"2023-11-15T00:00:00.000000000\",\"2023-11-16T00:00:00.000000000\",\"2023-11-17T00:00:00.000000000\",\"2023-11-18T00:00:00.000000000\",\"2023-11-19T00:00:00.000000000\",\"2023-11-20T00:00:00.000000000\",\"2023-11-21T00:00:00.000000000\",\"2023-11-22T00:00:00.000000000\",\"2023-11-23T00:00:00.000000000\",\"2023-11-24T00:00:00.000000000\",\"2023-11-25T00:00:00.000000000\",\"2023-11-26T00:00:00.000000000\",\"2023-11-26T00:00:00.000000000\",\"2023-11-25T00:00:00.000000000\",\"2023-11-24T00:00:00.000000000\",\"2023-11-23T00:00:00.000000000\",\"2023-11-22T00:00:00.000000000\",\"2023-11-21T00:00:00.000000000\",\"2023-11-20T00:00:00.000000000\",\"2023-11-19T00:00:00.000000000\",\"2023-11-18T00:00:00.000000000\",\"2023-11-17T00:00:00.000000000\",\"2023-11-16T00:00:00.000000000\",\"2023-11-15T00:00:00.000000000\",\"2023-11-14T00:00:00.000000000\",\"2023-11-13T00:00:00.000000000\",\"2023-11-12T00:00:00.000000000\",\"2023-11-11T00:00:00.000000000\",\"2023-11-10T00:00:00.000000000\",\"2023-11-09T00:00:00.000000000\",\"2023-11-08T00:00:00.000000000\",\"2023-11-07T00:00:00.000000000\",\"2023-11-06T00:00:00.000000000\",\"2023-11-05T00:00:00.000000000\",\"2023-11-04T00:00:00.000000000\",\"2023-11-03T00:00:00.000000000\",\"2023-11-02T00:00:00.000000000\",\"2023-11-01T00:00:00.000000000\",\"2023-10-31T00:00:00.000000000\",\"2023-10-30T00:00:00.000000000\",\"2023-10-29T00:00:00.000000000\",\"2023-10-28T00:00:00.000000000\",\"2023-10-27T00:00:00.000000000\",\"2023-10-26T00:00:00.000000000\",\"2023-10-25T00:00:00.000000000\",\"2023-10-24T00:00:00.000000000\",\"2023-10-23T00:00:00.000000000\",\"2023-10-22T00:00:00.000000000\",\"2023-10-21T00:00:00.000000000\",\"2023-10-20T00:00:00.000000000\",\"2023-10-19T00:00:00.000000000\",\"2023-10-18T00:00:00.000000000\",\"2023-10-17T00:00:00.000000000\",\"2023-10-16T00:00:00.000000000\",\"2023-10-15T00:00:00.000000000\",\"2023-10-14T00:00:00.000000000\",\"2023-10-13T00:00:00.000000000\",\"2023-10-12T00:00:00.000000000\",\"2023-10-11T00:00:00.000000000\",\"2023-10-10T00:00:00.000000000\",\"2023-10-09T00:00:00.000000000\",\"2023-10-08T00:00:00.000000000\",\"2023-10-07T00:00:00.000000000\",\"2023-10-06T00:00:00.000000000\",\"2023-10-05T00:00:00.000000000\",\"2023-10-04T00:00:00.000000000\",\"2023-10-03T00:00:00.000000000\",\"2023-10-02T00:00:00.000000000\",\"2023-10-01T00:00:00.000000000\",\"2023-09-30T00:00:00.000000000\",\"2023-09-29T00:00:00.000000000\",\"2023-09-28T00:00:00.000000000\",\"2023-09-27T00:00:00.000000000\",\"2023-09-26T00:00:00.000000000\",\"2023-09-25T00:00:00.000000000\"],\"y\":[null,null,null,null,null,null,null,null,null,null,null,null,null,null,null,null,null,null,null,null,null,null,null,null,null,null,null,null,null,null,null,null,null,null,null,null,null,null,null,null,null,null,null,null,null,null,null,null,null,null,null,null,null,null,null,null,5328583.781766988,5479829.23120276,4892076.724503307,6258802.9492848655,6483201.075970718,4079838.1335233715,3751782.176133225,-604571.3387298515,-997393.3970926215,-2927050.628228662,446323.12058210396,513611.01363950816,-1431473.3424125102,2575147.5358435893,null,null,null,null,null,null,null,null,null,null,null,null,null,null,null,null,null,null,null,null,null,null,null,null,null,null,null,null,null,null,null,null,null,null,null,null,null,null,null,null,null,null,null,null,null,null,null,null,null,null,null,null,null,null,null,null],\"type\":\"scatter\",\"xaxis\":\"x\",\"yaxis\":\"y\"},{\"legendgroup\":\"y\",\"line\":{\"color\":\"#440154\",\"width\":1},\"mode\":\"lines\",\"name\":\"y\",\"showlegend\":false,\"x\":[\"2023-09-25T00:00:00\",\"2023-09-26T00:00:00\",\"2023-09-27T00:00:00\",\"2023-09-28T00:00:00\",\"2023-09-29T00:00:00\",\"2023-09-30T00:00:00\",\"2023-10-01T00:00:00\",\"2023-10-02T00:00:00\",\"2023-10-03T00:00:00\",\"2023-10-04T00:00:00\",\"2023-10-05T00:00:00\",\"2023-10-06T00:00:00\",\"2023-10-07T00:00:00\",\"2023-10-08T00:00:00\",\"2023-10-09T00:00:00\",\"2023-10-10T00:00:00\",\"2023-10-11T00:00:00\",\"2023-10-12T00:00:00\",\"2023-10-13T00:00:00\",\"2023-10-14T00:00:00\",\"2023-10-15T00:00:00\",\"2023-10-16T00:00:00\",\"2023-10-17T00:00:00\",\"2023-10-18T00:00:00\",\"2023-10-19T00:00:00\",\"2023-10-20T00:00:00\",\"2023-10-21T00:00:00\",\"2023-10-22T00:00:00\",\"2023-10-23T00:00:00\",\"2023-10-24T00:00:00\",\"2023-10-25T00:00:00\",\"2023-10-26T00:00:00\",\"2023-10-27T00:00:00\",\"2023-10-28T00:00:00\",\"2023-10-29T00:00:00\",\"2023-10-30T00:00:00\",\"2023-10-31T00:00:00\",\"2023-11-01T00:00:00\",\"2023-11-02T00:00:00\",\"2023-11-03T00:00:00\",\"2023-11-04T00:00:00\",\"2023-11-05T00:00:00\",\"2023-11-06T00:00:00\",\"2023-11-07T00:00:00\",\"2023-11-08T00:00:00\",\"2023-11-09T00:00:00\",\"2023-11-10T00:00:00\",\"2023-11-11T00:00:00\",\"2023-11-12T00:00:00\",\"2023-11-13T00:00:00\",\"2023-11-14T00:00:00\",\"2023-11-15T00:00:00\",\"2023-11-16T00:00:00\",\"2023-11-17T00:00:00\",\"2023-11-18T00:00:00\",\"2023-11-19T00:00:00\",\"2023-11-20T00:00:00\",\"2023-11-21T00:00:00\",\"2023-11-22T00:00:00\",\"2023-11-23T00:00:00\",\"2023-11-24T00:00:00\",\"2023-11-25T00:00:00\",\"2023-11-26T00:00:00\"],\"y\":[349145510.3333333,284757372.6666667,271550175.3333333,244970075.33333334,355520952.0,564052191.0,293599940.3333333,576448178.3333334,623751835.3333334,546176689.6666666,567134617.6666666,480384769.0,420957199.6666667,342672366.6666667,564203939.6666666,614065537.3333334,525540570.0,486336348.6666667,494381160.6666667,488188548.6666667,479201186.0,830692789.6666666,906304773.6666666,1083930921.0,1568206147.6666667,2831293929.0,666529347.6666666,346197602.0,387916896.3333333,291621447.6666667,295849181.3333333,258638171.33333334,250481906.33333334,214765796.0,214413654.33333334,334729642.3333333,436568203.0,282061533.0,417856120.0,536780866.6666667,480434035.0,417954636.0,717599539.3333334,589049282.3333334,512004886.0,470448523.6666667,558107510.6666666,469090410.6666667,384510943.3333333,598629189.3333334,586309120.0,744027740.3333334,746291469.0,890156617.6666666,1164402425.6666667,1421018505.3333333,3323304378.3333335,733068802.0,380841678.0,293615007.6666667,256741493.0,267584235.33333334,219600545.33333334],\"type\":\"scatter\",\"xaxis\":\"x2\",\"yaxis\":\"y2\"},{\"legendgroup\":\"AutoARIMA\",\"line\":{\"color\":\"#21918c\",\"width\":1},\"mode\":\"lines\",\"name\":\"AutoARIMA\",\"showlegend\":false,\"x\":[\"2023-09-25T00:00:00\",\"2023-09-26T00:00:00\",\"2023-09-27T00:00:00\",\"2023-09-28T00:00:00\",\"2023-09-29T00:00:00\",\"2023-09-30T00:00:00\",\"2023-10-01T00:00:00\",\"2023-10-02T00:00:00\",\"2023-10-03T00:00:00\",\"2023-10-04T00:00:00\",\"2023-10-05T00:00:00\",\"2023-10-06T00:00:00\",\"2023-10-07T00:00:00\",\"2023-10-08T00:00:00\",\"2023-10-09T00:00:00\",\"2023-10-10T00:00:00\",\"2023-10-11T00:00:00\",\"2023-10-12T00:00:00\",\"2023-10-13T00:00:00\",\"2023-10-14T00:00:00\",\"2023-10-15T00:00:00\",\"2023-10-16T00:00:00\",\"2023-10-17T00:00:00\",\"2023-10-18T00:00:00\",\"2023-10-19T00:00:00\",\"2023-10-20T00:00:00\",\"2023-10-21T00:00:00\",\"2023-10-22T00:00:00\",\"2023-10-23T00:00:00\",\"2023-10-24T00:00:00\",\"2023-10-25T00:00:00\",\"2023-10-26T00:00:00\",\"2023-10-27T00:00:00\",\"2023-10-28T00:00:00\",\"2023-10-29T00:00:00\",\"2023-10-30T00:00:00\",\"2023-10-31T00:00:00\",\"2023-11-01T00:00:00\",\"2023-11-02T00:00:00\",\"2023-11-03T00:00:00\",\"2023-11-04T00:00:00\",\"2023-11-05T00:00:00\",\"2023-11-06T00:00:00\",\"2023-11-07T00:00:00\",\"2023-11-08T00:00:00\",\"2023-11-09T00:00:00\",\"2023-11-10T00:00:00\",\"2023-11-11T00:00:00\",\"2023-11-12T00:00:00\",\"2023-11-13T00:00:00\",\"2023-11-14T00:00:00\",\"2023-11-15T00:00:00\",\"2023-11-16T00:00:00\",\"2023-11-17T00:00:00\",\"2023-11-18T00:00:00\",\"2023-11-19T00:00:00\",\"2023-11-20T00:00:00\",\"2023-11-21T00:00:00\",\"2023-11-22T00:00:00\",\"2023-11-23T00:00:00\",\"2023-11-24T00:00:00\",\"2023-11-25T00:00:00\",\"2023-11-26T00:00:00\"],\"y\":[null,null,null,null,null,null,null,null,null,null,null,null,null,null,null,null,null,null,null,null,null,null,null,null,null,null,null,null,null,null,null,null,null,null,null,null,null,null,null,null,null,null,null,null,null,null,null,null,null,null,null,null,null,null,null,null,2806590720.0,767328896.0,421428096.0,367520544.0,343916416.0,331696032.0,271292800.0],\"type\":\"scatter\",\"xaxis\":\"x2\",\"yaxis\":\"y2\"},{\"fill\":\"toself\",\"fillcolor\":\"#21918c\",\"legendgroup\":\"AutoARIMA_level_80\",\"line\":{\"color\":\"#21918c\",\"width\":1},\"mode\":\"lines\",\"name\":\"AutoARIMA_level_80\",\"opacity\":0.19999999999999996,\"showlegend\":false,\"x\":[\"2023-09-25T00:00:00.000000000\",\"2023-09-26T00:00:00.000000000\",\"2023-09-27T00:00:00.000000000\",\"2023-09-28T00:00:00.000000000\",\"2023-09-29T00:00:00.000000000\",\"2023-09-30T00:00:00.000000000\",\"2023-10-01T00:00:00.000000000\",\"2023-10-02T00:00:00.000000000\",\"2023-10-03T00:00:00.000000000\",\"2023-10-04T00:00:00.000000000\",\"2023-10-05T00:00:00.000000000\",\"2023-10-06T00:00:00.000000000\",\"2023-10-07T00:00:00.000000000\",\"2023-10-08T00:00:00.000000000\",\"2023-10-09T00:00:00.000000000\",\"2023-10-10T00:00:00.000000000\",\"2023-10-11T00:00:00.000000000\",\"2023-10-12T00:00:00.000000000\",\"2023-10-13T00:00:00.000000000\",\"2023-10-14T00:00:00.000000000\",\"2023-10-15T00:00:00.000000000\",\"2023-10-16T00:00:00.000000000\",\"2023-10-17T00:00:00.000000000\",\"2023-10-18T00:00:00.000000000\",\"2023-10-19T00:00:00.000000000\",\"2023-10-20T00:00:00.000000000\",\"2023-10-21T00:00:00.000000000\",\"2023-10-22T00:00:00.000000000\",\"2023-10-23T00:00:00.000000000\",\"2023-10-24T00:00:00.000000000\",\"2023-10-25T00:00:00.000000000\",\"2023-10-26T00:00:00.000000000\",\"2023-10-27T00:00:00.000000000\",\"2023-10-28T00:00:00.000000000\",\"2023-10-29T00:00:00.000000000\",\"2023-10-30T00:00:00.000000000\",\"2023-10-31T00:00:00.000000000\",\"2023-11-01T00:00:00.000000000\",\"2023-11-02T00:00:00.000000000\",\"2023-11-03T00:00:00.000000000\",\"2023-11-04T00:00:00.000000000\",\"2023-11-05T00:00:00.000000000\",\"2023-11-06T00:00:00.000000000\",\"2023-11-07T00:00:00.000000000\",\"2023-11-08T00:00:00.000000000\",\"2023-11-09T00:00:00.000000000\",\"2023-11-10T00:00:00.000000000\",\"2023-11-11T00:00:00.000000000\",\"2023-11-12T00:00:00.000000000\",\"2023-11-13T00:00:00.000000000\",\"2023-11-14T00:00:00.000000000\",\"2023-11-15T00:00:00.000000000\",\"2023-11-16T00:00:00.000000000\",\"2023-11-17T00:00:00.000000000\",\"2023-11-18T00:00:00.000000000\",\"2023-11-19T00:00:00.000000000\",\"2023-11-20T00:00:00.000000000\",\"2023-11-21T00:00:00.000000000\",\"2023-11-22T00:00:00.000000000\",\"2023-11-23T00:00:00.000000000\",\"2023-11-24T00:00:00.000000000\",\"2023-11-25T00:00:00.000000000\",\"2023-11-26T00:00:00.000000000\",\"2023-11-26T00:00:00.000000000\",\"2023-11-25T00:00:00.000000000\",\"2023-11-24T00:00:00.000000000\",\"2023-11-23T00:00:00.000000000\",\"2023-11-22T00:00:00.000000000\",\"2023-11-21T00:00:00.000000000\",\"2023-11-20T00:00:00.000000000\",\"2023-11-19T00:00:00.000000000\",\"2023-11-18T00:00:00.000000000\",\"2023-11-17T00:00:00.000000000\",\"2023-11-16T00:00:00.000000000\",\"2023-11-15T00:00:00.000000000\",\"2023-11-14T00:00:00.000000000\",\"2023-11-13T00:00:00.000000000\",\"2023-11-12T00:00:00.000000000\",\"2023-11-11T00:00:00.000000000\",\"2023-11-10T00:00:00.000000000\",\"2023-11-09T00:00:00.000000000\",\"2023-11-08T00:00:00.000000000\",\"2023-11-07T00:00:00.000000000\",\"2023-11-06T00:00:00.000000000\",\"2023-11-05T00:00:00.000000000\",\"2023-11-04T00:00:00.000000000\",\"2023-11-03T00:00:00.000000000\",\"2023-11-02T00:00:00.000000000\",\"2023-11-01T00:00:00.000000000\",\"2023-10-31T00:00:00.000000000\",\"2023-10-30T00:00:00.000000000\",\"2023-10-29T00:00:00.000000000\",\"2023-10-28T00:00:00.000000000\",\"2023-10-27T00:00:00.000000000\",\"2023-10-26T00:00:00.000000000\",\"2023-10-25T00:00:00.000000000\",\"2023-10-24T00:00:00.000000000\",\"2023-10-23T00:00:00.000000000\",\"2023-10-22T00:00:00.000000000\",\"2023-10-21T00:00:00.000000000\",\"2023-10-20T00:00:00.000000000\",\"2023-10-19T00:00:00.000000000\",\"2023-10-18T00:00:00.000000000\",\"2023-10-17T00:00:00.000000000\",\"2023-10-16T00:00:00.000000000\",\"2023-10-15T00:00:00.000000000\",\"2023-10-14T00:00:00.000000000\",\"2023-10-13T00:00:00.000000000\",\"2023-10-12T00:00:00.000000000\",\"2023-10-11T00:00:00.000000000\",\"2023-10-10T00:00:00.000000000\",\"2023-10-09T00:00:00.000000000\",\"2023-10-08T00:00:00.000000000\",\"2023-10-07T00:00:00.000000000\",\"2023-10-06T00:00:00.000000000\",\"2023-10-05T00:00:00.000000000\",\"2023-10-04T00:00:00.000000000\",\"2023-10-03T00:00:00.000000000\",\"2023-10-02T00:00:00.000000000\",\"2023-10-01T00:00:00.000000000\",\"2023-09-30T00:00:00.000000000\",\"2023-09-29T00:00:00.000000000\",\"2023-09-28T00:00:00.000000000\",\"2023-09-27T00:00:00.000000000\",\"2023-09-26T00:00:00.000000000\",\"2023-09-25T00:00:00.000000000\"],\"y\":[null,null,null,null,null,null,null,null,null,null,null,null,null,null,null,null,null,null,null,null,null,null,null,null,null,null,null,null,null,null,null,null,null,null,null,null,null,null,null,null,null,null,null,null,null,null,null,null,null,null,null,null,null,null,null,null,3511682048.0,1253353088.0,1003470272.0,968387712.0,1054892160.0,727623680.0,829048512.0,-286462912.0,-64231624.0,-367059296.0,-233346624.0,-160614096.0,281304736.0,2101499264.0,null,null,null,null,null,null,null,null,null,null,null,null,null,null,null,null,null,null,null,null,null,null,null,null,null,null,null,null,null,null,null,null,null,null,null,null,null,null,null,null,null,null,null,null,null,null,null,null,null,null,null,null,null,null,null,null],\"type\":\"scatter\",\"xaxis\":\"x2\",\"yaxis\":\"y2\"},{\"legendgroup\":\"LGBMRegressor\",\"line\":{\"color\":\"#fde725\",\"width\":1},\"mode\":\"lines\",\"name\":\"LGBMRegressor\",\"showlegend\":false,\"x\":[\"2023-09-25T00:00:00\",\"2023-09-26T00:00:00\",\"2023-09-27T00:00:00\",\"2023-09-28T00:00:00\",\"2023-09-29T00:00:00\",\"2023-09-30T00:00:00\",\"2023-10-01T00:00:00\",\"2023-10-02T00:00:00\",\"2023-10-03T00:00:00\",\"2023-10-04T00:00:00\",\"2023-10-05T00:00:00\",\"2023-10-06T00:00:00\",\"2023-10-07T00:00:00\",\"2023-10-08T00:00:00\",\"2023-10-09T00:00:00\",\"2023-10-10T00:00:00\",\"2023-10-11T00:00:00\",\"2023-10-12T00:00:00\",\"2023-10-13T00:00:00\",\"2023-10-14T00:00:00\",\"2023-10-15T00:00:00\",\"2023-10-16T00:00:00\",\"2023-10-17T00:00:00\",\"2023-10-18T00:00:00\",\"2023-10-19T00:00:00\",\"2023-10-20T00:00:00\",\"2023-10-21T00:00:00\",\"2023-10-22T00:00:00\",\"2023-10-23T00:00:00\",\"2023-10-24T00:00:00\",\"2023-10-25T00:00:00\",\"2023-10-26T00:00:00\",\"2023-10-27T00:00:00\",\"2023-10-28T00:00:00\",\"2023-10-29T00:00:00\",\"2023-10-30T00:00:00\",\"2023-10-31T00:00:00\",\"2023-11-01T00:00:00\",\"2023-11-02T00:00:00\",\"2023-11-03T00:00:00\",\"2023-11-04T00:00:00\",\"2023-11-05T00:00:00\",\"2023-11-06T00:00:00\",\"2023-11-07T00:00:00\",\"2023-11-08T00:00:00\",\"2023-11-09T00:00:00\",\"2023-11-10T00:00:00\",\"2023-11-11T00:00:00\",\"2023-11-12T00:00:00\",\"2023-11-13T00:00:00\",\"2023-11-14T00:00:00\",\"2023-11-15T00:00:00\",\"2023-11-16T00:00:00\",\"2023-11-17T00:00:00\",\"2023-11-18T00:00:00\",\"2023-11-19T00:00:00\",\"2023-11-20T00:00:00\",\"2023-11-21T00:00:00\",\"2023-11-22T00:00:00\",\"2023-11-23T00:00:00\",\"2023-11-24T00:00:00\",\"2023-11-25T00:00:00\",\"2023-11-26T00:00:00\"],\"y\":[null,null,null,null,null,null,null,null,null,null,null,null,null,null,null,null,null,null,null,null,null,null,null,null,null,null,null,null,null,null,null,null,null,null,null,null,null,null,null,null,null,null,null,null,null,null,null,null,null,null,null,null,null,null,null,null,2220858901.8052244,967210608.2838507,330729754.2770721,555424016.641526,545875067.5463095,404233821.3535682,279816170.830421],\"type\":\"scatter\",\"xaxis\":\"x2\",\"yaxis\":\"y2\"},{\"fill\":\"toself\",\"fillcolor\":\"#fde725\",\"legendgroup\":\"LGBMRegressor_level_80\",\"line\":{\"color\":\"#fde725\",\"width\":1},\"mode\":\"lines\",\"name\":\"LGBMRegressor_level_80\",\"opacity\":0.19999999999999996,\"showlegend\":false,\"x\":[\"2023-09-25T00:00:00.000000000\",\"2023-09-26T00:00:00.000000000\",\"2023-09-27T00:00:00.000000000\",\"2023-09-28T00:00:00.000000000\",\"2023-09-29T00:00:00.000000000\",\"2023-09-30T00:00:00.000000000\",\"2023-10-01T00:00:00.000000000\",\"2023-10-02T00:00:00.000000000\",\"2023-10-03T00:00:00.000000000\",\"2023-10-04T00:00:00.000000000\",\"2023-10-05T00:00:00.000000000\",\"2023-10-06T00:00:00.000000000\",\"2023-10-07T00:00:00.000000000\",\"2023-10-08T00:00:00.000000000\",\"2023-10-09T00:00:00.000000000\",\"2023-10-10T00:00:00.000000000\",\"2023-10-11T00:00:00.000000000\",\"2023-10-12T00:00:00.000000000\",\"2023-10-13T00:00:00.000000000\",\"2023-10-14T00:00:00.000000000\",\"2023-10-15T00:00:00.000000000\",\"2023-10-16T00:00:00.000000000\",\"2023-10-17T00:00:00.000000000\",\"2023-10-18T00:00:00.000000000\",\"2023-10-19T00:00:00.000000000\",\"2023-10-20T00:00:00.000000000\",\"2023-10-21T00:00:00.000000000\",\"2023-10-22T00:00:00.000000000\",\"2023-10-23T00:00:00.000000000\",\"2023-10-24T00:00:00.000000000\",\"2023-10-25T00:00:00.000000000\",\"2023-10-26T00:00:00.000000000\",\"2023-10-27T00:00:00.000000000\",\"2023-10-28T00:00:00.000000000\",\"2023-10-29T00:00:00.000000000\",\"2023-10-30T00:00:00.000000000\",\"2023-10-31T00:00:00.000000000\",\"2023-11-01T00:00:00.000000000\",\"2023-11-02T00:00:00.000000000\",\"2023-11-03T00:00:00.000000000\",\"2023-11-04T00:00:00.000000000\",\"2023-11-05T00:00:00.000000000\",\"2023-11-06T00:00:00.000000000\",\"2023-11-07T00:00:00.000000000\",\"2023-11-08T00:00:00.000000000\",\"2023-11-09T00:00:00.000000000\",\"2023-11-10T00:00:00.000000000\",\"2023-11-11T00:00:00.000000000\",\"2023-11-12T00:00:00.000000000\",\"2023-11-13T00:00:00.000000000\",\"2023-11-14T00:00:00.000000000\",\"2023-11-15T00:00:00.000000000\",\"2023-11-16T00:00:00.000000000\",\"2023-11-17T00:00:00.000000000\",\"2023-11-18T00:00:00.000000000\",\"2023-11-19T00:00:00.000000000\",\"2023-11-20T00:00:00.000000000\",\"2023-11-21T00:00:00.000000000\",\"2023-11-22T00:00:00.000000000\",\"2023-11-23T00:00:00.000000000\",\"2023-11-24T00:00:00.000000000\",\"2023-11-25T00:00:00.000000000\",\"2023-11-26T00:00:00.000000000\",\"2023-11-26T00:00:00.000000000\",\"2023-11-25T00:00:00.000000000\",\"2023-11-24T00:00:00.000000000\",\"2023-11-23T00:00:00.000000000\",\"2023-11-22T00:00:00.000000000\",\"2023-11-21T00:00:00.000000000\",\"2023-11-20T00:00:00.000000000\",\"2023-11-19T00:00:00.000000000\",\"2023-11-18T00:00:00.000000000\",\"2023-11-17T00:00:00.000000000\",\"2023-11-16T00:00:00.000000000\",\"2023-11-15T00:00:00.000000000\",\"2023-11-14T00:00:00.000000000\",\"2023-11-13T00:00:00.000000000\",\"2023-11-12T00:00:00.000000000\",\"2023-11-11T00:00:00.000000000\",\"2023-11-10T00:00:00.000000000\",\"2023-11-09T00:00:00.000000000\",\"2023-11-08T00:00:00.000000000\",\"2023-11-07T00:00:00.000000000\",\"2023-11-06T00:00:00.000000000\",\"2023-11-05T00:00:00.000000000\",\"2023-11-04T00:00:00.000000000\",\"2023-11-03T00:00:00.000000000\",\"2023-11-02T00:00:00.000000000\",\"2023-11-01T00:00:00.000000000\",\"2023-10-31T00:00:00.000000000\",\"2023-10-30T00:00:00.000000000\",\"2023-10-29T00:00:00.000000000\",\"2023-10-28T00:00:00.000000000\",\"2023-10-27T00:00:00.000000000\",\"2023-10-26T00:00:00.000000000\",\"2023-10-25T00:00:00.000000000\",\"2023-10-24T00:00:00.000000000\",\"2023-10-23T00:00:00.000000000\",\"2023-10-22T00:00:00.000000000\",\"2023-10-21T00:00:00.000000000\",\"2023-10-20T00:00:00.000000000\",\"2023-10-19T00:00:00.000000000\",\"2023-10-18T00:00:00.000000000\",\"2023-10-17T00:00:00.000000000\",\"2023-10-16T00:00:00.000000000\",\"2023-10-15T00:00:00.000000000\",\"2023-10-14T00:00:00.000000000\",\"2023-10-13T00:00:00.000000000\",\"2023-10-12T00:00:00.000000000\",\"2023-10-11T00:00:00.000000000\",\"2023-10-10T00:00:00.000000000\",\"2023-10-09T00:00:00.000000000\",\"2023-10-08T00:00:00.000000000\",\"2023-10-07T00:00:00.000000000\",\"2023-10-06T00:00:00.000000000\",\"2023-10-05T00:00:00.000000000\",\"2023-10-04T00:00:00.000000000\",\"2023-10-03T00:00:00.000000000\",\"2023-10-02T00:00:00.000000000\",\"2023-10-01T00:00:00.000000000\",\"2023-09-30T00:00:00.000000000\",\"2023-09-29T00:00:00.000000000\",\"2023-09-28T00:00:00.000000000\",\"2023-09-27T00:00:00.000000000\",\"2023-09-26T00:00:00.000000000\",\"2023-09-25T00:00:00.000000000\"],\"y\":[null,null,null,null,null,null,null,null,null,null,null,null,null,null,null,null,null,null,null,null,null,null,null,null,null,null,null,null,null,null,null,null,null,null,null,null,null,null,null,null,null,null,null,null,null,null,null,null,null,null,null,null,null,null,null,null,2310646937.1144743,1011034795.7080473,496803752.91008216,693153253.8902029,754868369.0162845,747772854.9814062,548019143.3213342,11613198.339507505,60694787.72572985,336881766.0763345,417694779.392849,164655755.64406198,923386420.8596541,2131070866.4959748,null,null,null,null,null,null,null,null,null,null,null,null,null,null,null,null,null,null,null,null,null,null,null,null,null,null,null,null,null,null,null,null,null,null,null,null,null,null,null,null,null,null,null,null,null,null,null,null,null,null,null,null,null,null,null,null],\"type\":\"scatter\",\"xaxis\":\"x2\",\"yaxis\":\"y2\"},{\"legendgroup\":\"y\",\"line\":{\"color\":\"#440154\",\"width\":1},\"mode\":\"lines\",\"name\":\"y\",\"showlegend\":false,\"x\":[\"2023-09-25T00:00:00\",\"2023-09-26T00:00:00\",\"2023-09-27T00:00:00\",\"2023-09-28T00:00:00\",\"2023-09-29T00:00:00\",\"2023-09-30T00:00:00\",\"2023-10-01T00:00:00\",\"2023-10-02T00:00:00\",\"2023-10-03T00:00:00\",\"2023-10-04T00:00:00\",\"2023-10-05T00:00:00\",\"2023-10-06T00:00:00\",\"2023-10-07T00:00:00\",\"2023-10-08T00:00:00\",\"2023-10-09T00:00:00\",\"2023-10-10T00:00:00\",\"2023-10-11T00:00:00\",\"2023-10-12T00:00:00\",\"2023-10-13T00:00:00\",\"2023-10-14T00:00:00\",\"2023-10-15T00:00:00\",\"2023-10-16T00:00:00\",\"2023-10-17T00:00:00\",\"2023-10-18T00:00:00\",\"2023-10-19T00:00:00\",\"2023-10-20T00:00:00\",\"2023-10-21T00:00:00\",\"2023-10-22T00:00:00\",\"2023-10-23T00:00:00\",\"2023-10-24T00:00:00\",\"2023-10-25T00:00:00\",\"2023-10-26T00:00:00\",\"2023-10-27T00:00:00\",\"2023-10-28T00:00:00\",\"2023-10-29T00:00:00\",\"2023-10-30T00:00:00\",\"2023-10-31T00:00:00\",\"2023-11-01T00:00:00\",\"2023-11-02T00:00:00\",\"2023-11-03T00:00:00\",\"2023-11-04T00:00:00\",\"2023-11-05T00:00:00\",\"2023-11-06T00:00:00\",\"2023-11-07T00:00:00\",\"2023-11-08T00:00:00\",\"2023-11-09T00:00:00\",\"2023-11-10T00:00:00\",\"2023-11-11T00:00:00\",\"2023-11-12T00:00:00\",\"2023-11-13T00:00:00\",\"2023-11-14T00:00:00\",\"2023-11-15T00:00:00\",\"2023-11-16T00:00:00\",\"2023-11-17T00:00:00\",\"2023-11-18T00:00:00\",\"2023-11-19T00:00:00\",\"2023-11-20T00:00:00\",\"2023-11-21T00:00:00\",\"2023-11-22T00:00:00\",\"2023-11-23T00:00:00\",\"2023-11-24T00:00:00\",\"2023-11-25T00:00:00\",\"2023-11-26T00:00:00\"],\"y\":[294096832.6666667,245590636.33333334,209181818.66666666,130773358.33333333,138192970.0,151868303.0,162791271.33333334,178968374.33333334,202046377.33333334,264918792.33333334,259399067.66666666,218092761.33333334,237976464.33333334,256073523.66666666,246241421.66666666,199942997.33333334,232566347.33333334,205453134.33333334,184799719.0,205839075.0,216495825.0,179578180.0,154701325.33333334,143189781.33333334,151565970.0,165469520.0,155894399.0,156941774.33333334,177405048.66666666,145942084.33333334,159818389.66666666,173969876.33333334,162175999.0,145399656.0,163712360.33333334,179117421.33333334,136282046.33333334,137146787.33333334,157723420.33333334,147083992.0,156649079.33333334,154945811.33333334,168221181.33333334,164395727.33333334,149338054.0,155572578.33333334,159258569.66666666,147442160.33333334,144468037.33333334,175161600.66666666,151700601.66666666,135929689.66666666,139608631.33333334,138180398.33333334,140828641.0,113383851.66666667,195372185.33333334,203565057.33333334,160192922.66666666,224537652.66666666,232130836.66666666,255823472.66666666,240414557.33333334],\"type\":\"scatter\",\"xaxis\":\"x3\",\"yaxis\":\"y3\"},{\"legendgroup\":\"AutoARIMA\",\"line\":{\"color\":\"#21918c\",\"width\":1},\"mode\":\"lines\",\"name\":\"AutoARIMA\",\"showlegend\":false,\"x\":[\"2023-09-25T00:00:00\",\"2023-09-26T00:00:00\",\"2023-09-27T00:00:00\",\"2023-09-28T00:00:00\",\"2023-09-29T00:00:00\",\"2023-09-30T00:00:00\",\"2023-10-01T00:00:00\",\"2023-10-02T00:00:00\",\"2023-10-03T00:00:00\",\"2023-10-04T00:00:00\",\"2023-10-05T00:00:00\",\"2023-10-06T00:00:00\",\"2023-10-07T00:00:00\",\"2023-10-08T00:00:00\",\"2023-10-09T00:00:00\",\"2023-10-10T00:00:00\",\"2023-10-11T00:00:00\",\"2023-10-12T00:00:00\",\"2023-10-13T00:00:00\",\"2023-10-14T00:00:00\",\"2023-10-15T00:00:00\",\"2023-10-16T00:00:00\",\"2023-10-17T00:00:00\",\"2023-10-18T00:00:00\",\"2023-10-19T00:00:00\",\"2023-10-20T00:00:00\",\"2023-10-21T00:00:00\",\"2023-10-22T00:00:00\",\"2023-10-23T00:00:00\",\"2023-10-24T00:00:00\",\"2023-10-25T00:00:00\",\"2023-10-26T00:00:00\",\"2023-10-27T00:00:00\",\"2023-10-28T00:00:00\",\"2023-10-29T00:00:00\",\"2023-10-30T00:00:00\",\"2023-10-31T00:00:00\",\"2023-11-01T00:00:00\",\"2023-11-02T00:00:00\",\"2023-11-03T00:00:00\",\"2023-11-04T00:00:00\",\"2023-11-05T00:00:00\",\"2023-11-06T00:00:00\",\"2023-11-07T00:00:00\",\"2023-11-08T00:00:00\",\"2023-11-09T00:00:00\",\"2023-11-10T00:00:00\",\"2023-11-11T00:00:00\",\"2023-11-12T00:00:00\",\"2023-11-13T00:00:00\",\"2023-11-14T00:00:00\",\"2023-11-15T00:00:00\",\"2023-11-16T00:00:00\",\"2023-11-17T00:00:00\",\"2023-11-18T00:00:00\",\"2023-11-19T00:00:00\",\"2023-11-20T00:00:00\",\"2023-11-21T00:00:00\",\"2023-11-22T00:00:00\",\"2023-11-23T00:00:00\",\"2023-11-24T00:00:00\",\"2023-11-25T00:00:00\",\"2023-11-26T00:00:00\"],\"y\":[null,null,null,null,null,null,null,null,null,null,null,null,null,null,null,null,null,null,null,null,null,null,null,null,null,null,null,null,null,null,null,null,null,null,null,null,null,null,null,null,null,null,null,null,null,null,null,null,null,null,null,null,null,null,null,null,126488576.0,134468976.0,121059016.0,136916384.0,144799552.0,151004880.0,147783232.0],\"type\":\"scatter\",\"xaxis\":\"x3\",\"yaxis\":\"y3\"},{\"fill\":\"toself\",\"fillcolor\":\"#21918c\",\"legendgroup\":\"AutoARIMA_level_80\",\"line\":{\"color\":\"#21918c\",\"width\":1},\"mode\":\"lines\",\"name\":\"AutoARIMA_level_80\",\"opacity\":0.19999999999999996,\"showlegend\":false,\"x\":[\"2023-09-25T00:00:00.000000000\",\"2023-09-26T00:00:00.000000000\",\"2023-09-27T00:00:00.000000000\",\"2023-09-28T00:00:00.000000000\",\"2023-09-29T00:00:00.000000000\",\"2023-09-30T00:00:00.000000000\",\"2023-10-01T00:00:00.000000000\",\"2023-10-02T00:00:00.000000000\",\"2023-10-03T00:00:00.000000000\",\"2023-10-04T00:00:00.000000000\",\"2023-10-05T00:00:00.000000000\",\"2023-10-06T00:00:00.000000000\",\"2023-10-07T00:00:00.000000000\",\"2023-10-08T00:00:00.000000000\",\"2023-10-09T00:00:00.000000000\",\"2023-10-10T00:00:00.000000000\",\"2023-10-11T00:00:00.000000000\",\"2023-10-12T00:00:00.000000000\",\"2023-10-13T00:00:00.000000000\",\"2023-10-14T00:00:00.000000000\",\"2023-10-15T00:00:00.000000000\",\"2023-10-16T00:00:00.000000000\",\"2023-10-17T00:00:00.000000000\",\"2023-10-18T00:00:00.000000000\",\"2023-10-19T00:00:00.000000000\",\"2023-10-20T00:00:00.000000000\",\"2023-10-21T00:00:00.000000000\",\"2023-10-22T00:00:00.000000000\",\"2023-10-23T00:00:00.000000000\",\"2023-10-24T00:00:00.000000000\",\"2023-10-25T00:00:00.000000000\",\"2023-10-26T00:00:00.000000000\",\"2023-10-27T00:00:00.000000000\",\"2023-10-28T00:00:00.000000000\",\"2023-10-29T00:00:00.000000000\",\"2023-10-30T00:00:00.000000000\",\"2023-10-31T00:00:00.000000000\",\"2023-11-01T00:00:00.000000000\",\"2023-11-02T00:00:00.000000000\",\"2023-11-03T00:00:00.000000000\",\"2023-11-04T00:00:00.000000000\",\"2023-11-05T00:00:00.000000000\",\"2023-11-06T00:00:00.000000000\",\"2023-11-07T00:00:00.000000000\",\"2023-11-08T00:00:00.000000000\",\"2023-11-09T00:00:00.000000000\",\"2023-11-10T00:00:00.000000000\",\"2023-11-11T00:00:00.000000000\",\"2023-11-12T00:00:00.000000000\",\"2023-11-13T00:00:00.000000000\",\"2023-11-14T00:00:00.000000000\",\"2023-11-15T00:00:00.000000000\",\"2023-11-16T00:00:00.000000000\",\"2023-11-17T00:00:00.000000000\",\"2023-11-18T00:00:00.000000000\",\"2023-11-19T00:00:00.000000000\",\"2023-11-20T00:00:00.000000000\",\"2023-11-21T00:00:00.000000000\",\"2023-11-22T00:00:00.000000000\",\"2023-11-23T00:00:00.000000000\",\"2023-11-24T00:00:00.000000000\",\"2023-11-25T00:00:00.000000000\",\"2023-11-26T00:00:00.000000000\",\"2023-11-26T00:00:00.000000000\",\"2023-11-25T00:00:00.000000000\",\"2023-11-24T00:00:00.000000000\",\"2023-11-23T00:00:00.000000000\",\"2023-11-22T00:00:00.000000000\",\"2023-11-21T00:00:00.000000000\",\"2023-11-20T00:00:00.000000000\",\"2023-11-19T00:00:00.000000000\",\"2023-11-18T00:00:00.000000000\",\"2023-11-17T00:00:00.000000000\",\"2023-11-16T00:00:00.000000000\",\"2023-11-15T00:00:00.000000000\",\"2023-11-14T00:00:00.000000000\",\"2023-11-13T00:00:00.000000000\",\"2023-11-12T00:00:00.000000000\",\"2023-11-11T00:00:00.000000000\",\"2023-11-10T00:00:00.000000000\",\"2023-11-09T00:00:00.000000000\",\"2023-11-08T00:00:00.000000000\",\"2023-11-07T00:00:00.000000000\",\"2023-11-06T00:00:00.000000000\",\"2023-11-05T00:00:00.000000000\",\"2023-11-04T00:00:00.000000000\",\"2023-11-03T00:00:00.000000000\",\"2023-11-02T00:00:00.000000000\",\"2023-11-01T00:00:00.000000000\",\"2023-10-31T00:00:00.000000000\",\"2023-10-30T00:00:00.000000000\",\"2023-10-29T00:00:00.000000000\",\"2023-10-28T00:00:00.000000000\",\"2023-10-27T00:00:00.000000000\",\"2023-10-26T00:00:00.000000000\",\"2023-10-25T00:00:00.000000000\",\"2023-10-24T00:00:00.000000000\",\"2023-10-23T00:00:00.000000000\",\"2023-10-22T00:00:00.000000000\",\"2023-10-21T00:00:00.000000000\",\"2023-10-20T00:00:00.000000000\",\"2023-10-19T00:00:00.000000000\",\"2023-10-18T00:00:00.000000000\",\"2023-10-17T00:00:00.000000000\",\"2023-10-16T00:00:00.000000000\",\"2023-10-15T00:00:00.000000000\",\"2023-10-14T00:00:00.000000000\",\"2023-10-13T00:00:00.000000000\",\"2023-10-12T00:00:00.000000000\",\"2023-10-11T00:00:00.000000000\",\"2023-10-10T00:00:00.000000000\",\"2023-10-09T00:00:00.000000000\",\"2023-10-08T00:00:00.000000000\",\"2023-10-07T00:00:00.000000000\",\"2023-10-06T00:00:00.000000000\",\"2023-10-05T00:00:00.000000000\",\"2023-10-04T00:00:00.000000000\",\"2023-10-03T00:00:00.000000000\",\"2023-10-02T00:00:00.000000000\",\"2023-10-01T00:00:00.000000000\",\"2023-09-30T00:00:00.000000000\",\"2023-09-29T00:00:00.000000000\",\"2023-09-28T00:00:00.000000000\",\"2023-09-27T00:00:00.000000000\",\"2023-09-26T00:00:00.000000000\",\"2023-09-25T00:00:00.000000000\"],\"y\":[null,null,null,null,null,null,null,null,null,null,null,null,null,null,null,null,null,null,null,null,null,null,null,null,null,null,null,null,null,null,null,null,null,null,null,null,null,null,null,null,null,null,null,null,null,null,null,null,null,null,null,null,null,null,null,null,175816688.0,156480240.0,138018720.0,159879536.0,169576480.0,170331616.0,171164192.0,124402264.0,131678144.0,120022624.0,113953224.0,104099320.0,112457728.0,77160456.0,null,null,null,null,null,null,null,null,null,null,null,null,null,null,null,null,null,null,null,null,null,null,null,null,null,null,null,null,null,null,null,null,null,null,null,null,null,null,null,null,null,null,null,null,null,null,null,null,null,null,null,null,null,null,null,null],\"type\":\"scatter\",\"xaxis\":\"x3\",\"yaxis\":\"y3\"},{\"legendgroup\":\"LGBMRegressor\",\"line\":{\"color\":\"#fde725\",\"width\":1},\"mode\":\"lines\",\"name\":\"LGBMRegressor\",\"showlegend\":false,\"x\":[\"2023-09-25T00:00:00\",\"2023-09-26T00:00:00\",\"2023-09-27T00:00:00\",\"2023-09-28T00:00:00\",\"2023-09-29T00:00:00\",\"2023-09-30T00:00:00\",\"2023-10-01T00:00:00\",\"2023-10-02T00:00:00\",\"2023-10-03T00:00:00\",\"2023-10-04T00:00:00\",\"2023-10-05T00:00:00\",\"2023-10-06T00:00:00\",\"2023-10-07T00:00:00\",\"2023-10-08T00:00:00\",\"2023-10-09T00:00:00\",\"2023-10-10T00:00:00\",\"2023-10-11T00:00:00\",\"2023-10-12T00:00:00\",\"2023-10-13T00:00:00\",\"2023-10-14T00:00:00\",\"2023-10-15T00:00:00\",\"2023-10-16T00:00:00\",\"2023-10-17T00:00:00\",\"2023-10-18T00:00:00\",\"2023-10-19T00:00:00\",\"2023-10-20T00:00:00\",\"2023-10-21T00:00:00\",\"2023-10-22T00:00:00\",\"2023-10-23T00:00:00\",\"2023-10-24T00:00:00\",\"2023-10-25T00:00:00\",\"2023-10-26T00:00:00\",\"2023-10-27T00:00:00\",\"2023-10-28T00:00:00\",\"2023-10-29T00:00:00\",\"2023-10-30T00:00:00\",\"2023-10-31T00:00:00\",\"2023-11-01T00:00:00\",\"2023-11-02T00:00:00\",\"2023-11-03T00:00:00\",\"2023-11-04T00:00:00\",\"2023-11-05T00:00:00\",\"2023-11-06T00:00:00\",\"2023-11-07T00:00:00\",\"2023-11-08T00:00:00\",\"2023-11-09T00:00:00\",\"2023-11-10T00:00:00\",\"2023-11-11T00:00:00\",\"2023-11-12T00:00:00\",\"2023-11-13T00:00:00\",\"2023-11-14T00:00:00\",\"2023-11-15T00:00:00\",\"2023-11-16T00:00:00\",\"2023-11-17T00:00:00\",\"2023-11-18T00:00:00\",\"2023-11-19T00:00:00\",\"2023-11-20T00:00:00\",\"2023-11-21T00:00:00\",\"2023-11-22T00:00:00\",\"2023-11-23T00:00:00\",\"2023-11-24T00:00:00\",\"2023-11-25T00:00:00\",\"2023-11-26T00:00:00\"],\"y\":[null,null,null,null,null,null,null,null,null,null,null,null,null,null,null,null,null,null,null,null,null,null,null,null,null,null,null,null,null,null,null,null,null,null,null,null,null,null,null,null,null,null,null,null,null,null,null,null,null,null,null,null,null,null,null,null,131470669.65163146,138156906.42068657,139548845.54473636,140557899.90562442,143730071.07795075,136328265.90855113,136825582.4703605],\"type\":\"scatter\",\"xaxis\":\"x3\",\"yaxis\":\"y3\"},{\"fill\":\"toself\",\"fillcolor\":\"#fde725\",\"legendgroup\":\"LGBMRegressor_level_80\",\"line\":{\"color\":\"#fde725\",\"width\":1},\"mode\":\"lines\",\"name\":\"LGBMRegressor_level_80\",\"opacity\":0.19999999999999996,\"showlegend\":false,\"x\":[\"2023-09-25T00:00:00.000000000\",\"2023-09-26T00:00:00.000000000\",\"2023-09-27T00:00:00.000000000\",\"2023-09-28T00:00:00.000000000\",\"2023-09-29T00:00:00.000000000\",\"2023-09-30T00:00:00.000000000\",\"2023-10-01T00:00:00.000000000\",\"2023-10-02T00:00:00.000000000\",\"2023-10-03T00:00:00.000000000\",\"2023-10-04T00:00:00.000000000\",\"2023-10-05T00:00:00.000000000\",\"2023-10-06T00:00:00.000000000\",\"2023-10-07T00:00:00.000000000\",\"2023-10-08T00:00:00.000000000\",\"2023-10-09T00:00:00.000000000\",\"2023-10-10T00:00:00.000000000\",\"2023-10-11T00:00:00.000000000\",\"2023-10-12T00:00:00.000000000\",\"2023-10-13T00:00:00.000000000\",\"2023-10-14T00:00:00.000000000\",\"2023-10-15T00:00:00.000000000\",\"2023-10-16T00:00:00.000000000\",\"2023-10-17T00:00:00.000000000\",\"2023-10-18T00:00:00.000000000\",\"2023-10-19T00:00:00.000000000\",\"2023-10-20T00:00:00.000000000\",\"2023-10-21T00:00:00.000000000\",\"2023-10-22T00:00:00.000000000\",\"2023-10-23T00:00:00.000000000\",\"2023-10-24T00:00:00.000000000\",\"2023-10-25T00:00:00.000000000\",\"2023-10-26T00:00:00.000000000\",\"2023-10-27T00:00:00.000000000\",\"2023-10-28T00:00:00.000000000\",\"2023-10-29T00:00:00.000000000\",\"2023-10-30T00:00:00.000000000\",\"2023-10-31T00:00:00.000000000\",\"2023-11-01T00:00:00.000000000\",\"2023-11-02T00:00:00.000000000\",\"2023-11-03T00:00:00.000000000\",\"2023-11-04T00:00:00.000000000\",\"2023-11-05T00:00:00.000000000\",\"2023-11-06T00:00:00.000000000\",\"2023-11-07T00:00:00.000000000\",\"2023-11-08T00:00:00.000000000\",\"2023-11-09T00:00:00.000000000\",\"2023-11-10T00:00:00.000000000\",\"2023-11-11T00:00:00.000000000\",\"2023-11-12T00:00:00.000000000\",\"2023-11-13T00:00:00.000000000\",\"2023-11-14T00:00:00.000000000\",\"2023-11-15T00:00:00.000000000\",\"2023-11-16T00:00:00.000000000\",\"2023-11-17T00:00:00.000000000\",\"2023-11-18T00:00:00.000000000\",\"2023-11-19T00:00:00.000000000\",\"2023-11-20T00:00:00.000000000\",\"2023-11-21T00:00:00.000000000\",\"2023-11-22T00:00:00.000000000\",\"2023-11-23T00:00:00.000000000\",\"2023-11-24T00:00:00.000000000\",\"2023-11-25T00:00:00.000000000\",\"2023-11-26T00:00:00.000000000\",\"2023-11-26T00:00:00.000000000\",\"2023-11-25T00:00:00.000000000\",\"2023-11-24T00:00:00.000000000\",\"2023-11-23T00:00:00.000000000\",\"2023-11-22T00:00:00.000000000\",\"2023-11-21T00:00:00.000000000\",\"2023-11-20T00:00:00.000000000\",\"2023-11-19T00:00:00.000000000\",\"2023-11-18T00:00:00.000000000\",\"2023-11-17T00:00:00.000000000\",\"2023-11-16T00:00:00.000000000\",\"2023-11-15T00:00:00.000000000\",\"2023-11-14T00:00:00.000000000\",\"2023-11-13T00:00:00.000000000\",\"2023-11-12T00:00:00.000000000\",\"2023-11-11T00:00:00.000000000\",\"2023-11-10T00:00:00.000000000\",\"2023-11-09T00:00:00.000000000\",\"2023-11-08T00:00:00.000000000\",\"2023-11-07T00:00:00.000000000\",\"2023-11-06T00:00:00.000000000\",\"2023-11-05T00:00:00.000000000\",\"2023-11-04T00:00:00.000000000\",\"2023-11-03T00:00:00.000000000\",\"2023-11-02T00:00:00.000000000\",\"2023-11-01T00:00:00.000000000\",\"2023-10-31T00:00:00.000000000\",\"2023-10-30T00:00:00.000000000\",\"2023-10-29T00:00:00.000000000\",\"2023-10-28T00:00:00.000000000\",\"2023-10-27T00:00:00.000000000\",\"2023-10-26T00:00:00.000000000\",\"2023-10-25T00:00:00.000000000\",\"2023-10-24T00:00:00.000000000\",\"2023-10-23T00:00:00.000000000\",\"2023-10-22T00:00:00.000000000\",\"2023-10-21T00:00:00.000000000\",\"2023-10-20T00:00:00.000000000\",\"2023-10-19T00:00:00.000000000\",\"2023-10-18T00:00:00.000000000\",\"2023-10-17T00:00:00.000000000\",\"2023-10-16T00:00:00.000000000\",\"2023-10-15T00:00:00.000000000\",\"2023-10-14T00:00:00.000000000\",\"2023-10-13T00:00:00.000000000\",\"2023-10-12T00:00:00.000000000\",\"2023-10-11T00:00:00.000000000\",\"2023-10-10T00:00:00.000000000\",\"2023-10-09T00:00:00.000000000\",\"2023-10-08T00:00:00.000000000\",\"2023-10-07T00:00:00.000000000\",\"2023-10-06T00:00:00.000000000\",\"2023-10-05T00:00:00.000000000\",\"2023-10-04T00:00:00.000000000\",\"2023-10-03T00:00:00.000000000\",\"2023-10-02T00:00:00.000000000\",\"2023-10-01T00:00:00.000000000\",\"2023-09-30T00:00:00.000000000\",\"2023-09-29T00:00:00.000000000\",\"2023-09-28T00:00:00.000000000\",\"2023-09-27T00:00:00.000000000\",\"2023-09-26T00:00:00.000000000\",\"2023-09-25T00:00:00.000000000\"],\"y\":[null,null,null,null,null,null,null,null,null,null,null,null,null,null,null,null,null,null,null,null,null,null,null,null,null,null,null,null,null,null,null,null,null,null,null,null,null,null,null,null,null,null,null,null,null,null,null,null,null,null,null,null,null,null,null,null,159975705.76661515,172649051.39887127,184999944.39934304,170344936.4393801,168306823.44085413,168534127.3035184,173458761.5567246,100192403.38399637,104122404.51358384,119153318.71504734,110770863.37186871,94097746.69012965,103664761.44250186,102965633.53664777,null,null,null,null,null,null,null,null,null,null,null,null,null,null,null,null,null,null,null,null,null,null,null,null,null,null,null,null,null,null,null,null,null,null,null,null,null,null,null,null,null,null,null,null,null,null,null,null,null,null,null,null,null,null,null,null],\"type\":\"scatter\",\"xaxis\":\"x3\",\"yaxis\":\"y3\"},{\"legendgroup\":\"y\",\"line\":{\"color\":\"#440154\",\"width\":1},\"mode\":\"lines\",\"name\":\"y\",\"showlegend\":false,\"x\":[\"2023-09-25T00:00:00\",\"2023-09-26T00:00:00\",\"2023-09-27T00:00:00\",\"2023-09-28T00:00:00\",\"2023-09-29T00:00:00\",\"2023-09-30T00:00:00\",\"2023-10-01T00:00:00\",\"2023-10-02T00:00:00\",\"2023-10-03T00:00:00\",\"2023-10-04T00:00:00\",\"2023-10-05T00:00:00\",\"2023-10-06T00:00:00\",\"2023-10-07T00:00:00\",\"2023-10-08T00:00:00\",\"2023-10-09T00:00:00\",\"2023-10-10T00:00:00\",\"2023-10-11T00:00:00\",\"2023-10-12T00:00:00\",\"2023-10-13T00:00:00\",\"2023-10-14T00:00:00\",\"2023-10-15T00:00:00\",\"2023-10-16T00:00:00\",\"2023-10-17T00:00:00\",\"2023-10-18T00:00:00\",\"2023-10-19T00:00:00\",\"2023-10-20T00:00:00\",\"2023-10-21T00:00:00\",\"2023-10-22T00:00:00\",\"2023-10-23T00:00:00\",\"2023-10-24T00:00:00\",\"2023-10-25T00:00:00\",\"2023-10-26T00:00:00\",\"2023-10-27T00:00:00\",\"2023-10-28T00:00:00\",\"2023-10-29T00:00:00\",\"2023-10-30T00:00:00\",\"2023-10-31T00:00:00\",\"2023-11-01T00:00:00\",\"2023-11-02T00:00:00\",\"2023-11-03T00:00:00\",\"2023-11-04T00:00:00\",\"2023-11-05T00:00:00\",\"2023-11-06T00:00:00\",\"2023-11-07T00:00:00\",\"2023-11-08T00:00:00\",\"2023-11-09T00:00:00\",\"2023-11-10T00:00:00\",\"2023-11-11T00:00:00\",\"2023-11-12T00:00:00\",\"2023-11-13T00:00:00\",\"2023-11-14T00:00:00\",\"2023-11-15T00:00:00\",\"2023-11-16T00:00:00\",\"2023-11-17T00:00:00\",\"2023-11-18T00:00:00\",\"2023-11-19T00:00:00\",\"2023-11-20T00:00:00\",\"2023-11-21T00:00:00\",\"2023-11-22T00:00:00\",\"2023-11-23T00:00:00\",\"2023-11-24T00:00:00\",\"2023-11-25T00:00:00\",\"2023-11-26T00:00:00\"],\"y\":[476530.3333333333,157792.0,334191.6666666667,3536076.6666666665,1483930.0,731958.3333333334,24583.333333333332,2099516.6666666665,7383458.333333333,15666242.666666666,21033892.666666668,10345142.333333334,763236.0,247941.66666666666,8027160.0,34453132.0,417306.0,288853.6666666667,1881371.3333333333,1248008.3333333333,4989293.333333333,11449114.0,4451750.0,5163510.333333333,6833493.666666667,8586282.666666666,6187511.0,13722500.666666666,4649295.666666667,1585336.0,439357.6666666667,416631.6666666667,36845.0,445967.3333333333,134521.66666666666,1304779.6666666667,4781715.0,919086.6666666666,5559703.666666667,18116101.666666668,2997125.0,5567926.0,11176108.333333334,28575063.333333332,4679001.333333333,276631.6666666667,918405.0,445438.3333333333,61600.0,2155202.0,7551736.666666667,5585344.666666667,9327349.666666666,11142837.666666666,10858975.666666666,12228512.0,3042190.6666666665,565263.3333333334,9747744.666666666,6754781.333333333,16406336.0,789731.0,1268702.0],\"type\":\"scatter\",\"xaxis\":\"x4\",\"yaxis\":\"y4\"},{\"legendgroup\":\"AutoARIMA\",\"line\":{\"color\":\"#21918c\",\"width\":1},\"mode\":\"lines\",\"name\":\"AutoARIMA\",\"showlegend\":false,\"x\":[\"2023-09-25T00:00:00\",\"2023-09-26T00:00:00\",\"2023-09-27T00:00:00\",\"2023-09-28T00:00:00\",\"2023-09-29T00:00:00\",\"2023-09-30T00:00:00\",\"2023-10-01T00:00:00\",\"2023-10-02T00:00:00\",\"2023-10-03T00:00:00\",\"2023-10-04T00:00:00\",\"2023-10-05T00:00:00\",\"2023-10-06T00:00:00\",\"2023-10-07T00:00:00\",\"2023-10-08T00:00:00\",\"2023-10-09T00:00:00\",\"2023-10-10T00:00:00\",\"2023-10-11T00:00:00\",\"2023-10-12T00:00:00\",\"2023-10-13T00:00:00\",\"2023-10-14T00:00:00\",\"2023-10-15T00:00:00\",\"2023-10-16T00:00:00\",\"2023-10-17T00:00:00\",\"2023-10-18T00:00:00\",\"2023-10-19T00:00:00\",\"2023-10-20T00:00:00\",\"2023-10-21T00:00:00\",\"2023-10-22T00:00:00\",\"2023-10-23T00:00:00\",\"2023-10-24T00:00:00\",\"2023-10-25T00:00:00\",\"2023-10-26T00:00:00\",\"2023-10-27T00:00:00\",\"2023-10-28T00:00:00\",\"2023-10-29T00:00:00\",\"2023-10-30T00:00:00\",\"2023-10-31T00:00:00\",\"2023-11-01T00:00:00\",\"2023-11-02T00:00:00\",\"2023-11-03T00:00:00\",\"2023-11-04T00:00:00\",\"2023-11-05T00:00:00\",\"2023-11-06T00:00:00\",\"2023-11-07T00:00:00\",\"2023-11-08T00:00:00\",\"2023-11-09T00:00:00\",\"2023-11-10T00:00:00\",\"2023-11-11T00:00:00\",\"2023-11-12T00:00:00\",\"2023-11-13T00:00:00\",\"2023-11-14T00:00:00\",\"2023-11-15T00:00:00\",\"2023-11-16T00:00:00\",\"2023-11-17T00:00:00\",\"2023-11-18T00:00:00\",\"2023-11-19T00:00:00\",\"2023-11-20T00:00:00\",\"2023-11-21T00:00:00\",\"2023-11-22T00:00:00\",\"2023-11-23T00:00:00\",\"2023-11-24T00:00:00\",\"2023-11-25T00:00:00\",\"2023-11-26T00:00:00\"],\"y\":[null,null,null,null,null,null,null,null,null,null,null,null,null,null,null,null,null,null,null,null,null,null,null,null,null,null,null,null,null,null,null,null,null,null,null,null,null,null,null,null,null,null,null,null,null,null,null,null,null,null,null,null,null,null,null,null,18024834.0,-32633464.0,-33853208.0,-8432381.0,-24728736.0,-17722630.0,-9323099.0],\"type\":\"scatter\",\"xaxis\":\"x4\",\"yaxis\":\"y4\"},{\"fill\":\"toself\",\"fillcolor\":\"#21918c\",\"legendgroup\":\"AutoARIMA_level_80\",\"line\":{\"color\":\"#21918c\",\"width\":1},\"mode\":\"lines\",\"name\":\"AutoARIMA_level_80\",\"opacity\":0.19999999999999996,\"showlegend\":false,\"x\":[\"2023-09-25T00:00:00.000000000\",\"2023-09-26T00:00:00.000000000\",\"2023-09-27T00:00:00.000000000\",\"2023-09-28T00:00:00.000000000\",\"2023-09-29T00:00:00.000000000\",\"2023-09-30T00:00:00.000000000\",\"2023-10-01T00:00:00.000000000\",\"2023-10-02T00:00:00.000000000\",\"2023-10-03T00:00:00.000000000\",\"2023-10-04T00:00:00.000000000\",\"2023-10-05T00:00:00.000000000\",\"2023-10-06T00:00:00.000000000\",\"2023-10-07T00:00:00.000000000\",\"2023-10-08T00:00:00.000000000\",\"2023-10-09T00:00:00.000000000\",\"2023-10-10T00:00:00.000000000\",\"2023-10-11T00:00:00.000000000\",\"2023-10-12T00:00:00.000000000\",\"2023-10-13T00:00:00.000000000\",\"2023-10-14T00:00:00.000000000\",\"2023-10-15T00:00:00.000000000\",\"2023-10-16T00:00:00.000000000\",\"2023-10-17T00:00:00.000000000\",\"2023-10-18T00:00:00.000000000\",\"2023-10-19T00:00:00.000000000\",\"2023-10-20T00:00:00.000000000\",\"2023-10-21T00:00:00.000000000\",\"2023-10-22T00:00:00.000000000\",\"2023-10-23T00:00:00.000000000\",\"2023-10-24T00:00:00.000000000\",\"2023-10-25T00:00:00.000000000\",\"2023-10-26T00:00:00.000000000\",\"2023-10-27T00:00:00.000000000\",\"2023-10-28T00:00:00.000000000\",\"2023-10-29T00:00:00.000000000\",\"2023-10-30T00:00:00.000000000\",\"2023-10-31T00:00:00.000000000\",\"2023-11-01T00:00:00.000000000\",\"2023-11-02T00:00:00.000000000\",\"2023-11-03T00:00:00.000000000\",\"2023-11-04T00:00:00.000000000\",\"2023-11-05T00:00:00.000000000\",\"2023-11-06T00:00:00.000000000\",\"2023-11-07T00:00:00.000000000\",\"2023-11-08T00:00:00.000000000\",\"2023-11-09T00:00:00.000000000\",\"2023-11-10T00:00:00.000000000\",\"2023-11-11T00:00:00.000000000\",\"2023-11-12T00:00:00.000000000\",\"2023-11-13T00:00:00.000000000\",\"2023-11-14T00:00:00.000000000\",\"2023-11-15T00:00:00.000000000\",\"2023-11-16T00:00:00.000000000\",\"2023-11-17T00:00:00.000000000\",\"2023-11-18T00:00:00.000000000\",\"2023-11-19T00:00:00.000000000\",\"2023-11-20T00:00:00.000000000\",\"2023-11-21T00:00:00.000000000\",\"2023-11-22T00:00:00.000000000\",\"2023-11-23T00:00:00.000000000\",\"2023-11-24T00:00:00.000000000\",\"2023-11-25T00:00:00.000000000\",\"2023-11-26T00:00:00.000000000\",\"2023-11-26T00:00:00.000000000\",\"2023-11-25T00:00:00.000000000\",\"2023-11-24T00:00:00.000000000\",\"2023-11-23T00:00:00.000000000\",\"2023-11-22T00:00:00.000000000\",\"2023-11-21T00:00:00.000000000\",\"2023-11-20T00:00:00.000000000\",\"2023-11-19T00:00:00.000000000\",\"2023-11-18T00:00:00.000000000\",\"2023-11-17T00:00:00.000000000\",\"2023-11-16T00:00:00.000000000\",\"2023-11-15T00:00:00.000000000\",\"2023-11-14T00:00:00.000000000\",\"2023-11-13T00:00:00.000000000\",\"2023-11-12T00:00:00.000000000\",\"2023-11-11T00:00:00.000000000\",\"2023-11-10T00:00:00.000000000\",\"2023-11-09T00:00:00.000000000\",\"2023-11-08T00:00:00.000000000\",\"2023-11-07T00:00:00.000000000\",\"2023-11-06T00:00:00.000000000\",\"2023-11-05T00:00:00.000000000\",\"2023-11-04T00:00:00.000000000\",\"2023-11-03T00:00:00.000000000\",\"2023-11-02T00:00:00.000000000\",\"2023-11-01T00:00:00.000000000\",\"2023-10-31T00:00:00.000000000\",\"2023-10-30T00:00:00.000000000\",\"2023-10-29T00:00:00.000000000\",\"2023-10-28T00:00:00.000000000\",\"2023-10-27T00:00:00.000000000\",\"2023-10-26T00:00:00.000000000\",\"2023-10-25T00:00:00.000000000\",\"2023-10-24T00:00:00.000000000\",\"2023-10-23T00:00:00.000000000\",\"2023-10-22T00:00:00.000000000\",\"2023-10-21T00:00:00.000000000\",\"2023-10-20T00:00:00.000000000\",\"2023-10-19T00:00:00.000000000\",\"2023-10-18T00:00:00.000000000\",\"2023-10-17T00:00:00.000000000\",\"2023-10-16T00:00:00.000000000\",\"2023-10-15T00:00:00.000000000\",\"2023-10-14T00:00:00.000000000\",\"2023-10-13T00:00:00.000000000\",\"2023-10-12T00:00:00.000000000\",\"2023-10-11T00:00:00.000000000\",\"2023-10-10T00:00:00.000000000\",\"2023-10-09T00:00:00.000000000\",\"2023-10-08T00:00:00.000000000\",\"2023-10-07T00:00:00.000000000\",\"2023-10-06T00:00:00.000000000\",\"2023-10-05T00:00:00.000000000\",\"2023-10-04T00:00:00.000000000\",\"2023-10-03T00:00:00.000000000\",\"2023-10-02T00:00:00.000000000\",\"2023-10-01T00:00:00.000000000\",\"2023-09-30T00:00:00.000000000\",\"2023-09-29T00:00:00.000000000\",\"2023-09-28T00:00:00.000000000\",\"2023-09-27T00:00:00.000000000\",\"2023-09-26T00:00:00.000000000\",\"2023-09-25T00:00:00.000000000\"],\"y\":[null,null,null,null,null,null,null,null,null,null,null,null,null,null,null,null,null,null,null,null,null,null,null,null,null,null,null,null,null,null,null,null,null,null,null,null,null,null,null,null,null,null,null,null,null,null,null,null,null,null,null,null,null,null,null,null,25462090.0,-23188740.0,-25598304.0,2240124.5,-6433870.5,436847.84375,11234343.0,-29880542.0,-35882108.0,-43023604.0,-19104886.0,-42108112.0,-42078188.0,10587576.0,null,null,null,null,null,null,null,null,null,null,null,null,null,null,null,null,null,null,null,null,null,null,null,null,null,null,null,null,null,null,null,null,null,null,null,null,null,null,null,null,null,null,null,null,null,null,null,null,null,null,null,null,null,null,null,null],\"type\":\"scatter\",\"xaxis\":\"x4\",\"yaxis\":\"y4\"},{\"legendgroup\":\"LGBMRegressor\",\"line\":{\"color\":\"#fde725\",\"width\":1},\"mode\":\"lines\",\"name\":\"LGBMRegressor\",\"showlegend\":false,\"x\":[\"2023-09-25T00:00:00\",\"2023-09-26T00:00:00\",\"2023-09-27T00:00:00\",\"2023-09-28T00:00:00\",\"2023-09-29T00:00:00\",\"2023-09-30T00:00:00\",\"2023-10-01T00:00:00\",\"2023-10-02T00:00:00\",\"2023-10-03T00:00:00\",\"2023-10-04T00:00:00\",\"2023-10-05T00:00:00\",\"2023-10-06T00:00:00\",\"2023-10-07T00:00:00\",\"2023-10-08T00:00:00\",\"2023-10-09T00:00:00\",\"2023-10-10T00:00:00\",\"2023-10-11T00:00:00\",\"2023-10-12T00:00:00\",\"2023-10-13T00:00:00\",\"2023-10-14T00:00:00\",\"2023-10-15T00:00:00\",\"2023-10-16T00:00:00\",\"2023-10-17T00:00:00\",\"2023-10-18T00:00:00\",\"2023-10-19T00:00:00\",\"2023-10-20T00:00:00\",\"2023-10-21T00:00:00\",\"2023-10-22T00:00:00\",\"2023-10-23T00:00:00\",\"2023-10-24T00:00:00\",\"2023-10-25T00:00:00\",\"2023-10-26T00:00:00\",\"2023-10-27T00:00:00\",\"2023-10-28T00:00:00\",\"2023-10-29T00:00:00\",\"2023-10-30T00:00:00\",\"2023-10-31T00:00:00\",\"2023-11-01T00:00:00\",\"2023-11-02T00:00:00\",\"2023-11-03T00:00:00\",\"2023-11-04T00:00:00\",\"2023-11-05T00:00:00\",\"2023-11-06T00:00:00\",\"2023-11-07T00:00:00\",\"2023-11-08T00:00:00\",\"2023-11-09T00:00:00\",\"2023-11-10T00:00:00\",\"2023-11-11T00:00:00\",\"2023-11-12T00:00:00\",\"2023-11-13T00:00:00\",\"2023-11-14T00:00:00\",\"2023-11-15T00:00:00\",\"2023-11-16T00:00:00\",\"2023-11-17T00:00:00\",\"2023-11-18T00:00:00\",\"2023-11-19T00:00:00\",\"2023-11-20T00:00:00\",\"2023-11-21T00:00:00\",\"2023-11-22T00:00:00\",\"2023-11-23T00:00:00\",\"2023-11-24T00:00:00\",\"2023-11-25T00:00:00\",\"2023-11-26T00:00:00\"],\"y\":[null,null,null,null,null,null,null,null,null,null,null,null,null,null,null,null,null,null,null,null,null,null,null,null,null,null,null,null,null,null,null,null,null,null,null,null,null,null,null,null,null,null,null,null,null,null,null,null,null,null,null,null,null,null,null,null,13049913.810077103,15513836.40500116,15632494.679414723,10284461.814459115,12214320.620513678,11828287.68478225,7123297.421068948],\"type\":\"scatter\",\"xaxis\":\"x4\",\"yaxis\":\"y4\"},{\"fill\":\"toself\",\"fillcolor\":\"#fde725\",\"legendgroup\":\"LGBMRegressor_level_80\",\"line\":{\"color\":\"#fde725\",\"width\":1},\"mode\":\"lines\",\"name\":\"LGBMRegressor_level_80\",\"opacity\":0.19999999999999996,\"showlegend\":false,\"x\":[\"2023-09-25T00:00:00.000000000\",\"2023-09-26T00:00:00.000000000\",\"2023-09-27T00:00:00.000000000\",\"2023-09-28T00:00:00.000000000\",\"2023-09-29T00:00:00.000000000\",\"2023-09-30T00:00:00.000000000\",\"2023-10-01T00:00:00.000000000\",\"2023-10-02T00:00:00.000000000\",\"2023-10-03T00:00:00.000000000\",\"2023-10-04T00:00:00.000000000\",\"2023-10-05T00:00:00.000000000\",\"2023-10-06T00:00:00.000000000\",\"2023-10-07T00:00:00.000000000\",\"2023-10-08T00:00:00.000000000\",\"2023-10-09T00:00:00.000000000\",\"2023-10-10T00:00:00.000000000\",\"2023-10-11T00:00:00.000000000\",\"2023-10-12T00:00:00.000000000\",\"2023-10-13T00:00:00.000000000\",\"2023-10-14T00:00:00.000000000\",\"2023-10-15T00:00:00.000000000\",\"2023-10-16T00:00:00.000000000\",\"2023-10-17T00:00:00.000000000\",\"2023-10-18T00:00:00.000000000\",\"2023-10-19T00:00:00.000000000\",\"2023-10-20T00:00:00.000000000\",\"2023-10-21T00:00:00.000000000\",\"2023-10-22T00:00:00.000000000\",\"2023-10-23T00:00:00.000000000\",\"2023-10-24T00:00:00.000000000\",\"2023-10-25T00:00:00.000000000\",\"2023-10-26T00:00:00.000000000\",\"2023-10-27T00:00:00.000000000\",\"2023-10-28T00:00:00.000000000\",\"2023-10-29T00:00:00.000000000\",\"2023-10-30T00:00:00.000000000\",\"2023-10-31T00:00:00.000000000\",\"2023-11-01T00:00:00.000000000\",\"2023-11-02T00:00:00.000000000\",\"2023-11-03T00:00:00.000000000\",\"2023-11-04T00:00:00.000000000\",\"2023-11-05T00:00:00.000000000\",\"2023-11-06T00:00:00.000000000\",\"2023-11-07T00:00:00.000000000\",\"2023-11-08T00:00:00.000000000\",\"2023-11-09T00:00:00.000000000\",\"2023-11-10T00:00:00.000000000\",\"2023-11-11T00:00:00.000000000\",\"2023-11-12T00:00:00.000000000\",\"2023-11-13T00:00:00.000000000\",\"2023-11-14T00:00:00.000000000\",\"2023-11-15T00:00:00.000000000\",\"2023-11-16T00:00:00.000000000\",\"2023-11-17T00:00:00.000000000\",\"2023-11-18T00:00:00.000000000\",\"2023-11-19T00:00:00.000000000\",\"2023-11-20T00:00:00.000000000\",\"2023-11-21T00:00:00.000000000\",\"2023-11-22T00:00:00.000000000\",\"2023-11-23T00:00:00.000000000\",\"2023-11-24T00:00:00.000000000\",\"2023-11-25T00:00:00.000000000\",\"2023-11-26T00:00:00.000000000\",\"2023-11-26T00:00:00.000000000\",\"2023-11-25T00:00:00.000000000\",\"2023-11-24T00:00:00.000000000\",\"2023-11-23T00:00:00.000000000\",\"2023-11-22T00:00:00.000000000\",\"2023-11-21T00:00:00.000000000\",\"2023-11-20T00:00:00.000000000\",\"2023-11-19T00:00:00.000000000\",\"2023-11-18T00:00:00.000000000\",\"2023-11-17T00:00:00.000000000\",\"2023-11-16T00:00:00.000000000\",\"2023-11-15T00:00:00.000000000\",\"2023-11-14T00:00:00.000000000\",\"2023-11-13T00:00:00.000000000\",\"2023-11-12T00:00:00.000000000\",\"2023-11-11T00:00:00.000000000\",\"2023-11-10T00:00:00.000000000\",\"2023-11-09T00:00:00.000000000\",\"2023-11-08T00:00:00.000000000\",\"2023-11-07T00:00:00.000000000\",\"2023-11-06T00:00:00.000000000\",\"2023-11-05T00:00:00.000000000\",\"2023-11-04T00:00:00.000000000\",\"2023-11-03T00:00:00.000000000\",\"2023-11-02T00:00:00.000000000\",\"2023-11-01T00:00:00.000000000\",\"2023-10-31T00:00:00.000000000\",\"2023-10-30T00:00:00.000000000\",\"2023-10-29T00:00:00.000000000\",\"2023-10-28T00:00:00.000000000\",\"2023-10-27T00:00:00.000000000\",\"2023-10-26T00:00:00.000000000\",\"2023-10-25T00:00:00.000000000\",\"2023-10-24T00:00:00.000000000\",\"2023-10-23T00:00:00.000000000\",\"2023-10-22T00:00:00.000000000\",\"2023-10-21T00:00:00.000000000\",\"2023-10-20T00:00:00.000000000\",\"2023-10-19T00:00:00.000000000\",\"2023-10-18T00:00:00.000000000\",\"2023-10-17T00:00:00.000000000\",\"2023-10-16T00:00:00.000000000\",\"2023-10-15T00:00:00.000000000\",\"2023-10-14T00:00:00.000000000\",\"2023-10-13T00:00:00.000000000\",\"2023-10-12T00:00:00.000000000\",\"2023-10-11T00:00:00.000000000\",\"2023-10-10T00:00:00.000000000\",\"2023-10-09T00:00:00.000000000\",\"2023-10-08T00:00:00.000000000\",\"2023-10-07T00:00:00.000000000\",\"2023-10-06T00:00:00.000000000\",\"2023-10-05T00:00:00.000000000\",\"2023-10-04T00:00:00.000000000\",\"2023-10-03T00:00:00.000000000\",\"2023-10-02T00:00:00.000000000\",\"2023-10-01T00:00:00.000000000\",\"2023-09-30T00:00:00.000000000\",\"2023-09-29T00:00:00.000000000\",\"2023-09-28T00:00:00.000000000\",\"2023-09-27T00:00:00.000000000\",\"2023-09-26T00:00:00.000000000\",\"2023-09-25T00:00:00.000000000\"],\"y\":[null,null,null,null,null,null,null,null,null,null,null,null,null,null,null,null,null,null,null,null,null,null,null,null,null,null,null,null,null,null,null,null,null,null,null,null,null,null,null,null,null,null,null,null,null,null,null,null,null,null,null,null,null,null,null,null,19837923.62184127,23667803.51633519,25794405.994637124,18953548.986106247,24334520.755772494,23475970.282955624,22420246.590956286,-8173651.748818391,180605.086608878,94120.4852548631,1615374.6428119827,5470583.36419232,7359869.293667126,6261903.998312934,null,null,null,null,null,null,null,null,null,null,null,null,null,null,null,null,null,null,null,null,null,null,null,null,null,null,null,null,null,null,null,null,null,null,null,null,null,null,null,null,null,null,null,null,null,null,null,null,null,null,null,null,null,null,null,null],\"type\":\"scatter\",\"xaxis\":\"x4\",\"yaxis\":\"y4\"},{\"legendgroup\":\"y\",\"line\":{\"color\":\"#440154\",\"width\":1},\"mode\":\"lines\",\"name\":\"y\",\"showlegend\":false,\"x\":[\"2023-09-25T00:00:00\",\"2023-09-26T00:00:00\",\"2023-09-27T00:00:00\",\"2023-09-28T00:00:00\",\"2023-09-29T00:00:00\",\"2023-09-30T00:00:00\",\"2023-10-01T00:00:00\",\"2023-10-02T00:00:00\",\"2023-10-03T00:00:00\",\"2023-10-04T00:00:00\",\"2023-10-05T00:00:00\",\"2023-10-06T00:00:00\",\"2023-10-07T00:00:00\",\"2023-10-08T00:00:00\",\"2023-10-09T00:00:00\",\"2023-10-10T00:00:00\",\"2023-10-11T00:00:00\",\"2023-10-12T00:00:00\",\"2023-10-13T00:00:00\",\"2023-10-14T00:00:00\",\"2023-10-15T00:00:00\",\"2023-10-16T00:00:00\",\"2023-10-17T00:00:00\",\"2023-10-18T00:00:00\",\"2023-10-19T00:00:00\",\"2023-10-20T00:00:00\",\"2023-10-21T00:00:00\",\"2023-10-22T00:00:00\",\"2023-10-23T00:00:00\",\"2023-10-24T00:00:00\",\"2023-10-25T00:00:00\",\"2023-10-26T00:00:00\",\"2023-10-27T00:00:00\",\"2023-10-28T00:00:00\",\"2023-10-29T00:00:00\",\"2023-10-30T00:00:00\",\"2023-10-31T00:00:00\",\"2023-11-01T00:00:00\",\"2023-11-02T00:00:00\",\"2023-11-03T00:00:00\",\"2023-11-04T00:00:00\",\"2023-11-05T00:00:00\",\"2023-11-06T00:00:00\",\"2023-11-07T00:00:00\",\"2023-11-08T00:00:00\",\"2023-11-09T00:00:00\",\"2023-11-10T00:00:00\",\"2023-11-11T00:00:00\",\"2023-11-12T00:00:00\",\"2023-11-13T00:00:00\",\"2023-11-14T00:00:00\",\"2023-11-15T00:00:00\",\"2023-11-16T00:00:00\",\"2023-11-17T00:00:00\",\"2023-11-18T00:00:00\",\"2023-11-19T00:00:00\",\"2023-11-20T00:00:00\",\"2023-11-21T00:00:00\",\"2023-11-22T00:00:00\",\"2023-11-23T00:00:00\",\"2023-11-24T00:00:00\",\"2023-11-25T00:00:00\",\"2023-11-26T00:00:00\"],\"y\":[2344050.3333333335,2111703.0,2224382.0,2087096.6666666667,2201931.6666666665,2416663.3333333335,1984618.0,1836225.0,700996.3333333334,823335.0,588957.3333333334,575085.6666666666,700364.6666666666,601688.0,559108.3333333334,617083.3333333334,610879.0,688856.6666666666,2078290.0,1858098.0,1368073.0,1041759.0,872800.0,1156116.6666666667,1258111.6666666667,1136610.3333333333,1400725.0,1399031.0,1359956.6666666667,1139936.6666666667,1317298.3333333333,1178635.0,1618020.3333333333,1631026.3333333333,1769150.3333333333,1769966.6666666667,1715817.3333333333,2990468.3333333335,1916703.0,2036859.3333333333,3535475.3333333335,2401368.0,2216265.6666666665,1443406.0,1545992.6666666667,2154645.6666666665,1554497.3333333333,1388571.3333333333,1385011.6666666667,1257333.0,1553699.6666666667,1368914.0,1331776.6666666667,1428594.6666666667,1667704.3333333333,1569774.0,1677478.3333333333,1538083.0,1391772.6666666667,1297467.3333333333,1418444.0,1623092.0,1654166.6666666667],\"type\":\"scatter\",\"xaxis\":\"x5\",\"yaxis\":\"y5\"},{\"legendgroup\":\"AutoARIMA\",\"line\":{\"color\":\"#21918c\",\"width\":1},\"mode\":\"lines\",\"name\":\"AutoARIMA\",\"showlegend\":false,\"x\":[\"2023-09-25T00:00:00\",\"2023-09-26T00:00:00\",\"2023-09-27T00:00:00\",\"2023-09-28T00:00:00\",\"2023-09-29T00:00:00\",\"2023-09-30T00:00:00\",\"2023-10-01T00:00:00\",\"2023-10-02T00:00:00\",\"2023-10-03T00:00:00\",\"2023-10-04T00:00:00\",\"2023-10-05T00:00:00\",\"2023-10-06T00:00:00\",\"2023-10-07T00:00:00\",\"2023-10-08T00:00:00\",\"2023-10-09T00:00:00\",\"2023-10-10T00:00:00\",\"2023-10-11T00:00:00\",\"2023-10-12T00:00:00\",\"2023-10-13T00:00:00\",\"2023-10-14T00:00:00\",\"2023-10-15T00:00:00\",\"2023-10-16T00:00:00\",\"2023-10-17T00:00:00\",\"2023-10-18T00:00:00\",\"2023-10-19T00:00:00\",\"2023-10-20T00:00:00\",\"2023-10-21T00:00:00\",\"2023-10-22T00:00:00\",\"2023-10-23T00:00:00\",\"2023-10-24T00:00:00\",\"2023-10-25T00:00:00\",\"2023-10-26T00:00:00\",\"2023-10-27T00:00:00\",\"2023-10-28T00:00:00\",\"2023-10-29T00:00:00\",\"2023-10-30T00:00:00\",\"2023-10-31T00:00:00\",\"2023-11-01T00:00:00\",\"2023-11-02T00:00:00\",\"2023-11-03T00:00:00\",\"2023-11-04T00:00:00\",\"2023-11-05T00:00:00\",\"2023-11-06T00:00:00\",\"2023-11-07T00:00:00\",\"2023-11-08T00:00:00\",\"2023-11-09T00:00:00\",\"2023-11-10T00:00:00\",\"2023-11-11T00:00:00\",\"2023-11-12T00:00:00\",\"2023-11-13T00:00:00\",\"2023-11-14T00:00:00\",\"2023-11-15T00:00:00\",\"2023-11-16T00:00:00\",\"2023-11-17T00:00:00\",\"2023-11-18T00:00:00\",\"2023-11-19T00:00:00\",\"2023-11-20T00:00:00\",\"2023-11-21T00:00:00\",\"2023-11-22T00:00:00\",\"2023-11-23T00:00:00\",\"2023-11-24T00:00:00\",\"2023-11-25T00:00:00\",\"2023-11-26T00:00:00\"],\"y\":[null,null,null,null,null,null,null,null,null,null,null,null,null,null,null,null,null,null,null,null,null,null,null,null,null,null,null,null,null,null,null,null,null,null,null,null,null,null,null,null,null,null,null,null,null,null,null,null,null,null,null,null,null,null,null,null,1567101.0,1628729.625,1643532.125,1630596.0,1806583.125,1963821.25,1799872.0],\"type\":\"scatter\",\"xaxis\":\"x5\",\"yaxis\":\"y5\"},{\"fill\":\"toself\",\"fillcolor\":\"#21918c\",\"legendgroup\":\"AutoARIMA_level_80\",\"line\":{\"color\":\"#21918c\",\"width\":1},\"mode\":\"lines\",\"name\":\"AutoARIMA_level_80\",\"opacity\":0.19999999999999996,\"showlegend\":false,\"x\":[\"2023-09-25T00:00:00.000000000\",\"2023-09-26T00:00:00.000000000\",\"2023-09-27T00:00:00.000000000\",\"2023-09-28T00:00:00.000000000\",\"2023-09-29T00:00:00.000000000\",\"2023-09-30T00:00:00.000000000\",\"2023-10-01T00:00:00.000000000\",\"2023-10-02T00:00:00.000000000\",\"2023-10-03T00:00:00.000000000\",\"2023-10-04T00:00:00.000000000\",\"2023-10-05T00:00:00.000000000\",\"2023-10-06T00:00:00.000000000\",\"2023-10-07T00:00:00.000000000\",\"2023-10-08T00:00:00.000000000\",\"2023-10-09T00:00:00.000000000\",\"2023-10-10T00:00:00.000000000\",\"2023-10-11T00:00:00.000000000\",\"2023-10-12T00:00:00.000000000\",\"2023-10-13T00:00:00.000000000\",\"2023-10-14T00:00:00.000000000\",\"2023-10-15T00:00:00.000000000\",\"2023-10-16T00:00:00.000000000\",\"2023-10-17T00:00:00.000000000\",\"2023-10-18T00:00:00.000000000\",\"2023-10-19T00:00:00.000000000\",\"2023-10-20T00:00:00.000000000\",\"2023-10-21T00:00:00.000000000\",\"2023-10-22T00:00:00.000000000\",\"2023-10-23T00:00:00.000000000\",\"2023-10-24T00:00:00.000000000\",\"2023-10-25T00:00:00.000000000\",\"2023-10-26T00:00:00.000000000\",\"2023-10-27T00:00:00.000000000\",\"2023-10-28T00:00:00.000000000\",\"2023-10-29T00:00:00.000000000\",\"2023-10-30T00:00:00.000000000\",\"2023-10-31T00:00:00.000000000\",\"2023-11-01T00:00:00.000000000\",\"2023-11-02T00:00:00.000000000\",\"2023-11-03T00:00:00.000000000\",\"2023-11-04T00:00:00.000000000\",\"2023-11-05T00:00:00.000000000\",\"2023-11-06T00:00:00.000000000\",\"2023-11-07T00:00:00.000000000\",\"2023-11-08T00:00:00.000000000\",\"2023-11-09T00:00:00.000000000\",\"2023-11-10T00:00:00.000000000\",\"2023-11-11T00:00:00.000000000\",\"2023-11-12T00:00:00.000000000\",\"2023-11-13T00:00:00.000000000\",\"2023-11-14T00:00:00.000000000\",\"2023-11-15T00:00:00.000000000\",\"2023-11-16T00:00:00.000000000\",\"2023-11-17T00:00:00.000000000\",\"2023-11-18T00:00:00.000000000\",\"2023-11-19T00:00:00.000000000\",\"2023-11-20T00:00:00.000000000\",\"2023-11-21T00:00:00.000000000\",\"2023-11-22T00:00:00.000000000\",\"2023-11-23T00:00:00.000000000\",\"2023-11-24T00:00:00.000000000\",\"2023-11-25T00:00:00.000000000\",\"2023-11-26T00:00:00.000000000\",\"2023-11-26T00:00:00.000000000\",\"2023-11-25T00:00:00.000000000\",\"2023-11-24T00:00:00.000000000\",\"2023-11-23T00:00:00.000000000\",\"2023-11-22T00:00:00.000000000\",\"2023-11-21T00:00:00.000000000\",\"2023-11-20T00:00:00.000000000\",\"2023-11-19T00:00:00.000000000\",\"2023-11-18T00:00:00.000000000\",\"2023-11-17T00:00:00.000000000\",\"2023-11-16T00:00:00.000000000\",\"2023-11-15T00:00:00.000000000\",\"2023-11-14T00:00:00.000000000\",\"2023-11-13T00:00:00.000000000\",\"2023-11-12T00:00:00.000000000\",\"2023-11-11T00:00:00.000000000\",\"2023-11-10T00:00:00.000000000\",\"2023-11-09T00:00:00.000000000\",\"2023-11-08T00:00:00.000000000\",\"2023-11-07T00:00:00.000000000\",\"2023-11-06T00:00:00.000000000\",\"2023-11-05T00:00:00.000000000\",\"2023-11-04T00:00:00.000000000\",\"2023-11-03T00:00:00.000000000\",\"2023-11-02T00:00:00.000000000\",\"2023-11-01T00:00:00.000000000\",\"2023-10-31T00:00:00.000000000\",\"2023-10-30T00:00:00.000000000\",\"2023-10-29T00:00:00.000000000\",\"2023-10-28T00:00:00.000000000\",\"2023-10-27T00:00:00.000000000\",\"2023-10-26T00:00:00.000000000\",\"2023-10-25T00:00:00.000000000\",\"2023-10-24T00:00:00.000000000\",\"2023-10-23T00:00:00.000000000\",\"2023-10-22T00:00:00.000000000\",\"2023-10-21T00:00:00.000000000\",\"2023-10-20T00:00:00.000000000\",\"2023-10-19T00:00:00.000000000\",\"2023-10-18T00:00:00.000000000\",\"2023-10-17T00:00:00.000000000\",\"2023-10-16T00:00:00.000000000\",\"2023-10-15T00:00:00.000000000\",\"2023-10-14T00:00:00.000000000\",\"2023-10-13T00:00:00.000000000\",\"2023-10-12T00:00:00.000000000\",\"2023-10-11T00:00:00.000000000\",\"2023-10-10T00:00:00.000000000\",\"2023-10-09T00:00:00.000000000\",\"2023-10-08T00:00:00.000000000\",\"2023-10-07T00:00:00.000000000\",\"2023-10-06T00:00:00.000000000\",\"2023-10-05T00:00:00.000000000\",\"2023-10-04T00:00:00.000000000\",\"2023-10-03T00:00:00.000000000\",\"2023-10-02T00:00:00.000000000\",\"2023-10-01T00:00:00.000000000\",\"2023-09-30T00:00:00.000000000\",\"2023-09-29T00:00:00.000000000\",\"2023-09-28T00:00:00.000000000\",\"2023-09-27T00:00:00.000000000\",\"2023-09-26T00:00:00.000000000\",\"2023-09-25T00:00:00.000000000\"],\"y\":[null,null,null,null,null,null,null,null,null,null,null,null,null,null,null,null,null,null,null,null,null,null,null,null,null,null,null,null,null,null,null,null,null,null,null,null,null,null,null,null,null,null,null,null,null,null,null,null,null,null,null,null,null,null,null,null,2085655.625,2105486.5,2132817.25,2039908.5,2223254.75,2309778.0,2086774.125,1512969.75,1617864.625,1389911.5,1221283.5,1154246.75,1151972.75,1048546.3125,null,null,null,null,null,null,null,null,null,null,null,null,null,null,null,null,null,null,null,null,null,null,null,null,null,null,null,null,null,null,null,null,null,null,null,null,null,null,null,null,null,null,null,null,null,null,null,null,null,null,null,null,null,null,null,null],\"type\":\"scatter\",\"xaxis\":\"x5\",\"yaxis\":\"y5\"},{\"legendgroup\":\"LGBMRegressor\",\"line\":{\"color\":\"#fde725\",\"width\":1},\"mode\":\"lines\",\"name\":\"LGBMRegressor\",\"showlegend\":false,\"x\":[\"2023-09-25T00:00:00\",\"2023-09-26T00:00:00\",\"2023-09-27T00:00:00\",\"2023-09-28T00:00:00\",\"2023-09-29T00:00:00\",\"2023-09-30T00:00:00\",\"2023-10-01T00:00:00\",\"2023-10-02T00:00:00\",\"2023-10-03T00:00:00\",\"2023-10-04T00:00:00\",\"2023-10-05T00:00:00\",\"2023-10-06T00:00:00\",\"2023-10-07T00:00:00\",\"2023-10-08T00:00:00\",\"2023-10-09T00:00:00\",\"2023-10-10T00:00:00\",\"2023-10-11T00:00:00\",\"2023-10-12T00:00:00\",\"2023-10-13T00:00:00\",\"2023-10-14T00:00:00\",\"2023-10-15T00:00:00\",\"2023-10-16T00:00:00\",\"2023-10-17T00:00:00\",\"2023-10-18T00:00:00\",\"2023-10-19T00:00:00\",\"2023-10-20T00:00:00\",\"2023-10-21T00:00:00\",\"2023-10-22T00:00:00\",\"2023-10-23T00:00:00\",\"2023-10-24T00:00:00\",\"2023-10-25T00:00:00\",\"2023-10-26T00:00:00\",\"2023-10-27T00:00:00\",\"2023-10-28T00:00:00\",\"2023-10-29T00:00:00\",\"2023-10-30T00:00:00\",\"2023-10-31T00:00:00\",\"2023-11-01T00:00:00\",\"2023-11-02T00:00:00\",\"2023-11-03T00:00:00\",\"2023-11-04T00:00:00\",\"2023-11-05T00:00:00\",\"2023-11-06T00:00:00\",\"2023-11-07T00:00:00\",\"2023-11-08T00:00:00\",\"2023-11-09T00:00:00\",\"2023-11-10T00:00:00\",\"2023-11-11T00:00:00\",\"2023-11-12T00:00:00\",\"2023-11-13T00:00:00\",\"2023-11-14T00:00:00\",\"2023-11-15T00:00:00\",\"2023-11-16T00:00:00\",\"2023-11-17T00:00:00\",\"2023-11-18T00:00:00\",\"2023-11-19T00:00:00\",\"2023-11-20T00:00:00\",\"2023-11-21T00:00:00\",\"2023-11-22T00:00:00\",\"2023-11-23T00:00:00\",\"2023-11-24T00:00:00\",\"2023-11-25T00:00:00\",\"2023-11-26T00:00:00\"],\"y\":[null,null,null,null,null,null,null,null,null,null,null,null,null,null,null,null,null,null,null,null,null,null,null,null,null,null,null,null,null,null,null,null,null,null,null,null,null,null,null,null,null,null,null,null,null,null,null,null,null,null,null,null,null,null,null,null,1538031.1864157992,1253755.9048628537,1328466.5403109451,1926901.481730288,1448114.305303094,1516238.9938690364,1405610.3925021444],\"type\":\"scatter\",\"xaxis\":\"x5\",\"yaxis\":\"y5\"},{\"fill\":\"toself\",\"fillcolor\":\"#fde725\",\"legendgroup\":\"LGBMRegressor_level_80\",\"line\":{\"color\":\"#fde725\",\"width\":1},\"mode\":\"lines\",\"name\":\"LGBMRegressor_level_80\",\"opacity\":0.19999999999999996,\"showlegend\":false,\"x\":[\"2023-09-25T00:00:00.000000000\",\"2023-09-26T00:00:00.000000000\",\"2023-09-27T00:00:00.000000000\",\"2023-09-28T00:00:00.000000000\",\"2023-09-29T00:00:00.000000000\",\"2023-09-30T00:00:00.000000000\",\"2023-10-01T00:00:00.000000000\",\"2023-10-02T00:00:00.000000000\",\"2023-10-03T00:00:00.000000000\",\"2023-10-04T00:00:00.000000000\",\"2023-10-05T00:00:00.000000000\",\"2023-10-06T00:00:00.000000000\",\"2023-10-07T00:00:00.000000000\",\"2023-10-08T00:00:00.000000000\",\"2023-10-09T00:00:00.000000000\",\"2023-10-10T00:00:00.000000000\",\"2023-10-11T00:00:00.000000000\",\"2023-10-12T00:00:00.000000000\",\"2023-10-13T00:00:00.000000000\",\"2023-10-14T00:00:00.000000000\",\"2023-10-15T00:00:00.000000000\",\"2023-10-16T00:00:00.000000000\",\"2023-10-17T00:00:00.000000000\",\"2023-10-18T00:00:00.000000000\",\"2023-10-19T00:00:00.000000000\",\"2023-10-20T00:00:00.000000000\",\"2023-10-21T00:00:00.000000000\",\"2023-10-22T00:00:00.000000000\",\"2023-10-23T00:00:00.000000000\",\"2023-10-24T00:00:00.000000000\",\"2023-10-25T00:00:00.000000000\",\"2023-10-26T00:00:00.000000000\",\"2023-10-27T00:00:00.000000000\",\"2023-10-28T00:00:00.000000000\",\"2023-10-29T00:00:00.000000000\",\"2023-10-30T00:00:00.000000000\",\"2023-10-31T00:00:00.000000000\",\"2023-11-01T00:00:00.000000000\",\"2023-11-02T00:00:00.000000000\",\"2023-11-03T00:00:00.000000000\",\"2023-11-04T00:00:00.000000000\",\"2023-11-05T00:00:00.000000000\",\"2023-11-06T00:00:00.000000000\",\"2023-11-07T00:00:00.000000000\",\"2023-11-08T00:00:00.000000000\",\"2023-11-09T00:00:00.000000000\",\"2023-11-10T00:00:00.000000000\",\"2023-11-11T00:00:00.000000000\",\"2023-11-12T00:00:00.000000000\",\"2023-11-13T00:00:00.000000000\",\"2023-11-14T00:00:00.000000000\",\"2023-11-15T00:00:00.000000000\",\"2023-11-16T00:00:00.000000000\",\"2023-11-17T00:00:00.000000000\",\"2023-11-18T00:00:00.000000000\",\"2023-11-19T00:00:00.000000000\",\"2023-11-20T00:00:00.000000000\",\"2023-11-21T00:00:00.000000000\",\"2023-11-22T00:00:00.000000000\",\"2023-11-23T00:00:00.000000000\",\"2023-11-24T00:00:00.000000000\",\"2023-11-25T00:00:00.000000000\",\"2023-11-26T00:00:00.000000000\",\"2023-11-26T00:00:00.000000000\",\"2023-11-25T00:00:00.000000000\",\"2023-11-24T00:00:00.000000000\",\"2023-11-23T00:00:00.000000000\",\"2023-11-22T00:00:00.000000000\",\"2023-11-21T00:00:00.000000000\",\"2023-11-20T00:00:00.000000000\",\"2023-11-19T00:00:00.000000000\",\"2023-11-18T00:00:00.000000000\",\"2023-11-17T00:00:00.000000000\",\"2023-11-16T00:00:00.000000000\",\"2023-11-15T00:00:00.000000000\",\"2023-11-14T00:00:00.000000000\",\"2023-11-13T00:00:00.000000000\",\"2023-11-12T00:00:00.000000000\",\"2023-11-11T00:00:00.000000000\",\"2023-11-10T00:00:00.000000000\",\"2023-11-09T00:00:00.000000000\",\"2023-11-08T00:00:00.000000000\",\"2023-11-07T00:00:00.000000000\",\"2023-11-06T00:00:00.000000000\",\"2023-11-05T00:00:00.000000000\",\"2023-11-04T00:00:00.000000000\",\"2023-11-03T00:00:00.000000000\",\"2023-11-02T00:00:00.000000000\",\"2023-11-01T00:00:00.000000000\",\"2023-10-31T00:00:00.000000000\",\"2023-10-30T00:00:00.000000000\",\"2023-10-29T00:00:00.000000000\",\"2023-10-28T00:00:00.000000000\",\"2023-10-27T00:00:00.000000000\",\"2023-10-26T00:00:00.000000000\",\"2023-10-25T00:00:00.000000000\",\"2023-10-24T00:00:00.000000000\",\"2023-10-23T00:00:00.000000000\",\"2023-10-22T00:00:00.000000000\",\"2023-10-21T00:00:00.000000000\",\"2023-10-20T00:00:00.000000000\",\"2023-10-19T00:00:00.000000000\",\"2023-10-18T00:00:00.000000000\",\"2023-10-17T00:00:00.000000000\",\"2023-10-16T00:00:00.000000000\",\"2023-10-15T00:00:00.000000000\",\"2023-10-14T00:00:00.000000000\",\"2023-10-13T00:00:00.000000000\",\"2023-10-12T00:00:00.000000000\",\"2023-10-11T00:00:00.000000000\",\"2023-10-10T00:00:00.000000000\",\"2023-10-09T00:00:00.000000000\",\"2023-10-08T00:00:00.000000000\",\"2023-10-07T00:00:00.000000000\",\"2023-10-06T00:00:00.000000000\",\"2023-10-05T00:00:00.000000000\",\"2023-10-04T00:00:00.000000000\",\"2023-10-03T00:00:00.000000000\",\"2023-10-02T00:00:00.000000000\",\"2023-10-01T00:00:00.000000000\",\"2023-09-30T00:00:00.000000000\",\"2023-09-29T00:00:00.000000000\",\"2023-09-28T00:00:00.000000000\",\"2023-09-27T00:00:00.000000000\",\"2023-09-26T00:00:00.000000000\",\"2023-09-25T00:00:00.000000000\"],\"y\":[null,null,null,null,null,null,null,null,null,null,null,null,null,null,null,null,null,null,null,null,null,null,null,null,null,null,null,null,null,null,null,null,null,null,null,null,null,null,null,null,null,null,null,null,null,null,null,null,null,null,null,null,null,null,null,null,1961262.816489437,1528830.4845998525,2313852.0199320344,2402369.5093665454,2371286.6092030955,2538096.9229643852,2476044.380179945,335176.40482434374,494381.06477368734,524942.0014030922,1451433.4540940302,343081.0606898557,978681.3251258547,1114799.5563421613,null,null,null,null,null,null,null,null,null,null,null,null,null,null,null,null,null,null,null,null,null,null,null,null,null,null,null,null,null,null,null,null,null,null,null,null,null,null,null,null,null,null,null,null,null,null,null,null,null,null,null,null,null,null,null,null],\"type\":\"scatter\",\"xaxis\":\"x5\",\"yaxis\":\"y5\"},{\"legendgroup\":\"y\",\"line\":{\"color\":\"#440154\",\"width\":1},\"mode\":\"lines\",\"name\":\"y\",\"showlegend\":false,\"x\":[\"2023-09-25T00:00:00\",\"2023-09-26T00:00:00\",\"2023-09-27T00:00:00\",\"2023-09-28T00:00:00\",\"2023-09-29T00:00:00\",\"2023-09-30T00:00:00\",\"2023-10-01T00:00:00\",\"2023-10-02T00:00:00\",\"2023-10-03T00:00:00\",\"2023-10-04T00:00:00\",\"2023-10-05T00:00:00\",\"2023-10-06T00:00:00\",\"2023-10-07T00:00:00\",\"2023-10-08T00:00:00\",\"2023-10-09T00:00:00\",\"2023-10-10T00:00:00\",\"2023-10-11T00:00:00\",\"2023-10-12T00:00:00\",\"2023-10-13T00:00:00\",\"2023-10-14T00:00:00\",\"2023-10-15T00:00:00\",\"2023-10-16T00:00:00\",\"2023-10-17T00:00:00\",\"2023-10-18T00:00:00\",\"2023-10-19T00:00:00\",\"2023-10-20T00:00:00\",\"2023-10-21T00:00:00\",\"2023-10-22T00:00:00\",\"2023-10-23T00:00:00\",\"2023-10-24T00:00:00\",\"2023-10-25T00:00:00\",\"2023-10-26T00:00:00\",\"2023-10-27T00:00:00\",\"2023-10-28T00:00:00\",\"2023-10-29T00:00:00\",\"2023-10-30T00:00:00\",\"2023-10-31T00:00:00\",\"2023-11-01T00:00:00\",\"2023-11-02T00:00:00\",\"2023-11-03T00:00:00\",\"2023-11-04T00:00:00\",\"2023-11-05T00:00:00\",\"2023-11-06T00:00:00\",\"2023-11-07T00:00:00\",\"2023-11-08T00:00:00\",\"2023-11-09T00:00:00\",\"2023-11-10T00:00:00\",\"2023-11-11T00:00:00\",\"2023-11-12T00:00:00\",\"2023-11-13T00:00:00\",\"2023-11-14T00:00:00\",\"2023-11-15T00:00:00\",\"2023-11-16T00:00:00\",\"2023-11-17T00:00:00\",\"2023-11-18T00:00:00\",\"2023-11-19T00:00:00\",\"2023-11-20T00:00:00\",\"2023-11-21T00:00:00\",\"2023-11-22T00:00:00\",\"2023-11-23T00:00:00\",\"2023-11-24T00:00:00\",\"2023-11-25T00:00:00\",\"2023-11-26T00:00:00\"],\"y\":[5834048.0,6145833.333333333,9598894.666666666,7466561.333333333,9108197.333333334,8213197.333333333,11552789.333333334,8967746.666666666,10130697.333333334,9350122.666666666,12849096.0,40027242.666666664,6931864.0,8094209.666666667,6068986.666666667,7546622.666666667,6338286.0,8112425.333333333,7936197.333333333,7869500.0,7326697.333333333,6634500.0,6624894.666666667,5846030.666666667,5312369.666666667,5820120.333333333,4419228.0,7321364.0,4933728.0,7685333.333333333,7976061.333333333,7299000.0,8964197.333333334,5498166.666666667,6462666.666666667,6513666.666666667,7933833.333333333,10567833.333333334,9384228.0,8513728.0,7599166.666666667,7482833.333333333,7065333.333333333,8065394.666666667,10606548.0,6621030.666666667,7596697.333333333,7466864.0,8726425.333333334,8677585.333333334,6333622.666666667,5712092.0,6593864.0,5691061.333333333,6362697.333333333,5878666.666666667,6289000.0,7339894.0,5564697.333333333,6556561.333333333,8445723.333333334,7710456.0,7696364.0],\"type\":\"scatter\",\"xaxis\":\"x6\",\"yaxis\":\"y6\"},{\"legendgroup\":\"AutoARIMA\",\"line\":{\"color\":\"#21918c\",\"width\":1},\"mode\":\"lines\",\"name\":\"AutoARIMA\",\"showlegend\":false,\"x\":[\"2023-09-25T00:00:00\",\"2023-09-26T00:00:00\",\"2023-09-27T00:00:00\",\"2023-09-28T00:00:00\",\"2023-09-29T00:00:00\",\"2023-09-30T00:00:00\",\"2023-10-01T00:00:00\",\"2023-10-02T00:00:00\",\"2023-10-03T00:00:00\",\"2023-10-04T00:00:00\",\"2023-10-05T00:00:00\",\"2023-10-06T00:00:00\",\"2023-10-07T00:00:00\",\"2023-10-08T00:00:00\",\"2023-10-09T00:00:00\",\"2023-10-10T00:00:00\",\"2023-10-11T00:00:00\",\"2023-10-12T00:00:00\",\"2023-10-13T00:00:00\",\"2023-10-14T00:00:00\",\"2023-10-15T00:00:00\",\"2023-10-16T00:00:00\",\"2023-10-17T00:00:00\",\"2023-10-18T00:00:00\",\"2023-10-19T00:00:00\",\"2023-10-20T00:00:00\",\"2023-10-21T00:00:00\",\"2023-10-22T00:00:00\",\"2023-10-23T00:00:00\",\"2023-10-24T00:00:00\",\"2023-10-25T00:00:00\",\"2023-10-26T00:00:00\",\"2023-10-27T00:00:00\",\"2023-10-28T00:00:00\",\"2023-10-29T00:00:00\",\"2023-10-30T00:00:00\",\"2023-10-31T00:00:00\",\"2023-11-01T00:00:00\",\"2023-11-02T00:00:00\",\"2023-11-03T00:00:00\",\"2023-11-04T00:00:00\",\"2023-11-05T00:00:00\",\"2023-11-06T00:00:00\",\"2023-11-07T00:00:00\",\"2023-11-08T00:00:00\",\"2023-11-09T00:00:00\",\"2023-11-10T00:00:00\",\"2023-11-11T00:00:00\",\"2023-11-12T00:00:00\",\"2023-11-13T00:00:00\",\"2023-11-14T00:00:00\",\"2023-11-15T00:00:00\",\"2023-11-16T00:00:00\",\"2023-11-17T00:00:00\",\"2023-11-18T00:00:00\",\"2023-11-19T00:00:00\",\"2023-11-20T00:00:00\",\"2023-11-21T00:00:00\",\"2023-11-22T00:00:00\",\"2023-11-23T00:00:00\",\"2023-11-24T00:00:00\",\"2023-11-25T00:00:00\",\"2023-11-26T00:00:00\"],\"y\":[null,null,null,null,null,null,null,null,null,null,null,null,null,null,null,null,null,null,null,null,null,null,null,null,null,null,null,null,null,null,null,null,null,null,null,null,null,null,null,null,null,null,null,null,null,null,null,null,null,null,null,null,null,null,null,null,16814718.0,19626672.0,7315692.5,10439059.0,19024402.0,28574774.0,25867370.0],\"type\":\"scatter\",\"xaxis\":\"x6\",\"yaxis\":\"y6\"},{\"fill\":\"toself\",\"fillcolor\":\"#21918c\",\"legendgroup\":\"AutoARIMA_level_80\",\"line\":{\"color\":\"#21918c\",\"width\":1},\"mode\":\"lines\",\"name\":\"AutoARIMA_level_80\",\"opacity\":0.19999999999999996,\"showlegend\":false,\"x\":[\"2023-09-25T00:00:00.000000000\",\"2023-09-26T00:00:00.000000000\",\"2023-09-27T00:00:00.000000000\",\"2023-09-28T00:00:00.000000000\",\"2023-09-29T00:00:00.000000000\",\"2023-09-30T00:00:00.000000000\",\"2023-10-01T00:00:00.000000000\",\"2023-10-02T00:00:00.000000000\",\"2023-10-03T00:00:00.000000000\",\"2023-10-04T00:00:00.000000000\",\"2023-10-05T00:00:00.000000000\",\"2023-10-06T00:00:00.000000000\",\"2023-10-07T00:00:00.000000000\",\"2023-10-08T00:00:00.000000000\",\"2023-10-09T00:00:00.000000000\",\"2023-10-10T00:00:00.000000000\",\"2023-10-11T00:00:00.000000000\",\"2023-10-12T00:00:00.000000000\",\"2023-10-13T00:00:00.000000000\",\"2023-10-14T00:00:00.000000000\",\"2023-10-15T00:00:00.000000000\",\"2023-10-16T00:00:00.000000000\",\"2023-10-17T00:00:00.000000000\",\"2023-10-18T00:00:00.000000000\",\"2023-10-19T00:00:00.000000000\",\"2023-10-20T00:00:00.000000000\",\"2023-10-21T00:00:00.000000000\",\"2023-10-22T00:00:00.000000000\",\"2023-10-23T00:00:00.000000000\",\"2023-10-24T00:00:00.000000000\",\"2023-10-25T00:00:00.000000000\",\"2023-10-26T00:00:00.000000000\",\"2023-10-27T00:00:00.000000000\",\"2023-10-28T00:00:00.000000000\",\"2023-10-29T00:00:00.000000000\",\"2023-10-30T00:00:00.000000000\",\"2023-10-31T00:00:00.000000000\",\"2023-11-01T00:00:00.000000000\",\"2023-11-02T00:00:00.000000000\",\"2023-11-03T00:00:00.000000000\",\"2023-11-04T00:00:00.000000000\",\"2023-11-05T00:00:00.000000000\",\"2023-11-06T00:00:00.000000000\",\"2023-11-07T00:00:00.000000000\",\"2023-11-08T00:00:00.000000000\",\"2023-11-09T00:00:00.000000000\",\"2023-11-10T00:00:00.000000000\",\"2023-11-11T00:00:00.000000000\",\"2023-11-12T00:00:00.000000000\",\"2023-11-13T00:00:00.000000000\",\"2023-11-14T00:00:00.000000000\",\"2023-11-15T00:00:00.000000000\",\"2023-11-16T00:00:00.000000000\",\"2023-11-17T00:00:00.000000000\",\"2023-11-18T00:00:00.000000000\",\"2023-11-19T00:00:00.000000000\",\"2023-11-20T00:00:00.000000000\",\"2023-11-21T00:00:00.000000000\",\"2023-11-22T00:00:00.000000000\",\"2023-11-23T00:00:00.000000000\",\"2023-11-24T00:00:00.000000000\",\"2023-11-25T00:00:00.000000000\",\"2023-11-26T00:00:00.000000000\",\"2023-11-26T00:00:00.000000000\",\"2023-11-25T00:00:00.000000000\",\"2023-11-24T00:00:00.000000000\",\"2023-11-23T00:00:00.000000000\",\"2023-11-22T00:00:00.000000000\",\"2023-11-21T00:00:00.000000000\",\"2023-11-20T00:00:00.000000000\",\"2023-11-19T00:00:00.000000000\",\"2023-11-18T00:00:00.000000000\",\"2023-11-17T00:00:00.000000000\",\"2023-11-16T00:00:00.000000000\",\"2023-11-15T00:00:00.000000000\",\"2023-11-14T00:00:00.000000000\",\"2023-11-13T00:00:00.000000000\",\"2023-11-12T00:00:00.000000000\",\"2023-11-11T00:00:00.000000000\",\"2023-11-10T00:00:00.000000000\",\"2023-11-09T00:00:00.000000000\",\"2023-11-08T00:00:00.000000000\",\"2023-11-07T00:00:00.000000000\",\"2023-11-06T00:00:00.000000000\",\"2023-11-05T00:00:00.000000000\",\"2023-11-04T00:00:00.000000000\",\"2023-11-03T00:00:00.000000000\",\"2023-11-02T00:00:00.000000000\",\"2023-11-01T00:00:00.000000000\",\"2023-10-31T00:00:00.000000000\",\"2023-10-30T00:00:00.000000000\",\"2023-10-29T00:00:00.000000000\",\"2023-10-28T00:00:00.000000000\",\"2023-10-27T00:00:00.000000000\",\"2023-10-26T00:00:00.000000000\",\"2023-10-25T00:00:00.000000000\",\"2023-10-24T00:00:00.000000000\",\"2023-10-23T00:00:00.000000000\",\"2023-10-22T00:00:00.000000000\",\"2023-10-21T00:00:00.000000000\",\"2023-10-20T00:00:00.000000000\",\"2023-10-19T00:00:00.000000000\",\"2023-10-18T00:00:00.000000000\",\"2023-10-17T00:00:00.000000000\",\"2023-10-16T00:00:00.000000000\",\"2023-10-15T00:00:00.000000000\",\"2023-10-14T00:00:00.000000000\",\"2023-10-13T00:00:00.000000000\",\"2023-10-12T00:00:00.000000000\",\"2023-10-11T00:00:00.000000000\",\"2023-10-10T00:00:00.000000000\",\"2023-10-09T00:00:00.000000000\",\"2023-10-08T00:00:00.000000000\",\"2023-10-07T00:00:00.000000000\",\"2023-10-06T00:00:00.000000000\",\"2023-10-05T00:00:00.000000000\",\"2023-10-04T00:00:00.000000000\",\"2023-10-03T00:00:00.000000000\",\"2023-10-02T00:00:00.000000000\",\"2023-10-01T00:00:00.000000000\",\"2023-09-30T00:00:00.000000000\",\"2023-09-29T00:00:00.000000000\",\"2023-09-28T00:00:00.000000000\",\"2023-09-27T00:00:00.000000000\",\"2023-09-26T00:00:00.000000000\",\"2023-09-25T00:00:00.000000000\"],\"y\":[null,null,null,null,null,null,null,null,null,null,null,null,null,null,null,null,null,null,null,null,null,null,null,null,null,null,null,null,null,null,null,null,null,null,null,null,null,null,null,null,null,null,null,null,null,null,null,null,null,null,null,null,null,null,null,null,18070044.0,21394724.0,11575679.0,11743650.0,21036206.0,29835504.0,26846738.0,24888002.0,27314042.0,17012600.0,9134468.0,3055705.25,17858618.0,15559391.0,null,null,null,null,null,null,null,null,null,null,null,null,null,null,null,null,null,null,null,null,null,null,null,null,null,null,null,null,null,null,null,null,null,null,null,null,null,null,null,null,null,null,null,null,null,null,null,null,null,null,null,null,null,null,null,null],\"type\":\"scatter\",\"xaxis\":\"x6\",\"yaxis\":\"y6\"},{\"legendgroup\":\"LGBMRegressor\",\"line\":{\"color\":\"#fde725\",\"width\":1},\"mode\":\"lines\",\"name\":\"LGBMRegressor\",\"showlegend\":false,\"x\":[\"2023-09-25T00:00:00\",\"2023-09-26T00:00:00\",\"2023-09-27T00:00:00\",\"2023-09-28T00:00:00\",\"2023-09-29T00:00:00\",\"2023-09-30T00:00:00\",\"2023-10-01T00:00:00\",\"2023-10-02T00:00:00\",\"2023-10-03T00:00:00\",\"2023-10-04T00:00:00\",\"2023-10-05T00:00:00\",\"2023-10-06T00:00:00\",\"2023-10-07T00:00:00\",\"2023-10-08T00:00:00\",\"2023-10-09T00:00:00\",\"2023-10-10T00:00:00\",\"2023-10-11T00:00:00\",\"2023-10-12T00:00:00\",\"2023-10-13T00:00:00\",\"2023-10-14T00:00:00\",\"2023-10-15T00:00:00\",\"2023-10-16T00:00:00\",\"2023-10-17T00:00:00\",\"2023-10-18T00:00:00\",\"2023-10-19T00:00:00\",\"2023-10-20T00:00:00\",\"2023-10-21T00:00:00\",\"2023-10-22T00:00:00\",\"2023-10-23T00:00:00\",\"2023-10-24T00:00:00\",\"2023-10-25T00:00:00\",\"2023-10-26T00:00:00\",\"2023-10-27T00:00:00\",\"2023-10-28T00:00:00\",\"2023-10-29T00:00:00\",\"2023-10-30T00:00:00\",\"2023-10-31T00:00:00\",\"2023-11-01T00:00:00\",\"2023-11-02T00:00:00\",\"2023-11-03T00:00:00\",\"2023-11-04T00:00:00\",\"2023-11-05T00:00:00\",\"2023-11-06T00:00:00\",\"2023-11-07T00:00:00\",\"2023-11-08T00:00:00\",\"2023-11-09T00:00:00\",\"2023-11-10T00:00:00\",\"2023-11-11T00:00:00\",\"2023-11-12T00:00:00\",\"2023-11-13T00:00:00\",\"2023-11-14T00:00:00\",\"2023-11-15T00:00:00\",\"2023-11-16T00:00:00\",\"2023-11-17T00:00:00\",\"2023-11-18T00:00:00\",\"2023-11-19T00:00:00\",\"2023-11-20T00:00:00\",\"2023-11-21T00:00:00\",\"2023-11-22T00:00:00\",\"2023-11-23T00:00:00\",\"2023-11-24T00:00:00\",\"2023-11-25T00:00:00\",\"2023-11-26T00:00:00\"],\"y\":[null,null,null,null,null,null,null,null,null,null,null,null,null,null,null,null,null,null,null,null,null,null,null,null,null,null,null,null,null,null,null,null,null,null,null,null,null,null,null,null,null,null,null,null,null,null,null,null,null,null,null,null,null,null,null,null,6524569.061990535,6630198.291327489,6747311.817754415,6327154.071938743,7247406.713168712,6587568.615429354,6985262.261170372],\"type\":\"scatter\",\"xaxis\":\"x6\",\"yaxis\":\"y6\"},{\"fill\":\"toself\",\"fillcolor\":\"#fde725\",\"legendgroup\":\"LGBMRegressor_level_80\",\"line\":{\"color\":\"#fde725\",\"width\":1},\"mode\":\"lines\",\"name\":\"LGBMRegressor_level_80\",\"opacity\":0.19999999999999996,\"showlegend\":false,\"x\":[\"2023-09-25T00:00:00.000000000\",\"2023-09-26T00:00:00.000000000\",\"2023-09-27T00:00:00.000000000\",\"2023-09-28T00:00:00.000000000\",\"2023-09-29T00:00:00.000000000\",\"2023-09-30T00:00:00.000000000\",\"2023-10-01T00:00:00.000000000\",\"2023-10-02T00:00:00.000000000\",\"2023-10-03T00:00:00.000000000\",\"2023-10-04T00:00:00.000000000\",\"2023-10-05T00:00:00.000000000\",\"2023-10-06T00:00:00.000000000\",\"2023-10-07T00:00:00.000000000\",\"2023-10-08T00:00:00.000000000\",\"2023-10-09T00:00:00.000000000\",\"2023-10-10T00:00:00.000000000\",\"2023-10-11T00:00:00.000000000\",\"2023-10-12T00:00:00.000000000\",\"2023-10-13T00:00:00.000000000\",\"2023-10-14T00:00:00.000000000\",\"2023-10-15T00:00:00.000000000\",\"2023-10-16T00:00:00.000000000\",\"2023-10-17T00:00:00.000000000\",\"2023-10-18T00:00:00.000000000\",\"2023-10-19T00:00:00.000000000\",\"2023-10-20T00:00:00.000000000\",\"2023-10-21T00:00:00.000000000\",\"2023-10-22T00:00:00.000000000\",\"2023-10-23T00:00:00.000000000\",\"2023-10-24T00:00:00.000000000\",\"2023-10-25T00:00:00.000000000\",\"2023-10-26T00:00:00.000000000\",\"2023-10-27T00:00:00.000000000\",\"2023-10-28T00:00:00.000000000\",\"2023-10-29T00:00:00.000000000\",\"2023-10-30T00:00:00.000000000\",\"2023-10-31T00:00:00.000000000\",\"2023-11-01T00:00:00.000000000\",\"2023-11-02T00:00:00.000000000\",\"2023-11-03T00:00:00.000000000\",\"2023-11-04T00:00:00.000000000\",\"2023-11-05T00:00:00.000000000\",\"2023-11-06T00:00:00.000000000\",\"2023-11-07T00:00:00.000000000\",\"2023-11-08T00:00:00.000000000\",\"2023-11-09T00:00:00.000000000\",\"2023-11-10T00:00:00.000000000\",\"2023-11-11T00:00:00.000000000\",\"2023-11-12T00:00:00.000000000\",\"2023-11-13T00:00:00.000000000\",\"2023-11-14T00:00:00.000000000\",\"2023-11-15T00:00:00.000000000\",\"2023-11-16T00:00:00.000000000\",\"2023-11-17T00:00:00.000000000\",\"2023-11-18T00:00:00.000000000\",\"2023-11-19T00:00:00.000000000\",\"2023-11-20T00:00:00.000000000\",\"2023-11-21T00:00:00.000000000\",\"2023-11-22T00:00:00.000000000\",\"2023-11-23T00:00:00.000000000\",\"2023-11-24T00:00:00.000000000\",\"2023-11-25T00:00:00.000000000\",\"2023-11-26T00:00:00.000000000\",\"2023-11-26T00:00:00.000000000\",\"2023-11-25T00:00:00.000000000\",\"2023-11-24T00:00:00.000000000\",\"2023-11-23T00:00:00.000000000\",\"2023-11-22T00:00:00.000000000\",\"2023-11-21T00:00:00.000000000\",\"2023-11-20T00:00:00.000000000\",\"2023-11-19T00:00:00.000000000\",\"2023-11-18T00:00:00.000000000\",\"2023-11-17T00:00:00.000000000\",\"2023-11-16T00:00:00.000000000\",\"2023-11-15T00:00:00.000000000\",\"2023-11-14T00:00:00.000000000\",\"2023-11-13T00:00:00.000000000\",\"2023-11-12T00:00:00.000000000\",\"2023-11-11T00:00:00.000000000\",\"2023-11-10T00:00:00.000000000\",\"2023-11-09T00:00:00.000000000\",\"2023-11-08T00:00:00.000000000\",\"2023-11-07T00:00:00.000000000\",\"2023-11-06T00:00:00.000000000\",\"2023-11-05T00:00:00.000000000\",\"2023-11-04T00:00:00.000000000\",\"2023-11-03T00:00:00.000000000\",\"2023-11-02T00:00:00.000000000\",\"2023-11-01T00:00:00.000000000\",\"2023-10-31T00:00:00.000000000\",\"2023-10-30T00:00:00.000000000\",\"2023-10-29T00:00:00.000000000\",\"2023-10-28T00:00:00.000000000\",\"2023-10-27T00:00:00.000000000\",\"2023-10-26T00:00:00.000000000\",\"2023-10-25T00:00:00.000000000\",\"2023-10-24T00:00:00.000000000\",\"2023-10-23T00:00:00.000000000\",\"2023-10-22T00:00:00.000000000\",\"2023-10-21T00:00:00.000000000\",\"2023-10-20T00:00:00.000000000\",\"2023-10-19T00:00:00.000000000\",\"2023-10-18T00:00:00.000000000\",\"2023-10-17T00:00:00.000000000\",\"2023-10-16T00:00:00.000000000\",\"2023-10-15T00:00:00.000000000\",\"2023-10-14T00:00:00.000000000\",\"2023-10-13T00:00:00.000000000\",\"2023-10-12T00:00:00.000000000\",\"2023-10-11T00:00:00.000000000\",\"2023-10-10T00:00:00.000000000\",\"2023-10-09T00:00:00.000000000\",\"2023-10-08T00:00:00.000000000\",\"2023-10-07T00:00:00.000000000\",\"2023-10-06T00:00:00.000000000\",\"2023-10-05T00:00:00.000000000\",\"2023-10-04T00:00:00.000000000\",\"2023-10-03T00:00:00.000000000\",\"2023-10-02T00:00:00.000000000\",\"2023-10-01T00:00:00.000000000\",\"2023-09-30T00:00:00.000000000\",\"2023-09-29T00:00:00.000000000\",\"2023-09-28T00:00:00.000000000\",\"2023-09-27T00:00:00.000000000\",\"2023-09-26T00:00:00.000000000\",\"2023-09-25T00:00:00.000000000\"],\"y\":[null,null,null,null,null,null,null,null,null,null,null,null,null,null,null,null,null,null,null,null,null,null,null,null,null,null,null,null,null,null,null,null,null,null,null,null,null,null,null,null,null,null,null,null,null,null,null,null,null,null,null,null,null,null,null,null,8584955.65527366,9678731.220232531,10384634.021274403,8635852.83265293,9262917.02888149,9638813.95294841,14188751.766237529,-218227.24389678592,3536323.277910298,5231896.397455933,4018455.3112245537,3109989.6142344275,3581665.362422446,4464182.46870741,null,null,null,null,null,null,null,null,null,null,null,null,null,null,null,null,null,null,null,null,null,null,null,null,null,null,null,null,null,null,null,null,null,null,null,null,null,null,null,null,null,null,null,null,null,null,null,null,null,null,null,null,null,null,null,null],\"type\":\"scatter\",\"xaxis\":\"x6\",\"yaxis\":\"y6\"},{\"legendgroup\":\"y\",\"line\":{\"color\":\"#440154\",\"width\":1},\"mode\":\"lines\",\"name\":\"y\",\"showlegend\":false,\"x\":[\"2023-09-25T00:00:00\",\"2023-09-26T00:00:00\",\"2023-09-27T00:00:00\",\"2023-09-28T00:00:00\",\"2023-09-29T00:00:00\",\"2023-09-30T00:00:00\",\"2023-10-01T00:00:00\",\"2023-10-02T00:00:00\",\"2023-10-03T00:00:00\",\"2023-10-04T00:00:00\",\"2023-10-05T00:00:00\",\"2023-10-06T00:00:00\",\"2023-10-07T00:00:00\",\"2023-10-08T00:00:00\",\"2023-10-09T00:00:00\",\"2023-10-10T00:00:00\",\"2023-10-11T00:00:00\",\"2023-10-12T00:00:00\",\"2023-10-13T00:00:00\",\"2023-10-14T00:00:00\",\"2023-10-15T00:00:00\",\"2023-10-16T00:00:00\",\"2023-10-17T00:00:00\",\"2023-10-18T00:00:00\",\"2023-10-19T00:00:00\",\"2023-10-20T00:00:00\",\"2023-10-21T00:00:00\",\"2023-10-22T00:00:00\",\"2023-10-23T00:00:00\",\"2023-10-24T00:00:00\",\"2023-10-25T00:00:00\",\"2023-10-26T00:00:00\",\"2023-10-27T00:00:00\",\"2023-10-28T00:00:00\",\"2023-10-29T00:00:00\",\"2023-10-30T00:00:00\",\"2023-10-31T00:00:00\",\"2023-11-01T00:00:00\",\"2023-11-02T00:00:00\",\"2023-11-03T00:00:00\",\"2023-11-04T00:00:00\",\"2023-11-05T00:00:00\",\"2023-11-06T00:00:00\",\"2023-11-07T00:00:00\",\"2023-11-08T00:00:00\",\"2023-11-09T00:00:00\",\"2023-11-10T00:00:00\",\"2023-11-11T00:00:00\",\"2023-11-12T00:00:00\",\"2023-11-13T00:00:00\",\"2023-11-14T00:00:00\",\"2023-11-15T00:00:00\",\"2023-11-16T00:00:00\",\"2023-11-17T00:00:00\",\"2023-11-18T00:00:00\",\"2023-11-19T00:00:00\",\"2023-11-20T00:00:00\",\"2023-11-21T00:00:00\",\"2023-11-22T00:00:00\",\"2023-11-23T00:00:00\",\"2023-11-24T00:00:00\",\"2023-11-25T00:00:00\",\"2023-11-26T00:00:00\"],\"y\":[5024499.666666667,4559892.666666667,5942249.333333333,5295235.0,5379918.333333333,6098107.333333333,5311583.0,5745238.666666667,5883921.333333333,3800462.6666666665,4745791.0,4427854.666666667,4782304.0,6994308.666666667,5692828.666666667,5096418.333333333,4312746.0,5021721.333333333,4052524.3333333335,6663936.666666667,4416229.0,5220085.666666667,4044142.0,3953106.3333333335,4182076.3333333335,3479413.6666666665,5042105.0,6171871.0,3362390.3333333335,8228326.333333333,4697125.666666667,5347367.0,7150879.333333333,6955594.666666667,7392598.666666667,8896312.666666666,6500714.0,7405410.666666667,6010100.0,5427300.666666667,7406374.0,10438967.666666666,11222178.0,10211899.666666666,6384732.666666667,5468963.333333333,5419360.0,5832355.666666667,6032199.333333333,14465622.666666666,7102309.0,5789855.0,6576307.333333333,6329058.666666667,6199138.666666667,4627072.0,6956202.333333333,5827238.0,6440392.333333333,5254743.333333333,6608034.666666667,6770432.666666667,8695820.666666666],\"type\":\"scatter\",\"xaxis\":\"x7\",\"yaxis\":\"y7\"},{\"legendgroup\":\"AutoARIMA\",\"line\":{\"color\":\"#21918c\",\"width\":1},\"mode\":\"lines\",\"name\":\"AutoARIMA\",\"showlegend\":false,\"x\":[\"2023-09-25T00:00:00\",\"2023-09-26T00:00:00\",\"2023-09-27T00:00:00\",\"2023-09-28T00:00:00\",\"2023-09-29T00:00:00\",\"2023-09-30T00:00:00\",\"2023-10-01T00:00:00\",\"2023-10-02T00:00:00\",\"2023-10-03T00:00:00\",\"2023-10-04T00:00:00\",\"2023-10-05T00:00:00\",\"2023-10-06T00:00:00\",\"2023-10-07T00:00:00\",\"2023-10-08T00:00:00\",\"2023-10-09T00:00:00\",\"2023-10-10T00:00:00\",\"2023-10-11T00:00:00\",\"2023-10-12T00:00:00\",\"2023-10-13T00:00:00\",\"2023-10-14T00:00:00\",\"2023-10-15T00:00:00\",\"2023-10-16T00:00:00\",\"2023-10-17T00:00:00\",\"2023-10-18T00:00:00\",\"2023-10-19T00:00:00\",\"2023-10-20T00:00:00\",\"2023-10-21T00:00:00\",\"2023-10-22T00:00:00\",\"2023-10-23T00:00:00\",\"2023-10-24T00:00:00\",\"2023-10-25T00:00:00\",\"2023-10-26T00:00:00\",\"2023-10-27T00:00:00\",\"2023-10-28T00:00:00\",\"2023-10-29T00:00:00\",\"2023-10-30T00:00:00\",\"2023-10-31T00:00:00\",\"2023-11-01T00:00:00\",\"2023-11-02T00:00:00\",\"2023-11-03T00:00:00\",\"2023-11-04T00:00:00\",\"2023-11-05T00:00:00\",\"2023-11-06T00:00:00\",\"2023-11-07T00:00:00\",\"2023-11-08T00:00:00\",\"2023-11-09T00:00:00\",\"2023-11-10T00:00:00\",\"2023-11-11T00:00:00\",\"2023-11-12T00:00:00\",\"2023-11-13T00:00:00\",\"2023-11-14T00:00:00\",\"2023-11-15T00:00:00\",\"2023-11-16T00:00:00\",\"2023-11-17T00:00:00\",\"2023-11-18T00:00:00\",\"2023-11-19T00:00:00\",\"2023-11-20T00:00:00\",\"2023-11-21T00:00:00\",\"2023-11-22T00:00:00\",\"2023-11-23T00:00:00\",\"2023-11-24T00:00:00\",\"2023-11-25T00:00:00\",\"2023-11-26T00:00:00\"],\"y\":[null,null,null,null,null,null,null,null,null,null,null,null,null,null,null,null,null,null,null,null,null,null,null,null,null,null,null,null,null,null,null,null,null,null,null,null,null,null,null,null,null,null,null,null,null,null,null,null,null,null,null,null,null,null,null,null,8249188.5,7943154.0,5520775.0,7390099.5,6014815.5,6151022.5,9565538.0],\"type\":\"scatter\",\"xaxis\":\"x7\",\"yaxis\":\"y7\"},{\"fill\":\"toself\",\"fillcolor\":\"#21918c\",\"legendgroup\":\"AutoARIMA_level_80\",\"line\":{\"color\":\"#21918c\",\"width\":1},\"mode\":\"lines\",\"name\":\"AutoARIMA_level_80\",\"opacity\":0.19999999999999996,\"showlegend\":false,\"x\":[\"2023-09-25T00:00:00.000000000\",\"2023-09-26T00:00:00.000000000\",\"2023-09-27T00:00:00.000000000\",\"2023-09-28T00:00:00.000000000\",\"2023-09-29T00:00:00.000000000\",\"2023-09-30T00:00:00.000000000\",\"2023-10-01T00:00:00.000000000\",\"2023-10-02T00:00:00.000000000\",\"2023-10-03T00:00:00.000000000\",\"2023-10-04T00:00:00.000000000\",\"2023-10-05T00:00:00.000000000\",\"2023-10-06T00:00:00.000000000\",\"2023-10-07T00:00:00.000000000\",\"2023-10-08T00:00:00.000000000\",\"2023-10-09T00:00:00.000000000\",\"2023-10-10T00:00:00.000000000\",\"2023-10-11T00:00:00.000000000\",\"2023-10-12T00:00:00.000000000\",\"2023-10-13T00:00:00.000000000\",\"2023-10-14T00:00:00.000000000\",\"2023-10-15T00:00:00.000000000\",\"2023-10-16T00:00:00.000000000\",\"2023-10-17T00:00:00.000000000\",\"2023-10-18T00:00:00.000000000\",\"2023-10-19T00:00:00.000000000\",\"2023-10-20T00:00:00.000000000\",\"2023-10-21T00:00:00.000000000\",\"2023-10-22T00:00:00.000000000\",\"2023-10-23T00:00:00.000000000\",\"2023-10-24T00:00:00.000000000\",\"2023-10-25T00:00:00.000000000\",\"2023-10-26T00:00:00.000000000\",\"2023-10-27T00:00:00.000000000\",\"2023-10-28T00:00:00.000000000\",\"2023-10-29T00:00:00.000000000\",\"2023-10-30T00:00:00.000000000\",\"2023-10-31T00:00:00.000000000\",\"2023-11-01T00:00:00.000000000\",\"2023-11-02T00:00:00.000000000\",\"2023-11-03T00:00:00.000000000\",\"2023-11-04T00:00:00.000000000\",\"2023-11-05T00:00:00.000000000\",\"2023-11-06T00:00:00.000000000\",\"2023-11-07T00:00:00.000000000\",\"2023-11-08T00:00:00.000000000\",\"2023-11-09T00:00:00.000000000\",\"2023-11-10T00:00:00.000000000\",\"2023-11-11T00:00:00.000000000\",\"2023-11-12T00:00:00.000000000\",\"2023-11-13T00:00:00.000000000\",\"2023-11-14T00:00:00.000000000\",\"2023-11-15T00:00:00.000000000\",\"2023-11-16T00:00:00.000000000\",\"2023-11-17T00:00:00.000000000\",\"2023-11-18T00:00:00.000000000\",\"2023-11-19T00:00:00.000000000\",\"2023-11-20T00:00:00.000000000\",\"2023-11-21T00:00:00.000000000\",\"2023-11-22T00:00:00.000000000\",\"2023-11-23T00:00:00.000000000\",\"2023-11-24T00:00:00.000000000\",\"2023-11-25T00:00:00.000000000\",\"2023-11-26T00:00:00.000000000\",\"2023-11-26T00:00:00.000000000\",\"2023-11-25T00:00:00.000000000\",\"2023-11-24T00:00:00.000000000\",\"2023-11-23T00:00:00.000000000\",\"2023-11-22T00:00:00.000000000\",\"2023-11-21T00:00:00.000000000\",\"2023-11-20T00:00:00.000000000\",\"2023-11-19T00:00:00.000000000\",\"2023-11-18T00:00:00.000000000\",\"2023-11-17T00:00:00.000000000\",\"2023-11-16T00:00:00.000000000\",\"2023-11-15T00:00:00.000000000\",\"2023-11-14T00:00:00.000000000\",\"2023-11-13T00:00:00.000000000\",\"2023-11-12T00:00:00.000000000\",\"2023-11-11T00:00:00.000000000\",\"2023-11-10T00:00:00.000000000\",\"2023-11-09T00:00:00.000000000\",\"2023-11-08T00:00:00.000000000\",\"2023-11-07T00:00:00.000000000\",\"2023-11-06T00:00:00.000000000\",\"2023-11-05T00:00:00.000000000\",\"2023-11-04T00:00:00.000000000\",\"2023-11-03T00:00:00.000000000\",\"2023-11-02T00:00:00.000000000\",\"2023-11-01T00:00:00.000000000\",\"2023-10-31T00:00:00.000000000\",\"2023-10-30T00:00:00.000000000\",\"2023-10-29T00:00:00.000000000\",\"2023-10-28T00:00:00.000000000\",\"2023-10-27T00:00:00.000000000\",\"2023-10-26T00:00:00.000000000\",\"2023-10-25T00:00:00.000000000\",\"2023-10-24T00:00:00.000000000\",\"2023-10-23T00:00:00.000000000\",\"2023-10-22T00:00:00.000000000\",\"2023-10-21T00:00:00.000000000\",\"2023-10-20T00:00:00.000000000\",\"2023-10-19T00:00:00.000000000\",\"2023-10-18T00:00:00.000000000\",\"2023-10-17T00:00:00.000000000\",\"2023-10-16T00:00:00.000000000\",\"2023-10-15T00:00:00.000000000\",\"2023-10-14T00:00:00.000000000\",\"2023-10-13T00:00:00.000000000\",\"2023-10-12T00:00:00.000000000\",\"2023-10-11T00:00:00.000000000\",\"2023-10-10T00:00:00.000000000\",\"2023-10-09T00:00:00.000000000\",\"2023-10-08T00:00:00.000000000\",\"2023-10-07T00:00:00.000000000\",\"2023-10-06T00:00:00.000000000\",\"2023-10-05T00:00:00.000000000\",\"2023-10-04T00:00:00.000000000\",\"2023-10-03T00:00:00.000000000\",\"2023-10-02T00:00:00.000000000\",\"2023-10-01T00:00:00.000000000\",\"2023-09-30T00:00:00.000000000\",\"2023-09-29T00:00:00.000000000\",\"2023-09-28T00:00:00.000000000\",\"2023-09-27T00:00:00.000000000\",\"2023-09-26T00:00:00.000000000\",\"2023-09-25T00:00:00.000000000\"],\"y\":[null,null,null,null,null,null,null,null,null,null,null,null,null,null,null,null,null,null,null,null,null,null,null,null,null,null,null,null,null,null,null,null,null,null,null,null,null,null,null,null,null,null,null,null,null,null,null,null,null,null,null,null,null,null,null,null,14972808.0,11337805.0,7027846.0,8501960.0,7570708.5,8183870.5,12296769.0,6834306.0,4118174.0,4458923.0,6278239.5,4013704.0,4548503.5,1525569.75,null,null,null,null,null,null,null,null,null,null,null,null,null,null,null,null,null,null,null,null,null,null,null,null,null,null,null,null,null,null,null,null,null,null,null,null,null,null,null,null,null,null,null,null,null,null,null,null,null,null,null,null,null,null,null,null],\"type\":\"scatter\",\"xaxis\":\"x7\",\"yaxis\":\"y7\"},{\"legendgroup\":\"LGBMRegressor\",\"line\":{\"color\":\"#fde725\",\"width\":1},\"mode\":\"lines\",\"name\":\"LGBMRegressor\",\"showlegend\":false,\"x\":[\"2023-09-25T00:00:00\",\"2023-09-26T00:00:00\",\"2023-09-27T00:00:00\",\"2023-09-28T00:00:00\",\"2023-09-29T00:00:00\",\"2023-09-30T00:00:00\",\"2023-10-01T00:00:00\",\"2023-10-02T00:00:00\",\"2023-10-03T00:00:00\",\"2023-10-04T00:00:00\",\"2023-10-05T00:00:00\",\"2023-10-06T00:00:00\",\"2023-10-07T00:00:00\",\"2023-10-08T00:00:00\",\"2023-10-09T00:00:00\",\"2023-10-10T00:00:00\",\"2023-10-11T00:00:00\",\"2023-10-12T00:00:00\",\"2023-10-13T00:00:00\",\"2023-10-14T00:00:00\",\"2023-10-15T00:00:00\",\"2023-10-16T00:00:00\",\"2023-10-17T00:00:00\",\"2023-10-18T00:00:00\",\"2023-10-19T00:00:00\",\"2023-10-20T00:00:00\",\"2023-10-21T00:00:00\",\"2023-10-22T00:00:00\",\"2023-10-23T00:00:00\",\"2023-10-24T00:00:00\",\"2023-10-25T00:00:00\",\"2023-10-26T00:00:00\",\"2023-10-27T00:00:00\",\"2023-10-28T00:00:00\",\"2023-10-29T00:00:00\",\"2023-10-30T00:00:00\",\"2023-10-31T00:00:00\",\"2023-11-01T00:00:00\",\"2023-11-02T00:00:00\",\"2023-11-03T00:00:00\",\"2023-11-04T00:00:00\",\"2023-11-05T00:00:00\",\"2023-11-06T00:00:00\",\"2023-11-07T00:00:00\",\"2023-11-08T00:00:00\",\"2023-11-09T00:00:00\",\"2023-11-10T00:00:00\",\"2023-11-11T00:00:00\",\"2023-11-12T00:00:00\",\"2023-11-13T00:00:00\",\"2023-11-14T00:00:00\",\"2023-11-15T00:00:00\",\"2023-11-16T00:00:00\",\"2023-11-17T00:00:00\",\"2023-11-18T00:00:00\",\"2023-11-19T00:00:00\",\"2023-11-20T00:00:00\",\"2023-11-21T00:00:00\",\"2023-11-22T00:00:00\",\"2023-11-23T00:00:00\",\"2023-11-24T00:00:00\",\"2023-11-25T00:00:00\",\"2023-11-26T00:00:00\"],\"y\":[null,null,null,null,null,null,null,null,null,null,null,null,null,null,null,null,null,null,null,null,null,null,null,null,null,null,null,null,null,null,null,null,null,null,null,null,null,null,null,null,null,null,null,null,null,null,null,null,null,null,null,null,null,null,null,null,4492247.888147198,6894864.9517119685,6420117.985536311,5354569.71439062,5297571.056651903,5796859.988440297,5632428.629642609],\"type\":\"scatter\",\"xaxis\":\"x7\",\"yaxis\":\"y7\"},{\"fill\":\"toself\",\"fillcolor\":\"#fde725\",\"legendgroup\":\"LGBMRegressor_level_80\",\"line\":{\"color\":\"#fde725\",\"width\":1},\"mode\":\"lines\",\"name\":\"LGBMRegressor_level_80\",\"opacity\":0.19999999999999996,\"showlegend\":false,\"x\":[\"2023-09-25T00:00:00.000000000\",\"2023-09-26T00:00:00.000000000\",\"2023-09-27T00:00:00.000000000\",\"2023-09-28T00:00:00.000000000\",\"2023-09-29T00:00:00.000000000\",\"2023-09-30T00:00:00.000000000\",\"2023-10-01T00:00:00.000000000\",\"2023-10-02T00:00:00.000000000\",\"2023-10-03T00:00:00.000000000\",\"2023-10-04T00:00:00.000000000\",\"2023-10-05T00:00:00.000000000\",\"2023-10-06T00:00:00.000000000\",\"2023-10-07T00:00:00.000000000\",\"2023-10-08T00:00:00.000000000\",\"2023-10-09T00:00:00.000000000\",\"2023-10-10T00:00:00.000000000\",\"2023-10-11T00:00:00.000000000\",\"2023-10-12T00:00:00.000000000\",\"2023-10-13T00:00:00.000000000\",\"2023-10-14T00:00:00.000000000\",\"2023-10-15T00:00:00.000000000\",\"2023-10-16T00:00:00.000000000\",\"2023-10-17T00:00:00.000000000\",\"2023-10-18T00:00:00.000000000\",\"2023-10-19T00:00:00.000000000\",\"2023-10-20T00:00:00.000000000\",\"2023-10-21T00:00:00.000000000\",\"2023-10-22T00:00:00.000000000\",\"2023-10-23T00:00:00.000000000\",\"2023-10-24T00:00:00.000000000\",\"2023-10-25T00:00:00.000000000\",\"2023-10-26T00:00:00.000000000\",\"2023-10-27T00:00:00.000000000\",\"2023-10-28T00:00:00.000000000\",\"2023-10-29T00:00:00.000000000\",\"2023-10-30T00:00:00.000000000\",\"2023-10-31T00:00:00.000000000\",\"2023-11-01T00:00:00.000000000\",\"2023-11-02T00:00:00.000000000\",\"2023-11-03T00:00:00.000000000\",\"2023-11-04T00:00:00.000000000\",\"2023-11-05T00:00:00.000000000\",\"2023-11-06T00:00:00.000000000\",\"2023-11-07T00:00:00.000000000\",\"2023-11-08T00:00:00.000000000\",\"2023-11-09T00:00:00.000000000\",\"2023-11-10T00:00:00.000000000\",\"2023-11-11T00:00:00.000000000\",\"2023-11-12T00:00:00.000000000\",\"2023-11-13T00:00:00.000000000\",\"2023-11-14T00:00:00.000000000\",\"2023-11-15T00:00:00.000000000\",\"2023-11-16T00:00:00.000000000\",\"2023-11-17T00:00:00.000000000\",\"2023-11-18T00:00:00.000000000\",\"2023-11-19T00:00:00.000000000\",\"2023-11-20T00:00:00.000000000\",\"2023-11-21T00:00:00.000000000\",\"2023-11-22T00:00:00.000000000\",\"2023-11-23T00:00:00.000000000\",\"2023-11-24T00:00:00.000000000\",\"2023-11-25T00:00:00.000000000\",\"2023-11-26T00:00:00.000000000\",\"2023-11-26T00:00:00.000000000\",\"2023-11-25T00:00:00.000000000\",\"2023-11-24T00:00:00.000000000\",\"2023-11-23T00:00:00.000000000\",\"2023-11-22T00:00:00.000000000\",\"2023-11-21T00:00:00.000000000\",\"2023-11-20T00:00:00.000000000\",\"2023-11-19T00:00:00.000000000\",\"2023-11-18T00:00:00.000000000\",\"2023-11-17T00:00:00.000000000\",\"2023-11-16T00:00:00.000000000\",\"2023-11-15T00:00:00.000000000\",\"2023-11-14T00:00:00.000000000\",\"2023-11-13T00:00:00.000000000\",\"2023-11-12T00:00:00.000000000\",\"2023-11-11T00:00:00.000000000\",\"2023-11-10T00:00:00.000000000\",\"2023-11-09T00:00:00.000000000\",\"2023-11-08T00:00:00.000000000\",\"2023-11-07T00:00:00.000000000\",\"2023-11-06T00:00:00.000000000\",\"2023-11-05T00:00:00.000000000\",\"2023-11-04T00:00:00.000000000\",\"2023-11-03T00:00:00.000000000\",\"2023-11-02T00:00:00.000000000\",\"2023-11-01T00:00:00.000000000\",\"2023-10-31T00:00:00.000000000\",\"2023-10-30T00:00:00.000000000\",\"2023-10-29T00:00:00.000000000\",\"2023-10-28T00:00:00.000000000\",\"2023-10-27T00:00:00.000000000\",\"2023-10-26T00:00:00.000000000\",\"2023-10-25T00:00:00.000000000\",\"2023-10-24T00:00:00.000000000\",\"2023-10-23T00:00:00.000000000\",\"2023-10-22T00:00:00.000000000\",\"2023-10-21T00:00:00.000000000\",\"2023-10-20T00:00:00.000000000\",\"2023-10-19T00:00:00.000000000\",\"2023-10-18T00:00:00.000000000\",\"2023-10-17T00:00:00.000000000\",\"2023-10-16T00:00:00.000000000\",\"2023-10-15T00:00:00.000000000\",\"2023-10-14T00:00:00.000000000\",\"2023-10-13T00:00:00.000000000\",\"2023-10-12T00:00:00.000000000\",\"2023-10-11T00:00:00.000000000\",\"2023-10-10T00:00:00.000000000\",\"2023-10-09T00:00:00.000000000\",\"2023-10-08T00:00:00.000000000\",\"2023-10-07T00:00:00.000000000\",\"2023-10-06T00:00:00.000000000\",\"2023-10-05T00:00:00.000000000\",\"2023-10-04T00:00:00.000000000\",\"2023-10-03T00:00:00.000000000\",\"2023-10-02T00:00:00.000000000\",\"2023-10-01T00:00:00.000000000\",\"2023-09-30T00:00:00.000000000\",\"2023-09-29T00:00:00.000000000\",\"2023-09-28T00:00:00.000000000\",\"2023-09-27T00:00:00.000000000\",\"2023-09-26T00:00:00.000000000\",\"2023-09-25T00:00:00.000000000\"],\"y\":[null,null,null,null,null,null,null,null,null,null,null,null,null,null,null,null,null,null,null,null,null,null,null,null,null,null,null,null,null,null,null,null,null,null,null,null,null,null,null,null,null,null,null,null,null,null,null,null,null,null,null,null,null,null,null,null,7818517.4397949865,9499475.999988133,7369563.78363806,7522142.514172194,7784846.935704967,7118407.492289426,8512467.801289724,2752389.457995492,4475312.484591167,2810295.1775988396,3186996.9146090457,5470672.187434562,4290253.903435803,1165978.3364994067,null,null,null,null,null,null,null,null,null,null,null,null,null,null,null,null,null,null,null,null,null,null,null,null,null,null,null,null,null,null,null,null,null,null,null,null,null,null,null,null,null,null,null,null,null,null,null,null,null,null,null,null,null,null,null,null],\"type\":\"scatter\",\"xaxis\":\"x7\",\"yaxis\":\"y7\"},{\"legendgroup\":\"y\",\"line\":{\"color\":\"#440154\",\"width\":1},\"mode\":\"lines\",\"name\":\"y\",\"showlegend\":false,\"x\":[\"2023-09-25T00:00:00\",\"2023-09-26T00:00:00\",\"2023-09-27T00:00:00\",\"2023-09-28T00:00:00\",\"2023-09-29T00:00:00\",\"2023-09-30T00:00:00\",\"2023-10-01T00:00:00\",\"2023-10-02T00:00:00\",\"2023-10-03T00:00:00\",\"2023-10-04T00:00:00\",\"2023-10-05T00:00:00\",\"2023-10-06T00:00:00\",\"2023-10-07T00:00:00\",\"2023-10-08T00:00:00\",\"2023-10-09T00:00:00\",\"2023-10-10T00:00:00\",\"2023-10-11T00:00:00\",\"2023-10-12T00:00:00\",\"2023-10-13T00:00:00\",\"2023-10-14T00:00:00\",\"2023-10-15T00:00:00\",\"2023-10-16T00:00:00\",\"2023-10-17T00:00:00\",\"2023-10-18T00:00:00\",\"2023-10-19T00:00:00\",\"2023-10-20T00:00:00\",\"2023-10-21T00:00:00\",\"2023-10-22T00:00:00\",\"2023-10-23T00:00:00\",\"2023-10-24T00:00:00\",\"2023-10-25T00:00:00\",\"2023-10-26T00:00:00\",\"2023-10-27T00:00:00\",\"2023-10-28T00:00:00\",\"2023-10-29T00:00:00\",\"2023-10-30T00:00:00\",\"2023-10-31T00:00:00\",\"2023-11-01T00:00:00\",\"2023-11-02T00:00:00\",\"2023-11-03T00:00:00\",\"2023-11-04T00:00:00\",\"2023-11-05T00:00:00\",\"2023-11-06T00:00:00\",\"2023-11-07T00:00:00\",\"2023-11-08T00:00:00\",\"2023-11-09T00:00:00\",\"2023-11-10T00:00:00\",\"2023-11-11T00:00:00\",\"2023-11-12T00:00:00\",\"2023-11-13T00:00:00\",\"2023-11-14T00:00:00\",\"2023-11-15T00:00:00\",\"2023-11-16T00:00:00\",\"2023-11-17T00:00:00\",\"2023-11-18T00:00:00\",\"2023-11-19T00:00:00\",\"2023-11-20T00:00:00\",\"2023-11-21T00:00:00\",\"2023-11-22T00:00:00\",\"2023-11-23T00:00:00\",\"2023-11-24T00:00:00\",\"2023-11-25T00:00:00\",\"2023-11-26T00:00:00\"],\"y\":[3241760467.3333335,2285830890.6666665,1998784501.0,1693935583.6666667,2208581972.0,5195371140.333333,5666052908.666667,5036931003.0,5845747458.666667,3740499471.0,2863395527.0,4702921919.0,3942472811.3333335,4709384328.333333,4630395781.333333,4546269275.333333,4566104039.666667,4482957106.333333,4346819950.666667,4461813411.333333,4394859913.333333,4975547214.0,4481780831.0,5067627958.666667,5214507240.0,7680874942.0,4606557001.333333,4027369625.3333335,3676953771.6666665,3662287430.6666665,4157553598.0,3757517686.0,3664018864.3333335,3689394958.3333335,3397524853.0,3596029666.0,4169524542.0,5859256476.0,5752183274.333333,5511390131.333333,4486909562.0,4109452942.6666665,4754189717.666667,4221806360.0,4085698734.3333335,4143007492.3333335,4453417613.333333,4253966893.3333335,4056611578.6666665,4302685028.666667,4321773283.333333,4675359292.333333,3998978419.0,3877967733.6666665,4219588928.6666665,5148469382.666667,8046445105.666667,4059811079.6666665,2709496376.6666665,2170457616.3333335,1967317292.6666667,1829916249.0,1856351611.3333333],\"type\":\"scatter\",\"xaxis\":\"x8\",\"yaxis\":\"y8\"},{\"legendgroup\":\"AutoARIMA\",\"line\":{\"color\":\"#21918c\",\"width\":1},\"mode\":\"lines\",\"name\":\"AutoARIMA\",\"showlegend\":false,\"x\":[\"2023-09-25T00:00:00\",\"2023-09-26T00:00:00\",\"2023-09-27T00:00:00\",\"2023-09-28T00:00:00\",\"2023-09-29T00:00:00\",\"2023-09-30T00:00:00\",\"2023-10-01T00:00:00\",\"2023-10-02T00:00:00\",\"2023-10-03T00:00:00\",\"2023-10-04T00:00:00\",\"2023-10-05T00:00:00\",\"2023-10-06T00:00:00\",\"2023-10-07T00:00:00\",\"2023-10-08T00:00:00\",\"2023-10-09T00:00:00\",\"2023-10-10T00:00:00\",\"2023-10-11T00:00:00\",\"2023-10-12T00:00:00\",\"2023-10-13T00:00:00\",\"2023-10-14T00:00:00\",\"2023-10-15T00:00:00\",\"2023-10-16T00:00:00\",\"2023-10-17T00:00:00\",\"2023-10-18T00:00:00\",\"2023-10-19T00:00:00\",\"2023-10-20T00:00:00\",\"2023-10-21T00:00:00\",\"2023-10-22T00:00:00\",\"2023-10-23T00:00:00\",\"2023-10-24T00:00:00\",\"2023-10-25T00:00:00\",\"2023-10-26T00:00:00\",\"2023-10-27T00:00:00\",\"2023-10-28T00:00:00\",\"2023-10-29T00:00:00\",\"2023-10-30T00:00:00\",\"2023-10-31T00:00:00\",\"2023-11-01T00:00:00\",\"2023-11-02T00:00:00\",\"2023-11-03T00:00:00\",\"2023-11-04T00:00:00\",\"2023-11-05T00:00:00\",\"2023-11-06T00:00:00\",\"2023-11-07T00:00:00\",\"2023-11-08T00:00:00\",\"2023-11-09T00:00:00\",\"2023-11-10T00:00:00\",\"2023-11-11T00:00:00\",\"2023-11-12T00:00:00\",\"2023-11-13T00:00:00\",\"2023-11-14T00:00:00\",\"2023-11-15T00:00:00\",\"2023-11-16T00:00:00\",\"2023-11-17T00:00:00\",\"2023-11-18T00:00:00\",\"2023-11-19T00:00:00\",\"2023-11-20T00:00:00\",\"2023-11-21T00:00:00\",\"2023-11-22T00:00:00\",\"2023-11-23T00:00:00\",\"2023-11-24T00:00:00\",\"2023-11-25T00:00:00\",\"2023-11-26T00:00:00\"],\"y\":[null,null,null,null,null,null,null,null,null,null,null,null,null,null,null,null,null,null,null,null,null,null,null,null,null,null,null,null,null,null,null,null,null,null,null,null,null,null,null,null,null,null,null,null,null,null,null,null,null,null,null,null,null,null,null,null,4929892352.0,4075627008.0,3842694400.0,3865921536.0,3869206272.0,4094876160.0,4091787264.0],\"type\":\"scatter\",\"xaxis\":\"x8\",\"yaxis\":\"y8\"},{\"fill\":\"toself\",\"fillcolor\":\"#21918c\",\"legendgroup\":\"AutoARIMA_level_80\",\"line\":{\"color\":\"#21918c\",\"width\":1},\"mode\":\"lines\",\"name\":\"AutoARIMA_level_80\",\"opacity\":0.19999999999999996,\"showlegend\":false,\"x\":[\"2023-09-25T00:00:00.000000000\",\"2023-09-26T00:00:00.000000000\",\"2023-09-27T00:00:00.000000000\",\"2023-09-28T00:00:00.000000000\",\"2023-09-29T00:00:00.000000000\",\"2023-09-30T00:00:00.000000000\",\"2023-10-01T00:00:00.000000000\",\"2023-10-02T00:00:00.000000000\",\"2023-10-03T00:00:00.000000000\",\"2023-10-04T00:00:00.000000000\",\"2023-10-05T00:00:00.000000000\",\"2023-10-06T00:00:00.000000000\",\"2023-10-07T00:00:00.000000000\",\"2023-10-08T00:00:00.000000000\",\"2023-10-09T00:00:00.000000000\",\"2023-10-10T00:00:00.000000000\",\"2023-10-11T00:00:00.000000000\",\"2023-10-12T00:00:00.000000000\",\"2023-10-13T00:00:00.000000000\",\"2023-10-14T00:00:00.000000000\",\"2023-10-15T00:00:00.000000000\",\"2023-10-16T00:00:00.000000000\",\"2023-10-17T00:00:00.000000000\",\"2023-10-18T00:00:00.000000000\",\"2023-10-19T00:00:00.000000000\",\"2023-10-20T00:00:00.000000000\",\"2023-10-21T00:00:00.000000000\",\"2023-10-22T00:00:00.000000000\",\"2023-10-23T00:00:00.000000000\",\"2023-10-24T00:00:00.000000000\",\"2023-10-25T00:00:00.000000000\",\"2023-10-26T00:00:00.000000000\",\"2023-10-27T00:00:00.000000000\",\"2023-10-28T00:00:00.000000000\",\"2023-10-29T00:00:00.000000000\",\"2023-10-30T00:00:00.000000000\",\"2023-10-31T00:00:00.000000000\",\"2023-11-01T00:00:00.000000000\",\"2023-11-02T00:00:00.000000000\",\"2023-11-03T00:00:00.000000000\",\"2023-11-04T00:00:00.000000000\",\"2023-11-05T00:00:00.000000000\",\"2023-11-06T00:00:00.000000000\",\"2023-11-07T00:00:00.000000000\",\"2023-11-08T00:00:00.000000000\",\"2023-11-09T00:00:00.000000000\",\"2023-11-10T00:00:00.000000000\",\"2023-11-11T00:00:00.000000000\",\"2023-11-12T00:00:00.000000000\",\"2023-11-13T00:00:00.000000000\",\"2023-11-14T00:00:00.000000000\",\"2023-11-15T00:00:00.000000000\",\"2023-11-16T00:00:00.000000000\",\"2023-11-17T00:00:00.000000000\",\"2023-11-18T00:00:00.000000000\",\"2023-11-19T00:00:00.000000000\",\"2023-11-20T00:00:00.000000000\",\"2023-11-21T00:00:00.000000000\",\"2023-11-22T00:00:00.000000000\",\"2023-11-23T00:00:00.000000000\",\"2023-11-24T00:00:00.000000000\",\"2023-11-25T00:00:00.000000000\",\"2023-11-26T00:00:00.000000000\",\"2023-11-26T00:00:00.000000000\",\"2023-11-25T00:00:00.000000000\",\"2023-11-24T00:00:00.000000000\",\"2023-11-23T00:00:00.000000000\",\"2023-11-22T00:00:00.000000000\",\"2023-11-21T00:00:00.000000000\",\"2023-11-20T00:00:00.000000000\",\"2023-11-19T00:00:00.000000000\",\"2023-11-18T00:00:00.000000000\",\"2023-11-17T00:00:00.000000000\",\"2023-11-16T00:00:00.000000000\",\"2023-11-15T00:00:00.000000000\",\"2023-11-14T00:00:00.000000000\",\"2023-11-13T00:00:00.000000000\",\"2023-11-12T00:00:00.000000000\",\"2023-11-11T00:00:00.000000000\",\"2023-11-10T00:00:00.000000000\",\"2023-11-09T00:00:00.000000000\",\"2023-11-08T00:00:00.000000000\",\"2023-11-07T00:00:00.000000000\",\"2023-11-06T00:00:00.000000000\",\"2023-11-05T00:00:00.000000000\",\"2023-11-04T00:00:00.000000000\",\"2023-11-03T00:00:00.000000000\",\"2023-11-02T00:00:00.000000000\",\"2023-11-01T00:00:00.000000000\",\"2023-10-31T00:00:00.000000000\",\"2023-10-30T00:00:00.000000000\",\"2023-10-29T00:00:00.000000000\",\"2023-10-28T00:00:00.000000000\",\"2023-10-27T00:00:00.000000000\",\"2023-10-26T00:00:00.000000000\",\"2023-10-25T00:00:00.000000000\",\"2023-10-24T00:00:00.000000000\",\"2023-10-23T00:00:00.000000000\",\"2023-10-22T00:00:00.000000000\",\"2023-10-21T00:00:00.000000000\",\"2023-10-20T00:00:00.000000000\",\"2023-10-19T00:00:00.000000000\",\"2023-10-18T00:00:00.000000000\",\"2023-10-17T00:00:00.000000000\",\"2023-10-16T00:00:00.000000000\",\"2023-10-15T00:00:00.000000000\",\"2023-10-14T00:00:00.000000000\",\"2023-10-13T00:00:00.000000000\",\"2023-10-12T00:00:00.000000000\",\"2023-10-11T00:00:00.000000000\",\"2023-10-10T00:00:00.000000000\",\"2023-10-09T00:00:00.000000000\",\"2023-10-08T00:00:00.000000000\",\"2023-10-07T00:00:00.000000000\",\"2023-10-06T00:00:00.000000000\",\"2023-10-05T00:00:00.000000000\",\"2023-10-04T00:00:00.000000000\",\"2023-10-03T00:00:00.000000000\",\"2023-10-02T00:00:00.000000000\",\"2023-10-01T00:00:00.000000000\",\"2023-09-30T00:00:00.000000000\",\"2023-09-29T00:00:00.000000000\",\"2023-09-28T00:00:00.000000000\",\"2023-09-27T00:00:00.000000000\",\"2023-09-26T00:00:00.000000000\",\"2023-09-25T00:00:00.000000000\"],\"y\":[null,null,null,null,null,null,null,null,null,null,null,null,null,null,null,null,null,null,null,null,null,null,null,null,null,null,null,null,null,null,null,null,null,null,null,null,null,null,null,null,null,null,null,null,null,null,null,null,null,null,null,null,null,null,null,null,6111799808.0,4642035200.0,4426000896.0,4692920832.0,5084087296.0,4425928192.0,4794605568.0,3388968960.0,3763824128.0,2654325248.0,3038922496.0,3259387904.0,3509218560.0,3747985152.0,null,null,null,null,null,null,null,null,null,null,null,null,null,null,null,null,null,null,null,null,null,null,null,null,null,null,null,null,null,null,null,null,null,null,null,null,null,null,null,null,null,null,null,null,null,null,null,null,null,null,null,null,null,null,null,null],\"type\":\"scatter\",\"xaxis\":\"x8\",\"yaxis\":\"y8\"},{\"legendgroup\":\"LGBMRegressor\",\"line\":{\"color\":\"#fde725\",\"width\":1},\"mode\":\"lines\",\"name\":\"LGBMRegressor\",\"showlegend\":false,\"x\":[\"2023-09-25T00:00:00\",\"2023-09-26T00:00:00\",\"2023-09-27T00:00:00\",\"2023-09-28T00:00:00\",\"2023-09-29T00:00:00\",\"2023-09-30T00:00:00\",\"2023-10-01T00:00:00\",\"2023-10-02T00:00:00\",\"2023-10-03T00:00:00\",\"2023-10-04T00:00:00\",\"2023-10-05T00:00:00\",\"2023-10-06T00:00:00\",\"2023-10-07T00:00:00\",\"2023-10-08T00:00:00\",\"2023-10-09T00:00:00\",\"2023-10-10T00:00:00\",\"2023-10-11T00:00:00\",\"2023-10-12T00:00:00\",\"2023-10-13T00:00:00\",\"2023-10-14T00:00:00\",\"2023-10-15T00:00:00\",\"2023-10-16T00:00:00\",\"2023-10-17T00:00:00\",\"2023-10-18T00:00:00\",\"2023-10-19T00:00:00\",\"2023-10-20T00:00:00\",\"2023-10-21T00:00:00\",\"2023-10-22T00:00:00\",\"2023-10-23T00:00:00\",\"2023-10-24T00:00:00\",\"2023-10-25T00:00:00\",\"2023-10-26T00:00:00\",\"2023-10-27T00:00:00\",\"2023-10-28T00:00:00\",\"2023-10-29T00:00:00\",\"2023-10-30T00:00:00\",\"2023-10-31T00:00:00\",\"2023-11-01T00:00:00\",\"2023-11-02T00:00:00\",\"2023-11-03T00:00:00\",\"2023-11-04T00:00:00\",\"2023-11-05T00:00:00\",\"2023-11-06T00:00:00\",\"2023-11-07T00:00:00\",\"2023-11-08T00:00:00\",\"2023-11-09T00:00:00\",\"2023-11-10T00:00:00\",\"2023-11-11T00:00:00\",\"2023-11-12T00:00:00\",\"2023-11-13T00:00:00\",\"2023-11-14T00:00:00\",\"2023-11-15T00:00:00\",\"2023-11-16T00:00:00\",\"2023-11-17T00:00:00\",\"2023-11-18T00:00:00\",\"2023-11-19T00:00:00\",\"2023-11-20T00:00:00\",\"2023-11-21T00:00:00\",\"2023-11-22T00:00:00\",\"2023-11-23T00:00:00\",\"2023-11-24T00:00:00\",\"2023-11-25T00:00:00\",\"2023-11-26T00:00:00\"],\"y\":[null,null,null,null,null,null,null,null,null,null,null,null,null,null,null,null,null,null,null,null,null,null,null,null,null,null,null,null,null,null,null,null,null,null,null,null,null,null,null,null,null,null,null,null,null,null,null,null,null,null,null,null,null,null,null,null,7061810154.725649,3891128086.963336,3838287042.0943885,3670740694.8255734,3294661686.680149,3473726056.7827697,2513221295.8547792],\"type\":\"scatter\",\"xaxis\":\"x8\",\"yaxis\":\"y8\"},{\"fill\":\"toself\",\"fillcolor\":\"#fde725\",\"legendgroup\":\"LGBMRegressor_level_80\",\"line\":{\"color\":\"#fde725\",\"width\":1},\"mode\":\"lines\",\"name\":\"LGBMRegressor_level_80\",\"opacity\":0.19999999999999996,\"showlegend\":false,\"x\":[\"2023-09-25T00:00:00.000000000\",\"2023-09-26T00:00:00.000000000\",\"2023-09-27T00:00:00.000000000\",\"2023-09-28T00:00:00.000000000\",\"2023-09-29T00:00:00.000000000\",\"2023-09-30T00:00:00.000000000\",\"2023-10-01T00:00:00.000000000\",\"2023-10-02T00:00:00.000000000\",\"2023-10-03T00:00:00.000000000\",\"2023-10-04T00:00:00.000000000\",\"2023-10-05T00:00:00.000000000\",\"2023-10-06T00:00:00.000000000\",\"2023-10-07T00:00:00.000000000\",\"2023-10-08T00:00:00.000000000\",\"2023-10-09T00:00:00.000000000\",\"2023-10-10T00:00:00.000000000\",\"2023-10-11T00:00:00.000000000\",\"2023-10-12T00:00:00.000000000\",\"2023-10-13T00:00:00.000000000\",\"2023-10-14T00:00:00.000000000\",\"2023-10-15T00:00:00.000000000\",\"2023-10-16T00:00:00.000000000\",\"2023-10-17T00:00:00.000000000\",\"2023-10-18T00:00:00.000000000\",\"2023-10-19T00:00:00.000000000\",\"2023-10-20T00:00:00.000000000\",\"2023-10-21T00:00:00.000000000\",\"2023-10-22T00:00:00.000000000\",\"2023-10-23T00:00:00.000000000\",\"2023-10-24T00:00:00.000000000\",\"2023-10-25T00:00:00.000000000\",\"2023-10-26T00:00:00.000000000\",\"2023-10-27T00:00:00.000000000\",\"2023-10-28T00:00:00.000000000\",\"2023-10-29T00:00:00.000000000\",\"2023-10-30T00:00:00.000000000\",\"2023-10-31T00:00:00.000000000\",\"2023-11-01T00:00:00.000000000\",\"2023-11-02T00:00:00.000000000\",\"2023-11-03T00:00:00.000000000\",\"2023-11-04T00:00:00.000000000\",\"2023-11-05T00:00:00.000000000\",\"2023-11-06T00:00:00.000000000\",\"2023-11-07T00:00:00.000000000\",\"2023-11-08T00:00:00.000000000\",\"2023-11-09T00:00:00.000000000\",\"2023-11-10T00:00:00.000000000\",\"2023-11-11T00:00:00.000000000\",\"2023-11-12T00:00:00.000000000\",\"2023-11-13T00:00:00.000000000\",\"2023-11-14T00:00:00.000000000\",\"2023-11-15T00:00:00.000000000\",\"2023-11-16T00:00:00.000000000\",\"2023-11-17T00:00:00.000000000\",\"2023-11-18T00:00:00.000000000\",\"2023-11-19T00:00:00.000000000\",\"2023-11-20T00:00:00.000000000\",\"2023-11-21T00:00:00.000000000\",\"2023-11-22T00:00:00.000000000\",\"2023-11-23T00:00:00.000000000\",\"2023-11-24T00:00:00.000000000\",\"2023-11-25T00:00:00.000000000\",\"2023-11-26T00:00:00.000000000\",\"2023-11-26T00:00:00.000000000\",\"2023-11-25T00:00:00.000000000\",\"2023-11-24T00:00:00.000000000\",\"2023-11-23T00:00:00.000000000\",\"2023-11-22T00:00:00.000000000\",\"2023-11-21T00:00:00.000000000\",\"2023-11-20T00:00:00.000000000\",\"2023-11-19T00:00:00.000000000\",\"2023-11-18T00:00:00.000000000\",\"2023-11-17T00:00:00.000000000\",\"2023-11-16T00:00:00.000000000\",\"2023-11-15T00:00:00.000000000\",\"2023-11-14T00:00:00.000000000\",\"2023-11-13T00:00:00.000000000\",\"2023-11-12T00:00:00.000000000\",\"2023-11-11T00:00:00.000000000\",\"2023-11-10T00:00:00.000000000\",\"2023-11-09T00:00:00.000000000\",\"2023-11-08T00:00:00.000000000\",\"2023-11-07T00:00:00.000000000\",\"2023-11-06T00:00:00.000000000\",\"2023-11-05T00:00:00.000000000\",\"2023-11-04T00:00:00.000000000\",\"2023-11-03T00:00:00.000000000\",\"2023-11-02T00:00:00.000000000\",\"2023-11-01T00:00:00.000000000\",\"2023-10-31T00:00:00.000000000\",\"2023-10-30T00:00:00.000000000\",\"2023-10-29T00:00:00.000000000\",\"2023-10-28T00:00:00.000000000\",\"2023-10-27T00:00:00.000000000\",\"2023-10-26T00:00:00.000000000\",\"2023-10-25T00:00:00.000000000\",\"2023-10-24T00:00:00.000000000\",\"2023-10-23T00:00:00.000000000\",\"2023-10-22T00:00:00.000000000\",\"2023-10-21T00:00:00.000000000\",\"2023-10-20T00:00:00.000000000\",\"2023-10-19T00:00:00.000000000\",\"2023-10-18T00:00:00.000000000\",\"2023-10-17T00:00:00.000000000\",\"2023-10-16T00:00:00.000000000\",\"2023-10-15T00:00:00.000000000\",\"2023-10-14T00:00:00.000000000\",\"2023-10-13T00:00:00.000000000\",\"2023-10-12T00:00:00.000000000\",\"2023-10-11T00:00:00.000000000\",\"2023-10-10T00:00:00.000000000\",\"2023-10-09T00:00:00.000000000\",\"2023-10-08T00:00:00.000000000\",\"2023-10-07T00:00:00.000000000\",\"2023-10-06T00:00:00.000000000\",\"2023-10-05T00:00:00.000000000\",\"2023-10-04T00:00:00.000000000\",\"2023-10-03T00:00:00.000000000\",\"2023-10-02T00:00:00.000000000\",\"2023-10-01T00:00:00.000000000\",\"2023-09-30T00:00:00.000000000\",\"2023-09-29T00:00:00.000000000\",\"2023-09-28T00:00:00.000000000\",\"2023-09-27T00:00:00.000000000\",\"2023-09-26T00:00:00.000000000\",\"2023-09-25T00:00:00.000000000\"],\"y\":[null,null,null,null,null,null,null,null,null,null,null,null,null,null,null,null,null,null,null,null,null,null,null,null,null,null,null,null,null,null,null,null,null,null,null,null,null,null,null,null,null,null,null,null,null,null,null,null,null,null,null,null,null,null,null,null,7611756512.807496,4178176306.7263317,4312927454.373167,4332848330.389072,4594050189.736519,3799221109.737214,3317944029.424063,1708498562.2854955,3148231003.828325,1995273183.623778,3008633059.2620745,3363646629.8156095,3604079867.2003403,6511863796.643802,null,null,null,null,null,null,null,null,null,null,null,null,null,null,null,null,null,null,null,null,null,null,null,null,null,null,null,null,null,null,null,null,null,null,null,null,null,null,null,null,null,null,null,null,null,null,null,null,null,null,null,null,null,null,null,null],\"type\":\"scatter\",\"xaxis\":\"x8\",\"yaxis\":\"y8\"}],                        {\"template\":{\"data\":{\"barpolar\":[{\"marker\":{\"line\":{\"color\":\"white\",\"width\":0.5},\"pattern\":{\"fillmode\":\"overlay\",\"size\":10,\"solidity\":0.2}},\"type\":\"barpolar\"}],\"bar\":[{\"error_x\":{\"color\":\"#2a3f5f\"},\"error_y\":{\"color\":\"#2a3f5f\"},\"marker\":{\"line\":{\"color\":\"white\",\"width\":0.5},\"pattern\":{\"fillmode\":\"overlay\",\"size\":10,\"solidity\":0.2}},\"type\":\"bar\"}],\"carpet\":[{\"aaxis\":{\"endlinecolor\":\"#2a3f5f\",\"gridcolor\":\"#C8D4E3\",\"linecolor\":\"#C8D4E3\",\"minorgridcolor\":\"#C8D4E3\",\"startlinecolor\":\"#2a3f5f\"},\"baxis\":{\"endlinecolor\":\"#2a3f5f\",\"gridcolor\":\"#C8D4E3\",\"linecolor\":\"#C8D4E3\",\"minorgridcolor\":\"#C8D4E3\",\"startlinecolor\":\"#2a3f5f\"},\"type\":\"carpet\"}],\"choropleth\":[{\"colorbar\":{\"outlinewidth\":0,\"ticks\":\"\"},\"type\":\"choropleth\"}],\"contourcarpet\":[{\"colorbar\":{\"outlinewidth\":0,\"ticks\":\"\"},\"type\":\"contourcarpet\"}],\"contour\":[{\"colorbar\":{\"outlinewidth\":0,\"ticks\":\"\"},\"colorscale\":[[0.0,\"#0d0887\"],[0.1111111111111111,\"#46039f\"],[0.2222222222222222,\"#7201a8\"],[0.3333333333333333,\"#9c179e\"],[0.4444444444444444,\"#bd3786\"],[0.5555555555555556,\"#d8576b\"],[0.6666666666666666,\"#ed7953\"],[0.7777777777777778,\"#fb9f3a\"],[0.8888888888888888,\"#fdca26\"],[1.0,\"#f0f921\"]],\"type\":\"contour\"}],\"heatmapgl\":[{\"colorbar\":{\"outlinewidth\":0,\"ticks\":\"\"},\"colorscale\":[[0.0,\"#0d0887\"],[0.1111111111111111,\"#46039f\"],[0.2222222222222222,\"#7201a8\"],[0.3333333333333333,\"#9c179e\"],[0.4444444444444444,\"#bd3786\"],[0.5555555555555556,\"#d8576b\"],[0.6666666666666666,\"#ed7953\"],[0.7777777777777778,\"#fb9f3a\"],[0.8888888888888888,\"#fdca26\"],[1.0,\"#f0f921\"]],\"type\":\"heatmapgl\"}],\"heatmap\":[{\"colorbar\":{\"outlinewidth\":0,\"ticks\":\"\"},\"colorscale\":[[0.0,\"#0d0887\"],[0.1111111111111111,\"#46039f\"],[0.2222222222222222,\"#7201a8\"],[0.3333333333333333,\"#9c179e\"],[0.4444444444444444,\"#bd3786\"],[0.5555555555555556,\"#d8576b\"],[0.6666666666666666,\"#ed7953\"],[0.7777777777777778,\"#fb9f3a\"],[0.8888888888888888,\"#fdca26\"],[1.0,\"#f0f921\"]],\"type\":\"heatmap\"}],\"histogram2dcontour\":[{\"colorbar\":{\"outlinewidth\":0,\"ticks\":\"\"},\"colorscale\":[[0.0,\"#0d0887\"],[0.1111111111111111,\"#46039f\"],[0.2222222222222222,\"#7201a8\"],[0.3333333333333333,\"#9c179e\"],[0.4444444444444444,\"#bd3786\"],[0.5555555555555556,\"#d8576b\"],[0.6666666666666666,\"#ed7953\"],[0.7777777777777778,\"#fb9f3a\"],[0.8888888888888888,\"#fdca26\"],[1.0,\"#f0f921\"]],\"type\":\"histogram2dcontour\"}],\"histogram2d\":[{\"colorbar\":{\"outlinewidth\":0,\"ticks\":\"\"},\"colorscale\":[[0.0,\"#0d0887\"],[0.1111111111111111,\"#46039f\"],[0.2222222222222222,\"#7201a8\"],[0.3333333333333333,\"#9c179e\"],[0.4444444444444444,\"#bd3786\"],[0.5555555555555556,\"#d8576b\"],[0.6666666666666666,\"#ed7953\"],[0.7777777777777778,\"#fb9f3a\"],[0.8888888888888888,\"#fdca26\"],[1.0,\"#f0f921\"]],\"type\":\"histogram2d\"}],\"histogram\":[{\"marker\":{\"pattern\":{\"fillmode\":\"overlay\",\"size\":10,\"solidity\":0.2}},\"type\":\"histogram\"}],\"mesh3d\":[{\"colorbar\":{\"outlinewidth\":0,\"ticks\":\"\"},\"type\":\"mesh3d\"}],\"parcoords\":[{\"line\":{\"colorbar\":{\"outlinewidth\":0,\"ticks\":\"\"}},\"type\":\"parcoords\"}],\"pie\":[{\"automargin\":true,\"type\":\"pie\"}],\"scatter3d\":[{\"line\":{\"colorbar\":{\"outlinewidth\":0,\"ticks\":\"\"}},\"marker\":{\"colorbar\":{\"outlinewidth\":0,\"ticks\":\"\"}},\"type\":\"scatter3d\"}],\"scattercarpet\":[{\"marker\":{\"colorbar\":{\"outlinewidth\":0,\"ticks\":\"\"}},\"type\":\"scattercarpet\"}],\"scattergeo\":[{\"marker\":{\"colorbar\":{\"outlinewidth\":0,\"ticks\":\"\"}},\"type\":\"scattergeo\"}],\"scattergl\":[{\"marker\":{\"colorbar\":{\"outlinewidth\":0,\"ticks\":\"\"}},\"type\":\"scattergl\"}],\"scattermapbox\":[{\"marker\":{\"colorbar\":{\"outlinewidth\":0,\"ticks\":\"\"}},\"type\":\"scattermapbox\"}],\"scatterpolargl\":[{\"marker\":{\"colorbar\":{\"outlinewidth\":0,\"ticks\":\"\"}},\"type\":\"scatterpolargl\"}],\"scatterpolar\":[{\"marker\":{\"colorbar\":{\"outlinewidth\":0,\"ticks\":\"\"}},\"type\":\"scatterpolar\"}],\"scatter\":[{\"fillpattern\":{\"fillmode\":\"overlay\",\"size\":10,\"solidity\":0.2},\"type\":\"scatter\"}],\"scatterternary\":[{\"marker\":{\"colorbar\":{\"outlinewidth\":0,\"ticks\":\"\"}},\"type\":\"scatterternary\"}],\"surface\":[{\"colorbar\":{\"outlinewidth\":0,\"ticks\":\"\"},\"colorscale\":[[0.0,\"#0d0887\"],[0.1111111111111111,\"#46039f\"],[0.2222222222222222,\"#7201a8\"],[0.3333333333333333,\"#9c179e\"],[0.4444444444444444,\"#bd3786\"],[0.5555555555555556,\"#d8576b\"],[0.6666666666666666,\"#ed7953\"],[0.7777777777777778,\"#fb9f3a\"],[0.8888888888888888,\"#fdca26\"],[1.0,\"#f0f921\"]],\"type\":\"surface\"}],\"table\":[{\"cells\":{\"fill\":{\"color\":\"#EBF0F8\"},\"line\":{\"color\":\"white\"}},\"header\":{\"fill\":{\"color\":\"#C8D4E3\"},\"line\":{\"color\":\"white\"}},\"type\":\"table\"}]},\"layout\":{\"annotationdefaults\":{\"arrowcolor\":\"#2a3f5f\",\"arrowhead\":0,\"arrowwidth\":1},\"autotypenumbers\":\"strict\",\"coloraxis\":{\"colorbar\":{\"outlinewidth\":0,\"ticks\":\"\"}},\"colorscale\":{\"diverging\":[[0,\"#8e0152\"],[0.1,\"#c51b7d\"],[0.2,\"#de77ae\"],[0.3,\"#f1b6da\"],[0.4,\"#fde0ef\"],[0.5,\"#f7f7f7\"],[0.6,\"#e6f5d0\"],[0.7,\"#b8e186\"],[0.8,\"#7fbc41\"],[0.9,\"#4d9221\"],[1,\"#276419\"]],\"sequential\":[[0.0,\"#0d0887\"],[0.1111111111111111,\"#46039f\"],[0.2222222222222222,\"#7201a8\"],[0.3333333333333333,\"#9c179e\"],[0.4444444444444444,\"#bd3786\"],[0.5555555555555556,\"#d8576b\"],[0.6666666666666666,\"#ed7953\"],[0.7777777777777778,\"#fb9f3a\"],[0.8888888888888888,\"#fdca26\"],[1.0,\"#f0f921\"]],\"sequentialminus\":[[0.0,\"#0d0887\"],[0.1111111111111111,\"#46039f\"],[0.2222222222222222,\"#7201a8\"],[0.3333333333333333,\"#9c179e\"],[0.4444444444444444,\"#bd3786\"],[0.5555555555555556,\"#d8576b\"],[0.6666666666666666,\"#ed7953\"],[0.7777777777777778,\"#fb9f3a\"],[0.8888888888888888,\"#fdca26\"],[1.0,\"#f0f921\"]]},\"colorway\":[\"#636efa\",\"#EF553B\",\"#00cc96\",\"#ab63fa\",\"#FFA15A\",\"#19d3f3\",\"#FF6692\",\"#B6E880\",\"#FF97FF\",\"#FECB52\"],\"font\":{\"color\":\"#2a3f5f\"},\"geo\":{\"bgcolor\":\"white\",\"lakecolor\":\"white\",\"landcolor\":\"white\",\"showlakes\":true,\"showland\":true,\"subunitcolor\":\"#C8D4E3\"},\"hoverlabel\":{\"align\":\"left\"},\"hovermode\":\"closest\",\"mapbox\":{\"style\":\"light\"},\"paper_bgcolor\":\"white\",\"plot_bgcolor\":\"white\",\"polar\":{\"angularaxis\":{\"gridcolor\":\"#EBF0F8\",\"linecolor\":\"#EBF0F8\",\"ticks\":\"\"},\"bgcolor\":\"white\",\"radialaxis\":{\"gridcolor\":\"#EBF0F8\",\"linecolor\":\"#EBF0F8\",\"ticks\":\"\"}},\"scene\":{\"xaxis\":{\"backgroundcolor\":\"white\",\"gridcolor\":\"#DFE8F3\",\"gridwidth\":2,\"linecolor\":\"#EBF0F8\",\"showbackground\":true,\"ticks\":\"\",\"zerolinecolor\":\"#EBF0F8\"},\"yaxis\":{\"backgroundcolor\":\"white\",\"gridcolor\":\"#DFE8F3\",\"gridwidth\":2,\"linecolor\":\"#EBF0F8\",\"showbackground\":true,\"ticks\":\"\",\"zerolinecolor\":\"#EBF0F8\"},\"zaxis\":{\"backgroundcolor\":\"white\",\"gridcolor\":\"#DFE8F3\",\"gridwidth\":2,\"linecolor\":\"#EBF0F8\",\"showbackground\":true,\"ticks\":\"\",\"zerolinecolor\":\"#EBF0F8\"}},\"shapedefaults\":{\"line\":{\"color\":\"#2a3f5f\"}},\"ternary\":{\"aaxis\":{\"gridcolor\":\"#DFE8F3\",\"linecolor\":\"#A2B1C6\",\"ticks\":\"\"},\"baxis\":{\"gridcolor\":\"#DFE8F3\",\"linecolor\":\"#A2B1C6\",\"ticks\":\"\"},\"bgcolor\":\"white\",\"caxis\":{\"gridcolor\":\"#DFE8F3\",\"linecolor\":\"#A2B1C6\",\"ticks\":\"\"}},\"title\":{\"x\":0.05},\"xaxis\":{\"automargin\":true,\"gridcolor\":\"#EBF0F8\",\"linecolor\":\"#EBF0F8\",\"ticks\":\"\",\"title\":{\"standoff\":15},\"zerolinecolor\":\"#EBF0F8\",\"zerolinewidth\":2},\"yaxis\":{\"automargin\":true,\"gridcolor\":\"#EBF0F8\",\"linecolor\":\"#EBF0F8\",\"ticks\":\"\",\"title\":{\"standoff\":15},\"zerolinecolor\":\"#EBF0F8\",\"zerolinewidth\":2}}},\"xaxis\":{\"anchor\":\"y\",\"domain\":[0.0,0.46499999999999997],\"showticklabels\":true,\"visible\":true},\"yaxis\":{\"anchor\":\"x\",\"domain\":[0.8625,1.0]},\"xaxis2\":{\"anchor\":\"y2\",\"domain\":[0.5349999999999999,0.9999999999999999],\"showticklabels\":true,\"visible\":true},\"yaxis2\":{\"anchor\":\"x2\",\"domain\":[0.8625,1.0]},\"xaxis3\":{\"anchor\":\"y3\",\"domain\":[0.0,0.46499999999999997],\"showticklabels\":true,\"visible\":true},\"yaxis3\":{\"anchor\":\"x3\",\"domain\":[0.575,0.7124999999999999]},\"xaxis4\":{\"anchor\":\"y4\",\"domain\":[0.5349999999999999,0.9999999999999999],\"showticklabels\":true,\"visible\":true},\"yaxis4\":{\"anchor\":\"x4\",\"domain\":[0.575,0.7124999999999999]},\"xaxis5\":{\"anchor\":\"y5\",\"domain\":[0.0,0.46499999999999997],\"showticklabels\":true,\"visible\":true},\"yaxis5\":{\"anchor\":\"x5\",\"domain\":[0.2875,0.425]},\"xaxis6\":{\"anchor\":\"y6\",\"domain\":[0.5349999999999999,0.9999999999999999],\"showticklabels\":true,\"visible\":true},\"yaxis6\":{\"anchor\":\"x6\",\"domain\":[0.2875,0.425]},\"xaxis7\":{\"anchor\":\"y7\",\"domain\":[0.0,0.46499999999999997],\"showticklabels\":true,\"visible\":true},\"yaxis7\":{\"anchor\":\"x7\",\"domain\":[0.0,0.1375]},\"xaxis8\":{\"anchor\":\"y8\",\"domain\":[0.5349999999999999,0.9999999999999999],\"showticklabels\":true,\"visible\":true},\"yaxis8\":{\"anchor\":\"x8\",\"domain\":[0.0,0.1375]},\"annotations\":[{\"font\":{\"size\":10},\"showarrow\":false,\"text\":\"unique_id=l\",\"x\":0.23249999999999998,\"xanchor\":\"center\",\"xref\":\"paper\",\"y\":1.0,\"yanchor\":\"bottom\",\"yref\":\"paper\"},{\"font\":{\"size\":10},\"showarrow\":false,\"text\":\"unique_id=k\",\"x\":0.7674999999999998,\"xanchor\":\"center\",\"xref\":\"paper\",\"y\":1.0,\"yanchor\":\"bottom\",\"yref\":\"paper\"},{\"font\":{\"size\":10},\"showarrow\":false,\"text\":\"unique_id=w\",\"x\":0.23249999999999998,\"xanchor\":\"center\",\"xref\":\"paper\",\"y\":0.7124999999999999,\"yanchor\":\"bottom\",\"yref\":\"paper\"},{\"font\":{\"size\":10},\"showarrow\":false,\"text\":\"unique_id=o\",\"x\":0.7674999999999998,\"xanchor\":\"center\",\"xref\":\"paper\",\"y\":0.7124999999999999,\"yanchor\":\"bottom\",\"yref\":\"paper\"},{\"font\":{\"size\":10},\"showarrow\":false,\"text\":\"unique_id=u\",\"x\":0.23249999999999998,\"xanchor\":\"center\",\"xref\":\"paper\",\"y\":0.425,\"yanchor\":\"bottom\",\"yref\":\"paper\"},{\"font\":{\"size\":10},\"showarrow\":false,\"text\":\"unique_id=b\",\"x\":0.7674999999999998,\"xanchor\":\"center\",\"xref\":\"paper\",\"y\":0.425,\"yanchor\":\"bottom\",\"yref\":\"paper\"},{\"font\":{\"size\":10},\"showarrow\":false,\"text\":\"unique_id=n\",\"x\":0.23249999999999998,\"xanchor\":\"center\",\"xref\":\"paper\",\"y\":0.1375,\"yanchor\":\"bottom\",\"yref\":\"paper\"},{\"font\":{\"size\":10},\"showarrow\":false,\"text\":\"unique_id=x\",\"x\":0.7674999999999998,\"xanchor\":\"center\",\"xref\":\"paper\",\"y\":0.1375,\"yanchor\":\"bottom\",\"yref\":\"paper\"},{\"font\":{\"size\":10},\"showarrow\":false,\"text\":\"Time [ds]\",\"x\":0.5,\"xanchor\":\"center\",\"xref\":\"paper\",\"y\":0,\"yanchor\":\"top\",\"yref\":\"paper\",\"yshift\":-30},{\"font\":{\"size\":10},\"showarrow\":false,\"text\":\"Target [y]\",\"textangle\":-90,\"x\":0,\"xanchor\":\"right\",\"xref\":\"paper\",\"xshift\":-40,\"y\":0.5,\"yanchor\":\"middle\",\"yref\":\"paper\"}],\"margin\":{\"l\":60,\"r\":10,\"t\":20,\"b\":50},\"font\":{\"size\":10},\"autosize\":true,\"height\":800},                        {\"responsive\": true}                    ).then(function(){\n",
              "                            \n",
              "var gd = document.getElementById('3bfb17d2-1be2-4ad2-b95e-442f4109f0a4');\n",
              "var x = new MutationObserver(function (mutations, observer) {{\n",
              "        var display = window.getComputedStyle(gd).display;\n",
              "        if (!display || display === 'none') {{\n",
              "            console.log([gd, 'removed!']);\n",
              "            Plotly.purge(gd);\n",
              "            observer.disconnect();\n",
              "        }}\n",
              "}});\n",
              "\n",
              "// Listen for the removal of the full notebook cells\n",
              "var notebookContainer = gd.closest('#notebook-container');\n",
              "if (notebookContainer) {{\n",
              "    x.observe(notebookContainer, {childList: true});\n",
              "}}\n",
              "\n",
              "// Listen for the clearing of the current output cell\n",
              "var outputEl = gd.closest('.output');\n",
              "if (outputEl) {{\n",
              "    x.observe(outputEl, {childList: true});\n",
              "}}\n",
              "\n",
              "                        })                };                            </script>        </div>\n",
              "</body>\n",
              "</html>"
            ]
          },
          "metadata": {}
        }
      ]
    },
    {
      "cell_type": "code",
      "source": [
        "forecasts.drop(\"ds\",axis=1).groupby('unique_id').mean().transpose()[['a']]"
      ],
      "metadata": {
        "colab": {
          "base_uri": "https://localhost:8080/",
          "height": 269
        },
        "id": "yRHgIgi_dhMA",
        "outputId": "38f719c2-c2ce-4ec9-da7f-00e1f59abbbf"
      },
      "execution_count": 55,
      "outputs": [
        {
          "output_type": "execute_result",
          "data": {
            "text/plain": [
              "unique_id                       a\n",
              "AutoARIMA            2.308173e+07\n",
              "AutoARIMA-lo-80      1.830871e+07\n",
              "AutoARIMA-hi-80      2.785474e+07\n",
              "y                    2.454313e+07\n",
              "LGBMRegressor        2.134053e+07\n",
              "LGBMRegressor-lo-80  1.207997e+07\n",
              "LGBMRegressor-hi-80  3.060109e+07"
            ],
            "text/html": [
              "<div>\n",
              "<style scoped>\n",
              "    .dataframe tbody tr th:only-of-type {\n",
              "        vertical-align: middle;\n",
              "    }\n",
              "\n",
              "    .dataframe tbody tr th {\n",
              "        vertical-align: top;\n",
              "    }\n",
              "\n",
              "    .dataframe thead th {\n",
              "        text-align: right;\n",
              "    }\n",
              "</style>\n",
              "<table border=\"1\" class=\"dataframe\">\n",
              "  <thead>\n",
              "    <tr style=\"text-align: right;\">\n",
              "      <th>unique_id</th>\n",
              "      <th>a</th>\n",
              "    </tr>\n",
              "  </thead>\n",
              "  <tbody>\n",
              "    <tr>\n",
              "      <th>AutoARIMA</th>\n",
              "      <td>2.308173e+07</td>\n",
              "    </tr>\n",
              "    <tr>\n",
              "      <th>AutoARIMA-lo-80</th>\n",
              "      <td>1.830871e+07</td>\n",
              "    </tr>\n",
              "    <tr>\n",
              "      <th>AutoARIMA-hi-80</th>\n",
              "      <td>2.785474e+07</td>\n",
              "    </tr>\n",
              "    <tr>\n",
              "      <th>y</th>\n",
              "      <td>2.454313e+07</td>\n",
              "    </tr>\n",
              "    <tr>\n",
              "      <th>LGBMRegressor</th>\n",
              "      <td>2.134053e+07</td>\n",
              "    </tr>\n",
              "    <tr>\n",
              "      <th>LGBMRegressor-lo-80</th>\n",
              "      <td>1.207997e+07</td>\n",
              "    </tr>\n",
              "    <tr>\n",
              "      <th>LGBMRegressor-hi-80</th>\n",
              "      <td>3.060109e+07</td>\n",
              "    </tr>\n",
              "  </tbody>\n",
              "</table>\n",
              "</div>"
            ]
          },
          "metadata": {},
          "execution_count": 55
        }
      ]
    },
    {
      "cell_type": "markdown",
      "source": [
        "## d. Evaluate"
      ],
      "metadata": {
        "id": "8RahmtkEGLL2"
      }
    },
    {
      "cell_type": "code",
      "source": [
        "metric = [\n",
        "    #mae,\n",
        "    rmse,\n",
        "    #mape\n",
        "]"
      ],
      "metadata": {
        "id": "dqv-TAycFkk5"
      },
      "execution_count": 56,
      "outputs": []
    },
    {
      "cell_type": "code",
      "source": [
        "eval_ml = evaluate(\n",
        "    forecasts,\n",
        "    metrics=metric,\n",
        ")\n",
        "print(eval_ml[['AutoARIMA','LGBMRegressor']].sum())\n",
        "eval_ml"
      ],
      "metadata": {
        "colab": {
          "base_uri": "https://localhost:8080/",
          "height": 854
        },
        "id": "T8xVtmLTF33O",
        "outputId": "9b6639ee-78d1-4be9-e4f2-3b21503aa281"
      },
      "execution_count": 59,
      "outputs": [
        {
          "output_type": "stream",
          "name": "stdout",
          "text": [
            "AutoARIMA        4.052777e+09\n",
            "LGBMRegressor    2.474605e+09\n",
            "dtype: float64\n"
          ]
        },
        {
          "output_type": "execute_result",
          "data": {
            "text/plain": [
              "   unique_id metric     AutoARIMA  LGBMRegressor\n",
              "0          a   rmse  5.190184e+06   5.618922e+06\n",
              "1          b   rmse  1.285807e+07   8.629575e+05\n",
              "2          c   rmse  6.352523e+07   6.759212e+07\n",
              "3          d   rmse  8.066515e+07   4.571190e+07\n",
              "4          e   rmse  1.940487e+07   1.088282e+07\n",
              "5          f   rmse  2.174351e+06   2.843759e+06\n",
              "6          g   rmse  3.579682e+08   4.220216e+08\n",
              "7          h   rmse  1.283906e+07   2.324341e+07\n",
              "8          i   rmse  5.293781e+06   3.680445e+06\n",
              "9          j   rmse  9.993010e+08   2.300145e+07\n",
              "10         k   rmse  2.034200e+08   4.546837e+08\n",
              "11         l   rmse  1.369869e+06   2.397720e+06\n",
              "12         m   rmse  1.007077e+07   9.561261e+06\n",
              "13         n   rmse  1.365197e+06   1.659208e+06\n",
              "14         o   rmse  2.829769e+07   8.818830e+06\n",
              "15         p   rmse  3.627992e+07   2.551493e+07\n",
              "16         q   rmse  7.129487e+07   1.910904e+07\n",
              "17         r   rmse  6.254195e+07   8.848491e+07\n",
              "18         s   rmse  1.941773e+05   1.259070e+05\n",
              "19         t   rmse  1.096384e+07   1.479374e+07\n",
              "20         u   rmse  2.626067e+05   2.864962e+05\n",
              "21         v   rmse  2.518804e+05   3.790233e+05\n",
              "22         w   rmse  8.099596e+07   8.337941e+07\n",
              "23         x   rmse  1.986249e+09   1.159951e+09"
            ],
            "text/html": [
              "<div>\n",
              "<style scoped>\n",
              "    .dataframe tbody tr th:only-of-type {\n",
              "        vertical-align: middle;\n",
              "    }\n",
              "\n",
              "    .dataframe tbody tr th {\n",
              "        vertical-align: top;\n",
              "    }\n",
              "\n",
              "    .dataframe thead th {\n",
              "        text-align: right;\n",
              "    }\n",
              "</style>\n",
              "<table border=\"1\" class=\"dataframe\">\n",
              "  <thead>\n",
              "    <tr style=\"text-align: right;\">\n",
              "      <th></th>\n",
              "      <th>unique_id</th>\n",
              "      <th>metric</th>\n",
              "      <th>AutoARIMA</th>\n",
              "      <th>LGBMRegressor</th>\n",
              "    </tr>\n",
              "  </thead>\n",
              "  <tbody>\n",
              "    <tr>\n",
              "      <th>0</th>\n",
              "      <td>a</td>\n",
              "      <td>rmse</td>\n",
              "      <td>5.190184e+06</td>\n",
              "      <td>5.618922e+06</td>\n",
              "    </tr>\n",
              "    <tr>\n",
              "      <th>1</th>\n",
              "      <td>b</td>\n",
              "      <td>rmse</td>\n",
              "      <td>1.285807e+07</td>\n",
              "      <td>8.629575e+05</td>\n",
              "    </tr>\n",
              "    <tr>\n",
              "      <th>2</th>\n",
              "      <td>c</td>\n",
              "      <td>rmse</td>\n",
              "      <td>6.352523e+07</td>\n",
              "      <td>6.759212e+07</td>\n",
              "    </tr>\n",
              "    <tr>\n",
              "      <th>3</th>\n",
              "      <td>d</td>\n",
              "      <td>rmse</td>\n",
              "      <td>8.066515e+07</td>\n",
              "      <td>4.571190e+07</td>\n",
              "    </tr>\n",
              "    <tr>\n",
              "      <th>4</th>\n",
              "      <td>e</td>\n",
              "      <td>rmse</td>\n",
              "      <td>1.940487e+07</td>\n",
              "      <td>1.088282e+07</td>\n",
              "    </tr>\n",
              "    <tr>\n",
              "      <th>5</th>\n",
              "      <td>f</td>\n",
              "      <td>rmse</td>\n",
              "      <td>2.174351e+06</td>\n",
              "      <td>2.843759e+06</td>\n",
              "    </tr>\n",
              "    <tr>\n",
              "      <th>6</th>\n",
              "      <td>g</td>\n",
              "      <td>rmse</td>\n",
              "      <td>3.579682e+08</td>\n",
              "      <td>4.220216e+08</td>\n",
              "    </tr>\n",
              "    <tr>\n",
              "      <th>7</th>\n",
              "      <td>h</td>\n",
              "      <td>rmse</td>\n",
              "      <td>1.283906e+07</td>\n",
              "      <td>2.324341e+07</td>\n",
              "    </tr>\n",
              "    <tr>\n",
              "      <th>8</th>\n",
              "      <td>i</td>\n",
              "      <td>rmse</td>\n",
              "      <td>5.293781e+06</td>\n",
              "      <td>3.680445e+06</td>\n",
              "    </tr>\n",
              "    <tr>\n",
              "      <th>9</th>\n",
              "      <td>j</td>\n",
              "      <td>rmse</td>\n",
              "      <td>9.993010e+08</td>\n",
              "      <td>2.300145e+07</td>\n",
              "    </tr>\n",
              "    <tr>\n",
              "      <th>10</th>\n",
              "      <td>k</td>\n",
              "      <td>rmse</td>\n",
              "      <td>2.034200e+08</td>\n",
              "      <td>4.546837e+08</td>\n",
              "    </tr>\n",
              "    <tr>\n",
              "      <th>11</th>\n",
              "      <td>l</td>\n",
              "      <td>rmse</td>\n",
              "      <td>1.369869e+06</td>\n",
              "      <td>2.397720e+06</td>\n",
              "    </tr>\n",
              "    <tr>\n",
              "      <th>12</th>\n",
              "      <td>m</td>\n",
              "      <td>rmse</td>\n",
              "      <td>1.007077e+07</td>\n",
              "      <td>9.561261e+06</td>\n",
              "    </tr>\n",
              "    <tr>\n",
              "      <th>13</th>\n",
              "      <td>n</td>\n",
              "      <td>rmse</td>\n",
              "      <td>1.365197e+06</td>\n",
              "      <td>1.659208e+06</td>\n",
              "    </tr>\n",
              "    <tr>\n",
              "      <th>14</th>\n",
              "      <td>o</td>\n",
              "      <td>rmse</td>\n",
              "      <td>2.829769e+07</td>\n",
              "      <td>8.818830e+06</td>\n",
              "    </tr>\n",
              "    <tr>\n",
              "      <th>15</th>\n",
              "      <td>p</td>\n",
              "      <td>rmse</td>\n",
              "      <td>3.627992e+07</td>\n",
              "      <td>2.551493e+07</td>\n",
              "    </tr>\n",
              "    <tr>\n",
              "      <th>16</th>\n",
              "      <td>q</td>\n",
              "      <td>rmse</td>\n",
              "      <td>7.129487e+07</td>\n",
              "      <td>1.910904e+07</td>\n",
              "    </tr>\n",
              "    <tr>\n",
              "      <th>17</th>\n",
              "      <td>r</td>\n",
              "      <td>rmse</td>\n",
              "      <td>6.254195e+07</td>\n",
              "      <td>8.848491e+07</td>\n",
              "    </tr>\n",
              "    <tr>\n",
              "      <th>18</th>\n",
              "      <td>s</td>\n",
              "      <td>rmse</td>\n",
              "      <td>1.941773e+05</td>\n",
              "      <td>1.259070e+05</td>\n",
              "    </tr>\n",
              "    <tr>\n",
              "      <th>19</th>\n",
              "      <td>t</td>\n",
              "      <td>rmse</td>\n",
              "      <td>1.096384e+07</td>\n",
              "      <td>1.479374e+07</td>\n",
              "    </tr>\n",
              "    <tr>\n",
              "      <th>20</th>\n",
              "      <td>u</td>\n",
              "      <td>rmse</td>\n",
              "      <td>2.626067e+05</td>\n",
              "      <td>2.864962e+05</td>\n",
              "    </tr>\n",
              "    <tr>\n",
              "      <th>21</th>\n",
              "      <td>v</td>\n",
              "      <td>rmse</td>\n",
              "      <td>2.518804e+05</td>\n",
              "      <td>3.790233e+05</td>\n",
              "    </tr>\n",
              "    <tr>\n",
              "      <th>22</th>\n",
              "      <td>w</td>\n",
              "      <td>rmse</td>\n",
              "      <td>8.099596e+07</td>\n",
              "      <td>8.337941e+07</td>\n",
              "    </tr>\n",
              "    <tr>\n",
              "      <th>23</th>\n",
              "      <td>x</td>\n",
              "      <td>rmse</td>\n",
              "      <td>1.986249e+09</td>\n",
              "      <td>1.159951e+09</td>\n",
              "    </tr>\n",
              "  </tbody>\n",
              "</table>\n",
              "</div>"
            ]
          },
          "metadata": {},
          "execution_count": 59
        }
      ]
    },
    {
      "cell_type": "code",
      "source": [
        "eval_ml.to_excel('eval_ml.xlsx')"
      ],
      "metadata": {
        "id": "iepXUvcsGKuE"
      },
      "execution_count": null,
      "outputs": []
    },
    {
      "cell_type": "markdown",
      "source": [
        "## e. Cross Validation"
      ],
      "metadata": {
        "id": "6DfvgdKmG5uS"
      }
    },
    {
      "cell_type": "code",
      "source": [
        "best_params = {\n",
        "    **fixed_params,\n",
        "    **study.best_params,\n",
        "}\n",
        "\n",
        "cv = LightGBMCV(\n",
        "    **feature_config,\n",
        "    num_threads=4,\n",
        ")\n",
        "\n",
        "cv_hist = cv.fit(\n",
        "    train,\n",
        "    n_windows=5,\n",
        "    h=7,\n",
        "    params={**best_params},\n",
        "    early_stopping_evals = 2,\n",
        "    early_stopping_pct = 0.01,\n",
        "    eval_every = 20,\n",
        "    compute_cv_preds=True,\n",
        "    metric='rmse'\n",
        ")"
      ],
      "metadata": {
        "id": "mQdwnIUJG9kM"
      },
      "execution_count": null,
      "outputs": []
    },
    {
      "cell_type": "code",
      "source": [
        "cv.cv_preds_"
      ],
      "metadata": {
        "id": "0s9k6YrDLcPJ"
      },
      "execution_count": null,
      "outputs": []
    },
    {
      "cell_type": "markdown",
      "source": [
        "## f. CV Evaluate"
      ],
      "metadata": {
        "id": "xo5H3kNTHBwH"
      }
    },
    {
      "cell_type": "code",
      "source": [
        "metric = [\n",
        "    #mae,\n",
        "    rmse,\n",
        "    #mape\n",
        "]"
      ],
      "metadata": {
        "id": "AHXiiMiYMRW9"
      },
      "execution_count": null,
      "outputs": []
    },
    {
      "cell_type": "code",
      "source": [
        "def evaluate_cross_validation(df, metric):\n",
        "    models = cv.cv_preds_.drop(columns=['unique_id', 'ds', 'window', 'y']).columns.tolist()\n",
        "    evals = []\n",
        "    # Calculate loss for every unique_id and cutoff.\n",
        "    for window in cv.cv_preds_['window'].unique():\n",
        "        eval_ = evaluate(cv.cv_preds_[cv.cv_preds_['window'] == window], metrics=[metric], models=models)\n",
        "        evals.append(eval_)\n",
        "    evals = pd.concat(evals)\n",
        "    evals = evals.groupby('unique_id').mean(numeric_only=True) # Averages the error metrics for all cutoffs for every combination of model and unique_id\n",
        "    evals['best_model'] = evals.idxmin(axis=1)\n",
        "    return evals\n"
      ],
      "metadata": {
        "id": "3lbBMZUcHIYF"
      },
      "execution_count": null,
      "outputs": []
    },
    {
      "cell_type": "code",
      "source": [
        "lgbmcv_cv = evaluate_cross_validation(cv.cv_preds_.reset_index(), mape)\n",
        "\n",
        "lgbmcv_cv"
      ],
      "metadata": {
        "id": "pZH9DGp8GqW4"
      },
      "execution_count": null,
      "outputs": []
    }
  ]
}